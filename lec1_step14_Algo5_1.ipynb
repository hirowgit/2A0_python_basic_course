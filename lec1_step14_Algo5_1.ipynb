{
 "cells": [
  {
   "cell_type": "code",
   "execution_count": 47,
   "id": "747e48c3-f6c7-48e8-81bf-2eb0dfda2fae",
   "metadata": {},
   "outputs": [],
   "source": [
    "## Python basics for novice data scientists, supported by Wagatsuma Lab@Kyutech \n",
    "#\n",
    "# The MIT License (MIT): Copyright (c) 2024 Hiroaki Wagatsuma and Wagatsuma Lab@Kyutech\n",
    "# \n",
    "# Permission is hereby granted, free of charge, to any person obtaining a copy of this software and associated documentation files (the \"Software\"), to deal in the Software without restriction, including without limitation the rights to use, copy, modify, merge, publish, distribute, sublicense, and/or sell copies of the Software, and to permit persons to whom the Software is furnished to do so, subject to the following conditions:\n",
    "# The above copyright notice and this permission notice shall be included in all copies or substantial portions of the Software.\n",
    "# THE SOFTWARE IS PROVIDED \"AS IS\", WITHOUT WARRANTY OF ANY KIND, EXPRESS OR IMPLIED, INCLUDING BUT NOT LIMITED TO THE WARRANTIES OF MERCHANTABILITY, FITNESS FOR A PARTICULAR PURPOSE AND NONINFRINGEMENT. IN NO EVENT SHALL THE AUTHORS OR COPYRIGHT HOLDERS BE LIABLE FOR ANY CLAIM, DAMAGES OR OTHER LIABILITY, WHETHER IN AN ACTION OF CONTRACT, TORT OR OTHERWISE, ARISING FROM, OUT OF OR IN CONNECTION WITH THE SOFTWARE OR THE USE OR OTHER DEALINGS IN THE SOFTWARE. */\n",
    "#\n",
    "# # @Time    : 2024-11-17 \n",
    "# # @Author  : Hiroaki Wagatsuma\n",
    "# # @Site    : https://github.com/hirowgit/2A_python_basic_course\n",
    "# # @IDE     : Python 3.9\n",
    "# # @File    : lec1_step9.py "
   ]
  },
  {
   "cell_type": "code",
   "execution_count": 2,
   "id": "81526569-129c-4e46-9905-2a8c138a96c3",
   "metadata": {},
   "outputs": [],
   "source": [
    "# module test: if you have an error when you run this code, \n",
    "# you need to check the installation status of those modules\n",
    "\n",
    "import math \n",
    "import sys \n",
    "import os\n",
    "import numpy as np\n",
    "import pandas as pd\n",
    "import matplotlib.pyplot as plt\n",
    "import matplotlib.patches as patch\n",
    "import matplotlib.cm as cm\n",
    "import matplotlib as mp\n",
    "import tkinter as tk\n",
    "\n",
    "from pytictoc import TicToc "
   ]
  },
  {
   "cell_type": "code",
   "execution_count": 13,
   "id": "9f0e2ab2-b5b6-42a0-9426-5f9f45dd2b97",
   "metadata": {},
   "outputs": [],
   "source": [
    "hM=np.empty(5, dtype = object)\n",
    "hM[0]"
   ]
  },
  {
   "cell_type": "code",
   "execution_count": 14,
   "id": "607a00df-ac9a-49c9-a34a-36233ed94892",
   "metadata": {},
   "outputs": [
    {
     "data": {
      "text/plain": [
       "array([array([[5, 0, 3],\n",
       "              [5, 0, 3],\n",
       "              [5, 0, 3]]), array([[0, 0, 0],\n",
       "                                  [4, 0, 3],\n",
       "                                  [0, 0, 0]]), array([[0, 0, 0],\n",
       "                                                      [3, 0, 3],\n",
       "                                                      [0, 0, 0]]),\n",
       "       array([[0, 0, 0],\n",
       "              [2, 0, 3],\n",
       "              [0, 0, 0]]), array([[ 0,  0,  0],\n",
       "                                  [-5, -5, -5],\n",
       "                                  [-5, -5, -5]])], dtype=object)"
      ]
     },
     "execution_count": 14,
     "metadata": {},
     "output_type": "execute_result"
    }
   ],
   "source": [
    "hM[0]=np.array([[5,0,3],[5,0,3],[5,0,3]])\n",
    "hM[1]=np.array([[0,0,0],[4,0,3],[0,0,0]])\n",
    "hM[2]=np.array([[0,0,0],[3,0,3],[0,0,0]])\n",
    "hM[3]=np.array([[0,0,0],[2,0,3],[0,0,0]])\n",
    "hM[4]=np.array([[0,0,0],[-5,-5,-5],[-5,-5,-5]])\n",
    "hM"
   ]
  },
  {
   "cell_type": "code",
   "execution_count": 27,
   "id": "e6e8a762-23ec-466a-8b81-5ba096934db6",
   "metadata": {},
   "outputs": [
    {
     "data": {
      "text/plain": [
       "5"
      ]
     },
     "execution_count": 27,
     "metadata": {},
     "output_type": "execute_result"
    }
   ],
   "source": [
    "len(hM)\n"
   ]
  },
  {
   "cell_type": "code",
   "execution_count": 4,
   "id": "eae80de0-84de-480f-a912-8f0f3f976582",
   "metadata": {},
   "outputs": [],
   "source": [
    "conM=np.array([[1,0,0],[1,1,1],[0,1,0]])\n"
   ]
  },
  {
   "cell_type": "code",
   "execution_count": 52,
   "id": "4a850b5a-4f6c-4c5f-9b84-41af5b1deb8c",
   "metadata": {},
   "outputs": [
    {
     "data": {
      "text/plain": [
       "array([array([[1, 0, 0],\n",
       "              [1, 1, 1],\n",
       "              [0, 1, 0]]), array([[1, 0, 0],\n",
       "                                  [1, 1, 1],\n",
       "                                  [0, 1, 0]]), array([[1, 0, 0],\n",
       "                                                      [1, 1, 1],\n",
       "                                                      [0, 1, 0]]),\n",
       "       array([[1, 0, 0],\n",
       "              [1, 1, 1],\n",
       "              [0, 1, 0]]), None], dtype=object)"
      ]
     },
     "execution_count": 52,
     "metadata": {},
     "output_type": "execute_result"
    }
   ],
   "source": [
    "conM_full=np.empty(5, dtype = object)\n",
    "for i in range(4):\n",
    "    conM_full[i]=conM\n",
    "\n",
    "conM_full"
   ]
  },
  {
   "cell_type": "code",
   "execution_count": 53,
   "id": "7ce120d4-80c6-4c59-8489-cd5f176ff70a",
   "metadata": {},
   "outputs": [
    {
     "data": {
      "text/plain": [
       "array([[5, 5, 5],\n",
       "       [0, 0, 0],\n",
       "       [3, 3, 3]])"
      ]
     },
     "execution_count": 53,
     "metadata": {},
     "output_type": "execute_result"
    }
   ],
   "source": [
    "np.array([[5,0,3],[5,0,3],[5,0,3]]).T"
   ]
  },
  {
   "cell_type": "code",
   "execution_count": 54,
   "id": "ca3c1a14-69f1-4e37-935b-89ed41ff5693",
   "metadata": {},
   "outputs": [],
   "source": [
    "# hM[0]=np.array([[5,0,3],[5,0,3],[5,0,3]]).T\n",
    "# hM[1]=np.array([[0,0,0],[4,0,3],[0,0,0]]).T\n",
    "# hM[2]=np.array([[0,0,0],[3,0,3],[0,0,0]]).T\n",
    "# hM[3]=np.array([[0,0,0],[2,0,3],[0,0,0]]).T\n",
    "# hM[4]=np.array([[0,0,0],[-5,-5,-5],[-5,-5,-5]]).T\n",
    "# hM"
   ]
  },
  {
   "cell_type": "code",
   "execution_count": 55,
   "id": "62bf28bf-8e94-4bab-b569-48f5fbcbb4b6",
   "metadata": {},
   "outputs": [
    {
     "data": {
      "text/plain": [
       "array([[1, 2, 3],\n",
       "       [1, 2, 3],\n",
       "       [1, 2, 3]])"
      ]
     },
     "execution_count": 55,
     "metadata": {},
     "output_type": "execute_result"
    }
   ],
   "source": [
    "np.tile([1,2,3],[3,1])"
   ]
  },
  {
   "cell_type": "code",
   "execution_count": 56,
   "id": "3e581d33-c381-4558-b826-730608e04b96",
   "metadata": {},
   "outputs": [],
   "source": [
    "# F=[0,0,0]"
   ]
  },
  {
   "cell_type": "code",
   "execution_count": 57,
   "id": "140091c7-ceaa-43ff-8415-911c41e51a90",
   "metadata": {},
   "outputs": [
    {
     "data": {
      "text/plain": [
       "array([5, 5, 5])"
      ]
     },
     "execution_count": 57,
     "metadata": {},
     "output_type": "execute_result"
    }
   ],
   "source": [
    "np.max(hM[0],axis=1)\n"
   ]
  },
  {
   "cell_type": "code",
   "execution_count": 15,
   "id": "028e2a0c-3e58-431a-84e6-b13c2e6cf647",
   "metadata": {},
   "outputs": [
    {
     "data": {
      "text/plain": [
       "array([[0, 0, 0],\n",
       "       [4, 0, 3],\n",
       "       [0, 0, 0]])"
      ]
     },
     "execution_count": 15,
     "metadata": {},
     "output_type": "execute_result"
    }
   ],
   "source": [
    "hM[1]"
   ]
  },
  {
   "cell_type": "code",
   "execution_count": 58,
   "id": "6e8c5fec-4660-498a-9765-e42f693870f7",
   "metadata": {},
   "outputs": [
    {
     "data": {
      "text/plain": [
       "array([5, 0, 3])"
      ]
     },
     "execution_count": 58,
     "metadata": {},
     "output_type": "execute_result"
    }
   ],
   "source": [
    "np.max(hM[0],axis=0)\n"
   ]
  },
  {
   "cell_type": "code",
   "execution_count": 59,
   "id": "3cf2ff86-3ffa-4760-a7a0-e4badb601f0e",
   "metadata": {},
   "outputs": [
    {
     "data": {
      "text/plain": [
       "array([[5],\n",
       "       [5],\n",
       "       [5]])"
      ]
     },
     "execution_count": 59,
     "metadata": {},
     "output_type": "execute_result"
    }
   ],
   "source": [
    "np.transpose([np.max(hM[0],axis=1)])"
   ]
  },
  {
   "cell_type": "code",
   "execution_count": 60,
   "id": "3a108e09-c022-40dc-8eec-34944318c2cf",
   "metadata": {},
   "outputs": [],
   "source": [
    "Ft=[0,0,0]"
   ]
  },
  {
   "cell_type": "code",
   "execution_count": 24,
   "id": "5437c8d4-44f0-4876-b9cb-46c55335d7be",
   "metadata": {},
   "outputs": [],
   "source": [
    "Ft=np.array([5, 0, 3])"
   ]
  },
  {
   "cell_type": "code",
   "execution_count": 25,
   "id": "1b55e778-f8e3-4e7d-82f0-6e3cfb9a52c7",
   "metadata": {},
   "outputs": [
    {
     "data": {
      "text/plain": [
       "array([[5, 0, 0],\n",
       "       [4, 0, 3],\n",
       "       [0, 3, 0]])"
      ]
     },
     "execution_count": 25,
     "metadata": {},
     "output_type": "execute_result"
    }
   ],
   "source": [
    "(np.tile(Ft.T,[3,1]).T+hM[1])*conM"
   ]
  },
  {
   "cell_type": "code",
   "execution_count": 26,
   "id": "34debdd3-cae6-4288-807e-e6f9797994fc",
   "metadata": {},
   "outputs": [
    {
     "data": {
      "text/plain": [
       "array([5, 3, 3])"
      ]
     },
     "execution_count": 26,
     "metadata": {},
     "output_type": "execute_result"
    }
   ],
   "source": [
    "np.max((np.tile(Ft.T,[3,1]).T+hM[1])*conM,axis=0)"
   ]
  },
  {
   "cell_type": "code",
   "execution_count": 30,
   "id": "4f59dfe6-ab56-463c-b5af-33fbf1fb0f05",
   "metadata": {},
   "outputs": [
    {
     "name": "stdout",
     "output_type": "stream",
     "text": [
      "[5 0 3]\n",
      "[5 3 3]\n",
      "[6 3 6]\n",
      "[6 6 6]\n",
      "[6 1 1]\n"
     ]
    }
   ],
   "source": [
    "conM1=np.array([[1,0,0],[1,1,1],[0,1,0]])\n",
    "\n",
    "Ft=[0,0,0]\n",
    "for h in hM:\n",
    "    Ft=np.max((np.tile(Ft,[3,1]).T+h)*conM,axis=0)\n",
    "    print(Ft)\n",
    "    "
   ]
  },
  {
   "cell_type": "code",
   "execution_count": 36,
   "id": "c2f6ab93-9b88-4b7d-a29c-0ff1a3129a04",
   "metadata": {},
   "outputs": [
    {
     "data": {
      "text/plain": [
       "array([1, 1, 1, 1, 2], dtype=object)"
      ]
     },
     "execution_count": 36,
     "metadata": {},
     "output_type": "execute_result"
    }
   ],
   "source": [
    "conM=np.empty(len(hM), dtype = object)\n",
    "conM[:-1]=1\n",
    "conM[-1]=2\n",
    "conM"
   ]
  },
  {
   "cell_type": "code",
   "execution_count": 43,
   "id": "1eeb8c37-ae32-4dc0-a7b4-0fb0f219b0e0",
   "metadata": {},
   "outputs": [
    {
     "data": {
      "text/plain": [
       "[array([[1, 0, 0],\n",
       "        [1, 1, 1],\n",
       "        [0, 1, 0]]),\n",
       " array([[1, 0, 0],\n",
       "        [1, 1, 1],\n",
       "        [0, 1, 0]]),\n",
       " array([[1, 0, 0],\n",
       "        [1, 1, 1],\n",
       "        [0, 1, 0]]),\n",
       " array([[1, 0, 0],\n",
       "        [1, 1, 1],\n",
       "        [0, 1, 0]]),\n",
       " array([[1, 0, 0],\n",
       "        [1, 0, 0],\n",
       "        [1, 0, 0]])]"
      ]
     },
     "execution_count": 43,
     "metadata": {},
     "output_type": "execute_result"
    }
   ],
   "source": [
    "conM1=np.array([[1,0,0],[1,1,1],[0,1,0]])\n",
    "conM=[conM1 for i in range(len(hM))]\n",
    "conM[-1]=np.array([[1,0,0],[1,0,0],[1,0,0]])\n",
    "conM"
   ]
  },
  {
   "cell_type": "code",
   "execution_count": 38,
   "id": "39f38f52-7e57-4993-b93d-2dac871df457",
   "metadata": {},
   "outputs": [],
   "source": [
    "conM[-1]=np.array([[1,0,0],[1,1,1],[0,1,0]])\n"
   ]
  },
  {
   "cell_type": "code",
   "execution_count": 56,
   "id": "b308881d-1a36-468a-a56b-82dc376de4ee",
   "metadata": {},
   "outputs": [
    {
     "name": "stdout",
     "output_type": "stream",
     "text": [
      "[5 0 3]\n",
      "[0 0 1]\n",
      "[5 3 3]\n",
      "[0 2 1]\n",
      "[6 3 6]\n",
      "[1 1 1]\n",
      "[6 6 6]\n",
      "[0 2 1]\n",
      "[6 0 0]\n",
      "[0 0 0]\n"
     ]
    }
   ],
   "source": [
    "Ft=[0,0,0]\n",
    "for h,c in zip(hM,conM):\n",
    "    body=(np.tile(Ft,[3,1]).T+h)*c\n",
    "    Ft=np.max(body,axis=0)\n",
    "    iD=np.argmax(body,axis=0)\n",
    "    Ft_full.append(Ft)\n",
    "    iD_full.append(iD)\n",
    "    # print(body)\n",
    "    print(Ft)\n",
    "    print(iD)"
   ]
  },
  {
   "cell_type": "code",
   "execution_count": 144,
   "id": "48394398-d272-469f-9db0-96ec15061e1f",
   "metadata": {},
   "outputs": [
    {
     "data": {
      "text/plain": [
       "[0, 1, 2, 3, 4, 5, 6, 7, 8, 9]"
      ]
     },
     "execution_count": 144,
     "metadata": {},
     "output_type": "execute_result"
    }
   ],
   "source": [
    "sampleList=list(range(10))\n",
    "sampleList"
   ]
  },
  {
   "cell_type": "code",
   "execution_count": 145,
   "id": "f3981e44-cf2a-4b92-bfdc-d7e9f9ff8881",
   "metadata": {},
   "outputs": [
    {
     "data": {
      "text/plain": [
       "[9, 8, 7, 6, 5, 4, 3, 2, 1, 0]"
      ]
     },
     "execution_count": 145,
     "metadata": {},
     "output_type": "execute_result"
    }
   ],
   "source": [
    "sampleList[::-1]"
   ]
  },
  {
   "cell_type": "code",
   "execution_count": 146,
   "id": "45c99ea4-1e3c-4ac0-8f02-46cd2464c18b",
   "metadata": {},
   "outputs": [
    {
     "data": {
      "text/plain": [
       "[8, 7, 6, 5, 4, 3, 2, 1, 0]"
      ]
     },
     "execution_count": 146,
     "metadata": {},
     "output_type": "execute_result"
    }
   ],
   "source": [
    "sampleList[-2::-1]"
   ]
  },
  {
   "cell_type": "code",
   "execution_count": 148,
   "id": "70e137d4-6051-4c4a-8ef6-df0c7173cf88",
   "metadata": {},
   "outputs": [
    {
     "data": {
      "text/plain": [
       "[8, 7, 6, 5, 4]"
      ]
     },
     "execution_count": 148,
     "metadata": {},
     "output_type": "execute_result"
    }
   ],
   "source": [
    "sampleList[-2:3:-1]"
   ]
  },
  {
   "cell_type": "code",
   "execution_count": 149,
   "id": "158cda1a-bd0e-4284-acd6-9c68cf7afbbe",
   "metadata": {},
   "outputs": [
    {
     "data": {
      "text/plain": [
       "[3, 4, 5, 6, 7]"
      ]
     },
     "execution_count": 149,
     "metadata": {},
     "output_type": "execute_result"
    }
   ],
   "source": [
    "sampleList[3:-2:1]"
   ]
  },
  {
   "cell_type": "code",
   "execution_count": 143,
   "id": "33fa6f1b-44fc-4383-9186-257f313efd68",
   "metadata": {},
   "outputs": [
    {
     "data": {
      "text/plain": [
       "[array([[0, 0, 0],\n",
       "        [1, 1, 1],\n",
       "        [0, 0, 0]]),\n",
       " array([[1, 0, 0],\n",
       "        [1, 1, 1],\n",
       "        [0, 1, 0]]),\n",
       " array([[1, 0, 0],\n",
       "        [1, 1, 1],\n",
       "        [0, 1, 0]]),\n",
       " array([[1, 0, 0],\n",
       "        [1, 1, 1],\n",
       "        [0, 1, 0]]),\n",
       " array([[1, 0, 0],\n",
       "        [1, 0, 0],\n",
       "        [1, 0, 0]])]"
      ]
     },
     "metadata": {},
     "output_type": "display_data"
    },
    {
     "name": "stdout",
     "output_type": "stream",
     "text": [
      "~forward~~\n",
      "[1 0 1] [5 0 3]\n",
      "[0 2 1] [5 3 3]\n",
      "[1 1 1] [6 3 6]\n",
      "[0 2 1] [6 6 6]\n",
      "[0 0 0] [6 0 0]\n",
      "~backward~~\n",
      "6\n",
      "6\n",
      "3\n",
      "3\n",
      "0\n",
      "[0, 0, 0, 1, 2, 1] [6, 6, 6, 3, 3, 0]\n",
      "Path = [1, 2, 1, 0, 0, 0]\n",
      "Fval = [0, 3, 3, 6, 6, 6]\n"
     ]
    }
   ],
   "source": [
    "# Algorithm 5.1: completed version of dynamic programming\n",
    "\n",
    "\n",
    "conM1=np.array([[1,0,0],[1,1,1],[0,1,0]])\n",
    "conM=[conM1 for i in range(len(hM))]\n",
    "conM[-1]=np.array([[1,0,0],[1,0,0],[1,0,0]])\n",
    "conM[0]=np.array([[0,0,0],[1,1,1],[0,0,0]])\n",
    "display(conM)\n",
    "print('~forward~~')\n",
    "\n",
    "Ft_full=[]\n",
    "iD_full=[]\n",
    "\n",
    "Ft=[0,0,0]\n",
    "for h,c in zip(hM,conM):\n",
    "    body=(np.tile(Ft,[3,1]).T+h)*c\n",
    "    Ft=np.max(body,axis=0)\n",
    "    iD=np.argmax(body,axis=0)\n",
    "    Ft_full.append(Ft)\n",
    "    iD_full.append(iD)\n",
    "    # print(body)\n",
    "    print(iD,Ft)\n",
    "\n",
    "print('~backward~~')\n",
    "# Ft_full=np.array(Ft_full)\n",
    "# iD_full=np.array(iD_full)\n",
    "# print(Ft_full,iD_full)\n",
    "poslist=[]\n",
    "vallist=[]\n",
    "endNode=np.argmax(Ft)\n",
    "poslist.append(endNode)\n",
    "pre_pos=iD[endNode]\n",
    "vallist.append(np.max(Ft))\n",
    "poslist.append(pre_pos)\n",
    "print(np.max(Ft))\n",
    "for iD,Ft in zip(iD_full[-2::-1],Ft_full[-2::-1]):\n",
    "    vallist.append(Ft[pre_pos])\n",
    "    pre_pos=iD[pre_pos]\n",
    "    poslist.append(pre_pos)\n",
    "    print(Ft[pre_pos])\n",
    "vallist.append(Ft[pre_pos])\n",
    "print(poslist,vallist)\n",
    "\n",
    "Path=poslist[::-1]\n",
    "Valp=vallist[::-1]\n",
    "\n",
    "print(f'Path = {Path}')\n",
    "print(f'max(Ft) = {Valp}')\n",
    "# print('Fval = '+Valp)"
   ]
  },
  {
   "cell_type": "code",
   "execution_count": 20,
   "id": "65eff812-992e-4fb4-a321-9eb950911165",
   "metadata": {},
   "outputs": [
    {
     "data": {
      "text/plain": [
       "array([5, 3, 3])"
      ]
     },
     "execution_count": 20,
     "metadata": {},
     "output_type": "execute_result"
    }
   ],
   "source": [
    "np.max((np.tile(Ft.T,[1,3])+hM[1])*conM,axis=0)"
   ]
  },
  {
   "cell_type": "code",
   "execution_count": 22,
   "id": "f6020788-518d-42fe-9a9c-3a66b3db624f",
   "metadata": {},
   "outputs": [
    {
     "data": {
      "text/plain": [
       "array([5, 3, 3])"
      ]
     },
     "execution_count": 22,
     "metadata": {},
     "output_type": "execute_result"
    }
   ],
   "source": [
    "np.max((np.tile(Ft.T,[1,3])+hM[1])*conM,axis=0)"
   ]
  },
  {
   "cell_type": "code",
   "execution_count": 61,
   "id": "e3758402-2c28-4831-b11c-2420fa4f6d28",
   "metadata": {},
   "outputs": [],
   "source": [
    "# (np.tile(F,[3,1])+hM[0])"
   ]
  },
  {
   "cell_type": "code",
   "execution_count": 62,
   "id": "41035108-0c6f-48c5-b39d-28de43625a9b",
   "metadata": {},
   "outputs": [
    {
     "data": {
      "text/plain": [
       "array([[0, 0, 0]])"
      ]
     },
     "metadata": {},
     "output_type": "display_data"
    },
    {
     "data": {
      "text/plain": [
       "array([[0, 0, 0]])"
      ]
     },
     "metadata": {},
     "output_type": "display_data"
    }
   ],
   "source": [
    "F=np.full((1,3),[0,0,0])\n",
    "iD=np.full((1,3),[0,0,0])\n",
    "display(F)\n",
    "display(iD)"
   ]
  },
  {
   "cell_type": "code",
   "execution_count": 79,
   "id": "32408c61-c1a3-4883-a0cf-253307e8b6b6",
   "metadata": {},
   "outputs": [
    {
     "data": {
      "text/plain": [
       "[0, 0, 0]"
      ]
     },
     "metadata": {},
     "output_type": "display_data"
    },
    {
     "data": {
      "text/plain": [
       "[0, 0, 0]"
      ]
     },
     "metadata": {},
     "output_type": "display_data"
    }
   ],
   "source": [
    "Ft=[0,0,0]\n",
    "iDt=[0,0,0]\n",
    "display(Ft)\n",
    "display(iDt)"
   ]
  },
  {
   "cell_type": "code",
   "execution_count": null,
   "id": "516767b9-2921-423d-920a-1a3e1694e931",
   "metadata": {},
   "outputs": [],
   "source": []
  },
  {
   "cell_type": "code",
   "execution_count": 64,
   "id": "9ccf39ab-7550-49a8-9154-f7a7990f139e",
   "metadata": {},
   "outputs": [
    {
     "data": {
      "text/plain": [
       "array([5, 0, 3])"
      ]
     },
     "metadata": {},
     "output_type": "display_data"
    },
    {
     "data": {
      "text/plain": [
       "array([[0, 0, 0],\n",
       "       [5, 0, 3]])"
      ]
     },
     "metadata": {},
     "output_type": "display_data"
    },
    {
     "data": {
      "text/plain": [
       "array([[0, 0, 0],\n",
       "       [0, 2, 0]])"
      ]
     },
     "metadata": {},
     "output_type": "display_data"
    }
   ],
   "source": [
    "Ft=np.max(conM*np.tile(Ft,[3,1]).T+hM[0],axis=0)\n",
    "iDt=np.argmax(conM*np.tile(Ft,[3,1]).T+hM[0],axis=0)\n",
    "display(Ft)\n",
    "F=np.vstack([F,Ft])\n",
    "iD=np.vstack([iD,iDt])\n",
    "display(F)\n",
    "display(iD)"
   ]
  },
  {
   "cell_type": "code",
   "execution_count": 65,
   "id": "dff9077a-563c-4db1-a9f3-5272728fe8e4",
   "metadata": {},
   "outputs": [
    {
     "data": {
      "text/plain": [
       "array([5, 3, 3])"
      ]
     },
     "metadata": {},
     "output_type": "display_data"
    },
    {
     "data": {
      "text/plain": [
       "array([[0, 0, 0],\n",
       "       [5, 0, 3],\n",
       "       [5, 3, 3]])"
      ]
     },
     "metadata": {},
     "output_type": "display_data"
    },
    {
     "data": {
      "text/plain": [
       "array([[0, 0, 0],\n",
       "       [0, 2, 0],\n",
       "       [0, 1, 1]])"
      ]
     },
     "metadata": {},
     "output_type": "display_data"
    }
   ],
   "source": [
    "Ft=np.max(conM*np.tile(Ft,[3,1]).T+hM[1],axis=0)\n",
    "iDt=np.argmax(conM*np.tile(Ft,[3,1]).T+hM[0],axis=0)\n",
    "display(Ft)\n",
    "F=np.vstack([F,Ft])\n",
    "iD=np.vstack([iD,iDt])\n",
    "display(F)\n",
    "display(iD)"
   ]
  },
  {
   "cell_type": "code",
   "execution_count": 66,
   "id": "8c13c6dc-250c-435e-94ee-fdf6572c1068",
   "metadata": {},
   "outputs": [
    {
     "data": {
      "text/plain": [
       "array([6, 3, 6])"
      ]
     },
     "metadata": {},
     "output_type": "display_data"
    },
    {
     "data": {
      "text/plain": [
       "array([[0, 0, 0],\n",
       "       [5, 0, 3],\n",
       "       [5, 3, 3],\n",
       "       [6, 3, 6]])"
      ]
     },
     "metadata": {},
     "output_type": "display_data"
    },
    {
     "data": {
      "text/plain": [
       "array([[0, 0, 0],\n",
       "       [0, 2, 0],\n",
       "       [0, 1, 1],\n",
       "       [0, 2, 1]])"
      ]
     },
     "metadata": {},
     "output_type": "display_data"
    }
   ],
   "source": [
    "Ft=np.max(conM*np.tile(Ft,[3,1]).T+hM[2],axis=0)\n",
    "iDt=np.argmax(conM*np.tile(Ft,[3,1]).T+hM[0],axis=0)\n",
    "\n",
    "display(Ft)\n",
    "F=np.vstack([F,Ft])\n",
    "iD=np.vstack([iD,iDt])\n",
    "display(F)\n",
    "display(iD)"
   ]
  },
  {
   "cell_type": "code",
   "execution_count": 67,
   "id": "643ef7a0-24c2-48b2-97de-8d14e5a9923c",
   "metadata": {},
   "outputs": [
    {
     "data": {
      "text/plain": [
       "array([6, 6, 6])"
      ]
     },
     "metadata": {},
     "output_type": "display_data"
    },
    {
     "data": {
      "text/plain": [
       "array([[0, 0, 0],\n",
       "       [5, 0, 3],\n",
       "       [5, 3, 3],\n",
       "       [6, 3, 6],\n",
       "       [6, 6, 6]])"
      ]
     },
     "metadata": {},
     "output_type": "display_data"
    },
    {
     "data": {
      "text/plain": [
       "array([[0, 0, 0],\n",
       "       [0, 2, 0],\n",
       "       [0, 1, 1],\n",
       "       [0, 2, 1],\n",
       "       [0, 1, 1]])"
      ]
     },
     "metadata": {},
     "output_type": "display_data"
    }
   ],
   "source": [
    "Ft=np.max(conM*np.tile(Ft,[3,1]).T+hM[3],axis=0)\n",
    "iDt=np.argmax(conM*np.tile(Ft,[3,1]).T+hM[0],axis=0)\n",
    "\n",
    "display(Ft)\n",
    "F=np.vstack([F,Ft])\n",
    "iD=np.vstack([iD,iDt])\n",
    "display(F)\n",
    "display(iD)"
   ]
  },
  {
   "cell_type": "code",
   "execution_count": null,
   "id": "7ca5d06a-fa24-42b1-99a0-d4eba50673ca",
   "metadata": {},
   "outputs": [],
   "source": []
  },
  {
   "cell_type": "code",
   "execution_count": 68,
   "id": "8dc92582-468c-4425-994c-f08458ea5b3f",
   "metadata": {},
   "outputs": [
    {
     "data": {
      "text/plain": [
       "array([11,  6,  9])"
      ]
     },
     "metadata": {},
     "output_type": "display_data"
    },
    {
     "data": {
      "text/plain": [
       "array([[ 0,  0,  0],\n",
       "       [ 5,  0,  3],\n",
       "       [ 5,  3,  3],\n",
       "       [ 6,  3,  6],\n",
       "       [ 6,  6,  6],\n",
       "       [11,  6,  9]])"
      ]
     },
     "metadata": {},
     "output_type": "display_data"
    },
    {
     "data": {
      "text/plain": [
       "array([[0, 0, 0],\n",
       "       [0, 2, 0],\n",
       "       [0, 1, 1],\n",
       "       [0, 2, 1],\n",
       "       [0, 1, 1],\n",
       "       [0, 2, 1]])"
      ]
     },
     "metadata": {},
     "output_type": "display_data"
    }
   ],
   "source": [
    "Ft=np.max(conM*np.tile(Ft,[3,1]).T+hM[0],axis=0)\n",
    "iDt=np.argmax(conM*np.tile(Ft,[3,1]).T+hM[0],axis=0)\n",
    "display(Ft)\n",
    "F=np.vstack([F,Ft])\n",
    "iD=np.vstack([iD,iDt])\n",
    "display(F)\n",
    "display(iD)"
   ]
  },
  {
   "cell_type": "code",
   "execution_count": 69,
   "id": "d260a27c-a71a-4726-afa4-1b80a77c137d",
   "metadata": {},
   "outputs": [
    {
     "data": {
      "text/plain": [
       "array([11,  9,  9])"
      ]
     },
     "metadata": {},
     "output_type": "display_data"
    },
    {
     "data": {
      "text/plain": [
       "array([[ 0,  0,  0],\n",
       "       [ 5,  0,  3],\n",
       "       [ 5,  3,  3],\n",
       "       [ 6,  3,  6],\n",
       "       [ 6,  6,  6],\n",
       "       [11,  6,  9],\n",
       "       [11,  9,  9]])"
      ]
     },
     "metadata": {},
     "output_type": "display_data"
    },
    {
     "data": {
      "text/plain": [
       "array([[0, 0, 0],\n",
       "       [0, 2, 0],\n",
       "       [0, 1, 1],\n",
       "       [0, 2, 1],\n",
       "       [0, 1, 1],\n",
       "       [0, 2, 1],\n",
       "       [1, 1, 1]])"
      ]
     },
     "metadata": {},
     "output_type": "display_data"
    }
   ],
   "source": [
    "Ft=np.max(conM*np.tile(Ft,[3,1]).T+hM[1],axis=0)\n",
    "iDt=np.argmax(conM*np.tile(Ft,[3,1]).T+hM[1],axis=0)\n",
    "display(Ft)\n",
    "F=np.vstack([F,Ft])\n",
    "iD=np.vstack([iD,iDt])\n",
    "display(F)\n",
    "display(iD)"
   ]
  },
  {
   "cell_type": "code",
   "execution_count": 70,
   "id": "d96675ed-e174-41bb-b1fd-99d12fcfc777",
   "metadata": {},
   "outputs": [
    {
     "data": {
      "text/plain": [
       "array([12,  9, 12])"
      ]
     },
     "metadata": {},
     "output_type": "display_data"
    },
    {
     "data": {
      "text/plain": [
       "array([[ 0,  0,  0],\n",
       "       [ 5,  0,  3],\n",
       "       [ 5,  3,  3],\n",
       "       [ 6,  3,  6],\n",
       "       [ 6,  6,  6],\n",
       "       [11,  6,  9],\n",
       "       [11,  9,  9],\n",
       "       [12,  9, 12]])"
      ]
     },
     "metadata": {},
     "output_type": "display_data"
    },
    {
     "data": {
      "text/plain": [
       "array([[0, 0, 0],\n",
       "       [0, 2, 0],\n",
       "       [0, 1, 1],\n",
       "       [0, 2, 1],\n",
       "       [0, 1, 1],\n",
       "       [0, 2, 1],\n",
       "       [1, 1, 1],\n",
       "       [0, 2, 1]])"
      ]
     },
     "metadata": {},
     "output_type": "display_data"
    }
   ],
   "source": [
    "Ft=np.max(conM*np.tile(Ft,[3,1]).T+hM[2],axis=0)\n",
    "iDt=np.argmax(conM*np.tile(Ft,[3,1]).T+hM[2],axis=0)\n",
    "display(Ft)\n",
    "F=np.vstack([F,Ft])\n",
    "iD=np.vstack([iD,iDt])\n",
    "display(F)\n",
    "display(iD)"
   ]
  },
  {
   "cell_type": "code",
   "execution_count": 71,
   "id": "2c37a121-1e65-4d6c-a8d8-1de6286c3f11",
   "metadata": {},
   "outputs": [
    {
     "data": {
      "text/plain": [
       "array([12, 12, 12])"
      ]
     },
     "metadata": {},
     "output_type": "display_data"
    },
    {
     "data": {
      "text/plain": [
       "array([[ 0,  0,  0],\n",
       "       [ 5,  0,  3],\n",
       "       [ 5,  3,  3],\n",
       "       [ 6,  3,  6],\n",
       "       [ 6,  6,  6],\n",
       "       [11,  6,  9],\n",
       "       [11,  9,  9],\n",
       "       [12,  9, 12],\n",
       "       [12, 12, 12]])"
      ]
     },
     "metadata": {},
     "output_type": "display_data"
    },
    {
     "data": {
      "text/plain": [
       "array([[0, 0, 0],\n",
       "       [0, 2, 0],\n",
       "       [0, 1, 1],\n",
       "       [0, 2, 1],\n",
       "       [0, 1, 1],\n",
       "       [0, 2, 1],\n",
       "       [1, 1, 1],\n",
       "       [0, 2, 1],\n",
       "       [1, 1, 1]])"
      ]
     },
     "metadata": {},
     "output_type": "display_data"
    }
   ],
   "source": [
    "Ft=np.max(conM*np.tile(Ft,[3,1]).T+hM[3],axis=0)\n",
    "iDt=np.argmax(conM*np.tile(Ft,[3,1]).T+hM[3],axis=0)\n",
    "display(Ft)\n",
    "F=np.vstack([F,Ft])\n",
    "iD=np.vstack([iD,iDt])\n",
    "display(F)\n",
    "display(iD)"
   ]
  },
  {
   "cell_type": "code",
   "execution_count": 72,
   "id": "3d87c302-4f1d-4df3-8540-59996675be80",
   "metadata": {},
   "outputs": [
    {
     "data": {
      "text/plain": [
       "array([[0, 0, 0],\n",
       "       [0, 2, 0],\n",
       "       [0, 1, 1],\n",
       "       [0, 2, 1],\n",
       "       [0, 1, 1],\n",
       "       [0, 2, 1],\n",
       "       [1, 1, 1],\n",
       "       [0, 2, 1],\n",
       "       [1, 1, 1]])"
      ]
     },
     "metadata": {},
     "output_type": "display_data"
    }
   ],
   "source": [
    "display(iD)"
   ]
  },
  {
   "cell_type": "code",
   "execution_count": 73,
   "id": "d477a02b-12fc-4f20-b2e0-0fde3fcfe30a",
   "metadata": {},
   "outputs": [
    {
     "data": {
      "text/plain": [
       "array([[12, 12, 12],\n",
       "       [12, 12, 12],\n",
       "       [12, 12, 12]])"
      ]
     },
     "execution_count": 73,
     "metadata": {},
     "output_type": "execute_result"
    }
   ],
   "source": [
    "np.tile(Ft,[3,1]).T"
   ]
  },
  {
   "cell_type": "code",
   "execution_count": 74,
   "id": "b531212e-bcba-4b17-be29-86e88619a9e1",
   "metadata": {},
   "outputs": [
    {
     "data": {
      "text/plain": [
       "array([[12,  0,  0],\n",
       "       [12, 12, 12],\n",
       "       [ 0, 12,  0]])"
      ]
     },
     "execution_count": 74,
     "metadata": {},
     "output_type": "execute_result"
    }
   ],
   "source": [
    "conM*np.tile(Ft,[3,1]).T"
   ]
  },
  {
   "cell_type": "code",
   "execution_count": 75,
   "id": "cfc3290e-e73a-4633-9616-f1c0de225d7f",
   "metadata": {},
   "outputs": [
    {
     "data": {
      "text/plain": [
       "array([[12, 12, 12],\n",
       "       [36, 36, 36],\n",
       "       [12, 12, 12]])"
      ]
     },
     "execution_count": 75,
     "metadata": {},
     "output_type": "execute_result"
    }
   ],
   "source": [
    "np.dot(conM,np.tile(Ft,[3,1]).T)"
   ]
  },
  {
   "cell_type": "code",
   "execution_count": 76,
   "id": "23f19569-c9d3-46bf-8327-db30c5b02bb0",
   "metadata": {},
   "outputs": [
    {
     "data": {
      "text/plain": [
       "array([12, 12, 12])"
      ]
     },
     "execution_count": 76,
     "metadata": {},
     "output_type": "execute_result"
    }
   ],
   "source": [
    "Ft"
   ]
  },
  {
   "cell_type": "code",
   "execution_count": 77,
   "id": "51f40421-7dad-4726-8ec1-bd6d90733b30",
   "metadata": {},
   "outputs": [
    {
     "data": {
      "text/plain": [
       "array([[ 0,  0,  0],\n",
       "       [ 5,  0,  3],\n",
       "       [ 5,  3,  3],\n",
       "       [ 6,  3,  6],\n",
       "       [ 6,  6,  6],\n",
       "       [11,  6,  9],\n",
       "       [11,  9,  9],\n",
       "       [12,  9, 12],\n",
       "       [12, 12, 12]])"
      ]
     },
     "execution_count": 77,
     "metadata": {},
     "output_type": "execute_result"
    }
   ],
   "source": [
    "# F=np.max(np.tile(F,[3,1])+hM[1],axis=0)\n",
    "F"
   ]
  },
  {
   "cell_type": "code",
   "execution_count": 78,
   "id": "f6663001-3e9b-474b-811e-3a21017e16eb",
   "metadata": {},
   "outputs": [
    {
     "data": {
      "text/plain": [
       "array([[ 0,  0,  0],\n",
       "       [ 5,  0,  3],\n",
       "       [ 5,  3,  3],\n",
       "       [ 6,  3,  6],\n",
       "       [ 6,  6,  6],\n",
       "       [11,  6,  9],\n",
       "       [11,  9,  9],\n",
       "       [12,  9, 12],\n",
       "       [12, 12, 12]])"
      ]
     },
     "execution_count": 78,
     "metadata": {},
     "output_type": "execute_result"
    }
   ],
   "source": [
    "F"
   ]
  }
 ],
 "metadata": {
  "kernelspec": {
   "display_name": "Python 3 (ipykernel)",
   "language": "python",
   "name": "python3"
  },
  "language_info": {
   "codemirror_mode": {
    "name": "ipython",
    "version": 3
   },
   "file_extension": ".py",
   "mimetype": "text/x-python",
   "name": "python",
   "nbconvert_exporter": "python",
   "pygments_lexer": "ipython3",
   "version": "3.10.11"
  }
 },
 "nbformat": 4,
 "nbformat_minor": 5
}
