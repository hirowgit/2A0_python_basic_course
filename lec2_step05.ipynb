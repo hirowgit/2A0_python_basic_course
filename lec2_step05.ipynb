{
 "cells": [
  {
   "cell_type": "code",
   "execution_count": 1,
   "id": "f289c6b4",
   "metadata": {},
   "outputs": [],
   "source": [
    "## Python basics for novice data scientists, supported by Wagatsuma Lab@Kyutech \n",
    "#\n",
    "# The MIT License (MIT): Copyright (c) 2020 Hiroaki Wagatsuma and Wagatsuma Lab@Kyutech\n",
    "# \n",
    "# Permission is hereby granted, free of charge, to any person obtaining a copy of this software and associated documentation files (the \"Software\"), to deal in the Software without restriction, including without limitation the rights to use, copy, modify, merge, publish, distribute, sublicense, and/or sell copies of the Software, and to permit persons to whom the Software is furnished to do so, subject to the following conditions:\n",
    "# The above copyright notice and this permission notice shall be included in all copies or substantial portions of the Software.\n",
    "# THE SOFTWARE IS PROVIDED \"AS IS\", WITHOUT WARRANTY OF ANY KIND, EXPRESS OR IMPLIED, INCLUDING BUT NOT LIMITED TO THE WARRANTIES OF MERCHANTABILITY, FITNESS FOR A PARTICULAR PURPOSE AND NONINFRINGEMENT. IN NO EVENT SHALL THE AUTHORS OR COPYRIGHT HOLDERS BE LIABLE FOR ANY CLAIM, DAMAGES OR OTHER LIABILITY, WHETHER IN AN ACTION OF CONTRACT, TORT OR OTHERWISE, ARISING FROM, OUT OF OR IN CONNECTION WITH THE SOFTWARE OR THE USE OR OTHER DEALINGS IN THE SOFTWARE. */\n",
    "#\n",
    "# # @Time    : 2022-12-29 \n",
    "# # @Author  : Hiroaki Wagatsuma\n",
    "# # @Site    : https://github.com/hirowgit/2A_python_basic_course\n",
    "# # @IDE     : Python 3.9.16 (main, Dec  7 2022, 10:15:43) [Clang 14.0.0 (clang-1400.0.29.202)] on darwin\n",
    "# # @File    : lec2_step05.py "
   ]
  },
  {
   "cell_type": "code",
   "execution_count": 33,
   "id": "d56650e6",
   "metadata": {},
   "outputs": [],
   "source": [
    "# module test: if you have an error when you run this code, \n",
    "# you need to check the installation status of those modules\n",
    "\n",
    "import math \n",
    "import sys \n",
    "import os\n",
    "import numpy as np\n",
    "import pandas as pd\n",
    "import matplotlib.pyplot as plt\n",
    "import matplotlib.patches as patch\n",
    "import matplotlib.cm as cm\n",
    "import matplotlib as mp\n",
    "import tkinter as tk"
   ]
  },
  {
   "cell_type": "code",
   "execution_count": 34,
   "id": "da5f544c",
   "metadata": {},
   "outputs": [],
   "source": [
    "# you need run this code, if you want to use external windows to visulalize\n",
    "import matplotlib.pyplot as plt\n",
    "%matplotlib tk"
   ]
  },
  {
   "cell_type": "code",
   "execution_count": 2,
   "id": "bf78cd94",
   "metadata": {},
   "outputs": [
    {
     "data": {
      "image/png": "[encoded data removed]",
      "text/plain": [
       "<Figure size 432x288 with 1 Axes>"
      ]
     },
     "metadata": {
      "needs_background": "light"
     },
     "output_type": "display_data"
    }
   ],
   "source": [
    "\n",
    "import numpy as np\n",
    "from mpl_toolkits.mplot3d.art3d import Poly3DCollection, Line3DCollection\n",
    "import matplotlib.pyplot as plt\n",
    "pRange=np.array([-2,5])\n",
    "enlargedR=10\n",
    "\n",
    "line_points=np.array([[0,0, 0],\n",
    "                  [1, 1, 1 ],\n",
    "                  [2, 2, 2],\n",
    "                     [3, 3, 3]])\n",
    "\n",
    "axes = plt.figure(1).add_subplot(projection='3d')\n",
    "\n",
    "axes.plot(line_points[:,0],line_points[:,1],line_points[:,2],'r.-')\n",
    "\n",
    "inN=len(line_points)-1\n",
    "# dv_xy_full=np.full((inN,3),0,dtype=np.double)\n",
    "# dt_xy_full=np.full((inN,3),0,dtype=np.double)\n",
    "dv_xy_full=np.full((inN,2),0,dtype=np.double)\n",
    "dt_xy_full=np.full((inN,2),0,dtype=np.double)\n",
    "\n",
    "xd=np.array([1,-1,-1,1])\n",
    "yd=np.array([1,1,-1,-1])\n",
    "for k in range(inN):\n",
    "    dVec=line_points[k+1]-line_points[k]\n",
    "    dAve=(line_points[k+1]+line_points[k])/2\n",
    "    dAve_xy=dAve.copy()\n",
    "    dAve_xy[2]=0\n",
    "    dv_xy=np.array(dVec[:2],dtype=np.double)/2\n",
    "    dt_xy=np.roll(dv_xy,1)*[1,-1]\n",
    "    dv_xy_full[k,:]=dv_xy\n",
    "    dt_xy_full[k,:]=dt_xy\n",
    "    \n",
    "    tangFace=np.tile(xd,[2,1])*np.tile(np.transpose([dv_xy]),[1,4])+np.tile(yd,[2,1])*np.tile(np.transpose([dt_xy]),[1,4])\n",
    "    tangFace2=np.vstack([tangFace,np.tile(dAve[2],[1,4])])+np.tile(np.transpose([dAve_xy]),(1,4))\n",
    "    tangFaceT=np.transpose(tangFace2)\n",
    "\n",
    "    if k==0:\n",
    "        frame_points=dAve\n",
    "        vertices=[tangFaceT.tolist()]\n",
    "#         tgv=vn_np[node_vec-1]\n",
    "    else:\n",
    "        frame_points=np.vstack([frame_points,dAve])\n",
    "        vertices=np.vstack([vertices,[tangFaceT.tolist()]])\n",
    "#         tgv=np.vstack([tgv,vn_np[node_vec-1]])\n",
    "\n",
    "inN_m=len(vertices)-1\n",
    "dv_xy_full_m=np.full((inN_m,2),0,dtype=np.double)\n",
    "dt_xy_full_m=np.full((inN_m,2),0,dtype=np.double)\n",
    "for k in range(inN_m):\n",
    "    tFace1=vertices[k]\n",
    "    tFace2=vertices[k+1]\n",
    "    tangFaceT=np.vstack([tFace1[3],tFace1[0],tFace2[1],tFace2[2]])\n",
    "    vertices=np.vstack([vertices,[tangFaceT.tolist()]])\n",
    "    dv_xy_full_m[k]=dv_xy_full[k+1]\n",
    "    dt_xy_full_m[k]=dt_xy_full[k+1]\n",
    "\n",
    "axes.scatter3D(frame_points[:, 0], frame_points[:, 1], frame_points[:, 2])\n",
    "\n",
    "axes.add_collection3d(Poly3DCollection(vertices, facecolors='lime', linewidths=1, edgecolors='b', alpha=0.2))\n",
    "\n",
    "plt.xticks(np.arange(pRange[0], pRange[1], 1))\n",
    "plt.yticks(np.arange(pRange[0], pRange[1], 1))\n",
    "\n",
    "axes.set_zticks(np.arange(pRange[0], pRange[1], 5))\n",
    "axes.set_zticklabels(np.arange(pRange[0], pRange[1], 5),fontsize=10)\n",
    "\n",
    "axes.set_xlim(pRange)\n",
    "axes.set_ylim(pRange)\n",
    "axes.set_zlim(pRange)\n",
    "axes.set_xlabel('x')\n",
    "axes.set_ylabel('y')\n",
    "axes.set_zlabel('z')\n",
    "\n",
    "plt.show()"
   ]
  },
  {
   "cell_type": "code",
   "execution_count": 60,
   "id": "a3283756",
   "metadata": {},
   "outputs": [],
   "source": [
    "from scipy import interpolate\n",
    "# from mpl_toolkits.mplot3d import Axes3D\n",
    "import numpy as np\n",
    "import matplotlib.pyplot as plt\n",
    "\n",
    "\n",
    "x = [0,1, 2, 1]\n",
    "y = [0, -1, 0, -2]\n",
    "z = [0, -1, -2, -5]\n",
    "\n",
    "dataD = [x,y,z]\n",
    "\n",
    "tck, u= interpolate.splprep(dataD, k=3)\n",
    "\n",
    "dataINP = interpolate.splev(np.linspace(0,1,20), tck, der=0)\n",
    "\n",
    "axes = plt.figure(2).add_subplot(projection='3d')\n",
    "\n",
    "axes.plot(dataD[0], dataD[1], dataD[2],'.-', label='raw', lw =2, c='blue')\n",
    "axes.plot(dataINP[0], dataINP[1], dataINP[2],'.-', label='fit', lw =2, c='red')\n",
    "axes.legend()\n",
    "axes.set_xlabel('x')\n",
    "axes.set_ylabel('y')\n",
    "axes.set_zlabel('z')\n",
    "\n",
    "plt.show()"
   ]
  },
  {
   "cell_type": "code",
   "execution_count": 61,
   "id": "c9d2aaad",
   "metadata": {},
   "outputs": [
    {
     "data": {
      "text/plain": [
       "[array([6.61873396e-17, 1.85068951e-01, 3.95137489e-01, 6.23197111e-01,\n",
       "        8.62239314e-01, 1.10525560e+00, 1.34523745e+00, 1.57517638e+00,\n",
       "        1.78806388e+00, 1.97689144e+00, 2.13465056e+00, 2.25433275e+00,\n",
       "        2.32892949e+00, 2.35143228e+00, 2.31483263e+00, 2.21212202e+00,\n",
       "        2.03629196e+00, 1.78033393e+00, 1.43723945e+00, 1.00000000e+00]),\n",
       " array([-2.33231578e-16, -5.07806609e-01, -8.32810425e-01, -9.99377756e-01,\n",
       "        -1.03187491e+00, -9.54668191e-01, -7.92123911e-01, -5.68608376e-01,\n",
       "        -3.08487893e-01, -3.61287699e-02,  2.24102686e-01,  4.47840166e-01,\n",
       "         6.10717364e-01,  6.88367971e-01,  6.56425681e-01,  4.90524186e-01,\n",
       "         1.66297178e-01, -3.40621651e-01, -1.05459861e+00, -2.00000000e+00]),\n",
       " array([-7.56426738e-17, -2.27966121e-01, -4.49289255e-01, -6.65831727e-01,\n",
       "        -8.79455866e-01, -1.09202400e+00, -1.30539845e+00, -1.52144154e+00,\n",
       "        -1.74201561e+00, -1.96898298e+00, -2.20420597e+00, -2.44954692e+00,\n",
       "        -2.70686815e+00, -2.97803198e+00, -3.26490075e+00, -3.56933677e+00,\n",
       "        -3.89320238e+00, -4.23835991e+00, -4.60667167e+00, -5.00000000e+00])]"
      ]
     },
     "execution_count": 61,
     "metadata": {},
     "output_type": "execute_result"
    }
   ],
   "source": [
    "dataINP"
   ]
  },
  {
   "cell_type": "code",
   "execution_count": 25,
   "id": "ee3d7453",
   "metadata": {},
   "outputs": [
    {
     "data": {
      "text/plain": [
       "array([[ 6.61873396e-17, -2.33231578e-16, -7.56426738e-17],\n",
       "       [ 1.85068951e-01, -5.07806609e-01, -2.27966121e-01],\n",
       "       [ 3.95137489e-01, -8.32810425e-01, -4.49289255e-01],\n",
       "       [ 6.23197111e-01, -9.99377756e-01, -6.65831727e-01],\n",
       "       [ 8.62239314e-01, -1.03187491e+00, -8.79455866e-01],\n",
       "       [ 1.10525560e+00, -9.54668191e-01, -1.09202400e+00],\n",
       "       [ 1.34523745e+00, -7.92123911e-01, -1.30539845e+00],\n",
       "       [ 1.57517638e+00, -5.68608376e-01, -1.52144154e+00],\n",
       "       [ 1.78806388e+00, -3.08487893e-01, -1.74201561e+00],\n",
       "       [ 1.97689144e+00, -3.61287699e-02, -1.96898298e+00],\n",
       "       [ 2.13465056e+00,  2.24102686e-01, -2.20420597e+00],\n",
       "       [ 2.25433275e+00,  4.47840166e-01, -2.44954692e+00],\n",
       "       [ 2.32892949e+00,  6.10717364e-01, -2.70686815e+00],\n",
       "       [ 2.35143228e+00,  6.88367971e-01, -2.97803198e+00],\n",
       "       [ 2.31483263e+00,  6.56425681e-01, -3.26490075e+00],\n",
       "       [ 2.21212202e+00,  4.90524186e-01, -3.56933677e+00],\n",
       "       [ 2.03629196e+00,  1.66297178e-01, -3.89320238e+00],\n",
       "       [ 1.78033393e+00, -3.40621651e-01, -4.23835991e+00],\n",
       "       [ 1.43723945e+00, -1.05459861e+00, -4.60667167e+00],\n",
       "       [ 1.00000000e+00, -2.00000000e+00, -5.00000000e+00]])"
      ]
     },
     "execution_count": 25,
     "metadata": {},
     "output_type": "execute_result"
    }
   ],
   "source": [
    "line_points=np.transpose(dataINP)\n",
    "line_points"
   ]
  },
  {
   "cell_type": "code",
   "execution_count": 62,
   "id": "f8cddb19",
   "metadata": {},
   "outputs": [],
   "source": [
    "\n",
    "import numpy as np\n",
    "from mpl_toolkits.mplot3d.art3d import Poly3DCollection, Line3DCollection\n",
    "import matplotlib.pyplot as plt\n",
    "pRange=np.array([-5,5])\n",
    "\n",
    "pRange_x=np.array([-5,3])\n",
    "pRange_y=np.array([-2,5])\n",
    "pRange_z=np.array([-5,0])\n",
    "enlargedR=10\n",
    "\n",
    "# line_points=np.array([[0,0, 0],\n",
    "#                   [1, 1, 1 ],\n",
    "#                   [2, 2, 2],\n",
    "#                      [3, 3, 3]])\n",
    "\n",
    "axes = plt.figure(1).add_subplot(projection='3d')\n",
    "\n",
    "axes.plot(line_points[:,0],line_points[:,1],line_points[:,2],'r.-')\n",
    "\n",
    "inN=len(line_points)-1\n",
    "# dv_xy_full=np.full((inN,3),0,dtype=np.double)\n",
    "# dt_xy_full=np.full((inN,3),0,dtype=np.double)\n",
    "dv_xy_full=np.full((inN,2),0,dtype=np.double)\n",
    "dt_xy_full=np.full((inN,2),0,dtype=np.double)\n",
    "\n",
    "xd=np.array([1,-1,-1,1])\n",
    "yd=np.array([1,1,-1,-1])\n",
    "for k in range(inN):\n",
    "    dVec=line_points[k+1]-line_points[k]\n",
    "    dAve=(line_points[k+1]+line_points[k])/2\n",
    "    dAve_xy=dAve.copy()\n",
    "    dAve_xy[2]=0\n",
    "    dv_xy=np.array(dVec[:2],dtype=np.double)/2\n",
    "    dt_xy=np.roll(dv_xy,1)*[1,-1]\n",
    "    dv_xy_full[k,:]=dv_xy\n",
    "    dt_xy_full[k,:]=dt_xy\n",
    "    \n",
    "    tangFace=np.tile(xd,[2,1])*np.tile(np.transpose([dv_xy]),[1,4])+np.tile(yd,[2,1])*np.tile(np.transpose([dt_xy]),[1,4])\n",
    "    tangFace2=np.vstack([tangFace,np.tile(dAve[2],[1,4])])+np.tile(np.transpose([dAve_xy]),(1,4))\n",
    "    tangFaceT=np.transpose(tangFace2)\n",
    "\n",
    "    if k==0:\n",
    "        frame_points=dAve\n",
    "        vertices=[tangFaceT.tolist()]\n",
    "#         tgv=vn_np[node_vec-1]\n",
    "    else:\n",
    "        frame_points=np.vstack([frame_points,dAve])\n",
    "        vertices=np.vstack([vertices,[tangFaceT.tolist()]])\n",
    "#         tgv=np.vstack([tgv,vn_np[node_vec-1]])\n",
    "\n",
    "inN_m=len(vertices)-1\n",
    "dv_xy_full_m=np.full((inN_m,2),0,dtype=np.double)\n",
    "dt_xy_full_m=np.full((inN_m,2),0,dtype=np.double)\n",
    "for k in range(inN_m):\n",
    "    tFace1=vertices[k]\n",
    "    tFace2=vertices[k+1]\n",
    "    tangFaceT=np.vstack([tFace1[3],tFace1[0],tFace2[1],tFace2[2]])\n",
    "    vertices=np.vstack([vertices,[tangFaceT.tolist()]])\n",
    "    dv_xy_full_m[k]=dv_xy_full[k+1]\n",
    "    dt_xy_full_m[k]=dt_xy_full[k+1]\n",
    "\n",
    "axes.scatter3D(frame_points[:, 0], frame_points[:, 1], frame_points[:, 2])\n",
    "\n",
    "axes.add_collection3d(Poly3DCollection(vertices, facecolors='lime', linewidths=1, edgecolors='b', alpha=0.2))\n",
    "\n",
    "plt.xticks(np.arange(pRange[0], pRange[1], 1))\n",
    "plt.yticks(np.arange(pRange[0], pRange[1], 1))\n",
    "\n",
    "axes.set_zticks(np.arange(pRange[0], pRange[1], 5))\n",
    "axes.set_zticklabels(np.arange(pRange[0], pRange[1], 5),fontsize=10)\n",
    "\n",
    "axes.set_xlim(pRange_x)\n",
    "axes.set_ylim(pRange_y)\n",
    "axes.set_zlim(pRange_z)\n",
    "axes.set_xlabel('x')\n",
    "axes.set_ylabel('y')\n",
    "axes.set_zlabel('z')\n",
    "\n",
    "plt.show()"
   ]
  },
  {
   "cell_type": "code",
   "execution_count": 4,
   "id": "f4f8506f",
   "metadata": {},
   "outputs": [
    {
     "data": {
      "image/png": "[encoded data removed]",
      "text/plain": [
       "<Figure size 432x288 with 1 Axes>"
      ]
     },
     "metadata": {
      "needs_background": "light"
     },
     "output_type": "display_data"
    }
   ],
   "source": [
    "from scipy import interpolate\n",
    "# from mpl_toolkits.mplot3d import Axes3D\n",
    "import numpy as np\n",
    "import matplotlib.pyplot as plt\n",
    "\n",
    "\n",
    "\n",
    "line_points=np.array([[0,0, 0],\n",
    "                  [1, 1, 1 ],\n",
    "                  [2, 2, 2],\n",
    "                     [3, 3, 3]])\n",
    "\n",
    "axes = plt.figure(3).add_subplot(projection='3d')\n",
    "\n",
    "axes.plot(line_points[:,0],line_points[:,1],line_points[:,2],'r.-',label='raw')\n",
    "\n",
    "\n",
    "# axes.plot(dataD[0], dataD[1], dataD[2],'.-', label='raw', lw =2, c='blue')\n",
    "# axes.plot(dataINP[0], dataINP[1], dataINP[2],'.-', label='fit', lw =2, c='red')\n",
    "axes.legend()\n",
    "axes.set_xlabel('x')\n",
    "axes.set_ylabel('y')\n",
    "axes.set_zlabel('z')\n",
    "\n",
    "plt.show()"
   ]
  },
  {
   "cell_type": "code",
   "execution_count": 12,
   "id": "abbaae26",
   "metadata": {},
   "outputs": [
    {
     "data": {
      "text/plain": [
       "array([[0, 0, 0],\n",
       "       [1, 1, 1],\n",
       "       [2, 2, 2],\n",
       "       [3, 3, 3]])"
      ]
     },
     "execution_count": 12,
     "metadata": {},
     "output_type": "execute_result"
    }
   ],
   "source": [
    "line_points"
   ]
  },
  {
   "cell_type": "code",
   "execution_count": 15,
   "id": "8ff388b4",
   "metadata": {},
   "outputs": [
    {
     "data": {
      "text/plain": [
       "array([[[0, 0, 0],\n",
       "        [1, 1, 1],\n",
       "        [2, 2, 2],\n",
       "        [3, 3, 3]],\n",
       "\n",
       "       [[0, 0, 0],\n",
       "        [1, 1, 1],\n",
       "        [2, 2, 2],\n",
       "        [3, 3, 3]],\n",
       "\n",
       "       [[0, 0, 0],\n",
       "        [1, 1, 1],\n",
       "        [2, 2, 2],\n",
       "        [3, 3, 3]]])"
      ]
     },
     "execution_count": 15,
     "metadata": {},
     "output_type": "execute_result"
    }
   ],
   "source": [
    "line_points_prim=[line_points]\n",
    "line_point_full=np.vstack([line_points_prim,line_points_prim,line_points_prim])\n",
    "line_point_full"
   ]
  },
  {
   "cell_type": "code",
   "execution_count": 13,
   "id": "fcc3daef",
   "metadata": {},
   "outputs": [
    {
     "data": {
      "image/png": "[encoded data removed]",
      "text/plain": [
       "<Figure size 432x288 with 1 Axes>"
      ]
     },
     "metadata": {
      "needs_background": "light"
     },
     "output_type": "display_data"
    }
   ],
   "source": [
    "from scipy import interpolate\n",
    "# from mpl_toolkits.mplot3d import Axes3D\n",
    "import numpy as np\n",
    "import matplotlib.pyplot as plt\n",
    "\n",
    "\n",
    "\n",
    "line_points=np.array([[0,0, 0],\n",
    "                  [1, 1, 1 ],\n",
    "                  [2, 2, 2],\n",
    "                     [3, 3, 3]])\n",
    "\n",
    "line_points_prim=[line_points]\n",
    "line_point_full=np.vstack([line_points_prim,line_points_prim,line_points_prim])\n",
    "line_point_full\n",
    "\n",
    "axes = plt.figure(3).add_subplot(projection='3d')\n",
    "\n",
    "for k in range(len(line_point_full)):\n",
    "    axes.plot(line_point_full[0][:,0],line_point_full[0][:,1],line_point_full[0][:,2],'.-',label=str(k))\n",
    "\n",
    "\n",
    "# axes.plot(dataD[0], dataD[1], dataD[2],'.-', label='raw', lw =2, c='blue')\n",
    "# axes.plot(dataINP[0], dataINP[1], dataINP[2],'.-', label='fit', lw =2, c='red')\n",
    "axes.legend()\n",
    "axes.set_xlabel('x')\n",
    "axes.set_ylabel('y')\n",
    "axes.set_zlabel('z')\n",
    "\n",
    "plt.show()"
   ]
  },
  {
   "cell_type": "code",
   "execution_count": 14,
   "id": "4c43efc4",
   "metadata": {},
   "outputs": [],
   "source": [
    "point_list=[[],[],[],[]]\n",
    "point_list[0]=[[0,0, 0],[1, 1, 1 ],[2, 2, 2],[3, 3, 3]]\n",
    "point_list[1]=[[0,0, 0],[1, 1, 1 ],[2, 2, 2],[3, 3, 3]]\n",
    "point_list[2]=[[0,0, 0],[1, 1, 1 ],[2, 2, 2],[3, 3, 3]]\n",
    "point_list[3]=[[0,0, 0],[1, 1, 1 ],[2, 2, 2],[3, 3, 3]]\n"
   ]
  },
  {
   "cell_type": "code",
   "execution_count": 15,
   "id": "e100c1a7",
   "metadata": {},
   "outputs": [
    {
     "name": "stdout",
     "output_type": "stream",
     "text": [
      "4\n"
     ]
    },
    {
     "data": {
      "text/plain": [
       "array([[[ 0,  0,  0],\n",
       "        [ 3,  0,  0],\n",
       "        [ 6,  0,  0],\n",
       "        [12,  0,  0]],\n",
       "\n",
       "       [[ 0,  0,  1],\n",
       "        [ 3,  0,  1],\n",
       "        [ 6,  0,  0],\n",
       "        [12,  0,  1]],\n",
       "\n",
       "       [[ 0,  1,  1],\n",
       "        [ 3,  1,  1],\n",
       "        [ 6,  1,  1],\n",
       "        [12,  1,  1]],\n",
       "\n",
       "       [[ 0,  1,  0],\n",
       "        [ 3,  1,  0],\n",
       "        [ 6,  1,  0],\n",
       "        [12,  1,  0]]])"
      ]
     },
     "execution_count": 15,
     "metadata": {},
     "output_type": "execute_result"
    }
   ],
   "source": [
    "point_list=[[],[],[],[]]\n",
    "point_list[0]=[[0,0, 0],[3, 0, 0 ],[6, 0, 0 ],[12, 0, 0]]\n",
    "point_list[1]=[[0,0, 1],[3, 0, 1 ],[6, 0, 0 ],[12, 0, 1]]\n",
    "point_list[2]=[[0,1, 1],[3, 1, 1 ],[6, 1, 1 ],[12, 1, 1]]\n",
    "point_list[3]=[[0,1, 0],[3, 1, 0 ],[6, 1, 0 ],[12, 1, 0]]\n",
    "\n",
    "line_points=np.array([[0,0, 0],\n",
    "                  [1, 1, 1 ],\n",
    "                  [2, 2, 2],\n",
    "                     [3, 3, 3]])\n",
    "for k in range(len(point_list)):\n",
    "    line_points_prim=np.array([point_list[k]])\n",
    "    if k==0:\n",
    "        line_point_full=line_points_prim\n",
    "    else:\n",
    "        line_point_full=np.vstack([line_point_full,line_points_prim])\n",
    "# line_point_full\n",
    "\n",
    "print(len(point_list))\n",
    "# print(line_point_full)\n",
    "line_point_full"
   ]
  },
  {
   "cell_type": "code",
   "execution_count": 66,
   "id": "edb98a3b",
   "metadata": {},
   "outputs": [
    {
     "data": {
      "text/plain": [
       "array([[ 0,  0,  0],\n",
       "       [ 3,  0,  0],\n",
       "       [ 6,  0,  0],\n",
       "       [12,  0,  0]])"
      ]
     },
     "execution_count": 66,
     "metadata": {},
     "output_type": "execute_result"
    }
   ],
   "source": [
    "base_id=0\n",
    "bline=line_point_full[base_id].copy()\n",
    "bline"
   ]
  },
  {
   "cell_type": "code",
   "execution_count": 35,
   "id": "c0d99460",
   "metadata": {},
   "outputs": [],
   "source": [
    "from scipy import interpolate\n",
    "# from mpl_toolkits.mplot3d import Axes3D\n",
    "import numpy as np\n",
    "import matplotlib.pyplot as plt\n",
    "\n",
    "pRange_x=np.array([-1,15])\n",
    "pRange_yz=np.array([-1,2])\n",
    "\n",
    "point_list=[[],[],[],[]]\n",
    "point_list[0]=[[0,0, 0],[3, 0, 0 ],[6, 0, 0 ],[12, 0, 0]]\n",
    "point_list[1]=[[0,0, 1],[3, 0, 1 ],[6, 0, 1 ],[12, 0, 1]]\n",
    "point_list[2]=[[0,1, 1],[3, 1, 1 ],[6, 1, 1 ],[12, 1, 1]]\n",
    "point_list[3]=[[0,1, 0],[3, 1, 0 ],[6, 1, 0 ],[12, 1, 0]]\n",
    "\n",
    "for k in range(len(point_list)):\n",
    "    line_points_prim=np.array([point_list[k]])\n",
    "    if k==0:\n",
    "        line_point_full=line_points_prim\n",
    "    else:\n",
    "        line_point_full=np.vstack([line_point_full,line_points_prim])\n",
    "# line_point_full\n",
    "\n",
    "for k in range(len(line_point_full)):\n",
    "    line_point_full[k]=line_point_full[k]+np.array([k,0,0])\n",
    "    \n",
    "#====== calc for connecting vectors   ======\n",
    "\n",
    "# base_id=0\n",
    "\n",
    "disV = lambda v: math.pow(v[0],2)+math.pow(v[1],2)+math.pow(v[2],2)\n",
    "innPv = lambda v,w: np.dot(v,np.transpose(w))\n",
    "normV= lambda v: np.linalg.norm(v, ord=2)\n",
    "\n",
    "EdgeID=[0,np.shape(line_point_full)[1]-2]\n",
    "tParam=np.full((len(line_point_full),len(line_point_full),2),0,dtype=np.double)\n",
    "tV=np.full((len(line_point_full),len(line_point_full),2),0,dtype=np.double)\n",
    "\n",
    "for kk in range(len(EdgeID)):\n",
    "    km=EdgeID[kk]\n",
    "    tmpP=line_point_full[:,km,:]\n",
    "    tmpP2=line_point_full[:,km+1,:]\n",
    "    \n",
    "    for ki in range(len(line_point_full)):\n",
    "        aP=tmpP[ki]\n",
    "        bP=tmpP2[ki]\n",
    "        for kj in range(len(line_point_full)):\n",
    "            if kj!=ki:\n",
    "                cP=tmpP[kj]\n",
    "                disD=disV(bP-aP)\n",
    "                inpD=innPv((cP-aP),(bP-aP))\n",
    "                if disD>0:\n",
    "                    tParam[ki,kj,kk]=inpD/disD\n",
    "    \n",
    "bID=0\n",
    "line_edge_full2=np.full((2,len(line_point_full)+1,3),0,dtype=np.double)\n",
    "\n",
    "for kk in range(len(EdgeID)):\n",
    "    km=EdgeID[kk]\n",
    "    ki=(np.where(tParam[bID,:,kk]==max(tParam[bID,:,kk]))[0].tolist())[0]\n",
    "    bP=line_point_full[bID][km+1]\n",
    "    aP=line_point_full[bID][km]\n",
    "    cP=line_point_full[ki][km]\n",
    "    line_edgePst=tParam[bID,ki,kk]*(bP-aP )+aP\n",
    "#     line_edgePst=aP\n",
    "    line_edge_full=line_edgePst.copy()\n",
    "    for kj in range(len(line_point_full)):\n",
    "        if (kj!=ki) and (kj!=bID):\n",
    "            bP=line_point_full[kj][km+1]\n",
    "            aP=line_point_full[kj][km]\n",
    "            line_edgeP=tParam[kj,ki,kk]*(bP-aP )+aP\n",
    "#             line_edgeP=aP\n",
    "            line_edge_full=np.vstack([line_edge_full,line_edgeP])\n",
    "\n",
    "#     line_edge_full=np.vstack([line_edge_full,cP])\n",
    "    line_edge_full=np.vstack([line_edge_full,cP])\n",
    "    line_edge_full=np.vstack([line_edge_full,line_edgePst])\n",
    "    line_edge_full2[kk]=line_edge_full\n",
    "#=================================\n",
    "\n",
    "axes = plt.figure(3).add_subplot(projection='3d')\n",
    "\n",
    "for k in range(len(line_point_full)):\n",
    "    axes.plot(line_point_full[k][:,0],line_point_full[k][:,1],line_point_full[k][:,2],'.-',label=str(k))\n",
    "\n",
    "for kk in range(len(EdgeID)):\n",
    "    if kk==0:\n",
    "        col='r'\n",
    "        labelL='st'\n",
    "    else:\n",
    "        col='b'\n",
    "        labelL='end'\n",
    "    axes.plot(line_edge_full2[kk][:,0],line_edge_full2[kk][:,1],line_edge_full2[kk][:,2],'.-',label=labelL,color=col)\n",
    "\n",
    "    \n",
    "    \n",
    "# axes.plot(dataD[0], dataD[1], dataD[2],'.-', label='raw', lw =2, c='blue')\n",
    "# axes.plot(dataINP[0], dataINP[1], dataINP[2],'.-', label='fit', lw =2, c='red')\n",
    "axes.legend()\n",
    "axes.set_xlim(pRange_x)\n",
    "axes.set_ylim(pRange_yz)\n",
    "axes.set_zlim(pRange_yz)\n",
    "axes.set_xlabel('x')\n",
    "axes.set_ylabel('y')\n",
    "axes.set_zlabel('z')\n",
    "\n",
    "plt.show()"
   ]
  },
  {
   "cell_type": "code",
   "execution_count": 17,
   "id": "68f95320",
   "metadata": {},
   "outputs": [
    {
     "data": {
      "image/png": "[encoded data removed]",
      "text/plain": [
       "<Figure size 432x288 with 1 Axes>"
      ]
     },
     "metadata": {
      "needs_background": "light"
     },
     "output_type": "display_data"
    }
   ],
   "source": [
    "from scipy import interpolate\n",
    "# from mpl_toolkits.mplot3d import Axes3D\n",
    "import numpy as np\n",
    "import matplotlib.pyplot as plt\n",
    "\n",
    "pRange_x=np.array([-1,15])\n",
    "pRange_yz=np.array([-1,2])\n",
    "\n",
    "point_list=[[],[],[],[]]\n",
    "point_list[0]=[[0,0, 0],[3, 0, 0 ],[6, 0, 0 ],[12, 0, 0]]\n",
    "point_list[1]=[[0,0, 1],[3, 0, 1 ],[6, 0, 1 ],[12, 0, 1]]\n",
    "point_list[2]=[[0,1, 1],[3, 1, 1 ],[6, 1, 1 ],[12, 1, 1]]\n",
    "point_list[3]=[[0,1, 0],[3, 1, 0 ],[6, 1, 0 ],[12, 1, 0]]\n",
    "\n",
    "for k in range(len(point_list)):\n",
    "    line_points_prim=np.array([point_list[k]])\n",
    "    if k==0:\n",
    "        line_point_full=line_points_prim\n",
    "    else:\n",
    "        line_point_full=np.vstack([line_point_full,line_points_prim])\n",
    "# line_point_full\n",
    "\n",
    "for k in range(len(line_point_full)):\n",
    "    line_point_full[k]=line_point_full[k]+np.array([k,0,0])\n",
    "    \n",
    "#====== calc for connecting vectors   ======\n",
    "\n",
    "# base_id=0\n",
    "\n",
    "disV = lambda v: math.pow(v[0],2)+math.pow(v[1],2)+math.pow(v[2],2)\n",
    "innPv = lambda v,w: np.dot(v,np.transpose(w))\n",
    "normV= lambda v: np.linalg.norm(v, ord=2)\n",
    "\n",
    "EdgeID=[0,np.shape(line_point_full)[1]-2]\n",
    "tParam=np.full((len(line_point_full),len(line_point_full),2),0,dtype=np.double)\n",
    "tV=np.full((len(line_point_full),len(line_point_full),2),0,dtype=np.double)\n",
    "\n",
    "for kk in range(len(EdgeID)):\n",
    "    km=EdgeID[kk]\n",
    "    tmpP=line_point_full[:,km,:]\n",
    "    tmpP2=line_point_full[:,km+1,:]\n",
    "    \n",
    "    for ki in range(len(line_point_full)):\n",
    "        aP=tmpP[ki]\n",
    "        bP=tmpP2[ki]\n",
    "        for kj in range(len(line_point_full)):\n",
    "            if kj!=ki:\n",
    "                cP=tmpP[kj]\n",
    "                disD=disV(bP-aP)\n",
    "                inpD=innPv((cP-aP),(bP-aP))\n",
    "                if disD>0:\n",
    "                    tParam[ki,kj,kk]=inpD/disD\n",
    "    \n",
    "bID=0\n",
    "line_edge_full2=np.full((2,len(line_point_full)+1,3),0,dtype=np.double)\n",
    "tgv=np.full((6,3),0,dtype=np.double)\n",
    "\n",
    "for kk in range(len(EdgeID)):\n",
    "    km=EdgeID[kk]\n",
    "    ki=(np.where(tParam[bID,:,kk]==max(tParam[bID,:,kk]))[0].tolist())[0]\n",
    "    bP=line_point_full[bID][km+1]\n",
    "    aP=line_point_full[bID][km]\n",
    "    cP=line_point_full[ki][km]\n",
    "    line_edgePst=tParam[bID,ki,kk]*(bP-aP )+aP\n",
    "#     line_edgePst=aP\n",
    "    line_edge_full=line_edgePst.copy()\n",
    "    for kj in range(len(line_point_full)):\n",
    "        if (kj!=ki) and (kj!=bID):\n",
    "            bP=line_point_full[kj][km+1]\n",
    "            aP=line_point_full[kj][km]\n",
    "            line_edgeP=tParam[kj,ki,kk]*(bP-aP )+aP\n",
    "#             line_edgeP=aP\n",
    "            line_edge_full=np.vstack([line_edge_full,line_edgeP])\n",
    "\n",
    "#     line_edge_full=np.vstack([line_edge_full,cP])\n",
    "    line_edge_full=np.vstack([line_edge_full,cP])\n",
    "    line_edge_full=np.vstack([line_edge_full,line_edgePst])\n",
    "    line_edge_full2[kk]=line_edge_full\n",
    "    if kk==0:\n",
    "        tgv[kk]=line_edgePst/normV(line_edgePst)\n",
    "    else:\n",
    "        tgv[kk]=-line_edgePst/normV(line_edgePst)\n",
    "#=================================\n",
    "\n",
    "axes = plt.figure(4).add_subplot(projection='3d')\n",
    "\n",
    "for k in range(len(line_point_full)):\n",
    "    axes.plot(line_point_full[k][:,0],line_point_full[k][:,1],line_point_full[k][:,2],'.-',label=str(k))\n",
    "\n",
    "for kk in range(len(EdgeID)):\n",
    "    if kk==0:\n",
    "        col='r'\n",
    "        labelL='st'\n",
    "    else:\n",
    "        col='b'\n",
    "        labelL='end'\n",
    "    axes.plot(line_edge_full2[kk][:,0],line_edge_full2[kk][:,1],line_edge_full2[kk][:,2],'.-',label=labelL,color=col)\n",
    "    \n",
    "\n",
    "vertices=line_edge_full2[:,:-1,:].copy()\n",
    "    \n",
    "for k in range(len(vertices)):\n",
    "    axes.quiver(np.mean(vertices[k][:,0]), np.mean(vertices[k][:,1]),np.mean(vertices[k][:,2]), tgv[k][0],  tgv[k][1],  tgv[k][2], length=1, normalize=True)\n",
    "    \n",
    "    \n",
    "# axes.plot(dataD[0], dataD[1], dataD[2],'.-', label='raw', lw =2, c='blue')\n",
    "# axes.plot(dataINP[0], dataINP[1], dataINP[2],'.-', label='fit', lw =2, c='red')\n",
    "axes.legend()\n",
    "axes.set_xlim(pRange_x)\n",
    "axes.set_ylim(pRange_yz)\n",
    "axes.set_zlim(pRange_yz)\n",
    "axes.set_xlabel('x')\n",
    "axes.set_ylabel('y')\n",
    "axes.set_zlabel('z')\n",
    "\n",
    "plt.show()"
   ]
  },
  {
   "cell_type": "code",
   "execution_count": 36,
   "id": "f0f2fcf1",
   "metadata": {},
   "outputs": [],
   "source": [
    "from scipy import interpolate\n",
    "# from mpl_toolkits.mplot3d import Axes3D\n",
    "import numpy as np\n",
    "import matplotlib.pyplot as plt\n",
    "\n",
    "pRange_x=np.array([-1,15])\n",
    "pRange_yz=np.array([-1,2])\n",
    "\n",
    "point_list=[[],[],[],[]]\n",
    "point_list[0]=[[0,0, 0],[3, 0, 0 ],[6, 0, 0 ],[12, 0, 0]]\n",
    "point_list[1]=[[0,0, 1],[3, 0, 1 ],[6, 0, 1 ],[12, 0, 1]]\n",
    "point_list[3]=[[0,1, 1],[3, 1, 1 ],[6, 1, 1 ],[12, 1, 1]]\n",
    "point_list[2]=[[0,1, 0],[3, 1, 0 ],[6, 1, 0 ],[12, 1, 0]]\n",
    "\n",
    "for k in range(len(point_list)):\n",
    "    line_points_prim=np.array([point_list[k]])\n",
    "    if k==0:\n",
    "        line_point_full=line_points_prim\n",
    "    else:\n",
    "        line_point_full=np.vstack([line_point_full,line_points_prim])\n",
    "# line_point_full\n",
    "\n",
    "for k in range(len(line_point_full)):\n",
    "    line_point_full[k]=line_point_full[k]+np.array([k,0,0])\n",
    "    \n",
    "#====== calc for connecting vectors   ======\n",
    "\n",
    "# base_id=0\n",
    "\n",
    "disV = lambda v: math.pow(v[0],2)+math.pow(v[1],2)+math.pow(v[2],2)\n",
    "disVarray = lambda v:np.sum(np.square(v),axis=1)\n",
    "innPv = lambda v,w: np.dot(v,np.transpose(w))\n",
    "normV= lambda v: np.linalg.norm(v, ord=2)\n",
    "normVarray= lambda v: [np.linalg.norm(d, ord=2) for d in v]\n",
    "\n",
    "EdgeID=[0,np.shape(line_point_full)[1]-2]\n",
    "tParam=np.full((len(line_point_full),len(line_point_full),2),0,dtype=np.double)\n",
    "tV=np.full((len(line_point_full),len(line_point_full),2),0,dtype=np.double)\n",
    "\n",
    "for kk in range(len(EdgeID)):\n",
    "    km=EdgeID[kk]\n",
    "    tmpP=line_point_full[:,km,:]\n",
    "    tmpP2=line_point_full[:,km+1,:]\n",
    "    \n",
    "    for ki in range(len(line_point_full)):\n",
    "        aP=tmpP[ki]\n",
    "        bP=tmpP2[ki]\n",
    "        for kj in range(len(line_point_full)):\n",
    "            if kj!=ki:\n",
    "                cP=tmpP[kj]\n",
    "                disD=disV(bP-aP)\n",
    "                inpD=innPv((cP-aP),(bP-aP))\n",
    "                if disD>0:\n",
    "                    tParam[ki,kj,kk]=inpD/disD\n",
    "    \n",
    "bID=0\n",
    "line_edge_full2=np.full((2,len(line_point_full)+1,3),0,dtype=np.double)\n",
    "tgv=np.full((2,3),0,dtype=np.double)\n",
    "\n",
    "for kk in range(len(EdgeID)):\n",
    "    km=EdgeID[kk]\n",
    "    ki=(np.where(tParam[bID,:,kk]==max(tParam[bID,:,kk]))[0].tolist())[0]\n",
    "    bP=line_point_full[bID][km+1]\n",
    "    aP=line_point_full[bID][km]\n",
    "    cP=line_point_full[ki][km]\n",
    "    line_edgePst=tParam[bID,ki,kk]*(bP-aP )+aP\n",
    "#     line_edgePst=aP\n",
    "    line_edge_full=line_edgePst.copy()\n",
    "    for kj in range(len(line_point_full)):\n",
    "        if (kj!=ki) and (kj!=bID):\n",
    "            bP=line_point_full[kj][km+1]\n",
    "            aP=line_point_full[kj][km]\n",
    "            line_edgeP=tParam[kj,ki,kk]*(bP-aP )+aP\n",
    "#             line_edgeP=aP\n",
    "            line_edge_full=np.vstack([line_edge_full,line_edgeP])\n",
    "\n",
    "#     line_edge_full=np.vstack([line_edge_full,cP])\n",
    "    line_edge_full=np.vstack([line_edge_full,cP])\n",
    "    line_edge_full=np.vstack([line_edge_full,line_edgePst])\n",
    "    line_edge_full2[kk]=line_edge_full\n",
    "    if kk==0:\n",
    "        tgv[kk]=line_edgePst/normV(line_edgePst)\n",
    "    else:\n",
    "        tgv[kk]=-line_edgePst/normV(line_edgePst)\n",
    "        \n",
    "#=================================\n",
    "# correction of twisted loop\n",
    "\n",
    "for kk in range(len(EdgeID)):\n",
    "    aP=line_edge_full2[kk][bID]\n",
    "    mP=(np.where(disVarray(line_edge_full2[kk][:]-aP)==max(disVarray(line_edge_full2[kk][:]-aP)))[0])[0]\n",
    "#     print(mP)\n",
    "    if mP!=2:\n",
    "        P2=line_edge_full2[kk][mP].copy()\n",
    "        P3=line_edge_full2[kk][2].copy()\n",
    "        line_edge_full2[kk][2]=P2\n",
    "        line_edge_full2[kk][mP]=P3\n",
    "\n",
    "vertices=line_edge_full2[:,:-1,:].copy()\n",
    "        \n",
    "#=================================\n",
    "\n",
    "fID1=[[0,0,1,1],[0,0,1,1],[0,0,1,1],[0,0,1,1]]\n",
    "fID2=[[0,1,1,0],[1,2,2,1],[2,3,3,2],[3,0,0,3]]\n",
    "fID3=[[1,2],[2,3],[3,0],[0,1]]\n",
    "\n",
    "tmpPf=[]\n",
    "for km in range(len(fID1)):\n",
    "    tmpP=[line_edge_full2[k1][k2].tolist() for k1,k2 in zip(fID1[km],fID2[km])]\n",
    "    tmpPf.append(tmpP)\n",
    "    \n",
    "vertices=np.vstack([vertices,np.array(tmpPf)])\n",
    "\n",
    "tmpT=[(line_edge_full2[0][tag[1]]-line_edge_full2[0][tag[0]]).tolist() for tag in fID3]\n",
    "normVec=[(np.array(tmpT[i])/(normVarray(tmpT)[i])).tolist() for i in range(len(tmpT))]\n",
    "\n",
    "tgv=np.vstack([tgv,np.array(normVec)])\n",
    "#=================================\n",
    "\n",
    "\n",
    "axes = plt.figure(5).add_subplot(projection='3d')\n",
    "\n",
    "for k in range(len(line_point_full)):\n",
    "    axes.plot(line_point_full[k][:,0],line_point_full[k][:,1],line_point_full[k][:,2],'.-',label=str(k))\n",
    "\n",
    "for kk in range(len(EdgeID)):\n",
    "    if kk==0:\n",
    "        col='r'\n",
    "        labelL='st'\n",
    "    else:\n",
    "        col='b'\n",
    "        labelL='end'\n",
    "    axes.plot(line_edge_full2[kk][:,0],line_edge_full2[kk][:,1],line_edge_full2[kk][:,2],'.-',label=labelL,color=col)\n",
    "    \n",
    "axes.add_collection3d(Poly3DCollection(vertices, facecolors='lime', linewidths=1, edgecolors='b', alpha=0.2))\n",
    "    \n",
    "for k in range(len(vertices)):\n",
    "    axes.quiver(np.mean(vertices[k][:,0]), np.mean(vertices[k][:,1]),np.mean(vertices[k][:,2]), tgv[k][0],  tgv[k][1],  tgv[k][2], length=0.25, normalize=True)\n",
    "    \n",
    "    \n",
    "# axes.plot(dataD[0], dataD[1], dataD[2],'.-', label='raw', lw =2, c='blue')\n",
    "# axes.plot(dataINP[0], dataINP[1], dataINP[2],'.-', label='fit', lw =2, c='red')\n",
    "axes.legend()\n",
    "axes.set_xlim(pRange_x)\n",
    "axes.set_ylim(pRange_yz)\n",
    "axes.set_zlim(pRange_yz)\n",
    "axes.set_xlabel('x')\n",
    "axes.set_ylabel('y')\n",
    "axes.set_zlabel('z')\n",
    "\n",
    "\n",
    "plt.show()"
   ]
  },
  {
   "cell_type": "code",
   "execution_count": 307,
   "id": "0f9356c3",
   "metadata": {},
   "outputs": [
    {
     "data": {
      "text/plain": [
       "array([[ 1.,  0.,  0.],\n",
       "       [-1., -0., -0.]])"
      ]
     },
     "execution_count": 307,
     "metadata": {},
     "output_type": "execute_result"
    }
   ],
   "source": [
    "tgv"
   ]
  },
  {
   "cell_type": "code",
   "execution_count": 302,
   "id": "91c11c2e",
   "metadata": {},
   "outputs": [
    {
     "name": "stdout",
     "output_type": "stream",
     "text": [
      "6\n",
      "10\n"
     ]
    },
    {
     "data": {
      "text/plain": [
       "array([[ 1.,  0.,  0.],\n",
       "       [-1., -0., -0.],\n",
       "       [ 0.,  0.,  0.],\n",
       "       [ 0.,  0.,  0.],\n",
       "       [ 0.,  0.,  0.],\n",
       "       [ 0.,  0.,  0.],\n",
       "       [ 0.,  1.,  0.],\n",
       "       [ 0.,  0., -1.],\n",
       "       [ 0., -1.,  0.],\n",
       "       [ 0.,  0.,  1.]])"
      ]
     },
     "execution_count": 302,
     "metadata": {},
     "output_type": "execute_result"
    }
   ],
   "source": [
    "print(len(vertices))\n",
    "print(len(tgv))\n",
    "tgv"
   ]
  },
  {
   "cell_type": "code",
   "execution_count": 56,
   "id": "6e0f3723",
   "metadata": {},
   "outputs": [
    {
     "name": "stdout",
     "output_type": "stream",
     "text": [
      "6\n",
      "12\n"
     ]
    }
   ],
   "source": [
    "from scipy import interpolate\n",
    "# from mpl_toolkits.mplot3d import Axes3D\n",
    "import numpy as np\n",
    "import matplotlib.pyplot as plt\n",
    "\n",
    "pRange_x=np.array([-1,15])\n",
    "pRange_yz=np.array([-1,2])\n",
    "\n",
    "point_list=[[],[],[],[]]\n",
    "point_list[0]=[[0,0, 0],[3, 0, 0 ],[6, 0, 0 ],[12, 0, 0]]\n",
    "point_list[1]=[[0,0, 1],[3, 0, 1 ],[6, 0, 1 ],[12, 0, 1]]\n",
    "point_list[3]=[[0,1, 1],[3, 1, 1 ],[6, 1, 1 ],[12, 1, 1]]\n",
    "point_list[2]=[[0,1, 0],[3, 1, 0 ],[6, 1, 0 ],[12, 1, 0]]\n",
    "\n",
    "for k in range(len(point_list)):\n",
    "    line_points_prim=np.array([point_list[k]])\n",
    "    if k==0:\n",
    "        line_point_full=line_points_prim\n",
    "    else:\n",
    "        line_point_full=np.vstack([line_point_full,line_points_prim])\n",
    "# line_point_full\n",
    "\n",
    "for k in range(len(line_point_full)):\n",
    "    line_point_full[k]=line_point_full[k]+np.array([k,0,0])\n",
    "    \n",
    "#====== calc for connecting vectors   ======\n",
    "\n",
    "# base_id=0\n",
    "\n",
    "disV = lambda v: math.pow(v[0],2)+math.pow(v[1],2)+math.pow(v[2],2)\n",
    "disVarray = lambda v:np.sum(np.square(v),axis=1)\n",
    "innPv = lambda v,w: np.dot(v,np.transpose(w))\n",
    "normV= lambda v: np.linalg.norm(v, ord=2)\n",
    "normVarray= lambda v: [np.linalg.norm(d, ord=2) for d in v]\n",
    "ioF = lambda g,v,v0: np.dot(g,np.transpose(v-v0))\n",
    "\n",
    "EdgeID=[0,np.shape(line_point_full)[1]-2]\n",
    "tParam=np.full((len(line_point_full),len(line_point_full),2),0,dtype=np.double)\n",
    "tV=np.full((len(line_point_full),len(line_point_full),2),0,dtype=np.double)\n",
    "\n",
    "for kk in range(len(EdgeID)):\n",
    "    km=EdgeID[kk]\n",
    "    tmpP=line_point_full[:,km,:]\n",
    "    tmpP2=line_point_full[:,km+1,:]\n",
    "    \n",
    "    for ki in range(len(line_point_full)):\n",
    "        aP=tmpP[ki]\n",
    "        bP=tmpP2[ki]\n",
    "        for kj in range(len(line_point_full)):\n",
    "            if kj!=ki:\n",
    "                cP=tmpP[kj]\n",
    "                disD=disV(bP-aP)\n",
    "                inpD=innPv((cP-aP),(bP-aP))\n",
    "                if disD>0:\n",
    "                    tParam[ki,kj,kk]=inpD/disD\n",
    "    \n",
    "bID=0\n",
    "line_edge_full2=np.full((2,len(line_point_full)+1,3),0,dtype=np.double)\n",
    "tgv=np.full((2,3),0,dtype=np.double)\n",
    "\n",
    "for kk in range(len(EdgeID)):\n",
    "    km=EdgeID[kk]\n",
    "    ki=(np.where(tParam[bID,:,kk]==max(tParam[bID,:,kk]))[0].tolist())[0]\n",
    "    bP=line_point_full[bID][km+1]\n",
    "    aP=line_point_full[bID][km]\n",
    "    cP=line_point_full[ki][km]\n",
    "    line_edgePst=tParam[bID,ki,kk]*(bP-aP )+aP\n",
    "#     line_edgePst=aP\n",
    "    line_edge_full=line_edgePst.copy()\n",
    "    for kj in range(len(line_point_full)):\n",
    "        if (kj!=ki) and (kj!=bID):\n",
    "            bP=line_point_full[kj][km+1]\n",
    "            aP=line_point_full[kj][km]\n",
    "            line_edgeP=tParam[kj,ki,kk]*(bP-aP )+aP\n",
    "#             line_edgeP=aP\n",
    "            line_edge_full=np.vstack([line_edge_full,line_edgeP])\n",
    "\n",
    "#     line_edge_full=np.vstack([line_edge_full,cP])\n",
    "    line_edge_full=np.vstack([line_edge_full,cP])\n",
    "    line_edge_full=np.vstack([line_edge_full,line_edgePst])\n",
    "    line_edge_full2[kk]=line_edge_full\n",
    "    if kk==0:\n",
    "        tgv[kk]=line_edgePst/normV(line_edgePst)\n",
    "    else:\n",
    "        tgv[kk]=-line_edgePst/normV(line_edgePst)\n",
    "        \n",
    "#=================================\n",
    "# correction of twisted loop\n",
    "\n",
    "for kk in range(len(EdgeID)):\n",
    "    aP=line_edge_full2[kk][bID]\n",
    "    mP=(np.where(disVarray(line_edge_full2[kk][:]-aP)==max(disVarray(line_edge_full2[kk][:]-aP)))[0])[0]\n",
    "#     print(mP)\n",
    "    if mP!=2:\n",
    "        P2=line_edge_full2[kk][mP].copy()\n",
    "        P3=line_edge_full2[kk][2].copy()\n",
    "        line_edge_full2[kk][2]=P2\n",
    "        line_edge_full2[kk][mP]=P3\n",
    "\n",
    "vertices=line_edge_full2[:,:-1,:].copy()\n",
    "        \n",
    "#=================================\n",
    "\n",
    "fID1=[[0,0,1,1],[0,0,1,1],[0,0,1,1],[0,0,1,1]]\n",
    "fID2=[[0,1,1,0],[1,2,2,1],[2,3,3,2],[3,0,0,3]]\n",
    "fID3=[[1,2],[2,3],[3,0],[0,1]]\n",
    "\n",
    "tmpPf=[]\n",
    "for km in range(len(fID1)):\n",
    "    tmpP=[line_edge_full2[k1][k2].tolist() for k1,k2 in zip(fID1[km],fID2[km])]\n",
    "    tmpPf.append(tmpP)\n",
    "    \n",
    "vertices=np.vstack([vertices,np.array(tmpPf)])\n",
    "\n",
    "tmpT=[(line_edge_full2[0][tag[1]]-line_edge_full2[0][tag[0]]).tolist() for tag in fID3]\n",
    "normVec=[(np.array(tmpT[i])/(normVarray(tmpT)[i])).tolist() for i in range(len(tmpT))]\n",
    "\n",
    "tgv=np.vstack([tgv,np.array(normVec)])\n",
    "\n",
    "#============random box=============\n",
    "\n",
    "originalNd=len(vertices)\n",
    "\n",
    "regD=np.array([0.5,0.5,0.5])\n",
    "shiftD=np.array([6,0.5,0.5])\n",
    "reSz=0.2\n",
    "\n",
    "rboxF1=[[0,0,0],[0,0,1],[0,1,1],[0,1,0]]\n",
    "rboxF2=[[1,0,0],[1,0,1],[1,1,1],[1,1,0]]\n",
    "rboxF=np.array([rboxF1,rboxF2])\n",
    "# rboxF\n",
    "addD1=reSz*(rboxF-regD)+shiftD\n",
    "# vertices=np.vstack([vertices,addD])\n",
    "\n",
    "normVec=[[1,0,0],[-1,0,0]]\n",
    "tgv=np.vstack([tgv,np.array(normVec)])\n",
    "\n",
    "tmpPf=[]\n",
    "for km in range(len(fID1)):\n",
    "    tmpP=[rboxF[k1][k2].tolist() for k1,k2 in zip(fID1[km],fID2[km])]\n",
    "    tmpPf.append(tmpP)\n",
    "    \n",
    "addD2=reSz*(np.array(tmpPf)-regD)+shiftD\n",
    "vertices=np.vstack([vertices,addD1])\n",
    "vertices=np.vstack([vertices,addD2])\n",
    "\n",
    "tmpT=[(rboxF[0][tag[1]]-rboxF[0][tag[0]]).tolist() for tag in fID3]\n",
    "normVec=[(np.array(tmpT[i])/(normVarray(tmpT)[i])).tolist() for i in range(len(tmpT))]\n",
    "\n",
    "tgv=np.vstack([tgv,np.array(normVec)])\n",
    "\n",
    "#=================================\n",
    "\n",
    "\n",
    "axes = plt.figure(6).add_subplot(projection='3d')\n",
    "\n",
    "for k in range(len(line_point_full)):\n",
    "    axes.plot(line_point_full[k][:,0],line_point_full[k][:,1],line_point_full[k][:,2],'.-',label=str(k))\n",
    "\n",
    "for kk in range(len(EdgeID)):\n",
    "    if kk==0:\n",
    "        col='r'\n",
    "        labelL='st'\n",
    "    else:\n",
    "        col='b'\n",
    "        labelL='end'\n",
    "    axes.plot(line_edge_full2[kk][:,0],line_edge_full2[kk][:,1],line_edge_full2[kk][:,2],'.-',label=labelL,color=col)\n",
    "    \n",
    "axes.add_collection3d(Poly3DCollection(vertices, facecolors='lime', linewidths=1, edgecolors='b', alpha=0.2))\n",
    "    \n",
    "for k in range(len(vertices)):\n",
    "    axes.quiver(np.mean(vertices[k][:,0]), np.mean(vertices[k][:,1]),np.mean(vertices[k][:,2]), tgv[k][0],  tgv[k][1],  tgv[k][2], length=0.25, normalize=True)\n",
    "    \n",
    "axes.legend()\n",
    "axes.set_xlim(pRange_x)\n",
    "axes.set_ylim(pRange_yz)\n",
    "axes.set_zlim(pRange_yz)\n",
    "axes.set_xlabel('x')\n",
    "axes.set_ylabel('y')\n",
    "axes.set_zlabel('z')\n",
    "\n",
    "\n",
    "plt.show()\n",
    "\n",
    "print(originalNd)\n",
    "print(len(vertices))\n",
    "\n",
    "\n"
   ]
  },
  {
   "cell_type": "code",
   "execution_count": 385,
   "id": "9ac1fd0c",
   "metadata": {},
   "outputs": [
    {
     "data": {
      "text/plain": [
       "array([[[5.9, 0.4, 0.4],\n",
       "        [5.9, 0.4, 0.6],\n",
       "        [5.9, 0.6, 0.6],\n",
       "        [5.9, 0.6, 0.4]],\n",
       "\n",
       "       [[6.1, 0.4, 0.4],\n",
       "        [6.1, 0.4, 0.6],\n",
       "        [6.1, 0.6, 0.6],\n",
       "        [6.1, 0.6, 0.4]],\n",
       "\n",
       "       [[5.9, 0.4, 0.4],\n",
       "        [5.9, 0.4, 0.6],\n",
       "        [6.1, 0.4, 0.6],\n",
       "        [6.1, 0.4, 0.4]],\n",
       "\n",
       "       [[5.9, 0.4, 0.6],\n",
       "        [5.9, 0.6, 0.6],\n",
       "        [6.1, 0.6, 0.6],\n",
       "        [6.1, 0.4, 0.6]],\n",
       "\n",
       "       [[5.9, 0.6, 0.6],\n",
       "        [5.9, 0.6, 0.4],\n",
       "        [6.1, 0.6, 0.4],\n",
       "        [6.1, 0.6, 0.6]],\n",
       "\n",
       "       [[5.9, 0.6, 0.4],\n",
       "        [5.9, 0.4, 0.4],\n",
       "        [6.1, 0.4, 0.4],\n",
       "        [6.1, 0.6, 0.4]]])"
      ]
     },
     "execution_count": 385,
     "metadata": {},
     "output_type": "execute_result"
    }
   ],
   "source": [
    "addD=np.vstack([addD1,addD2])\n",
    "addD"
   ]
  },
  {
   "cell_type": "code",
   "execution_count": 54,
   "id": "ed4f812d",
   "metadata": {},
   "outputs": [
    {
     "name": "stdout",
     "output_type": "stream",
     "text": [
      "True\n"
     ]
    }
   ],
   "source": [
    "ioF = lambda g,v,v0: np.dot(g,np.transpose(v-v0))\n",
    "ioFv=lambda tP: [ioF(tgv[ki],tP,vertices[ki,0,:]) for ki in range(originalNd)]\n",
    "\n",
    "addD=np.vstack([addD1,addD2])\n",
    "\n",
    "sP=rboxF\n",
    "sP=addD+np.array([-10,0,0])\n",
    "sP=addD\n",
    "\n",
    "sP_flat=np.reshape(sP,(np.shape(sP)[0]*np.shape(sP)[1],3))  # flatten point vectors\n",
    "ioF2=[not(False in (np.array(ioFv(tP))>0).tolist()) for tP in sP_flat]\n",
    "ioF3=not(False in (np.array(ioF2)>0).tolist())\n",
    "\n",
    "print(ioF3)\n",
    "\n"
   ]
  },
  {
   "cell_type": "code",
   "execution_count": 55,
   "id": "141920f0",
   "metadata": {},
   "outputs": [
    {
     "data": {
      "text/plain": [
       "[True,\n",
       " True,\n",
       " True,\n",
       " True,\n",
       " True,\n",
       " True,\n",
       " True,\n",
       " True,\n",
       " True,\n",
       " True,\n",
       " True,\n",
       " True,\n",
       " True,\n",
       " True,\n",
       " True,\n",
       " True,\n",
       " True,\n",
       " True,\n",
       " True,\n",
       " True,\n",
       " True,\n",
       " True,\n",
       " True,\n",
       " True]"
      ]
     },
     "execution_count": 55,
     "metadata": {},
     "output_type": "execute_result"
    }
   ],
   "source": [
    "ioF2"
   ]
  },
  {
   "cell_type": "code",
   "execution_count": 47,
   "id": "16cd22c4",
   "metadata": {},
   "outputs": [
    {
     "name": "stdout",
     "output_type": "stream",
     "text": [
      "[5.9 0.4 0.6]\n",
      "[2.9000000000000004, 3.0999999999999996, 0.4, 0.4, 0.6, 0.6]\n"
     ]
    }
   ],
   "source": [
    "print(addD1[0][1])\n",
    "print(ioFv(addD1[0][1]))"
   ]
  },
  {
   "cell_type": "code",
   "execution_count": 52,
   "id": "1bc7820e",
   "metadata": {},
   "outputs": [
    {
     "data": {
      "text/plain": [
       "True"
      ]
     },
     "execution_count": 52,
     "metadata": {},
     "output_type": "execute_result"
    }
   ],
   "source": [
    "not(False in (np.array(ioFv(addD1[0][1]))>0).tolist())"
   ]
  },
  {
   "cell_type": "code",
   "execution_count": 44,
   "id": "4bd66b7d",
   "metadata": {},
   "outputs": [
    {
     "data": {
      "text/plain": [
       "6"
      ]
     },
     "execution_count": 44,
     "metadata": {},
     "output_type": "execute_result"
    }
   ],
   "source": [
    "originalNd"
   ]
  },
  {
   "cell_type": "code",
   "execution_count": 414,
   "id": "efb8f3c9",
   "metadata": {},
   "outputs": [
    {
     "data": {
      "text/plain": [
       "array([[0, 0, 0],\n",
       "       [0, 0, 1],\n",
       "       [0, 1, 1],\n",
       "       [0, 1, 0],\n",
       "       [1, 0, 0],\n",
       "       [1, 0, 1],\n",
       "       [1, 1, 1],\n",
       "       [1, 1, 0]])"
      ]
     },
     "execution_count": 414,
     "metadata": {},
     "output_type": "execute_result"
    }
   ],
   "source": [
    "[d[0].tolist() for d in rboxF]\n",
    "\n",
    "sP=rboxF\n",
    "np.reshape(sP,(np.shape(sP)[0]*np.shape(sP)[1],3))"
   ]
  },
  {
   "cell_type": "code",
   "execution_count": 57,
   "id": "fddf9c64",
   "metadata": {},
   "outputs": [
    {
     "name": "stdout",
     "output_type": "stream",
     "text": [
      "9\n"
     ]
    }
   ],
   "source": [
    "from scipy import interpolate\n",
    "# from mpl_toolkits.mplot3d import Axes3D\n",
    "import numpy as np\n",
    "import matplotlib.pyplot as plt\n",
    "\n",
    "pRange_x=np.array([-1,15])\n",
    "pRange_yz=np.array([-1,2])\n",
    "\n",
    "pRange_x=np.array([2,10])\n",
    "pRange_yz=np.array([-1,2])\n",
    "\n",
    "point_list=[[],[],[],[]]\n",
    "point_list[0]=[[0,0, 0],[3, 0, 0 ],[6, 0, 0 ],[12, 0, 0]]\n",
    "point_list[1]=[[0,0, 1],[3, 0, 1 ],[6, 0, 1 ],[12, 0, 1]]\n",
    "point_list[3]=[[0,1, 1],[3, 1, 1 ],[6, 1, 1 ],[12, 1, 1]]\n",
    "point_list[2]=[[0,1, 0],[3, 1, 0 ],[6, 1, 0 ],[12, 1, 0]]\n",
    "\n",
    "for k in range(len(point_list)):\n",
    "    line_points_prim=np.array([point_list[k]])\n",
    "    if k==0:\n",
    "        line_point_full=line_points_prim\n",
    "    else:\n",
    "        line_point_full=np.vstack([line_point_full,line_points_prim])\n",
    "# line_point_full\n",
    "\n",
    "for k in range(len(line_point_full)):\n",
    "    line_point_full[k]=line_point_full[k]+np.array([k,0,0])\n",
    "    \n",
    "#====== calc for connecting vectors   ======\n",
    "\n",
    "# base_id=0\n",
    "\n",
    "disV = lambda v: math.pow(v[0],2)+math.pow(v[1],2)+math.pow(v[2],2)\n",
    "disVarray = lambda v:np.sum(np.square(v),axis=1)\n",
    "innPv = lambda v,w: np.dot(v,np.transpose(w))\n",
    "normV= lambda v: np.linalg.norm(v, ord=2)\n",
    "normVarray= lambda v: [np.linalg.norm(d, ord=2) for d in v]\n",
    "ioF = lambda g,v,v0: np.dot(g,np.transpose(v-v0))\n",
    "\n",
    "EdgeID=[0,np.shape(line_point_full)[1]-2]\n",
    "tParam=np.full((len(line_point_full),len(line_point_full),2),0,dtype=np.double)\n",
    "tV=np.full((len(line_point_full),len(line_point_full),2),0,dtype=np.double)\n",
    "\n",
    "for kk in range(len(EdgeID)):\n",
    "    km=EdgeID[kk]\n",
    "    tmpP=line_point_full[:,km,:]\n",
    "    tmpP2=line_point_full[:,km+1,:]\n",
    "    \n",
    "    for ki in range(len(line_point_full)):\n",
    "        aP=tmpP[ki]\n",
    "        bP=tmpP2[ki]\n",
    "        for kj in range(len(line_point_full)):\n",
    "            if kj!=ki:\n",
    "                cP=tmpP[kj]\n",
    "                disD=disV(bP-aP)\n",
    "                inpD=innPv((cP-aP),(bP-aP))\n",
    "                if disD>0:\n",
    "                    tParam[ki,kj,kk]=inpD/disD\n",
    "    \n",
    "bID=0\n",
    "line_edge_full2=np.full((2,len(line_point_full)+1,3),0,dtype=np.double)\n",
    "tgv=np.full((2,3),0,dtype=np.double)\n",
    "\n",
    "for kk in range(len(EdgeID)):\n",
    "    km=EdgeID[kk]\n",
    "    ki=(np.where(tParam[bID,:,kk]==max(tParam[bID,:,kk]))[0].tolist())[0]\n",
    "    bP=line_point_full[bID][km+1]\n",
    "    aP=line_point_full[bID][km]\n",
    "    cP=line_point_full[ki][km]\n",
    "    line_edgePst=tParam[bID,ki,kk]*(bP-aP )+aP\n",
    "#     line_edgePst=aP\n",
    "    line_edge_full=line_edgePst.copy()\n",
    "    for kj in range(len(line_point_full)):\n",
    "        if (kj!=ki) and (kj!=bID):\n",
    "            bP=line_point_full[kj][km+1]\n",
    "            aP=line_point_full[kj][km]\n",
    "            line_edgeP=tParam[kj,ki,kk]*(bP-aP )+aP\n",
    "#             line_edgeP=aP\n",
    "            line_edge_full=np.vstack([line_edge_full,line_edgeP])\n",
    "\n",
    "#     line_edge_full=np.vstack([line_edge_full,cP])\n",
    "    line_edge_full=np.vstack([line_edge_full,cP])\n",
    "    line_edge_full=np.vstack([line_edge_full,line_edgePst])\n",
    "    line_edge_full2[kk]=line_edge_full\n",
    "    if kk==0:\n",
    "        tgv[kk]=line_edgePst/normV(line_edgePst)\n",
    "    else:\n",
    "        tgv[kk]=-line_edgePst/normV(line_edgePst)\n",
    "        \n",
    "#=================================\n",
    "# correction of twisted loop\n",
    "\n",
    "for kk in range(len(EdgeID)):\n",
    "    aP=line_edge_full2[kk][bID]\n",
    "    mP=(np.where(disVarray(line_edge_full2[kk][:]-aP)==max(disVarray(line_edge_full2[kk][:]-aP)))[0])[0]\n",
    "#     print(mP)\n",
    "    if mP!=2:\n",
    "        P2=line_edge_full2[kk][mP].copy()\n",
    "        P3=line_edge_full2[kk][2].copy()\n",
    "        line_edge_full2[kk][2]=P2\n",
    "        line_edge_full2[kk][mP]=P3\n",
    "\n",
    "vertices=line_edge_full2[:,:-1,:].copy()\n",
    "        \n",
    "#=================================\n",
    "\n",
    "fID1=[[0,0,1,1],[0,0,1,1],[0,0,1,1],[0,0,1,1]]\n",
    "fID2=[[0,1,1,0],[1,2,2,1],[2,3,3,2],[3,0,0,3]]\n",
    "fID3=[[1,2],[2,3],[3,0],[0,1]]\n",
    "\n",
    "tmpPf=[]\n",
    "for km in range(len(fID1)):\n",
    "    tmpP=[line_edge_full2[k1][k2].tolist() for k1,k2 in zip(fID1[km],fID2[km])]\n",
    "    tmpPf.append(tmpP)\n",
    "    \n",
    "vertices=np.vstack([vertices,np.array(tmpPf)])\n",
    "\n",
    "tmpT=[(line_edge_full2[0][tag[1]]-line_edge_full2[0][tag[0]]).tolist() for tag in fID3]\n",
    "normVec=[(np.array(tmpT[i])/(normVarray(tmpT)[i])).tolist() for i in range(len(tmpT))]\n",
    "\n",
    "tgv=np.vstack([tgv,np.array(normVec)])\n",
    "\n",
    "#============random box=============\n",
    "\n",
    "originalNd=len(vertices)\n",
    "\n",
    "regD=np.array([0.5,0.5,0.5])\n",
    "shiftD=np.array([6,0.5,0.5])\n",
    "reSz=0.2\n",
    "\n",
    "rboxF1=[[0,0,0],[0,0,1],[0,1,1],[0,1,0]]\n",
    "rboxF2=[[1,0,0],[1,0,1],[1,1,1],[1,1,0]]\n",
    "rboxF=np.array([rboxF1,rboxF2])\n",
    "# rboxF\n",
    "\n",
    "kgP=0\n",
    "rN=10\n",
    "randP=(2*(np.random.rand(rN,3)-0.5))*[5,1,1]+[6,0.5,0.5]\n",
    "# randP=(2*(np.random.rand(rN,3)-0.5))*[10,5,5]\n",
    "# randP=(2*(np.random.rand(rN,3)-0.5))*[3,0.5,0.5]+[6,0.5,0.5]\n",
    "for kg in range(len(randP)):\n",
    "    shiftD=randP[kg]\n",
    "    addD1=reSz*(rboxF-regD)+shiftD\n",
    "    # vertices=np.vstack([vertices,addD])\n",
    "\n",
    "    normVec=[[1,0,0],[-1,0,0]]\n",
    "    tgv=np.vstack([tgv,np.array(normVec)])\n",
    "\n",
    "    tmpPf=[]\n",
    "    for km in range(len(fID1)):\n",
    "        tmpP=[rboxF[k1][k2].tolist() for k1,k2 in zip(fID1[km],fID2[km])]\n",
    "        tmpPf.append(tmpP)\n",
    "\n",
    "    addD2=reSz*(np.array(tmpPf)-regD)+shiftD\n",
    "\n",
    "\n",
    "    # check whether the generated random box is inside or outside of the area\n",
    "    \n",
    "    ioF = lambda g,v,v0: np.dot(g,np.transpose(v-v0))\n",
    "    ioFv=lambda tP: [ioF(tgv[ki],tP,vertices[ki,0,:]) for ki in range(originalNd)]\n",
    "\n",
    "    addD=np.vstack([addD1,addD2])\n",
    "\n",
    "    sP=addD\n",
    "    sP_flat=np.reshape(sP,(np.shape(sP)[0]*np.shape(sP)[1],3))  # flatten point vectors\n",
    "    ioF2=[not(False in (np.array(ioFv(tP))>0).tolist()) for tP in sP_flat]\n",
    "    ioF3=not(True in ioF2)\n",
    "    \n",
    "    \n",
    "# ===\n",
    "    if ioF3:\n",
    "        kgP=kgP+1\n",
    "#         print(kgP)\n",
    "#         print((ioF3))\n",
    "#         addD=np.vstack([addD1,addD2])\n",
    "\n",
    "        tmpT=[(rboxF[0][tag[1]]-rboxF[0][tag[0]]).tolist() for tag in fID3]\n",
    "        normVec=[(np.array(tmpT[i])/(normVarray(tmpT)[i])).tolist() for i in range(len(tmpT))]\n",
    "\n",
    "        vertices=np.vstack([vertices,addD])\n",
    "        tgv=np.vstack([tgv,np.array(normVec)])\n",
    "        addDpre=addD.copy()\n",
    "\n",
    "#=================================\n",
    "print(kgP)\n",
    "# print(not(ioF3))\n",
    "\n",
    "axes = plt.figure(7).add_subplot(projection='3d')\n",
    "\n",
    "for k in range(len(line_point_full)):\n",
    "    axes.plot(line_point_full[k][:,0],line_point_full[k][:,1],line_point_full[k][:,2],'.-',label=str(k))\n",
    "\n",
    "for kk in range(len(EdgeID)):\n",
    "    if kk==0:\n",
    "        col='r'\n",
    "        labelL='st'\n",
    "    else:\n",
    "        col='b'\n",
    "        labelL='end'\n",
    "    axes.plot(line_edge_full2[kk][:,0],line_edge_full2[kk][:,1],line_edge_full2[kk][:,2],'.-',label=labelL,color=col)\n",
    "    \n",
    "axes.add_collection3d(Poly3DCollection(vertices, facecolors='lime', linewidths=1, edgecolors='b', alpha=0.2))\n",
    "    \n",
    "for k in range(len(vertices)):\n",
    "    axes.quiver(np.mean(vertices[k][:,0]), np.mean(vertices[k][:,1]),np.mean(vertices[k][:,2]), tgv[k][0],  tgv[k][1],  tgv[k][2], length=0.25, normalize=True)\n",
    "    \n",
    "axes.legend()\n",
    "axes.set_xlim(pRange_x)\n",
    "axes.set_ylim(pRange_yz)\n",
    "axes.set_zlim(pRange_yz)\n",
    "axes.set_xlabel('x')\n",
    "axes.set_ylabel('y')\n",
    "axes.set_zlabel('z')\n",
    "\n",
    "\n",
    "plt.show()\n",
    "\n",
    "# print(originalNd)\n",
    "# print(len(vertices))\n",
    "\n",
    "\n"
   ]
  },
  {
   "cell_type": "code",
   "execution_count": 58,
   "id": "28102f8e",
   "metadata": {},
   "outputs": [
    {
     "name": "stdout",
     "output_type": "stream",
     "text": [
      "484\n"
     ]
    }
   ],
   "source": [
    "from scipy import interpolate\n",
    "# from mpl_toolkits.mplot3d import Axes3D\n",
    "import numpy as np\n",
    "import matplotlib.pyplot as plt\n",
    "\n",
    "pRange_x=np.array([-1,15])\n",
    "pRange_yz=np.array([-1,2])\n",
    "\n",
    "pRange_x=np.array([1,10])\n",
    "pRange_yz=np.array([-2,5])\n",
    "\n",
    "point_list=[[],[],[],[]]\n",
    "point_list[0]=[[0,0, 0],[3, 0, 0 ],[6, 0, 0 ],[12, 0, 0]]\n",
    "point_list[1]=[[0,0, 1],[3, 0, 1 ],[6, 0, 1 ],[12, 0, 1]]\n",
    "point_list[3]=[[0,1, 1],[3, 1, 1 ],[6, 1, 1 ],[12, 1, 1]]\n",
    "point_list[2]=[[0,1, 0],[3, 1, 0 ],[6, 1, 0 ],[12, 1, 0]]\n",
    "\n",
    "for k in range(len(point_list)):\n",
    "    line_points_prim=np.array([point_list[k]])\n",
    "    if k==0:\n",
    "        line_point_full=line_points_prim\n",
    "    else:\n",
    "        line_point_full=np.vstack([line_point_full,line_points_prim])\n",
    "# line_point_full\n",
    "\n",
    "for k in range(len(line_point_full)):\n",
    "    line_point_full[k]=line_point_full[k]+np.array([k,0,0])\n",
    "    \n",
    "#====== calc for connecting vectors   ======\n",
    "\n",
    "# base_id=0\n",
    "\n",
    "disV = lambda v: math.pow(v[0],2)+math.pow(v[1],2)+math.pow(v[2],2)\n",
    "disVarray = lambda v:np.sum(np.square(v),axis=1)\n",
    "innPv = lambda v,w: np.dot(v,np.transpose(w))\n",
    "normV= lambda v: np.linalg.norm(v, ord=2)\n",
    "normVarray= lambda v: [np.linalg.norm(d, ord=2) for d in v]\n",
    "ioF = lambda g,v,v0: np.dot(g,np.transpose(v-v0))\n",
    "\n",
    "EdgeID=[0,np.shape(line_point_full)[1]-2]\n",
    "tParam=np.full((len(line_point_full),len(line_point_full),2),0,dtype=np.double)\n",
    "tV=np.full((len(line_point_full),len(line_point_full),2),0,dtype=np.double)\n",
    "\n",
    "for kk in range(len(EdgeID)):\n",
    "    km=EdgeID[kk]\n",
    "    tmpP=line_point_full[:,km,:]\n",
    "    tmpP2=line_point_full[:,km+1,:]\n",
    "    \n",
    "    for ki in range(len(line_point_full)):\n",
    "        aP=tmpP[ki]\n",
    "        bP=tmpP2[ki]\n",
    "        for kj in range(len(line_point_full)):\n",
    "            if kj!=ki:\n",
    "                cP=tmpP[kj]\n",
    "                disD=disV(bP-aP)\n",
    "                inpD=innPv((cP-aP),(bP-aP))\n",
    "                if disD>0:\n",
    "                    tParam[ki,kj,kk]=inpD/disD\n",
    "    \n",
    "bID=0\n",
    "line_edge_full2=np.full((2,len(line_point_full)+1,3),0,dtype=np.double)\n",
    "tgv=np.full((2,3),0,dtype=np.double)\n",
    "\n",
    "for kk in range(len(EdgeID)):\n",
    "    km=EdgeID[kk]\n",
    "    ki=(np.where(tParam[bID,:,kk]==max(tParam[bID,:,kk]))[0].tolist())[0]\n",
    "    bP=line_point_full[bID][km+1]\n",
    "    aP=line_point_full[bID][km]\n",
    "    cP=line_point_full[ki][km]\n",
    "    line_edgePst=tParam[bID,ki,kk]*(bP-aP )+aP\n",
    "#     line_edgePst=aP\n",
    "    line_edge_full=line_edgePst.copy()\n",
    "    for kj in range(len(line_point_full)):\n",
    "        if (kj!=ki) and (kj!=bID):\n",
    "            bP=line_point_full[kj][km+1]\n",
    "            aP=line_point_full[kj][km]\n",
    "            line_edgeP=tParam[kj,ki,kk]*(bP-aP )+aP\n",
    "#             line_edgeP=aP\n",
    "            line_edge_full=np.vstack([line_edge_full,line_edgeP])\n",
    "\n",
    "#     line_edge_full=np.vstack([line_edge_full,cP])\n",
    "    line_edge_full=np.vstack([line_edge_full,cP])\n",
    "    line_edge_full=np.vstack([line_edge_full,line_edgePst])\n",
    "    line_edge_full2[kk]=line_edge_full\n",
    "    if kk==0:\n",
    "        tgv[kk]=line_edgePst/normV(line_edgePst)\n",
    "    else:\n",
    "        tgv[kk]=-line_edgePst/normV(line_edgePst)\n",
    "        \n",
    "#=================================\n",
    "# correction of twisted loop\n",
    "\n",
    "for kk in range(len(EdgeID)):\n",
    "    aP=line_edge_full2[kk][bID]\n",
    "    mP=(np.where(disVarray(line_edge_full2[kk][:]-aP)==max(disVarray(line_edge_full2[kk][:]-aP)))[0])[0]\n",
    "#     print(mP)\n",
    "    if mP!=2:\n",
    "        P2=line_edge_full2[kk][mP].copy()\n",
    "        P3=line_edge_full2[kk][2].copy()\n",
    "        line_edge_full2[kk][2]=P2\n",
    "        line_edge_full2[kk][mP]=P3\n",
    "\n",
    "vertices=line_edge_full2[:,:-1,:].copy()\n",
    "        \n",
    "#=================================\n",
    "\n",
    "fID1=[[0,0,1,1],[0,0,1,1],[0,0,1,1],[0,0,1,1]]\n",
    "fID2=[[0,1,1,0],[1,2,2,1],[2,3,3,2],[3,0,0,3]]\n",
    "fID3=[[1,2],[2,3],[3,0],[0,1]]\n",
    "\n",
    "tmpPf=[]\n",
    "for km in range(len(fID1)):\n",
    "    tmpP=[line_edge_full2[k1][k2].tolist() for k1,k2 in zip(fID1[km],fID2[km])]\n",
    "    tmpPf.append(tmpP)\n",
    "    \n",
    "vertices=np.vstack([vertices,np.array(tmpPf)])\n",
    "\n",
    "tmpT=[(line_edge_full2[0][tag[1]]-line_edge_full2[0][tag[0]]).tolist() for tag in fID3]\n",
    "normVec=[(np.array(tmpT[i])/(normVarray(tmpT)[i])).tolist() for i in range(len(tmpT))]\n",
    "\n",
    "tgv=np.vstack([tgv,np.array(normVec)])\n",
    "\n",
    "#============random box=============\n",
    "\n",
    "originalNd=len(vertices)\n",
    "\n",
    "regD=np.array([0.5,0.5,0.5])\n",
    "shiftD=np.array([6,0.5,0.5])\n",
    "reSz=0.2\n",
    "\n",
    "rboxF1=[[0,0,0],[0,0,1],[0,1,1],[0,1,0]]\n",
    "rboxF2=[[1,0,0],[1,0,1],[1,1,1],[1,1,0]]\n",
    "rboxF=np.array([rboxF1,rboxF2])\n",
    "# rboxF\n",
    "\n",
    "kgP=0\n",
    "rN=500\n",
    "randP=(2*(np.random.rand(rN,3)-0.5))*[5,3,3]+[6,0.5,0.5]\n",
    "# randP=(2*(np.random.rand(rN,3)-0.5))*[10,5,5]\n",
    "# randP=(2*(np.random.rand(rN,3)-0.5))*[3,0.5,0.5]+[6,0.5,0.5]\n",
    "for kg in range(len(randP)):\n",
    "    shiftD=randP[kg]\n",
    "    addD1=reSz*(rboxF-regD)+shiftD\n",
    "    # vertices=np.vstack([vertices,addD])\n",
    "\n",
    "    normVec=[[1,0,0],[-1,0,0]]\n",
    "    tgv=np.vstack([tgv,np.array(normVec)])\n",
    "\n",
    "    tmpPf=[]\n",
    "    for km in range(len(fID1)):\n",
    "        tmpP=[rboxF[k1][k2].tolist() for k1,k2 in zip(fID1[km],fID2[km])]\n",
    "        tmpPf.append(tmpP)\n",
    "\n",
    "    addD2=reSz*(np.array(tmpPf)-regD)+shiftD\n",
    "\n",
    "\n",
    "    # check whether the generated random box is inside or outside of the area\n",
    "    \n",
    "    ioF = lambda g,v,v0: np.dot(g,np.transpose(v-v0))\n",
    "    ioFv=lambda tP: [ioF(tgv[ki],tP,vertices[ki,0,:]) for ki in range(originalNd)]\n",
    "\n",
    "    addD=np.vstack([addD1,addD2])\n",
    "\n",
    "    sP=addD\n",
    "    sP_flat=np.reshape(sP,(np.shape(sP)[0]*np.shape(sP)[1],3))  # flatten point vectors\n",
    "    ioF2=[not(False in (np.array(ioFv(tP))>0).tolist()) for tP in sP_flat]\n",
    "    ioF3=not(True in ioF2)\n",
    "    \n",
    "    \n",
    "# ===\n",
    "    if ioF3:\n",
    "        kgP=kgP+1\n",
    "\n",
    "        tmpT=[(rboxF[0][tag[1]]-rboxF[0][tag[0]]).tolist() for tag in fID3]\n",
    "        normVec=[(np.array(tmpT[i])/(normVarray(tmpT)[i])).tolist() for i in range(len(tmpT))]\n",
    "\n",
    "        vertices=np.vstack([vertices,addD])\n",
    "        tgv=np.vstack([tgv,np.array(normVec)])\n",
    "        addDpre=addD.copy()\n",
    "\n",
    "#=================================\n",
    "print(kgP)\n",
    "# print(not(ioF3))\n",
    "\n",
    "axes = plt.figure(8).add_subplot(projection='3d')\n",
    "\n",
    "for k in range(len(line_point_full)):\n",
    "    axes.plot(line_point_full[k][:,0],line_point_full[k][:,1],line_point_full[k][:,2],'.-',label=str(k))\n",
    "\n",
    "for kk in range(len(EdgeID)):\n",
    "    if kk==0:\n",
    "        col='r'\n",
    "        labelL='st'\n",
    "    else:\n",
    "        col='b'\n",
    "        labelL='end'\n",
    "    axes.plot(line_edge_full2[kk][:,0],line_edge_full2[kk][:,1],line_edge_full2[kk][:,2],'.-',label=labelL,color=col)\n",
    "    \n",
    "axes.add_collection3d(Poly3DCollection(vertices, facecolors='lime', linewidths=1, edgecolors='b', alpha=0.2))\n",
    "    \n",
    "for k in range(len(vertices)):\n",
    "    axes.quiver(np.mean(vertices[k][:,0]), np.mean(vertices[k][:,1]),np.mean(vertices[k][:,2]), tgv[k][0],  tgv[k][1],  tgv[k][2], length=0.25, normalize=True)\n",
    "    \n",
    "axes.legend()\n",
    "axes.set_xlim(pRange_x)\n",
    "axes.set_ylim(pRange_yz)\n",
    "axes.set_zlim(pRange_yz)\n",
    "axes.set_xlabel('x')\n",
    "axes.set_ylabel('y')\n",
    "axes.set_zlabel('z')\n",
    "\n",
    "\n",
    "plt.show()"
   ]
  },
  {
   "cell_type": "code",
   "execution_count": 530,
   "id": "4d7d3936",
   "metadata": {},
   "outputs": [],
   "source": [
    "obP=vertices[originalNd:]\n",
    "sP=obP\n",
    "sP_flat=np.reshape(sP,(np.shape(sP)[0]*np.shape(sP)[1],3))  # flatten point vectors\n",
    "sP_flat\n",
    "\n",
    "sPx=sP_flat[:,0]\n",
    "sPy=sP_flat[:,1]\n",
    "sPz=sP_flat[:,2]\n"
   ]
  },
  {
   "cell_type": "code",
   "execution_count": 533,
   "id": "9596af22",
   "metadata": {},
   "outputs": [
    {
     "data": {
      "text/plain": [
       "<matplotlib.legend.Legend at 0x163f2e6a0>"
      ]
     },
     "execution_count": 533,
     "metadata": {},
     "output_type": "execute_result"
    }
   ],
   "source": [
    "fig = plt.figure(9)\n",
    "fig.clf(True)\n",
    "\n",
    "# NofD=4\n",
    "# maxR=np.array([-5,5])\n",
    "\n",
    "# plt.xticks(np.arange(maxR[0], maxR[1], 1))\n",
    "# plt.yticks(np.arange(maxR[0], maxR[1], 1))\n",
    "# plt.axis('equal')\n",
    "\n",
    "plt.grid(color=[0.5,0.5,0.5], linestyle='-', linewidth=0.5)\n",
    "\n",
    "\n",
    "plt.plot(sPx,'r.',markersize=1,label='x')\n",
    "plt.plot(sPy,'b.',markersize=1,label='y')\n",
    "plt.plot(sPz,'k.',markersize=1,label='z')\n",
    "\n",
    "plt.legend()\n",
    "# plt.title(\"Points\")   # title of the plot\n",
    "# plt.xlabel(\"x\")      # label in x axis\n",
    "# plt.ylabel(\"y\")      # label in y axis\n",
    "\n",
    "# plt.xlim(maxR)   # range in x axis\n",
    "# plt.ylim(maxR)     # range in x axis"
   ]
  },
  {
   "cell_type": "code",
   "execution_count": 514,
   "id": "5cb0d459",
   "metadata": {},
   "outputs": [
    {
     "name": "stdout",
     "output_type": "stream",
     "text": [
      "False\n"
     ]
    },
    {
     "data": {
      "text/plain": [
       "array([[[0, 0, 0],\n",
       "        [0, 0, 1],\n",
       "        [0, 1, 1],\n",
       "        [0, 1, 0]],\n",
       "\n",
       "       [[1, 0, 0],\n",
       "        [1, 0, 1],\n",
       "        [1, 1, 1],\n",
       "        [1, 1, 0]]])"
      ]
     },
     "execution_count": 514,
     "metadata": {},
     "output_type": "execute_result"
    }
   ],
   "source": [
    "\n",
    "sP=addDpre\n",
    "sP_flat=np.reshape(sP,(np.shape(sP)[0]*np.shape(sP)[1],3))  # flatten point vectors\n",
    "ioF2=[not(False in (np.array(ioFv(tP))>0).tolist()) for tP in sP_flat]\n",
    "ioF3=not(True in ioF2)\n",
    "    \n",
    "print(ioF3)\n",
    "rboxF"
   ]
  },
  {
   "cell_type": "code",
   "execution_count": 515,
   "id": "9d6e4aca",
   "metadata": {},
   "outputs": [
    {
     "name": "stdout",
     "output_type": "stream",
     "text": [
      "True\n"
     ]
    },
    {
     "data": {
      "text/plain": [
       "array([[[0, 0, 0],\n",
       "        [0, 0, 1],\n",
       "        [0, 1, 1],\n",
       "        [0, 1, 0]],\n",
       "\n",
       "       [[1, 0, 0],\n",
       "        [1, 0, 1],\n",
       "        [1, 1, 1],\n",
       "        [1, 1, 0]]])"
      ]
     },
     "execution_count": 515,
     "metadata": {},
     "output_type": "execute_result"
    }
   ],
   "source": [
    "\n",
    "sP=rboxF\n",
    "sP_flat=np.reshape(sP,(np.shape(sP)[0]*np.shape(sP)[1],3))  # flatten point vectors\n",
    "ioF2=[not(False in (np.array(ioFv(tP))>0).tolist()) for tP in sP_flat]\n",
    "ioF3=not(True in ioF2)\n",
    "    \n",
    "print(ioF3)\n",
    "rboxF"
   ]
  },
  {
   "cell_type": "code",
   "execution_count": 513,
   "id": "67cea381",
   "metadata": {},
   "outputs": [
    {
     "name": "stdout",
     "output_type": "stream",
     "text": [
      "[False, False, True, True, False, False, True, True, False, False, False, False, False, True, True, False, True, True, True, True, True, False, False, True]\n"
     ]
    },
    {
     "data": {
      "text/plain": [
       "False"
      ]
     },
     "execution_count": 513,
     "metadata": {},
     "output_type": "execute_result"
    }
   ],
   "source": [
    "ioF2=[not(False in (np.array(ioFv(tP))>0).tolist()) for tP in sP_flat]\n",
    "ioF3=not(True in ioF2)\n",
    "print(ioF2)\n",
    "\n",
    "ioF3"
   ]
  },
  {
   "cell_type": "code",
   "execution_count": 504,
   "id": "e69afd8e",
   "metadata": {},
   "outputs": [
    {
     "data": {
      "text/plain": [
       "[False,\n",
       " False,\n",
       " True,\n",
       " True,\n",
       " False,\n",
       " False,\n",
       " True,\n",
       " True,\n",
       " False,\n",
       " False,\n",
       " False,\n",
       " False,\n",
       " False,\n",
       " True,\n",
       " True,\n",
       " False,\n",
       " True,\n",
       " True,\n",
       " True,\n",
       " True,\n",
       " True,\n",
       " False,\n",
       " False,\n",
       " True]"
      ]
     },
     "execution_count": 504,
     "metadata": {},
     "output_type": "execute_result"
    }
   ],
   "source": [
    "[not(False in (np.array(ioFv(tP))>0).tolist()) for tP in sP_flat]\n"
   ]
  },
  {
   "cell_type": "code",
   "execution_count": 501,
   "id": "44a4ac41",
   "metadata": {},
   "outputs": [
    {
     "data": {
      "text/plain": [
       "[True,\n",
       " True,\n",
       " False,\n",
       " False,\n",
       " True,\n",
       " True,\n",
       " False,\n",
       " False,\n",
       " True,\n",
       " True,\n",
       " True,\n",
       " True,\n",
       " True,\n",
       " False,\n",
       " False,\n",
       " True,\n",
       " False,\n",
       " False,\n",
       " False,\n",
       " False,\n",
       " False,\n",
       " True,\n",
       " True,\n",
       " False]"
      ]
     },
     "execution_count": 501,
     "metadata": {},
     "output_type": "execute_result"
    }
   ],
   "source": [
    "ioF2"
   ]
  },
  {
   "cell_type": "code",
   "execution_count": 492,
   "id": "5c0824b8",
   "metadata": {},
   "outputs": [
    {
     "data": {
      "text/plain": [
       "False"
      ]
     },
     "execution_count": 492,
     "metadata": {},
     "output_type": "execute_result"
    }
   ],
   "source": [
    "\n",
    "sP=rboxF*0.2\n",
    "sP_flat=np.reshape(sP,(np.shape(sP)[0]*np.shape(sP)[1],3))  # flatten point vectors\n",
    "ioF2=[False in (np.array(ioFv(tP))>0).tolist() for tP in sP_flat]\n",
    "ioF3=not(True in (np.array(ioF2)>0).tolist())\n",
    "    \n",
    "ioF3\n",
    "    "
   ]
  },
  {
   "cell_type": "code",
   "execution_count": 494,
   "id": "82bf9291",
   "metadata": {},
   "outputs": [
    {
     "data": {
      "text/plain": [
       "array([[[0. , 0. , 0. ],\n",
       "        [0. , 0. , 0.2],\n",
       "        [0. , 0.2, 0.2],\n",
       "        [0. , 0.2, 0. ]],\n",
       "\n",
       "       [[0.2, 0. , 0. ],\n",
       "        [0.2, 0. , 0.2],\n",
       "        [0.2, 0.2, 0.2],\n",
       "        [0.2, 0.2, 0. ]]])"
      ]
     },
     "execution_count": 494,
     "metadata": {},
     "output_type": "execute_result"
    }
   ],
   "source": [
    "sP"
   ]
  },
  {
   "cell_type": "code",
   "execution_count": 495,
   "id": "2d66268a",
   "metadata": {},
   "outputs": [
    {
     "data": {
      "text/plain": [
       "array([[0. , 0. , 0. ],\n",
       "       [0. , 0. , 0.2],\n",
       "       [0. , 0.2, 0.2],\n",
       "       [0. , 0.2, 0. ],\n",
       "       [0.2, 0. , 0. ],\n",
       "       [0.2, 0. , 0.2],\n",
       "       [0.2, 0.2, 0.2],\n",
       "       [0.2, 0.2, 0. ]])"
      ]
     },
     "execution_count": 495,
     "metadata": {},
     "output_type": "execute_result"
    }
   ],
   "source": [
    "ioF2\n",
    "sP_flat"
   ]
  },
  {
   "cell_type": "code",
   "execution_count": 497,
   "id": "661890ee",
   "metadata": {},
   "outputs": [
    {
     "data": {
      "text/plain": [
       "[array([False,  True, False,  True,  True, False]),\n",
       " array([False,  True, False,  True,  True,  True]),\n",
       " array([False,  True,  True,  True,  True,  True]),\n",
       " array([False,  True,  True,  True,  True, False]),\n",
       " array([False,  True, False,  True,  True, False]),\n",
       " array([False,  True, False,  True,  True,  True]),\n",
       " array([False,  True,  True,  True,  True,  True]),\n",
       " array([False,  True,  True,  True,  True, False])]"
      ]
     },
     "execution_count": 497,
     "metadata": {},
     "output_type": "execute_result"
    }
   ],
   "source": [
    "[(np.array(ioFv(tP))>0) for tP in sP_flat]"
   ]
  },
  {
   "cell_type": "code",
   "execution_count": 479,
   "id": "6a99a667",
   "metadata": {},
   "outputs": [
    {
     "data": {
      "text/plain": [
       "True"
      ]
     },
     "execution_count": 479,
     "metadata": {},
     "output_type": "execute_result"
    }
   ],
   "source": [
    "ioF2=[False in (np.array(ioFv(tP))>0).tolist() for tP in sP_flat]\n",
    "False in (np.array(ioF2)>0).tolist()"
   ]
  },
  {
   "cell_type": "code",
   "execution_count": 473,
   "id": "d4e795c4",
   "metadata": {},
   "outputs": [
    {
     "data": {
      "text/plain": [
       "array([[[ 8.02643836, -0.06269959,  0.03900196],\n",
       "        [ 8.02643836, -0.06269959,  0.23900196],\n",
       "        [ 8.02643836,  0.13730041,  0.23900196],\n",
       "        [ 8.02643836,  0.13730041,  0.03900196]],\n",
       "\n",
       "       [[ 8.22643836, -0.06269959,  0.03900196],\n",
       "        [ 8.22643836, -0.06269959,  0.23900196],\n",
       "        [ 8.22643836,  0.13730041,  0.23900196],\n",
       "        [ 8.22643836,  0.13730041,  0.03900196]],\n",
       "\n",
       "       [[ 8.02643836, -0.06269959,  0.03900196],\n",
       "        [ 8.02643836, -0.06269959,  0.23900196],\n",
       "        [ 8.22643836, -0.06269959,  0.23900196],\n",
       "        [ 8.22643836, -0.06269959,  0.03900196]],\n",
       "\n",
       "       [[ 8.02643836, -0.06269959,  0.23900196],\n",
       "        [ 8.02643836,  0.13730041,  0.23900196],\n",
       "        [ 8.22643836,  0.13730041,  0.23900196],\n",
       "        [ 8.22643836, -0.06269959,  0.23900196]],\n",
       "\n",
       "       [[ 8.02643836,  0.13730041,  0.23900196],\n",
       "        [ 8.02643836,  0.13730041,  0.03900196],\n",
       "        [ 8.22643836,  0.13730041,  0.03900196],\n",
       "        [ 8.22643836,  0.13730041,  0.23900196]],\n",
       "\n",
       "       [[ 8.02643836,  0.13730041,  0.03900196],\n",
       "        [ 8.02643836, -0.06269959,  0.03900196],\n",
       "        [ 8.22643836, -0.06269959,  0.03900196],\n",
       "        [ 8.22643836,  0.13730041,  0.03900196]]])"
      ]
     },
     "execution_count": 473,
     "metadata": {},
     "output_type": "execute_result"
    }
   ],
   "source": [
    "addDpre"
   ]
  },
  {
   "cell_type": "code",
   "execution_count": 463,
   "id": "17e8b887",
   "metadata": {},
   "outputs": [
    {
     "data": {
      "text/plain": [
       "[True,\n",
       " True,\n",
       " True,\n",
       " True,\n",
       " True,\n",
       " True,\n",
       " True,\n",
       " True,\n",
       " True,\n",
       " True,\n",
       " True,\n",
       " True,\n",
       " True,\n",
       " True,\n",
       " True,\n",
       " True,\n",
       " True,\n",
       " True,\n",
       " True,\n",
       " True,\n",
       " True,\n",
       " True,\n",
       " True,\n",
       " True]"
      ]
     },
     "execution_count": 463,
     "metadata": {},
     "output_type": "execute_result"
    }
   ],
   "source": [
    "ioF2"
   ]
  },
  {
   "cell_type": "code",
   "execution_count": 459,
   "id": "e9c79549",
   "metadata": {},
   "outputs": [
    {
     "data": {
      "text/plain": [
       "array([[[6.54738702, 0.03997229, 0.68157335],\n",
       "        [6.54738702, 0.03997229, 0.88157335],\n",
       "        [6.54738702, 0.23997229, 0.88157335],\n",
       "        [6.54738702, 0.23997229, 0.68157335]],\n",
       "\n",
       "       [[6.74738702, 0.03997229, 0.68157335],\n",
       "        [6.74738702, 0.03997229, 0.88157335],\n",
       "        [6.74738702, 0.23997229, 0.88157335],\n",
       "        [6.74738702, 0.23997229, 0.68157335]],\n",
       "\n",
       "       [[6.54738702, 0.03997229, 0.68157335],\n",
       "        [6.54738702, 0.03997229, 0.88157335],\n",
       "        [6.74738702, 0.03997229, 0.88157335],\n",
       "        [6.74738702, 0.03997229, 0.68157335]],\n",
       "\n",
       "       [[6.54738702, 0.03997229, 0.88157335],\n",
       "        [6.54738702, 0.23997229, 0.88157335],\n",
       "        [6.74738702, 0.23997229, 0.88157335],\n",
       "        [6.74738702, 0.03997229, 0.88157335]],\n",
       "\n",
       "       [[6.54738702, 0.23997229, 0.88157335],\n",
       "        [6.54738702, 0.23997229, 0.68157335],\n",
       "        [6.74738702, 0.23997229, 0.68157335],\n",
       "        [6.74738702, 0.23997229, 0.88157335]],\n",
       "\n",
       "       [[6.54738702, 0.23997229, 0.68157335],\n",
       "        [6.54738702, 0.03997229, 0.68157335],\n",
       "        [6.74738702, 0.03997229, 0.68157335],\n",
       "        [6.74738702, 0.23997229, 0.68157335]]])"
      ]
     },
     "execution_count": 459,
     "metadata": {},
     "output_type": "execute_result"
    }
   ],
   "source": [
    "addD"
   ]
  },
  {
   "cell_type": "code",
   "execution_count": 442,
   "id": "dc86884c",
   "metadata": {},
   "outputs": [
    {
     "data": {
      "text/plain": [
       "array([[ 3.38141519e+00, -3.18637670e-01, -2.92493208e-01],\n",
       "       [ 1.38846154e+00,  1.28327041e+00, -4.46942348e-01],\n",
       "       [ 3.71944551e+00,  1.09114002e+00, -1.91250828e+00],\n",
       "       [ 3.98321346e+00,  6.31725338e-01, -1.26722473e+00],\n",
       "       [-2.24624641e+00, -5.80230677e-01, -1.80476592e+00],\n",
       "       [ 1.13861354e+00, -1.64695295e-01, -1.08425543e-01],\n",
       "       [ 2.85635924e-01,  2.76608819e-01,  1.52927081e+00],\n",
       "       [ 3.07309676e+00,  1.84013290e+00,  1.34570681e+00],\n",
       "       [ 2.13791812e+00,  8.13232248e-01, -1.94025036e+00],\n",
       "       [ 2.65810704e+00,  1.97564618e+00,  7.23252486e-01],\n",
       "       [ 4.06787636e+00,  3.68084106e-01,  1.39567887e+00],\n",
       "       [-1.63308804e+00, -1.54763809e-02,  1.05789655e+00],\n",
       "       [-3.83174875e+00, -1.05460815e+00,  2.90261732e-01],\n",
       "       [-2.26330002e+00, -8.05340154e-02, -6.61013696e-01],\n",
       "       [ 4.07180766e+00, -4.21010815e-01, -5.94479090e-01],\n",
       "       [-1.42478821e+00,  6.96495797e-01, -1.67169393e-02],\n",
       "       [-3.68109214e+00,  1.65983461e+00, -1.78568837e+00],\n",
       "       [ 4.23411503e+00,  5.58029135e-02,  1.24308160e-01],\n",
       "       [-3.47896810e+00, -1.23060187e+00, -6.11568079e-01],\n",
       "       [ 1.96522329e+00, -1.57223198e+00, -1.17134312e+00],\n",
       "       [-2.85814537e+00,  5.28799995e-01,  1.31034145e+00],\n",
       "       [-1.76405144e+00, -1.99585577e+00,  3.13358906e-01],\n",
       "       [ 1.15520555e+00, -1.71560321e+00, -6.46860121e-01],\n",
       "       [-5.35180878e-01,  4.08413559e-01, -1.98443659e+00],\n",
       "       [ 1.13335127e+00,  4.56048505e-01,  1.70115546e+00],\n",
       "       [-3.75614551e-01,  1.50927144e+00, -4.95679478e-01],\n",
       "       [ 4.92536629e+00,  2.53579205e-02, -8.38248092e-01],\n",
       "       [ 3.51213704e+00,  1.70818360e+00,  1.86508294e+00],\n",
       "       [-2.72379549e+00, -8.47107299e-01, -9.12832560e-01],\n",
       "       [-4.50175595e+00,  1.29398336e-03, -1.19545107e+00],\n",
       "       [-2.79866368e+00, -4.41889539e-01, -1.48382515e+00],\n",
       "       [ 4.72635856e+00, -3.15406385e-01,  1.08181995e+00],\n",
       "       [-2.69435280e+00, -1.69139497e+00,  1.71595602e+00],\n",
       "       [ 3.40915724e+00,  8.34432352e-02,  5.67214869e-01],\n",
       "       [-1.95684071e+00,  1.82620346e+00,  4.10654867e-01],\n",
       "       [-2.21428836e+00, -8.13019032e-01, -1.84801894e-01],\n",
       "       [ 1.34029579e-01,  8.64613146e-01,  3.43305027e-01],\n",
       "       [ 2.26738896e+00,  1.55613362e+00,  5.50912963e-01],\n",
       "       [-5.12736355e-01, -6.57807074e-01, -7.67050802e-01],\n",
       "       [ 3.19074887e+00, -1.49480519e+00,  2.48671935e-01],\n",
       "       [ 4.14997188e+00, -1.76906556e-01,  1.41293682e+00],\n",
       "       [-1.28790319e+00, -2.72428951e-02,  1.43242882e+00],\n",
       "       [-4.57771243e+00, -8.29999668e-01,  7.42057621e-01],\n",
       "       [-3.31903096e-01,  3.32100052e-01,  4.13498084e-01],\n",
       "       [ 6.07686614e-01,  1.58311702e+00,  1.54334523e+00],\n",
       "       [ 5.67541467e-01, -1.02972125e+00, -1.73345233e+00],\n",
       "       [ 5.16462954e-01, -1.73517286e+00,  1.25890501e+00],\n",
       "       [ 4.92647466e+00,  1.96989337e+00,  1.69165054e+00],\n",
       "       [ 1.38052801e+00,  6.37342938e-01,  8.78777530e-01],\n",
       "       [ 3.38552510e+00,  1.78677773e+00,  6.77194471e-01],\n",
       "       [ 2.79591911e+00, -1.68336251e+00,  7.57954921e-01],\n",
       "       [-4.31229264e+00,  1.63048109e+00, -1.79036825e+00],\n",
       "       [-4.08697081e+00,  7.32230390e-01, -4.09989899e-01],\n",
       "       [-2.11026487e+00, -2.58255544e-01, -2.49892269e-01],\n",
       "       [ 7.39581474e-01,  5.77853017e-01,  1.90006883e+00],\n",
       "       [-1.66726726e+00, -1.29282231e+00,  1.69063717e+00],\n",
       "       [-3.37194400e+00,  3.04057635e-01, -1.43963351e+00],\n",
       "       [-1.73628685e+00,  1.55146623e+00,  1.32201934e+00],\n",
       "       [ 3.50978071e+00, -1.75209067e+00, -1.60421040e+00],\n",
       "       [-2.79194755e-01,  1.84366359e+00,  1.52845476e+00],\n",
       "       [ 2.45158590e-01, -1.49029406e-01, -1.68609602e+00],\n",
       "       [-4.58789372e+00, -1.78969056e+00, -1.73809844e+00],\n",
       "       [-1.55498374e-01, -2.42862020e-01, -5.63653745e-01],\n",
       "       [-3.16674714e+00, -1.84276334e+00, -6.30577958e-01],\n",
       "       [ 1.60422302e+00, -1.49619777e+00, -1.75957365e+00],\n",
       "       [ 3.98552491e+00, -1.68586707e+00,  3.88754837e-03],\n",
       "       [-4.84743134e+00,  1.57231843e+00, -2.18105340e-01],\n",
       "       [-4.19546787e+00,  1.68744587e+00,  1.20570914e+00],\n",
       "       [-4.43057443e+00,  5.07481424e-01, -6.12953446e-01],\n",
       "       [-1.73802156e+00,  1.40619196e+00,  1.94650994e+00],\n",
       "       [-7.74327375e-01, -1.39499990e+00,  3.05639031e-01],\n",
       "       [-1.85198335e+00, -1.68791570e+00, -1.79943176e+00],\n",
       "       [ 3.04656395e+00,  2.36488139e-01, -1.10767384e+00],\n",
       "       [ 1.87334201e+00, -7.22796925e-01, -1.62690760e+00],\n",
       "       [-4.17339252e+00, -6.98580416e-01,  4.76717788e-01],\n",
       "       [ 1.87715000e+00, -1.36390181e+00, -2.65967880e-01],\n",
       "       [ 1.79115573e+00, -1.07936794e+00, -4.07755397e-01],\n",
       "       [-2.29070085e-01,  1.31783523e+00, -1.32237251e-01],\n",
       "       [ 4.24011460e+00,  3.36876057e-02, -1.48391484e+00],\n",
       "       [ 1.87058551e+00,  1.42417567e+00, -4.73506121e-01],\n",
       "       [-1.83593311e+00, -3.32469654e-01,  1.37445296e-01],\n",
       "       [-4.27041761e+00,  1.63242419e+00,  7.19053778e-01],\n",
       "       [ 2.31587201e+00,  9.41171587e-01,  1.20976735e+00],\n",
       "       [ 3.22664037e+00, -1.13571773e+00, -3.09788657e-01],\n",
       "       [ 4.61925557e+00,  1.10786679e+00, -1.20456766e+00],\n",
       "       [ 2.51723129e+00,  1.16207287e+00,  1.29617685e+00],\n",
       "       [ 5.06315740e-01,  1.98578131e+00,  1.11378478e+00],\n",
       "       [-4.01737753e+00,  1.53850490e-01,  1.59640547e-01],\n",
       "       [-4.56258164e+00, -2.81523423e-01,  1.78878774e+00],\n",
       "       [ 4.26945801e+00,  5.05635265e-02,  1.87410408e+00],\n",
       "       [-1.15294979e+00,  1.66519952e+00, -6.69135791e-01],\n",
       "       [-4.41794857e+00, -1.89959069e-02,  7.57601499e-01],\n",
       "       [-1.73027433e+00,  1.36861580e+00, -4.36138847e-01],\n",
       "       [-2.95610286e+00,  1.26820471e+00, -1.27790134e+00],\n",
       "       [-4.39781561e+00,  1.48237201e-01, -1.08949913e+00],\n",
       "       [-4.64592578e+00,  8.80107677e-01, -1.94496512e+00],\n",
       "       [-8.01600070e-01, -2.06428085e-02, -1.56310992e+00],\n",
       "       [-2.41274625e+00, -1.03040430e+00,  1.72200108e+00],\n",
       "       [-4.15079438e+00,  3.88607045e-01,  8.60964922e-01],\n",
       "       [-1.51115260e+00,  2.57517397e-01, -9.41851146e-02]])"
      ]
     },
     "execution_count": 442,
     "metadata": {},
     "output_type": "execute_result"
    }
   ],
   "source": [
    "randP"
   ]
  },
  {
   "cell_type": "code",
   "execution_count": 434,
   "id": "942a689a",
   "metadata": {},
   "outputs": [
    {
     "name": "stdout",
     "output_type": "stream",
     "text": [
      "[[ 2.97967423  1.53656839  0.6550831 ]\n",
      " [-2.6346771  -0.85273935 -2.85945922]\n",
      " [ 5.07713026 -0.13909191 -0.87205377]\n",
      " [ 9.70264289 -0.49855226  0.55160983]\n",
      " [ 0.49715382 -1.4555409   2.62112453]\n",
      " [-4.68835469 -0.88254569  2.47496651]\n",
      " [-8.12231491 -0.35881022 -1.5458975 ]\n",
      " [-9.97846521 -1.81375898 -0.56485306]\n",
      " [ 4.0088594   0.29357003  2.87352577]\n",
      " [ 8.31724902  1.31692383 -1.73748046]]\n",
      "---\n",
      "[ 2.97967423 -2.6346771   5.07713026  9.70264289  0.49715382 -4.68835469\n",
      " -8.12231491 -9.97846521  4.0088594   8.31724902]\n",
      "---\n",
      "[2.97967423 1.53656839 0.6550831 ]\n"
     ]
    }
   ],
   "source": [
    "randP=(2*(np.random.rand(10,3)-0.5))*[10,2,3]\n",
    "print(randP)\n",
    "print('---')\n",
    "print(randP[:,0])\n",
    "print('---')\n",
    "print(randP[0])"
   ]
  },
  {
   "cell_type": "code",
   "execution_count": 395,
   "id": "72514ff3",
   "metadata": {},
   "outputs": [
    {
     "data": {
      "text/plain": [
       "[True, True, True, True, True, True]"
      ]
     },
     "execution_count": 395,
     "metadata": {},
     "output_type": "execute_result"
    }
   ],
   "source": [
    "ioF2"
   ]
  },
  {
   "cell_type": "code",
   "execution_count": 394,
   "id": "e4376337",
   "metadata": {},
   "outputs": [
    {
     "data": {
      "text/plain": [
       "array([[[-4.1,  0.4,  0.4],\n",
       "        [-4.1,  0.4,  0.6],\n",
       "        [-4.1,  0.6,  0.6],\n",
       "        [-4.1,  0.6,  0.4]],\n",
       "\n",
       "       [[-3.9,  0.4,  0.4],\n",
       "        [-3.9,  0.4,  0.6],\n",
       "        [-3.9,  0.6,  0.6],\n",
       "        [-3.9,  0.6,  0.4]],\n",
       "\n",
       "       [[-4.1,  0.4,  0.4],\n",
       "        [-4.1,  0.4,  0.6],\n",
       "        [-3.9,  0.4,  0.6],\n",
       "        [-3.9,  0.4,  0.4]],\n",
       "\n",
       "       [[-4.1,  0.4,  0.6],\n",
       "        [-4.1,  0.6,  0.6],\n",
       "        [-3.9,  0.6,  0.6],\n",
       "        [-3.9,  0.4,  0.6]],\n",
       "\n",
       "       [[-4.1,  0.6,  0.6],\n",
       "        [-4.1,  0.6,  0.4],\n",
       "        [-3.9,  0.6,  0.4],\n",
       "        [-3.9,  0.6,  0.6]],\n",
       "\n",
       "       [[-4.1,  0.6,  0.4],\n",
       "        [-4.1,  0.4,  0.4],\n",
       "        [-3.9,  0.4,  0.4],\n",
       "        [-3.9,  0.6,  0.4]]])"
      ]
     },
     "execution_count": 394,
     "metadata": {},
     "output_type": "execute_result"
    }
   ],
   "source": [
    "sP"
   ]
  },
  {
   "cell_type": "code",
   "execution_count": 364,
   "id": "3ff59200",
   "metadata": {},
   "outputs": [
    {
     "name": "stdout",
     "output_type": "stream",
     "text": [
      "[0.5 0.5 0.5]\n",
      "True\n"
     ]
    }
   ],
   "source": [
    "ioF = lambda g,v,v0: np.dot(g,np.transpose(v-v0))\n",
    "\n",
    "tP=np.array([0.5,0.5,0.5])\n",
    "print(tP)\n",
    "\n",
    "ioFv=[ioF(tgv[ki],tP,vertices[ki,0,:]) for ki in range(originalNd)]\n",
    "ioFb=(False in (np.array(ioFv)>0).tolist())\n",
    "\n",
    "print(ioFb)\n",
    "\n",
    "# np.logical_and(np.array(ioFv)>0)\n",
    "\n",
    "# np.logical_and[]\n",
    "# (np.array(ioFv)>0).tolist()\n",
    "# np.logical_and(ioFv.astype(bool))\n",
    "# for ki in range(originalNd):\n",
    "#     print(tgv[ki])\n",
    "#     np.dot(tgv[ki],())\n",
    "#     disV = lambda g,v,v0: np.dot(g,np.transpose(v-v0))\n",
    "    \n",
    "\n",
    "# ioF(tgv[ki],tP,vertices[ki,0,:])"
   ]
  },
  {
   "cell_type": "code",
   "execution_count": null,
   "id": "97b70a94",
   "metadata": {},
   "outputs": [],
   "source": [
    "ioF = lambda g,v,v0: np.dot(g,np.transpose(v-v0))\n",
    "\n",
    "tP=np.array([0.5,0.5,0.5])\n",
    "print(tP)\n",
    "\n",
    "ioFv=[ioF(tgv[ki],tP,vertices[ki,0,:]) for ki in range(originalNd)]\n",
    "ioFb=(False in (np.array(ioFv)>0).tolist())\n",
    "\n",
    "print(ioFb)"
   ]
  },
  {
   "cell_type": "code",
   "execution_count": 363,
   "id": "3f2b2192",
   "metadata": {},
   "outputs": [
    {
     "data": {
      "text/plain": [
       "True"
      ]
     },
     "execution_count": 363,
     "metadata": {},
     "output_type": "execute_result"
    }
   ],
   "source": [
    "(False in (np.array(ioFv)>0).tolist())"
   ]
  },
  {
   "cell_type": "code",
   "execution_count": 342,
   "id": "29b9f6a3",
   "metadata": {},
   "outputs": [
    {
     "name": "stdout",
     "output_type": "stream",
     "text": [
      "[1. 0. 0.]\n",
      "[3. 0. 0.]\n",
      "[0.5 0.5 0.5]\n",
      "[-2.5  0.5  0.5]\n"
     ]
    },
    {
     "data": {
      "text/plain": [
       "-2.5"
      ]
     },
     "execution_count": 342,
     "metadata": {},
     "output_type": "execute_result"
    }
   ],
   "source": [
    "ioF = lambda g,v,v0: np.dot(g,np.transpose(v-v0))\n",
    "\n",
    "tP=np.array([0.5,0.5,0.5])\n",
    "ki=0\n",
    "ioF(tgv[ki],tP,vertices[ki,0,:])\n",
    "\n",
    "print(tgv[ki])\n",
    "print(vertices[ki,0,:])\n",
    "print(tP)\n",
    "print(tP-vertices[ki,0,:])\n",
    "\n",
    "np.dot(tgv[ki],np.transpose(tP-vertices[ki,0,:]))\n",
    "# for ki in range(originalNd):\n",
    "#     print(tgv[ki])\n",
    "#     np.dot(tgv[ki],())\n",
    "#     disV = lambda g,v,v0: np.dot(g,np.transpose(v-v0))\n",
    "    "
   ]
  },
  {
   "cell_type": "code",
   "execution_count": 338,
   "id": "dcd673b5",
   "metadata": {},
   "outputs": [
    {
     "data": {
      "text/plain": [
       "array([1., 0., 0.])"
      ]
     },
     "execution_count": 338,
     "metadata": {},
     "output_type": "execute_result"
    }
   ],
   "source": [
    "tgv[ki]"
   ]
  },
  {
   "cell_type": "code",
   "execution_count": 326,
   "id": "66237373",
   "metadata": {},
   "outputs": [],
   "source": [
    "shiftD=np.array([6,0.5,0.5])\n",
    "reSz=0.2\n",
    "\n",
    "rboxF1=[[0,0,0],[0,0,1],[0,1,1],[0,1,0]]\n",
    "rboxF2=[[1,0,0],[1,0,1],[1,1,1],[1,1,0]]\n",
    "rboxF=np.array([rboxF1,rboxF2])\n",
    "# rboxF\n",
    "addD=reSz*rboxF\n",
    "vertices=np.vstack([vertices,addD])\n",
    "\n",
    "normVec=[[1,0,0],[-1,0,0]]\n",
    "tgv=np.vstack([tgv,np.array(normVec)])\n",
    "\n",
    "tmpPf=[]\n",
    "for km in range(len(fID1)):\n",
    "    tmpP=[rboxF[k1][k2].tolist() for k1,k2 in zip(fID1[km],fID2[km])]\n",
    "    tmpPf.append(tmpP)\n",
    "    \n",
    "addD=reSz*np.array(tmpPf)    \n",
    "vertices=np.vstack([vertices,addD])\n",
    "\n",
    "tmpT=[(rboxF[0][tag[1]]-rboxF[0][tag[0]]).tolist() for tag in fID3]\n",
    "normVec=[(np.array(tmpT[i])/(normVarray(tmpT)[i])).tolist() for i in range(len(tmpT))]\n",
    "\n",
    "tgv=np.vstack([tgv,np.array(normVec)])"
   ]
  },
  {
   "cell_type": "code",
   "execution_count": 327,
   "id": "58c6f5f2",
   "metadata": {},
   "outputs": [
    {
     "data": {
      "text/plain": [
       "array([[[0.6, 0. , 0. ],\n",
       "        [0.6, 0. , 0.2],\n",
       "        [0.6, 0.2, 0.2],\n",
       "        [0.6, 0.2, 0. ]],\n",
       "\n",
       "       [[1.8, 0. , 0. ],\n",
       "        [1.8, 0. , 0.2],\n",
       "        [1.8, 0.2, 0.2],\n",
       "        [1.8, 0.2, 0. ]],\n",
       "\n",
       "       [[0.6, 0. , 0. ],\n",
       "        [0.6, 0. , 0.2],\n",
       "        [1.8, 0. , 0.2],\n",
       "        [1.8, 0. , 0. ]],\n",
       "\n",
       "       [[0.6, 0. , 0.2],\n",
       "        [0.6, 0.2, 0.2],\n",
       "        [1.8, 0.2, 0.2],\n",
       "        [1.8, 0. , 0.2]],\n",
       "\n",
       "       [[0.6, 0.2, 0.2],\n",
       "        [0.6, 0.2, 0. ],\n",
       "        [1.8, 0.2, 0. ],\n",
       "        [1.8, 0.2, 0.2]],\n",
       "\n",
       "       [[0.6, 0.2, 0. ],\n",
       "        [0.6, 0. , 0. ],\n",
       "        [1.8, 0. , 0. ],\n",
       "        [1.8, 0.2, 0. ]],\n",
       "\n",
       "       [[0. , 0. , 0. ],\n",
       "        [0. , 0. , 0.2],\n",
       "        [0. , 0.2, 0.2],\n",
       "        [0. , 0.2, 0. ]],\n",
       "\n",
       "       [[0.2, 0. , 0. ],\n",
       "        [0.2, 0. , 0.2],\n",
       "        [0.2, 0.2, 0.2],\n",
       "        [0.2, 0.2, 0. ]],\n",
       "\n",
       "       [[0. , 0. , 0. ],\n",
       "        [0. , 0. , 0.2],\n",
       "        [0. , 0.2, 0.2],\n",
       "        [0. , 0.2, 0. ]],\n",
       "\n",
       "       [[0.2, 0. , 0. ],\n",
       "        [0.2, 0. , 0.2],\n",
       "        [0.2, 0.2, 0.2],\n",
       "        [0.2, 0.2, 0. ]],\n",
       "\n",
       "       [[0. , 0. , 0. ],\n",
       "        [0. , 0. , 0.2],\n",
       "        [0.2, 0. , 0.2],\n",
       "        [0.2, 0. , 0. ]],\n",
       "\n",
       "       [[0. , 0. , 0.2],\n",
       "        [0. , 0.2, 0.2],\n",
       "        [0.2, 0.2, 0.2],\n",
       "        [0.2, 0. , 0.2]],\n",
       "\n",
       "       [[0. , 0.2, 0.2],\n",
       "        [0. , 0.2, 0. ],\n",
       "        [0.2, 0.2, 0. ],\n",
       "        [0.2, 0.2, 0.2]],\n",
       "\n",
       "       [[0. , 0.2, 0. ],\n",
       "        [0. , 0. , 0. ],\n",
       "        [0.2, 0. , 0. ],\n",
       "        [0.2, 0.2, 0. ]],\n",
       "\n",
       "       [[0. , 0. , 0. ],\n",
       "        [0. , 0. , 0.2],\n",
       "        [0. , 0.2, 0.2],\n",
       "        [0. , 0.2, 0. ]],\n",
       "\n",
       "       [[0.2, 0. , 0. ],\n",
       "        [0.2, 0. , 0.2],\n",
       "        [0.2, 0.2, 0.2],\n",
       "        [0.2, 0.2, 0. ]],\n",
       "\n",
       "       [[0. , 0. , 0. ],\n",
       "        [0. , 0. , 0.2],\n",
       "        [0.2, 0. , 0.2],\n",
       "        [0.2, 0. , 0. ]],\n",
       "\n",
       "       [[0. , 0. , 0.2],\n",
       "        [0. , 0.2, 0.2],\n",
       "        [0.2, 0.2, 0.2],\n",
       "        [0.2, 0. , 0.2]],\n",
       "\n",
       "       [[0. , 0.2, 0.2],\n",
       "        [0. , 0.2, 0. ],\n",
       "        [0.2, 0.2, 0. ],\n",
       "        [0.2, 0.2, 0.2]],\n",
       "\n",
       "       [[0. , 0.2, 0. ],\n",
       "        [0. , 0. , 0. ],\n",
       "        [0.2, 0. , 0. ],\n",
       "        [0.2, 0.2, 0. ]],\n",
       "\n",
       "       [[0. , 0. , 0. ],\n",
       "        [0. , 0. , 0.2],\n",
       "        [0. , 0.2, 0.2],\n",
       "        [0. , 0.2, 0. ]],\n",
       "\n",
       "       [[0.2, 0. , 0. ],\n",
       "        [0.2, 0. , 0.2],\n",
       "        [0.2, 0.2, 0.2],\n",
       "        [0.2, 0.2, 0. ]],\n",
       "\n",
       "       [[0. , 0. , 0. ],\n",
       "        [0. , 0. , 0.2],\n",
       "        [0.2, 0. , 0.2],\n",
       "        [0.2, 0. , 0. ]],\n",
       "\n",
       "       [[0. , 0. , 0.2],\n",
       "        [0. , 0.2, 0.2],\n",
       "        [0.2, 0.2, 0.2],\n",
       "        [0.2, 0. , 0.2]],\n",
       "\n",
       "       [[0. , 0.2, 0.2],\n",
       "        [0. , 0.2, 0. ],\n",
       "        [0.2, 0.2, 0. ],\n",
       "        [0.2, 0.2, 0.2]],\n",
       "\n",
       "       [[0. , 0.2, 0. ],\n",
       "        [0. , 0. , 0. ],\n",
       "        [0.2, 0. , 0. ],\n",
       "        [0.2, 0.2, 0. ]]])"
      ]
     },
     "execution_count": 327,
     "metadata": {},
     "output_type": "execute_result"
    }
   ],
   "source": [
    "vertices"
   ]
  },
  {
   "cell_type": "code",
   "execution_count": 320,
   "id": "f309db4c",
   "metadata": {},
   "outputs": [
    {
     "data": {
      "text/plain": [
       "[[[0, 0, 0], [0, 0, 1], [0, 1, 1], [0, 1, 0]],\n",
       " [[1, 0, 0], [1, 0, 1], [1, 1, 1], [1, 1, 0]]]"
      ]
     },
     "execution_count": 320,
     "metadata": {},
     "output_type": "execute_result"
    }
   ],
   "source": [
    "shiftD=np.array([6,0.5,0.5])\n",
    "reSz=0.2\n",
    "\n",
    "rboxF1=[[0,0,0],[0,0,1],[0,1,1],[0,1,0]]\n",
    "rboxF2=[[1,0,0],[1,0,1],[1,1,1],[1,1,0]]\n",
    "rboxF=[rboxF1,rboxF2]\n",
    "rboxF"
   ]
  },
  {
   "cell_type": "code",
   "execution_count": 260,
   "id": "8f1d2253",
   "metadata": {},
   "outputs": [],
   "source": [
    "fID1=[[0,0,1,1],[0,0,1,1],[0,0,1,1],[0,0,1,1]]\n",
    "fID2=[[0,1,1,0],[1,2,2,1],[2,3,3,2],[3,0,0,3]]\n",
    "fID3=[[1,2],[2,3],[3,0],[0,1]]\n",
    "\n",
    "tmpPf=[]\n",
    "for km in range(len(fID1)):\n",
    "    tmpP=[line_edge_full2[k1][k2].tolist() for k1,k2 in zip(fID1[km],fID2[km])]\n",
    "    tmpPf.append(tmpP)\n",
    "    \n",
    "vertices=np.vstack([vertices,np.array(tmpPf)])\n",
    "\n",
    "tmpT=[(line_edge_full2[0][tag[1]]-line_edge_full2[0][tag[0]]).tolist() for tag in fID3]\n"
   ]
  },
  {
   "cell_type": "code",
   "execution_count": 290,
   "id": "2bab9316",
   "metadata": {},
   "outputs": [
    {
     "name": "stdout",
     "output_type": "stream",
     "text": [
      "[[0.0, 1.0, 0.0], [0.0, 0.0, -1.0], [0.0, -1.0, 0.0], [0.0, 0.0, 1.0]]\n",
      "[[ 0.  1.  0.]\n",
      " [ 0.  0. -1.]\n",
      " [ 0. -1.  0.]\n",
      " [ 0.  0.  1.]]\n"
     ]
    },
    {
     "data": {
      "text/plain": [
       "array([[ 0.,  1.,  0.],\n",
       "       [ 0.,  0., -1.],\n",
       "       [ 0., -1.,  0.],\n",
       "       [ 0.,  0.,  1.]])"
      ]
     },
     "execution_count": 290,
     "metadata": {},
     "output_type": "execute_result"
    }
   ],
   "source": [
    "normVarray= lambda v: [np.linalg.norm(d, ord=2) for d in v]\n",
    "\n",
    "# np.array(tmpT)/normVarray(tmpT)\n",
    "# normV(np.array(tmpT))\n",
    "normV(np.array(tmpT))\n",
    "normVarray(tmpT)\n",
    "\n",
    "normVec=np.array([(np.array(tmpT[i])/(normVarray(tmpT)[i])).tolist() for i in range(len(tmpT))])\n",
    "\n",
    "tmpT\n",
    "\n",
    "normVarray(tmpT)\n",
    "\n",
    "print(tmpT)\n",
    "print(normVec)\n",
    "# print(np.array(tmpT))\n",
    "i=0\n",
    "# np.array(tmpT[i])\n",
    "normVec"
   ]
  },
  {
   "cell_type": "code",
   "execution_count": 249,
   "id": "788008d0",
   "metadata": {},
   "outputs": [
    {
     "name": "stdout",
     "output_type": "stream",
     "text": [
      "[[3.0, 0.0, 0.0], [3.0, 0.0, 1.0], [9.0, 0.0, 1.0], [9.0, 0.0, 0.0]]\n",
      "[[3.0, 0.0, 1.0], [3.0, 1.0, 1.0], [9.0, 1.0, 1.0], [9.0, 0.0, 1.0]]\n",
      "[[[3.0, 0.0, 0.0], [3.0, 0.0, 1.0], [9.0, 0.0, 1.0], [9.0, 0.0, 0.0]], [[3.0, 0.0, 1.0], [3.0, 1.0, 1.0], [9.0, 1.0, 1.0], [9.0, 0.0, 1.0]], [[3.0, 1.0, 1.0], [3.0, 1.0, 0.0], [9.0, 1.0, 0.0], [9.0, 1.0, 1.0]], [[3.0, 1.0, 0.0], [3.0, 0.0, 0.0], [9.0, 0.0, 0.0], [9.0, 1.0, 0.0]]]\n"
     ]
    }
   ],
   "source": [
    "#=================================\n",
    "\n",
    "fID1=[[0,0,1,1],[0,0,1,1],[0,0,1,1],[0,0,1,1]]\n",
    "fID2=[[0,1,1,0],[1,2,2,1],[2,3,3,2],[3,0,0,3]]\n",
    "tmpPf=[]\n",
    "for km in range(len(fID1)):\n",
    "    tmpP=[line_edge_full2[k1][k2].tolist() for k1,k2 in zip(fID1[km],fID2[km])]\n",
    "    tmpPf.append(tmpP)\n",
    "    \n",
    "np.vstack([vertices,np.array(tmpPf)])\n",
    "#=================================\n",
    "print(tmpPf[0])\n",
    "print(tmpPf[1])\n",
    "print(tmpPf)"
   ]
  },
  {
   "cell_type": "code",
   "execution_count": 258,
   "id": "f6b0c71b",
   "metadata": {},
   "outputs": [
    {
     "name": "stdout",
     "output_type": "stream",
     "text": [
      "[[[3. 0. 0.]\n",
      "  [3. 0. 1.]\n",
      "  [3. 1. 1.]\n",
      "  [3. 1. 0.]]\n",
      "\n",
      " [[9. 0. 0.]\n",
      "  [9. 0. 1.]\n",
      "  [9. 1. 1.]\n",
      "  [9. 1. 0.]]]\n",
      "---\n",
      "[[[3. 0. 0.]\n",
      "  [3. 0. 1.]\n",
      "  [3. 1. 1.]\n",
      "  [3. 1. 0.]]\n",
      "\n",
      " [[9. 0. 0.]\n",
      "  [9. 0. 1.]\n",
      "  [9. 1. 1.]\n",
      "  [9. 1. 0.]]\n",
      "\n",
      " [[3. 0. 0.]\n",
      "  [3. 0. 1.]\n",
      "  [9. 0. 1.]\n",
      "  [9. 0. 0.]]\n",
      "\n",
      " [[3. 0. 1.]\n",
      "  [3. 1. 1.]\n",
      "  [9. 1. 1.]\n",
      "  [9. 0. 1.]]\n",
      "\n",
      " [[3. 1. 1.]\n",
      "  [3. 1. 0.]\n",
      "  [9. 1. 0.]\n",
      "  [9. 1. 1.]]\n",
      "\n",
      " [[3. 1. 0.]\n",
      "  [3. 0. 0.]\n",
      "  [9. 0. 0.]\n",
      "  [9. 1. 0.]]]\n"
     ]
    }
   ],
   "source": [
    "v2=np.vstack([vertices,np.array(tmpPf)])\n",
    "print(vertices)\n",
    "print('---')\n",
    "print(v2)"
   ]
  },
  {
   "cell_type": "code",
   "execution_count": 247,
   "id": "94fa2598",
   "metadata": {},
   "outputs": [
    {
     "name": "stdout",
     "output_type": "stream",
     "text": [
      "[3. 0. 0.]\n",
      "[[[3. 0. 0.]\n",
      "  [3. 0. 1.]\n",
      "  [3. 1. 1.]\n",
      "  [3. 1. 0.]\n",
      "  [3. 0. 0.]]\n",
      "\n",
      " [[9. 0. 0.]\n",
      "  [9. 0. 1.]\n",
      "  [9. 1. 1.]\n",
      "  [9. 1. 0.]\n",
      "  [9. 0. 0.]]]\n"
     ]
    },
    {
     "data": {
      "text/plain": [
       "[[3.0, 0.0, 0.0], [3.0, 0.0, 1.0], [9.0, 0.0, 1.0], [9.0, 0.0, 0.0]]"
      ]
     },
     "execution_count": 247,
     "metadata": {},
     "output_type": "execute_result"
    }
   ],
   "source": [
    "tmpP=line_edge_full2[0][0].copy()\n",
    "print(tmpP)\n",
    "print(line_edge_full2)\n",
    "km=0\n",
    "tmpP=[line_edge_full2[k1][k2].tolist() for k1,k2 in zip(fID1[km],fID2[km])]\n",
    "tmpP"
   ]
  },
  {
   "cell_type": "code",
   "execution_count": 241,
   "id": "e40c9d23",
   "metadata": {},
   "outputs": [
    {
     "name": "stdout",
     "output_type": "stream",
     "text": [
      "4\n",
      "4\n"
     ]
    }
   ],
   "source": [
    "fID1=[[0,0,1,1],[0,0,1,1],[0,0,1,1],[0,0,1,1]]\n",
    "fID2=[[0,1,1,0],[1,2,2,1],[2,3,3,2],[3,0,0,3]]\n",
    "print(len(fID1))\n",
    "print(len(fID1[0]))"
   ]
  },
  {
   "cell_type": "code",
   "execution_count": 238,
   "id": "ac6ccc0f",
   "metadata": {},
   "outputs": [
    {
     "data": {
      "text/plain": [
       "[0, 2]"
      ]
     },
     "execution_count": 238,
     "metadata": {},
     "output_type": "execute_result"
    }
   ],
   "source": [
    "line_edge_full2\n",
    "EdgeID"
   ]
  },
  {
   "cell_type": "code",
   "execution_count": 234,
   "id": "4254db84",
   "metadata": {},
   "outputs": [
    {
     "name": "stdout",
     "output_type": "stream",
     "text": [
      "[8 1 0]\n",
      "[[-5. -1.  0.]\n",
      " [-5.  0.  0.]\n",
      " [-5. -1.  1.]\n",
      " [-5.  0.  1.]\n",
      " [-5. -1.  0.]]\n",
      "[[3. 0. 0.]\n",
      " [3. 1. 0.]\n",
      " [3. 0. 1.]\n",
      " [3. 1. 1.]\n",
      " [3. 0. 0.]]\n"
     ]
    }
   ],
   "source": [
    "kk=0\n",
    "print(aP)\n",
    "print(line_edge_full2[kk][:]-aP)\n",
    "print(line_edge_full2[kk][:])"
   ]
  },
  {
   "cell_type": "code",
   "execution_count": 229,
   "id": "8c32a8f7",
   "metadata": {},
   "outputs": [
    {
     "data": {
      "text/plain": [
       "array([[[3., 0., 0.],\n",
       "        [3., 0., 1.],\n",
       "        [3., 0., 1.],\n",
       "        [3., 1., 1.],\n",
       "        [3., 0., 0.]],\n",
       "\n",
       "       [[9., 0., 0.],\n",
       "        [9., 0., 1.],\n",
       "        [9., 0., 1.],\n",
       "        [9., 1., 1.],\n",
       "        [9., 0., 0.]]])"
      ]
     },
     "execution_count": 229,
     "metadata": {},
     "output_type": "execute_result"
    }
   ],
   "source": [
    "line_edge_full2"
   ]
  },
  {
   "cell_type": "code",
   "execution_count": 228,
   "id": "01547fa3",
   "metadata": {},
   "outputs": [
    {
     "name": "stdout",
     "output_type": "stream",
     "text": [
      "[0. 1. 1. 2. 0.]\n",
      "[[0. 0. 0.]\n",
      " [0. 0. 1.]\n",
      " [0. 0. 1.]\n",
      " [0. 1. 1.]\n",
      " [0. 0. 0.]]\n",
      "3\n",
      "--\n",
      "[ 9. 10. 10. 11.  9.]\n",
      "[[3. 0. 0.]\n",
      " [3. 0. 1.]\n",
      " [3. 0. 1.]\n",
      " [3. 1. 1.]\n",
      " [3. 0. 0.]]\n"
     ]
    }
   ],
   "source": [
    "aP=line_edge_full2[0][bID]\n",
    "disV = lambda v:np.sum(np.square(v),axis=1)\n",
    "\n",
    "np.sum(np.square(line_edge_full2[0][:]))\n",
    "print(disV(line_edge_full2[0][:]-aP))\n",
    "print(line_edge_full2[0][:]-aP)\n",
    "\n",
    "mP=(np.where(disV(line_edge_full2[0][:]-aP)==max(disV(line_edge_full2[0][:]-aP)))[0])[0]\n",
    "print(mP)\n",
    "print('--')\n",
    "print(np.sum(np.square(line_edge_full2[0][:]),axis=1))\n",
    "print(line_edge_full2[0][:])\n",
    "# bID"
   ]
  },
  {
   "cell_type": "code",
   "execution_count": 194,
   "id": "74f045f1",
   "metadata": {},
   "outputs": [
    {
     "data": {
      "text/plain": [
       "array([[1., 0., 0.],\n",
       "       [1., 0., 0.],\n",
       "       [1., 0., 0.],\n",
       "       [1., 0., 0.]])"
      ]
     },
     "execution_count": 194,
     "metadata": {},
     "output_type": "execute_result"
    }
   ],
   "source": [
    "tgv[k]"
   ]
  },
  {
   "cell_type": "code",
   "execution_count": 184,
   "id": "a30c3110",
   "metadata": {},
   "outputs": [
    {
     "data": {
      "text/plain": [
       "array([[[3., 0., 0.],\n",
       "        [3., 0., 1.],\n",
       "        [3., 1., 1.],\n",
       "        [3., 1., 0.]],\n",
       "\n",
       "       [[9., 0., 0.],\n",
       "        [9., 0., 1.],\n",
       "        [9., 1., 1.],\n",
       "        [9., 1., 0.]]])"
      ]
     },
     "execution_count": 184,
     "metadata": {},
     "output_type": "execute_result"
    }
   ],
   "source": [
    "\n",
    "vertices=line_edge_full2[:,:-1,:].copy()\n",
    "vertices\n",
    "\n",
    "tgv"
   ]
  },
  {
   "cell_type": "code",
   "execution_count": 172,
   "id": "6503d2fe",
   "metadata": {},
   "outputs": [
    {
     "data": {
      "text/plain": [
       "array([[6, 0, 0],\n",
       "       [7, 0, 1],\n",
       "       [8, 1, 1],\n",
       "       [6, 0, 0],\n",
       "       [6, 0, 0],\n",
       "       [9, 1, 0],\n",
       "       [9, 1, 0],\n",
       "       [6, 0, 0],\n",
       "       [9, 1, 0],\n",
       "       [6, 0, 0]])"
      ]
     },
     "execution_count": 172,
     "metadata": {},
     "output_type": "execute_result"
    }
   ],
   "source": [
    "cP\n",
    "line_edgePst\n",
    "line_edge_full\n",
    "line_edgePst\n",
    "cP\n",
    "line_edgePst\n",
    "\n",
    "line_edge_full=np.vstack([line_edge_full,cP])\n",
    "line_edge_full=np.vstack([line_edge_full,line_edgePst])\n",
    "line_edge_full"
   ]
  },
  {
   "cell_type": "code",
   "execution_count": 159,
   "id": "92ada713",
   "metadata": {},
   "outputs": [
    {
     "data": {
      "text/plain": [
       "array([[[0., 0., 0.],\n",
       "        [1., 0., 1.],\n",
       "        [2., 1., 1.],\n",
       "        [0., 0., 0.]],\n",
       "\n",
       "       [[6., 0., 0.],\n",
       "        [7., 0., 1.],\n",
       "        [8., 1., 1.],\n",
       "        [6., 0., 0.]]])"
      ]
     },
     "execution_count": 159,
     "metadata": {},
     "output_type": "execute_result"
    }
   ],
   "source": [
    "line_edge_full2"
   ]
  },
  {
   "cell_type": "code",
   "execution_count": 157,
   "id": "11294d20",
   "metadata": {},
   "outputs": [
    {
     "name": "stdout",
     "output_type": "stream",
     "text": [
      "[0 0 0]\n",
      "[1 0 1]\n",
      "[[[ 0  0  0]\n",
      "  [ 3  0  0]\n",
      "  [ 6  0  0]\n",
      "  [12  0  0]]\n",
      "\n",
      " [[ 1  0  1]\n",
      "  [ 4  0  1]\n",
      "  [ 7  0  1]\n",
      "  [13  0  1]]\n",
      "\n",
      " [[ 2  1  1]\n",
      "  [ 5  1  1]\n",
      "  [ 8  1  1]\n",
      "  [14  1  1]]\n",
      "\n",
      " [[ 3  1  0]\n",
      "  [ 6  1  0]\n",
      "  [ 9  1  0]\n",
      "  [15  1  0]]]\n",
      "0\n",
      "3\n",
      "[12  0  0]\n"
     ]
    }
   ],
   "source": [
    "km=0\n",
    "print(line_point_full[km][0])\n",
    "print(line_point_full[km+1][0])\n",
    "print(line_point_full)\n",
    "print(km)\n",
    "print(kj)\n",
    "print(line_point_full[km][kj])"
   ]
  },
  {
   "cell_type": "code",
   "execution_count": 139,
   "id": "73d2f8e1",
   "metadata": {},
   "outputs": [
    {
     "data": {
      "text/plain": [
       "array([[2.5       , 1.        , 0.5       ],\n",
       "       [5.33333333, 1.        , 0.66666667],\n",
       "       [8.16666667, 1.        , 0.83333333],\n",
       "       [2.5       , 1.        , 0.5       ]])"
      ]
     },
     "execution_count": 139,
     "metadata": {},
     "output_type": "execute_result"
    }
   ],
   "source": [
    "disV = lambda v: math.pow(v[0],2)+math.pow(v[1],2)+math.pow(v[2],2)\n",
    "innPv = lambda v,w: np.dot(v,np.transpose(w))\n",
    "normV= lambda v: np.linalg.norm(v, ord=2)\n",
    "\n",
    "EdgeID=[0,np.shape(line_point_full)[1]-2]\n",
    "tParam=np.full((len(line_point_full),len(line_point_full),2),0,dtype=np.double)\n",
    "\n",
    "for kk in range(len(EdgeID)):\n",
    "    km=EdgeID[kk]\n",
    "    tmpP=line_point_full[:,km,:]\n",
    "    tmpP2=line_point_full[:,km+1,:]\n",
    "    \n",
    "    for ki in range(len(line_point_full)):\n",
    "        aP=tmpP[ki]\n",
    "        bP=tmpP2[ki]\n",
    "        for kj in range(len(line_point_full)):\n",
    "            if kj!=ki:\n",
    "                cP=tmpP[kj]\n",
    "                disD=disV(bP-aP)\n",
    "                inpD=innPv((cP-aP),(bP-aP))\n",
    "                if disD>0:\n",
    "                    tParam[ki,kj,kk]=inpD/disD\n",
    "                    \n",
    "bID=0\n",
    "line_edge_full2=np.full((2,len(line_point_full),3),0,dtype=np.double)\n",
    "\n",
    "for kk in range(len(EdgeID)):\n",
    "    km=EdgeID[kk]\n",
    "    ki=(np.where(tParam[bID,:,kk]==max(tParam[bID,:,kk]))[0].tolist())[0]\n",
    "    bP=line_point_full[km+1][bID]\n",
    "    aP=line_point_full[km][bID]\n",
    "    line_edgePst=tParam[bID,ki,kk]*(bP-aP )+aP\n",
    "    line_edge_full=line_edgePst.copy()\n",
    "    for kj in range(len(line_point_full)):\n",
    "        if (kj!=ki) and (kj!=bID):\n",
    "            bP=line_point_full[km+1][kj]\n",
    "            aP=line_point_full[km][kj]\n",
    "            line_edgeP=tParam[kj,ki,kk]*(bP-aP )+aP\n",
    "            line_edge_full=np.vstack([line_edge_full,line_edgeP])\n",
    "        \n",
    "    line_edge_full=np.vstack([line_edge_full,line_edgePst])\n",
    "    line_edge_full2[kk]=line_edge_full\n",
    "    "
   ]
  },
  {
   "cell_type": "code",
   "execution_count": 129,
   "id": "5afebcca",
   "metadata": {},
   "outputs": [
    {
     "data": {
      "text/plain": [
       "[array([0., 0., 0.])]"
      ]
     },
     "execution_count": 129,
     "metadata": {},
     "output_type": "execute_result"
    }
   ],
   "source": [
    "line_edgeP=[tParam[bID,ki,kk]*line_point_full[0][bID] ]\n",
    "line_edgeP"
   ]
  },
  {
   "cell_type": "code",
   "execution_count": 135,
   "id": "cfc9347a",
   "metadata": {},
   "outputs": [
    {
     "data": {
      "text/plain": [
       "[[array([1., 0., 1.])]]"
      ]
     },
     "execution_count": 135,
     "metadata": {},
     "output_type": "execute_result"
    }
   ],
   "source": [
    "bP=line_point_full[km+1][bID]\n",
    "aP=line_point_full[km][bID]\n",
    "line_edgeP=[[tParam[bID,ki,kk]*(bP-aP )+aP]]\n",
    "line_edgeP"
   ]
  },
  {
   "cell_type": "code",
   "execution_count": 133,
   "id": "ed90f3ce",
   "metadata": {},
   "outputs": [
    {
     "data": {
      "text/plain": [
       "0"
      ]
     },
     "execution_count": 133,
     "metadata": {},
     "output_type": "execute_result"
    }
   ],
   "source": [
    "line_point_full[0][bID]\n",
    "kk=0\n",
    "km=EdgeID[kk]\n",
    "km"
   ]
  },
  {
   "cell_type": "code",
   "execution_count": 119,
   "id": "4d51eeb4",
   "metadata": {},
   "outputs": [
    {
     "data": {
      "text/plain": [
       "3"
      ]
     },
     "execution_count": 119,
     "metadata": {},
     "output_type": "execute_result"
    }
   ],
   "source": [
    "ki=(np.where(tParam[bID,:,kk]==max(tParam[bID,:,kk]))[0].tolist())[0]\n",
    "ki"
   ]
  },
  {
   "cell_type": "code",
   "execution_count": 124,
   "id": "09a56f24",
   "metadata": {},
   "outputs": [
    {
     "name": "stdout",
     "output_type": "stream",
     "text": [
      "[[ 0.          0.33333333  0.66666667  1.        ]\n",
      " [-0.33333333  0.          0.33333333  0.66666667]\n",
      " [-0.66666667 -0.33333333  0.          0.33333333]\n",
      " [-1.         -0.66666667 -0.33333333  0.        ]]\n",
      "-\n",
      "[[ 0.          0.16666667  0.33333333  0.5       ]\n",
      " [-0.16666667  0.          0.16666667  0.33333333]\n",
      " [-0.33333333 -0.16666667  0.          0.16666667]\n",
      " [-0.5        -0.33333333 -0.16666667  0.        ]]\n",
      "[3]\n"
     ]
    },
    {
     "data": {
      "text/plain": [
       "array([0.        , 0.33333333, 0.66666667, 1.        ])"
      ]
     },
     "execution_count": 124,
     "metadata": {},
     "output_type": "execute_result"
    }
   ],
   "source": [
    "print(tParam[:,:,0])\n",
    "print('-')\n",
    "print(tParam[:,:,1])\n",
    "\n",
    "bID=0\n",
    "kk=0\n",
    "print(np.where(tParam[bID,:,kk]==max(tParam[bID,:,kk]))[0].tolist())\n",
    "\n",
    "ki=(np.where(tParam[bID,:,kk]==max(tParam[bID,:,kk]))[0].tolist())[0]\n",
    "ki\n",
    "tParam[bID,ki,kk]"
   ]
  },
  {
   "cell_type": "code",
   "execution_count": 93,
   "id": "bcbdc4f1",
   "metadata": {},
   "outputs": [
    {
     "name": "stdout",
     "output_type": "stream",
     "text": [
      "[[[ 0  0  0]\n",
      "  [ 3  0  0]\n",
      "  [ 6  0  0]\n",
      "  [12  0  0]]\n",
      "\n",
      " [[ 1  0  1]\n",
      "  [ 4  0  1]\n",
      "  [ 7  0  1]\n",
      "  [13  0  1]]\n",
      "\n",
      " [[ 2  1  1]\n",
      "  [ 5  1  1]\n",
      "  [ 8  1  1]\n",
      "  [14  1  1]]\n",
      "\n",
      " [[ 3  1  0]\n",
      "  [ 6  1  0]\n",
      "  [ 9  1  0]\n",
      "  [15  1  0]]]\n",
      "[[0 0 0]\n",
      " [1 0 1]\n",
      " [2 1 1]\n",
      " [3 1 0]]\n",
      "--\n",
      "[2 1 1]\n",
      "3\n",
      "[1 0 1]\n",
      "[2 1 1]\n"
     ]
    },
    {
     "data": {
      "text/plain": [
       "6.0"
      ]
     },
     "execution_count": 93,
     "metadata": {},
     "output_type": "execute_result"
    }
   ],
   "source": [
    "print(line_point_full)\n",
    "print(line_point_full[:,0,:])\n",
    "tmpP=line_point_full[:,0,:]\n",
    "print('--')\n",
    "print(tmpP[2])\n",
    "\n",
    "disV = lambda v: math.pow(v[0],2)+math.pow(v[1],2)+math.pow(v[2],2)\n",
    "\n",
    "math.pow(tmpP[2][0],2)\n",
    "\n",
    "disV(tmpP[2]-tmpP[0])\n",
    "\n",
    "innPv = lambda v,w: np.dot(v,np.transpose(w))\n",
    "print(innPv(tmpP[2],tmpP[1]))\n",
    "print(tmpP[1])\n",
    "print(tmpP[2])\n",
    "\n",
    "disV(tmpP[2]-tmpP[0])"
   ]
  },
  {
   "cell_type": "code",
   "execution_count": 59,
   "id": "40890ba9",
   "metadata": {},
   "outputs": [
    {
     "data": {
      "text/plain": [
       "array([[[ 0,  0,  1],\n",
       "        [ 3,  0,  1],\n",
       "        [ 6,  0,  1],\n",
       "        [12,  0,  1]],\n",
       "\n",
       "       [[ 0,  1,  1],\n",
       "        [ 3,  1,  1],\n",
       "        [ 6,  1,  1],\n",
       "        [12,  1,  1]],\n",
       "\n",
       "       [[ 0,  1,  0],\n",
       "        [ 3,  1,  0],\n",
       "        [ 6,  1,  0],\n",
       "        [12,  1,  0]]])"
      ]
     },
     "execution_count": 59,
     "metadata": {},
     "output_type": "execute_result"
    }
   ],
   "source": [
    "line_point_full"
   ]
  }
 ],
 "metadata": {
  "kernelspec": {
   "display_name": "Python 3 (ipykernel)",
   "language": "python",
   "name": "python3"
  },
  "language_info": {
   "codemirror_mode": {
    "name": "ipython",
    "version": 3
   },
   "file_extension": ".py",
   "mimetype": "text/x-python",
   "name": "python",
   "nbconvert_exporter": "python",
   "pygments_lexer": "ipython3",
   "version": "3.9.16"
  }
 },
 "nbformat": 4,
 "nbformat_minor": 5
}
