{
 "cells": [
  {
   "cell_type": "code",
   "execution_count": 1,
   "metadata": {},
   "outputs": [],
   "source": [
    "# Practice 3-3 (page 24/29)\n",
    "# https://www.slideshare.net/tadahirotaniguchi0624/3-46861684"
   ]
  },
  {
   "cell_type": "code",
   "execution_count": 9,
   "metadata": {},
   "outputs": [
    {
     "name": "stdout",
     "output_type": "stream",
     "text": [
      "[[9 8 5]\n",
      " [0 8 3]\n",
      " [1 6 5]\n",
      " [9 0 0]\n",
      " [4 9 3]\n",
      " [1 4 8]\n",
      " [4 0 6]\n",
      " [0 3 5]\n",
      " [1 3 1]\n",
      " [5 2 7]]\n"
     ]
    }
   ],
   "source": [
    "import numpy as np\n",
    "\n",
    "list_0 = [\n",
    "        [9, 8, 5],\n",
    "        [0, 8, 3],\n",
    "        [1, 6, 5],\n",
    "        [9, 0, 0],\n",
    "        [4, 9, 3],\n",
    "        [1, 4, 8],\n",
    "        [4, 0, 6],\n",
    "        [0, 3, 5],\n",
    "        [1, 3, 1],\n",
    "        [5, 2, 7],\n",
    "    ]\n",
    "list_np=np.array(list_0)\n",
    "print(list_np)\n"
   ]
  },
  {
   "cell_type": "code",
   "execution_count": 6,
   "metadata": {},
   "outputs": [
    {
     "name": "stdout",
     "output_type": "stream",
     "text": [
      "[9 0 1 9 4 1 4 0 1 5]\n"
     ]
    }
   ],
   "source": [
    "print(list_np[:,0])"
   ]
  },
  {
   "cell_type": "code",
   "execution_count": 7,
   "metadata": {},
   "outputs": [
    {
     "name": "stdout",
     "output_type": "stream",
     "text": [
      "[9 8 5]\n"
     ]
    }
   ],
   "source": [
    "print(list_np[0,:])"
   ]
  }
 ],
 "metadata": {
  "kernelspec": {
   "display_name": "Python 3 (ipykernel)",
   "language": "python",
   "name": "python3"
  },
  "language_info": {
   "codemirror_mode": {
    "name": "ipython",
    "version": 3
   },
   "file_extension": ".py",
   "mimetype": "text/x-python",
   "name": "python",
   "nbconvert_exporter": "python",
   "pygments_lexer": "ipython3",
   "version": "3.9.16"
  }
 },
 "nbformat": 4,
 "nbformat_minor": 2
}
