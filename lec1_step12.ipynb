{
 "cells": [
  {
   "cell_type": "code",
   "execution_count": 1,
   "id": "747e48c3-f6c7-48e8-81bf-2eb0dfda2fae",
   "metadata": {},
   "outputs": [],
   "source": [
    "## Python basics for novice data scientists, supported by Wagatsuma Lab@Kyutech \n",
    "#\n",
    "# The MIT License (MIT): Copyright (c) 2024 Hiroaki Wagatsuma and Wagatsuma Lab@Kyutech\n",
    "# \n",
    "# Permission is hereby granted, free of charge, to any person obtaining a copy of this software and associated documentation files (the \"Software\"), to deal in the Software without restriction, including without limitation the rights to use, copy, modify, merge, publish, distribute, sublicense, and/or sell copies of the Software, and to permit persons to whom the Software is furnished to do so, subject to the following conditions:\n",
    "# The above copyright notice and this permission notice shall be included in all copies or substantial portions of the Software.\n",
    "# THE SOFTWARE IS PROVIDED \"AS IS\", WITHOUT WARRANTY OF ANY KIND, EXPRESS OR IMPLIED, INCLUDING BUT NOT LIMITED TO THE WARRANTIES OF MERCHANTABILITY, FITNESS FOR A PARTICULAR PURPOSE AND NONINFRINGEMENT. IN NO EVENT SHALL THE AUTHORS OR COPYRIGHT HOLDERS BE LIABLE FOR ANY CLAIM, DAMAGES OR OTHER LIABILITY, WHETHER IN AN ACTION OF CONTRACT, TORT OR OTHERWISE, ARISING FROM, OUT OF OR IN CONNECTION WITH THE SOFTWARE OR THE USE OR OTHER DEALINGS IN THE SOFTWARE. */\n",
    "#\n",
    "# # @Time    : 2024-11-17 \n",
    "# # @Author  : Hiroaki Wagatsuma\n",
    "# # @Site    : https://github.com/hirowgit/2A_python_basic_course\n",
    "# # @IDE     : Python 3.9\n",
    "# # @File    : lec1_step9.py "
   ]
  },
  {
   "cell_type": "code",
   "execution_count": 4,
   "id": "81526569-129c-4e46-9905-2a8c138a96c3",
   "metadata": {},
   "outputs": [],
   "source": [
    "# module test: if you have an error when you run this code, \n",
    "# you need to check the installation status of those modules\n",
    "\n",
    "import math \n",
    "import sys \n",
    "import os\n",
    "import numpy as np\n",
    "import pandas as pd\n",
    "import matplotlib.pyplot as plt\n",
    "import matplotlib.patches as patch\n",
    "import matplotlib.cm as cm\n",
    "import matplotlib as mp\n",
    "import tkinter as tk\n",
    "\n",
    "from pytictoc import TicToc "
   ]
  },
  {
   "cell_type": "code",
   "execution_count": 2,
   "id": "cb0e2787-ab20-4ed8-b8a0-e9246805941b",
   "metadata": {},
   "outputs": [],
   "source": [
    "TargetGraph={\n",
    "    'S':['A','B'],\n",
    "    'A':['S','B','C'],\n",
    "    'B':['S','A','E' ,'F'],\n",
    "    'C':['A','E','D'],\n",
    "    'D':['C','E' ,'G'],\n",
    "    'E':['B','C' ,'D' ,'G'],\n",
    "    'F':['B'],\n",
    "    'G':['D','E']\n",
    "}"
   ]
  },
  {
   "cell_type": "code",
   "execution_count": 6,
   "id": "9f0e2ab2-b5b6-42a0-9426-5f9f45dd2b97",
   "metadata": {},
   "outputs": [
    {
     "data": {
      "text/plain": [
       "array([None, None, None, None, None], dtype=object)"
      ]
     },
     "execution_count": 6,
     "metadata": {},
     "output_type": "execute_result"
    }
   ],
   "source": [
    "hM=np.empty(5, dtype = object)\n",
    "hM[0]"
   ]
  },
  {
   "cell_type": "code",
   "execution_count": 69,
   "id": "607a00df-ac9a-49c9-a34a-36233ed94892",
   "metadata": {},
   "outputs": [
    {
     "data": {
      "text/plain": [
       "array([array([[5, 0, 3],\n",
       "              [5, 0, 3],\n",
       "              [5, 0, 3]]), array([[0, 0, 0],\n",
       "                                  [4, 0, 3],\n",
       "                                  [0, 0, 0]]), array([[0, 0, 0],\n",
       "                                                      [3, 0, 3],\n",
       "                                                      [0, 0, 0]]),\n",
       "       array([[0, 0, 0],\n",
       "              [2, 0, 3],\n",
       "              [0, 0, 0]]), array([[ 0,  0,  0],\n",
       "                                  [-5, -5, -5],\n",
       "                                  [-5, -5, -5]])], dtype=object)"
      ]
     },
     "execution_count": 69,
     "metadata": {},
     "output_type": "execute_result"
    }
   ],
   "source": [
    "hM[0]=np.array([[5,0,3],[5,0,3],[5,0,3]])\n",
    "hM[1]=np.array([[0,0,0],[4,0,3],[0,0,0]])\n",
    "hM[2]=np.array([[0,0,0],[3,0,3],[0,0,0]])\n",
    "hM[3]=np.array([[0,0,0],[2,0,3],[0,0,0]])\n",
    "hM[4]=np.array([[0,0,0],[-5,-5,-5],[-5,-5,-5]])\n",
    "hM"
   ]
  },
  {
   "cell_type": "code",
   "execution_count": 99,
   "id": "eae80de0-84de-480f-a912-8f0f3f976582",
   "metadata": {},
   "outputs": [],
   "source": [
    "conM=[[1,0,0],[1,1,1],[0,1,0]]"
   ]
  },
  {
   "cell_type": "code",
   "execution_count": 50,
   "id": "7ce120d4-80c6-4c59-8489-cd5f176ff70a",
   "metadata": {},
   "outputs": [
    {
     "data": {
      "text/plain": [
       "array([[5, 5, 5],\n",
       "       [0, 0, 0],\n",
       "       [3, 3, 3]])"
      ]
     },
     "execution_count": 50,
     "metadata": {},
     "output_type": "execute_result"
    }
   ],
   "source": [
    "np.array([[5,0,3],[5,0,3],[5,0,3]]).T"
   ]
  },
  {
   "cell_type": "code",
   "execution_count": 53,
   "id": "ca3c1a14-69f1-4e37-935b-89ed41ff5693",
   "metadata": {},
   "outputs": [
    {
     "data": {
      "text/plain": [
       "array([array([[5, 5, 5],\n",
       "              [0, 0, 0],\n",
       "              [3, 3, 3]]), array([[0, 4, 0],\n",
       "                                  [0, 0, 0],\n",
       "                                  [0, 3, 0]]), array([[0, 3, 0],\n",
       "                                                      [0, 0, 0],\n",
       "                                                      [0, 3, 0]]),\n",
       "       array([[0, 2, 0],\n",
       "              [0, 0, 0],\n",
       "              [0, 3, 0]]), array([[ 0, -5, -5],\n",
       "                                  [ 0, -5, -5],\n",
       "                                  [ 0, -5, -5]])], dtype=object)"
      ]
     },
     "execution_count": 53,
     "metadata": {},
     "output_type": "execute_result"
    }
   ],
   "source": [
    "# hM[0]=np.array([[5,0,3],[5,0,3],[5,0,3]]).T\n",
    "# hM[1]=np.array([[0,0,0],[4,0,3],[0,0,0]]).T\n",
    "# hM[2]=np.array([[0,0,0],[3,0,3],[0,0,0]]).T\n",
    "# hM[3]=np.array([[0,0,0],[2,0,3],[0,0,0]]).T\n",
    "# hM[4]=np.array([[0,0,0],[-5,-5,-5],[-5,-5,-5]]).T\n",
    "# hM"
   ]
  },
  {
   "cell_type": "code",
   "execution_count": 17,
   "id": "62bf28bf-8e94-4bab-b569-48f5fbcbb4b6",
   "metadata": {},
   "outputs": [
    {
     "data": {
      "text/plain": [
       "array([[1, 2, 3],\n",
       "       [1, 2, 3],\n",
       "       [1, 2, 3]])"
      ]
     },
     "execution_count": 17,
     "metadata": {},
     "output_type": "execute_result"
    }
   ],
   "source": [
    "np.tile([1,2,3],[3,1])"
   ]
  },
  {
   "cell_type": "code",
   "execution_count": 24,
   "id": "3e581d33-c381-4558-b826-730608e04b96",
   "metadata": {},
   "outputs": [],
   "source": [
    "# F=[0,0,0]"
   ]
  },
  {
   "cell_type": "code",
   "execution_count": 19,
   "id": "140091c7-ceaa-43ff-8415-911c41e51a90",
   "metadata": {},
   "outputs": [
    {
     "data": {
      "text/plain": [
       "array([5, 5, 5])"
      ]
     },
     "execution_count": 19,
     "metadata": {},
     "output_type": "execute_result"
    }
   ],
   "source": [
    "np.max(hM[0],axis=1)\n"
   ]
  },
  {
   "cell_type": "code",
   "execution_count": 20,
   "id": "6e8c5fec-4660-498a-9765-e42f693870f7",
   "metadata": {},
   "outputs": [
    {
     "data": {
      "text/plain": [
       "array([5, 0, 3])"
      ]
     },
     "execution_count": 20,
     "metadata": {},
     "output_type": "execute_result"
    }
   ],
   "source": [
    "np.max(hM[0],axis=0)\n"
   ]
  },
  {
   "cell_type": "code",
   "execution_count": 22,
   "id": "3cf2ff86-3ffa-4760-a7a0-e4badb601f0e",
   "metadata": {},
   "outputs": [
    {
     "data": {
      "text/plain": [
       "array([[5],\n",
       "       [5],\n",
       "       [5]])"
      ]
     },
     "execution_count": 22,
     "metadata": {},
     "output_type": "execute_result"
    }
   ],
   "source": [
    "np.transpose([np.max(hM[0],axis=1)])"
   ]
  },
  {
   "cell_type": "code",
   "execution_count": 57,
   "id": "3a108e09-c022-40dc-8eec-34944318c2cf",
   "metadata": {},
   "outputs": [],
   "source": [
    "Ft=[0,0,0]"
   ]
  },
  {
   "cell_type": "code",
   "execution_count": 25,
   "id": "e3758402-2c28-4831-b11c-2420fa4f6d28",
   "metadata": {},
   "outputs": [
    {
     "data": {
      "text/plain": [
       "array([[5, 0, 3],\n",
       "       [5, 0, 3],\n",
       "       [5, 0, 3]])"
      ]
     },
     "execution_count": 25,
     "metadata": {},
     "output_type": "execute_result"
    }
   ],
   "source": [
    "(np.tile(F,[3,1])+hM[0])"
   ]
  },
  {
   "cell_type": "code",
   "execution_count": 117,
   "id": "41035108-0c6f-48c5-b39d-28de43625a9b",
   "metadata": {},
   "outputs": [
    {
     "data": {
      "text/plain": [
       "array([[0, 0, 0]])"
      ]
     },
     "execution_count": 117,
     "metadata": {},
     "output_type": "execute_result"
    }
   ],
   "source": [
    "F=np.full((1,3),[0,0,0])\n",
    "F"
   ]
  },
  {
   "cell_type": "code",
   "execution_count": 118,
   "id": "32408c61-c1a3-4883-a0cf-253307e8b6b6",
   "metadata": {},
   "outputs": [
    {
     "data": {
      "text/plain": [
       "array([[0, 0, 0]])"
      ]
     },
     "execution_count": 118,
     "metadata": {},
     "output_type": "execute_result"
    }
   ],
   "source": [
    "Ft=[0,0,0]\n",
    "F"
   ]
  },
  {
   "cell_type": "code",
   "execution_count": 121,
   "id": "167d3ddc-d6b9-4076-96a4-a87c1b5efeaf",
   "metadata": {},
   "outputs": [
    {
     "data": {
      "text/plain": [
       "array([[5, 5, 5],\n",
       "       [0, 0, 0],\n",
       "       [3, 3, 3]])"
      ]
     },
     "execution_count": 121,
     "metadata": {},
     "output_type": "execute_result"
    }
   ],
   "source": [
    "np.tile(Ft,[3,1]).T"
   ]
  },
  {
   "cell_type": "code",
   "execution_count": 122,
   "id": "486a6252-a958-4e19-89d2-b4d044ed3b5d",
   "metadata": {},
   "outputs": [
    {
     "data": {
      "text/plain": [
       "array([[5, 0, 0],\n",
       "       [0, 0, 0],\n",
       "       [0, 3, 0]])"
      ]
     },
     "execution_count": 122,
     "metadata": {},
     "output_type": "execute_result"
    }
   ],
   "source": [
    "conM*np.tile(Ft,[3,1]).T"
   ]
  },
  {
   "cell_type": "code",
   "execution_count": 119,
   "id": "8dc92582-468c-4425-994c-f08458ea5b3f",
   "metadata": {},
   "outputs": [
    {
     "data": {
      "text/plain": [
       "array([5, 0, 3])"
      ]
     },
     "metadata": {},
     "output_type": "display_data"
    },
    {
     "data": {
      "text/plain": [
       "array([[0, 0, 0],\n",
       "       [5, 0, 3]])"
      ]
     },
     "execution_count": 119,
     "metadata": {},
     "output_type": "execute_result"
    }
   ],
   "source": [
    "Ft=np.max(conM*np.tile(Ft,[3,1]).T+hM[0],axis=0)\n",
    "display(Ft)\n",
    "F=np.vstack([F,Ft])\n",
    "F"
   ]
  },
  {
   "cell_type": "code",
   "execution_count": 113,
   "id": "d260a27c-a71a-4726-afa4-1b80a77c137d",
   "metadata": {},
   "outputs": [
    {
     "data": {
      "text/plain": [
       "array([5, 3, 3])"
      ]
     },
     "metadata": {},
     "output_type": "display_data"
    },
    {
     "data": {
      "text/plain": [
       "array([[0, 0, 0],\n",
       "       [5, 0, 3],\n",
       "       [5, 3, 3]])"
      ]
     },
     "execution_count": 113,
     "metadata": {},
     "output_type": "execute_result"
    }
   ],
   "source": [
    "Ft=np.max(conM*np.tile(Ft,[3,1]).T+hM[1],axis=0)\n",
    "display(Ft)\n",
    "F=np.vstack([F,Ft])\n",
    "F"
   ]
  },
  {
   "cell_type": "code",
   "execution_count": 114,
   "id": "d96675ed-e174-41bb-b1fd-99d12fcfc777",
   "metadata": {},
   "outputs": [
    {
     "data": {
      "text/plain": [
       "array([6, 3, 6])"
      ]
     },
     "metadata": {},
     "output_type": "display_data"
    },
    {
     "data": {
      "text/plain": [
       "array([[0, 0, 0],\n",
       "       [5, 0, 3],\n",
       "       [5, 3, 3],\n",
       "       [6, 3, 6]])"
      ]
     },
     "execution_count": 114,
     "metadata": {},
     "output_type": "execute_result"
    }
   ],
   "source": [
    "Ft=np.max(conM*np.tile(Ft,[3,1]).T+hM[2],axis=0)\n",
    "display(Ft)\n",
    "F=np.vstack([F,Ft])\n",
    "F"
   ]
  },
  {
   "cell_type": "code",
   "execution_count": 115,
   "id": "2c37a121-1e65-4d6c-a8d8-1de6286c3f11",
   "metadata": {},
   "outputs": [
    {
     "data": {
      "text/plain": [
       "array([6, 6, 6])"
      ]
     },
     "metadata": {},
     "output_type": "display_data"
    },
    {
     "data": {
      "text/plain": [
       "array([[0, 0, 0],\n",
       "       [5, 0, 3],\n",
       "       [5, 3, 3],\n",
       "       [6, 3, 6],\n",
       "       [6, 6, 6]])"
      ]
     },
     "execution_count": 115,
     "metadata": {},
     "output_type": "execute_result"
    }
   ],
   "source": [
    "Ft=np.max(conM*np.tile(Ft,[3,1]).T+hM[3],axis=0)\n",
    "display(Ft)\n",
    "F=np.vstack([F,Ft])\n",
    "F"
   ]
  },
  {
   "cell_type": "code",
   "execution_count": 100,
   "id": "d477a02b-12fc-4f20-b2e0-0fde3fcfe30a",
   "metadata": {},
   "outputs": [
    {
     "data": {
      "text/plain": [
       "array([[5, 5, 5],\n",
       "       [0, 0, 0],\n",
       "       [3, 3, 3]])"
      ]
     },
     "execution_count": 100,
     "metadata": {},
     "output_type": "execute_result"
    }
   ],
   "source": [
    "np.tile(Ft,[3,1]).T"
   ]
  },
  {
   "cell_type": "code",
   "execution_count": 101,
   "id": "b531212e-bcba-4b17-be29-86e88619a9e1",
   "metadata": {},
   "outputs": [
    {
     "data": {
      "text/plain": [
       "array([[5, 0, 0],\n",
       "       [0, 0, 0],\n",
       "       [0, 3, 0]])"
      ]
     },
     "execution_count": 101,
     "metadata": {},
     "output_type": "execute_result"
    }
   ],
   "source": [
    "conM*np.tile(Ft,[3,1]).T"
   ]
  },
  {
   "cell_type": "code",
   "execution_count": 103,
   "id": "cfc3290e-e73a-4633-9616-f1c0de225d7f",
   "metadata": {},
   "outputs": [
    {
     "data": {
      "text/plain": [
       "array([[5, 5, 5],\n",
       "       [8, 8, 8],\n",
       "       [0, 0, 0]])"
      ]
     },
     "execution_count": 103,
     "metadata": {},
     "output_type": "execute_result"
    }
   ],
   "source": [
    "np.dot(conM,np.tile(Ft,[3,1]).T)"
   ]
  },
  {
   "cell_type": "code",
   "execution_count": 92,
   "id": "23f19569-c9d3-46bf-8327-db30c5b02bb0",
   "metadata": {},
   "outputs": [
    {
     "data": {
      "text/plain": [
       "array([5, 0, 3])"
      ]
     },
     "execution_count": 92,
     "metadata": {},
     "output_type": "execute_result"
    }
   ],
   "source": [
    "Ft"
   ]
  },
  {
   "cell_type": "code",
   "execution_count": 36,
   "id": "51f40421-7dad-4726-8ec1-bd6d90733b30",
   "metadata": {},
   "outputs": [
    {
     "data": {
      "text/plain": [
       "array([9, 0, 6])"
      ]
     },
     "execution_count": 36,
     "metadata": {},
     "output_type": "execute_result"
    }
   ],
   "source": [
    "F=np.max(np.tile(F,[3,1])+hM[1],axis=0)\n",
    "F"
   ]
  },
  {
   "cell_type": "code",
   "execution_count": 30,
   "id": "f6663001-3e9b-474b-811e-3a21017e16eb",
   "metadata": {},
   "outputs": [
    {
     "data": {
      "text/plain": [
       "array([4, 0, 3])"
      ]
     },
     "execution_count": 30,
     "metadata": {},
     "output_type": "execute_result"
    }
   ],
   "source": [
    "F"
   ]
  }
 ],
 "metadata": {
  "kernelspec": {
   "display_name": "Python 3 (ipykernel)",
   "language": "python",
   "name": "python3"
  },
  "language_info": {
   "codemirror_mode": {
    "name": "ipython",
    "version": 3
   },
   "file_extension": ".py",
   "mimetype": "text/x-python",
   "name": "python",
   "nbconvert_exporter": "python",
   "pygments_lexer": "ipython3",
   "version": "3.10.11"
  }
 },
 "nbformat": 4,
 "nbformat_minor": 5
}
