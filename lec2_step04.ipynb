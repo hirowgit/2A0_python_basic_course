{
 "cells": [
  {
   "cell_type": "code",
   "execution_count": null,
   "id": "6882da8b",
   "metadata": {},
   "outputs": [],
   "source": [
    "## Python basics for novice data scientists, supported by Wagatsuma Lab@Kyutech \n",
    "#\n",
    "# The MIT License (MIT): Copyright (c) 2020 Hiroaki Wagatsuma and Wagatsuma Lab@Kyutech\n",
    "# \n",
    "# Permission is hereby granted, free of charge, to any person obtaining a copy of this software and associated documentation files (the \"Software\"), to deal in the Software without restriction, including without limitation the rights to use, copy, modify, merge, publish, distribute, sublicense, and/or sell copies of the Software, and to permit persons to whom the Software is furnished to do so, subject to the following conditions:\n",
    "# The above copyright notice and this permission notice shall be included in all copies or substantial portions of the Software.\n",
    "# THE SOFTWARE IS PROVIDED \"AS IS\", WITHOUT WARRANTY OF ANY KIND, EXPRESS OR IMPLIED, INCLUDING BUT NOT LIMITED TO THE WARRANTIES OF MERCHANTABILITY, FITNESS FOR A PARTICULAR PURPOSE AND NONINFRINGEMENT. IN NO EVENT SHALL THE AUTHORS OR COPYRIGHT HOLDERS BE LIABLE FOR ANY CLAIM, DAMAGES OR OTHER LIABILITY, WHETHER IN AN ACTION OF CONTRACT, TORT OR OTHERWISE, ARISING FROM, OUT OF OR IN CONNECTION WITH THE SOFTWARE OR THE USE OR OTHER DEALINGS IN THE SOFTWARE. */\n",
    "#\n",
    "# # @Time    : 2022-12-29 \n",
    "# # @Author  : Hiroaki Wagatsuma\n",
    "# # @Site    : https://github.com/hirowgit/2A_python_basic_course\n",
    "# # @IDE     : Python 3.9.16 (main, Dec  7 2022, 10:15:43) [Clang 14.0.0 (clang-1400.0.29.202)] on darwin\n",
    "# # @File    : lec2_step04.py "
   ]
  },
  {
   "cell_type": "code",
   "execution_count": 29,
   "id": "e5dbc6bc",
   "metadata": {},
   "outputs": [],
   "source": [
    "# module test: if you have an error when you run this code, \n",
    "# you need to check the installation status of those modules\n",
    "\n",
    "import math \n",
    "import sys \n",
    "import os\n",
    "import numpy as np\n",
    "import pandas as pd\n",
    "import matplotlib.pyplot as plt\n",
    "import matplotlib.patches as patch\n",
    "import matplotlib.cm as cm\n",
    "import matplotlib as mp\n",
    "import tkinter as tk"
   ]
  },
  {
   "cell_type": "code",
   "execution_count": 30,
   "id": "11d8168d",
   "metadata": {},
   "outputs": [],
   "source": [
    "# you need run this code, if you want to use external windows to visulalize\n",
    "import matplotlib.pyplot as plt\n",
    "%matplotlib tk"
   ]
  },
  {
   "cell_type": "code",
   "execution_count": 31,
   "id": "634108c4",
   "metadata": {},
   "outputs": [
    {
     "data": {
      "text/plain": [
       "Text(0.5, 0, 'z')"
      ]
     },
     "execution_count": 31,
     "metadata": {},
     "output_type": "execute_result"
    }
   ],
   "source": [
    "# lec2_step04: A-1: Plotting 3D points\n",
    "axes = plt.figure(1).add_subplot(projection='3d')\n",
    "pRange=np.array([0,1])\n",
    "\n",
    "NofD=10\n",
    "dataD=np.random.rand(3,NofD)\n",
    "\n",
    "axes.scatter(dataD[0], dataD[1], dataD[2],color=[0,0,0], label='random points in (x, y, z)')\n",
    "\n",
    "axes.legend()\n",
    "axes.set_xlim(pRange)\n",
    "axes.set_ylim(pRange)\n",
    "axes.set_zlim(pRange)\n",
    "axes.set_xlabel('x')\n",
    "axes.set_ylabel('y')\n",
    "axes.set_zlabel('z')"
   ]
  },
  {
   "cell_type": "code",
   "execution_count": 4,
   "id": "a07a8d16",
   "metadata": {},
   "outputs": [
    {
     "data": {
      "image/png": "[encoded data removed]",
      "text/plain": [
       "<Figure size 432x288 with 1 Axes>"
      ]
     },
     "metadata": {
      "needs_background": "light"
     },
     "output_type": "display_data"
    }
   ],
   "source": [
    "# lec2_step04: A-2: Color grading generation (monochrome)\n",
    "\n",
    "axes = plt.figure(2)\n",
    "dataD=np.array([[1,2,3,4,5]])\n",
    " \n",
    "plt.imshow(dataD,cmap='gray')\n",
    "plt.show()"
   ]
  },
  {
   "cell_type": "code",
   "execution_count": 5,
   "id": "24833b71",
   "metadata": {},
   "outputs": [
    {
     "data": {
      "image/png": "[encoded data removed]",
      "text/plain": [
       "<Figure size 432x288 with 1 Axes>"
      ]
     },
     "metadata": {
      "needs_background": "light"
     },
     "output_type": "display_data"
    }
   ],
   "source": [
    "# lec2_step04: A-3: Color grading generation (color)\n",
    "\n",
    "axes = plt.figure(3)\n",
    "dataD=np.array([[1,2,3,4,5]])\n",
    " \n",
    "plt.imshow(dataD,cmap='bwr')\n",
    "\n",
    "plt.show()"
   ]
  },
  {
   "cell_type": "code",
   "execution_count": 72,
   "id": "b3f88897",
   "metadata": {},
   "outputs": [
    {
     "data": {
      "text/plain": [
       "array([0, 1, 2, 3, 4, 5, 6, 7, 8, 9])"
      ]
     },
     "execution_count": 72,
     "metadata": {},
     "output_type": "execute_result"
    }
   ],
   "source": [
    "np.arange(NofD)"
   ]
  },
  {
   "cell_type": "code",
   "execution_count": 8,
   "id": "8d5bb7db",
   "metadata": {},
   "outputs": [
    {
     "data": {
      "image/png": "[encoded data removed]",
      "text/plain": [
       "<Figure size 432x288 with 1 Axes>"
      ]
     },
     "metadata": {
      "needs_background": "light"
     },
     "output_type": "display_data"
    }
   ],
   "source": [
    "# lec2_step04: A-4: Color grading +panel generation (monochrome) \n",
    "\n",
    "axes = plt.figure(4)\n",
    "dataD=[np.arange(NofD)]\n",
    " \n",
    "plt.imshow(dataD,cmap='gray')\n",
    "\n",
    "plt.show()"
   ]
  },
  {
   "cell_type": "code",
   "execution_count": 105,
   "id": "ebf39016",
   "metadata": {},
   "outputs": [
    {
     "name": "stdout",
     "output_type": "stream",
     "text": [
      "(1, 10, 3)\n"
     ]
    },
    {
     "data": {
      "text/plain": [
       "array([[[  0,   0, 255],\n",
       "        [  0,   0, 255],\n",
       "        [  0,   0, 255],\n",
       "        [  0,   0, 255],\n",
       "        [  0,   0, 255],\n",
       "        [  0,   0, 255],\n",
       "        [  0,   0, 255],\n",
       "        [  0,   0, 255],\n",
       "        [  0,   0, 255],\n",
       "        [  0,   0, 255]]])"
      ]
     },
     "execution_count": 105,
     "metadata": {},
     "output_type": "execute_result"
    }
   ],
   "source": [
    "NofD=10\n",
    "primD = [0,0,255]\n",
    "# A=[primD for i in range(NofD)]\n",
    "# imageD=np.array([A])\n",
    "imageD=np.array([[primD for i in range(NofD)]],dtype=int)\n",
    "print(np.shape(imageD))\n",
    "imageD"
   ]
  },
  {
   "cell_type": "code",
   "execution_count": 91,
   "id": "068e1997",
   "metadata": {},
   "outputs": [
    {
     "data": {
      "text/plain": [
       "array([255, 255, 255, 255, 255, 255, 255, 255, 255, 255])"
      ]
     },
     "execution_count": 91,
     "metadata": {},
     "output_type": "execute_result"
    }
   ],
   "source": [
    "imageD[0,:,2]"
   ]
  },
  {
   "cell_type": "code",
   "execution_count": 106,
   "id": "0b8d32be",
   "metadata": {},
   "outputs": [
    {
     "data": {
      "image/png": "[encoded data removed]",
      "text/plain": [
       "<Figure size 432x288 with 1 Axes>"
      ]
     },
     "metadata": {
      "needs_background": "light"
     },
     "output_type": "display_data"
    }
   ],
   "source": [
    "axes = plt.figure(5)\n",
    "plt.imshow(imageD)\n",
    "plt.show()"
   ]
  },
  {
   "cell_type": "code",
   "execution_count": 112,
   "id": "549486a7",
   "metadata": {},
   "outputs": [
    {
     "name": "stdout",
     "output_type": "stream",
     "text": [
      "(10, 1, 3)\n"
     ]
    },
    {
     "data": {
      "text/plain": [
       "array([[[  0,   0, 255]],\n",
       "\n",
       "       [[  0,   0, 255]],\n",
       "\n",
       "       [[  0,   0, 255]],\n",
       "\n",
       "       [[  0,   0, 255]],\n",
       "\n",
       "       [[  0,   0, 255]],\n",
       "\n",
       "       [[  0,   0, 255]],\n",
       "\n",
       "       [[  0,   0, 255]],\n",
       "\n",
       "       [[  0,   0, 255]],\n",
       "\n",
       "       [[  0,   0, 255]],\n",
       "\n",
       "       [[  0,   0, 255]]])"
      ]
     },
     "execution_count": 112,
     "metadata": {},
     "output_type": "execute_result"
    }
   ],
   "source": [
    "NofD=10\n",
    "imageD = np.empty((NofD,1, 3), dtype=int)\n",
    "print(np.shape(imageD))\n",
    "\n",
    "imageD"
   ]
  },
  {
   "cell_type": "code",
   "execution_count": 110,
   "id": "f8cfa87f",
   "metadata": {},
   "outputs": [
    {
     "data": {
      "text/plain": [
       "array([0, 0, 0, 0, 0, 0, 0, 0, 0, 0])"
      ]
     },
     "execution_count": 110,
     "metadata": {},
     "output_type": "execute_result"
    }
   ],
   "source": [
    "imageD[0,:,0]"
   ]
  },
  {
   "cell_type": "code",
   "execution_count": 113,
   "id": "460697f9",
   "metadata": {},
   "outputs": [
    {
     "data": {
      "image/png": "[encoded data removed]",
      "text/plain": [
       "<Figure size 432x288 with 1 Axes>"
      ]
     },
     "metadata": {
      "needs_background": "light"
     },
     "output_type": "display_data"
    }
   ],
   "source": [
    "axes = plt.figure(6)\n",
    "plt.imshow(imageD)\n",
    "plt.show()"
   ]
  },
  {
   "cell_type": "code",
   "execution_count": 296,
   "id": "b6f46d92",
   "metadata": {
    "scrolled": true
   },
   "outputs": [
    {
     "name": "stdout",
     "output_type": "stream",
     "text": [
      "12\n",
      "[  0  76 153 229   0  76 153 229   0  76 153 229]\n",
      "[229   0  76 153 229   0  76 153 229   0  76 153]\n",
      "[[  0 229 153]\n",
      " [ 76   0 229]\n",
      " [153  76   0]\n",
      " [229 153  76]\n",
      " [  0 229 153]\n",
      " [ 76   0 229]\n",
      " [153  76   0]\n",
      " [229 153  76]\n",
      " [  0 229 153]\n",
      " [ 76   0 229]\n",
      " [153  76   0]\n",
      " [229 153  76]]\n",
      "(1, 12, 3)\n"
     ]
    },
    {
     "data": {
      "image/png": "[encoded data removed]",
      "text/plain": [
       "<Figure size 432x288 with 1 Axes>"
      ]
     },
     "metadata": {
      "needs_background": "light"
     },
     "output_type": "display_data"
    }
   ],
   "source": [
    "# lec2_step04: A-5: Color map generation \n",
    "\n",
    "cMax=255\n",
    "cStep=np.arange(0,cMax,cMax/(NofD/3)).astype(int)\n",
    "cStep_Long=np.tile(cStep,3)\n",
    "print(len(cStep_Long))\n",
    "print(cStep_Long)\n",
    "print(np.roll(cStep_Long,1))\n",
    "\n",
    "cMatFull=np.transpose(np.vstack([cStep_Long,np.roll(cStep_Long,1),np.roll(cStep_Long,2)]))\n",
    "cMat=np.array([cMatFull.tolist()])\n",
    "print(cMatFull)\n",
    "print(np.shape(cMat))\n",
    "\n",
    "axes = plt.figure(7)\n",
    "plt.imshow(cMat)\n",
    "plt.show()"
   ]
  },
  {
   "cell_type": "code",
   "execution_count": 297,
   "id": "96cd6043",
   "metadata": {},
   "outputs": [
    {
     "name": "stdout",
     "output_type": "stream",
     "text": [
      "27\n"
     ]
    },
    {
     "data": {
      "text/plain": [
       "array([  0,   0,   0,   0,   0,   0,   0,   0,   0, 127, 127, 127, 127,\n",
       "       127, 127, 127, 127, 127, 255, 255, 255, 255, 255, 255, 255, 255,\n",
       "       255])"
      ]
     },
     "execution_count": 297,
     "metadata": {},
     "output_type": "execute_result"
    }
   ],
   "source": [
    "NofCp*NofCp2\n",
    "len(cPat)\n",
    "\n",
    "digit_flat=np.tile(digit_flat,2)\n",
    "digit_flat=digit_flat[:fillNall]\n",
    "print(len(digit_flat))\n",
    "digit_flat"
   ]
  },
  {
   "cell_type": "code",
   "execution_count": 298,
   "id": "e5bc0a22",
   "metadata": {},
   "outputs": [
    {
     "data": {
      "text/plain": [
       "3"
      ]
     },
     "execution_count": 298,
     "metadata": {},
     "output_type": "execute_result"
    }
   ],
   "source": [
    "np.ceil(math.pow(NofD,1/3)).astype(int)"
   ]
  },
  {
   "cell_type": "code",
   "execution_count": 303,
   "id": "9b2fe646",
   "metadata": {},
   "outputs": [
    {
     "name": "stdout",
     "output_type": "stream",
     "text": [
      "10\n",
      "[  0 127 255   0 127 255   0 127 255   0 127 255   0 127 255   0 127 255\n",
      "   0 127 255   0 127 255   0 127 255]\n",
      "[  0   0   0 127 127 127 255 255 255   0   0   0 127 127 127 255 255 255\n",
      "   0   0   0 127 127 127 255 255 255]\n",
      "[  0   0   0   0   0   0   0   0   0 127 127 127 127 127 127 127 127 127\n",
      " 255 255 255 255 255 255 255 255 255]\n",
      "-\n",
      "[[  0   0   0]\n",
      " [127   0   0]\n",
      " [255   0   0]\n",
      " [  0 127   0]\n",
      " [127 127   0]\n",
      " [255 127   0]\n",
      " [  0 255   0]\n",
      " [127 255   0]\n",
      " [255 255   0]\n",
      " [  0   0 127]\n",
      " [127   0 127]\n",
      " [255   0 127]\n",
      " [  0 127 127]\n",
      " [127 127 127]\n",
      " [255 127 127]\n",
      " [  0 255 127]\n",
      " [127 255 127]\n",
      " [255 255 127]\n",
      " [  0   0 255]\n",
      " [127   0 255]\n",
      " [255   0 255]\n",
      " [  0 127 255]\n",
      " [127 127 255]\n",
      " [255 127 255]\n",
      " [  0 255 255]\n",
      " [127 255 255]\n",
      " [255 255 255]]\n",
      "[[  0   0   0]\n",
      " [127   0   0]\n",
      " [255   0   0]\n",
      " [  0 127   0]\n",
      " [127 127   0]\n",
      " [255 127   0]\n",
      " [  0 255   0]\n",
      " [127 255   0]\n",
      " [255 255   0]\n",
      " [  0   0 127]]\n"
     ]
    }
   ],
   "source": [
    "# lec2_step04: A-6: my color map generation\n",
    "\n",
    "print(NofD)\n",
    "NofCp=math.ceil(math.pow(NofD,1/3))\n",
    "# NofCp=np.ceil(math.pow(NofD,1/3)).astype(int)\n",
    "NofCp2=np.round(NofD/NofCp).astype(int)\n",
    "deltaC=cMax/(NofCp-1);\n",
    "cPat=np.arange(0,cMax+deltaC,deltaC).astype(int)\n",
    "digit0=np.tile(cPat,NofCp2)\n",
    "digit1=[(np.tile(d,NofCp).tolist()) for d in cPat]\n",
    "\n",
    "fillNall=NofCp*pow(len(cPat),3-1)\n",
    "\n",
    "digit_full=np.full((3,fillNall),0,dtype=int)\n",
    "for k in range(3):\n",
    "    if k==0:\n",
    "        digit_flat=cPat\n",
    "    else:\n",
    "        fillN=NofCp*pow(len(cPat),k-1)\n",
    "        digit_tmp=[(np.tile(d,fillN).tolist()) for d in cPat]\n",
    "        digit_flat=np.reshape(digit_tmp,(1,fillN*len(cPat)))[0]\n",
    "    while len(digit_flat)<fillNall:\n",
    "        digit_flat=np.tile(digit_flat,2)\n",
    "    digit_flat=digit_flat[:fillNall]\n",
    "#     print(digit_tmp)\n",
    "    print(digit_flat)\n",
    "    digit_full[k,:]=digit_flat\n",
    "#     print(len(digit_flat))\n",
    "    \n",
    "print('-')\n",
    "print(np.transpose(digit_full))\n",
    "digit_full_p=np.transpose(digit_full)[:NofD]\n",
    "# digit_full_p=np.fliplr(np.transpose(digit_full))[:NofD]\n",
    "print(digit_full_p)\n"
   ]
  },
  {
   "cell_type": "code",
   "execution_count": 327,
   "id": "6ee06b93",
   "metadata": {},
   "outputs": [
    {
     "name": "stdout",
     "output_type": "stream",
     "text": [
      "[[  0 229 153]\n",
      " [ 76   0 229]\n",
      " [153  76   0]\n",
      " [229 153  76]\n",
      " [  0 229 153]\n",
      " [ 76   0 229]\n",
      " [153  76   0]\n",
      " [229 153  76]\n",
      " [  0 229 153]\n",
      " [ 76   0 229]\n",
      " [153  76   0]\n",
      " [229 153  76]]\n",
      "(1, 10, 3)\n"
     ]
    },
    {
     "data": {
      "image/png": "[encoded data removed]",
      "text/plain": [
       "<Figure size 432x288 with 1 Axes>"
      ]
     },
     "metadata": {
      "needs_background": "light"
     },
     "output_type": "display_data"
    }
   ],
   "source": [
    "# lec2_step04: A-7: my color map usage\n",
    "\n",
    "my_colormap=digit_full_p/255\n",
    "cMat=np.array([digit_full_p.tolist()])\n",
    "print(cMatFull)\n",
    "print(np.shape(cMat))\n",
    "\n",
    "axes = plt.figure(8)\n",
    "plt.imshow(cMat)\n",
    "plt.show()"
   ]
  },
  {
   "cell_type": "code",
   "execution_count": 313,
   "id": "4b06f426",
   "metadata": {},
   "outputs": [
    {
     "data": {
      "text/plain": [
       "Text(0.5, 0, 'z')"
      ]
     },
     "execution_count": 313,
     "metadata": {},
     "output_type": "execute_result"
    },
    {
     "data": {
      "image/png": "[encoded data removed]",
      "text/plain": [
       "<Figure size 432x288 with 1 Axes>"
      ]
     },
     "metadata": {
      "needs_background": "light"
     },
     "output_type": "display_data"
    }
   ],
   "source": [
    "# check colormap here: https://www.w3schools.com/python/matplotlib_scatter.asp\n",
    "\n",
    "# lec2_step04: A-8: plotting with different colors\n",
    "\n",
    "axes = plt.figure(9).add_subplot(projection='3d')\n",
    "pRange=np.array([0,1])\n",
    "\n",
    "NofD=10\n",
    "dataD=np.random.rand(3,NofD)\n",
    "colors = np.arange(NofD)\n",
    "axes.scatter(dataD[0], dataD[1], dataD[2],c=colors, cmap='hsv_r', label='random points in (x, y, z)')\n",
    "# axes.scatter(dataD[0], dataD[1], dataD[2],c=colors, cmap='hsv', label='random points in (x, y, z)')\n",
    "\n",
    "axes.legend()\n",
    "axes.set_xlim(pRange)\n",
    "axes.set_ylim(pRange)\n",
    "axes.set_zlim(pRange)\n",
    "axes.set_xlabel('x')\n",
    "axes.set_ylabel('y')\n",
    "axes.set_zlabel('z')"
   ]
  },
  {
   "cell_type": "code",
   "execution_count": 368,
   "id": "f9169039",
   "metadata": {},
   "outputs": [
    {
     "data": {
      "text/plain": [
       "Text(0.5, 0, 'z')"
      ]
     },
     "execution_count": 368,
     "metadata": {},
     "output_type": "execute_result"
    },
    {
     "data": {
      "image/png": "[encoded data removed]",
      "text/plain": [
       "<Figure size 432x288 with 1 Axes>"
      ]
     },
     "metadata": {
      "needs_background": "light"
     },
     "output_type": "display_data"
    }
   ],
   "source": [
    "# check colormap here: https://www.w3schools.com/python/matplotlib_scatter.asp\n",
    "\n",
    "# lec2_step04: A-9: plotting with different colors based on my colormap\n",
    "\n",
    "\n",
    "axes = plt.figure(10).add_subplot(projection='3d')\n",
    "pRange=np.array([0,1])\n",
    "\n",
    "NofD=10\n",
    "dataD=np.random.rand(3,NofD)\n",
    "\n",
    "axes.scatter(dataD[0], dataD[1], dataD[2],c=my_colormap, label='random points')\n",
    "\n",
    "# axes.legend(loc='right')\n",
    "axes.legend(bbox_to_anchor=(0.9, 1), loc='upper left', borderaxespad=0,fontsize=12)\n",
    "axes.set_xlim(pRange)\n",
    "axes.set_ylim(pRange)\n",
    "axes.set_zlim(pRange)\n",
    "axes.set_xlabel('x')\n",
    "axes.set_ylabel('y')\n",
    "axes.set_zlabel('z')"
   ]
  },
  {
   "cell_type": "code",
   "execution_count": 390,
   "id": "161af940",
   "metadata": {},
   "outputs": [
    {
     "data": {
      "text/plain": [
       "Text(0.5, 0, 'z')"
      ]
     },
     "execution_count": 390,
     "metadata": {},
     "output_type": "execute_result"
    },
    {
     "data": {
      "image/png": "[encoded data removed]",
      "text/plain": [
       "<Figure size 432x288 with 1 Axes>"
      ]
     },
     "metadata": {
      "needs_background": "light"
     },
     "output_type": "display_data"
    }
   ],
   "source": [
    "# check colormap here: https://www.w3schools.com/python/matplotlib_scatter.asp\n",
    "\n",
    "# lec2_step04: A-10: plotting with different colors + annotation text\n",
    "\n",
    "\n",
    "axes = plt.figure(11).add_subplot(projection='3d')\n",
    "pRange=np.array([0,1])\n",
    "\n",
    "NofD=10\n",
    "dataD=np.random.rand(3,NofD)\n",
    "plabels = np.arange(NofD)\n",
    "plabels2=np.transpose(np.reshape(plabels,(1,len(plabels))))\n",
    "\n",
    "axes.scatter(dataD[0], dataD[1], dataD[2],c=my_colormap, label='random points')\n",
    "for k in range(NofD):\n",
    "    axes.text(dataD[0,k], dataD[1,k], dataD[2,k],str(plabels2[k][0]),color=my_colormap[k])\n",
    "\n",
    "# axes.legend(loc='right')\n",
    "axes.legend(bbox_to_anchor=(0.9, 1), loc='upper left', borderaxespad=0,fontsize=12)\n",
    "axes.set_xlim(pRange)\n",
    "axes.set_ylim(pRange)\n",
    "axes.set_zlim(pRange)\n",
    "axes.set_xlabel('x')\n",
    "axes.set_ylabel('y')\n",
    "axes.set_zlabel('z')"
   ]
  },
  {
   "cell_type": "code",
   "execution_count": 4,
   "id": "ad581ca4",
   "metadata": {},
   "outputs": [
    {
     "data": {
      "image/png": "[encoded data removed]",
      "text/plain": [
       "<Figure size 432x288 with 1 Axes>"
      ]
     },
     "metadata": {
      "needs_background": "light"
     },
     "output_type": "display_data"
    }
   ],
   "source": [
    "# reference: https://qiita.com/taiko1/items/23379266c1aaa2e67acc\n",
    "\n",
    "# lec2_step04: A-11: making a cube by transparent polygons\n",
    "\n",
    "import numpy as np\n",
    "from mpl_toolkits.mplot3d.art3d import Poly3DCollection, Line3DCollection\n",
    "import matplotlib.pyplot as plt\n",
    "pRange=np.array([-15,15])\n",
    "enlargedR=10\n",
    "\n",
    "frame_points = np.array([[-1, -1, -1],\n",
    "                  [1, -1, -1 ],\n",
    "                  [1, 1, -1],\n",
    "                  [-1, 1, -1],\n",
    "                  [-1, -1, 1],\n",
    "                  [1, -1, 1 ],\n",
    "                  [1, 1, 1],\n",
    "                  [-1, 1, 1]])\n",
    "scaled_P = frame_points*enlargedR\n",
    "\n",
    "axes = plt.figure(14).add_subplot(projection='3d')\n",
    "\n",
    "axes.scatter3D(scaled_P[:, 0], scaled_P[:, 1], scaled_P[:, 2])\n",
    "\n",
    "vertices = [[scaled_P[0],scaled_P[1],scaled_P[2],scaled_P[3]],\n",
    " [scaled_P[4],scaled_P[5],scaled_P[6],scaled_P[7]],\n",
    " [scaled_P[0],scaled_P[1],scaled_P[5],scaled_P[4]],\n",
    " [scaled_P[2],scaled_P[3],scaled_P[7],scaled_P[6]],\n",
    " [scaled_P[1],scaled_P[2],scaled_P[6],scaled_P[5]],\n",
    " [scaled_P[4],scaled_P[7],scaled_P[3],scaled_P[0]]]\n",
    "\n",
    "axes.add_collection3d(Poly3DCollection(vertices, facecolors='lime', linewidths=1, edgecolors='b', alpha=0.2))\n",
    "\n",
    "plt.xticks(np.arange(pRange[0], pRange[1], 5))\n",
    "plt.yticks(np.arange(pRange[0], pRange[1], 5))\n",
    "\n",
    "axes.set_zticks(np.arange(pRange[0], pRange[1], 5))\n",
    "axes.set_zticklabels(np.arange(pRange[0], pRange[1], 5),fontsize=10)\n",
    "\n",
    "axes.set_xlim(pRange)\n",
    "axes.set_ylim(pRange)\n",
    "axes.set_zlim(pRange)\n",
    "axes.set_xlabel('x')\n",
    "axes.set_ylabel('y')\n",
    "axes.set_zlabel('z')\n",
    "\n",
    "plt.show()"
   ]
  },
  {
   "cell_type": "code",
   "execution_count": 468,
   "id": "4e4313be",
   "metadata": {},
   "outputs": [
    {
     "name": "stdout",
     "output_type": "stream",
     "text": [
      "# 10x10x10 cube \n",
      "\n",
      "g cube\n",
      "\n",
      "v 0 0 0\n",
      "\n"
     ]
    }
   ],
   "source": [
    "datafol='data3d'\n",
    "fname='cube.obj'\n",
    "fp = open(os.path.join(datafol, fname), 'r')\n",
    "\n",
    "datalines = fp.readlines()\n",
    "print (datalines[0])\n",
    "print (datalines[1])\n",
    "print (datalines[2])\n",
    "\n",
    "fp.close()"
   ]
  },
  {
   "cell_type": "code",
   "execution_count": 478,
   "id": "4f7cbf84",
   "metadata": {},
   "outputs": [
    {
     "name": "stdout",
     "output_type": "stream",
     "text": [
      "['10x10x10', 'cube']\n",
      "['g', 'cube']\n",
      "['v', '0', '0', '0']\n",
      "['v', '10', '0', '0']\n",
      "['v', '0', '10', '0']\n",
      "['v', '10', '10', '0']\n",
      "['v', '0', '0', '10']\n",
      "['v', '10', '0', '10']\n",
      "['v', '0', '10', '10']\n",
      "['v', '10', '10', '10']\n",
      "['vn', '0', '0', '1']\n",
      "['vn', '1', '0', '0']\n",
      "['vn', '1', '0', '0']\n",
      "['vn', '0', '1', '0']\n",
      "['vn', '0', '1', '0']\n",
      "['vn', '0', '0', '1']\n",
      "['f', '1', '1', '3', '1', '4', '1', '2', '1']\n",
      "['f', '1', '2', '5', '2', '7', '2', '3', '2']\n",
      "['f', '2', '3', '4', '3', '8', '3', '6', '3']\n",
      "['f', '1', '4', '2', '4', '6', '4', '5', '4']\n",
      "['f', '3', '5', '7', '5', '8', '5', '4', '5']\n",
      "['f', '5', '6', '6', '6', '8', '6', '7', '6']\n",
      "[]\n",
      "[]\n",
      "[]\n",
      "[]\n",
      "[]\n",
      "[]\n",
      "[]\n",
      "[]\n",
      "[]\n",
      "[]\n",
      "[]\n",
      "[]\n",
      "[]\n",
      "[]\n",
      "[]\n",
      "[]\n",
      "['1//1', '3//1', '4//1', '2//1']\n",
      "['1//2', '5//2', '7//2', '3//2']\n",
      "['2//3', '4//3', '8//3', '6//3']\n",
      "['1//4', '2//4', '6//4', '5//4']\n",
      "['3//5', '7//5', '8//5', '4//5']\n",
      "['5//6', '6//6', '8//6', '7//6']\n",
      "[]\n",
      "[]\n",
      "[]\n",
      "[]\n",
      "[]\n",
      "[]\n",
      "[]\n",
      "[]\n",
      "[]\n",
      "[]\n",
      "[]\n",
      "[]\n",
      "[]\n",
      "[]\n",
      "[]\n",
      "[]\n",
      "[]\n",
      "[]\n",
      "[]\n",
      "[]\n",
      "[]\n",
      "[]\n"
     ]
    }
   ],
   "source": [
    "import re\n",
    "\n",
    "for s in datalines:\n",
    "# s=datalines[2]\n",
    "    print(re.findall(r'\\w+', s))\n",
    "    \n",
    "for s in datalines:\n",
    "# s=datalines[2]\n",
    "    print(re.findall(r'\\w+//\\w+', s))\n",
    "    \n",
    "for s in datalines:\n",
    "# s=datalines[2]\n",
    "    print(re.findall(r'\\w+/\\w+/\\w+', s))"
   ]
  },
  {
   "cell_type": "code",
   "execution_count": 2,
   "id": "b0116d7e",
   "metadata": {},
   "outputs": [
    {
     "name": "stdout",
     "output_type": "stream",
     "text": [
      "[['0', '0', '0'], ['10', '0', '0'], ['0', '10', '0'], ['10', '10', '0'], ['0', '0', '10'], ['10', '0', '10'], ['0', '10', '10'], ['10', '10', '10']]\n",
      "[['0', '0', '1'], ['1', '0', '0'], ['1', '0', '0'], ['0', '1', '0'], ['0', '1', '0'], ['0', '0', '1']]\n",
      "[['1//1', '3//1', '4//1', '2//1'], ['1//2', '5//2', '7//2', '3//2'], ['2//3', '4//3', '8//3', '6//3'], ['1//4', '2//4', '6//4', '5//4'], ['3//5', '7//5', '8//5', '4//5'], ['5//6', '6//6', '8//6', '7//6']]\n",
      "[[['1', '', '1'], ['3', '', '1'], ['4', '', '1'], ['2', '', '1']], [['1', '', '2'], ['5', '', '2'], ['7', '', '2'], ['3', '', '2']], [['2', '', '3'], ['4', '', '3'], ['8', '', '3'], ['6', '', '3']], [['1', '', '4'], ['2', '', '4'], ['6', '', '4'], ['5', '', '4']], [['3', '', '5'], ['7', '', '5'], ['8', '', '5'], ['4', '', '5']], [['5', '', '6'], ['6', '', '6'], ['8', '', '6'], ['7', '', '6']]]\n",
      "[[[1, 1], [3, 1], [4, 1], [2, 1]], [[1, 2], [5, 2], [7, 2], [3, 2]], [[2, 3], [4, 3], [8, 3], [6, 3]], [[1, 4], [2, 4], [6, 4], [5, 4]], [[3, 5], [7, 5], [8, 5], [4, 5]], [[5, 6], [6, 6], [8, 6], [7, 6]]]\n",
      "[[ 0  0  0]\n",
      " [10  0  0]\n",
      " [ 0 10  0]\n",
      " [10 10  0]\n",
      " [ 0  0 10]\n",
      " [10  0 10]\n",
      " [ 0 10 10]\n",
      " [10 10 10]]\n",
      "[[0 0 1]\n",
      " [1 0 0]\n",
      " [1 0 0]\n",
      " [0 1 0]\n",
      " [0 1 0]\n",
      " [0 0 1]]\n",
      "[[[1 1]\n",
      "  [3 1]\n",
      "  [4 1]\n",
      "  [2 1]]\n",
      "\n",
      " [[1 2]\n",
      "  [5 2]\n",
      "  [7 2]\n",
      "  [3 2]]\n",
      "\n",
      " [[2 3]\n",
      "  [4 3]\n",
      "  [8 3]\n",
      "  [6 3]]\n",
      "\n",
      " [[1 4]\n",
      "  [2 4]\n",
      "  [6 4]\n",
      "  [5 4]]\n",
      "\n",
      " [[3 5]\n",
      "  [7 5]\n",
      "  [8 5]\n",
      "  [4 5]]\n",
      "\n",
      " [[5 6]\n",
      "  [6 6]\n",
      "  [8 6]\n",
      "  [7 6]]]\n",
      "-\n",
      "0\n",
      "[1 3 4 2]\n",
      "1\n",
      "-\n",
      "1\n",
      "[1 5 7 3]\n",
      "2\n",
      "-\n",
      "2\n",
      "[2 4 8 6]\n",
      "3\n",
      "-\n",
      "3\n",
      "[1 2 6 5]\n",
      "4\n",
      "-\n",
      "4\n",
      "[3 7 8 4]\n",
      "5\n",
      "-\n",
      "5\n",
      "[5 6 8 7]\n",
      "6\n"
     ]
    }
   ],
   "source": [
    "import re\n",
    "\n",
    "datafol='data3d'\n",
    "fname='cube.obj'\n",
    "fp = open(os.path.join(datafol, fname), 'r')\n",
    "datalines = fp.readlines()\n",
    "fp.close()\n",
    "\n",
    "dataList=[]\n",
    "tmpL=[]\n",
    "for k in range(len(datalines)):\n",
    "    f_flag=False\n",
    "    f_flag0=False\n",
    "    s=datalines[k]\n",
    "    tmp0=re.findall(r'#.+', datalines[k])\n",
    "    if len(tmp0)>0:\n",
    "        f_flag0=True\n",
    "        tmp=tmp0\n",
    "    else:    \n",
    "        tmp=re.findall(r'\\w+', s)\n",
    "        if (len(tmp)>0) and (tmp[0]=='f') :\n",
    "            f_flag=True\n",
    "            tmp2=re.findall(r'\\w+//\\w+', s)\n",
    "            tmp3=re.findall(r'\\w+/\\w+/\\w+', s)\n",
    "            if len(tmp2)>0:\n",
    "                tmpL=['f']+tmp2\n",
    "            else:\n",
    "                tmpL=['f']+tmp3\n",
    "    \n",
    "    if ((len(tmp)>0) or (len(tmpL)>0)):\n",
    "#         print(len(tmp))\n",
    "#         print(len(tmpL))\n",
    "#         print((tmp))\n",
    "#         print((tmpL))\n",
    "        if f_flag:\n",
    "            dataList.append(tmpL)\n",
    "        else:\n",
    "            dataList.append(tmp)\n",
    "    \n",
    "dataList\n",
    "List_v=[(d[1:]) for d in dataList if d[0]=='v']\n",
    "List_vn=[d[1:] for d in dataList if d[0]=='vn']\n",
    "List_f=[d[1:] for d in dataList if d[0]=='f']\n",
    "List_f2=[ [d2.split('/') for d2 in d] for d in List_f]\n",
    "List_f3=[ [[int(d3) for d3 in d2 if len(d3)>0] for d2 in d] for d in List_f2]\n",
    "print(List_v)\n",
    "print(List_vn)\n",
    "print(List_f)\n",
    "print(List_f2)\n",
    "print(List_f3)\n",
    "\n",
    "v_np=np.array(List_v).astype(int)\n",
    "vn_np=np.array(List_vn).astype(int)\n",
    "f_np=np.array(List_f3).astype(int)\n",
    "\n",
    "print(v_np)\n",
    "print(vn_np)\n",
    "print(f_np)\n",
    "\n",
    "\n",
    "for k in range(len(f_np)):\n",
    "    tmp=f_np[k]\n",
    "#     print(tmp)\n",
    "    node_tmp=[]\n",
    "    if np.sum(np.diff(tmp[:,1]))==0:\n",
    "        node_face=tmp[:,0]\n",
    "        node_vec=tmp[0,1]\n",
    "    print('-')\n",
    "    print(k)\n",
    "    print(node_face)\n",
    "    print(node_vec)\n"
   ]
  },
  {
   "cell_type": "code",
   "execution_count": 3,
   "id": "e6af55ba",
   "metadata": {},
   "outputs": [
    {
     "name": "stdout",
     "output_type": "stream",
     "text": [
      "[['0', '0', '0'], ['10', '0', '0'], ['0', '10', '0'], ['10', '10', '0'], ['0', '0', '10'], ['10', '0', '10'], ['0', '10', '10'], ['10', '10', '10']]\n",
      "[['0', '0', '1'], ['1', '0', '0'], ['1', '0', '0'], ['0', '1', '0'], ['0', '1', '0'], ['0', '0', '1']]\n",
      "[['1//1', '3//1', '4//1', '2//1'], ['1//2', '5//2', '7//2', '3//2'], ['2//3', '4//3', '8//3', '6//3'], ['1//4', '2//4', '6//4', '5//4'], ['3//5', '7//5', '8//5', '4//5'], ['5//6', '6//6', '8//6', '7//6']]\n",
      "[[['1', '', '1'], ['3', '', '1'], ['4', '', '1'], ['2', '', '1']], [['1', '', '2'], ['5', '', '2'], ['7', '', '2'], ['3', '', '2']], [['2', '', '3'], ['4', '', '3'], ['8', '', '3'], ['6', '', '3']], [['1', '', '4'], ['2', '', '4'], ['6', '', '4'], ['5', '', '4']], [['3', '', '5'], ['7', '', '5'], ['8', '', '5'], ['4', '', '5']], [['5', '', '6'], ['6', '', '6'], ['8', '', '6'], ['7', '', '6']]]\n",
      "[[[1, 1], [3, 1], [4, 1], [2, 1]], [[1, 2], [5, 2], [7, 2], [3, 2]], [[2, 3], [4, 3], [8, 3], [6, 3]], [[1, 4], [2, 4], [6, 4], [5, 4]], [[3, 5], [7, 5], [8, 5], [4, 5]], [[5, 6], [6, 6], [8, 6], [7, 6]]]\n",
      "[[ 0  0  0]\n",
      " [10  0  0]\n",
      " [ 0 10  0]\n",
      " [10 10  0]\n",
      " [ 0  0 10]\n",
      " [10  0 10]\n",
      " [ 0 10 10]\n",
      " [10 10 10]]\n",
      "[[0 0 1]\n",
      " [1 0 0]\n",
      " [1 0 0]\n",
      " [0 1 0]\n",
      " [0 1 0]\n",
      " [0 0 1]]\n",
      "[[[1 1]\n",
      "  [3 1]\n",
      "  [4 1]\n",
      "  [2 1]]\n",
      "\n",
      " [[1 2]\n",
      "  [5 2]\n",
      "  [7 2]\n",
      "  [3 2]]\n",
      "\n",
      " [[2 3]\n",
      "  [4 3]\n",
      "  [8 3]\n",
      "  [6 3]]\n",
      "\n",
      " [[1 4]\n",
      "  [2 4]\n",
      "  [6 4]\n",
      "  [5 4]]\n",
      "\n",
      " [[3 5]\n",
      "  [7 5]\n",
      "  [8 5]\n",
      "  [4 5]]\n",
      "\n",
      " [[5 6]\n",
      "  [6 6]\n",
      "  [8 6]\n",
      "  [7 6]]]\n",
      "-\n",
      "0\n",
      "[1 3 4 2]\n",
      "1\n",
      "-\n",
      "1\n",
      "[1 5 7 3]\n",
      "2\n",
      "-\n",
      "2\n",
      "[2 4 8 6]\n",
      "3\n",
      "-\n",
      "3\n",
      "[1 2 6 5]\n",
      "4\n",
      "-\n",
      "4\n",
      "[3 7 8 4]\n",
      "5\n",
      "-\n",
      "5\n",
      "[5 6 8 7]\n",
      "6\n"
     ]
    },
    {
     "data": {
      "image/png": "[encoded data removed]",
      "text/plain": [
       "<Figure size 432x288 with 1 Axes>"
      ]
     },
     "metadata": {
      "needs_background": "light"
     },
     "output_type": "display_data"
    }
   ],
   "source": [
    "# lec2_step04: A-12: reading a file in the OBJ data format (in prep)\n",
    "\n",
    "\n",
    "import numpy as np\n",
    "from mpl_toolkits.mplot3d.art3d import Poly3DCollection, Line3DCollection\n",
    "import matplotlib.pyplot as plt\n",
    "import re\n",
    "\n",
    "pRange=np.array([-5,15])\n",
    "\n",
    "\n",
    "datafol='data3d'\n",
    "fname='cube.obj'\n",
    "fp = open(os.path.join(datafol, fname), 'r')\n",
    "datalines = fp.readlines()\n",
    "fp.close()\n",
    "\n",
    "dataList=[]\n",
    "tmpL=[]\n",
    "for k in range(len(datalines)):\n",
    "    f_flag=False\n",
    "    f_flag0=False\n",
    "    s=datalines[k]\n",
    "    tmp0=re.findall(r'#.+', datalines[k])\n",
    "    if len(tmp0)>0:\n",
    "        f_flag0=True\n",
    "        tmp=tmp0\n",
    "    else:    \n",
    "        tmp=re.findall(r'\\w+', s)\n",
    "        if (len(tmp)>0) and (tmp[0]=='f') :\n",
    "            f_flag=True\n",
    "            tmp2=re.findall(r'\\w+//\\w+', s)\n",
    "            tmp3=re.findall(r'\\w+/\\w+/\\w+', s)\n",
    "            if len(tmp2)>0:\n",
    "                tmpL=['f']+tmp2\n",
    "            else:\n",
    "                tmpL=['f']+tmp3\n",
    "    \n",
    "    if ((len(tmp)>0) or (len(tmpL)>0)):\n",
    "#         print(len(tmp))\n",
    "#         print(len(tmpL))\n",
    "#         print((tmp))\n",
    "#         print((tmpL))\n",
    "        if f_flag:\n",
    "            dataList.append(tmpL)\n",
    "        else:\n",
    "            dataList.append(tmp)\n",
    "    \n",
    "dataList\n",
    "List_v=[(d[1:]) for d in dataList if d[0]=='v']\n",
    "List_vn=[d[1:] for d in dataList if d[0]=='vn']\n",
    "List_f=[d[1:] for d in dataList if d[0]=='f']\n",
    "List_f2=[ [d2.split('/') for d2 in d] for d in List_f]\n",
    "List_f3=[ [[int(d3) for d3 in d2 if len(d3)>0] for d2 in d] for d in List_f2]\n",
    "print(List_v)\n",
    "print(List_vn)\n",
    "print(List_f)\n",
    "print(List_f2)\n",
    "print(List_f3)\n",
    "\n",
    "v_np=np.array(List_v).astype(int)\n",
    "vn_np=np.array(List_vn).astype(int)\n",
    "f_np=np.array(List_f3).astype(int)\n",
    "\n",
    "print(v_np)\n",
    "print(vn_np)\n",
    "print(f_np)\n",
    "\n",
    "frame_points=[]\n",
    "vertices=[]\n",
    "for k in range(len(f_np)):\n",
    "    tmp=f_np[k]\n",
    "#     print(tmp)\n",
    "    node_tmp=[]\n",
    "    if np.sum(np.diff(tmp[:,1]))==0:\n",
    "        node_face=tmp[:,0]\n",
    "        node_vec=tmp[0,1]\n",
    "    print('-')\n",
    "    print(k)\n",
    "    print(node_face)\n",
    "    print(node_vec)\n",
    "    if k==0:\n",
    "        frame_points=v_np[node_face-1]\n",
    "        vertices=[v_np[node_face-1].tolist()]\n",
    "        tgv=vn_np[node_vec-1]\n",
    "    else:\n",
    "        frame_points=np.vstack([frame_points,v_np[node_face-1]])\n",
    "        vertices=np.vstack([vertices,[v_np[node_face-1].tolist()]])\n",
    "        tgv=np.vstack([tgv,vn_np[node_vec-1]])\n",
    "\n",
    "#====================\n",
    "scaled_P = frame_points\n",
    "\n",
    "axes = plt.figure(15).add_subplot(projection='3d')\n",
    "\n",
    "axes.scatter3D(scaled_P[:, 0], scaled_P[:, 1], scaled_P[:, 2])\n",
    "axes.add_collection3d(Poly3DCollection(vertices, facecolors='lime', linewidths=1, edgecolors='b', alpha=0.2))\n",
    "\n",
    "plt.xticks(np.arange(pRange[0], pRange[1], 5))\n",
    "plt.yticks(np.arange(pRange[0], pRange[1], 5))\n",
    "\n",
    "axes.set_zticks(np.arange(pRange[0], pRange[1], 5))\n",
    "axes.set_zticklabels(np.arange(pRange[0], pRange[1], 5),fontsize=10)\n",
    "\n",
    "axes.set_xlim(pRange)\n",
    "axes.set_ylim(pRange)\n",
    "axes.set_zlim(pRange)\n",
    "axes.set_xlabel('x')\n",
    "axes.set_ylabel('y')\n",
    "axes.set_zlabel('z')\n",
    "\n",
    "for k in range(len(vertices)):\n",
    "# [np.mean(vertices[k][:,0]),np.mean(vertices[k][:,1]),np.mean(vertices[k][:,2])]\n",
    "    axes.quiver(np.mean(vertices[k][:,0]), np.mean(vertices[k][:,1]),np.mean(vertices[k][:,2]), tgv[k][0],  tgv[k][1],  tgv[k][2], length=5, normalize=True)\n",
    "\n",
    "plt.show()\n",
    "#====================\n"
   ]
  },
  {
   "cell_type": "code",
   "execution_count": 4,
   "id": "ce41edab",
   "metadata": {},
   "outputs": [
    {
     "data": {
      "image/png": "[encoded data removed]",
      "text/plain": [
       "<Figure size 432x288 with 1 Axes>"
      ]
     },
     "metadata": {
      "needs_background": "light"
     },
     "output_type": "display_data"
    }
   ],
   "source": [
    "# lec2_step04: A-13: reading a file in the OBJ data format (complete version)\n",
    "\n",
    "\n",
    "import numpy as np\n",
    "from mpl_toolkits.mplot3d.art3d import Poly3DCollection, Line3DCollection\n",
    "import matplotlib.pyplot as plt\n",
    "import re\n",
    "\n",
    "pRange=np.array([-5,15])\n",
    "regP=r'[+-]?(?:\\d+\\.?\\d*|\\.\\d+)(?:(?:[eE][+-]?\\d+)|(?:\\*10\\^[+-]?\\d+))?'\n",
    "\n",
    "datafol='data3d'\n",
    "fname='cube.obj'\n",
    "fname='w2Cube.obj'\n",
    "\n",
    "\n",
    "fp = open(os.path.join(datafol, fname), 'r')\n",
    "datalines = fp.readlines()\n",
    "fp.close()\n",
    "\n",
    "dataList=[]\n",
    "tmpL=[]\n",
    "for k in range(len(datalines)):\n",
    "    f_flag=False\n",
    "    f_flag0=False\n",
    "    s=datalines[k]\n",
    "    tmp0=re.findall(r'#.+', datalines[k])\n",
    "    if len(tmp0)>0:\n",
    "        f_flag0=True\n",
    "        tmp=tmp0\n",
    "    else:    \n",
    "        tmp_body=re.findall(regP, s)\n",
    "        tmp_sub=re.findall(r'\\w+', s)\n",
    "        tmp=[tmp_sub[0]]+tmp_body\n",
    "\n",
    "        if (len(tmp)>0) and (tmp[0]=='f') :\n",
    "            f_flag=True\n",
    "            tmp2=re.findall(r'\\w+//\\w+', s)\n",
    "            tmp3=re.findall(r'\\w+/\\w+/\\w+', s)\n",
    "            if len(tmp2)>0:\n",
    "                tmpL=['f']+tmp2\n",
    "            else:\n",
    "                tmpL=['f']+tmp3\n",
    "    \n",
    "    if ((len(tmp)>0) or (len(tmpL)>0)):\n",
    "#         print(len(tmp))\n",
    "#         print(len(tmpL))\n",
    "#         print((tmp))\n",
    "#         print((tmpL))\n",
    "        if f_flag:\n",
    "            dataList.append(tmpL)\n",
    "        else:\n",
    "            dataList.append(tmp)\n",
    "    \n",
    "dataList\n",
    "List_v=[(d[1:]) for d in dataList if d[0]=='v']\n",
    "List_vn=[d[1:] for d in dataList if d[0]=='vn']\n",
    "List_f=[d[1:] for d in dataList if d[0]=='f']\n",
    "List_f2=[ [d2.split('/') for d2 in d] for d in List_f]\n",
    "List_f3=[ [[int(d3) for d3 in d2 if len(d3)>0] for d2 in d] for d in List_f2]\n",
    "# print(List_v)\n",
    "# print(List_vn)\n",
    "# print(List_f)\n",
    "# print(List_f2)\n",
    "# print(List_f3)\n",
    "\n",
    "v_np=np.array(List_v).astype(float)\n",
    "vn_np=np.array(List_vn).astype(float)\n",
    "f_np=np.array(List_f3).astype(int)\n",
    "\n",
    "# print(v_np)\n",
    "# print(vn_np)\n",
    "# print(f_np)\n",
    "\n",
    "frame_points=[]\n",
    "vertices=[]\n",
    "for k in range(len(f_np)):\n",
    "    tmp=f_np[k]\n",
    "#     print(tmp)\n",
    "    node_tmp=[]\n",
    "    if np.sum(np.diff(tmp[:,1]))==0:\n",
    "        node_face=tmp[:,0]\n",
    "        node_vec=tmp[0,1]\n",
    "#     print('-')\n",
    "#     print(k)\n",
    "#     print(node_face)\n",
    "#     print(node_vec)\n",
    "    if k==0:\n",
    "        frame_points=v_np[node_face-1]\n",
    "        vertices=[v_np[node_face-1].tolist()]\n",
    "        tgv=vn_np[node_vec-1]\n",
    "    else:\n",
    "        frame_points=np.vstack([frame_points,v_np[node_face-1]])\n",
    "        vertices=np.vstack([vertices,[v_np[node_face-1].tolist()]])\n",
    "        tgv=np.vstack([tgv,vn_np[node_vec-1]])\n",
    "\n",
    "#====================\n",
    "scaled_P = frame_points\n",
    "\n",
    "axes = plt.figure(17).add_subplot(projection='3d')\n",
    "\n",
    "# vertices=vertices[:10]\n",
    "\n",
    "axes.scatter3D(scaled_P[:, 0], scaled_P[:, 1], scaled_P[:, 2])\n",
    "axes.add_collection3d(Poly3DCollection(vertices, facecolors='lime', linewidths=1, edgecolors='b', alpha=0.2))\n",
    "\n",
    "plt.xticks(np.arange(pRange[0], pRange[1], 5))\n",
    "plt.yticks(np.arange(pRange[0], pRange[1], 5))\n",
    "\n",
    "axes.set_zticks(np.arange(pRange[0], pRange[1], 5))\n",
    "axes.set_zticklabels(np.arange(pRange[0], pRange[1], 5),fontsize=10)\n",
    "\n",
    "axes.set_xlim(pRange)\n",
    "axes.set_ylim(pRange)\n",
    "axes.set_zlim(pRange)\n",
    "axes.set_xlabel('x')\n",
    "axes.set_ylabel('y')\n",
    "axes.set_zlabel('z')\n",
    "\n",
    "for k in range(len(vertices)):\n",
    "# [np.mean(vertices[k][:,0]),np.mean(vertices[k][:,1]),np.mean(vertices[k][:,2])]\n",
    "    axes.quiver(np.mean(vertices[k][:,0]), np.mean(vertices[k][:,1]),np.mean(vertices[k][:,2]), tgv[k][0],  tgv[k][1],  tgv[k][2], length=5, normalize=True)\n",
    "\n",
    "plt.show()\n",
    "#====================\n"
   ]
  },
  {
   "cell_type": "code",
   "execution_count": null,
   "id": "295cecf4",
   "metadata": {},
   "outputs": [],
   "source": []
  },
  {
   "cell_type": "code",
   "execution_count": 115,
   "id": "65ea011a",
   "metadata": {},
   "outputs": [
    {
     "name": "stdout",
     "output_type": "stream",
     "text": [
      "['10.0', '0.0', '0.0']\n",
      "['v', '10', '0', '0', '0', '0', '0']\n"
     ]
    },
    {
     "data": {
      "text/plain": [
       "['v', '10.0', '0.0', '0.0']"
      ]
     },
     "execution_count": 115,
     "metadata": {},
     "output_type": "execute_result"
    }
   ],
   "source": [
    "k=6\n",
    "s=datalines[k]\n",
    "tmp=re.findall(regP, s)\n",
    "tmp_sub=re.findall(r'\\w+', s)\n",
    "print(tmp)\n",
    "print(tmp_sub)\n",
    "[tmp_sub[0]]+tmp"
   ]
  },
  {
   "cell_type": "code",
   "execution_count": 111,
   "id": "acaa3e53",
   "metadata": {},
   "outputs": [
    {
     "data": {
      "text/plain": [
       "['0.0', '0.0', '0.0']"
      ]
     },
     "execution_count": 111,
     "metadata": {},
     "output_type": "execute_result"
    }
   ],
   "source": [
    "List_v=[(d[1:]) for d in dataList if d[0]=='v']\n",
    "List_v\n",
    "\n",
    "dataList[3]"
   ]
  },
  {
   "cell_type": "code",
   "execution_count": 101,
   "id": "75d41ee0",
   "metadata": {},
   "outputs": [
    {
     "data": {
      "text/plain": [
       "['-1.01e-5']"
      ]
     },
     "execution_count": 101,
     "metadata": {},
     "output_type": "execute_result"
    }
   ],
   "source": [
    "strL1=['32.285','2.3e4','1.01e-5','-32.285','-2.3e4','-1.01e-5']\n",
    "\n",
    "regP=r'[+-]?(?:\\d+\\.?\\d*|\\.\\d+)(?:(?:[eE][+-]?\\d+)|(?:\\*10\\^[+-]?\\d+))?'\n",
    "\n",
    "k=5\n",
    "re.findall(regP, strL1[k])\n",
    "\n",
    "# re.findall(r'[+-]?(?:\\d+\\.?\\d*|\\.\\d+)(?:(?:[eE][+-]?\\d+)|(?:\\*10\\^[+-]?\\d+))?', '43.175')"
   ]
  },
  {
   "cell_type": "code",
   "execution_count": 122,
   "id": "9af05b78",
   "metadata": {},
   "outputs": [
    {
     "name": "stdout",
     "output_type": "stream",
     "text": [
      "[[[ 0.  0.  0.]\n",
      "  [ 0. 10.  0.]\n",
      "  [10. 10.  0.]]\n",
      "\n",
      " [[10. 10.  0.]\n",
      "  [10.  0.  0.]\n",
      "  [ 0.  0.  0.]]\n",
      "\n",
      " [[ 0.  0.  0.]\n",
      "  [ 0.  0. 10.]\n",
      "  [ 0. 10. 10.]]\n",
      "\n",
      " [[ 0. 10. 10.]\n",
      "  [ 0. 10.  0.]\n",
      "  [ 0.  0.  0.]]\n",
      "\n",
      " [[10.  0.  0.]\n",
      "  [10. 10.  0.]\n",
      "  [10. 10. 10.]]\n",
      "\n",
      " [[10. 10. 10.]\n",
      "  [10.  0. 10.]\n",
      "  [10.  0.  0.]]\n",
      "\n",
      " [[ 0.  0.  0.]\n",
      "  [10.  0.  0.]\n",
      "  [10.  0. 10.]]\n",
      "\n",
      " [[10.  0. 10.]\n",
      "  [ 0.  0. 10.]\n",
      "  [ 0.  0.  0.]]\n",
      "\n",
      " [[ 0. 10.  0.]\n",
      "  [ 0. 10. 10.]\n",
      "  [10. 10. 10.]]\n",
      "\n",
      " [[10. 10. 10.]\n",
      "  [10. 10.  0.]\n",
      "  [ 0. 10.  0.]]\n",
      "\n",
      " [[ 0.  0. 10.]\n",
      "  [10.  0. 10.]\n",
      "  [10. 10. 10.]]\n",
      "\n",
      " [[10. 10. 10.]\n",
      "  [ 0. 10. 10.]\n",
      "  [ 0.  0. 10.]]]\n",
      "[[ 0.  0.  0.]\n",
      " [ 0. 10.  0.]\n",
      " [10. 10.  0.]\n",
      " [10. 10.  0.]\n",
      " [10.  0.  0.]\n",
      " [ 0.  0.  0.]\n",
      " [ 0.  0.  0.]\n",
      " [ 0.  0. 10.]\n",
      " [ 0. 10. 10.]\n",
      " [ 0. 10. 10.]\n",
      " [ 0. 10.  0.]\n",
      " [ 0.  0.  0.]\n",
      " [10.  0.  0.]\n",
      " [10. 10.  0.]\n",
      " [10. 10. 10.]\n",
      " [10. 10. 10.]\n",
      " [10.  0. 10.]\n",
      " [10.  0.  0.]\n",
      " [ 0.  0.  0.]\n",
      " [10.  0.  0.]\n",
      " [10.  0. 10.]\n",
      " [10.  0. 10.]\n",
      " [ 0.  0. 10.]\n",
      " [ 0.  0.  0.]\n",
      " [ 0. 10.  0.]\n",
      " [ 0. 10. 10.]\n",
      " [10. 10. 10.]\n",
      " [10. 10. 10.]\n",
      " [10. 10.  0.]\n",
      " [ 0. 10.  0.]\n",
      " [ 0.  0. 10.]\n",
      " [10.  0. 10.]\n",
      " [10. 10. 10.]\n",
      " [10. 10. 10.]\n",
      " [ 0. 10. 10.]\n",
      " [ 0.  0. 10.]]\n"
     ]
    }
   ],
   "source": [
    "# dataList\n",
    "len(vertices)\n",
    "print(vertices)\n",
    "print(frame_points)\n",
    "# dataList"
   ]
  },
  {
   "cell_type": "code",
   "execution_count": 7,
   "id": "121e7fc1",
   "metadata": {},
   "outputs": [
    {
     "data": {
      "image/png": "[encoded data removed]",
      "text/plain": [
       "<Figure size 432x288 with 1 Axes>"
      ]
     },
     "metadata": {
      "needs_background": "light"
     },
     "output_type": "display_data"
    }
   ],
   "source": [
    "# lec2_step04: A-14: reading a file in the OBJ data format (complete version / different file)\n",
    "\n",
    "\n",
    "import numpy as np\n",
    "from mpl_toolkits.mplot3d.art3d import Poly3DCollection, Line3DCollection\n",
    "import matplotlib.pyplot as plt\n",
    "import re\n",
    "\n",
    "# pRange=np.array([-100,100])\n",
    "pRange=np.array([-5,15])\n",
    "regP=r'[+-]?(?:\\d+\\.?\\d*|\\.\\d+)(?:(?:[eE][+-]?\\d+)|(?:\\*10\\^[+-]?\\d+))?'\n",
    "\n",
    "datafol='data3d'\n",
    "fname='cube.obj'\n",
    "fname='w2Cube.obj'\n",
    "\n",
    "\n",
    "fp = open(os.path.join(datafol, fname), 'r')\n",
    "datalines = fp.readlines()\n",
    "fp.close()\n",
    "\n",
    "dataList=[]\n",
    "tmpL=[]\n",
    "for k in range(len(datalines)):\n",
    "    f_flag=False\n",
    "    f_flag0=False\n",
    "    s=datalines[k]\n",
    "    tmp0=re.findall(r'#.+', datalines[k])\n",
    "    if len(tmp0)>0:\n",
    "        f_flag0=True\n",
    "        tmp=tmp0\n",
    "    else:    \n",
    "        tmp_body=re.findall(regP, s)\n",
    "        tmp_sub=re.findall(r'\\w+', s)\n",
    "        tmp=[tmp_sub[0]]+tmp_body\n",
    "\n",
    "        if (len(tmp)>0) and (tmp[0]=='f') :\n",
    "            f_flag=True\n",
    "            tmp2=re.findall(r'\\w+//\\w+', s)\n",
    "            tmp3=re.findall(r'\\w+/\\w+/\\w+', s)\n",
    "            if len(tmp2)>0:\n",
    "                tmpL=['f']+tmp2\n",
    "            else:\n",
    "                tmpL=['f']+tmp3\n",
    "    \n",
    "    if ((len(tmp)>0) or (len(tmpL)>0)):\n",
    "#         print(len(tmp))\n",
    "#         print(len(tmpL))\n",
    "#         print((tmp))\n",
    "#         print((tmpL))\n",
    "        if f_flag:\n",
    "            dataList.append(tmpL)\n",
    "        else:\n",
    "            dataList.append(tmp)\n",
    "    \n",
    "dataList\n",
    "List_v=[(d[1:]) for d in dataList if d[0]=='v']\n",
    "List_vn=[d[1:] for d in dataList if d[0]=='vn']\n",
    "List_f=[d[1:] for d in dataList if d[0]=='f']\n",
    "List_f2=[ [d2.split('/') for d2 in d] for d in List_f]\n",
    "List_f3=[ [[int(d3) for d3 in d2 if len(d3)>0] for d2 in d] for d in List_f2]\n",
    "# print(List_v)\n",
    "# print(List_vn)\n",
    "# print(List_f)\n",
    "# print(List_f2)\n",
    "# print(List_f3)\n",
    "\n",
    "v_np=np.array(List_v).astype(float)\n",
    "vn_np=np.array(List_vn).astype(float)\n",
    "f_np=np.array(List_f3).astype(int)\n",
    "\n",
    "# print(v_np)\n",
    "# print(vn_np)\n",
    "# print(f_np)\n",
    "\n",
    "frame_points=[]\n",
    "vertices=[]\n",
    "for k in range(len(f_np)):\n",
    "    tmp=f_np[k]\n",
    "#     print(tmp)\n",
    "    node_tmp=[]\n",
    "    if np.sum(np.diff(tmp[:,1]))==0:\n",
    "        node_face=tmp[:,0]\n",
    "        node_vec=tmp[0,1]\n",
    "#     print('-')\n",
    "#     print(k)\n",
    "#     print(node_face)\n",
    "#     print(node_vec)\n",
    "    if k==0:\n",
    "        frame_points=v_np[node_face-1]\n",
    "        vertices=[v_np[node_face-1].tolist()]\n",
    "        tgv=vn_np[node_vec-1]\n",
    "    else:\n",
    "        frame_points=np.vstack([frame_points,v_np[node_face-1]])\n",
    "        vertices=np.vstack([vertices,[v_np[node_face-1].tolist()]])\n",
    "        tgv=np.vstack([tgv,vn_np[node_vec-1]])\n",
    "\n",
    "#====================\n",
    "scaled_P = frame_points\n",
    "\n",
    "axes = plt.figure(18).add_subplot(projection='3d')\n",
    "\n",
    "# vertices=vertices[:10]\n",
    "\n",
    "axes.scatter3D(scaled_P[:, 0], scaled_P[:, 1], scaled_P[:, 2])\n",
    "axes.add_collection3d(Poly3DCollection(vertices, facecolors='lime', linewidths=1, edgecolors='b', alpha=0.2))\n",
    "\n",
    "plt.xticks(np.arange(pRange[0], pRange[1], 5))\n",
    "plt.yticks(np.arange(pRange[0], pRange[1], 5))\n",
    "\n",
    "axes.set_zticks(np.arange(pRange[0], pRange[1], 5))\n",
    "axes.set_zticklabels(np.arange(pRange[0], pRange[1], 5),fontsize=10)\n",
    "\n",
    "axes.set_xlim(pRange)\n",
    "axes.set_ylim(pRange)\n",
    "axes.set_zlim(pRange)\n",
    "axes.set_xlabel('x')\n",
    "axes.set_ylabel('y')\n",
    "axes.set_zlabel('z')\n",
    "\n",
    "for k in range(len(vertices)):\n",
    "# [np.mean(vertices[k][:,0]),np.mean(vertices[k][:,1]),np.mean(vertices[k][:,2])]\n",
    "    axes.quiver(np.mean(vertices[k][:,0]), np.mean(vertices[k][:,1]),np.mean(vertices[k][:,2]), tgv[k][0],  tgv[k][1],  tgv[k][2], length=5, normalize=True)\n",
    "\n",
    "plt.show()\n",
    "#====================\n",
    "\n"
   ]
  },
  {
   "cell_type": "code",
   "execution_count": 19,
   "id": "e816de36",
   "metadata": {},
   "outputs": [
    {
     "data": {
      "image/png": "[encoded data removed]",
      "text/plain": [
       "<Figure size 432x288 with 1 Axes>"
      ]
     },
     "metadata": {
      "needs_background": "light"
     },
     "output_type": "display_data"
    }
   ],
   "source": [
    "# lec2_step04: A-15: 3D curve generation based on a connected line\n",
    "\n",
    "\n",
    "from scipy import interpolate\n",
    "# from mpl_toolkits.mplot3d import Axes3D\n",
    "import numpy as np\n",
    "import matplotlib.pyplot as plt\n",
    "\n",
    "\n",
    "x = [0,1, 2, 1]\n",
    "y = [0, -1, 0, -2]\n",
    "z = [0, -1, -2, -5]\n",
    "\n",
    "dataD = [x,y,z]\n",
    "\n",
    "# tck, u= interpolate.splprep(data, k=5)\n",
    "tck, u= interpolate.splprep(dataD, k=3)\n",
    "\n",
    "# new = interpolate.splev(np.linspace(0,1,500), tck, der=0)\n",
    "dataINP = interpolate.splev(np.linspace(0,1,20), tck, der=0)\n",
    "\n",
    "axes = plt.figure(19).add_subplot(projection='3d')\n",
    "\n",
    "# fig = plt.figure(19)\n",
    "# ax = Axes3D(fig)\n",
    "axes.plot(dataD[0], dataD[1], dataD[2],'.-', label='raw', lw =2, c='blue')\n",
    "axes.plot(dataINP[0], dataINP[1], dataINP[2],'.-', label='fit', lw =2, c='red')\n",
    "axes.legend()\n",
    "axes.set_xlabel('x')\n",
    "axes.set_ylabel('y')\n",
    "axes.set_zlabel('z')\n",
    "\n",
    "plt.show()"
   ]
  },
  {
   "cell_type": "code",
   "execution_count": 137,
   "id": "449e37b8",
   "metadata": {},
   "outputs": [
    {
     "data": {
      "text/plain": [
       "[array([6.61873396e-17, 1.85068951e-01, 3.95137489e-01, 6.23197111e-01,\n",
       "        8.62239314e-01, 1.10525560e+00, 1.34523745e+00, 1.57517638e+00,\n",
       "        1.78806388e+00, 1.97689144e+00, 2.13465056e+00, 2.25433275e+00,\n",
       "        2.32892949e+00, 2.35143228e+00, 2.31483263e+00, 2.21212202e+00,\n",
       "        2.03629196e+00, 1.78033393e+00, 1.43723945e+00, 1.00000000e+00]),\n",
       " array([-2.33231578e-16, -5.07806609e-01, -8.32810425e-01, -9.99377756e-01,\n",
       "        -1.03187491e+00, -9.54668191e-01, -7.92123911e-01, -5.68608376e-01,\n",
       "        -3.08487893e-01, -3.61287699e-02,  2.24102686e-01,  4.47840166e-01,\n",
       "         6.10717364e-01,  6.88367971e-01,  6.56425681e-01,  4.90524186e-01,\n",
       "         1.66297178e-01, -3.40621651e-01, -1.05459861e+00, -2.00000000e+00]),\n",
       " array([-7.56426738e-17, -2.27966121e-01, -4.49289255e-01, -6.65831727e-01,\n",
       "        -8.79455866e-01, -1.09202400e+00, -1.30539845e+00, -1.52144154e+00,\n",
       "        -1.74201561e+00, -1.96898298e+00, -2.20420597e+00, -2.44954692e+00,\n",
       "        -2.70686815e+00, -2.97803198e+00, -3.26490075e+00, -3.56933677e+00,\n",
       "        -3.89320238e+00, -4.23835991e+00, -4.60667167e+00, -5.00000000e+00])]"
      ]
     },
     "execution_count": 137,
     "metadata": {},
     "output_type": "execute_result"
    }
   ],
   "source": [
    "widthfor k in range(len(dataINP)):\n",
    "    "
   ]
  },
  {
   "cell_type": "code",
   "execution_count": 32,
   "id": "4e797788",
   "metadata": {},
   "outputs": [],
   "source": [
    "# reference: https://qiita.com/taiko1/items/23379266c1aaa2e67acc\n",
    "\n",
    "# lec2_step04: A-16: making stair panels\n",
    "\n",
    "\n",
    "import numpy as np\n",
    "from mpl_toolkits.mplot3d.art3d import Poly3DCollection, Line3DCollection\n",
    "import matplotlib.pyplot as plt\n",
    "pRange=np.array([-1,3])\n",
    "enlargedR=10\n",
    "\n",
    "line_points=np.array([[0,0, 0],\n",
    "                  [1, 1, 1 ],\n",
    "                  [2, 2, 2],\n",
    "                     [3, 3, 3]])\n",
    "\n",
    "# frame_points = np.array([[-1, -1, -1],\n",
    "#                   [1, -1, -1 ],\n",
    "#                   [1, 1, -1],\n",
    "#                   [-1, 1, -1],\n",
    "#                   [-1, -1, 1],\n",
    "#                   [1, -1, 1 ],\n",
    "#                   [1, 1, 1],\n",
    "#                   [-1, 1, 1]])\n",
    "# scaled_P = frame_points*enlargedR\n",
    "\n",
    "axes = plt.figure(20).add_subplot(projection='3d')\n",
    "\n",
    "axes.plot(line_points[:,0],line_points[:,1],line_points[:,2],'r.-')\n",
    "\n",
    "xd=np.array([1,-1,-1,1])\n",
    "yd=np.array([1,1,-1,-1])\n",
    "for k in range(len(line_points)-1):\n",
    "    dVec=line_points[k+1]-line_points[k]\n",
    "    dAve=(line_points[k+1]+line_points[k])/2\n",
    "    dAve_xy=dAve.copy()\n",
    "    dAve_xy[2]=0\n",
    "    dv_xy=np.array(dVec[:2],dtype=np.double)\n",
    "    dt_xy=np.roll(dv_xy,1)*[1,-1]\n",
    "\n",
    "    tangFace=np.tile(xd,[2,1])*np.tile(np.transpose([dv_xy]),[1,4])+np.tile(yd,[2,1])*np.tile(np.transpose([dt_xy]),[1,4])\n",
    "    tangFace2=np.vstack([tangFace,np.tile(dAve[2],[1,4])])+np.tile(np.transpose([dAve_xy]),(1,4))\n",
    "#     tangFace2=np.vstack([tangFace,np.tile(dAve[2],[1,4])])\n",
    "    tangFaceT=np.transpose(tangFace2)\n",
    "\n",
    "    if k==0:\n",
    "        frame_points=dAve\n",
    "        vertices=[tangFaceT.tolist()]\n",
    "#         tgv=vn_np[node_vec-1]\n",
    "    else:\n",
    "        frame_points=np.vstack([frame_points,dAve])\n",
    "        vertices=np.vstack([vertices,[tangFaceT.tolist()]])\n",
    "#         tgv=np.vstack([tgv,vn_np[node_vec-1]])\n",
    "\n",
    "\n",
    "# vertices = [[scaled_P[0],scaled_P[1],scaled_P[2],scaled_P[3]],\n",
    "#  [scaled_P[4],scaled_P[5],scaled_P[6],scaled_P[7]],\n",
    "#  [scaled_P[0],scaled_P[1],scaled_P[5],scaled_P[4]],\n",
    "#  [scaled_P[2],scaled_P[3],scaled_P[7],scaled_P[6]],\n",
    "#  [scaled_P[1],scaled_P[2],scaled_P[6],scaled_P[5]],\n",
    "#  [scaled_P[4],scaled_P[7],scaled_P[3],scaled_P[0]]]\n",
    "\n",
    "axes.scatter3D(frame_points[:, 0], frame_points[:, 1], frame_points[:, 2])\n",
    "\n",
    "axes.add_collection3d(Poly3DCollection(vertices, facecolors='lime', linewidths=1, edgecolors='b', alpha=0.2))\n",
    "\n",
    "plt.xticks(np.arange(pRange[0], pRange[1], 1))\n",
    "plt.yticks(np.arange(pRange[0], pRange[1], 1))\n",
    "\n",
    "axes.set_zticks(np.arange(pRange[0], pRange[1], 5))\n",
    "axes.set_zticklabels(np.arange(pRange[0], pRange[1], 5),fontsize=10)\n",
    "\n",
    "axes.set_xlim(pRange)\n",
    "axes.set_ylim(pRange)\n",
    "axes.set_zlim(pRange)\n",
    "axes.set_xlabel('x')\n",
    "axes.set_ylabel('y')\n",
    "axes.set_zlabel('z')\n",
    "\n",
    "plt.show()"
   ]
  },
  {
   "cell_type": "code",
   "execution_count": 286,
   "id": "61efcd5a",
   "metadata": {},
   "outputs": [
    {
     "name": "stdout",
     "output_type": "stream",
     "text": [
      "3\n"
     ]
    },
    {
     "data": {
      "text/plain": [
       "array([[0., 0., 0.],\n",
       "       [0., 0., 0.],\n",
       "       [0., 0., 0.]])"
      ]
     },
     "execution_count": 286,
     "metadata": {},
     "output_type": "execute_result"
    }
   ],
   "source": [
    "inN=len(line_points)-1\n",
    "\n",
    "# inN=10\n",
    "print(inN)\n",
    "dv_xy_full=np.full((inN,3),0,dtype=np.double)\n",
    "dt_xy_full=np.full((inN,3),0,dtype=np.double)\n",
    "dv_xy_full\n",
    "dt_xy_full"
   ]
  },
  {
   "cell_type": "code",
   "execution_count": 33,
   "id": "f2582081",
   "metadata": {},
   "outputs": [],
   "source": [
    "# reference: https://qiita.com/taiko1/items/23379266c1aaa2e67acc\n",
    "\n",
    "# lec2_step04: A-17: making stairs for OBJ file\n",
    "\n",
    "import numpy as np\n",
    "from mpl_toolkits.mplot3d.art3d import Poly3DCollection, Line3DCollection\n",
    "import matplotlib.pyplot as plt\n",
    "pRange=np.array([-2,5])\n",
    "enlargedR=10\n",
    "\n",
    "line_points=np.array([[0,0, 0],\n",
    "                  [1, 1, 1 ],\n",
    "                  [2, 2, 2],\n",
    "                     [3, 3, 3]])\n",
    "\n",
    "axes = plt.figure(21).add_subplot(projection='3d')\n",
    "\n",
    "axes.plot(line_points[:,0],line_points[:,1],line_points[:,2],'r.-')\n",
    "\n",
    "inN=len(line_points)-1\n",
    "# dv_xy_full=np.full((inN,3),0,dtype=np.double)\n",
    "# dt_xy_full=np.full((inN,3),0,dtype=np.double)\n",
    "dv_xy_full=np.full((inN,2),0,dtype=np.double)\n",
    "dt_xy_full=np.full((inN,2),0,dtype=np.double)\n",
    "\n",
    "xd=np.array([1,-1,-1,1])\n",
    "yd=np.array([1,1,-1,-1])\n",
    "for k in range(inN):\n",
    "    dVec=line_points[k+1]-line_points[k]\n",
    "    dAve=(line_points[k+1]+line_points[k])/2\n",
    "    dAve_xy=dAve.copy()\n",
    "    dAve_xy[2]=0\n",
    "    dv_xy=np.array(dVec[:2],dtype=np.double)/2\n",
    "    dt_xy=np.roll(dv_xy,1)*[1,-1]\n",
    "    dv_xy_full[k,:]=dv_xy\n",
    "    dt_xy_full[k,:]=dt_xy\n",
    "    \n",
    "    tangFace=np.tile(xd,[2,1])*np.tile(np.transpose([dv_xy]),[1,4])+np.tile(yd,[2,1])*np.tile(np.transpose([dt_xy]),[1,4])\n",
    "    tangFace2=np.vstack([tangFace,np.tile(dAve[2],[1,4])])+np.tile(np.transpose([dAve_xy]),(1,4))\n",
    "    tangFaceT=np.transpose(tangFace2)\n",
    "\n",
    "    if k==0:\n",
    "        frame_points=dAve\n",
    "        vertices=[tangFaceT.tolist()]\n",
    "#         tgv=vn_np[node_vec-1]\n",
    "    else:\n",
    "        frame_points=np.vstack([frame_points,dAve])\n",
    "        vertices=np.vstack([vertices,[tangFaceT.tolist()]])\n",
    "#         tgv=np.vstack([tgv,vn_np[node_vec-1]])\n",
    "\n",
    "inN_m=len(vertices)-1\n",
    "dv_xy_full_m=np.full((inN_m,2),0,dtype=np.double)\n",
    "dt_xy_full_m=np.full((inN_m,2),0,dtype=np.double)\n",
    "for k in range(inN_m):\n",
    "    tFace1=vertices[k]\n",
    "    tFace2=vertices[k+1]\n",
    "    tangFaceT=np.vstack([tFace1[3],tFace1[0],tFace2[1],tFace2[2]])\n",
    "    vertices=np.vstack([vertices,[tangFaceT.tolist()]])\n",
    "    dv_xy_full_m[k]=dv_xy_full[k+1]\n",
    "    dt_xy_full_m[k]=dt_xy_full[k+1]\n",
    "\n",
    "axes.scatter3D(frame_points[:, 0], frame_points[:, 1], frame_points[:, 2])\n",
    "\n",
    "axes.add_collection3d(Poly3DCollection(vertices, facecolors='lime', linewidths=1, edgecolors='b', alpha=0.2))\n",
    "\n",
    "plt.xticks(np.arange(pRange[0], pRange[1], 1))\n",
    "plt.yticks(np.arange(pRange[0], pRange[1], 1))\n",
    "\n",
    "axes.set_zticks(np.arange(pRange[0], pRange[1], 5))\n",
    "axes.set_zticklabels(np.arange(pRange[0], pRange[1], 5),fontsize=10)\n",
    "\n",
    "axes.set_xlim(pRange)\n",
    "axes.set_ylim(pRange)\n",
    "axes.set_zlim(pRange)\n",
    "axes.set_xlabel('x')\n",
    "axes.set_ylabel('y')\n",
    "axes.set_zlabel('z')\n",
    "\n",
    "plt.show()"
   ]
  },
  {
   "cell_type": "code",
   "execution_count": 9,
   "id": "4dab3e3c",
   "metadata": {},
   "outputs": [
    {
     "data": {
      "text/plain": [
       "array([[[ 1.5,  0.5,  0.5],\n",
       "        [ 0.5, -0.5,  0.5],\n",
       "        [-0.5,  0.5,  0.5],\n",
       "        [ 0.5,  1.5,  0.5]],\n",
       "\n",
       "       [[ 2.5,  1.5,  1.5],\n",
       "        [ 1.5,  0.5,  1.5],\n",
       "        [ 0.5,  1.5,  1.5],\n",
       "        [ 1.5,  2.5,  1.5]],\n",
       "\n",
       "       [[ 3.5,  2.5,  2.5],\n",
       "        [ 2.5,  1.5,  2.5],\n",
       "        [ 1.5,  2.5,  2.5],\n",
       "        [ 2.5,  3.5,  2.5]],\n",
       "\n",
       "       [[ 0.5,  1.5,  0.5],\n",
       "        [ 1.5,  0.5,  0.5],\n",
       "        [ 1.5,  0.5,  1.5],\n",
       "        [ 0.5,  1.5,  1.5]],\n",
       "\n",
       "       [[ 1.5,  2.5,  1.5],\n",
       "        [ 2.5,  1.5,  1.5],\n",
       "        [ 2.5,  1.5,  2.5],\n",
       "        [ 1.5,  2.5,  2.5]]])"
      ]
     },
     "execution_count": 9,
     "metadata": {},
     "output_type": "execute_result"
    }
   ],
   "source": [
    "vertices"
   ]
  },
  {
   "cell_type": "code",
   "execution_count": 25,
   "id": "974327c0",
   "metadata": {},
   "outputs": [
    {
     "data": {
      "text/plain": [
       "array([[[ 1.5,  0.5,  0.5],\n",
       "        [ 0.5, -0.5,  0.5],\n",
       "        [-0.5,  0.5,  0.5],\n",
       "        [ 0.5,  1.5,  0.5]],\n",
       "\n",
       "       [[ 2.5,  1.5,  1.5],\n",
       "        [ 1.5,  0.5,  1.5],\n",
       "        [ 0.5,  1.5,  1.5],\n",
       "        [ 1.5,  2.5,  1.5]],\n",
       "\n",
       "       [[ 3.5,  2.5,  2.5],\n",
       "        [ 2.5,  1.5,  2.5],\n",
       "        [ 1.5,  2.5,  2.5],\n",
       "        [ 2.5,  3.5,  2.5]],\n",
       "\n",
       "       [[ 0.5,  1.5,  0.5],\n",
       "        [ 1.5,  0.5,  0.5],\n",
       "        [ 1.5,  0.5,  1.5],\n",
       "        [ 0.5,  1.5,  1.5]],\n",
       "\n",
       "       [[ 1.5,  2.5,  1.5],\n",
       "        [ 2.5,  1.5,  1.5],\n",
       "        [ 2.5,  1.5,  2.5],\n",
       "        [ 1.5,  2.5,  2.5]],\n",
       "\n",
       "       [[ 0.5,  1.5,  0.5],\n",
       "        [ 1.5,  0.5,  0.5],\n",
       "        [ 1.5,  0.5,  1.5],\n",
       "        [ 0.5,  1.5,  1.5]],\n",
       "\n",
       "       [[ 1.5,  2.5,  1.5],\n",
       "        [ 2.5,  1.5,  1.5],\n",
       "        [ 2.5,  1.5,  2.5],\n",
       "        [ 1.5,  2.5,  2.5]],\n",
       "\n",
       "       [[ 0.5,  1.5,  0.5],\n",
       "        [ 1.5,  0.5,  0.5],\n",
       "        [ 1.5,  0.5,  1.5],\n",
       "        [ 0.5,  1.5,  1.5]],\n",
       "\n",
       "       [[ 1.5,  2.5,  1.5],\n",
       "        [ 2.5,  1.5,  1.5],\n",
       "        [ 2.5,  1.5,  2.5],\n",
       "        [ 1.5,  2.5,  2.5]]])"
      ]
     },
     "execution_count": 25,
     "metadata": {},
     "output_type": "execute_result"
    }
   ],
   "source": [
    "# originalFaceN=len(vertices)\n",
    "originalFaceN=3\n",
    "for k in range(originalFaceN-1):\n",
    "    tFace1=vertices[k]\n",
    "    tFace2=vertices[k+1]\n",
    "    tangFaceT=np.vstack([tFace1[3],tFace1[0],tFace2[1],tFace2[2]])\n",
    "    vertices=np.vstack([vertices,[tangFaceT.tolist()]])\n",
    "vertices"
   ]
  },
  {
   "cell_type": "code",
   "execution_count": 28,
   "id": "215f33be",
   "metadata": {},
   "outputs": [
    {
     "name": "stdout",
     "output_type": "stream",
     "text": [
      "12\n",
      "1\n"
     ]
    }
   ],
   "source": [
    "\n",
    "# lec2_step04: A-18: saving stair 3D data into OBJ file\n",
    "\n",
    "\n",
    "originalFaceN=3\n",
    "\n",
    "List_f_out=[]\n",
    "v_id=0\n",
    "vn_id=0\n",
    "for k in range(originalFaceN):\n",
    "    tmpF=vertices[k]\n",
    "    if k==0:\n",
    "        np_v_out=tmpF\n",
    "        np_vn_out=[[0,0,1]]\n",
    "        f_out='f '\n",
    "        for k2 in range(len(tmpF)):\n",
    "            f_out=f_out+'{}/{}/{} '.format(k2+v_id+1,'',1)\n",
    "        v_id=v_id+len(tmpF)\n",
    "        vn_id=vn_id+1        \n",
    "        List_f_out=[f_out]\n",
    "    else:\n",
    "        np_v_out=np.vstack([np_v_out,tmpF])\n",
    "#         np_vn_out=np.vstack([np_v_out,[0,0,1]])\n",
    "        f_out='f '\n",
    "        for k2 in range(len(tmpF)):\n",
    "            f_out=f_out+'{}/{}/{} '.format(k2+v_id+1,'',1)\n",
    "        v_id=v_id+len(tmpF)\n",
    "        List_f_out.append(f_out)\n",
    "\n",
    "print(v_id)        \n",
    "print(vn_id)        \n",
    "for k in range(len(vertices)-originalFaceN):\n",
    "    tmpF=vertices[k+originalFaceN]\n",
    "#     print(k+originalFaceN)\n",
    "    tmp_vn=np.append(dv_xy_full_m[k],0)\n",
    "    np_v_out=np.vstack([np_v_out,tmpF])\n",
    "    np_vn_out=np.vstack([np_vn_out,tmp_vn])\n",
    "    f_out='f '\n",
    "    for k2 in range(len(tmpF)):\n",
    "        f_out=f_out+'{}/{}/{} '.format(v_id+k2+1,'',vn_id+k+1)\n",
    "    v_id=v_id+len(tmpF)\n",
    "    List_f_out.append(f_out)\n",
    "\n",
    "# print(np_v_out)\n",
    "# print(np_vn_out)\n",
    "# print(List_f_out)\n",
    "\n",
    "datafol='data3d'\n",
    "fname='out.obj'\n",
    "fp = open(os.path.join(datafol, fname), 'w+')\n",
    "\n",
    "tmpST='reconstructed .obj data fine by Python'\n",
    "tmpST2='# '+tmpST+'\\r\\n'\n",
    "fp.writelines(tmpST2)\n",
    "\n",
    "for k in range(len(np_v_out)):\n",
    "#     print(str(k+1)+': '+str(np_v_out[k]))\n",
    "    tmpST=str(np_v_out[k].tolist())\n",
    "    tmpST2='v '+tmpST[1:-1].replace(',',' ')+'\\r\\n'\n",
    "    fp.writelines(tmpST2)\n",
    "    \n",
    "for k in range(len(np_vn_out)):\n",
    "#     print(str(k+1)+': '+str(np_vn_out[k]))\n",
    "    tmpST=str(np_vn_out[k].tolist())\n",
    "    tmpST2='vn '+tmpST[1:-1].replace(',',' ')+'\\r\\n'\n",
    "    fp.writelines(tmpST2)\n",
    "    \n",
    "for k in range(len(List_f_out)):\n",
    "#     print(str(k+1)+': '+str(List_f_out[k]))\n",
    "    tmpST=str(List_f_out[k])\n",
    "    tmpST2='f '+tmpST[1:-1].replace(',',' ')+'\\r\\n'\n",
    "    fp.writelines(tmpST2)\n",
    "    \n",
    "fp.close()"
   ]
  },
  {
   "cell_type": "code",
   "execution_count": null,
   "id": "06034f67",
   "metadata": {},
   "outputs": [],
   "source": []
  },
  {
   "cell_type": "code",
   "execution_count": 31,
   "id": "c87dde77",
   "metadata": {},
   "outputs": [
    {
     "data": {
      "text/plain": [
       "array([0.5, 0.5])"
      ]
     },
     "execution_count": 31,
     "metadata": {},
     "output_type": "execute_result"
    }
   ],
   "source": [
    "dv_xy_full_m[k]"
   ]
  },
  {
   "cell_type": "code",
   "execution_count": 25,
   "id": "a52250cf",
   "metadata": {},
   "outputs": [
    {
     "name": "stdout",
     "output_type": "stream",
     "text": [
      "5\n",
      "3\n"
     ]
    },
    {
     "data": {
      "text/plain": [
       "2"
      ]
     },
     "execution_count": 25,
     "metadata": {},
     "output_type": "execute_result"
    }
   ],
   "source": [
    "print(len(vertices))\n",
    "print(originalFaceN)\n",
    "len(vertices)-originalFaceN\n"
   ]
  },
  {
   "cell_type": "code",
   "execution_count": 14,
   "id": "5c694ca4",
   "metadata": {},
   "outputs": [
    {
     "ename": "IndexError",
     "evalue": "index 2 is out of bounds for axis 0 with size 2",
     "output_type": "error",
     "traceback": [
      "\u001b[0;31m---------------------------------------------------------------------------\u001b[0m",
      "\u001b[0;31mIndexError\u001b[0m                                Traceback (most recent call last)",
      "\u001b[0;32m/var/folders/mg/w5t8lkhc8xj79f001s7kzpfh0000gp/T/ipykernel_65857/2801629007.py\u001b[0m in \u001b[0;36m<module>\u001b[0;34m\u001b[0m\n\u001b[0;32m----> 1\u001b[0;31m \u001b[0mdv_xy_full_m\u001b[0m\u001b[0;34m[\u001b[0m\u001b[0mk\u001b[0m\u001b[0;34m]\u001b[0m\u001b[0;34m\u001b[0m\u001b[0;34m\u001b[0m\u001b[0m\n\u001b[0m\u001b[1;32m      2\u001b[0m \u001b[0;31m# tmp_vn=np.append(dv_xy_full_m[k],0)\u001b[0m\u001b[0;34m\u001b[0m\u001b[0;34m\u001b[0m\u001b[0m\n",
      "\u001b[0;31mIndexError\u001b[0m: index 2 is out of bounds for axis 0 with size 2"
     ]
    }
   ],
   "source": [
    "dv_xy_full_m[k]\n",
    "# tmp_vn=np.append(dv_xy_full_m[k],0)"
   ]
  },
  {
   "cell_type": "code",
   "execution_count": 330,
   "id": "89f75c9e",
   "metadata": {},
   "outputs": [
    {
     "data": {
      "text/plain": [
       "3"
      ]
     },
     "execution_count": 330,
     "metadata": {},
     "output_type": "execute_result"
    }
   ],
   "source": [
    "originalFaceN"
   ]
  },
  {
   "cell_type": "code",
   "execution_count": 312,
   "id": "fed5288e",
   "metadata": {},
   "outputs": [
    {
     "name": "stdout",
     "output_type": "stream",
     "text": [
      "3\n",
      "2\n"
     ]
    },
    {
     "data": {
      "text/plain": [
       "5"
      ]
     },
     "execution_count": 312,
     "metadata": {},
     "output_type": "execute_result"
    }
   ],
   "source": [
    "print(originalFaceN)\n",
    "print(len(vertices)-originalFaceN)\n",
    "len(vertices)"
   ]
  },
  {
   "cell_type": "code",
   "execution_count": 21,
   "id": "08ae9184",
   "metadata": {},
   "outputs": [
    {
     "data": {
      "text/plain": [
       "array([[[ 1.5,  0.5,  0.5],\n",
       "        [ 0.5, -0.5,  0.5],\n",
       "        [-0.5,  0.5,  0.5],\n",
       "        [ 0.5,  1.5,  0.5]],\n",
       "\n",
       "       [[ 2.5,  1.5,  1.5],\n",
       "        [ 1.5,  0.5,  1.5],\n",
       "        [ 0.5,  1.5,  1.5],\n",
       "        [ 1.5,  2.5,  1.5]],\n",
       "\n",
       "       [[ 3.5,  2.5,  2.5],\n",
       "        [ 2.5,  1.5,  2.5],\n",
       "        [ 1.5,  2.5,  2.5],\n",
       "        [ 2.5,  3.5,  2.5]],\n",
       "\n",
       "       [[ 0.5,  1.5,  0.5],\n",
       "        [ 1.5,  0.5,  0.5],\n",
       "        [ 1.5,  0.5,  1.5],\n",
       "        [ 0.5,  1.5,  1.5]],\n",
       "\n",
       "       [[ 1.5,  2.5,  1.5],\n",
       "        [ 2.5,  1.5,  1.5],\n",
       "        [ 2.5,  1.5,  2.5],\n",
       "        [ 1.5,  2.5,  2.5]]])"
      ]
     },
     "execution_count": 21,
     "metadata": {},
     "output_type": "execute_result"
    }
   ],
   "source": [
    "vertices"
   ]
  },
  {
   "cell_type": "code",
   "execution_count": 26,
   "id": "deb541c3",
   "metadata": {},
   "outputs": [
    {
     "name": "stdout",
     "output_type": "stream",
     "text": [
      "1: [1.5 0.5 0.5]\n",
      "2: [ 0.5 -0.5  0.5]\n",
      "3: [-0.5  0.5  0.5]\n",
      "4: [0.5 1.5 0.5]\n",
      "5: [2.5 1.5 1.5]\n",
      "6: [1.5 0.5 1.5]\n",
      "7: [0.5 1.5 1.5]\n",
      "8: [1.5 2.5 1.5]\n",
      "9: [3.5 2.5 2.5]\n",
      "10: [2.5 1.5 2.5]\n",
      "11: [1.5 2.5 2.5]\n",
      "12: [2.5 3.5 2.5]\n",
      "13: [0.5 1.5 0.5]\n",
      "14: [1.5 0.5 0.5]\n",
      "15: [1.5 0.5 1.5]\n",
      "16: [0.5 1.5 1.5]\n",
      "17: [1.5 2.5 1.5]\n",
      "18: [2.5 1.5 1.5]\n",
      "19: [2.5 1.5 2.5]\n",
      "20: [1.5 2.5 2.5]\n"
     ]
    }
   ],
   "source": [
    "for k in range(len(np_v_out)):\n",
    "    print(str(k+1)+': '+str(np_v_out[k]))\n"
   ]
  },
  {
   "cell_type": "code",
   "execution_count": 340,
   "id": "6e3c5d46",
   "metadata": {},
   "outputs": [
    {
     "name": "stdout",
     "output_type": "stream",
     "text": [
      "1: [0. 0. 1.]\n",
      "2: [0.5 0.5 0. ]\n",
      "3: [0.5 0.5 0. ]\n"
     ]
    }
   ],
   "source": [
    "for k in range(len(np_vn_out)):\n",
    "    print(str(k+1)+': '+str(np_vn_out[k]))"
   ]
  },
  {
   "cell_type": "code",
   "execution_count": 350,
   "id": "1d8d34a0",
   "metadata": {},
   "outputs": [
    {
     "name": "stdout",
     "output_type": "stream",
     "text": [
      "1: f 1//1 2//1 3//1 4//1 \n",
      "2: f 5//1 6//1 7//1 8//1 \n",
      "3: f 9//1 10//1 11//1 12//1 \n",
      "4: f 13//2 14//2 15//2 16//2 \n",
      "5: f 17//3 18//3 19//3 20//3 \n"
     ]
    }
   ],
   "source": [
    "for k in range(len(List_f_out)):\n",
    "    print(str(k+1)+': '+str(List_f_out[k]))"
   ]
  },
  {
   "cell_type": "code",
   "execution_count": 17,
   "id": "3dc890ce",
   "metadata": {},
   "outputs": [],
   "source": [
    "datafol='data3d'\n",
    "fname='out.obj'\n",
    "fp = open(os.path.join(datafol, fname), 'w+')\n",
    "\n",
    "tmpST='reconstructed .obj data fine by Python'\n",
    "tmpST2='# '+tmpST+'\\r\\n'\n",
    "fp.writelines(tmpST2)\n",
    "\n",
    "for k in range(len(np_v_out)):\n",
    "#     print(str(k+1)+': '+str(np_v_out[k]))\n",
    "    tmpST=str(np_v_out[k].tolist())\n",
    "    tmpST2='v '+tmpST[1:-1].replace(',',' ')+'\\r\\n'\n",
    "    fp.writelines(tmpST2)\n",
    "    \n",
    "for k in range(len(np_vn_out)):\n",
    "#     print(str(k+1)+': '+str(np_vn_out[k]))\n",
    "    tmpST=str(np_vn_out[k].tolist())\n",
    "    tmpST2='vn '+tmpST[1:-1].replace(',',' ')+'\\r\\n'\n",
    "    fp.writelines(tmpST2)\n",
    "    \n",
    "for k in range(len(List_f_out)):\n",
    "#     print(str(k+1)+': '+str(List_f_out[k]))\n",
    "    tmpST=str(List_f_out[k])\n",
    "    tmpST2='f '+tmpST[1:-1].replace(',',' ')+'\\r\\n'\n",
    "    fp.writelines(tmpST2)\n",
    "    \n",
    "fp.close()"
   ]
  },
  {
   "cell_type": "code",
   "execution_count": 34,
   "id": "9b4837ab",
   "metadata": {},
   "outputs": [],
   "source": [
    "\n",
    "# lec2_step04: A-19: reloading of OBJ file and reconstruct\n",
    "\n",
    "\n",
    "import numpy as np\n",
    "from mpl_toolkits.mplot3d.art3d import Poly3DCollection, Line3DCollection\n",
    "import matplotlib.pyplot as plt\n",
    "import re\n",
    "\n",
    "pRange=np.array([-2,5])\n",
    "regP=r'[+-]?(?:\\d+\\.?\\d*|\\.\\d+)(?:(?:[eE][+-]?\\d+)|(?:\\*10\\^[+-]?\\d+))?'\n",
    "\n",
    "datafol='data3d'\n",
    "fname='out.obj'\n",
    "\n",
    "fp = open(os.path.join(datafol, fname), 'r')\n",
    "datalines = fp.readlines()\n",
    "fp.close()\n",
    "\n",
    "dataList=[]\n",
    "tmpL=[]\n",
    "for k in range(len(datalines)):\n",
    "    f_flag=False\n",
    "    f_flag0=False\n",
    "    s=datalines[k]\n",
    "    tmp0=re.findall(r'#.+', datalines[k])\n",
    "    if len(tmp0)>0:\n",
    "        f_flag0=True\n",
    "        tmp=tmp0\n",
    "    else:    \n",
    "        tmp_body=re.findall(regP, s)\n",
    "        tmp_sub=re.findall(r'\\w+', s)\n",
    "        tmp=[tmp_sub[0]]+tmp_body\n",
    "\n",
    "        if (len(tmp)>0) and (tmp[0]=='f') :\n",
    "            f_flag=True\n",
    "            tmp2=re.findall(r'\\w+//\\w+', s)\n",
    "            tmp3=re.findall(r'\\w+/\\w+/\\w+', s)\n",
    "            if len(tmp2)>0:\n",
    "                tmpL=['f']+tmp2\n",
    "            else:\n",
    "                tmpL=['f']+tmp3\n",
    "    \n",
    "    if ((len(tmp)>0) or (len(tmpL)>0)):\n",
    "#         print(len(tmp))\n",
    "#         print(len(tmpL))\n",
    "#         print((tmp))\n",
    "#         print((tmpL))\n",
    "        if f_flag:\n",
    "            dataList.append(tmpL)\n",
    "        else:\n",
    "            dataList.append(tmp)\n",
    "    \n",
    "dataList\n",
    "List_v=[(d[1:]) for d in dataList if d[0]=='v']\n",
    "List_vn=[d[1:] for d in dataList if d[0]=='vn']\n",
    "List_f=[d[1:] for d in dataList if d[0]=='f']\n",
    "List_f2=[ [d2.split('/') for d2 in d] for d in List_f]\n",
    "List_f3=[ [[int(d3) for d3 in d2 if len(d3)>0] for d2 in d] for d in List_f2]\n",
    "# print(List_v)\n",
    "# print(List_vn)\n",
    "# print(List_f)\n",
    "# print(List_f2)\n",
    "# print(List_f3)\n",
    "\n",
    "v_np=np.array(List_v).astype(float)\n",
    "vn_np=np.array(List_vn).astype(float)\n",
    "f_np=np.array(List_f3).astype(int)\n",
    "\n",
    "# print(v_np)\n",
    "# print(vn_np)\n",
    "# print(f_np)\n",
    "\n",
    "frame_points=[]\n",
    "vertices=[]\n",
    "for k in range(len(f_np)):\n",
    "    tmp=f_np[k]\n",
    "#     print(tmp)\n",
    "    node_tmp=[]\n",
    "    if np.sum(np.diff(tmp[:,1]))==0:\n",
    "        node_face=tmp[:,0]\n",
    "        node_vec=tmp[0,1]\n",
    "#     print('-')\n",
    "#     print(k)\n",
    "#     print(node_face)\n",
    "#     print(node_vec)\n",
    "    if k==0:\n",
    "        frame_points=v_np[node_face-1]\n",
    "        vertices=[v_np[node_face-1].tolist()]\n",
    "        tgv=vn_np[node_vec-1]\n",
    "    else:\n",
    "        frame_points=np.vstack([frame_points,v_np[node_face-1]])\n",
    "        vertices=np.vstack([vertices,[v_np[node_face-1].tolist()]])\n",
    "        tgv=np.vstack([tgv,vn_np[node_vec-1]])\n",
    "\n",
    "#====================\n",
    "scaled_P = frame_points\n",
    "\n",
    "axes = plt.figure(22).add_subplot(projection='3d')\n",
    "\n",
    "# vertices=vertices[:10]\n",
    "\n",
    "axes.scatter3D(scaled_P[:, 0], scaled_P[:, 1], scaled_P[:, 2])\n",
    "axes.add_collection3d(Poly3DCollection(vertices, facecolors='lime', linewidths=1, edgecolors='b', alpha=0.2))\n",
    "\n",
    "plt.xticks(np.arange(pRange[0], pRange[1], 5))\n",
    "plt.yticks(np.arange(pRange[0], pRange[1], 5))\n",
    "\n",
    "axes.set_zticks(np.arange(pRange[0], pRange[1], 5))\n",
    "axes.set_zticklabels(np.arange(pRange[0], pRange[1], 5),fontsize=10)\n",
    "\n",
    "axes.set_xlim(pRange)\n",
    "axes.set_ylim(pRange)\n",
    "axes.set_zlim(pRange)\n",
    "axes.set_xlabel('x')\n",
    "axes.set_ylabel('y')\n",
    "axes.set_zlabel('z')\n",
    "\n",
    "for k in range(len(vertices)):\n",
    "# [np.mean(vertices[k][:,0]),np.mean(vertices[k][:,1]),np.mean(vertices[k][:,2])]\n",
    "    axes.quiver(np.mean(vertices[k][:,0]), np.mean(vertices[k][:,1]),np.mean(vertices[k][:,2]), tgv[k][0],  tgv[k][1],  tgv[k][2], length=1, normalize=True)\n",
    "\n",
    "plt.show()\n",
    "#====================\n"
   ]
  },
  {
   "cell_type": "code",
   "execution_count": 32,
   "id": "0cbd60c2",
   "metadata": {},
   "outputs": [
    {
     "data": {
      "text/plain": [
       "array([[0. , 0. , 1. ],\n",
       "       [0.5, 0.5, 0. ],\n",
       "       [0.5, 0.5, 0. ]])"
      ]
     },
     "execution_count": 32,
     "metadata": {},
     "output_type": "execute_result"
    }
   ],
   "source": [
    "vn_np"
   ]
  },
  {
   "cell_type": "code",
   "execution_count": 366,
   "id": "b7f61a66",
   "metadata": {},
   "outputs": [
    {
     "data": {
      "text/plain": [
       "'v 2.5  1.5  1.5'"
      ]
     },
     "execution_count": 366,
     "metadata": {},
     "output_type": "execute_result"
    }
   ],
   "source": [
    "tmpST=str(np_v_out[k].tolist())\n",
    "tmpST2='v '+tmpST[1:-1].replace(',',' ')\n",
    "tmpST2\n"
   ]
  },
  {
   "cell_type": "code",
   "execution_count": 352,
   "id": "71300927",
   "metadata": {},
   "outputs": [
    {
     "ename": "FileNotFoundError",
     "evalue": "[Errno 2] No such file or directory: 'test.txt'",
     "output_type": "error",
     "traceback": [
      "\u001b[0;31m---------------------------------------------------------------------------\u001b[0m",
      "\u001b[0;31mFileNotFoundError\u001b[0m                         Traceback (most recent call last)",
      "\u001b[0;32m/var/folders/mg/w5t8lkhc8xj79f001s7kzpfh0000gp/T/ipykernel_29113/1556183489.py\u001b[0m in \u001b[0;36m<module>\u001b[0;34m\u001b[0m\n\u001b[0;32m----> 1\u001b[0;31m \u001b[0;32mwith\u001b[0m \u001b[0mopen\u001b[0m\u001b[0;34m(\u001b[0m\u001b[0;34m'test.txt'\u001b[0m\u001b[0;34m,\u001b[0m \u001b[0mmode\u001b[0m\u001b[0;34m=\u001b[0m\u001b[0;34m'r'\u001b[0m\u001b[0;34m)\u001b[0m \u001b[0;32mas\u001b[0m \u001b[0mf\u001b[0m\u001b[0;34m:\u001b[0m\u001b[0;34m\u001b[0m\u001b[0;34m\u001b[0m\u001b[0m\n\u001b[0m\u001b[1;32m      2\u001b[0m     \u001b[0ms\u001b[0m \u001b[0;34m=\u001b[0m \u001b[0mf\u001b[0m\u001b[0;34m.\u001b[0m\u001b[0mread\u001b[0m\u001b[0;34m(\u001b[0m\u001b[0;34m)\u001b[0m\u001b[0;34m\u001b[0m\u001b[0;34m\u001b[0m\u001b[0m\n\u001b[1;32m      3\u001b[0m \u001b[0mprint\u001b[0m\u001b[0;34m(\u001b[0m\u001b[0ms\u001b[0m\u001b[0;34m)\u001b[0m\u001b[0;34m\u001b[0m\u001b[0;34m\u001b[0m\u001b[0m\n",
      "\u001b[0;31mFileNotFoundError\u001b[0m: [Errno 2] No such file or directory: 'test.txt'"
     ]
    }
   ],
   "source": [
    "with open('test.txt', mode='r') as f:\n",
    "    s = f.read()\n",
    "print(s)"
   ]
  },
  {
   "cell_type": "code",
   "execution_count": 264,
   "id": "de1374d5",
   "metadata": {},
   "outputs": [
    {
     "name": "stdout",
     "output_type": "stream",
     "text": [
      "17\n",
      "8\n",
      "9\n",
      "10\n",
      "11\n",
      "12\n",
      "13\n",
      "14\n",
      "15\n",
      "16\n"
     ]
    }
   ],
   "source": [
    "print(len(vertices))\n",
    "print(len(vertices)-originalFaceN)\n",
    "originalFaceN\n",
    "(8+9)\n",
    "for k in range(len(vertices)-originalFaceN):\n",
    "    print(k+originalFaceN)"
   ]
  },
  {
   "cell_type": "code",
   "execution_count": 253,
   "id": "b4c45317",
   "metadata": {},
   "outputs": [
    {
     "data": {
      "text/plain": [
       "'f 0//1 1//1 2//1 3//1 '"
      ]
     },
     "execution_count": 253,
     "metadata": {},
     "output_type": "execute_result"
    }
   ],
   "source": [
    "List_f_out"
   ]
  },
  {
   "cell_type": "code",
   "execution_count": 251,
   "id": "3abf9f88",
   "metadata": {},
   "outputs": [
    {
     "data": {
      "text/plain": [
       "4"
      ]
     },
     "execution_count": 251,
     "metadata": {},
     "output_type": "execute_result"
    }
   ],
   "source": [
    "tmpF=vertices[k]\n",
    "len(tmpF)"
   ]
  },
  {
   "cell_type": "code",
   "execution_count": null,
   "id": "ab6fa290",
   "metadata": {},
   "outputs": [],
   "source": []
  },
  {
   "cell_type": "code",
   "execution_count": 236,
   "id": "ed091d3d",
   "metadata": {},
   "outputs": [
    {
     "data": {
      "text/plain": [
       "array([[3.5, 2.5, 2.5],\n",
       "       [2.5, 1.5, 2.5],\n",
       "       [1.5, 2.5, 2.5],\n",
       "       [2.5, 3.5, 2.5]])"
      ]
     },
     "execution_count": 236,
     "metadata": {},
     "output_type": "execute_result"
    }
   ],
   "source": [
    "tangFaceT"
   ]
  },
  {
   "cell_type": "code",
   "execution_count": 224,
   "id": "235badc7",
   "metadata": {},
   "outputs": [
    {
     "data": {
      "text/plain": [
       "array([1.5, 1.5, 1.5])"
      ]
     },
     "execution_count": 224,
     "metadata": {},
     "output_type": "execute_result"
    }
   ],
   "source": [
    "dVec=line_points[k+1]-line_points[k]\n",
    "dAve=(line_points[k+1]+line_points[k])/2\n",
    "dAve_xy=dAve\n",
    "dAve\n",
    "dAve_xy"
   ]
  },
  {
   "cell_type": "code",
   "execution_count": 221,
   "id": "b0428d60",
   "metadata": {},
   "outputs": [
    {
     "data": {
      "text/plain": [
       "array([1.5, 1.5, 0. ])"
      ]
     },
     "execution_count": 221,
     "metadata": {},
     "output_type": "execute_result"
    }
   ],
   "source": [
    "dAve"
   ]
  },
  {
   "cell_type": "code",
   "execution_count": 219,
   "id": "163ae978",
   "metadata": {},
   "outputs": [
    {
     "data": {
      "text/plain": [
       "array([[1.5, 1.5, 1.5, 1.5],\n",
       "       [1.5, 1.5, 1.5, 1.5],\n",
       "       [0. , 0. , 0. , 0. ]])"
      ]
     },
     "execution_count": 219,
     "metadata": {},
     "output_type": "execute_result"
    }
   ],
   "source": [
    "np.tile(np.transpose([dAve_xy]),(1,4))"
   ]
  },
  {
   "cell_type": "code",
   "execution_count": 217,
   "id": "9d0aa439",
   "metadata": {},
   "outputs": [
    {
     "data": {
      "text/plain": [
       "0.0"
      ]
     },
     "execution_count": 217,
     "metadata": {},
     "output_type": "execute_result"
    }
   ],
   "source": [
    "dAve_xy[2]"
   ]
  },
  {
   "cell_type": "code",
   "execution_count": 211,
   "id": "a28d2104",
   "metadata": {},
   "outputs": [
    {
     "data": {
      "text/plain": [
       "array([[1.5, 1.5, 1.5, 1.5],\n",
       "       [1.5, 1.5, 1.5, 1.5],\n",
       "       [0. , 0. , 0. , 0. ]])"
      ]
     },
     "execution_count": 211,
     "metadata": {},
     "output_type": "execute_result"
    }
   ],
   "source": [
    "np.tile(np.transpose([dAve_xy]),(1,4))"
   ]
  },
  {
   "cell_type": "code",
   "execution_count": 208,
   "id": "8047c7b4",
   "metadata": {},
   "outputs": [
    {
     "data": {
      "text/plain": [
       "array([[1.5, 1.5, 1.5, 1.5],\n",
       "       [1.5, 1.5, 1.5, 1.5],\n",
       "       [1.5, 1.5, 1.5, 1.5]])"
      ]
     },
     "execution_count": 208,
     "metadata": {},
     "output_type": "execute_result"
    }
   ],
   "source": [
    "np.tile(np.transpose([dAve]),(1,4))"
   ]
  },
  {
   "cell_type": "code",
   "execution_count": 204,
   "id": "2bab1375",
   "metadata": {},
   "outputs": [
    {
     "data": {
      "text/plain": [
       "array([[ 2.,  0., -2.,  0.],\n",
       "       [ 0., -2.,  0.,  2.]])"
      ]
     },
     "execution_count": 204,
     "metadata": {},
     "output_type": "execute_result"
    }
   ],
   "source": [
    "tangFace"
   ]
  },
  {
   "cell_type": "code",
   "execution_count": 192,
   "id": "e7963170",
   "metadata": {},
   "outputs": [
    {
     "data": {
      "text/plain": [
       "[[array([-10, -10, -10]),\n",
       "  array([ 10, -10, -10]),\n",
       "  array([ 10,  10, -10]),\n",
       "  array([-10,  10, -10])],\n",
       " [array([-10, -10,  10]),\n",
       "  array([ 10, -10,  10]),\n",
       "  array([10, 10, 10]),\n",
       "  array([-10,  10,  10])],\n",
       " [array([-10, -10, -10]),\n",
       "  array([ 10, -10, -10]),\n",
       "  array([ 10, -10,  10]),\n",
       "  array([-10, -10,  10])],\n",
       " [array([ 10,  10, -10]),\n",
       "  array([-10,  10, -10]),\n",
       "  array([-10,  10,  10]),\n",
       "  array([10, 10, 10])],\n",
       " [array([ 10, -10, -10]),\n",
       "  array([ 10,  10, -10]),\n",
       "  array([10, 10, 10]),\n",
       "  array([ 10, -10,  10])],\n",
       " [array([-10, -10,  10]),\n",
       "  array([-10,  10,  10]),\n",
       "  array([-10,  10, -10]),\n",
       "  array([-10, -10, -10])]]"
      ]
     },
     "execution_count": 192,
     "metadata": {},
     "output_type": "execute_result"
    }
   ],
   "source": [
    "vertices = [[scaled_P[0],scaled_P[1],scaled_P[2],scaled_P[3]],\n",
    " [scaled_P[4],scaled_P[5],scaled_P[6],scaled_P[7]],\n",
    " [scaled_P[0],scaled_P[1],scaled_P[5],scaled_P[4]],\n",
    " [scaled_P[2],scaled_P[3],scaled_P[7],scaled_P[6]],\n",
    " [scaled_P[1],scaled_P[2],scaled_P[6],scaled_P[5]],\n",
    " [scaled_P[4],scaled_P[7],scaled_P[3],scaled_P[0]]]\n",
    "\n",
    "vertices"
   ]
  },
  {
   "cell_type": "code",
   "execution_count": 196,
   "id": "2ef00ee7",
   "metadata": {},
   "outputs": [
    {
     "name": "stdout",
     "output_type": "stream",
     "text": [
      "[1 1 1]\n",
      "[1. 1.]\n",
      "[ 1. -1.]\n",
      "[[ 1 -1 -1  1]\n",
      " [ 1 -1 -1  1]]\n",
      "[[ 2.  0. -2.  0.]\n",
      " [ 0. -2.  0.  2.]]\n",
      "[[ 2.  0.]\n",
      " [ 0. -2.]\n",
      " [-2.  0.]\n",
      " [ 0.  2.]]\n"
     ]
    },
    {
     "data": {
      "text/plain": [
       "array([[1, 1, 1, 1]])"
      ]
     },
     "execution_count": 196,
     "metadata": {},
     "output_type": "execute_result"
    }
   ],
   "source": [
    "xd=np.array([1,-1,-1,1])\n",
    "yd=np.array([1,1,-1,-1])\n",
    "\n",
    "k=0\n",
    "dVec=line_points[k+1]-line_points[k]\n",
    "dv_xy=np.array(dVec[:2],dtype=np.double)\n",
    "dt_xy=np.roll(dv_xy,1)*[1,-1]\n",
    "\n",
    "tangFace=np.tile(xd,[2,1])*np.tile(np.transpose([dv_xy]),[1,4])+np.tile(yd,[2,1])*np.tile(np.transpose([dt_xy]),[1,4])\n",
    "tangFaceT=np.transpose(tangFace)\n",
    "\n",
    "print(dVec)\n",
    "print(dv_xy)\n",
    "print(dt_xy)\n",
    "print(np.tile(xd,[2,1]))\n",
    "print(tangFace)\n",
    "print(tangFaceT)\n",
    "\n",
    "np.tile(dVec[2],[1,4])"
   ]
  },
  {
   "cell_type": "code",
   "execution_count": 200,
   "id": "9c20fa78",
   "metadata": {},
   "outputs": [
    {
     "data": {
      "text/plain": [
       "array([[[ 2. ,  0. ,  0.5],\n",
       "        [ 0. , -2. ,  0.5],\n",
       "        [-2. ,  0. ,  0.5],\n",
       "        [ 0. ,  2. ,  0.5]],\n",
       "\n",
       "       [[ 2. ,  0. ,  1.5],\n",
       "        [ 0. , -2. ,  1.5],\n",
       "        [-2. ,  0. ,  1.5],\n",
       "        [ 0. ,  2. ,  1.5]]])"
      ]
     },
     "execution_count": 200,
     "metadata": {},
     "output_type": "execute_result"
    }
   ],
   "source": [
    "xd=np.array([1,-1,-1,1])\n",
    "yd=np.array([1,1,-1,-1])\n",
    "for k in range(len(line_points)-1):\n",
    "    dVec=line_points[k+1]-line_points[k]\n",
    "    dAve=(line_points[k+1]+line_points[k])/2\n",
    "    dv_xy=np.array(dVec[:2],dtype=np.double)\n",
    "    dt_xy=np.roll(dv_xy,1)*[1,-1]\n",
    "\n",
    "    tangFace=np.tile(xd,[2,1])*np.tile(np.transpose([dv_xy]),[1,4])+np.tile(yd,[2,1])*np.tile(np.transpose([dt_xy]),[1,4])\n",
    "    tangFace2=np.vstack([tangFace,np.tile(dAve[2],[1,4])])\n",
    "    tangFaceT=np.transpose(tangFace2)\n",
    "\n",
    "    if k==0:\n",
    "#         frame_points=v_np[node_face-1]\n",
    "        vertices=[tangFaceT.tolist()]\n",
    "#         tgv=vn_np[node_vec-1]\n",
    "    else:\n",
    "#         frame_points=np.vstack([frame_points,v_np[node_face-1]])\n",
    "        vertices=np.vstack([vertices,[tangFaceT.tolist()]])\n",
    "#         tgv=np.vstack([tgv,vn_np[node_vec-1]])\n",
    "\n",
    "vertices"
   ]
  },
  {
   "cell_type": "code",
   "execution_count": 197,
   "id": "8dfb9998",
   "metadata": {},
   "outputs": [
    {
     "data": {
      "text/plain": [
       "array([[ 2.,  0., -2.,  0.],\n",
       "       [ 0., -2.,  0.,  2.],\n",
       "       [ 1.,  1.,  1.,  1.]])"
      ]
     },
     "execution_count": 197,
     "metadata": {},
     "output_type": "execute_result"
    }
   ],
   "source": [
    "tangFace2=np.vstack([tangFace,np.tile(dVec[2],[1,4])])\n",
    "tangFace2"
   ]
  },
  {
   "cell_type": "code",
   "execution_count": 185,
   "id": "170c36e5",
   "metadata": {},
   "outputs": [],
   "source": [
    "tangFace=np.tile(xd,[2,1])*np.tile(np.transpose([dv_xy]),[1,4])+np.tile(yd,[2,1])*np.tile(np.transpose([dt_xy]),[1,4])"
   ]
  },
  {
   "cell_type": "code",
   "execution_count": 174,
   "id": "196604cc",
   "metadata": {},
   "outputs": [
    {
     "name": "stdout",
     "output_type": "stream",
     "text": [
      "[[2 4]\n",
      " [6 8]]\n",
      "[[ 6  6]\n",
      " [14 14]]\n"
     ]
    }
   ],
   "source": [
    "A=np.array([[1, 2],[3,4]])*np.array([[2, 2],[2,2]])\n",
    "B=np.dot(np.array([[1, 2],[3,4]]),np.array([[2, 2],[2,2]]))\n",
    "print(A)\n",
    "print(B)"
   ]
  },
  {
   "cell_type": "code",
   "execution_count": 167,
   "id": "82f00381",
   "metadata": {},
   "outputs": [
    {
     "data": {
      "text/plain": [
       "array([2, 1])"
      ]
     },
     "execution_count": 167,
     "metadata": {},
     "output_type": "execute_result"
    }
   ],
   "source": [
    "# np.fliplr(dVec_xy)\n",
    "np.roll([1,2],1)\n",
    "# dVec_xy"
   ]
  },
  {
   "cell_type": "code",
   "execution_count": 154,
   "id": "d7094abf",
   "metadata": {},
   "outputs": [
    {
     "data": {
      "text/plain": [
       "array([1, 1])"
      ]
     },
     "execution_count": 154,
     "metadata": {},
     "output_type": "execute_result"
    }
   ],
   "source": [
    "dVec_xy=dVec[:2]\n",
    "dVec_xy"
   ]
  },
  {
   "cell_type": "code",
   "execution_count": 147,
   "id": "db31dab7",
   "metadata": {},
   "outputs": [
    {
     "data": {
      "text/plain": [
       "array([2, 2, 2])"
      ]
     },
     "execution_count": 147,
     "metadata": {},
     "output_type": "execute_result"
    }
   ],
   "source": [
    "line_points[2]-line_points[0]"
   ]
  },
  {
   "cell_type": "code",
   "execution_count": null,
   "id": "0fcb062c",
   "metadata": {},
   "outputs": [],
   "source": [
    "line_points[1]-line_points[0]"
   ]
  }
 ],
 "metadata": {
  "kernelspec": {
   "display_name": "Python 3 (ipykernel)",
   "language": "python",
   "name": "python3"
  },
  "language_info": {
   "codemirror_mode": {
    "name": "ipython",
    "version": 3
   },
   "file_extension": ".py",
   "mimetype": "text/x-python",
   "name": "python",
   "nbconvert_exporter": "python",
   "pygments_lexer": "ipython3",
   "version": "3.9.16"
  }
 },
 "nbformat": 4,
 "nbformat_minor": 5
}
