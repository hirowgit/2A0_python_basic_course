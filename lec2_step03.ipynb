{
 "cells": [
  {
   "cell_type": "code",
   "execution_count": 1,
   "id": "73a97c6c",
   "metadata": {},
   "outputs": [],
   "source": [
    "## Python basics for novice data scientists, supported by Wagatsuma Lab@Kyutech \n",
    "#\n",
    "# The MIT License (MIT): Copyright (c) 2020 Hiroaki Wagatsuma and Wagatsuma Lab@Kyutech\n",
    "# \n",
    "# Permission is hereby granted, free of charge, to any person obtaining a copy of this software and associated documentation files (the \"Software\"), to deal in the Software without restriction, including without limitation the rights to use, copy, modify, merge, publish, distribute, sublicense, and/or sell copies of the Software, and to permit persons to whom the Software is furnished to do so, subject to the following conditions:\n",
    "# The above copyright notice and this permission notice shall be included in all copies or substantial portions of the Software.\n",
    "# THE SOFTWARE IS PROVIDED \"AS IS\", WITHOUT WARRANTY OF ANY KIND, EXPRESS OR IMPLIED, INCLUDING BUT NOT LIMITED TO THE WARRANTIES OF MERCHANTABILITY, FITNESS FOR A PARTICULAR PURPOSE AND NONINFRINGEMENT. IN NO EVENT SHALL THE AUTHORS OR COPYRIGHT HOLDERS BE LIABLE FOR ANY CLAIM, DAMAGES OR OTHER LIABILITY, WHETHER IN AN ACTION OF CONTRACT, TORT OR OTHERWISE, ARISING FROM, OUT OF OR IN CONNECTION WITH THE SOFTWARE OR THE USE OR OTHER DEALINGS IN THE SOFTWARE. */\n",
    "#\n",
    "# # @Time    : 2022-12-29 \n",
    "# # @Author  : Hiroaki Wagatsuma\n",
    "# # @Site    : https://github.com/hirowgit/2A_python_basic_course\n",
    "# # @IDE     : Python 3.9.16 (main, Dec  7 2022, 10:15:43) [Clang 14.0.0 (clang-1400.0.29.202)] on darwin\n",
    "# # @File    : lec2_step03.py "
   ]
  },
  {
   "cell_type": "code",
   "execution_count": 2,
   "id": "3628309b",
   "metadata": {},
   "outputs": [],
   "source": [
    "# module test: if you have an error when you run this code, \n",
    "# you need to check the installation status of those modules\n",
    "\n",
    "import math \n",
    "import sys \n",
    "import numpy as np\n",
    "import pandas as pd\n",
    "import matplotlib.pyplot as plt\n",
    "import matplotlib.animation as animation\n",
    "\n",
    "import tkinter as tk"
   ]
  },
  {
   "cell_type": "code",
   "execution_count": 3,
   "id": "67f3cd33",
   "metadata": {},
   "outputs": [],
   "source": [
    "import matplotlib.pyplot as plt\n",
    "%matplotlib tk"
   ]
  },
  {
   "cell_type": "code",
   "execution_count": 4,
   "id": "c170f483",
   "metadata": {},
   "outputs": [],
   "source": [
    "# References:\n",
    "# https://matplotlib.org/stable/gallery/animation/pause_resume.html\n",
    "# https://qiita.com/yubais/items/c95ba9ff1b23dd33fde2"
   ]
  },
  {
   "cell_type": "code",
   "execution_count": 3,
   "id": "d44a9b6b",
   "metadata": {},
   "outputs": [
    {
     "data": {
      "text/plain": [
       "array([[-1.43101722, -0.5288764 , -0.79520694],\n",
       "       [ 0.52171351, -0.42252011,  0.33131452],\n",
       "       [ 0.43283754, -1.10393478,  1.16268898]])"
      ]
     },
     "execution_count": 3,
     "metadata": {},
     "output_type": "execute_result"
    }
   ],
   "source": [
    "np.random.randn(3,3)"
   ]
  },
  {
   "cell_type": "code",
   "execution_count": 4,
   "id": "f9301eed",
   "metadata": {},
   "outputs": [
    {
     "name": "stdout",
     "output_type": "stream",
     "text": [
      "[[0.40952068 0.06167711 0.39854297 0.79022479 0.62797906]\n",
      " [0.2749292  0.62913523 0.87602546 0.81896538 0.02961105]\n",
      " [0.76605505 0.85420685 0.75859196 0.57755562 0.50852946]\n",
      " [0.77257478 0.93036308 0.90521603 0.33912855 0.64735726]\n",
      " [0.4708376  0.34069124 0.50246758 0.15272056 0.88957592]]\n",
      "-\n",
      "0.6291352317727321\n"
     ]
    }
   ],
   "source": [
    "a=np.random.rand(5,5)\n",
    "print(a)\n",
    "print('-')\n",
    "print(a[1,1])"
   ]
  },
  {
   "cell_type": "code",
   "execution_count": 5,
   "id": "9578c6c3",
   "metadata": {},
   "outputs": [
    {
     "name": "stderr",
     "output_type": "stream",
     "text": [
      "2025-02-01 22:04:15.064 Python[37105:47441343] +[IMKClient subclass]: chose IMKClient_Legacy\n",
      "2025-02-01 22:04:15.064 Python[37105:47441343] +[IMKInputSession subclass]: chose IMKInputSession_Legacy\n"
     ]
    }
   ],
   "source": [
    "import numpy as np\n",
    "import matplotlib.pyplot as plt\n",
    "import matplotlib.animation as animation\n",
    "\n",
    "figNum=10\n",
    "NofD=20\n",
    "NofD=5\n",
    "maxR=np.array([0,1])\n",
    "\n",
    "fig = plt.figure(figNum)\n",
    "plot_frames = []\n",
    "\n",
    "plt.xticks(np.arange(maxR[0], maxR[1]+0.2, 0.2))\n",
    "plt.yticks(np.arange(maxR[0], maxR[1]+0.2, 0.2))\n",
    "plt.axis('equal')\n",
    "plt.xlim(maxR)   # range in x axis\n",
    "plt.ylim(maxR)     # range in x axis\n",
    "\n",
    "for i in range(NofD):\n",
    "        randPos = np.random.rand(NofD,NofD)     #  NofD x NofD points are generated randomly\n",
    "        each_plot = plt.plot(randPos[0],randPos[1],'.',markersize=14)  # save the plot into a frame\n",
    "        plot_frames.append(each_plot)                  # append the frame to array\n",
    "\n",
    "# showing N  frames of plot every 1000ms \n",
    "animatedP = animation.ArtistAnimation(fig, plot_frames, interval=1000)\n",
    "plt.show()\n"
   ]
  },
  {
   "cell_type": "code",
   "execution_count": null,
   "id": "f3684b68",
   "metadata": {},
   "outputs": [
    {
     "name": "stderr",
     "output_type": "stream",
     "text": [
      "/var/folders/mg/w5t8lkhc8xj79f001s7kzpfh0000gp/T/ipykernel_36991/2860197164.py:26: UserWarning: frames=None which we can infer the length of, did not pass an explicit *save_count* and passed cache_frame_data=True.  To avoid a possibly unbounded cache, frame data caching has been disabled. To suppress this warning either pass `cache_frame_data=False` or `save_count=MAX_FRAMES`.\n",
      "  animatedP = animation.FuncAnimation(fig, plotP, interval=100)\n",
      "/Library/Frameworks/Python.framework/Versions/3.10/lib/python3.10/site-packages/matplotlib/animation.py:872: UserWarning: Animation was deleted without rendering anything. This is most likely not intended. To prevent deletion, assign the Animation to a variable, e.g. `anim`, that exists until you output the Animation using `plt.show()` or `anim.save()`.\n",
      "  warnings.warn(\n"
     ]
    },
    {
     "data": {
      "text/plain": [
       "<Figure size 500x500 with 0 Axes>"
      ]
     },
     "metadata": {},
     "output_type": "display_data"
    },
    {
     "name": "stderr",
     "output_type": "stream",
     "text": [
      "MovieWriter imagemagick unavailable; using Pillow instead.\n"
     ]
    }
   ],
   "source": [
    "import numpy as np\n",
    "import matplotlib.pyplot as plt\n",
    "import matplotlib.animation as animation\n",
    "\n",
    "maxR=np.array([0,1])\n",
    "\n",
    "figNum=11\n",
    "fig = plt.figure(figNum,figsize = (5, 5))\n",
    "\n",
    "def plotP(frame_id):\n",
    "    plt.cla()                      #  clearn-up the current plot\n",
    "#     plt.axis('equal')    \n",
    "    plt.xticks(np.arange(maxR[0], maxR[1]+0.2, 0.2))\n",
    "    plt.yticks(np.arange(maxR[0], maxR[1]+0.2, 0.2))\n",
    "\n",
    "    plt.xlim(maxR)   # range in x axis\n",
    "    plt.ylim(maxR)     # range in x axis\n",
    "\n",
    "    \n",
    "    randPos = np.random.rand(NofD,NofD)     #  NofD x NofD points are generated randomly\n",
    "    each_plot = plt.plot(randPos[0],randPos[1],'.',markersize=14)                       # save the plot into a frame\n",
    "    plot_frames.append(each_plot)                  # append the frame to array\n",
    "    plt.title(frame_id)\n",
    "\n",
    "\n",
    "animatedP = animation.FuncAnimation(fig, plotP, interval=100)\n",
    "plt.show()\n",
    "\n",
    "animatedP.save('anime'+str(figNum)+'.gif', writer = 'imagemagick')"
   ]
  },
  {
   "cell_type": "code",
   "execution_count": 6,
   "id": "c57a2f95",
   "metadata": {},
   "outputs": [
    {
     "name": "stderr",
     "output_type": "stream",
     "text": [
      "MovieWriter imagemagick unavailable; using Pillow instead.\n"
     ]
    }
   ],
   "source": [
    "import numpy as np\n",
    "import matplotlib.pyplot as plt\n",
    "import matplotlib.animation as animation\n",
    "\n",
    "maxR=np.array([0,1])\n",
    "\n",
    "figNum=12\n",
    "fig = plt.figure(figNum,figsize = (5, 5))\n",
    "\n",
    "def plotP(frame_id):\n",
    "    plt.cla()                      #  clearn-up the current plot\n",
    "#     plt.axis('equal')    \n",
    "    plt.xticks(np.arange(maxR[0], maxR[1]+0.2, 0.2))\n",
    "    plt.yticks(np.arange(maxR[0], maxR[1]+0.2, 0.2))\n",
    "\n",
    "    plt.xlim(maxR)   # range in x axis\n",
    "    plt.ylim(maxR)     # range in x axis\n",
    "\n",
    "    \n",
    "    randPos = np.random.rand(NofD,NofD)     #  NofD x NofD points are generated randomly\n",
    "    each_plot = plt.plot(randPos[0],randPos[1],'.',markersize=14)                       # save the plot into a frame\n",
    "    plot_frames.append(each_plot)                  # append the frame to array\n",
    "    plt.title(frame_id)\n",
    "\n",
    "\n",
    "animatedP = animation.FuncAnimation(fig, plotP, interval=100,frames = 200)\n",
    "plt.show()\n",
    "\n",
    "animatedP.save('anime'+str(figNum)+'.gif', writer = 'imagemagick')"
   ]
  },
  {
   "cell_type": "code",
   "execution_count": 7,
   "id": "973aa338",
   "metadata": {},
   "outputs": [
    {
     "name": "stderr",
     "output_type": "stream",
     "text": [
      "/var/folders/mg/w5t8lkhc8xj79f001s7kzpfh0000gp/T/ipykernel_37105/1726840040.py:28: UserWarning: frames=None which we can infer the length of, did not pass an explicit *save_count* and passed cache_frame_data=True.  To avoid a possibly unbounded cache, frame data caching has been disabled. To suppress this warning either pass `cache_frame_data=False` or `save_count=MAX_FRAMES`.\n",
      "  animatedP = animation.FuncAnimation(fig, plotP, fargs = (pramA, pramB), interval=100)\n"
     ]
    }
   ],
   "source": [
    "import numpy as np\n",
    "import matplotlib.pyplot as plt\n",
    "import matplotlib.animation as animation\n",
    "\n",
    "maxR=np.array([0,1])\n",
    "\n",
    "figNum=13\n",
    "fig = plt.figure(figNum,figsize = (5, 5))\n",
    "\n",
    "def plotP(frame_id,pramA,pramB):\n",
    "    plt.cla()                      #  clearn-up the current plot\n",
    "#     plt.axis('equal')    \n",
    "    plt.xticks(np.arange(maxR[0], maxR[1]+0.2, 0.2))\n",
    "    plt.yticks(np.arange(maxR[0], maxR[1]+0.2, 0.2))\n",
    "\n",
    "    plt.xlim(maxR)   # range in x axis\n",
    "    plt.ylim(maxR)     # range in x axis\n",
    "\n",
    "    \n",
    "    randPos = np.random.rand(NofD,NofD)     #  NofD x NofD points are generated randomly\n",
    "    each_plot = plt.plot(pramA*randPos[0],pramA*randPos[1],'.',markersize=14)                       # save the plot into a frame\n",
    "    plot_frames.append(each_plot)                  # append the frame to array\n",
    "    plt.title(pramB+': '+str(frame_id))\n",
    "\n",
    "\n",
    "pramA=0.5\n",
    "pramB='Random Points'\n",
    "animatedP = animation.FuncAnimation(fig, plotP, fargs = (pramA, pramB), interval=100)\n",
    "plt.show()\n",
    "\n",
    "# animatedP.save('anime'+str(figNum)+'.gif', writer = 'imagemagick')"
   ]
  },
  {
   "cell_type": "code",
   "execution_count": 10,
   "id": "932f1195",
   "metadata": {},
   "outputs": [
    {
     "name": "stderr",
     "output_type": "stream",
     "text": [
      "MovieWriter imagemagick unavailable; using Pillow instead.\n"
     ]
    }
   ],
   "source": [
    "import numpy as np\n",
    "import matplotlib.pyplot as plt\n",
    "import matplotlib.animation as animation\n",
    "\n",
    "NofD=4\n",
    "pStep=8\n",
    "maxR=np.array([-5,5])\n",
    "\n",
    "figNum=15\n",
    "fig = plt.figure(figNum,figsize = (5, 5))\n",
    "\n",
    "rotA=lambda th: [[np.cos(th), -np.sin(th)],[np.sin(th),np.cos(th)]]\n",
    "\n",
    "def plotP(frame_id,pramA,pramB):\n",
    "    plt.cla()                      #  clearn-up the current plot\n",
    "#     plt.axis('equal')    \n",
    "    plt.xticks(np.arange(maxR[0], maxR[1], 1))\n",
    "    plt.yticks(np.arange(maxR[0], maxR[1], 1))\n",
    "    plt.grid(color=[0.5,0.5,0.5], linestyle='-', linewidth=0.5)\n",
    "    plt.title(\"Points\")   # title of the plot\n",
    "    plt.xlabel(\"x\")      # label in x axis\n",
    "    plt.ylabel(\"y\")      # label in y axis\n",
    "\n",
    "    plt.xlim(maxR)   # range in x axis\n",
    "    plt.ylim(maxR)     # range in x axis\n",
    "\n",
    "    angD=frame_id/pStep*np.pi\n",
    "    dataD=pramA\n",
    "    dataD=np.dot(rotA(angD),dataD)\n",
    "    \n",
    "    randPos = np.random.rand(NofD,NofD)     #  NofD x NofD points are generated randomly\n",
    "    each_plot = plt.plot(dataD[0],dataD[1],'b.',markersize=14)                       # save the plot into a frame\n",
    "    node_plot = plt.plot(dataD[0][0],dataD[1][0],'r.',markersize=14)                       # save the plot into a frame\n",
    "    plot_frames.append(each_plot)                  # append the frame to array\n",
    "    \n",
    "    ang180=np.mod(angD/np.pi*180,360)\n",
    "    strD='{:02.1f}'.format(ang180)\n",
    "    plt.title(pramB+': '+strD)\n",
    "\n",
    "\n",
    "# dataD=np.array([[1, -1,-1,1],[1,1,-1,-1]])\n",
    "# dataD=np.dot(rotA(np.pi/4),dataD)\n",
    "\n",
    "pramA=np.array([[1, -1,-1,1],[1,1,-1,-1]])\n",
    "pramB='Angle'\n",
    "animatedP = animation.FuncAnimation(fig, plotP, fargs = (pramA, pramB), interval=1000,frames = 200)\n",
    "plt.show()\n",
    "\n",
    "animatedP.save('anime'+str(figNum)+'.gif', writer = 'imagemagick')"
   ]
  },
  {
   "cell_type": "code",
   "execution_count": null,
   "id": "7f13dcaa",
   "metadata": {},
   "outputs": [],
   "source": [
    "import numpy as np\n",
    "import matplotlib.pyplot as plt\n",
    "import matplotlib.animation as animation\n",
    "\n",
    "NofD=4\n",
    "pStep=8\n",
    "maxR=np.array([-5,5])\n",
    "\n",
    "figNum=15\n",
    "fig = plt.figure(figNum,figsize = (5, 5))\n",
    "\n",
    "rotA=lambda th: [[np.cos(th), -np.sin(th)],[np.sin(th),np.cos(th)]]\n",
    "\n",
    "def plotP(frame_id,pramA,pramB):\n",
    "    plt.cla()                      #  clearn-up the current plot\n",
    "#     plt.axis('equal')    \n",
    "    plt.xticks(np.arange(maxR[0], maxR[1], 1))\n",
    "    plt.yticks(np.arange(maxR[0], maxR[1], 1))\n",
    "    plt.grid(color=[0.5,0.5,0.5], linestyle='-', linewidth=0.5)\n",
    "    plt.title(\"Points\")   # title of the plot\n",
    "    plt.xlabel(\"x\")      # label in x axis\n",
    "    plt.ylabel(\"y\")      # label in y axis\n",
    "\n",
    "    plt.xlim(maxR)   # range in x axis\n",
    "    plt.ylim(maxR)     # range in x axis\n",
    "\n",
    "    angD=frame_id/pStep*np.pi\n",
    "    dataD=pramA\n",
    "    dataD=np.dot(rotA(angD),dataD)\n",
    "    \n",
    "    randPos = np.random.rand(NofD,NofD)     #  NofD x NofD points are generated randomly\n",
    "    each_plot = plt.plot(dataD[0],dataD[1],'b.',markersize=14)                       # save the plot into a frame\n",
    "    node_plot = plt.plot(dataD[0][0],dataD[1][0],'r.',markersize=14)                       # save the plot into a frame\n",
    "    plot_frames.append(each_plot)                  # append the frame to array\n",
    "    \n",
    "    ang180=np.mod(angD/np.pi*180,360)\n",
    "    strD='{:02.1f}'.format(ang180)\n",
    "    plt.title(pramB+': '+strD)\n",
    "\n",
    "\n",
    "# dataD=np.array([[1, -1,-1,1],[1,1,-1,-1]])\n",
    "# dataD=np.dot(rotA(np.pi/4),dataD)\n",
    "\n",
    "pramA=np.array([[1, -1,-1,1],[1,1,-1,-1]])\n",
    "pramB='Angle'\n",
    "animatedP = animation.FuncAnimation(fig, plotP, fargs = (pramA, pramB), interval=1000,frames = 200)\n",
    "plt.show()\n",
    "\n",
    "animatedP.save('anime'+str(figNum)+'.gif', writer = 'imagemagick')"
   ]
  },
  {
   "cell_type": "code",
   "execution_count": null,
   "id": "a7ca1095-9ba0-4be1-ae4b-fd70fc439416",
   "metadata": {},
   "outputs": [],
   "source": [
    "figure(1);\n",
    "clf;\n",
    "\n",
    "roadLabel={'road1','road2','road3'};\n",
    "\n",
    "mapDx=[-100,100; 0,0; 0,100 ];\n",
    "mapDy=[0,0;-100,100;80,80 ];\n",
    "\n",
    "plot(mapDx',mapDy','LineWidth',2);\n",
    "legend(roadLabel);\n",
    "grid on;\n",
    "axis equal;\n"
   ]
  },
  {
   "cell_type": "code",
   "execution_count": 18,
   "id": "c642e50a-69ee-4661-930b-245f0b5c8be8",
   "metadata": {},
   "outputs": [
    {
     "data": {
      "text/plain": [
       "array([[-100,  100],\n",
       "       [   0,    0],\n",
       "       [   0,  100]])"
      ]
     },
     "execution_count": 18,
     "metadata": {},
     "output_type": "execute_result"
    }
   ],
   "source": [
    "mapDx"
   ]
  },
  {
   "cell_type": "code",
   "execution_count": 8,
   "id": "62d46191-e056-4a3f-9b58-4ea95bd788cb",
   "metadata": {},
   "outputs": [
    {
     "name": "stderr",
     "output_type": "stream",
     "text": [
      "Exception in Tkinter callback\n",
      "Traceback (most recent call last):\n",
      "  File \"/Library/Frameworks/Python.framework/Versions/3.10/lib/python3.10/tkinter/__init__.py\", line 1921, in __call__\n",
      "    return self.func(*args)\n",
      "  File \"/Library/Frameworks/Python.framework/Versions/3.10/lib/python3.10/tkinter/__init__.py\", line 839, in callit\n",
      "    func(*args)\n",
      "  File \"/Library/Frameworks/Python.framework/Versions/3.10/lib/python3.10/site-packages/matplotlib/backends/_backend_tk.py\", line 142, in _on_timer\n",
      "    super()._on_timer()\n",
      "  File \"/Library/Frameworks/Python.framework/Versions/3.10/lib/python3.10/site-packages/matplotlib/backend_bases.py\", line 1179, in _on_timer\n",
      "    ret = func(*args, **kwargs)\n",
      "  File \"/Library/Frameworks/Python.framework/Versions/3.10/lib/python3.10/site-packages/matplotlib/animation.py\", line 1411, in _step\n",
      "    self._init_draw()\n",
      "  File \"/Library/Frameworks/Python.framework/Versions/3.10/lib/python3.10/site-packages/matplotlib/animation.py\", line 1485, in _init_draw\n",
      "    fig.canvas.draw_idle()\n",
      "AttributeError: 'NoneType' object has no attribute 'canvas'\n"
     ]
    }
   ],
   "source": []
  },
  {
   "cell_type": "code",
   "execution_count": 3,
   "id": "3fb77994-1126-463e-849f-2aa5792bb0bd",
   "metadata": {},
   "outputs": [
    {
     "name": "stderr",
     "output_type": "stream",
     "text": [
      "2025-02-04 20:51:34.009 Python[92053:51417691] +[IMKClient subclass]: chose IMKClient_Legacy\n",
      "2025-02-04 20:51:34.009 Python[92053:51417691] +[IMKInputSession subclass]: chose IMKInputSession_Legacy\n"
     ]
    }
   ],
   "source": [
    "figNum=10\n",
    "maxR=[-100,100]\n",
    "fig = plt.figure(figNum)\n",
    "fig.clf()\n",
    "plot_frames = []\n",
    "\n",
    "roadLabel=['road1','road2','road3']\n",
    "mapDx=np.array([[-100,100],[0,0],[0,100]])\n",
    "mapDy=np.array([[0,0],[-100,100],[80,80]])\n",
    "\n",
    "plt.xticks(np.arange(maxR[0], maxR[1], 10))\n",
    "plt.yticks(np.arange(maxR[0], maxR[1], 10))\n",
    "plt.grid(color=[0.5,0.5,0.5], linestyle='-', linewidth=0.5)\n",
    "plt.title(\"Time\")   # title of the plot\n",
    "plt.xlabel(\"x\")      # label in x axis\n",
    "plt.ylabel(\"y\")      # label in y axis\n",
    "\n",
    "plt.xlim(maxR)   # range in x axis\n",
    "plt.ylim(maxR)     # range in x axis\n",
    "plt.axis('equal')\n",
    "\n",
    "NofT=1\n",
    "for i in range(NofT):\n",
    "        each_plot = plt.plot(mapDx.T,mapDy.T,'-',linewidth=2)  # save the plot into a frame\n",
    "        plot_frames.append(each_plot)                  # append the frame to array\n",
    "\n",
    "# animatedP = animation.ArtistAnimation(fig, plot_frames, interval=1)\n",
    "plt.show()\n"
   ]
  },
  {
   "cell_type": "code",
   "execution_count": 4,
   "id": "8973efac-3ca3-4e31-8af9-17886a30d582",
   "metadata": {},
   "outputs": [],
   "source": [
    "figNum=11\n",
    "maxR=[-100,100]\n",
    "fig = plt.figure(figNum)\n",
    "fig.clf()\n",
    "plot_frames = []\n",
    "\n",
    "roadLabel=['road1','road2','road3']\n",
    "mapDx=np.array([[-100,100],[0,0],[0,100]])\n",
    "mapDy=np.array([[0,0],[-100,100],[80,80]])\n",
    "\n",
    "plt.xticks(np.arange(maxR[0], maxR[1], 10))\n",
    "plt.yticks(np.arange(maxR[0], maxR[1], 10))\n",
    "plt.grid(color=[0.5,0.5,0.5], linestyle='-', linewidth=0.5)\n",
    "plt.title(\"Time\")   # title of the plot\n",
    "plt.xlabel(\"x\")      # label in x axis\n",
    "plt.ylabel(\"y\")      # label in y axis\n",
    "\n",
    "plt.xlim(maxR)   # range in x axis\n",
    "plt.ylim(maxR)     # range in x axis\n",
    "plt.axis('equal')\n",
    "\n",
    "plt.plot(mapDx.T,mapDy.T,'-',linewidth=2) \n",
    "\n",
    "# NofT=1\n",
    "# for i in range(NofT):\n",
    "#         each_plot = plt.plot(mapDx.T,mapDy.T,'-',linewidth=2)  # save the plot into a frame\n",
    "#         plot_frames.append(each_plot)                  # append the frame to array\n",
    "\n",
    "# animatedP = animation.ArtistAnimation(fig, plot_frames, interval=1)\n",
    "plt.show()\n"
   ]
  },
  {
   "cell_type": "code",
   "execution_count": 24,
   "id": "5ee2870f-e2fe-4e8e-9c5d-cdae5f433ff7",
   "metadata": {},
   "outputs": [
    {
     "data": {
      "text/plain": [
       "array([-80,   0])"
      ]
     },
     "metadata": {},
     "output_type": "display_data"
    },
    {
     "data": {
      "text/plain": [
       "['road1', 'road2', 'road3', 'vehicle1', 'vehicle2']"
      ]
     },
     "metadata": {},
     "output_type": "display_data"
    }
   ],
   "source": [
    "v_planning_x=np.array([[-80,80],[ 0,0]])\n",
    "v_planning_y=np.array([[0,0],[-80,80]])\n",
    "tP=0\n",
    "\n",
    "cPx=v_planning_x[:,1]*tP+v_planning_x[:,0]*[1-tP]\n",
    "cPy=v_planning_y[:,1]*tP+v_planning_y[:,0]*[1-tP]\n",
    "display(cPx)\n",
    "\n",
    "roadLabel=['road1','road2','road3']\n",
    "vehi_Label=['vehicle1','vehicle2']\n",
    "all_Lable=roadLabel+vehi_Label\n",
    "display(all_Lable)\n"
   ]
  },
  {
   "cell_type": "code",
   "execution_count": 21,
   "id": "3f086c6e-7e0d-4ef5-92af-99a6a88439fb",
   "metadata": {},
   "outputs": [
    {
     "data": {
      "text/plain": [
       "['road1', 'road2', 'road3', 'vehicle1', 'vehicle2']"
      ]
     },
     "execution_count": 21,
     "metadata": {},
     "output_type": "execute_result"
    }
   ],
   "source": [
    "all_Lable"
   ]
  },
  {
   "cell_type": "code",
   "execution_count": 12,
   "id": "c8e65d98-6d05-4ff5-a15a-f97b68e00581",
   "metadata": {},
   "outputs": [
    {
     "data": {
      "text/plain": [
       "<matplotlib.legend.Legend at 0x309b9ae00>"
      ]
     },
     "execution_count": 12,
     "metadata": {},
     "output_type": "execute_result"
    },
    {
     "name": "stderr",
     "output_type": "stream",
     "text": [
      "Traceback (most recent call last):\n",
      "  File \"/Library/Frameworks/Python.framework/Versions/3.10/lib/python3.10/site-packages/matplotlib/cbook.py\", line 298, in process\n",
      "    func(*args, **kwargs)\n",
      "  File \"/Library/Frameworks/Python.framework/Versions/3.10/lib/python3.10/site-packages/matplotlib/animation.py\", line 892, in _start\n",
      "    self._init_draw()\n",
      "  File \"/Library/Frameworks/Python.framework/Versions/3.10/lib/python3.10/site-packages/matplotlib/animation.py\", line 1477, in _init_draw\n",
      "    artist.set_visible(False)\n",
      "AttributeError: 'list' object has no attribute 'set_visible'\n"
     ]
    }
   ],
   "source": [
    "figNum=12\n",
    "maxR=[-100,100]\n",
    "fig = plt.figure(figNum)\n",
    "fig.clf()\n",
    "plot_frames = []\n",
    "\n",
    "v_planning_x=np.array([[-80,80],[ 0,0]])\n",
    "v_planning_y=np.array([[0,0],[-80,80]])\n",
    "tP=0\n",
    "\n",
    "cPx=v_planning_x[:,1]*tP+v_planning_x[:,0]*[1-tP]\n",
    "cPy=v_planning_y[:,1]*tP+v_planning_y[:,0]*[1-tP]\n",
    "\n",
    "roadLabel=['road1','road2','road3'];\n",
    "vehi_Label=['vehicle1','vehicle2'];\n",
    "all_Lable=roadLabel+vehi_Label\n",
    "\n",
    "mapDx=np.array([[-100,100],[0,0],[0,100]])\n",
    "mapDy=np.array([[0,0],[-100,100],[80,80]])\n",
    "\n",
    "plt.plot(mapDx.T,mapDy.T,'-',linewidth=2)\n",
    "\n",
    "NofT=1\n",
    "each_plot=[]\n",
    "for i in range(len(cPx)):\n",
    "        each_plot.append(plt.plot(cPx[i],cPy[i],'.',markersize=20))  # save the plot into a frame\n",
    "        \n",
    "plot_frames.append(each_plot)                  # append the frame to array\n",
    "\n",
    "# animatedP = animation.ArtistAnimation(fig, plot_frames, interval=10)\n",
    "animatedP = animation.ArtistAnimation(fig, plot_frames, interval=1,repeat=False)\n",
    "plt.show()\n",
    "\n",
    "fig.legend(all_Lable)"
   ]
  },
  {
   "cell_type": "code",
   "execution_count": 13,
   "id": "3da682fa-5548-42f8-9ac6-f53f91400aa5",
   "metadata": {},
   "outputs": [
    {
     "data": {
      "text/plain": [
       "<matplotlib.legend.Legend at 0x309b9ac80>"
      ]
     },
     "execution_count": 13,
     "metadata": {},
     "output_type": "execute_result"
    },
    {
     "name": "stderr",
     "output_type": "stream",
     "text": [
      "Traceback (most recent call last):\n",
      "  File \"/Library/Frameworks/Python.framework/Versions/3.10/lib/python3.10/site-packages/matplotlib/cbook.py\", line 298, in process\n",
      "    func(*args, **kwargs)\n",
      "  File \"/Library/Frameworks/Python.framework/Versions/3.10/lib/python3.10/site-packages/matplotlib/animation.py\", line 892, in _start\n",
      "    self._init_draw()\n",
      "  File \"/Library/Frameworks/Python.framework/Versions/3.10/lib/python3.10/site-packages/matplotlib/animation.py\", line 1477, in _init_draw\n",
      "    artist.set_visible(False)\n",
      "AttributeError: 'list' object has no attribute 'set_visible'\n"
     ]
    }
   ],
   "source": [
    "figNum=12\n",
    "maxR=[-100,100]\n",
    "fig = plt.figure(figNum)\n",
    "fig.clf()\n",
    "plot_frames = []\n",
    "\n",
    "v_planning_x=np.array([[-80,80],[ 0,0]])\n",
    "v_planning_y=np.array([[0,0],[-80,80]])\n",
    "tP=0\n",
    "\n",
    "cPx=v_planning_x[:,1]*tP+v_planning_x[:,0]*[1-tP]\n",
    "cPy=v_planning_y[:,1]*tP+v_planning_y[:,0]*[1-tP]\n",
    "\n",
    "roadLabel=['road1','road2','road3'];\n",
    "vehi_Label=['vehicle1','vehicle2'];\n",
    "all_Lable=roadLabel+vehi_Label\n",
    "\n",
    "mapDx=np.array([[-100,100],[0,0],[0,100]])\n",
    "mapDy=np.array([[0,0],[-100,100],[80,80]])\n",
    "\n",
    "plt.plot(mapDx.T,mapDy.T,'-',linewidth=2)\n",
    "\n",
    "NofT=1\n",
    "# each_plot=[]\n",
    "for i in range(len(cPx)):\n",
    "    if i==0:\n",
    "        each_plot=plt.plot(cPx[i],cPy[i],'.',markersize=20)  # save the plot into a frame\n",
    "    else:\n",
    "        each_plot.append(plt.plot(cPx[i],cPy[i],'.',markersize=20))  # save the plot into a frame\n",
    "        \n",
    "plot_frames.append(each_plot)                  # append the frame to array\n",
    "\n",
    "# animatedP = animation.ArtistAnimation(fig, plot_frames, interval=10)\n",
    "animatedP = animation.ArtistAnimation(fig, plot_frames, interval=1,repeat=False)\n",
    "plt.show()\n",
    "\n",
    "fig.legend(all_Lable)"
   ]
  },
  {
   "cell_type": "code",
   "execution_count": 4,
   "id": "bc6bcea3-3f12-482b-8d41-99f7f742023f",
   "metadata": {},
   "outputs": [
    {
     "name": "stderr",
     "output_type": "stream",
     "text": [
      "/Library/Frameworks/Python.framework/Versions/3.10/lib/python3.10/site-packages/matplotlib/animation.py:872: UserWarning: Animation was deleted without rendering anything. This is most likely not intended. To prevent deletion, assign the Animation to a variable, e.g. `anim`, that exists until you output the Animation using `plt.show()` or `anim.save()`.\n",
      "  warnings.warn(\n"
     ]
    },
    {
     "data": {
      "text/plain": [
       "<matplotlib.legend.Legend at 0x1261b5450>"
      ]
     },
     "execution_count": 4,
     "metadata": {},
     "output_type": "execute_result"
    },
    {
     "name": "stderr",
     "output_type": "stream",
     "text": [
      "2025-02-04 22:40:20.397 Python[2474:26846] +[IMKClient subclass]: chose IMKClient_Modern\n",
      "2025-02-04 22:40:20.397 Python[2474:26846] +[IMKInputSession subclass]: chose IMKInputSession_Modern\n"
     ]
    }
   ],
   "source": [
    "figNum=13\n",
    "maxR=[-100,100]\n",
    "fig = plt.figure(figNum)\n",
    "fig.clf()\n",
    "plot_frames = []\n",
    "\n",
    "v_planning_x=np.array([[-80,80],[ 0,0]])\n",
    "v_planning_y=np.array([[0,0],[-80,80]])\n",
    "tP=0\n",
    "\n",
    "cPx=v_planning_x[:,1]*tP+v_planning_x[:,0]*[1-tP]\n",
    "cPy=v_planning_y[:,1]*tP+v_planning_y[:,0]*[1-tP]\n",
    "\n",
    "roadLabel=['road1','road2','road3'];\n",
    "vehi_Label=['vehicle1','vehicle2'];\n",
    "all_Lable=roadLabel+vehi_Label\n",
    "\n",
    "mapDx=np.array([[-100,100],[0,0],[0,100]])\n",
    "mapDy=np.array([[0,0],[-100,100],[80,80]])\n",
    "\n",
    "plt.plot(mapDx.T,mapDy.T,'-',linewidth=2)\n",
    "\n",
    "# NofT=1\n",
    "# each_plot=[]\n",
    "# for i in range(len(cPx)):\n",
    "#         each_plot.append(plt.plot(cPx[i],cPy[i],'.',markersize=20))  # save the plot into a frame\n",
    "        \n",
    "# plot_frames.append(each_plot)                  # append the frame to array\n",
    "\n",
    "simT=100\n",
    "NofC=2\n",
    "\n",
    "for i2 in range(simT):\n",
    "    tP=i2/simT\n",
    "    tmpx=np.dot(v_planning_x,np.array([1-tP,tP]))\n",
    "    tmpy=np.dot(v_planning_y,np.array([1-tP,tP]))\n",
    "    each_plot=[]\n",
    "    for x,y in zip(tmpx,tmpy):\n",
    "        each_plot=plt.plot(x,y,'.',markersize=20)\n",
    "    # each_plot=[plt.plot(x,y,'.',markersize=20) for x,y in zip(tmpx,tmpy)]\n",
    "        plot_frames.append(each_plot)\n",
    "\n",
    "# animatedP = animation.ArtistAnimation(fig, plot_frames, interval=10)\n",
    "animatedP = animation.ArtistAnimation(fig, plot_frames, interval=10)\n",
    "plt.show()\n",
    "\n",
    "fig.legend(all_Lable)"
   ]
  },
  {
   "cell_type": "code",
   "execution_count": 4,
   "id": "272fbc85-167e-4240-993a-d08e823981df",
   "metadata": {},
   "outputs": [
    {
     "data": {
      "text/plain": [
       "<matplotlib.legend.Legend at 0x10fd458d0>"
      ]
     },
     "execution_count": 4,
     "metadata": {},
     "output_type": "execute_result"
    },
    {
     "name": "stderr",
     "output_type": "stream",
     "text": [
      "2025-02-04 23:12:42.952 Python[4112:74901] +[IMKClient subclass]: chose IMKClient_Modern\n",
      "2025-02-04 23:12:42.952 Python[4112:74901] +[IMKInputSession subclass]: chose IMKInputSession_Modern\n"
     ]
    }
   ],
   "source": [
    "figNum=16\n",
    "maxR=[-100,100]\n",
    "fig = plt.figure(figNum)\n",
    "\n",
    "fig.clear()\n",
    "plt.cla()\n",
    "plot_frames = []\n",
    "\n",
    "v_planning_x=np.array([[-80,80],[ 0,0]])\n",
    "v_planning_y=np.array([[0,0],[-80,80]])\n",
    "tP=0\n",
    "\n",
    "cPx=v_planning_x[:,1]*tP+v_planning_x[:,0]*[1-tP]\n",
    "cPy=v_planning_y[:,1]*tP+v_planning_y[:,0]*[1-tP]\n",
    "\n",
    "roadLabel=['road1','road2','road3'];\n",
    "vehi_Label=['vehicle1','vehicle2'];\n",
    "all_Lable=roadLabel+vehi_Label\n",
    "\n",
    "mapDx=np.array([[-100,100],[0,0],[0,100]])\n",
    "mapDy=np.array([[0,0],[-100,100],[80,80]])\n",
    "\n",
    "# plt.plot(mapDx.T,mapDy.T,'-',linewidth=2)\n",
    "\n",
    "simT=100\n",
    "NofC=2\n",
    "\n",
    "def plotP(i2):\n",
    "    plt.cla() \n",
    "    plt.plot(mapDx.T,mapDy.T,'-',linewidth=2)\n",
    "    tP=i2/simT\n",
    "    tmpx=np.dot(v_planning_x,np.array([1-tP,tP]))\n",
    "    tmpy=np.dot(v_planning_y,np.array([1-tP,tP]))\n",
    "\n",
    "    each_plot=[plt.plot(x,y,'.',markersize=20) for x,y in zip(tmpx,tmpy)]\n",
    "    plot_frames.append(each_plot)\n",
    "\n",
    "animatedP = animation.FuncAnimation(fig, plotP, interval=100,frames = 20, repeat=False)\n",
    "# animatedP = animation.FuncAnimation(fig, plotP, interval=100,frames = 20)\n",
    "\n",
    "plt.show()\n",
    "\n",
    "fig.legend(all_Lable)"
   ]
  },
  {
   "cell_type": "code",
   "execution_count": 19,
   "id": "8cfc5424-b078-45c1-8699-afb7227cbccc",
   "metadata": {},
   "outputs": [
    {
     "data": {
      "text/plain": [
       "array([[-1.0000000e+00, -1.2246468e-16],\n",
       "       [ 1.2246468e-16, -1.0000000e+00]])"
      ]
     },
     "metadata": {},
     "output_type": "display_data"
    },
    {
     "data": {
      "text/plain": [
       "3.3"
      ]
     },
     "execution_count": 19,
     "metadata": {},
     "output_type": "execute_result"
    }
   ],
   "source": [
    "Moby=np.array(3*[[-0.6, 0.6,   1,    1, 0.75,-0.75,   -1,  -1,-0.6,0.6],\n",
    "                 [1.75,1.75,0.75,-1.25,-1.55,-1.55,-1.25,0.75,1.75,1.75]])      \n",
    "Rot=lambda t: np.array([[np.cos(t),-np.sin(t)],[np.sin(t),np.cos(t)]])\n",
    "display(Rot(np.pi))\n",
    "cLen=np.abs(min(Moby[1,:])-max(Moby[1,:]))\n",
    "cLen"
   ]
  },
  {
   "cell_type": "code",
   "execution_count": 20,
   "id": "8bc48ada-b588-4a5b-88f2-01c00e6b162a",
   "metadata": {},
   "outputs": [],
   "source": [
    "lane_x = mapDx.copy()\n",
    "lane_y = mapDy.copy()"
   ]
  },
  {
   "cell_type": "code",
   "execution_count": 156,
   "id": "25e669c2-d420-4dfe-95ba-3c312703feb1",
   "metadata": {},
   "outputs": [
    {
     "data": {
      "text/plain": [
       "(array([[-100,  100],\n",
       "        [   0,    0],\n",
       "        [   0,  100]]),\n",
       " array([[   0,    0],\n",
       "        [-100,  100],\n",
       "        [  80,   80]]))"
      ]
     },
     "execution_count": 156,
     "metadata": {},
     "output_type": "execute_result"
    }
   ],
   "source": [
    "lane_x,lane_y"
   ]
  },
  {
   "cell_type": "code",
   "execution_count": 32,
   "id": "052a64bb-da79-4631-b64e-cd7c785ed42f",
   "metadata": {},
   "outputs": [
    {
     "data": {
      "text/plain": [
       "array([-0.])"
      ]
     },
     "execution_count": 32,
     "metadata": {},
     "output_type": "execute_result"
    }
   ],
   "source": [
    "-np.arctan2(np.diff(y),np.diff(x))"
   ]
  },
  {
   "cell_type": "code",
   "execution_count": 113,
   "id": "48108f3c-58df-46cc-87df-c51eb8bcdcb9",
   "metadata": {},
   "outputs": [
    {
     "data": {
      "text/plain": [
       "[array([[200.,   0.]]),\n",
       " array([[2.0000000e+02, 1.2246468e-14]]),\n",
       " array([[100.,   0.]])]"
      ]
     },
     "execution_count": 113,
     "metadata": {},
     "output_type": "execute_result"
    }
   ],
   "source": [
    "roadW=10\n",
    "x=lane_x[0]\n",
    "y=lane_y[0]\n",
    "-np.arctan2(np.diff(y),np.diff(x))\n",
    "np.cos(-np.arctan2(np.diff(y),np.diff(x)))\n",
    "Rot(-np.arctan2(np.diff(y),np.diff(x))).reshape(2,2)\n",
    "np.dot(Rot(-np.arctan2(np.diff(y),np.diff(x))).reshape(2,2),[np.diff(x),np.diff(y)])\n",
    "\n",
    "vecR=[np.sqrt(np.diff(x)**2+np.diff(y)**2).T for x,y in zip(lane_x,lane_y)]\n",
    "angL=[np.arctan2(np.diff(y),np.diff(x)) for x,y in zip(lane_x,lane_y)]\n",
    "Rvec=[np.dot(Rot(-th).reshape(2,2),[np.diff(x),np.diff(y)]).T for x,y,th in zip(lane_x,lane_y,angL)]\n",
    "# Rvec=[np.dot(Rot(-np.arctan2(np.diff(y),np.diff(x))).reshape(2,2),[np.diff(x),np.diff(y)]).T for x,y in zip(lane_x,lane_y)]\n",
    "np.dot(Rvec,[[1,1],[-10,10]])\n",
    "\n",
    "Rvec\n",
    "# np.tile(Rvec[0],[2,1])+[[0,]],roadW/2]"
   ]
  },
  {
   "cell_type": "code",
   "execution_count": 73,
   "id": "6a84aeae-7ff7-42d1-bbd6-865886a258da",
   "metadata": {},
   "outputs": [
    {
     "data": {
      "text/plain": [
       "[array([200.]), array([200.]), array([100.])]"
      ]
     },
     "execution_count": 73,
     "metadata": {},
     "output_type": "execute_result"
    }
   ],
   "source": [
    "vecR=[np.sqrt(np.diff(x)**2+np.diff(y)**2).T for x,y in zip(lane_x,lane_y)]\n",
    "vecR"
   ]
  },
  {
   "cell_type": "code",
   "execution_count": 172,
   "id": "b3d5a7de-734b-4f81-8809-3a785f62b5ef",
   "metadata": {},
   "outputs": [
    {
     "data": {
      "text/plain": [
       "array([[-100.,   -5.],\n",
       "       [-100.,    5.]])"
      ]
     },
     "execution_count": 172,
     "metadata": {},
     "output_type": "execute_result"
    }
   ],
   "source": [
    "x=lane_x[0]\n",
    "y=lane_y[0]\n",
    "rotXY3[3]+np.array([[x[0]]*2,[y[0]]*2]).T"
   ]
  },
  {
   "cell_type": "code",
   "execution_count": 189,
   "id": "dc1069ce-a636-40fd-ad66-c564d24b9f76",
   "metadata": {},
   "outputs": [
    {
     "data": {
      "text/plain": [
       "6"
      ]
     },
     "execution_count": 189,
     "metadata": {},
     "output_type": "execute_result"
    }
   ],
   "source": [
    "len(rotXY3)\n"
   ]
  },
  {
   "cell_type": "code",
   "execution_count": 212,
   "id": "892e752f-7a41-4ef9-b4ce-31a9d64a8aa7",
   "metadata": {},
   "outputs": [
    {
     "data": {
      "text/plain": [
       "[-100, 0, 0, -100, 0, 0]"
      ]
     },
     "execution_count": 212,
     "metadata": {},
     "output_type": "execute_result"
    }
   ],
   "source": [
    "# ([lane_x[:,0]]**2).tolist()\n",
    "(np.tile(lane_x[:,0],[1,2])[0]).tolist()"
   ]
  },
  {
   "cell_type": "code",
   "execution_count": 214,
   "id": "8e6b8d63-b5ca-4040-b31d-3503db44a15f",
   "metadata": {},
   "outputs": [
    {
     "data": {
      "text/plain": [
       "[array([[200.,  -5.],\n",
       "        [200.,   5.]]),\n",
       " array([[  5., 200.],\n",
       "        [ -5., 200.]]),\n",
       " array([[100.,  -5.],\n",
       "        [100.,   5.]]),\n",
       " array([[ 0., -5.],\n",
       "        [ 0.,  5.]]),\n",
       " array([[ 5.000000e+00, -3.061617e-16],\n",
       "        [-5.000000e+00,  3.061617e-16]]),\n",
       " array([[ 0., -5.],\n",
       "        [ 0.,  5.]])]"
      ]
     },
     "metadata": {},
     "output_type": "display_data"
    },
    {
     "data": {
      "text/plain": [
       "[array([[100.,  -5.],\n",
       "        [100.,   5.]]),\n",
       " array([[  5., 100.],\n",
       "        [ -5., 100.]]),\n",
       " array([[100.,  75.],\n",
       "        [100.,  85.]]),\n",
       " array([[-100.,   -5.],\n",
       "        [-100.,    5.]]),\n",
       " array([[   5., -100.],\n",
       "        [  -5., -100.]]),\n",
       " array([[ 0., 75.],\n",
       "        [ 0., 85.]])]"
      ]
     },
     "execution_count": 214,
     "metadata": {},
     "output_type": "execute_result"
    }
   ],
   "source": [
    "roadW=10\n",
    "rotXY=[np.tile(v,[2,1])+roadW/2*np.array([[0,0],[-1,1]]).T for v in Rvec]\n",
    "# display(rotXY)\n",
    "rotXY2=[v-r*np.array([[1,1],[0,0]]).T for v,r in zip(rotXY,vecR)]\n",
    "# display(rotXY2)\n",
    "rotXY3=[np.dot(Rot(th).reshape(2,2),v.T).T for v,th in zip(rotXY+rotXY2,np.array(angL*2))]\n",
    "display(rotXY3)\n",
    "rotXY4=[v+np.array([[x]*2,[y]*2]).T for v,x,y in zip(rotXY3,(np.tile(lane_x[:,0],[1,2])[0]).tolist(),(np.tile(lane_y[:,0],[1,2])[0]).tolist())]\n",
    "rotXY4"
   ]
  },
  {
   "cell_type": "code",
   "execution_count": 157,
   "id": "02a9d248-018c-441c-bf67-604cd4838186",
   "metadata": {},
   "outputs": [
    {
     "data": {
      "text/plain": [
       "[array([[200.,  -5.],\n",
       "        [200.,   5.]]),\n",
       " array([[  5., 200.],\n",
       "        [ -5., 200.]]),\n",
       " array([[100.,  -5.],\n",
       "        [100.,   5.]]),\n",
       " array([[ 0., -5.],\n",
       "        [ 0.,  5.]]),\n",
       " array([[ 5.000000e+00, -3.061617e-16],\n",
       "        [-5.000000e+00,  3.061617e-16]]),\n",
       " array([[ 0., -5.],\n",
       "        [ 0.,  5.]])]"
      ]
     },
     "execution_count": 157,
     "metadata": {},
     "output_type": "execute_result"
    }
   ],
   "source": [
    "rotXY3"
   ]
  },
  {
   "cell_type": "code",
   "execution_count": 215,
   "id": "48eb9673-03aa-49e4-9cdc-90d92184c1b4",
   "metadata": {},
   "outputs": [],
   "source": [
    "\n",
    "figNum=18\n",
    "maxR=[-100,100]\n",
    "fig = plt.figure(figNum)\n",
    "\n",
    "fig.clear()\n",
    "plt.cla()\n",
    "for p2,p1 in zip(rotXY4[:len(rotXY)],rotXY4[len(rotXY):]):\n",
    "    plt.plot(np.vstack([p1[:,0],p2[:,0]]),np.vstack([p1[:,1],p2[:,1]]),'-',linewidth=2)\n"
   ]
  },
  {
   "cell_type": "code",
   "execution_count": 226,
   "id": "726576c1-4f39-41cd-87c8-1122583861df",
   "metadata": {},
   "outputs": [
    {
     "data": {
      "text/plain": [
       "[<matplotlib.lines.Line2D at 0x1683e26b0>,\n",
       " <matplotlib.lines.Line2D at 0x1683e2740>,\n",
       " <matplotlib.lines.Line2D at 0x1683e2380>]"
      ]
     },
     "execution_count": 226,
     "metadata": {},
     "output_type": "execute_result"
    }
   ],
   "source": [
    "roadW=10\n",
    "\n",
    "lane_x = mapDx.copy()\n",
    "lane_y = mapDy.copy()\n",
    "\n",
    "vecR=[np.sqrt(np.diff(x)**2+np.diff(y)**2).T for x,y in zip(lane_x,lane_y)]\n",
    "angL=[np.arctan2(np.diff(y),np.diff(x)) for x,y in zip(lane_x,lane_y)]\n",
    "Rvec=[np.dot(Rot(-th).reshape(2,2),[np.diff(x),np.diff(y)]).T for x,y,th in zip(lane_x,lane_y,angL)]\n",
    "\n",
    "rotXY=[np.tile(v,[2,1])+roadW/2*np.array([[0,0],[-1,1]]).T for v in Rvec]\n",
    "rotXY2=[v-r*np.array([[1,1],[0,0]]).T for v,r in zip(rotXY,vecR)]\n",
    "rotXY3=[np.dot(Rot(th).reshape(2,2),v.T).T for v,th in zip(rotXY+rotXY2,np.array(angL*2))]\n",
    "rotXY4=[v+np.array([[x]*2,[y]*2]).T for v,x,y in zip(rotXY3,(np.tile(lane_x[:,0],[1,2])[0]).tolist(),(np.tile(lane_y[:,0],[1,2])[0]).tolist())]\n",
    "\n",
    "figNum=18\n",
    "maxR=[-100,100]\n",
    "fig = plt.figure(figNum)\n",
    "\n",
    "fig.clear()\n",
    "plt.cla()\n",
    "for p2,p1 in zip(rotXY4[:len(rotXY)],rotXY4[len(rotXY):]):\n",
    "    plt.plot(np.vstack([p1[:,0],p2[:,0]]),np.vstack([p1[:,1],p2[:,1]]),'-',linewidth=2)\n",
    "\n",
    "my_color1=np.array([122,122,122])\n",
    "# plt.plot(lane_x,lane_y,color=my_color1,lineWidth=3)\n",
    "plt.plot(lane_x.T,lane_y.T,'--',color=\"0.5\",linewidth=2)\n",
    "\n"
   ]
  },
  {
   "cell_type": "code",
   "execution_count": 227,
   "id": "bc0508ac-9863-420d-807d-b74f0486895c",
   "metadata": {},
   "outputs": [
    {
     "data": {
      "text/plain": [
       "array([[-1.0000000e+00, -1.2246468e-16],\n",
       "       [ 1.2246468e-16, -1.0000000e+00]])"
      ]
     },
     "metadata": {},
     "output_type": "display_data"
    },
    {
     "data": {
      "text/plain": [
       "3.3"
      ]
     },
     "execution_count": 227,
     "metadata": {},
     "output_type": "execute_result"
    }
   ],
   "source": [
    "Moby=np.array(3*[[-0.6, 0.6,   1,    1, 0.75,-0.75,   -1,  -1,-0.6,0.6],\n",
    "                 [1.75,1.75,0.75,-1.25,-1.55,-1.55,-1.25,0.75,1.75,1.75]])      \n",
    "Rot=lambda t: np.array([[np.cos(t),-np.sin(t)],[np.sin(t),np.cos(t)]])\n",
    "display(Rot(np.pi))\n",
    "cLen=np.abs(min(Moby[1,:])-max(Moby[1,:]))\n",
    "cLen"
   ]
  },
  {
   "cell_type": "code",
   "execution_count": 230,
   "id": "6580972a-03c0-4bb8-a1fd-564374d152a0",
   "metadata": {},
   "outputs": [
    {
     "data": {
      "text/plain": [
       "(-1.1, 1.1, -1.715, 1.915)"
      ]
     },
     "execution_count": 230,
     "metadata": {},
     "output_type": "execute_result"
    }
   ],
   "source": [
    "figNum=19\n",
    "maxR=[-100,100]\n",
    "fig = plt.figure(figNum)\n",
    "\n",
    "fig.clear()\n",
    "plt.cla()\n",
    "plt.plot(Moby[0],Moby[1],'-',linewidth=2)\n",
    "\n",
    "\n",
    "\n",
    "plt.xticks(np.arange(maxR[0], maxR[1], 10))\n",
    "plt.yticks(np.arange(maxR[0], maxR[1], 10))\n",
    "plt.grid(color=[0.5,0.5,0.5], linestyle='-', linewidth=0.5)\n",
    "plt.title(\"Time\")   # title of the plot\n",
    "plt.xlabel(\"x\")      # label in x axis\n",
    "plt.ylabel(\"y\")      # label in y axis\n",
    "\n",
    "plt.xlim(maxR)   # range in x axis\n",
    "plt.ylim(maxR)     # range in x axis\n",
    "plt.axis('equal')\n"
   ]
  },
  {
   "cell_type": "code",
   "execution_count": 228,
   "id": "744b52dd-02bd-432e-b91d-78e3bfaad4af",
   "metadata": {},
   "outputs": [
    {
     "data": {
      "text/plain": [
       "array([-0.6 ,  0.6 ,  1.  ,  1.  ,  0.75, -0.75, -1.  , -1.  , -0.6 ,\n",
       "        0.6 ])"
      ]
     },
     "execution_count": 228,
     "metadata": {},
     "output_type": "execute_result"
    }
   ],
   "source": [
    "Moby[0]"
   ]
  },
  {
   "cell_type": "code",
   "execution_count": 232,
   "id": "3bc53c1a-ab73-4eec-a7bd-771244eeb590",
   "metadata": {},
   "outputs": [
    {
     "data": {
      "text/plain": [
       "[array([0.]), array([1.57079633])]"
      ]
     },
     "execution_count": 232,
     "metadata": {},
     "output_type": "execute_result"
    }
   ],
   "source": [
    "angL2=angL[:-1]\n",
    "angL2"
   ]
  },
  {
   "cell_type": "code",
   "execution_count": 235,
   "id": "3c0e111d-0ea9-45eb-8192-18b06ede9f92",
   "metadata": {},
   "outputs": [
    {
     "data": {
      "text/plain": [
       "array([-80,   0])"
      ]
     },
     "metadata": {},
     "output_type": "display_data"
    },
    {
     "data": {
      "text/plain": [
       "array([[-100,  100],\n",
       "       [   0,    0],\n",
       "       [   0,  100]])"
      ]
     },
     "execution_count": 235,
     "metadata": {},
     "output_type": "execute_result"
    }
   ],
   "source": [
    "figNum=19\n",
    "maxR=[-100,100]\n",
    "fig = plt.figure(figNum)\n",
    "NofC=2\n",
    "\n",
    "v_planning_x=np.array([[-80,80],[ 0,0]])\n",
    "v_planning_y=np.array([[0,0],[-80,80]])\n",
    "tP=0\n",
    "initPx=v_planning_x[:,0]\n",
    "initPy=v_planning_y[:,0]\n",
    "\n",
    "display(initPx)\n",
    "\n",
    "sign2=lambda a,b: np.sign(((a>=0).astype(int)-0.5)*((b>=0).astype(int)-0.5))\n",
    "\n",
    "# for x,y in zip(initPx,initPy): \n",
    "# xu,xd,yu,yd=(initPx[0]-lane_x[:,0]),np.diff(lane_x).T[0],(initPy[0]-lane_y[:,0]),np.diff(lane_y).T[0]\n",
    "# np.where((sign2(xu,xd)>=0) & (xu<=xd) & (sign2(yu,yd)>=0) & (yu<=yd))[0]\n",
    "\n",
    "# xu,xd,yu,yd=(x-lane_x[:,0]),np.diff(lane_x).T[0],(y-lane_y[:,0]),np.diff(lane_y).T[0]\n",
    "cLaneID=[np.where((sign2((x-lane_x[:,0]),np.diff(lane_x).T[0])>=0) & ((x-lane_x[:,0])<=np.diff(lane_x).T[0]) & (sign2((y-lane_y[:,0]),np.diff(lane_y).T[0])>=0) & ((y-lane_y[:,0])<=np.diff(lane_y).T[0]))[0] \n",
    " for x,y in zip(initPx,initPy)]\n",
    "\n",
    "\n",
    "\n",
    "# for j in range(NofC):\n",
    "#     currPosMo=Rot(cPos(j,3)-pi/2)*Moby+repmat(cPos(j,1:2)',[1 size(Moby,2)]);\n",
    "#     pc{j,1}=plot(currPosMo(1,:),currPosMo(2,:),'-','LineWidth',3,'color',ccol(j,:)); \n",
    "#     pc{j,2}=plot(cPos(j,1),cPos(j,2),'.','MarkerSize',22); \n",
    "# end"
   ]
  },
  {
   "cell_type": "code",
   "execution_count": 370,
   "id": "d8654644-a544-4cdc-bd01-61f8d7a8c86f",
   "metadata": {},
   "outputs": [
    {
     "data": {
      "text/plain": [
       "array([-80. ,   0.1])"
      ]
     },
     "execution_count": 370,
     "metadata": {},
     "output_type": "execute_result"
    }
   ],
   "source": [
    "np.empty([1,3])\n",
    "initPx=np.array([-80,   0.1])\n",
    "initPx"
   ]
  },
  {
   "cell_type": "code",
   "execution_count": 372,
   "id": "d906f7c1-6931-4e8d-99fa-724175a035d9",
   "metadata": {},
   "outputs": [
    {
     "data": {
      "text/plain": [
       "array([[0., 0., 0.],\n",
       "       [0., 0., 0.]])"
      ]
     },
     "metadata": {},
     "output_type": "display_data"
    },
    {
     "data": {
      "text/plain": [
       "array([[-80. ,   0. ],\n",
       "       [  0.1, -80. ]])"
      ]
     },
     "execution_count": 372,
     "metadata": {},
     "output_type": "execute_result"
    }
   ],
   "source": [
    "cPos=np.empty([NofC,3])\n",
    "display(cPos)\n",
    "np.vstack([initPx,initPy]).T"
   ]
  },
  {
   "cell_type": "code",
   "execution_count": 386,
   "id": "501b2042-0844-4341-8394-10715a989492",
   "metadata": {},
   "outputs": [
    {
     "data": {
      "text/plain": [
       "array([[[0.        ]],\n",
       "\n",
       "       [[1.57079633]]])"
      ]
     },
     "execution_count": 386,
     "metadata": {},
     "output_type": "execute_result"
    }
   ],
   "source": [
    "cPos[:,:2]\n",
    "cLaneID2=np.array(cLaneID)\n",
    "np.array(angL)[cLaneID2]"
   ]
  },
  {
   "cell_type": "code",
   "execution_count": 390,
   "id": "e199301e-597c-4ac6-8b7c-76a3e04597c1",
   "metadata": {},
   "outputs": [
    {
     "data": {
      "text/plain": [
       "array([[-80.        ,   0.        ,   0.        ],\n",
       "       [  0.1       , -80.        ,   1.57079633]])"
      ]
     },
     "execution_count": 390,
     "metadata": {},
     "output_type": "execute_result"
    }
   ],
   "source": [
    "cPos=np.empty([NofC,3])\n",
    "cPos[:,:2]=np.vstack([initPx,initPy]).T\n",
    "# cPos[:,2]=np.array(angL)[cLaneID2]\n",
    "cPos[:,2]=np.array(angL)[cLaneID2].T\n",
    "cPos"
   ]
  },
  {
   "cell_type": "code",
   "execution_count": 392,
   "id": "ca0ccdc3-aed0-4c01-b652-a434275f9e73",
   "metadata": {},
   "outputs": [
    {
     "data": {
      "text/plain": [
       "array([[ 6.123234e-17,  1.000000e+00],\n",
       "       [-1.000000e+00,  6.123234e-17]])"
      ]
     },
     "execution_count": 392,
     "metadata": {},
     "output_type": "execute_result"
    }
   ],
   "source": [
    "Rot(cPos[j,2]-np.pi/2)"
   ]
  },
  {
   "cell_type": "code",
   "execution_count": 399,
   "id": "2eb1254a-cf51-4aa9-814f-abfeae95912e",
   "metadata": {},
   "outputs": [
    {
     "data": {
      "text/plain": [
       "array([[-1.8 ,  1.8 ,  3.  ,  3.  ,  2.25, -2.25, -3.  , -3.  , -1.8 ,\n",
       "         1.8 ],\n",
       "       [ 5.25,  5.25,  2.25, -3.75, -4.65, -4.65, -3.75,  2.25,  5.25,\n",
       "         5.25]])"
      ]
     },
     "execution_count": 399,
     "metadata": {},
     "output_type": "execute_result"
    }
   ],
   "source": [
    "Moby=3*np.array([[-0.6, 0.6,   1,    1, 0.75,-0.75,   -1,  -1,-0.6,0.6],\n",
    "                 [1.75,1.75,0.75,-1.25,-1.55,-1.55,-1.25,0.75,1.75,1.75]])  \n",
    "# Moby=[]\n",
    "Moby"
   ]
  },
  {
   "cell_type": "code",
   "execution_count": 400,
   "id": "141d303f-8f7b-49f3-89f6-c7c20f954d09",
   "metadata": {},
   "outputs": [
    {
     "data": {
      "text/plain": [
       "array([[ 5.25,  5.25,  2.25, -3.75, -4.65, -4.65, -3.75,  2.25,  5.25,\n",
       "         5.25],\n",
       "       [ 1.8 , -1.8 , -3.  , -3.  , -2.25,  2.25,  3.  ,  3.  ,  1.8 ,\n",
       "        -1.8 ]])"
      ]
     },
     "execution_count": 400,
     "metadata": {},
     "output_type": "execute_result"
    }
   ],
   "source": [
    "np.dot(Rot(cPos[j,2]-np.pi/2),Moby)"
   ]
  },
  {
   "cell_type": "code",
   "execution_count": 404,
   "id": "647f597b-0160-486f-844f-c027eff788bc",
   "metadata": {},
   "outputs": [
    {
     "data": {
      "text/plain": [
       "10"
      ]
     },
     "execution_count": 404,
     "metadata": {},
     "output_type": "execute_result"
    }
   ],
   "source": [
    "np.shape(Moby)[1]\n"
   ]
  },
  {
   "cell_type": "code",
   "execution_count": 409,
   "id": "b8e7b797-74ad-4142-9dbf-4bc5a1574c3f",
   "metadata": {},
   "outputs": [
    {
     "data": {
      "text/plain": [
       "[array([-80.,   0.])]"
      ]
     },
     "execution_count": 409,
     "metadata": {},
     "output_type": "execute_result"
    }
   ],
   "source": [
    "[cPos[0,:2]]"
   ]
  },
  {
   "cell_type": "code",
   "execution_count": 411,
   "id": "ae191fe8-e58d-4238-8890-181575b9ecd7",
   "metadata": {},
   "outputs": [
    {
     "data": {
      "text/plain": [
       "array([[-80., -80., -80., -80., -80., -80., -80., -80., -80., -80.],\n",
       "       [  0.,   0.,   0.,   0.,   0.,   0.,   0.,   0.,   0.,   0.]])"
      ]
     },
     "execution_count": 411,
     "metadata": {},
     "output_type": "execute_result"
    }
   ],
   "source": [
    "np.tile(cPos[0,:2],[np.shape(Moby)[1],1]).T"
   ]
  },
  {
   "cell_type": "code",
   "execution_count": 413,
   "id": "0010c159-a20a-471c-b219-e52f1469ed6a",
   "metadata": {},
   "outputs": [
    {
     "data": {
      "text/plain": [
       "array([[-81.8 , -78.2 , -77.  , -77.  , -77.75, -82.25, -83.  , -83.  ,\n",
       "        -81.8 , -78.2 ],\n",
       "       [  5.25,   5.25,   2.25,  -3.75,  -4.65,  -4.65,  -3.75,   2.25,\n",
       "          5.25,   5.25]])"
      ]
     },
     "execution_count": 413,
     "metadata": {},
     "output_type": "execute_result"
    }
   ],
   "source": [
    "for j in range(NofC):\n",
    "    # currPosMo=np.dot(Rot(cPos[j,2]-np.pi/2),Moby)+repmat(cPos(j,1:2)',[1 size(Moby,2)]);\n",
    "    currPosMo=np.dot(Rot(cPos[j,2]-np.pi/2),Moby)+np.tile(cPos[0,:2],[np.shape(Moby)[1],1]).T\n",
    "currPosMo"
   ]
  },
  {
   "cell_type": "code",
   "execution_count": 431,
   "id": "e77720ff-7d97-4814-9061-c49ff622e0bc",
   "metadata": {},
   "outputs": [
    {
     "data": {
      "text/plain": [
       "(-110.0, 110.0, -110.0, 110.0)"
      ]
     },
     "execution_count": 431,
     "metadata": {},
     "output_type": "execute_result"
    }
   ],
   "source": [
    "figNum=20\n",
    "fig = plt.figure(figNum)\n",
    "fig.clear()\n",
    "plt.cla()\n",
    "maxR=[-100,100]\n",
    "\n",
    "\n",
    "Moby=3*np.array([[-0.6, 0.6,   1,    1, 0.75,-0.75,   -1,  -1,-0.6,0.6],\n",
    "                 [1.75,1.75,0.75,-1.25,-1.55,-1.55,-1.25,0.75,1.75,1.75]])      \n",
    "Rot=lambda t: np.array([[np.cos(t),-np.sin(t)],[np.sin(t),np.cos(t)]])\n",
    "cLen=np.abs(min(Moby[1,:])-max(Moby[1,:]))\n",
    "\n",
    "\n",
    "cPos=np.empty([NofC,3])\n",
    "cPos[:,:2]=np.vstack([initPx,initPy]).T\n",
    "cPos[:,2]=np.array(angL)[cLaneID2].T\n",
    "\n",
    "for j in range(NofC):\n",
    "    # currPosMo=np.dot(Rot(cPos[j,2]-np.pi/2),Moby)+repmat(cPos(j,1:2)',[1 size(Moby,2)]);\n",
    "    currPosMo=np.dot(Rot(cPos[j,2]-np.pi/2),Moby)+np.tile(cPos[j,:2],[np.shape(Moby)[1],1]).T\n",
    "    plt.plot(currPosMo[0],currPosMo[1],'k-',linewidth=2)\n",
    "\n",
    "\n",
    "for p2,p1 in zip(rotXY4[:len(rotXY)],rotXY4[len(rotXY):]):\n",
    "    plt.plot(np.vstack([p1[:,0],p2[:,0]]),np.vstack([p1[:,1],p2[:,1]]),'-',linewidth=2)\n",
    "\n",
    "my_color1=np.array([122,122,122])\n",
    "# plt.plot(lane_x,lane_y,color=my_color1,lineWidth=3)\n",
    "plt.plot(lane_x.T,lane_y.T,'--',color=\"0.5\",linewidth=2)\n",
    "\n",
    "\n",
    "# plt.xticks(np.arange(maxR[0], maxR[1], 10))\n",
    "# plt.yticks(np.arange(maxR[0], maxR[1], 10))\n",
    "plt.grid(color=[0.5,0.5,0.5], linestyle='-', linewidth=0.5)\n",
    "\n",
    "plt.title(\"Time\")   # title of the plot\n",
    "plt.xlabel(\"x\")      # label in x axis\n",
    "plt.ylabel(\"y\")      # label in y axis\n",
    "\n",
    "plt.xlim(maxR)   # range in x axis\n",
    "plt.ylim(maxR)     # range in x axis\n",
    "plt.axis('equal')\n",
    "\n",
    "# def plotP(i2):\n",
    "#     plt.cla() \n",
    "#     plt.plot(mapDx.T,mapDy.T,'-',linewidth=2)\n",
    "#     tP=i2/simT\n",
    "#     tmpx=np.dot(v_planning_x,np.array([1-tP,tP]))\n",
    "#     tmpy=np.dot(v_planning_y,np.array([1-tP,tP]))\n",
    "\n",
    "#     each_plot=[plt.plot(x,y,'.',markersize=20) for x,y in zip(tmpx,tmpy)]\n",
    "#     plot_frames.append(each_plot)\n",
    "\n",
    "# animatedP = animation.FuncAnimation(fig, plotP, interval=100,frames = 20, repeat=False)\n",
    "# # animatedP = animation.FuncAnimation(fig, plotP, interval=100,frames = 20)\n",
    "\n",
    "# plt.show()\n",
    "\n",
    "# fig.legend(all_Lable)"
   ]
  },
  {
   "cell_type": "code",
   "execution_count": 435,
   "id": "44c93688-19e6-46e3-8098-41ffa8daaff2",
   "metadata": {},
   "outputs": [
    {
     "data": {
      "text/plain": [
       "<matplotlib.legend.Legend at 0x1774d0a30>"
      ]
     },
     "execution_count": 435,
     "metadata": {},
     "output_type": "execute_result"
    }
   ],
   "source": [
    "figNum=21\n",
    "fig = plt.figure(figNum)\n",
    "fig.clear()\n",
    "plt.cla()\n",
    "maxR=[-100,100]\n",
    "\n",
    "\n",
    "Moby=3*np.array([[-0.6, 0.6,   1,    1, 0.75,-0.75,   -1,  -1,-0.6,0.6],\n",
    "                 [1.75,1.75,0.75,-1.25,-1.55,-1.55,-1.25,0.75,1.75,1.75]])      \n",
    "Rot=lambda t: np.array([[np.cos(t),-np.sin(t)],[np.sin(t),np.cos(t)]])\n",
    "cLen=np.abs(min(Moby[1,:])-max(Moby[1,:]))\n",
    "\n",
    "\n",
    "# cPos=np.empty([NofC,3])\n",
    "# cPos[:,:2]=np.vstack([initPx,initPy]).T\n",
    "# cPos[:,2]=np.array(angL)[cLaneID2].T\n",
    "\n",
    "# for j in range(NofC):\n",
    "#     # currPosMo=np.dot(Rot(cPos[j,2]-np.pi/2),Moby)+repmat(cPos(j,1:2)',[1 size(Moby,2)]);\n",
    "#     currPosMo=np.dot(Rot(cPos[j,2]-np.pi/2),Moby)+np.tile(cPos[j,:2],[np.shape(Moby)[1],1]).T\n",
    "#     plt.plot(currPosMo[0],currPosMo[1],'k-',linewidth=2)\n",
    "\n",
    "\n",
    "# for p2,p1 in zip(rotXY4[:len(rotXY)],rotXY4[len(rotXY):]):\n",
    "#     plt.plot(np.vstack([p1[:,0],p2[:,0]]),np.vstack([p1[:,1],p2[:,1]]),'-',linewidth=2)\n",
    "\n",
    "my_color1=np.array([122,122,122])\n",
    "# plt.plot(lane_x,lane_y,color=my_color1,lineWidth=3)\n",
    "# plt.plot(lane_x.T,lane_y.T,'--',color=\"0.5\",linewidth=2)\n",
    "\n",
    "\n",
    "# plt.xticks(np.arange(maxR[0], maxR[1], 10))\n",
    "# plt.yticks(np.arange(maxR[0], maxR[1], 10))\n",
    "# plt.grid(color=[0.5,0.5,0.5], linestyle='-', linewidth=0.5)\n",
    "\n",
    "plt.title(\"Time\")   # title of the plot\n",
    "plt.xlabel(\"x\")      # label in x axis\n",
    "plt.ylabel(\"y\")      # label in y axis\n",
    "\n",
    "plt.xlim(maxR)   # range in x axis\n",
    "plt.ylim(maxR)     # range in x axis\n",
    "plt.axis('equal')\n",
    "\n",
    "def plotP(i2):\n",
    "    plt.cla() \n",
    "    plt.grid(color=[0.5,0.5,0.5], linestyle='-', linewidth=0.5)\n",
    "\n",
    "    for p2,p1 in zip(rotXY4[:len(rotXY)],rotXY4[len(rotXY):]):\n",
    "        plt.plot(np.vstack([p1[:,0],p2[:,0]]),np.vstack([p1[:,1],p2[:,1]]),'-',linewidth=2)\n",
    "\n",
    "    my_color1=np.array([122,122,122])\n",
    "    # plt.plot(lane_x,lane_y,color=my_color1,lineWidth=3)\n",
    "    plt.plot(lane_x.T,lane_y.T,'--',color=\"0.5\",linewidth=2)\n",
    "\n",
    "    # plt.title(\"Time\")   # title of the plot\n",
    "    plt.title(f'Time: {i2}')\n",
    "    plt.xlabel(\"x\")      # label in x axis\n",
    "    plt.ylabel(\"y\")      # label in y axis\n",
    "    \n",
    "    plt.xlim(maxR)   # range in x axis\n",
    "    plt.ylim(maxR)     # range in x axis\n",
    "    plt.axis('equal')\n",
    "\n",
    "    # plt.plot(mapDx.T,mapDy.T,'-',linewidth=2)\n",
    "    tP=i2/simT\n",
    "    tmpx=np.dot(v_planning_x,np.array([1-tP,tP]))\n",
    "    tmpy=np.dot(v_planning_y,np.array([1-tP,tP]))\n",
    "\n",
    "    cPos[:,:2]=np.vstack([tmpx,tmpy]).T\n",
    "    # cPos[:,2]=np.array(angL)[cLaneID2].T\n",
    "\n",
    "    each_plot=[]\n",
    "    for j in range(NofC):\n",
    "        # currPosMo=np.dot(Rot(cPos[j,2]-np.pi/2),Moby)+repmat(cPos(j,1:2)',[1 size(Moby,2)]);\n",
    "        currPosMo=np.dot(Rot(cPos[j,2]-np.pi/2),Moby)+np.tile(cPos[j,:2],[np.shape(Moby)[1],1]).T\n",
    "        each_plot.append(plt.plot(currPosMo[0],currPosMo[1],'k-',linewidth=2))\n",
    "\n",
    "\n",
    "    each_plot2=[plt.plot(x,y,'.',markersize=10) for x,y in zip(tmpx,tmpy)]\n",
    "    each_plot3=each_plot+each_plot2\n",
    "    \n",
    "    plot_frames.append(each_plot3)\n",
    "\n",
    "animatedP = animation.FuncAnimation(fig, plotP, interval=100,frames = 100, repeat=False)\n",
    "# # animatedP = animation.FuncAnimation(fig, plotP, interval=100,frames = 20)\n",
    "\n",
    "plt.show()\n",
    "\n",
    "fig.legend(all_Lable)"
   ]
  },
  {
   "cell_type": "code",
   "execution_count": 416,
   "id": "71a2dffc-db3c-4965-be11-ac5b55c03e84",
   "metadata": {},
   "outputs": [
    {
     "data": {
      "text/plain": [
       "array([[-81.8 , -78.2 , -77.  , -77.  , -77.75, -82.25, -83.  , -83.  ,\n",
       "        -81.8 , -78.2 ],\n",
       "       [  5.25,   5.25,   2.25,  -3.75,  -4.65,  -4.65,  -3.75,   2.25,\n",
       "          5.25,   5.25]])"
      ]
     },
     "execution_count": 416,
     "metadata": {},
     "output_type": "execute_result"
    }
   ],
   "source": [
    "currPosMo"
   ]
  },
  {
   "cell_type": "code",
   "execution_count": 349,
   "id": "60730f50-12e1-4149-a29d-35591be91a77",
   "metadata": {},
   "outputs": [
    {
     "data": {
      "text/plain": [
       "[array([0]), array([1])]"
      ]
     },
     "execution_count": 349,
     "metadata": {},
     "output_type": "execute_result"
    }
   ],
   "source": [
    "cLaneID=[np.where((sign2((x-lane_x[:,0]),np.diff(lane_x).T[0])>=0) & ((x-lane_x[:,0])<=np.diff(lane_x).T[0]) & (sign2((y-lane_y[:,0]),np.diff(lane_y).T[0])>=0) & ((y-lane_y[:,0])<=np.diff(lane_y).T[0]))[0] \n",
    " for x,y in zip(initPx,initPy)]\n",
    "cLaneID"
   ]
  },
  {
   "cell_type": "code",
   "execution_count": 351,
   "id": "4e55528e-7acb-4693-b406-342f940acac5",
   "metadata": {},
   "outputs": [
    {
     "data": {
      "text/plain": [
       "array([0])"
      ]
     },
     "execution_count": 351,
     "metadata": {},
     "output_type": "execute_result"
    }
   ],
   "source": [
    "np.array(cLaneID)[0]"
   ]
  },
  {
   "cell_type": "code",
   "execution_count": 347,
   "id": "05ee8478-6c87-46e1-b2a0-f8908e7431f3",
   "metadata": {},
   "outputs": [
    {
     "data": {
      "text/plain": [
       "[array([0]), array([1])]"
      ]
     },
     "execution_count": 347,
     "metadata": {},
     "output_type": "execute_result"
    }
   ],
   "source": [
    "[np.where((sign2((x-lane_x[:,0]),np.diff(lane_x).T[0])>=0) & ((x-lane_x[:,0])<=np.diff(lane_x).T[0]) & (sign2((y-lane_y[:,0]),np.diff(lane_y).T[0])>=0) & ((y-lane_y[:,0])<=np.diff(lane_y).T[0]))[0] for x,y in zip(initPx,initPy)]\n"
   ]
  },
  {
   "cell_type": "code",
   "execution_count": 241,
   "id": "b96049ea-03c0-49cf-b09e-f3c534848f7f",
   "metadata": {},
   "outputs": [
    {
     "data": {
      "text/plain": [
       "False"
      ]
     },
     "execution_count": 241,
     "metadata": {},
     "output_type": "execute_result"
    }
   ],
   "source": [
    "np.sign(-1)>0"
   ]
  },
  {
   "cell_type": "code",
   "execution_count": 278,
   "id": "782d904a-75dc-47ec-b514-2984eef819b7",
   "metadata": {},
   "outputs": [
    {
     "data": {
      "text/plain": [
       "(-80, 0)"
      ]
     },
     "execution_count": 278,
     "metadata": {},
     "output_type": "execute_result"
    }
   ],
   "source": [
    "initPx[0],initPy[0]"
   ]
  },
  {
   "cell_type": "code",
   "execution_count": 263,
   "id": "729ed177-325d-4bab-a06f-c6544c5b52a2",
   "metadata": {},
   "outputs": [],
   "source": [
    "xu,xd,yu,yd=(initPx[0]-lane_x[:,0]),np.diff(lane_x).T[0],(initPy[0]-lane_y[:,0]),np.diff(lane_y).T[0]"
   ]
  },
  {
   "cell_type": "code",
   "execution_count": 271,
   "id": "1e48e2fd-c4f5-489d-9a52-9d76cd3bc07a",
   "metadata": {},
   "outputs": [
    {
     "data": {
      "text/plain": [
       "(array([0, 1]),)"
      ]
     },
     "execution_count": 271,
     "metadata": {},
     "output_type": "execute_result"
    }
   ],
   "source": [
    "np.where((np.sign(xu*xd)>=0) & (xu<=xd) & (np.sign(yu*yd)>=0) & (yu<=yd))"
   ]
  },
  {
   "cell_type": "code",
   "execution_count": 279,
   "id": "2d766dc0-42fc-4fa0-82dc-11ccece9ac77",
   "metadata": {},
   "outputs": [
    {
     "data": {
      "text/plain": [
       "(array([[-100,  100],\n",
       "        [   0,    0],\n",
       "        [   0,  100]]),\n",
       " array([[   0,    0],\n",
       "        [-100,  100],\n",
       "        [  80,   80]]))"
      ]
     },
     "execution_count": 279,
     "metadata": {},
     "output_type": "execute_result"
    }
   ],
   "source": [
    "lane_x,lane_y"
   ]
  },
  {
   "cell_type": "code",
   "execution_count": 281,
   "id": "64e6337f-2946-4ccf-9bbd-ff1f37e6c3ba",
   "metadata": {},
   "outputs": [
    {
     "data": {
      "text/plain": [
       "1"
      ]
     },
     "execution_count": 281,
     "metadata": {},
     "output_type": "execute_result"
    }
   ],
   "source": [
    "sign2=lambda x: np.sign(x) if len(np.where(xu==0)[0])==0 else 1\n",
    "sign2(0)"
   ]
  },
  {
   "cell_type": "code",
   "execution_count": 345,
   "id": "f3762efe-ac38-4675-95a9-63327015be8c",
   "metadata": {},
   "outputs": [],
   "source": [
    "sign2=lambda a,b: np.sign(((a>=0).astype(int)-0.5)*((b>=0).astype(int)-0.5))"
   ]
  },
  {
   "cell_type": "code",
   "execution_count": 296,
   "id": "33176d38-ddcb-44ec-ab27-11633b3cf104",
   "metadata": {},
   "outputs": [
    {
     "data": {
      "text/plain": [
       "array([  0,   0, -80])"
      ]
     },
     "execution_count": 296,
     "metadata": {},
     "output_type": "execute_result"
    }
   ],
   "source": [
    "yu=np.array([  0, 0, -80])\n",
    "yu"
   ]
  },
  {
   "cell_type": "code",
   "execution_count": 311,
   "id": "f7e3009d-ccc6-4b71-bc94-fe3138db55b1",
   "metadata": {},
   "outputs": [
    {
     "data": {
      "text/plain": [
       "array([0, 0])"
      ]
     },
     "execution_count": 311,
     "metadata": {},
     "output_type": "execute_result"
    }
   ],
   "source": [
    "yu[np.where(yu==0)[0]]=np.tile(0.1,[1,2])\n",
    "yu[np.where(yu==0)[0]]\n",
    "\n",
    "yu[np.where(yu==0)[0]]\n",
    "# yu[np.where(yu==0)[0]]"
   ]
  },
  {
   "cell_type": "code",
   "execution_count": 312,
   "id": "520ba5c0-effb-4c5f-a836-dbbd0e8f52dc",
   "metadata": {},
   "outputs": [
    {
     "data": {
      "text/plain": [
       "array([0, 0])"
      ]
     },
     "execution_count": 312,
     "metadata": {},
     "output_type": "execute_result"
    }
   ],
   "source": [
    "yu[np.where(yu==0)[0]]"
   ]
  },
  {
   "cell_type": "code",
   "execution_count": 314,
   "id": "c4e83849-ee1c-4f75-8399-fdd4cf8b0d9b",
   "metadata": {},
   "outputs": [
    {
     "data": {
      "text/plain": [
       "0"
      ]
     },
     "execution_count": 314,
     "metadata": {},
     "output_type": "execute_result"
    }
   ],
   "source": [
    "yu[0]=yu[0]+0.1\n",
    "yu[0]"
   ]
  },
  {
   "cell_type": "code",
   "execution_count": 317,
   "id": "c3e7daa8-0a06-44c1-993a-e00014e132b6",
   "metadata": {},
   "outputs": [
    {
     "data": {
      "text/plain": [
       "0"
      ]
     },
     "execution_count": 317,
     "metadata": {},
     "output_type": "execute_result"
    }
   ],
   "source": [
    "yu[0]=yu[0]+0.1\n",
    "[ for k in np.where(yu==0)[0]]"
   ]
  },
  {
   "cell_type": "code",
   "execution_count": 343,
   "id": "6c2d46bb-8e0e-46e4-bf1a-8367212fb3a0",
   "metadata": {},
   "outputs": [
    {
     "data": {
      "text/plain": [
       "(array([  0,   0, -80]), array([  0, 200, -10]))"
      ]
     },
     "execution_count": 343,
     "metadata": {},
     "output_type": "execute_result"
    }
   ],
   "source": [
    "yu,yd"
   ]
  },
  {
   "cell_type": "code",
   "execution_count": 344,
   "id": "5c5f6ca9-950e-4303-a79f-d5e93a8b5b0e",
   "metadata": {},
   "outputs": [
    {
     "data": {
      "text/plain": [
       "array([1., 1., 1.])"
      ]
     },
     "execution_count": 344,
     "metadata": {},
     "output_type": "execute_result"
    }
   ],
   "source": [
    "np.sign(((yu>=0).astype(int)-0.5)*((yd>=0).astype(int)-0.5))\n"
   ]
  },
  {
   "cell_type": "code",
   "execution_count": 340,
   "id": "39802063-5368-409c-bcee-b9a38c8e79a0",
   "metadata": {},
   "outputs": [
    {
     "data": {
      "text/plain": [
       "array([ 0.5,  0.5, -0.5])"
      ]
     },
     "execution_count": 340,
     "metadata": {},
     "output_type": "execute_result"
    }
   ],
   "source": [
    "((yu>=0).astype(int)-0.5)"
   ]
  },
  {
   "cell_type": "code",
   "execution_count": 341,
   "id": "a0d37c80-f117-4184-ae8d-ba6ee2e4f666",
   "metadata": {},
   "outputs": [
    {
     "data": {
      "text/plain": [
       "array([ 0.5,  0.5, -0.5])"
      ]
     },
     "execution_count": 341,
     "metadata": {},
     "output_type": "execute_result"
    }
   ],
   "source": [
    "((yd>=0).astype(int)-0.5)"
   ]
  },
  {
   "cell_type": "code",
   "execution_count": 337,
   "id": "5fdcbfa2-c40c-4644-b475-e3b3e1e1e564",
   "metadata": {},
   "outputs": [
    {
     "data": {
      "text/plain": [
       "array([1, 1, 0])"
      ]
     },
     "execution_count": 337,
     "metadata": {},
     "output_type": "execute_result"
    }
   ],
   "source": [
    "(yu>=0).astype(int)"
   ]
  },
  {
   "cell_type": "code",
   "execution_count": 325,
   "id": "b2890410-6bf0-45b5-ae70-6a73f0e50228",
   "metadata": {},
   "outputs": [
    {
     "data": {
      "text/plain": [
       "array([ True,  True, False])"
      ]
     },
     "execution_count": 325,
     "metadata": {},
     "output_type": "execute_result"
    }
   ],
   "source": [
    "(yu>=0) & (yd>=0)"
   ]
  },
  {
   "cell_type": "code",
   "execution_count": 335,
   "id": "0bc794cc-404f-487c-b230-65a4b45977b6",
   "metadata": {},
   "outputs": [
    {
     "data": {
      "text/plain": [
       "array([  0, 200, -10])"
      ]
     },
     "execution_count": 335,
     "metadata": {},
     "output_type": "execute_result"
    }
   ],
   "source": [
    "yu[0]=0.1\n",
    "yd[2]=-10\n",
    "yd"
   ]
  },
  {
   "cell_type": "code",
   "execution_count": null,
   "id": "2881de0f-8b6c-4478-8b63-f95df57224d6",
   "metadata": {},
   "outputs": [],
   "source": [
    "sign2(xu)*sign2(xd)"
   ]
  },
  {
   "cell_type": "code",
   "execution_count": 346,
   "id": "8103ecc7-155e-4cd2-bff6-f2c3fc7e4fd9",
   "metadata": {},
   "outputs": [
    {
     "data": {
      "text/plain": [
       "array([0])"
      ]
     },
     "execution_count": 346,
     "metadata": {},
     "output_type": "execute_result"
    }
   ],
   "source": [
    "sign2=lambda a,b: np.sign(((a>=0).astype(int)-0.5)*((b>=0).astype(int)-0.5))\n",
    "np.where((sign2(xu,xd)>=0) & (xu<=xd) & (sign2(xu,xd)>=0) & (yu<=yd))[0]"
   ]
  },
  {
   "cell_type": "code",
   "execution_count": null,
   "id": "71ed3a9f-a328-43c3-b76e-1fe7d98618cd",
   "metadata": {},
   "outputs": [],
   "source": []
  },
  {
   "cell_type": "code",
   "execution_count": null,
   "id": "a4c66320-a47c-4bd2-be17-b5062f9417a1",
   "metadata": {},
   "outputs": [],
   "source": []
  },
  {
   "cell_type": "code",
   "execution_count": 275,
   "id": "a7ff8481-9393-4073-9c11-02ffbbe35eb1",
   "metadata": {},
   "outputs": [
    {
     "data": {
      "text/plain": [
       "array([ True,  True, False])"
      ]
     },
     "execution_count": 275,
     "metadata": {},
     "output_type": "execute_result"
    }
   ],
   "source": [
    "np.sign(xu*xd)>=0"
   ]
  },
  {
   "cell_type": "code",
   "execution_count": 274,
   "id": "7b1bb8db-d2aa-4e75-b9be-a2aba6cb8487",
   "metadata": {},
   "outputs": [
    {
     "data": {
      "text/plain": [
       "array([ True,  True,  True])"
      ]
     },
     "execution_count": 274,
     "metadata": {},
     "output_type": "execute_result"
    }
   ],
   "source": [
    "xu<=xd"
   ]
  },
  {
   "cell_type": "code",
   "execution_count": 273,
   "id": "510c27a8-29de-4ae9-b208-49bffd71f441",
   "metadata": {},
   "outputs": [
    {
     "data": {
      "text/plain": [
       "array([ True,  True,  True])"
      ]
     },
     "execution_count": 273,
     "metadata": {},
     "output_type": "execute_result"
    }
   ],
   "source": [
    "np.sign(yu*yd)>=0"
   ]
  },
  {
   "cell_type": "code",
   "execution_count": 272,
   "id": "d4fe968e-4d7f-45ab-a402-1626c8873529",
   "metadata": {},
   "outputs": [
    {
     "data": {
      "text/plain": [
       "array([ True,  True,  True])"
      ]
     },
     "execution_count": 272,
     "metadata": {},
     "output_type": "execute_result"
    }
   ],
   "source": [
    "yu<=yd"
   ]
  },
  {
   "cell_type": "code",
   "execution_count": 258,
   "id": "fee57be2-bd40-4e09-9838-5ceb7bddf047",
   "metadata": {},
   "outputs": [
    {
     "data": {
      "text/plain": [
       "array([ 20, -80, -80])"
      ]
     },
     "execution_count": 258,
     "metadata": {},
     "output_type": "execute_result"
    }
   ],
   "source": [
    "(initPx[0]-lane_x[:,0])"
   ]
  },
  {
   "cell_type": "code",
   "execution_count": 255,
   "id": "cc393426-8bbd-4f44-8215-0ac70c5770a0",
   "metadata": {},
   "outputs": [
    {
     "data": {
      "text/plain": [
       "array([200,   0, 100])"
      ]
     },
     "execution_count": 255,
     "metadata": {},
     "output_type": "execute_result"
    }
   ],
   "source": [
    "np.diff(lane_x).T[0]"
   ]
  },
  {
   "cell_type": "code",
   "execution_count": 261,
   "id": "f6c197b3-e94c-4c28-ad64-a0658da76f1e",
   "metadata": {},
   "outputs": [
    {
     "data": {
      "text/plain": [
       "array([ True,  True, False])"
      ]
     },
     "execution_count": 261,
     "metadata": {},
     "output_type": "execute_result"
    }
   ],
   "source": [
    "(initPx[0]-lane_x[:,0])*np.diff(lane_x).T[0]>=0"
   ]
  },
  {
   "cell_type": "code",
   "execution_count": null,
   "id": "a78cd6a9-fe09-4a61-9c8b-2eeac6155ad5",
   "metadata": {},
   "outputs": [],
   "source": [
    "np.sign()"
   ]
  },
  {
   "cell_type": "code",
   "execution_count": 254,
   "id": "db470fed-2159-4581-a13a-02a24eeed78c",
   "metadata": {},
   "outputs": [
    {
     "data": {
      "text/plain": [
       "array([ True,  True,  True])"
      ]
     },
     "execution_count": 254,
     "metadata": {},
     "output_type": "execute_result"
    }
   ],
   "source": [
    "(initPx[0]-lane_x[:,0])<np.diff(lane_x).T[0]"
   ]
  },
  {
   "cell_type": "code",
   "execution_count": 239,
   "id": "ec9bbb3d-a98b-4d04-8273-946447a72e0b",
   "metadata": {},
   "outputs": [
    {
     "data": {
      "text/plain": [
       "array([[-20, 180],\n",
       "       [ 80,  80],\n",
       "       [ 80, 180]])"
      ]
     },
     "execution_count": 239,
     "metadata": {},
     "output_type": "execute_result"
    }
   ],
   "source": [
    "lane_x-initPx[0]"
   ]
  },
  {
   "cell_type": "code",
   "execution_count": 123,
   "id": "14d22477-2023-4f34-bed4-6e9e370bb450",
   "metadata": {},
   "outputs": [
    {
     "data": {
      "text/plain": [
       "array([[ 2.000000e+02,  2.000000e+02,  5.000000e+00, -5.000000e+00,\n",
       "         1.000000e+02,  1.000000e+02,  0.000000e+00,  0.000000e+00,\n",
       "         5.000000e+00, -5.000000e+00,  0.000000e+00,  0.000000e+00],\n",
       "       [-5.000000e+00,  5.000000e+00,  2.000000e+02,  2.000000e+02,\n",
       "        -5.000000e+00,  5.000000e+00, -5.000000e+00,  5.000000e+00,\n",
       "        -3.061617e-16,  3.061617e-16, -5.000000e+00,  5.000000e+00]])"
      ]
     },
     "execution_count": 123,
     "metadata": {},
     "output_type": "execute_result"
    }
   ],
   "source": [
    "np.array(rotXY3).reshape(len(lane_x)*4,2).T"
   ]
  },
  {
   "cell_type": "code",
   "execution_count": 107,
   "id": "73814c7f-6f5e-4b14-838f-301fc17ed5f3",
   "metadata": {},
   "outputs": [
    {
     "data": {
      "text/plain": [
       "array([[[ 200.,  200.],\n",
       "        [  -5.,    5.]],\n",
       "\n",
       "       [[  -5.,    5.],\n",
       "        [-200., -200.]],\n",
       "\n",
       "       [[ 100.,  100.],\n",
       "        [  -5.,    5.]]])"
      ]
     },
     "execution_count": 107,
     "metadata": {},
     "output_type": "execute_result"
    }
   ],
   "source": [
    "np.array(rotXY3)"
   ]
  },
  {
   "cell_type": "code",
   "execution_count": 138,
   "id": "ed315693-bd36-49a0-bb6d-dfb810d65df2",
   "metadata": {},
   "outputs": [
    {
     "data": {
      "text/plain": [
       "3"
      ]
     },
     "execution_count": 138,
     "metadata": {},
     "output_type": "execute_result"
    }
   ],
   "source": [
    "len(rotXY)"
   ]
  },
  {
   "cell_type": "code",
   "execution_count": 87,
   "id": "266a6b6c-519c-4bc6-83e7-8a10e04eb4bc",
   "metadata": {},
   "outputs": [
    {
     "data": {
      "text/plain": [
       "6"
      ]
     },
     "execution_count": 87,
     "metadata": {},
     "output_type": "execute_result"
    }
   ],
   "source": [
    "len(rotXY+rotXY2)"
   ]
  },
  {
   "cell_type": "code",
   "execution_count": 103,
   "id": "b6593714-5c3c-4516-95eb-c71ba22e3f74",
   "metadata": {},
   "outputs": [
    {
     "data": {
      "text/plain": [
       "12"
      ]
     },
     "execution_count": 103,
     "metadata": {},
     "output_type": "execute_result"
    }
   ],
   "source": [
    "len(lane_x)*4"
   ]
  },
  {
   "cell_type": "code",
   "execution_count": 98,
   "id": "8eefb3f6-d77c-4a86-97bf-7789ad7d98af",
   "metadata": {},
   "outputs": [
    {
     "data": {
      "text/plain": [
       "array([[  -5.,    5.],\n",
       "       [-200., -200.]])"
      ]
     },
     "execution_count": 98,
     "metadata": {},
     "output_type": "execute_result"
    }
   ],
   "source": [
    "k=1\n",
    "v=rotXY[k]\n",
    "th=angL[k]\n",
    "np.dot(Rot(th).reshape(2,2),v.T)"
   ]
  },
  {
   "cell_type": "code",
   "execution_count": 99,
   "id": "fdba6076-bf55-41c5-b847-85a1054be75b",
   "metadata": {},
   "outputs": [
    {
     "data": {
      "text/plain": [
       "array([[ 6.123234e-17,  1.000000e+00],\n",
       "       [-1.000000e+00,  6.123234e-17]])"
      ]
     },
     "execution_count": 99,
     "metadata": {},
     "output_type": "execute_result"
    }
   ],
   "source": [
    "Rot(th).reshape(2,2)"
   ]
  },
  {
   "cell_type": "code",
   "execution_count": 100,
   "id": "f019cb10-6bfa-4905-ac62-18a28ecf1480",
   "metadata": {},
   "outputs": [
    {
     "data": {
      "text/plain": [
       "array([[200., 200.],\n",
       "       [ -5.,   5.]])"
      ]
     },
     "execution_count": 100,
     "metadata": {},
     "output_type": "execute_result"
    }
   ],
   "source": [
    "v.T"
   ]
  },
  {
   "cell_type": "code",
   "execution_count": 59,
   "id": "44e000a0-00d5-4712-9c79-e02e95971dfb",
   "metadata": {},
   "outputs": [
    {
     "ename": "ValueError",
     "evalue": "shapes (2,2,1) and (2,1) not aligned: 1 (dim 2) != 2 (dim 0)",
     "output_type": "error",
     "traceback": [
      "\u001b[0;31m---------------------------------------------------------------------------\u001b[0m",
      "\u001b[0;31mValueError\u001b[0m                                Traceback (most recent call last)",
      "Cell \u001b[0;32mIn[59], line 2\u001b[0m\n\u001b[1;32m      1\u001b[0m angL\u001b[38;5;241m=\u001b[39m[np\u001b[38;5;241m.\u001b[39marctan2(np\u001b[38;5;241m.\u001b[39mdiff(y),np\u001b[38;5;241m.\u001b[39mdiff(x)) \u001b[38;5;28;01mfor\u001b[39;00m x,y \u001b[38;5;129;01min\u001b[39;00m \u001b[38;5;28mzip\u001b[39m(lane_x,lane_y)]\n\u001b[0;32m----> 2\u001b[0m angL\u001b[38;5;241m=\u001b[39m[np\u001b[38;5;241m.\u001b[39mdot(Rot(\u001b[38;5;241m-\u001b[39mnp\u001b[38;5;241m.\u001b[39marctan2(np\u001b[38;5;241m.\u001b[39mdiff(y),np\u001b[38;5;241m.\u001b[39mdiff(x))),[np\u001b[38;5;241m.\u001b[39mdiff(y),np\u001b[38;5;241m.\u001b[39mdiff(x)]) \u001b[38;5;28;01mfor\u001b[39;00m x,y \u001b[38;5;129;01min\u001b[39;00m \u001b[38;5;28mzip\u001b[39m(lane_x,lane_y)]\n\u001b[1;32m      3\u001b[0m \u001b[38;5;66;03m# [Rot(-a) for a in angL]\u001b[39;00m\n",
      "Cell \u001b[0;32mIn[59], line 2\u001b[0m, in \u001b[0;36m<listcomp>\u001b[0;34m(.0)\u001b[0m\n\u001b[1;32m      1\u001b[0m angL\u001b[38;5;241m=\u001b[39m[np\u001b[38;5;241m.\u001b[39marctan2(np\u001b[38;5;241m.\u001b[39mdiff(y),np\u001b[38;5;241m.\u001b[39mdiff(x)) \u001b[38;5;28;01mfor\u001b[39;00m x,y \u001b[38;5;129;01min\u001b[39;00m \u001b[38;5;28mzip\u001b[39m(lane_x,lane_y)]\n\u001b[0;32m----> 2\u001b[0m angL\u001b[38;5;241m=\u001b[39m[\u001b[43mnp\u001b[49m\u001b[38;5;241;43m.\u001b[39;49m\u001b[43mdot\u001b[49m\u001b[43m(\u001b[49m\u001b[43mRot\u001b[49m\u001b[43m(\u001b[49m\u001b[38;5;241;43m-\u001b[39;49m\u001b[43mnp\u001b[49m\u001b[38;5;241;43m.\u001b[39;49m\u001b[43marctan2\u001b[49m\u001b[43m(\u001b[49m\u001b[43mnp\u001b[49m\u001b[38;5;241;43m.\u001b[39;49m\u001b[43mdiff\u001b[49m\u001b[43m(\u001b[49m\u001b[43my\u001b[49m\u001b[43m)\u001b[49m\u001b[43m,\u001b[49m\u001b[43mnp\u001b[49m\u001b[38;5;241;43m.\u001b[39;49m\u001b[43mdiff\u001b[49m\u001b[43m(\u001b[49m\u001b[43mx\u001b[49m\u001b[43m)\u001b[49m\u001b[43m)\u001b[49m\u001b[43m)\u001b[49m\u001b[43m,\u001b[49m\u001b[43m[\u001b[49m\u001b[43mnp\u001b[49m\u001b[38;5;241;43m.\u001b[39;49m\u001b[43mdiff\u001b[49m\u001b[43m(\u001b[49m\u001b[43my\u001b[49m\u001b[43m)\u001b[49m\u001b[43m,\u001b[49m\u001b[43mnp\u001b[49m\u001b[38;5;241;43m.\u001b[39;49m\u001b[43mdiff\u001b[49m\u001b[43m(\u001b[49m\u001b[43mx\u001b[49m\u001b[43m)\u001b[49m\u001b[43m]\u001b[49m\u001b[43m)\u001b[49m \u001b[38;5;28;01mfor\u001b[39;00m x,y \u001b[38;5;129;01min\u001b[39;00m \u001b[38;5;28mzip\u001b[39m(lane_x,lane_y)]\n\u001b[1;32m      3\u001b[0m \u001b[38;5;66;03m# [Rot(-a) for a in angL]\u001b[39;00m\n",
      "File \u001b[0;32m<__array_function__ internals>:180\u001b[0m, in \u001b[0;36mdot\u001b[0;34m(*args, **kwargs)\u001b[0m\n",
      "\u001b[0;31mValueError\u001b[0m: shapes (2,2,1) and (2,1) not aligned: 1 (dim 2) != 2 (dim 0)"
     ]
    }
   ],
   "source": [
    "angL=[np.arctan2(np.diff(y),np.diff(x)) for x,y in zip(lane_x,lane_y)]\n",
    "angL=[np.dot(Rot(-np.arctan2(np.diff(y),np.diff(x))),[np.diff(y),np.diff(x)]) for x,y in zip(lane_x,lane_y)]\n",
    "# [Rot(-a) for a in angL]"
   ]
  },
  {
   "cell_type": "code",
   "execution_count": null,
   "id": "345fda80-2063-47e6-8238-7c43cc564f9d",
   "metadata": {},
   "outputs": [],
   "source": [
    "figNum=17\n",
    "maxR=[-100,100]\n",
    "fig = plt.figure(figNum)\n",
    "\n",
    "Moby=np.array(3*[-0.6, 0.6,   1,    1, 0.75,-0.75,   -1,  -1,-0.6,0.6;1.75,1.75,0.75,-1.25,-1.55,-1.55,-1.25,0.75,1.75,1.75];      \n",
    "Rot=@(t) [cos(t),-sin(t); sin(t),cos(t)];\n",
    "cLen=abs(min(Moby(2,:))-max(Moby(2,:)));\n",
    "\n",
    "fig.clear()\n",
    "plt.cla()\n",
    "plot_frames = []\n",
    "\n",
    "v_planning_x=np.array([[-80,80],[ 0,0]])\n",
    "v_planning_y=np.array([[0,0],[-80,80]])\n",
    "tP=0\n",
    "\n",
    "cPx=v_planning_x[:,1]*tP+v_planning_x[:,0]*[1-tP]\n",
    "cPy=v_planning_y[:,1]*tP+v_planning_y[:,0]*[1-tP]\n",
    "\n",
    "roadLabel=['road1','road2','road3'];\n",
    "vehi_Label=['vehicle1','vehicle2'];\n",
    "all_Lable=roadLabel+vehi_Label\n",
    "\n",
    "mapDx=np.array([[-100,100],[0,0],[0,100]])\n",
    "mapDy=np.array([[0,0],[-100,100],[80,80]])\n",
    "\n",
    "# plt.plot(mapDx.T,mapDy.T,'-',linewidth=2)\n",
    "\n",
    "simT=100\n",
    "NofC=2\n",
    "\n",
    "def plotP(i2):\n",
    "    plt.cla() \n",
    "    plt.plot(mapDx.T,mapDy.T,'-',linewidth=2)\n",
    "    tP=i2/simT\n",
    "    tmpx=np.dot(v_planning_x,np.array([1-tP,tP]))\n",
    "    tmpy=np.dot(v_planning_y,np.array([1-tP,tP]))\n",
    "\n",
    "    each_plot=[plt.plot(x,y,'.',markersize=20) for x,y in zip(tmpx,tmpy)]\n",
    "    plot_frames.append(each_plot)\n",
    "\n",
    "animatedP = animation.FuncAnimation(fig, plotP, interval=100,frames = 20, repeat=False)\n",
    "# animatedP = animation.FuncAnimation(fig, plotP, interval=100,frames = 20)\n",
    "\n",
    "plt.show()\n",
    "\n",
    "fig.legend(all_Lable)"
   ]
  },
  {
   "cell_type": "code",
   "execution_count": 37,
   "id": "9b0a503f-d3ce-455e-8ae7-6bc32c87d429",
   "metadata": {},
   "outputs": [
    {
     "data": {
      "text/plain": [
       "array([78.4,  0. ])"
      ]
     },
     "execution_count": 37,
     "metadata": {},
     "output_type": "execute_result"
    }
   ],
   "source": []
  },
  {
   "cell_type": "code",
   "execution_count": 30,
   "id": "c046bb1d-f5c9-4347-949f-931c262f866e",
   "metadata": {},
   "outputs": [
    {
     "data": {
      "text/plain": [
       "[[<matplotlib.lines.Line2D at 0x30a1a0bb0>],\n",
       " [<matplotlib.lines.Line2D at 0x30a1a2290>]]"
      ]
     },
     "execution_count": 30,
     "metadata": {},
     "output_type": "execute_result"
    }
   ],
   "source": [
    "tmpx=np.dot(v_planning_x,np.array([1-tP,tP]))\n",
    "tmpy=np.dot(v_planning_y,np.array([1-tP,tP]))\n",
    "tmpx\n",
    "[plt.plot(x,y,'.',markersize=20) for x,y in zip(tmpx,tmpy)]"
   ]
  },
  {
   "cell_type": "code",
   "execution_count": 22,
   "id": "a4bbc8e6-55cd-44ab-b4c3-ceba96c52315",
   "metadata": {},
   "outputs": [
    {
     "ename": "AttributeError",
     "evalue": "'list' object has no attribute 'T'",
     "output_type": "error",
     "traceback": [
      "\u001b[0;31m---------------------------------------------------------------------------\u001b[0m",
      "\u001b[0;31mAttributeError\u001b[0m                            Traceback (most recent call last)",
      "Cell \u001b[0;32mIn[22], line 1\u001b[0m\n\u001b[0;32m----> 1\u001b[0m \u001b[43m[\u001b[49m\u001b[43mv_planning_x\u001b[49m\u001b[43m]\u001b[49m\u001b[38;5;241;43m.\u001b[39;49m\u001b[43mT\u001b[49m\n",
      "\u001b[0;31mAttributeError\u001b[0m: 'list' object has no attribute 'T'"
     ]
    }
   ],
   "source": [
    "[v_planning_x].T"
   ]
  },
  {
   "cell_type": "code",
   "execution_count": 25,
   "id": "698855cb-c172-4059-9daa-c5f5742b42e2",
   "metadata": {},
   "outputs": [
    {
     "data": {
      "text/plain": [
       "array([[-80,  80],\n",
       "       [  0,   0]])"
      ]
     },
     "execution_count": 25,
     "metadata": {},
     "output_type": "execute_result"
    }
   ],
   "source": []
  },
  {
   "cell_type": "code",
   "execution_count": 16,
   "id": "07c4aa2e-c099-4971-84b7-7335f0a78675",
   "metadata": {},
   "outputs": [
    {
     "data": {
      "text/plain": [
       "[1, 0]"
      ]
     },
     "execution_count": 16,
     "metadata": {},
     "output_type": "execute_result"
    }
   ],
   "source": [
    "[[1-tP,tP]].T"
   ]
  },
  {
   "cell_type": "code",
   "execution_count": null,
   "id": "7adb26ed-9b50-4222-bf1f-0d1d63c1528b",
   "metadata": {},
   "outputs": [],
   "source": [
    "https://numpy.org/doc/2.1/reference/generated/numpy.dot.html\n",
    "https://numpy.org/doc/2.1/reference/generated/numpy.matmul.html#numpy.matmul"
   ]
  },
  {
   "cell_type": "code",
   "execution_count": null,
   "id": "511a2587-f0f5-4164-ae2a-8a881ac74846",
   "metadata": {},
   "outputs": [],
   "source": [
    "https://qiita.com/Yuu-Miino/items/ae7d9c78bc2dff6c9a51"
   ]
  },
  {
   "cell_type": "code",
   "execution_count": 27,
   "id": "fdd05840-9a5e-4ff9-89c2-2330b69e381b",
   "metadata": {},
   "outputs": [
    {
     "data": {
      "text/plain": [
       "0"
      ]
     },
     "execution_count": 27,
     "metadata": {},
     "output_type": "execute_result"
    }
   ],
   "source": [
    "np.dot(v_planning_x[1],np.array([1-tP,tP]))"
   ]
  },
  {
   "cell_type": "code",
   "execution_count": null,
   "id": "76a0ba83-6aac-4668-aac6-c6a1dcf814d9",
   "metadata": {},
   "outputs": [],
   "source": [
    "\n",
    "NofC=2;\n",
    "simT=100;\n",
    "vC=[50,40]; # %50km/h*1000(k)/3600(s)\n",
    "#% frate=0.1;\n",
    "frate=1\n",
    "\n",
    "v_planning_x=[-80,80; 0,0;];\n",
    "v_planning_y=[0,0;-80,80;];\n",
    "tP=0;\n",
    "\n",
    "cPx=v_planning_x(:,2).*tP+v_planning_x(:,1).*(1-tP);\n",
    "cPy=v_planning_y(:,2).*tP+v_planning_y(:,1).*(1-tP);\n",
    "\n",
    "roadLabel={'road1','road2','road3'};\n",
    "vehi_Label={'vehicle1','vehicle2'};\n",
    "all_Lable=roadLabel;\n",
    "all_Lable(end+1:end+length(vehi_Label))=vehi_Label;\n",
    "\n",
    "mapDx=np.array([[-100,100],[0,0],[0,100]])\n",
    "mapDy=np.array([[0,0],[-100,100],[80,80]])\n",
    "\n",
    "plot(mapDx',mapDy','LineWidth',2),hold on;\n",
    "\n",
    "vehiP={};\n",
    "for i=1:NofC\n",
    "    vehiP{i}=plot(cPx(i)',cPy(i)','.','Color',myCol(i,:),'MarkerSize',50);\n",
    "end\n",
    "\n",
    "legend(all_Lable);\n",
    "grid on;\n",
    "axis equal;\n",
    "tPv=repmat(tP,[1,2]);\n",
    "\n",
    "for i2=1:simT\n",
    "% %     tPv=tPv+(vC*1000/3600).*frate;\n",
    "    tP=i2/simT;\n",
    "    tPv=repmat(tP,[1,2]);\n",
    "    tmpx=diag(v_planning_x*[(1-tPv);tPv]);\n",
    "    tmpy=diag(v_planning_y*[(1-tPv);tPv]);\n",
    "    \n",
    "    for i=1:NofC\n",
    "        set(vehiP{i},'XData',tmpx(i),'YData',tmpy(i));\n",
    "    end\n",
    "%     pause(0.1);\n",
    "    drawnow;\n",
    "end\n"
   ]
  },
  {
   "cell_type": "code",
   "execution_count": null,
   "id": "a2bb4c05-9ccc-40d5-bf16-e7103ef0fbe3",
   "metadata": {},
   "outputs": [],
   "source": []
  },
  {
   "cell_type": "code",
   "execution_count": null,
   "id": "f7bd0274-5c36-41fb-b5db-bb54f3561925",
   "metadata": {},
   "outputs": [],
   "source": []
  },
  {
   "cell_type": "code",
   "execution_count": null,
   "id": "32cd5a00-2d00-4991-a501-1467f3c7f0ac",
   "metadata": {},
   "outputs": [],
   "source": []
  },
  {
   "cell_type": "code",
   "execution_count": null,
   "id": "781be1fc-dbb1-4382-be02-e88b2cb3031f",
   "metadata": {},
   "outputs": [],
   "source": []
  }
 ],
 "metadata": {
  "kernelspec": {
   "display_name": "Python 3 (ipykernel)",
   "language": "python",
   "name": "python3"
  },
  "language_info": {
   "codemirror_mode": {
    "name": "ipython",
    "version": 3
   },
   "file_extension": ".py",
   "mimetype": "text/x-python",
   "name": "python",
   "nbconvert_exporter": "python",
   "pygments_lexer": "ipython3",
   "version": "3.10.11"
  }
 },
 "nbformat": 4,
 "nbformat_minor": 5
}
