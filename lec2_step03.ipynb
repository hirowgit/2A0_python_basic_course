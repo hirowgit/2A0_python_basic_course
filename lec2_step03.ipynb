{
 "cells": [
  {
   "cell_type": "code",
   "execution_count": 2,
   "id": "73a97c6c",
   "metadata": {},
   "outputs": [],
   "source": [
    "## Python basics for novice data scientists, supported by Wagatsuma Lab@Kyutech \n",
    "#\n",
    "# The MIT License (MIT): Copyright (c) 2020 Hiroaki Wagatsuma and Wagatsuma Lab@Kyutech\n",
    "# \n",
    "# Permission is hereby granted, free of charge, to any person obtaining a copy of this software and associated documentation files (the \"Software\"), to deal in the Software without restriction, including without limitation the rights to use, copy, modify, merge, publish, distribute, sublicense, and/or sell copies of the Software, and to permit persons to whom the Software is furnished to do so, subject to the following conditions:\n",
    "# The above copyright notice and this permission notice shall be included in all copies or substantial portions of the Software.\n",
    "# THE SOFTWARE IS PROVIDED \"AS IS\", WITHOUT WARRANTY OF ANY KIND, EXPRESS OR IMPLIED, INCLUDING BUT NOT LIMITED TO THE WARRANTIES OF MERCHANTABILITY, FITNESS FOR A PARTICULAR PURPOSE AND NONINFRINGEMENT. IN NO EVENT SHALL THE AUTHORS OR COPYRIGHT HOLDERS BE LIABLE FOR ANY CLAIM, DAMAGES OR OTHER LIABILITY, WHETHER IN AN ACTION OF CONTRACT, TORT OR OTHERWISE, ARISING FROM, OUT OF OR IN CONNECTION WITH THE SOFTWARE OR THE USE OR OTHER DEALINGS IN THE SOFTWARE. */\n",
    "#\n",
    "# # @Time    : 2022-12-29 \n",
    "# # @Author  : Hiroaki Wagatsuma\n",
    "# # @Site    : https://github.com/hirowgit/2A_python_basic_course\n",
    "# # @IDE     : Python 3.9.16 (main, Dec  7 2022, 10:15:43) [Clang 14.0.0 (clang-1400.0.29.202)] on darwin\n",
    "# # @File    : lec2_step03.py "
   ]
  },
  {
   "cell_type": "code",
   "execution_count": 1,
   "id": "3628309b",
   "metadata": {},
   "outputs": [],
   "source": [
    "# module test: if you have an error when you run this code, \n",
    "# you need to check the installation status of those modules\n",
    "\n",
    "import math \n",
    "import sys \n",
    "import numpy as np\n",
    "import pandas as pd\n",
    "import matplotlib.pyplot as plt\n",
    "import tkinter as tk"
   ]
  },
  {
   "cell_type": "code",
   "execution_count": 4,
   "id": "67f3cd33",
   "metadata": {},
   "outputs": [],
   "source": [
    "import matplotlib.pyplot as plt\n",
    "%matplotlib tk"
   ]
  },
  {
   "cell_type": "code",
   "execution_count": null,
   "id": "c170f483",
   "metadata": {},
   "outputs": [],
   "source": [
    "# References:\n",
    "# https://matplotlib.org/stable/gallery/animation/pause_resume.html\n",
    "# https://qiita.com/yubais/items/c95ba9ff1b23dd33fde2"
   ]
  },
  {
   "cell_type": "code",
   "execution_count": 2,
   "id": "d44a9b6b",
   "metadata": {},
   "outputs": [
    {
     "data": {
      "text/plain": [
       "array([[-0.9207528 , -0.26992677, -0.03973784],\n",
       "       [ 1.95619794, -1.41295288, -0.06628662],\n",
       "       [-1.19102872,  0.29574437,  0.13508419]])"
      ]
     },
     "execution_count": 2,
     "metadata": {},
     "output_type": "execute_result"
    }
   ],
   "source": [
    "np.random.randn(3,3)"
   ]
  },
  {
   "cell_type": "code",
   "execution_count": 3,
   "id": "f9301eed",
   "metadata": {},
   "outputs": [
    {
     "name": "stdout",
     "output_type": "stream",
     "text": [
      "[[0.63368371 0.75166325 0.47211407 0.84045716 0.03354997]\n",
      " [0.73557449 0.89278657 0.72630977 0.84453236 0.43753909]\n",
      " [0.7556837  0.83637158 0.25783322 0.6046913  0.43705905]\n",
      " [0.08397804 0.49734214 0.05831391 0.49672861 0.27931139]\n",
      " [0.95080304 0.30165068 0.01631254 0.32498166 0.55812748]]\n",
      "-\n",
      "0.8927865676129588\n"
     ]
    }
   ],
   "source": [
    "a=np.random.rand(5,5)\n",
    "print(a)\n",
    "print('-')\n",
    "print(a[1,1])"
   ]
  },
  {
   "cell_type": "code",
   "execution_count": 5,
   "id": "9578c6c3",
   "metadata": {},
   "outputs": [],
   "source": [
    "import numpy as np\n",
    "import matplotlib.pyplot as plt\n",
    "import matplotlib.animation as animation\n",
    "\n",
    "figNum=10\n",
    "NofD=20\n",
    "NofD=5\n",
    "maxR=np.array([0,1])\n",
    "\n",
    "fig = plt.figure(figNum)\n",
    "plot_frames = []\n",
    "\n",
    "plt.xticks(np.arange(maxR[0], maxR[1]+0.2, 0.2))\n",
    "plt.yticks(np.arange(maxR[0], maxR[1]+0.2, 0.2))\n",
    "plt.axis('equal')\n",
    "plt.xlim(maxR)   # range in x axis\n",
    "plt.ylim(maxR)     # range in x axis\n",
    "\n",
    "for i in range(NofD):\n",
    "        randPos = np.random.rand(NofD,NofD)     #  NofD x NofD points are generated randomly\n",
    "        each_plot = plt.plot(randPos[0],randPos[1],'.',markersize=14)  # save the plot into a frame\n",
    "        plot_frames.append(each_plot)                  # append the frame to array\n",
    "\n",
    "# showing N  frames of plot every 1000ms \n",
    "animatedP = animation.ArtistAnimation(fig, plot_frames, interval=1000)\n",
    "plt.show()\n"
   ]
  },
  {
   "cell_type": "code",
   "execution_count": 6,
   "id": "f3684b68",
   "metadata": {},
   "outputs": [
    {
     "data": {
      "text/plain": [
       "<Figure size 360x360 with 0 Axes>"
      ]
     },
     "metadata": {},
     "output_type": "display_data"
    },
    {
     "data": {
      "image/png": "[encoded data removed]",
      "text/plain": [
       "<Figure size 432x288 with 1 Axes>"
      ]
     },
     "metadata": {
      "needs_background": "light"
     },
     "output_type": "display_data"
    }
   ],
   "source": [
    "import numpy as np\n",
    "import matplotlib.pyplot as plt\n",
    "import matplotlib.animation as animation\n",
    "\n",
    "maxR=np.array([0,1])\n",
    "\n",
    "figNum=11\n",
    "fig = plt.figure(figNum,figsize = (5, 5))\n",
    "\n",
    "def plotP(frame_id):\n",
    "    plt.cla()                      #  clearn-up the current plot\n",
    "#     plt.axis('equal')    \n",
    "    plt.xticks(np.arange(maxR[0], maxR[1]+0.2, 0.2))\n",
    "    plt.yticks(np.arange(maxR[0], maxR[1]+0.2, 0.2))\n",
    "\n",
    "    plt.xlim(maxR)   # range in x axis\n",
    "    plt.ylim(maxR)     # range in x axis\n",
    "\n",
    "    \n",
    "    randPos = np.random.rand(NofD,NofD)     #  NofD x NofD points are generated randomly\n",
    "    each_plot = plt.plot(randPos[0],randPos[1],'.',markersize=14)                       # save the plot into a frame\n",
    "    plot_frames.append(each_plot)                  # append the frame to array\n",
    "    plt.title(frame_id)\n",
    "\n",
    "\n",
    "animatedP = animation.FuncAnimation(fig, plotP, interval=100)\n",
    "plt.show()\n",
    "\n",
    "animatedP.save('anime'+str(figNum)+'.gif', writer = 'imagemagick')"
   ]
  },
  {
   "cell_type": "code",
   "execution_count": 7,
   "id": "c57a2f95",
   "metadata": {},
   "outputs": [
    {
     "data": {
      "text/plain": [
       "<Figure size 360x360 with 0 Axes>"
      ]
     },
     "metadata": {},
     "output_type": "display_data"
    },
    {
     "data": {
      "image/png": "[encoded data removed]",
      "text/plain": [
       "<Figure size 432x288 with 1 Axes>"
      ]
     },
     "metadata": {
      "needs_background": "light"
     },
     "output_type": "display_data"
    }
   ],
   "source": [
    "import numpy as np\n",
    "import matplotlib.pyplot as plt\n",
    "import matplotlib.animation as animation\n",
    "\n",
    "maxR=np.array([0,1])\n",
    "\n",
    "figNum=12\n",
    "fig = plt.figure(figNum,figsize = (5, 5))\n",
    "\n",
    "def plotP(frame_id):\n",
    "    plt.cla()                      #  clearn-up the current plot\n",
    "#     plt.axis('equal')    \n",
    "    plt.xticks(np.arange(maxR[0], maxR[1]+0.2, 0.2))\n",
    "    plt.yticks(np.arange(maxR[0], maxR[1]+0.2, 0.2))\n",
    "\n",
    "    plt.xlim(maxR)   # range in x axis\n",
    "    plt.ylim(maxR)     # range in x axis\n",
    "\n",
    "    \n",
    "    randPos = np.random.rand(NofD,NofD)     #  NofD x NofD points are generated randomly\n",
    "    each_plot = plt.plot(randPos[0],randPos[1],'.',markersize=14)                       # save the plot into a frame\n",
    "    plot_frames.append(each_plot)                  # append the frame to array\n",
    "    plt.title(frame_id)\n",
    "\n",
    "\n",
    "animatedP = animation.FuncAnimation(fig, plotP, interval=100,frames = 200)\n",
    "plt.show()\n",
    "\n",
    "animatedP.save('anime'+str(figNum)+'.gif', writer = 'imagemagick')"
   ]
  },
  {
   "cell_type": "code",
   "execution_count": 2,
   "id": "973aa338",
   "metadata": {},
   "outputs": [
    {
     "data": {
      "text/plain": [
       "<Figure size 360x360 with 0 Axes>"
      ]
     },
     "metadata": {},
     "output_type": "display_data"
    }
   ],
   "source": [
    "import numpy as np\n",
    "import matplotlib.pyplot as plt\n",
    "import matplotlib.animation as animation\n",
    "\n",
    "maxR=np.array([0,1])\n",
    "\n",
    "figNum=13\n",
    "fig = plt.figure(figNum,figsize = (5, 5))\n",
    "\n",
    "def plotP(frame_id,pramA,pramB):\n",
    "    plt.cla()                      #  clearn-up the current plot\n",
    "#     plt.axis('equal')    \n",
    "    plt.xticks(np.arange(maxR[0], maxR[1]+0.2, 0.2))\n",
    "    plt.yticks(np.arange(maxR[0], maxR[1]+0.2, 0.2))\n",
    "\n",
    "    plt.xlim(maxR)   # range in x axis\n",
    "    plt.ylim(maxR)     # range in x axis\n",
    "\n",
    "    \n",
    "    randPos = np.random.rand(NofD,NofD)     #  NofD x NofD points are generated randomly\n",
    "    each_plot = plt.plot(pramA*randPos[0],pramA*randPos[1],'.',markersize=14)                       # save the plot into a frame\n",
    "    plot_frames.append(each_plot)                  # append the frame to array\n",
    "    plt.title(pramB+': '+str(frame_id))\n",
    "\n",
    "\n",
    "pramA=0.5\n",
    "pramB='Random Points'\n",
    "animatedP = animation.FuncAnimation(fig, plotP, fargs = (pramA, pramB), interval=100)\n",
    "plt.show()\n",
    "\n",
    "# animatedP.save('anime'+str(figNum)+'.gif', writer = 'imagemagick')"
   ]
  },
  {
   "cell_type": "code",
   "execution_count": 7,
   "id": "932f1195",
   "metadata": {},
   "outputs": [],
   "source": [
    "import numpy as np\n",
    "import matplotlib.pyplot as plt\n",
    "import matplotlib.animation as animation\n",
    "\n",
    "NofD=4\n",
    "pStep=8\n",
    "maxR=np.array([-5,5])\n",
    "\n",
    "figNum=15\n",
    "fig = plt.figure(figNum,figsize = (5, 5))\n",
    "\n",
    "rotA=lambda th: [[np.cos(th), -np.sin(th)],[np.sin(th),np.cos(th)]]\n",
    "\n",
    "def plotP(frame_id,pramA,pramB):\n",
    "    plt.cla()                      #  clearn-up the current plot\n",
    "#     plt.axis('equal')    \n",
    "    plt.xticks(np.arange(maxR[0], maxR[1], 1))\n",
    "    plt.yticks(np.arange(maxR[0], maxR[1], 1))\n",
    "    plt.grid(color=[0.5,0.5,0.5], linestyle='-', linewidth=0.5)\n",
    "    plt.title(\"Points\")   # title of the plot\n",
    "    plt.xlabel(\"x\")      # label in x axis\n",
    "    plt.ylabel(\"y\")      # label in y axis\n",
    "\n",
    "    plt.xlim(maxR)   # range in x axis\n",
    "    plt.ylim(maxR)     # range in x axis\n",
    "\n",
    "    angD=frame_id/pStep*np.pi\n",
    "    dataD=pramA\n",
    "    dataD=np.dot(rotA(angD),dataD)\n",
    "    \n",
    "    randPos = np.random.rand(NofD,NofD)     #  NofD x NofD points are generated randomly\n",
    "    each_plot = plt.plot(dataD[0],dataD[1],'b.',markersize=14)                       # save the plot into a frame\n",
    "    node_plot = plt.plot(dataD[0][0],dataD[1][0],'r.',markersize=14)                       # save the plot into a frame\n",
    "    plot_frames.append(each_plot)                  # append the frame to array\n",
    "    \n",
    "    ang180=np.mod(angD/np.pi*180,360)\n",
    "    strD='{:02.1f}'.format(ang180)\n",
    "    plt.title(pramB+': '+strD)\n",
    "\n",
    "\n",
    "# dataD=np.array([[1, -1,-1,1],[1,1,-1,-1]])\n",
    "# dataD=np.dot(rotA(np.pi/4),dataD)\n",
    "\n",
    "pramA=np.array([[1, -1,-1,1],[1,1,-1,-1]])\n",
    "pramB='Angle'\n",
    "animatedP = animation.FuncAnimation(fig, plotP, fargs = (pramA, pramB), interval=1000,frames = 200)\n",
    "plt.show()\n",
    "\n",
    "animatedP.save('anime'+str(figNum)+'.gif', writer = 'imagemagick')"
   ]
  },
  {
   "cell_type": "code",
   "execution_count": null,
   "id": "7f13dcaa",
   "metadata": {},
   "outputs": [],
   "source": []
  }
 ],
 "metadata": {
  "kernelspec": {
   "display_name": "Python 3 (ipykernel)",
   "language": "python",
   "name": "python3"
  },
  "language_info": {
   "codemirror_mode": {
    "name": "ipython",
    "version": 3
   },
   "file_extension": ".py",
   "mimetype": "text/x-python",
   "name": "python",
   "nbconvert_exporter": "python",
   "pygments_lexer": "ipython3",
   "version": "3.10.11"
  }
 },
 "nbformat": 4,
 "nbformat_minor": 5
}
