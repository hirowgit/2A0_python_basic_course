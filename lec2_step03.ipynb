{
 "cells": [
  {
   "cell_type": "code",
   "execution_count": 1,
   "id": "73a97c6c",
   "metadata": {},
   "outputs": [],
   "source": [
    "## Python basics for novice data scientists, supported by Wagatsuma Lab@Kyutech \n",
    "#\n",
    "# The MIT License (MIT): Copyright (c) 2020 Hiroaki Wagatsuma and Wagatsuma Lab@Kyutech\n",
    "# \n",
    "# Permission is hereby granted, free of charge, to any person obtaining a copy of this software and associated documentation files (the \"Software\"), to deal in the Software without restriction, including without limitation the rights to use, copy, modify, merge, publish, distribute, sublicense, and/or sell copies of the Software, and to permit persons to whom the Software is furnished to do so, subject to the following conditions:\n",
    "# The above copyright notice and this permission notice shall be included in all copies or substantial portions of the Software.\n",
    "# THE SOFTWARE IS PROVIDED \"AS IS\", WITHOUT WARRANTY OF ANY KIND, EXPRESS OR IMPLIED, INCLUDING BUT NOT LIMITED TO THE WARRANTIES OF MERCHANTABILITY, FITNESS FOR A PARTICULAR PURPOSE AND NONINFRINGEMENT. IN NO EVENT SHALL THE AUTHORS OR COPYRIGHT HOLDERS BE LIABLE FOR ANY CLAIM, DAMAGES OR OTHER LIABILITY, WHETHER IN AN ACTION OF CONTRACT, TORT OR OTHERWISE, ARISING FROM, OUT OF OR IN CONNECTION WITH THE SOFTWARE OR THE USE OR OTHER DEALINGS IN THE SOFTWARE. */\n",
    "#\n",
    "# # @Time    : 2022-12-29 \n",
    "# # @Author  : Hiroaki Wagatsuma\n",
    "# # @Site    : https://github.com/hirowgit/2A_python_basic_course\n",
    "# # @IDE     : Python 3.9.16 (main, Dec  7 2022, 10:15:43) [Clang 14.0.0 (clang-1400.0.29.202)] on darwin\n",
    "# # @File    : lec2_step03.py "
   ]
  },
  {
   "cell_type": "code",
   "execution_count": 1,
   "id": "3628309b",
   "metadata": {},
   "outputs": [],
   "source": [
    "# module test: if you have an error when you run this code, \n",
    "# you need to check the installation status of those modules\n",
    "\n",
    "import math \n",
    "import sys \n",
    "import numpy as np\n",
    "import pandas as pd\n",
    "import matplotlib.pyplot as plt\n",
    "import matplotlib.animation as animation\n",
    "\n",
    "import tkinter as tk"
   ]
  },
  {
   "cell_type": "code",
   "execution_count": 2,
   "id": "67f3cd33",
   "metadata": {},
   "outputs": [],
   "source": [
    "import matplotlib.pyplot as plt\n",
    "%matplotlib tk"
   ]
  },
  {
   "cell_type": "code",
   "execution_count": 4,
   "id": "c170f483",
   "metadata": {},
   "outputs": [],
   "source": [
    "# References:\n",
    "# https://matplotlib.org/stable/gallery/animation/pause_resume.html\n",
    "# https://qiita.com/yubais/items/c95ba9ff1b23dd33fde2"
   ]
  },
  {
   "cell_type": "code",
   "execution_count": 3,
   "id": "d44a9b6b",
   "metadata": {},
   "outputs": [
    {
     "data": {
      "text/plain": [
       "array([[-1.43101722, -0.5288764 , -0.79520694],\n",
       "       [ 0.52171351, -0.42252011,  0.33131452],\n",
       "       [ 0.43283754, -1.10393478,  1.16268898]])"
      ]
     },
     "execution_count": 3,
     "metadata": {},
     "output_type": "execute_result"
    }
   ],
   "source": [
    "np.random.randn(3,3)"
   ]
  },
  {
   "cell_type": "code",
   "execution_count": 4,
   "id": "f9301eed",
   "metadata": {},
   "outputs": [
    {
     "name": "stdout",
     "output_type": "stream",
     "text": [
      "[[0.40952068 0.06167711 0.39854297 0.79022479 0.62797906]\n",
      " [0.2749292  0.62913523 0.87602546 0.81896538 0.02961105]\n",
      " [0.76605505 0.85420685 0.75859196 0.57755562 0.50852946]\n",
      " [0.77257478 0.93036308 0.90521603 0.33912855 0.64735726]\n",
      " [0.4708376  0.34069124 0.50246758 0.15272056 0.88957592]]\n",
      "-\n",
      "0.6291352317727321\n"
     ]
    }
   ],
   "source": [
    "a=np.random.rand(5,5)\n",
    "print(a)\n",
    "print('-')\n",
    "print(a[1,1])"
   ]
  },
  {
   "cell_type": "code",
   "execution_count": 5,
   "id": "9578c6c3",
   "metadata": {},
   "outputs": [
    {
     "name": "stderr",
     "output_type": "stream",
     "text": [
      "2025-02-01 22:04:15.064 Python[37105:47441343] +[IMKClient subclass]: chose IMKClient_Legacy\n",
      "2025-02-01 22:04:15.064 Python[37105:47441343] +[IMKInputSession subclass]: chose IMKInputSession_Legacy\n"
     ]
    }
   ],
   "source": [
    "import numpy as np\n",
    "import matplotlib.pyplot as plt\n",
    "import matplotlib.animation as animation\n",
    "\n",
    "figNum=10\n",
    "NofD=20\n",
    "NofD=5\n",
    "maxR=np.array([0,1])\n",
    "\n",
    "fig = plt.figure(figNum)\n",
    "plot_frames = []\n",
    "\n",
    "plt.xticks(np.arange(maxR[0], maxR[1]+0.2, 0.2))\n",
    "plt.yticks(np.arange(maxR[0], maxR[1]+0.2, 0.2))\n",
    "plt.axis('equal')\n",
    "plt.xlim(maxR)   # range in x axis\n",
    "plt.ylim(maxR)     # range in x axis\n",
    "\n",
    "for i in range(NofD):\n",
    "        randPos = np.random.rand(NofD,NofD)     #  NofD x NofD points are generated randomly\n",
    "        each_plot = plt.plot(randPos[0],randPos[1],'.',markersize=14)  # save the plot into a frame\n",
    "        plot_frames.append(each_plot)                  # append the frame to array\n",
    "\n",
    "# showing N  frames of plot every 1000ms \n",
    "animatedP = animation.ArtistAnimation(fig, plot_frames, interval=1000)\n",
    "plt.show()\n"
   ]
  },
  {
   "cell_type": "code",
   "execution_count": null,
   "id": "f3684b68",
   "metadata": {},
   "outputs": [
    {
     "name": "stderr",
     "output_type": "stream",
     "text": [
      "/var/folders/mg/w5t8lkhc8xj79f001s7kzpfh0000gp/T/ipykernel_36991/2860197164.py:26: UserWarning: frames=None which we can infer the length of, did not pass an explicit *save_count* and passed cache_frame_data=True.  To avoid a possibly unbounded cache, frame data caching has been disabled. To suppress this warning either pass `cache_frame_data=False` or `save_count=MAX_FRAMES`.\n",
      "  animatedP = animation.FuncAnimation(fig, plotP, interval=100)\n",
      "/Library/Frameworks/Python.framework/Versions/3.10/lib/python3.10/site-packages/matplotlib/animation.py:872: UserWarning: Animation was deleted without rendering anything. This is most likely not intended. To prevent deletion, assign the Animation to a variable, e.g. `anim`, that exists until you output the Animation using `plt.show()` or `anim.save()`.\n",
      "  warnings.warn(\n"
     ]
    },
    {
     "data": {
      "text/plain": [
       "<Figure size 500x500 with 0 Axes>"
      ]
     },
     "metadata": {},
     "output_type": "display_data"
    },
    {
     "name": "stderr",
     "output_type": "stream",
     "text": [
      "MovieWriter imagemagick unavailable; using Pillow instead.\n"
     ]
    }
   ],
   "source": [
    "import numpy as np\n",
    "import matplotlib.pyplot as plt\n",
    "import matplotlib.animation as animation\n",
    "\n",
    "maxR=np.array([0,1])\n",
    "\n",
    "figNum=11\n",
    "fig = plt.figure(figNum,figsize = (5, 5))\n",
    "\n",
    "def plotP(frame_id):\n",
    "    plt.cla()                      #  clearn-up the current plot\n",
    "#     plt.axis('equal')    \n",
    "    plt.xticks(np.arange(maxR[0], maxR[1]+0.2, 0.2))\n",
    "    plt.yticks(np.arange(maxR[0], maxR[1]+0.2, 0.2))\n",
    "\n",
    "    plt.xlim(maxR)   # range in x axis\n",
    "    plt.ylim(maxR)     # range in x axis\n",
    "\n",
    "    \n",
    "    randPos = np.random.rand(NofD,NofD)     #  NofD x NofD points are generated randomly\n",
    "    each_plot = plt.plot(randPos[0],randPos[1],'.',markersize=14)                       # save the plot into a frame\n",
    "    plot_frames.append(each_plot)                  # append the frame to array\n",
    "    plt.title(frame_id)\n",
    "\n",
    "\n",
    "animatedP = animation.FuncAnimation(fig, plotP, interval=100)\n",
    "plt.show()\n",
    "\n",
    "animatedP.save('anime'+str(figNum)+'.gif', writer = 'imagemagick')"
   ]
  },
  {
   "cell_type": "code",
   "execution_count": 6,
   "id": "c57a2f95",
   "metadata": {},
   "outputs": [
    {
     "name": "stderr",
     "output_type": "stream",
     "text": [
      "MovieWriter imagemagick unavailable; using Pillow instead.\n"
     ]
    }
   ],
   "source": [
    "import numpy as np\n",
    "import matplotlib.pyplot as plt\n",
    "import matplotlib.animation as animation\n",
    "\n",
    "maxR=np.array([0,1])\n",
    "\n",
    "figNum=12\n",
    "fig = plt.figure(figNum,figsize = (5, 5))\n",
    "\n",
    "def plotP(frame_id):\n",
    "    plt.cla()                      #  clearn-up the current plot\n",
    "#     plt.axis('equal')    \n",
    "    plt.xticks(np.arange(maxR[0], maxR[1]+0.2, 0.2))\n",
    "    plt.yticks(np.arange(maxR[0], maxR[1]+0.2, 0.2))\n",
    "\n",
    "    plt.xlim(maxR)   # range in x axis\n",
    "    plt.ylim(maxR)     # range in x axis\n",
    "\n",
    "    \n",
    "    randPos = np.random.rand(NofD,NofD)     #  NofD x NofD points are generated randomly\n",
    "    each_plot = plt.plot(randPos[0],randPos[1],'.',markersize=14)                       # save the plot into a frame\n",
    "    plot_frames.append(each_plot)                  # append the frame to array\n",
    "    plt.title(frame_id)\n",
    "\n",
    "\n",
    "animatedP = animation.FuncAnimation(fig, plotP, interval=100,frames = 200)\n",
    "plt.show()\n",
    "\n",
    "animatedP.save('anime'+str(figNum)+'.gif', writer = 'imagemagick')"
   ]
  },
  {
   "cell_type": "code",
   "execution_count": 7,
   "id": "973aa338",
   "metadata": {},
   "outputs": [
    {
     "name": "stderr",
     "output_type": "stream",
     "text": [
      "/var/folders/mg/w5t8lkhc8xj79f001s7kzpfh0000gp/T/ipykernel_37105/1726840040.py:28: UserWarning: frames=None which we can infer the length of, did not pass an explicit *save_count* and passed cache_frame_data=True.  To avoid a possibly unbounded cache, frame data caching has been disabled. To suppress this warning either pass `cache_frame_data=False` or `save_count=MAX_FRAMES`.\n",
      "  animatedP = animation.FuncAnimation(fig, plotP, fargs = (pramA, pramB), interval=100)\n"
     ]
    }
   ],
   "source": [
    "import numpy as np\n",
    "import matplotlib.pyplot as plt\n",
    "import matplotlib.animation as animation\n",
    "\n",
    "maxR=np.array([0,1])\n",
    "\n",
    "figNum=13\n",
    "fig = plt.figure(figNum,figsize = (5, 5))\n",
    "\n",
    "def plotP(frame_id,pramA,pramB):\n",
    "    plt.cla()                      #  clearn-up the current plot\n",
    "#     plt.axis('equal')    \n",
    "    plt.xticks(np.arange(maxR[0], maxR[1]+0.2, 0.2))\n",
    "    plt.yticks(np.arange(maxR[0], maxR[1]+0.2, 0.2))\n",
    "\n",
    "    plt.xlim(maxR)   # range in x axis\n",
    "    plt.ylim(maxR)     # range in x axis\n",
    "\n",
    "    \n",
    "    randPos = np.random.rand(NofD,NofD)     #  NofD x NofD points are generated randomly\n",
    "    each_plot = plt.plot(pramA*randPos[0],pramA*randPos[1],'.',markersize=14)                       # save the plot into a frame\n",
    "    plot_frames.append(each_plot)                  # append the frame to array\n",
    "    plt.title(pramB+': '+str(frame_id))\n",
    "\n",
    "\n",
    "pramA=0.5\n",
    "pramB='Random Points'\n",
    "animatedP = animation.FuncAnimation(fig, plotP, fargs = (pramA, pramB), interval=100)\n",
    "plt.show()\n",
    "\n",
    "# animatedP.save('anime'+str(figNum)+'.gif', writer = 'imagemagick')"
   ]
  },
  {
   "cell_type": "code",
   "execution_count": 10,
   "id": "932f1195",
   "metadata": {},
   "outputs": [
    {
     "name": "stderr",
     "output_type": "stream",
     "text": [
      "MovieWriter imagemagick unavailable; using Pillow instead.\n"
     ]
    }
   ],
   "source": [
    "import numpy as np\n",
    "import matplotlib.pyplot as plt\n",
    "import matplotlib.animation as animation\n",
    "\n",
    "NofD=4\n",
    "pStep=8\n",
    "maxR=np.array([-5,5])\n",
    "\n",
    "figNum=15\n",
    "fig = plt.figure(figNum,figsize = (5, 5))\n",
    "\n",
    "rotA=lambda th: [[np.cos(th), -np.sin(th)],[np.sin(th),np.cos(th)]]\n",
    "\n",
    "def plotP(frame_id,pramA,pramB):\n",
    "    plt.cla()                      #  clearn-up the current plot\n",
    "#     plt.axis('equal')    \n",
    "    plt.xticks(np.arange(maxR[0], maxR[1], 1))\n",
    "    plt.yticks(np.arange(maxR[0], maxR[1], 1))\n",
    "    plt.grid(color=[0.5,0.5,0.5], linestyle='-', linewidth=0.5)\n",
    "    plt.title(\"Points\")   # title of the plot\n",
    "    plt.xlabel(\"x\")      # label in x axis\n",
    "    plt.ylabel(\"y\")      # label in y axis\n",
    "\n",
    "    plt.xlim(maxR)   # range in x axis\n",
    "    plt.ylim(maxR)     # range in x axis\n",
    "\n",
    "    angD=frame_id/pStep*np.pi\n",
    "    dataD=pramA\n",
    "    dataD=np.dot(rotA(angD),dataD)\n",
    "    \n",
    "    randPos = np.random.rand(NofD,NofD)     #  NofD x NofD points are generated randomly\n",
    "    each_plot = plt.plot(dataD[0],dataD[1],'b.',markersize=14)                       # save the plot into a frame\n",
    "    node_plot = plt.plot(dataD[0][0],dataD[1][0],'r.',markersize=14)                       # save the plot into a frame\n",
    "    plot_frames.append(each_plot)                  # append the frame to array\n",
    "    \n",
    "    ang180=np.mod(angD/np.pi*180,360)\n",
    "    strD='{:02.1f}'.format(ang180)\n",
    "    plt.title(pramB+': '+strD)\n",
    "\n",
    "\n",
    "# dataD=np.array([[1, -1,-1,1],[1,1,-1,-1]])\n",
    "# dataD=np.dot(rotA(np.pi/4),dataD)\n",
    "\n",
    "pramA=np.array([[1, -1,-1,1],[1,1,-1,-1]])\n",
    "pramB='Angle'\n",
    "animatedP = animation.FuncAnimation(fig, plotP, fargs = (pramA, pramB), interval=1000,frames = 200)\n",
    "plt.show()\n",
    "\n",
    "animatedP.save('anime'+str(figNum)+'.gif', writer = 'imagemagick')"
   ]
  },
  {
   "cell_type": "code",
   "execution_count": null,
   "id": "7f13dcaa",
   "metadata": {},
   "outputs": [],
   "source": [
    "import numpy as np\n",
    "import matplotlib.pyplot as plt\n",
    "import matplotlib.animation as animation\n",
    "\n",
    "NofD=4\n",
    "pStep=8\n",
    "maxR=np.array([-5,5])\n",
    "\n",
    "figNum=15\n",
    "fig = plt.figure(figNum,figsize = (5, 5))\n",
    "\n",
    "rotA=lambda th: [[np.cos(th), -np.sin(th)],[np.sin(th),np.cos(th)]]\n",
    "\n",
    "def plotP(frame_id,pramA,pramB):\n",
    "    plt.cla()                      #  clearn-up the current plot\n",
    "#     plt.axis('equal')    \n",
    "    plt.xticks(np.arange(maxR[0], maxR[1], 1))\n",
    "    plt.yticks(np.arange(maxR[0], maxR[1], 1))\n",
    "    plt.grid(color=[0.5,0.5,0.5], linestyle='-', linewidth=0.5)\n",
    "    plt.title(\"Points\")   # title of the plot\n",
    "    plt.xlabel(\"x\")      # label in x axis\n",
    "    plt.ylabel(\"y\")      # label in y axis\n",
    "\n",
    "    plt.xlim(maxR)   # range in x axis\n",
    "    plt.ylim(maxR)     # range in x axis\n",
    "\n",
    "    angD=frame_id/pStep*np.pi\n",
    "    dataD=pramA\n",
    "    dataD=np.dot(rotA(angD),dataD)\n",
    "    \n",
    "    randPos = np.random.rand(NofD,NofD)     #  NofD x NofD points are generated randomly\n",
    "    each_plot = plt.plot(dataD[0],dataD[1],'b.',markersize=14)                       # save the plot into a frame\n",
    "    node_plot = plt.plot(dataD[0][0],dataD[1][0],'r.',markersize=14)                       # save the plot into a frame\n",
    "    plot_frames.append(each_plot)                  # append the frame to array\n",
    "    \n",
    "    ang180=np.mod(angD/np.pi*180,360)\n",
    "    strD='{:02.1f}'.format(ang180)\n",
    "    plt.title(pramB+': '+strD)\n",
    "\n",
    "\n",
    "# dataD=np.array([[1, -1,-1,1],[1,1,-1,-1]])\n",
    "# dataD=np.dot(rotA(np.pi/4),dataD)\n",
    "\n",
    "pramA=np.array([[1, -1,-1,1],[1,1,-1,-1]])\n",
    "pramB='Angle'\n",
    "animatedP = animation.FuncAnimation(fig, plotP, fargs = (pramA, pramB), interval=1000,frames = 200)\n",
    "plt.show()\n",
    "\n",
    "animatedP.save('anime'+str(figNum)+'.gif', writer = 'imagemagick')"
   ]
  },
  {
   "cell_type": "code",
   "execution_count": null,
   "id": "a7ca1095-9ba0-4be1-ae4b-fd70fc439416",
   "metadata": {},
   "outputs": [],
   "source": [
    "figure(1);\n",
    "clf;\n",
    "\n",
    "roadLabel={'road1','road2','road3'};\n",
    "\n",
    "mapDx=[-100,100; 0,0; 0,100 ];\n",
    "mapDy=[0,0;-100,100;80,80 ];\n",
    "\n",
    "plot(mapDx',mapDy','LineWidth',2);\n",
    "legend(roadLabel);\n",
    "grid on;\n",
    "axis equal;\n"
   ]
  },
  {
   "cell_type": "code",
   "execution_count": 18,
   "id": "c642e50a-69ee-4661-930b-245f0b5c8be8",
   "metadata": {},
   "outputs": [
    {
     "data": {
      "text/plain": [
       "array([[-100,  100],\n",
       "       [   0,    0],\n",
       "       [   0,  100]])"
      ]
     },
     "execution_count": 18,
     "metadata": {},
     "output_type": "execute_result"
    }
   ],
   "source": [
    "mapDx"
   ]
  },
  {
   "cell_type": "code",
   "execution_count": 8,
   "id": "62d46191-e056-4a3f-9b58-4ea95bd788cb",
   "metadata": {},
   "outputs": [
    {
     "name": "stderr",
     "output_type": "stream",
     "text": [
      "Exception in Tkinter callback\n",
      "Traceback (most recent call last):\n",
      "  File \"/Library/Frameworks/Python.framework/Versions/3.10/lib/python3.10/tkinter/__init__.py\", line 1921, in __call__\n",
      "    return self.func(*args)\n",
      "  File \"/Library/Frameworks/Python.framework/Versions/3.10/lib/python3.10/tkinter/__init__.py\", line 839, in callit\n",
      "    func(*args)\n",
      "  File \"/Library/Frameworks/Python.framework/Versions/3.10/lib/python3.10/site-packages/matplotlib/backends/_backend_tk.py\", line 142, in _on_timer\n",
      "    super()._on_timer()\n",
      "  File \"/Library/Frameworks/Python.framework/Versions/3.10/lib/python3.10/site-packages/matplotlib/backend_bases.py\", line 1179, in _on_timer\n",
      "    ret = func(*args, **kwargs)\n",
      "  File \"/Library/Frameworks/Python.framework/Versions/3.10/lib/python3.10/site-packages/matplotlib/animation.py\", line 1411, in _step\n",
      "    self._init_draw()\n",
      "  File \"/Library/Frameworks/Python.framework/Versions/3.10/lib/python3.10/site-packages/matplotlib/animation.py\", line 1485, in _init_draw\n",
      "    fig.canvas.draw_idle()\n",
      "AttributeError: 'NoneType' object has no attribute 'canvas'\n"
     ]
    }
   ],
   "source": []
  },
  {
   "cell_type": "code",
   "execution_count": 3,
   "id": "3fb77994-1126-463e-849f-2aa5792bb0bd",
   "metadata": {},
   "outputs": [
    {
     "name": "stderr",
     "output_type": "stream",
     "text": [
      "2025-02-04 20:51:34.009 Python[92053:51417691] +[IMKClient subclass]: chose IMKClient_Legacy\n",
      "2025-02-04 20:51:34.009 Python[92053:51417691] +[IMKInputSession subclass]: chose IMKInputSession_Legacy\n"
     ]
    }
   ],
   "source": [
    "figNum=10\n",
    "maxR=[-100,100]\n",
    "fig = plt.figure(figNum)\n",
    "fig.clf()\n",
    "plot_frames = []\n",
    "\n",
    "roadLabel=['road1','road2','road3']\n",
    "mapDx=np.array([[-100,100],[0,0],[0,100]])\n",
    "mapDy=np.array([[0,0],[-100,100],[80,80]])\n",
    "\n",
    "plt.xticks(np.arange(maxR[0], maxR[1], 10))\n",
    "plt.yticks(np.arange(maxR[0], maxR[1], 10))\n",
    "plt.grid(color=[0.5,0.5,0.5], linestyle='-', linewidth=0.5)\n",
    "plt.title(\"Time\")   # title of the plot\n",
    "plt.xlabel(\"x\")      # label in x axis\n",
    "plt.ylabel(\"y\")      # label in y axis\n",
    "\n",
    "plt.xlim(maxR)   # range in x axis\n",
    "plt.ylim(maxR)     # range in x axis\n",
    "plt.axis('equal')\n",
    "\n",
    "NofT=1\n",
    "for i in range(NofT):\n",
    "        each_plot = plt.plot(mapDx.T,mapDy.T,'-',linewidth=2)  # save the plot into a frame\n",
    "        plot_frames.append(each_plot)                  # append the frame to array\n",
    "\n",
    "# animatedP = animation.ArtistAnimation(fig, plot_frames, interval=1)\n",
    "plt.show()\n"
   ]
  },
  {
   "cell_type": "code",
   "execution_count": 4,
   "id": "8973efac-3ca3-4e31-8af9-17886a30d582",
   "metadata": {},
   "outputs": [],
   "source": [
    "figNum=11\n",
    "maxR=[-100,100]\n",
    "fig = plt.figure(figNum)\n",
    "fig.clf()\n",
    "plot_frames = []\n",
    "\n",
    "roadLabel=['road1','road2','road3']\n",
    "mapDx=np.array([[-100,100],[0,0],[0,100]])\n",
    "mapDy=np.array([[0,0],[-100,100],[80,80]])\n",
    "\n",
    "plt.xticks(np.arange(maxR[0], maxR[1], 10))\n",
    "plt.yticks(np.arange(maxR[0], maxR[1], 10))\n",
    "plt.grid(color=[0.5,0.5,0.5], linestyle='-', linewidth=0.5)\n",
    "plt.title(\"Time\")   # title of the plot\n",
    "plt.xlabel(\"x\")      # label in x axis\n",
    "plt.ylabel(\"y\")      # label in y axis\n",
    "\n",
    "plt.xlim(maxR)   # range in x axis\n",
    "plt.ylim(maxR)     # range in x axis\n",
    "plt.axis('equal')\n",
    "\n",
    "plt.plot(mapDx.T,mapDy.T,'-',linewidth=2) \n",
    "\n",
    "# NofT=1\n",
    "# for i in range(NofT):\n",
    "#         each_plot = plt.plot(mapDx.T,mapDy.T,'-',linewidth=2)  # save the plot into a frame\n",
    "#         plot_frames.append(each_plot)                  # append the frame to array\n",
    "\n",
    "# animatedP = animation.ArtistAnimation(fig, plot_frames, interval=1)\n",
    "plt.show()\n"
   ]
  },
  {
   "cell_type": "code",
   "execution_count": 24,
   "id": "5ee2870f-e2fe-4e8e-9c5d-cdae5f433ff7",
   "metadata": {},
   "outputs": [
    {
     "data": {
      "text/plain": [
       "array([-80,   0])"
      ]
     },
     "metadata": {},
     "output_type": "display_data"
    },
    {
     "data": {
      "text/plain": [
       "['road1', 'road2', 'road3', 'vehicle1', 'vehicle2']"
      ]
     },
     "metadata": {},
     "output_type": "display_data"
    }
   ],
   "source": [
    "v_planning_x=np.array([[-80,80],[ 0,0]])\n",
    "v_planning_y=np.array([[0,0],[-80,80]])\n",
    "tP=0\n",
    "\n",
    "cPx=v_planning_x[:,1]*tP+v_planning_x[:,0]*[1-tP]\n",
    "cPy=v_planning_y[:,1]*tP+v_planning_y[:,0]*[1-tP]\n",
    "display(cPx)\n",
    "\n",
    "roadLabel=['road1','road2','road3']\n",
    "vehi_Label=['vehicle1','vehicle2']\n",
    "all_Lable=roadLabel+vehi_Label\n",
    "display(all_Lable)\n"
   ]
  },
  {
   "cell_type": "code",
   "execution_count": 21,
   "id": "3f086c6e-7e0d-4ef5-92af-99a6a88439fb",
   "metadata": {},
   "outputs": [
    {
     "data": {
      "text/plain": [
       "['road1', 'road2', 'road3', 'vehicle1', 'vehicle2']"
      ]
     },
     "execution_count": 21,
     "metadata": {},
     "output_type": "execute_result"
    }
   ],
   "source": [
    "all_Lable"
   ]
  },
  {
   "cell_type": "code",
   "execution_count": 12,
   "id": "c8e65d98-6d05-4ff5-a15a-f97b68e00581",
   "metadata": {},
   "outputs": [
    {
     "data": {
      "text/plain": [
       "<matplotlib.legend.Legend at 0x309b9ae00>"
      ]
     },
     "execution_count": 12,
     "metadata": {},
     "output_type": "execute_result"
    },
    {
     "name": "stderr",
     "output_type": "stream",
     "text": [
      "Traceback (most recent call last):\n",
      "  File \"/Library/Frameworks/Python.framework/Versions/3.10/lib/python3.10/site-packages/matplotlib/cbook.py\", line 298, in process\n",
      "    func(*args, **kwargs)\n",
      "  File \"/Library/Frameworks/Python.framework/Versions/3.10/lib/python3.10/site-packages/matplotlib/animation.py\", line 892, in _start\n",
      "    self._init_draw()\n",
      "  File \"/Library/Frameworks/Python.framework/Versions/3.10/lib/python3.10/site-packages/matplotlib/animation.py\", line 1477, in _init_draw\n",
      "    artist.set_visible(False)\n",
      "AttributeError: 'list' object has no attribute 'set_visible'\n"
     ]
    }
   ],
   "source": [
    "figNum=12\n",
    "maxR=[-100,100]\n",
    "fig = plt.figure(figNum)\n",
    "fig.clf()\n",
    "plot_frames = []\n",
    "\n",
    "v_planning_x=np.array([[-80,80],[ 0,0]])\n",
    "v_planning_y=np.array([[0,0],[-80,80]])\n",
    "tP=0\n",
    "\n",
    "cPx=v_planning_x[:,1]*tP+v_planning_x[:,0]*[1-tP]\n",
    "cPy=v_planning_y[:,1]*tP+v_planning_y[:,0]*[1-tP]\n",
    "\n",
    "roadLabel=['road1','road2','road3'];\n",
    "vehi_Label=['vehicle1','vehicle2'];\n",
    "all_Lable=roadLabel+vehi_Label\n",
    "\n",
    "mapDx=np.array([[-100,100],[0,0],[0,100]])\n",
    "mapDy=np.array([[0,0],[-100,100],[80,80]])\n",
    "\n",
    "plt.plot(mapDx.T,mapDy.T,'-',linewidth=2)\n",
    "\n",
    "NofT=1\n",
    "each_plot=[]\n",
    "for i in range(len(cPx)):\n",
    "        each_plot.append(plt.plot(cPx[i],cPy[i],'.',markersize=20))  # save the plot into a frame\n",
    "        \n",
    "plot_frames.append(each_plot)                  # append the frame to array\n",
    "\n",
    "# animatedP = animation.ArtistAnimation(fig, plot_frames, interval=10)\n",
    "animatedP = animation.ArtistAnimation(fig, plot_frames, interval=1,repeat=False)\n",
    "plt.show()\n",
    "\n",
    "fig.legend(all_Lable)"
   ]
  },
  {
   "cell_type": "code",
   "execution_count": 13,
   "id": "3da682fa-5548-42f8-9ac6-f53f91400aa5",
   "metadata": {},
   "outputs": [
    {
     "data": {
      "text/plain": [
       "<matplotlib.legend.Legend at 0x309b9ac80>"
      ]
     },
     "execution_count": 13,
     "metadata": {},
     "output_type": "execute_result"
    },
    {
     "name": "stderr",
     "output_type": "stream",
     "text": [
      "Traceback (most recent call last):\n",
      "  File \"/Library/Frameworks/Python.framework/Versions/3.10/lib/python3.10/site-packages/matplotlib/cbook.py\", line 298, in process\n",
      "    func(*args, **kwargs)\n",
      "  File \"/Library/Frameworks/Python.framework/Versions/3.10/lib/python3.10/site-packages/matplotlib/animation.py\", line 892, in _start\n",
      "    self._init_draw()\n",
      "  File \"/Library/Frameworks/Python.framework/Versions/3.10/lib/python3.10/site-packages/matplotlib/animation.py\", line 1477, in _init_draw\n",
      "    artist.set_visible(False)\n",
      "AttributeError: 'list' object has no attribute 'set_visible'\n"
     ]
    }
   ],
   "source": [
    "figNum=12\n",
    "maxR=[-100,100]\n",
    "fig = plt.figure(figNum)\n",
    "fig.clf()\n",
    "plot_frames = []\n",
    "\n",
    "v_planning_x=np.array([[-80,80],[ 0,0]])\n",
    "v_planning_y=np.array([[0,0],[-80,80]])\n",
    "tP=0\n",
    "\n",
    "cPx=v_planning_x[:,1]*tP+v_planning_x[:,0]*[1-tP]\n",
    "cPy=v_planning_y[:,1]*tP+v_planning_y[:,0]*[1-tP]\n",
    "\n",
    "roadLabel=['road1','road2','road3'];\n",
    "vehi_Label=['vehicle1','vehicle2'];\n",
    "all_Lable=roadLabel+vehi_Label\n",
    "\n",
    "mapDx=np.array([[-100,100],[0,0],[0,100]])\n",
    "mapDy=np.array([[0,0],[-100,100],[80,80]])\n",
    "\n",
    "plt.plot(mapDx.T,mapDy.T,'-',linewidth=2)\n",
    "\n",
    "NofT=1\n",
    "# each_plot=[]\n",
    "for i in range(len(cPx)):\n",
    "    if i==0:\n",
    "        each_plot=plt.plot(cPx[i],cPy[i],'.',markersize=20)  # save the plot into a frame\n",
    "    else:\n",
    "        each_plot.append(plt.plot(cPx[i],cPy[i],'.',markersize=20))  # save the plot into a frame\n",
    "        \n",
    "plot_frames.append(each_plot)                  # append the frame to array\n",
    "\n",
    "# animatedP = animation.ArtistAnimation(fig, plot_frames, interval=10)\n",
    "animatedP = animation.ArtistAnimation(fig, plot_frames, interval=1,repeat=False)\n",
    "plt.show()\n",
    "\n",
    "fig.legend(all_Lable)"
   ]
  },
  {
   "cell_type": "code",
   "execution_count": 42,
   "id": "bc6bcea3-3f12-482b-8d41-99f7f742023f",
   "metadata": {},
   "outputs": [
    {
     "data": {
      "text/plain": [
       "<matplotlib.legend.Legend at 0x169390310>"
      ]
     },
     "execution_count": 42,
     "metadata": {},
     "output_type": "execute_result"
    },
    {
     "name": "stderr",
     "output_type": "stream",
     "text": [
      "Exception in Tkinter callback\n",
      "Traceback (most recent call last):\n",
      "  File \"/Library/Frameworks/Python.framework/Versions/3.10/lib/python3.10/tkinter/__init__.py\", line 1921, in __call__\n",
      "    return self.func(*args)\n",
      "  File \"/Library/Frameworks/Python.framework/Versions/3.10/lib/python3.10/tkinter/__init__.py\", line 839, in callit\n",
      "    func(*args)\n",
      "  File \"/Library/Frameworks/Python.framework/Versions/3.10/lib/python3.10/site-packages/matplotlib/backends/_backend_tk.py\", line 142, in _on_timer\n",
      "    super()._on_timer()\n",
      "  File \"/Library/Frameworks/Python.framework/Versions/3.10/lib/python3.10/site-packages/matplotlib/backend_bases.py\", line 1179, in _on_timer\n",
      "    ret = func(*args, **kwargs)\n",
      "  File \"/Library/Frameworks/Python.framework/Versions/3.10/lib/python3.10/site-packages/matplotlib/animation.py\", line 1411, in _step\n",
      "    self._init_draw()\n",
      "  File \"/Library/Frameworks/Python.framework/Versions/3.10/lib/python3.10/site-packages/matplotlib/animation.py\", line 1485, in _init_draw\n",
      "    fig.canvas.draw_idle()\n",
      "AttributeError: 'NoneType' object has no attribute 'canvas'\n"
     ]
    }
   ],
   "source": [
    "figNum=13\n",
    "maxR=[-100,100]\n",
    "fig = plt.figure(figNum)\n",
    "fig.clf()\n",
    "plot_frames = []\n",
    "\n",
    "v_planning_x=np.array([[-80,80],[ 0,0]])\n",
    "v_planning_y=np.array([[0,0],[-80,80]])\n",
    "tP=0\n",
    "\n",
    "cPx=v_planning_x[:,1]*tP+v_planning_x[:,0]*[1-tP]\n",
    "cPy=v_planning_y[:,1]*tP+v_planning_y[:,0]*[1-tP]\n",
    "\n",
    "roadLabel=['road1','road2','road3'];\n",
    "vehi_Label=['vehicle1','vehicle2'];\n",
    "all_Lable=roadLabel+vehi_Label\n",
    "\n",
    "mapDx=np.array([[-100,100],[0,0],[0,100]])\n",
    "mapDy=np.array([[0,0],[-100,100],[80,80]])\n",
    "\n",
    "plt.plot(mapDx.T,mapDy.T,'-',linewidth=2)\n",
    "\n",
    "# NofT=1\n",
    "# each_plot=[]\n",
    "# for i in range(len(cPx)):\n",
    "#         each_plot.append(plt.plot(cPx[i],cPy[i],'.',markersize=20))  # save the plot into a frame\n",
    "        \n",
    "# plot_frames.append(each_plot)                  # append the frame to array\n",
    "\n",
    "simT=100\n",
    "NofC=2\n",
    "\n",
    "for i2 in range(simT):\n",
    "    tP=i2/simT\n",
    "    tmpx=np.dot(v_planning_x,np.array([1-tP,tP]))\n",
    "    tmpy=np.dot(v_planning_y,np.array([1-tP,tP]))\n",
    "    each_plot=[]\n",
    "    for x,y in zip(tmpx,tmpy):\n",
    "        each_plot=plt.plot(x,y,'.',markersize=20)\n",
    "    # each_plot=[plt.plot(x,y,'.',markersize=20) for x,y in zip(tmpx,tmpy)]\n",
    "        plot_frames.append(each_plot)\n",
    "\n",
    "# animatedP = animation.ArtistAnimation(fig, plot_frames, interval=10)\n",
    "animatedP = animation.ArtistAnimation(fig, plot_frames, interval=10)\n",
    "plt.show()\n",
    "\n",
    "fig.legend(all_Lable)"
   ]
  },
  {
   "cell_type": "code",
   "execution_count": 41,
   "id": "272fbc85-167e-4240-993a-d08e823981df",
   "metadata": {},
   "outputs": [
    {
     "data": {
      "text/plain": [
       "[[<matplotlib.lines.Line2D at 0x168fe5a20>],\n",
       " [<matplotlib.lines.Line2D at 0x168fe4af0>],\n",
       " [<matplotlib.lines.Line2D at 0x168c00b80>],\n",
       " [<matplotlib.lines.Line2D at 0x30c8d8a00>],\n",
       " [<matplotlib.lines.Line2D at 0x30c8db130>],\n",
       " [<matplotlib.lines.Line2D at 0x30c8d8cd0>],\n",
       " [<matplotlib.lines.Line2D at 0x30c8da830>],\n",
       " [<matplotlib.lines.Line2D at 0x309b850c0>],\n",
       " [<matplotlib.lines.Line2D at 0x1688dc610>],\n",
       " [<matplotlib.lines.Line2D at 0x1688ddf30>],\n",
       " [<matplotlib.lines.Line2D at 0x1688dca00>],\n",
       " [<matplotlib.lines.Line2D at 0x1688dee60>],\n",
       " [<matplotlib.lines.Line2D at 0x1688ddb70>],\n",
       " [<matplotlib.lines.Line2D at 0x168e922c0>],\n",
       " [<matplotlib.lines.Line2D at 0x168e902e0>],\n",
       " [<matplotlib.lines.Line2D at 0x168e92230>],\n",
       " [<matplotlib.lines.Line2D at 0x168e91cc0>],\n",
       " [<matplotlib.lines.Line2D at 0x30a1eca00>],\n",
       " [<matplotlib.lines.Line2D at 0x30a1ecb80>],\n",
       " [<matplotlib.lines.Line2D at 0x30a1ec160>],\n",
       " [<matplotlib.lines.Line2D at 0x30a1ecaf0>],\n",
       " [<matplotlib.lines.Line2D at 0x30a1ecc10>],\n",
       " [<matplotlib.lines.Line2D at 0x30a1ec970>],\n",
       " [<matplotlib.lines.Line2D at 0x30a1ed8d0>],\n",
       " [<matplotlib.lines.Line2D at 0x168c622f0>],\n",
       " [<matplotlib.lines.Line2D at 0x168c62350>],\n",
       " [<matplotlib.lines.Line2D at 0x168c630d0>],\n",
       " [<matplotlib.lines.Line2D at 0x168c639d0>],\n",
       " [<matplotlib.lines.Line2D at 0x168c62ce0>],\n",
       " [<matplotlib.lines.Line2D at 0x168c627d0>],\n",
       " [<matplotlib.lines.Line2D at 0x168c60520>],\n",
       " [<matplotlib.lines.Line2D at 0x168c60a60>],\n",
       " [<matplotlib.lines.Line2D at 0x168c60fa0>],\n",
       " [<matplotlib.lines.Line2D at 0x168c614e0>],\n",
       " [<matplotlib.lines.Line2D at 0x168c61a20>],\n",
       " [<matplotlib.lines.Line2D at 0x168c61f60>],\n",
       " [<matplotlib.lines.Line2D at 0x309fdc2e0>],\n",
       " [<matplotlib.lines.Line2D at 0x30a295900>],\n",
       " [<matplotlib.lines.Line2D at 0x168c802e0>],\n",
       " [<matplotlib.lines.Line2D at 0x168c80eb0>],\n",
       " [<matplotlib.lines.Line2D at 0x168c814b0>],\n",
       " [<matplotlib.lines.Line2D at 0x168c80250>],\n",
       " [<matplotlib.lines.Line2D at 0x168c81060>],\n",
       " [<matplotlib.lines.Line2D at 0x168c83cd0>],\n",
       " [<matplotlib.lines.Line2D at 0x168c81e70>],\n",
       " [<matplotlib.lines.Line2D at 0x168c81cc0>],\n",
       " [<matplotlib.lines.Line2D at 0x168c82260>],\n",
       " [<matplotlib.lines.Line2D at 0x168c83e80>],\n",
       " [<matplotlib.lines.Line2D at 0x309b681c0>],\n",
       " [<matplotlib.lines.Line2D at 0x309b69960>],\n",
       " [<matplotlib.lines.Line2D at 0x309b6b730>],\n",
       " [<matplotlib.lines.Line2D at 0x309e72590>],\n",
       " [<matplotlib.lines.Line2D at 0x309e738b0>],\n",
       " [<matplotlib.lines.Line2D at 0x309e71a20>],\n",
       " [<matplotlib.lines.Line2D at 0x309e71660>],\n",
       " [<matplotlib.lines.Line2D at 0x309e71c30>],\n",
       " [<matplotlib.lines.Line2D at 0x309e72530>],\n",
       " [<matplotlib.lines.Line2D at 0x309e73ca0>],\n",
       " [<matplotlib.lines.Line2D at 0x168896170>],\n",
       " [<matplotlib.lines.Line2D at 0x168895fc0>],\n",
       " [<matplotlib.lines.Line2D at 0x168894760>],\n",
       " [<matplotlib.lines.Line2D at 0x168895f00>],\n",
       " [<matplotlib.lines.Line2D at 0x1688970d0>],\n",
       " [<matplotlib.lines.Line2D at 0x168895ab0>],\n",
       " [<matplotlib.lines.Line2D at 0x168894520>],\n",
       " [<matplotlib.lines.Line2D at 0x168894340>],\n",
       " [<matplotlib.lines.Line2D at 0x168897a60>],\n",
       " [<matplotlib.lines.Line2D at 0x168897d60>],\n",
       " [<matplotlib.lines.Line2D at 0x1688e6f50>],\n",
       " [<matplotlib.lines.Line2D at 0x1688e6290>],\n",
       " [<matplotlib.lines.Line2D at 0x1688e5690>],\n",
       " [<matplotlib.lines.Line2D at 0x1688e41c0>],\n",
       " [<matplotlib.lines.Line2D at 0x1688e4940>],\n",
       " [<matplotlib.lines.Line2D at 0x1688e4d60>],\n",
       " [<matplotlib.lines.Line2D at 0x1688e56c0>],\n",
       " [<matplotlib.lines.Line2D at 0x1688e5a50>],\n",
       " [<matplotlib.lines.Line2D at 0x1688e66e0>],\n",
       " [<matplotlib.lines.Line2D at 0x309b29cc0>],\n",
       " [<matplotlib.lines.Line2D at 0x309b28880>],\n",
       " [<matplotlib.lines.Line2D at 0x309b28fa0>],\n",
       " [<matplotlib.lines.Line2D at 0x309b28e80>],\n",
       " [<matplotlib.lines.Line2D at 0x168850c10>],\n",
       " [<matplotlib.lines.Line2D at 0x168850eb0>],\n",
       " [<matplotlib.lines.Line2D at 0x168851120>],\n",
       " [<matplotlib.lines.Line2D at 0x168851e10>],\n",
       " [<matplotlib.lines.Line2D at 0x168852350>],\n",
       " [<matplotlib.lines.Line2D at 0x168852890>],\n",
       " [<matplotlib.lines.Line2D at 0x168852dd0>],\n",
       " [<matplotlib.lines.Line2D at 0x168853310>],\n",
       " [<matplotlib.lines.Line2D at 0x168853850>],\n",
       " [<matplotlib.lines.Line2D at 0x168853d90>],\n",
       " [<matplotlib.lines.Line2D at 0x168850640>],\n",
       " [<matplotlib.lines.Line2D at 0x168851900>],\n",
       " [<matplotlib.lines.Line2D at 0x30cb02170>],\n",
       " [<matplotlib.lines.Line2D at 0x30cb016c0>],\n",
       " [<matplotlib.lines.Line2D at 0x30cb01bd0>],\n",
       " [<matplotlib.lines.Line2D at 0x30cb40bb0>],\n",
       " [<matplotlib.lines.Line2D at 0x30cb278b0>],\n",
       " [<matplotlib.lines.Line2D at 0x30cb25d50>],\n",
       " [<matplotlib.lines.Line2D at 0x30cb24910>]]"
      ]
     },
     "execution_count": 41,
     "metadata": {},
     "output_type": "execute_result"
    }
   ],
   "source": [
    "plot_frames"
   ]
  },
  {
   "cell_type": "code",
   "execution_count": null,
   "id": "345fda80-2063-47e6-8238-7c43cc564f9d",
   "metadata": {},
   "outputs": [],
   "source": [
    "plt.plot(x,y,'.',markersize=20)"
   ]
  },
  {
   "cell_type": "code",
   "execution_count": 37,
   "id": "9b0a503f-d3ce-455e-8ae7-6bc32c87d429",
   "metadata": {},
   "outputs": [
    {
     "data": {
      "text/plain": [
       "array([78.4,  0. ])"
      ]
     },
     "execution_count": 37,
     "metadata": {},
     "output_type": "execute_result"
    }
   ],
   "source": [
    "tmpx"
   ]
  },
  {
   "cell_type": "code",
   "execution_count": 30,
   "id": "c046bb1d-f5c9-4347-949f-931c262f866e",
   "metadata": {},
   "outputs": [
    {
     "data": {
      "text/plain": [
       "[[<matplotlib.lines.Line2D at 0x30a1a0bb0>],\n",
       " [<matplotlib.lines.Line2D at 0x30a1a2290>]]"
      ]
     },
     "execution_count": 30,
     "metadata": {},
     "output_type": "execute_result"
    }
   ],
   "source": [
    "tmpx=np.dot(v_planning_x,np.array([1-tP,tP]))\n",
    "tmpy=np.dot(v_planning_y,np.array([1-tP,tP]))\n",
    "tmpx\n",
    "[plt.plot(x,y,'.',markersize=20) for x,y in zip(tmpx,tmpy)]"
   ]
  },
  {
   "cell_type": "code",
   "execution_count": 22,
   "id": "a4bbc8e6-55cd-44ab-b4c3-ceba96c52315",
   "metadata": {},
   "outputs": [
    {
     "ename": "AttributeError",
     "evalue": "'list' object has no attribute 'T'",
     "output_type": "error",
     "traceback": [
      "\u001b[0;31m---------------------------------------------------------------------------\u001b[0m",
      "\u001b[0;31mAttributeError\u001b[0m                            Traceback (most recent call last)",
      "Cell \u001b[0;32mIn[22], line 1\u001b[0m\n\u001b[0;32m----> 1\u001b[0m \u001b[43m[\u001b[49m\u001b[43mv_planning_x\u001b[49m\u001b[43m]\u001b[49m\u001b[38;5;241;43m.\u001b[39;49m\u001b[43mT\u001b[49m\n",
      "\u001b[0;31mAttributeError\u001b[0m: 'list' object has no attribute 'T'"
     ]
    }
   ],
   "source": [
    "[v_planning_x].T"
   ]
  },
  {
   "cell_type": "code",
   "execution_count": 25,
   "id": "698855cb-c172-4059-9daa-c5f5742b42e2",
   "metadata": {},
   "outputs": [
    {
     "data": {
      "text/plain": [
       "array([[-80,  80],\n",
       "       [  0,   0]])"
      ]
     },
     "execution_count": 25,
     "metadata": {},
     "output_type": "execute_result"
    }
   ],
   "source": []
  },
  {
   "cell_type": "code",
   "execution_count": 16,
   "id": "07c4aa2e-c099-4971-84b7-7335f0a78675",
   "metadata": {},
   "outputs": [
    {
     "data": {
      "text/plain": [
       "[1, 0]"
      ]
     },
     "execution_count": 16,
     "metadata": {},
     "output_type": "execute_result"
    }
   ],
   "source": [
    "[[1-tP,tP]].T"
   ]
  },
  {
   "cell_type": "code",
   "execution_count": null,
   "id": "7adb26ed-9b50-4222-bf1f-0d1d63c1528b",
   "metadata": {},
   "outputs": [],
   "source": [
    "https://numpy.org/doc/2.1/reference/generated/numpy.dot.html\n",
    "https://numpy.org/doc/2.1/reference/generated/numpy.matmul.html#numpy.matmul"
   ]
  },
  {
   "cell_type": "code",
   "execution_count": null,
   "id": "511a2587-f0f5-4164-ae2a-8a881ac74846",
   "metadata": {},
   "outputs": [],
   "source": [
    "https://qiita.com/Yuu-Miino/items/ae7d9c78bc2dff6c9a51"
   ]
  },
  {
   "cell_type": "code",
   "execution_count": 27,
   "id": "fdd05840-9a5e-4ff9-89c2-2330b69e381b",
   "metadata": {},
   "outputs": [
    {
     "data": {
      "text/plain": [
       "0"
      ]
     },
     "execution_count": 27,
     "metadata": {},
     "output_type": "execute_result"
    }
   ],
   "source": [
    "np.dot(v_planning_x[1],np.array([1-tP,tP]))"
   ]
  },
  {
   "cell_type": "code",
   "execution_count": null,
   "id": "76a0ba83-6aac-4668-aac6-c6a1dcf814d9",
   "metadata": {},
   "outputs": [],
   "source": [
    "\n",
    "NofC=2;\n",
    "simT=100;\n",
    "vC=[50,40]; # %50km/h*1000(k)/3600(s)\n",
    "#% frate=0.1;\n",
    "frate=1\n",
    "\n",
    "v_planning_x=[-80,80; 0,0;];\n",
    "v_planning_y=[0,0;-80,80;];\n",
    "tP=0;\n",
    "\n",
    "cPx=v_planning_x(:,2).*tP+v_planning_x(:,1).*(1-tP);\n",
    "cPy=v_planning_y(:,2).*tP+v_planning_y(:,1).*(1-tP);\n",
    "\n",
    "roadLabel={'road1','road2','road3'};\n",
    "vehi_Label={'vehicle1','vehicle2'};\n",
    "all_Lable=roadLabel;\n",
    "all_Lable(end+1:end+length(vehi_Label))=vehi_Label;\n",
    "\n",
    "mapDx=np.array([[-100,100],[0,0],[0,100]])\n",
    "mapDy=np.array([[0,0],[-100,100],[80,80]])\n",
    "\n",
    "plot(mapDx',mapDy','LineWidth',2),hold on;\n",
    "\n",
    "vehiP={};\n",
    "for i=1:NofC\n",
    "    vehiP{i}=plot(cPx(i)',cPy(i)','.','Color',myCol(i,:),'MarkerSize',50);\n",
    "end\n",
    "\n",
    "legend(all_Lable);\n",
    "grid on;\n",
    "axis equal;\n",
    "tPv=repmat(tP,[1,2]);\n",
    "\n",
    "for i2=1:simT\n",
    "% %     tPv=tPv+(vC*1000/3600).*frate;\n",
    "    tP=i2/simT;\n",
    "    tPv=repmat(tP,[1,2]);\n",
    "    tmpx=diag(v_planning_x*[(1-tPv);tPv]);\n",
    "    tmpy=diag(v_planning_y*[(1-tPv);tPv]);\n",
    "    \n",
    "    for i=1:NofC\n",
    "        set(vehiP{i},'XData',tmpx(i),'YData',tmpy(i));\n",
    "    end\n",
    "%     pause(0.1);\n",
    "    drawnow;\n",
    "end\n"
   ]
  },
  {
   "cell_type": "code",
   "execution_count": null,
   "id": "a2bb4c05-9ccc-40d5-bf16-e7103ef0fbe3",
   "metadata": {},
   "outputs": [],
   "source": []
  },
  {
   "cell_type": "code",
   "execution_count": null,
   "id": "f7bd0274-5c36-41fb-b5db-bb54f3561925",
   "metadata": {},
   "outputs": [],
   "source": []
  },
  {
   "cell_type": "code",
   "execution_count": null,
   "id": "32cd5a00-2d00-4991-a501-1467f3c7f0ac",
   "metadata": {},
   "outputs": [],
   "source": []
  },
  {
   "cell_type": "code",
   "execution_count": null,
   "id": "781be1fc-dbb1-4382-be02-e88b2cb3031f",
   "metadata": {},
   "outputs": [],
   "source": []
  }
 ],
 "metadata": {
  "kernelspec": {
   "display_name": "Python 3 (ipykernel)",
   "language": "python",
   "name": "python3"
  },
  "language_info": {
   "codemirror_mode": {
    "name": "ipython",
    "version": 3
   },
   "file_extension": ".py",
   "mimetype": "text/x-python",
   "name": "python",
   "nbconvert_exporter": "python",
   "pygments_lexer": "ipython3",
   "version": "3.10.11"
  }
 },
 "nbformat": 4,
 "nbformat_minor": 5
}
