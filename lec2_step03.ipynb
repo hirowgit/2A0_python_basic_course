{
 "cells": [
  {
   "cell_type": "code",
   "execution_count": 2,
   "id": "73a97c6c",
   "metadata": {},
   "outputs": [],
   "source": [
    "## Python basics for novice data scientists, supported by Wagatsuma Lab@Kyutech \n",
    "#\n",
    "# The MIT License (MIT): Copyright (c) 2020 Hiroaki Wagatsuma and Wagatsuma Lab@Kyutech\n",
    "# \n",
    "# Permission is hereby granted, free of charge, to any person obtaining a copy of this software and associated documentation files (the \"Software\"), to deal in the Software without restriction, including without limitation the rights to use, copy, modify, merge, publish, distribute, sublicense, and/or sell copies of the Software, and to permit persons to whom the Software is furnished to do so, subject to the following conditions:\n",
    "# The above copyright notice and this permission notice shall be included in all copies or substantial portions of the Software.\n",
    "# THE SOFTWARE IS PROVIDED \"AS IS\", WITHOUT WARRANTY OF ANY KIND, EXPRESS OR IMPLIED, INCLUDING BUT NOT LIMITED TO THE WARRANTIES OF MERCHANTABILITY, FITNESS FOR A PARTICULAR PURPOSE AND NONINFRINGEMENT. IN NO EVENT SHALL THE AUTHORS OR COPYRIGHT HOLDERS BE LIABLE FOR ANY CLAIM, DAMAGES OR OTHER LIABILITY, WHETHER IN AN ACTION OF CONTRACT, TORT OR OTHERWISE, ARISING FROM, OUT OF OR IN CONNECTION WITH THE SOFTWARE OR THE USE OR OTHER DEALINGS IN THE SOFTWARE. */\n",
    "#\n",
    "# # @Time    : 2022-12-29 \n",
    "# # @Author  : Hiroaki Wagatsuma\n",
    "# # @Site    : https://github.com/hirowgit/2A_python_basic_course\n",
    "# # @IDE     : Python 3.9.16 (main, Dec  7 2022, 10:15:43) [Clang 14.0.0 (clang-1400.0.29.202)] on darwin\n",
    "# # @File    : lec2_step03.py "
   ]
  },
  {
   "cell_type": "code",
   "execution_count": 1,
   "id": "3628309b",
   "metadata": {},
   "outputs": [],
   "source": [
    "# module test: if you have an error when you run this code, \n",
    "# you need to check the installation status of those modules\n",
    "\n",
    "import math \n",
    "import sys \n",
    "import numpy as np\n",
    "import pandas as pd\n",
    "import matplotlib.pyplot as plt\n",
    "import tkinter as tk"
   ]
  },
  {
   "cell_type": "code",
   "execution_count": 2,
   "id": "67f3cd33",
   "metadata": {},
   "outputs": [],
   "source": [
    "import matplotlib.pyplot as plt\n",
    "%matplotlib tk"
   ]
  },
  {
   "cell_type": "code",
   "execution_count": null,
   "id": "c170f483",
   "metadata": {},
   "outputs": [],
   "source": [
    "# References:\n",
    "# https://matplotlib.org/stable/gallery/animation/pause_resume.html\n",
    "# https://qiita.com/yubais/items/c95ba9ff1b23dd33fde2"
   ]
  },
  {
   "cell_type": "code",
   "execution_count": 103,
   "id": "d44a9b6b",
   "metadata": {},
   "outputs": [
    {
     "data": {
      "text/plain": [
       "array([[ 1.45741089,  0.11983687,  0.45977828],\n",
       "       [ 1.10349839, -0.21175876, -1.4658011 ],\n",
       "       [-0.14484282,  2.12797407, -0.98904751]])"
      ]
     },
     "execution_count": 103,
     "metadata": {},
     "output_type": "execute_result"
    }
   ],
   "source": [
    "np.random.randn(3,3)"
   ]
  },
  {
   "cell_type": "code",
   "execution_count": 106,
   "id": "f9301eed",
   "metadata": {},
   "outputs": [
    {
     "name": "stdout",
     "output_type": "stream",
     "text": [
      "[[0.053713   0.88993126 0.17139309 0.62956908 0.72371694]\n",
      " [0.12444674 0.79266058 0.6055453  0.38346696 0.41916717]\n",
      " [0.15934211 0.44341929 0.41958734 0.00683877 0.42806822]\n",
      " [0.61049182 0.91542015 0.89795238 0.45404452 0.6592689 ]\n",
      " [0.68528542 0.00291268 0.64773666 0.06497626 0.63251277]]\n",
      "-\n",
      "0.7926605827834158\n"
     ]
    }
   ],
   "source": [
    "a=np.random.rand(5,5)\n",
    "print(a)\n",
    "print('-')\n",
    "print(a[1,1])"
   ]
  },
  {
   "cell_type": "code",
   "execution_count": 2,
   "id": "9578c6c3",
   "metadata": {},
   "outputs": [
    {
     "data": {
      "image/png": "[encoded data removed]",
      "text/plain": [
       "<Figure size 432x288 with 1 Axes>"
      ]
     },
     "metadata": {
      "needs_background": "light"
     },
     "output_type": "display_data"
    }
   ],
   "source": [
    "import numpy as np\n",
    "import matplotlib.pyplot as plt\n",
    "import matplotlib.animation as animation\n",
    "\n",
    "figNum=10\n",
    "NofD=20\n",
    "NofD=5\n",
    "maxR=np.array([0,1])\n",
    "\n",
    "fig = plt.figure(figNum)\n",
    "plot_frames = []\n",
    "\n",
    "plt.xticks(np.arange(maxR[0], maxR[1]+0.2, 0.2))\n",
    "plt.yticks(np.arange(maxR[0], maxR[1]+0.2, 0.2))\n",
    "plt.axis('equal')\n",
    "plt.xlim(maxR)   # range in x axis\n",
    "plt.ylim(maxR)     # range in x axis\n",
    "\n",
    "for i in range(NofD):\n",
    "        randPos = np.random.rand(NofD,NofD)     #  NofD x NofD points are generated randomly\n",
    "        each_plot = plt.plot(randPos[0],randPos[1],'.',markersize=14)  # save the plot into a frame\n",
    "        plot_frames.append(each_plot)                  # append the frame to array\n",
    "\n",
    "# showing N  frames of plot every 1000ms \n",
    "animatedP = animation.ArtistAnimation(fig, plot_frames, interval=1000)\n",
    "plt.show()\n"
   ]
  },
  {
   "cell_type": "code",
   "execution_count": 4,
   "id": "f3684b68",
   "metadata": {},
   "outputs": [
    {
     "data": {
      "text/plain": [
       "<Figure size 360x360 with 0 Axes>"
      ]
     },
     "metadata": {},
     "output_type": "display_data"
    },
    {
     "data": {
      "image/png": "[encoded data removed]",
      "text/plain": [
       "<Figure size 432x288 with 1 Axes>"
      ]
     },
     "metadata": {
      "needs_background": "light"
     },
     "output_type": "display_data"
    }
   ],
   "source": [
    "import numpy as np\n",
    "import matplotlib.pyplot as plt\n",
    "import matplotlib.animation as animation\n",
    "\n",
    "maxR=np.array([0,1])\n",
    "\n",
    "figNum=11\n",
    "fig = plt.figure(figNum,figsize = (5, 5))\n",
    "\n",
    "def plotP(frame_id):\n",
    "    plt.cla()                      #  clearn-up the current plot\n",
    "#     plt.axis('equal')    \n",
    "    plt.xticks(np.arange(maxR[0], maxR[1]+0.2, 0.2))\n",
    "    plt.yticks(np.arange(maxR[0], maxR[1]+0.2, 0.2))\n",
    "\n",
    "    plt.xlim(maxR)   # range in x axis\n",
    "    plt.ylim(maxR)     # range in x axis\n",
    "\n",
    "    \n",
    "    randPos = np.random.rand(NofD,NofD)     #  NofD x NofD points are generated randomly\n",
    "    each_plot = plt.plot(randPos[0],randPos[1],'.',markersize=14)                       # save the plot into a frame\n",
    "    plot_frames.append(each_plot)                  # append the frame to array\n",
    "    plt.title(frame_id)\n",
    "\n",
    "\n",
    "animatedP = animation.FuncAnimation(fig, plotP, interval=100)\n",
    "plt.show()\n",
    "\n",
    "animatedP.save('anime'+str(figNum)+'.gif', writer = 'imagemagick')"
   ]
  },
  {
   "cell_type": "code",
   "execution_count": 5,
   "id": "c57a2f95",
   "metadata": {},
   "outputs": [
    {
     "data": {
      "text/plain": [
       "<Figure size 360x360 with 0 Axes>"
      ]
     },
     "metadata": {},
     "output_type": "display_data"
    },
    {
     "data": {
      "image/png": "[encoded data removed]",
      "text/plain": [
       "<Figure size 432x288 with 1 Axes>"
      ]
     },
     "metadata": {
      "needs_background": "light"
     },
     "output_type": "display_data"
    }
   ],
   "source": [
    "import numpy as np\n",
    "import matplotlib.pyplot as plt\n",
    "import matplotlib.animation as animation\n",
    "\n",
    "maxR=np.array([0,1])\n",
    "\n",
    "figNum=12\n",
    "fig = plt.figure(figNum,figsize = (5, 5))\n",
    "\n",
    "def plotP(frame_id):\n",
    "    plt.cla()                      #  clearn-up the current plot\n",
    "#     plt.axis('equal')    \n",
    "    plt.xticks(np.arange(maxR[0], maxR[1]+0.2, 0.2))\n",
    "    plt.yticks(np.arange(maxR[0], maxR[1]+0.2, 0.2))\n",
    "\n",
    "    plt.xlim(maxR)   # range in x axis\n",
    "    plt.ylim(maxR)     # range in x axis\n",
    "\n",
    "    \n",
    "    randPos = np.random.rand(NofD,NofD)     #  NofD x NofD points are generated randomly\n",
    "    each_plot = plt.plot(randPos[0],randPos[1],'.',markersize=14)                       # save the plot into a frame\n",
    "    plot_frames.append(each_plot)                  # append the frame to array\n",
    "    plt.title(frame_id)\n",
    "\n",
    "\n",
    "animatedP = animation.FuncAnimation(fig, plotP, interval=100,frames = 200)\n",
    "plt.show()\n",
    "\n",
    "animatedP.save('anime'+str(figNum)+'.gif', writer = 'imagemagick')"
   ]
  },
  {
   "cell_type": "code",
   "execution_count": 117,
   "id": "973aa338",
   "metadata": {},
   "outputs": [],
   "source": [
    "import numpy as np\n",
    "import matplotlib.pyplot as plt\n",
    "import matplotlib.animation as animation\n",
    "\n",
    "maxR=np.array([0,1])\n",
    "\n",
    "figNum=13\n",
    "fig = plt.figure(figNum,figsize = (5, 5))\n",
    "\n",
    "def plotP(frame_id,pramA,pramB):\n",
    "    plt.cla()                      #  clearn-up the current plot\n",
    "#     plt.axis('equal')    \n",
    "    plt.xticks(np.arange(maxR[0], maxR[1]+0.2, 0.2))\n",
    "    plt.yticks(np.arange(maxR[0], maxR[1]+0.2, 0.2))\n",
    "\n",
    "    plt.xlim(maxR)   # range in x axis\n",
    "    plt.ylim(maxR)     # range in x axis\n",
    "\n",
    "    \n",
    "    randPos = np.random.rand(NofD,NofD)     #  NofD x NofD points are generated randomly\n",
    "    each_plot = plt.plot(pramA*randPos[0],pramA*randPos[1],'.',markersize=14)                       # save the plot into a frame\n",
    "    plot_frames.append(each_plot)                  # append the frame to array\n",
    "    plt.title(pramB+': '+str(frame_id))\n",
    "\n",
    "\n",
    "pramA=0.5\n",
    "pramB='Random Points'\n",
    "animatedP = animation.FuncAnimation(fig, plotP, fargs = (pramA, pramB), interval=100)\n",
    "plt.show()\n",
    "\n",
    "# animatedP.save('anime'+str(figNum)+'.gif', writer = 'imagemagick')"
   ]
  },
  {
   "cell_type": "code",
   "execution_count": 114,
   "id": "932f1195",
   "metadata": {},
   "outputs": [],
   "source": [
    "import numpy as np\n",
    "import matplotlib.pyplot as plt\n",
    "import matplotlib.animation as animation\n",
    "\n",
    "NofD=4\n",
    "pStep=8\n",
    "maxR=np.array([-5,5])\n",
    "\n",
    "figNum=15\n",
    "fig = plt.figure(figNum,figsize = (5, 5))\n",
    "\n",
    "rotA=lambda th: [[np.cos(th), -np.sin(th)],[np.sin(th),np.cos(th)]]\n",
    "\n",
    "def plotP(frame_id,pramA,pramB):\n",
    "    plt.cla()                      #  clearn-up the current plot\n",
    "#     plt.axis('equal')    \n",
    "    plt.xticks(np.arange(maxR[0], maxR[1], 1))\n",
    "    plt.yticks(np.arange(maxR[0], maxR[1], 1))\n",
    "    plt.grid(color=[0.5,0.5,0.5], linestyle='-', linewidth=0.5)\n",
    "    plt.title(\"Points\")   # title of the plot\n",
    "    plt.xlabel(\"x\")      # label in x axis\n",
    "    plt.ylabel(\"y\")      # label in y axis\n",
    "\n",
    "    plt.xlim(maxR)   # range in x axis\n",
    "    plt.ylim(maxR)     # range in x axis\n",
    "\n",
    "    angD=frame_id/pStep*np.pi\n",
    "    dataD=pramA\n",
    "    dataD=np.dot(rotA(angD),dataD)\n",
    "    \n",
    "    randPos = np.random.rand(NofD,NofD)     #  NofD x NofD points are generated randomly\n",
    "    each_plot = plt.plot(dataD[0],dataD[1],'b.',markersize=14)                       # save the plot into a frame\n",
    "    node_plot = plt.plot(dataD[0][0],dataD[1][0],'r.',markersize=14)                       # save the plot into a frame\n",
    "    plot_frames.append(each_plot)                  # append the frame to array\n",
    "    \n",
    "    ang180=np.mod(angD/np.pi*180,360)\n",
    "    strD='{:02.1f}'.format(ang180)\n",
    "    plt.title(pramB+': '+strD)\n",
    "\n",
    "\n",
    "# dataD=np.array([[1, -1,-1,1],[1,1,-1,-1]])\n",
    "# dataD=np.dot(rotA(np.pi/4),dataD)\n",
    "\n",
    "pramA=np.array([[1, -1,-1,1],[1,1,-1,-1]])\n",
    "pramB='Angle'\n",
    "animatedP = animation.FuncAnimation(fig, plotP, fargs = (pramA, pramB), interval=1000,frames = 200)\n",
    "plt.show()\n",
    "\n",
    "animatedP.save('anime'+str(figNum)+'.gif', writer = 'imagemagick')"
   ]
  }
 ],
 "metadata": {
  "kernelspec": {
   "display_name": "Python 3 (ipykernel)",
   "language": "python",
   "name": "python3"
  },
  "language_info": {
   "codemirror_mode": {
    "name": "ipython",
    "version": 3
   },
   "file_extension": ".py",
   "mimetype": "text/x-python",
   "name": "python",
   "nbconvert_exporter": "python",
   "pygments_lexer": "ipython3",
   "version": "3.9.16"
  }
 },
 "nbformat": 4,
 "nbformat_minor": 5
}
