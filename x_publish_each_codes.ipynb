{
 "cells": [
  {
   "cell_type": "code",
   "execution_count": 80,
   "metadata": {},
   "outputs": [
    {
     "name": "stdout",
     "output_type": "stream",
     "text": [
      "lec1_step3\n",
      "jupyter nbconvert --to asciidoc lec1_step3.ipynb\n",
      "jupyter nbconvert --to html lec1_step3.ipynb\n",
      "jupyter nbconvert --to latex lec1_step3.ipynb\n",
      "jupyter nbconvert --to markdown lec1_step3.ipynb\n",
      "jupyter nbconvert --to pdf lec1_step3.ipynb\n",
      "jupyter nbconvert --to python lec1_step3.ipynb\n",
      "jupyter nbconvert --to slides lec1_step3.ipynb\n",
      "There exists lec1_step3\n",
      "lec1_step3.asciidoc\n",
      "lec1_step3.html\n",
      "lec1_step3.tex\n",
      "lec1_step3.md\n",
      "lec1_step3.pdf\n",
      "lec1_step3.slides.html\n",
      "lec1_step3.asciidoc\n",
      "lec1_step3.html\n",
      "lec1_step3.tex\n",
      "lec1_step3.md\n",
      "lec1_step3.pdf\n",
      "lec1_step3.slides.html\n",
      "\n",
      " All processes were completed!\n"
     ]
    }
   ],
   "source": [
    "import subprocess\n",
    "import shutil\n",
    "import os\n",
    "import time\n",
    "\n",
    "originalF='lec1_step4.ipynb';\n",
    "# originalF='x_publish_all_codes_sub.ipynb';\n",
    "\n",
    "#ftypes=['asciidoc', 'html', 'latex', 'markdown', 'notebook', 'pdf', 'python','slides'];\n",
    "#ptypes=['asciidoc', 'html', 'tex', 'md', 'ipynb', 'pdf', 'py','slides.html'];\n",
    "ftypes=['asciidoc', 'html', 'latex', 'markdown', 'pdf', 'python','slides'];\n",
    "ptypes=['asciidoc', 'html', 'tex', 'md', 'pdf','slides.html'];\n",
    "\n",
    "cmd0=['jupyter','nbconvert','--to'];\n",
    "ftag=originalF.split('.')[0];\n",
    "\n",
    "print(ftag)\n",
    "\n",
    "for key in ftypes:\n",
    "  cmd=cmd0+[key]+[originalF];\n",
    "  Pcmd=' '.join(cmd)\n",
    "  print(Pcmd)\n",
    "  subprocess.Popen(cmd)\n",
    "    \n",
    "if  not os.path.isdir(ftag):\n",
    "    print(' '.join(['The target folder \\\"',ftag,'\\\" does not exist...']))\n",
    "    os.mkdir(ftag);\n",
    "else:\n",
    "    print(' '.join(['There exists',ftag]));    \n",
    "    \n",
    "time.sleep(10);    \n",
    "for key in ptypes:\n",
    "    target='.'.join([ftag,key]);\n",
    "    print(target);\n",
    "    if os.path.isfile(target):\n",
    "        shutil.move(target,os.path.join(ftag,target));\n",
    "\n",
    "# html sub folder treatment\n",
    "htmlsF='_'.join([ftag,'files']);\n",
    "if os.path.isdir(htmlsF):\n",
    "    shutil.move(htmlsF,ftag)\n",
    "    \n",
    "time.sleep(10);\n",
    "for key in ptypes:\n",
    "    target='.'.join([ftag,key]);\n",
    "    print(target);\n",
    "    if os.path.isfile(target):\n",
    "        os.remove(target);\n",
    "\n",
    "# html sub folder treatment\n",
    "if os.path.isdir(htmlsF):\n",
    "        shutil.rmtree(htmlsF);\n",
    "        \n",
    "target='.'.join([ftag,ptypes[0]]);\n",
    "target2='.'.join([ftag,'txt']);\n",
    "shutil.copy(os.path.join(ftag,target),os.path.join(ftag,target2));\n",
    "\n",
    "print(\"\\n All processes were completed!\")"
   ]
  },
  {
   "cell_type": "code",
   "execution_count": 60,
   "metadata": {},
   "outputs": [
    {
     "data": {
      "text/plain": [
       "'lec1_step3/lec1_step3_files'"
      ]
     },
     "execution_count": 60,
     "metadata": {},
     "output_type": "execute_result"
    }
   ],
   "source": [
    "shutil.move('lec1_step3_files', 'lec1_step3')"
   ]
  },
  {
   "cell_type": "code",
   "execution_count": 77,
   "metadata": {},
   "outputs": [],
   "source": [
    "ftag='lec1_step3';\n",
    "# html sub folder treatment\n",
    "htmlsF='_'.join([ftag,'files']);\n",
    "if os.path.isdir(htmlsF):\n",
    "    shutil.move(htmlsF,ftag)"
   ]
  },
  {
   "cell_type": "code",
   "execution_count": 73,
   "metadata": {},
   "outputs": [],
   "source": [
    "ftag='lec1_step3';\n",
    "htmlsF='_'.join([ftag,'files'])"
   ]
  }
 ],
 "metadata": {
  "kernelspec": {
   "display_name": "Python 3",
   "language": "python",
   "name": "python3"
  },
  "language_info": {
   "codemirror_mode": {
    "name": "ipython",
    "version": 3
   },
   "file_extension": ".py",
   "mimetype": "text/x-python",
   "name": "python",
   "nbconvert_exporter": "python",
   "pygments_lexer": "ipython3",
   "version": "3.7.7"
  }
 },
 "nbformat": 4,
 "nbformat_minor": 2
}
