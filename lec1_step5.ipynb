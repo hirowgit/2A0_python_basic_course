{
 "cells": [
  {
   "cell_type": "code",
   "execution_count": null,
   "metadata": {},
   "outputs": [],
   "source": [
    "## Python basics for novice data scientists, supported by Wagatsuma Lab@Kyutech \n",
    "#\n",
    "# The MIT License (MIT): Copyright (c) 2020 Hiroaki Wagatsuma and Wagatsuma Lab@Kyutech\n",
    "# \n",
    "# Permission is hereby granted, free of charge, to any person obtaining a copy of this software and associated documentation files (the \"Software\"), to deal in the Software without restriction, including without limitation the rights to use, copy, modify, merge, publish, distribute, sublicense, and/or sell copies of the Software, and to permit persons to whom the Software is furnished to do so, subject to the following conditions:\n",
    "# The above copyright notice and this permission notice shall be included in all copies or substantial portions of the Software.\n",
    "# THE SOFTWARE IS PROVIDED \"AS IS\", WITHOUT WARRANTY OF ANY KIND, EXPRESS OR IMPLIED, INCLUDING BUT NOT LIMITED TO THE WARRANTIES OF MERCHANTABILITY, FITNESS FOR A PARTICULAR PURPOSE AND NONINFRINGEMENT. IN NO EVENT SHALL THE AUTHORS OR COPYRIGHT HOLDERS BE LIABLE FOR ANY CLAIM, DAMAGES OR OTHER LIABILITY, WHETHER IN AN ACTION OF CONTRACT, TORT OR OTHERWISE, ARISING FROM, OUT OF OR IN CONNECTION WITH THE SOFTWARE OR THE USE OR OTHER DEALINGS IN THE SOFTWARE. */\n",
    "#\n",
    "# # @Time    : 2020-10-14 \n",
    "# # @Author  : Hiroaki Wagatsuma\n",
    "# # @Site    : https://github.com/hirowgit/2A_python_basic_course\n",
    "# # @IDE     : Python 3.7.7 (default, Mar 10 2020, 15:43:27) [Clang 10.0.0 (clang-1000.11.45.5)] on darwin\n",
    "# # @File    : lec1_step5.py "
   ]
  },
  {
   "cell_type": "code",
   "execution_count": null,
   "metadata": {},
   "outputs": [],
   "source": [
    "# Practice 2-2 (page 21/28)\n",
    "# https://www.slideshare.net/tadahirotaniguchi0624/2-46861654"
   ]
  },
  {
   "cell_type": "code",
   "execution_count": 8,
   "metadata": {},
   "outputs": [],
   "source": [
    "# open list and closed list"
   ]
  },
  {
   "cell_type": "code",
   "execution_count": 10,
   "metadata": {},
   "outputs": [],
   "source": [
    "# first idea\n",
    "OpenList=[1,2,3,4]"
   ]
  },
  {
   "cell_type": "code",
   "execution_count": 5,
   "metadata": {},
   "outputs": [
    {
     "data": {
      "text/plain": [
       "2"
      ]
     },
     "execution_count": 5,
     "metadata": {},
     "output_type": "execute_result"
    }
   ],
   "source": [
    "OpenList[1]"
   ]
  },
  {
   "cell_type": "code",
   "execution_count": 6,
   "metadata": {},
   "outputs": [
    {
     "data": {
      "text/plain": [
       "1"
      ]
     },
     "execution_count": 6,
     "metadata": {},
     "output_type": "execute_result"
    }
   ],
   "source": [
    "OpenList[0]  # note array start from [0] like C, C++"
   ]
  },
  {
   "cell_type": "code",
   "execution_count": 105,
   "metadata": {},
   "outputs": [
    {
     "ename": "SyntaxError",
     "evalue": "invalid syntax (<ipython-input-105-1bf0c221c17f>, line 5)",
     "output_type": "error",
     "traceback": [
      "\u001b[0;36m  File \u001b[0;32m\"<ipython-input-105-1bf0c221c17f>\"\u001b[0;36m, line \u001b[0;32m5\u001b[0m\n\u001b[0;31m    'S':'A','B',\u001b[0m\n\u001b[0m               ^\u001b[0m\n\u001b[0;31mSyntaxError\u001b[0m\u001b[0;31m:\u001b[0m invalid syntax\n"
     ]
    }
   ],
   "source": [
    "# As you see in Fig 2.9, open list and closed list should be defined at each node. \n",
    "# Therefore those lists require multiple open and closed lists for each node.\n",
    "# It implies dictionary is a good option.\n",
    "TargetGraph={\n",
    "    'S':'A','B',\n",
    "    'A':'S','C','D',\n",
    "    'B':'S','C',\n",
    "    'C':'A','B','D',\n",
    "    'D':'A','C',\n",
    "#    'G':'unknown now\n",
    "}"
   ]
  },
  {
   "cell_type": "code",
   "execution_count": 110,
   "metadata": {},
   "outputs": [],
   "source": [
    "TargetGraph={\n",
    "    'S':['A','B'],\n",
    "    'A':['S','C','D'],\n",
    "    'B':['S','C'],\n",
    "    'C':['A','B','D'],\n",
    "    'D':['A','C']\n",
    "#    'G':'unknown now\n",
    "}"
   ]
  },
  {
   "cell_type": "code",
   "execution_count": 111,
   "metadata": {},
   "outputs": [
    {
     "data": {
      "text/plain": [
       "['A', 'B']"
      ]
     },
     "execution_count": 111,
     "metadata": {},
     "output_type": "execute_result"
    }
   ],
   "source": [
    "TargetGraph['S']"
   ]
  },
  {
   "cell_type": "code",
   "execution_count": 112,
   "metadata": {},
   "outputs": [
    {
     "data": {
      "text/plain": [
       "'A'"
      ]
     },
     "execution_count": 112,
     "metadata": {},
     "output_type": "execute_result"
    }
   ],
   "source": [
    "TargetGraph['S'][0]"
   ]
  },
  {
   "cell_type": "code",
   "execution_count": 113,
   "metadata": {},
   "outputs": [],
   "source": [
    "TargetGraph['S'].append(\"G\")"
   ]
  },
  {
   "cell_type": "code",
   "execution_count": 23,
   "metadata": {},
   "outputs": [
    {
     "name": "stdout",
     "output_type": "stream",
     "text": [
      "{'S': ['A', 'B', 'G'], 'A': ['S', 'B'], 'B': ['A', 'B'], 'C': ['A', 'B'], 'D': ['A', 'B']}\n"
     ]
    }
   ],
   "source": [
    "print(TargetGraph)"
   ]
  },
  {
   "cell_type": "code",
   "execution_count": 114,
   "metadata": {},
   "outputs": [
    {
     "name": "stdout",
     "output_type": "stream",
     "text": [
      "{'S': ['A', 'B'], 'A': ['S', 'C', 'D'], 'B': ['S', 'C'], 'C': ['A', 'B', 'D'], 'D': ['A', 'C']}\n"
     ]
    }
   ],
   "source": [
    "# If you want to delete the last item\n",
    "del TargetGraph['S'][-1]\n",
    "print(TargetGraph)"
   ]
  },
  {
   "cell_type": "code",
   "execution_count": 115,
   "metadata": {},
   "outputs": [
    {
     "name": "stdout",
     "output_type": "stream",
     "text": [
      "Empty\n"
     ]
    }
   ],
   "source": [
    "tList=[]\n",
    "if tList: \n",
    "    print('Not Empty')\n",
    "else:\n",
    "    print('Empty') "
   ]
  },
  {
   "cell_type": "code",
   "execution_count": 116,
   "metadata": {},
   "outputs": [
    {
     "name": "stdout",
     "output_type": "stream",
     "text": [
      "[2, 3, 4, 5]\n",
      "[3, 4, 5]\n",
      "[4, 5]\n",
      "[5]\n",
      "[]\n",
      "completed\n"
     ]
    }
   ],
   "source": [
    "tList=[1,2,3,4,5]\n",
    "while tList:\n",
    "    del tList[0]\n",
    "    print(tList)\n",
    "print('completed') "
   ]
  },
  {
   "cell_type": "code",
   "execution_count": 117,
   "metadata": {},
   "outputs": [
    {
     "name": "stdout",
     "output_type": "stream",
     "text": [
      "[['A', 'B'], 'S']\n"
     ]
    }
   ],
   "source": [
    "OpenList=['S']\n",
    "OpenList.insert(0,['A','B']) \n",
    "print(OpenList)"
   ]
  },
  {
   "cell_type": "code",
   "execution_count": 118,
   "metadata": {},
   "outputs": [
    {
     "data": {
      "text/plain": [
       "['A', 'B']"
      ]
     },
     "execution_count": 118,
     "metadata": {},
     "output_type": "execute_result"
    }
   ],
   "source": [
    "sList=['A','B']\n",
    "[d for d in sList]"
   ]
  },
  {
   "cell_type": "code",
   "execution_count": 119,
   "metadata": {},
   "outputs": [
    {
     "data": {
      "text/plain": [
       "['S', 'C', 'D']"
      ]
     },
     "execution_count": 119,
     "metadata": {},
     "output_type": "execute_result"
    }
   ],
   "source": [
    "TargetGraph['A']"
   ]
  },
  {
   "cell_type": "code",
   "execution_count": 126,
   "metadata": {},
   "outputs": [
    {
     "name": "stdout",
     "output_type": "stream",
     "text": [
      "[['A', 'B'], 'S']\n",
      "['A', 'B', 'S']\n"
     ]
    }
   ],
   "source": [
    "OpenList=['S']\n",
    "sList=['A','B']\n",
    "OpenList.insert(0, sList) \n",
    "OpenList=[d for d in OpenList]\n",
    "print(OpenList)\n",
    "OpenList=[item for i in OpenList for item in i]\n",
    "print(OpenList)"
   ]
  },
  {
   "cell_type": "code",
   "execution_count": 78,
   "metadata": {},
   "outputs": [
    {
     "name": "stdout",
     "output_type": "stream",
     "text": [
      "Yes\n"
     ]
    }
   ],
   "source": [
    "if 'A' in ['A', 'B', 'S']: \n",
    "    print('Yes')"
   ]
  },
  {
   "cell_type": "code",
   "execution_count": 79,
   "metadata": {},
   "outputs": [],
   "source": [
    "if 'A' not in ['A', 'B', 'S']: \n",
    "    print('Yes')"
   ]
  },
  {
   "cell_type": "code",
   "execution_count": 88,
   "metadata": {},
   "outputs": [
    {
     "data": {
      "text/plain": [
       "['A', 'B']"
      ]
     },
     "execution_count": 88,
     "metadata": {},
     "output_type": "execute_result"
    }
   ],
   "source": [
    "tList=[]\n",
    "addList=['A', 'B', 'S']\n",
    "ClosedList=['S']\n",
    "activeNode=[item for item in addList if item not in ClosedList]\n",
    "activeNode"
   ]
  },
  {
   "cell_type": "code",
   "execution_count": 134,
   "metadata": {},
   "outputs": [
    {
     "name": "stdout",
     "output_type": "stream",
     "text": [
      "[['A', 'B'], 'S']\n",
      "['A', 'B']\n",
      "['A', 'B']\n"
     ]
    }
   ],
   "source": [
    "OpenList=['S']\n",
    "state='S'\n",
    "OpenList.insert(0, TargetGraph[state]) \n",
    "print(OpenList)\n",
    "\n",
    "OpenList=['S']\n",
    "ClosedList=['S']\n",
    "state='S'\n",
    "print(TargetGraph[state])\n",
    "activeNodes=[item for item in TargetGraph[state] if item not in ClosedList]\n",
    "OpenList.insert(0, activeNodes) \n",
    "OpenList=[item for i in OpenList for item in i if item not in ClosedList]\n",
    "print(OpenList)"
   ]
  },
  {
   "cell_type": "code",
   "execution_count": 135,
   "metadata": {},
   "outputs": [
    {
     "name": "stdout",
     "output_type": "stream",
     "text": [
      "S\n",
      "A\n",
      "C\n",
      "B\n",
      "D\n",
      "completed\n"
     ]
    }
   ],
   "source": [
    "OpenList=['S']\n",
    "ClosedList=[]\n",
    "while OpenList:\n",
    "    state=OpenList[0]\n",
    "    del OpenList[0]\n",
    "    ClosedList.append(state)\n",
    "    print(state)\n",
    "    if state=='G':\n",
    "        break\n",
    " #   activeNodes=TargetGraph[state]\n",
    "    activeNodes=[item for item in TargetGraph[state] if item not in ClosedList]\n",
    "    OpenList.insert(0, activeNodes)\n",
    "#    OpenList=[item for i in OpenList for item in i]\n",
    "    OpenList=[item for i in OpenList for item in i if item not in ClosedList]\n",
    "print('completed') "
   ]
  },
  {
   "cell_type": "code",
   "execution_count": 136,
   "metadata": {},
   "outputs": [],
   "source": [
    "TargetGraph={\n",
    "    'A':['B','C'],\n",
    "    'B':['A','D','E'],\n",
    "    'C':['A','F','G','H'],\n",
    "    'D':['B','I'],\n",
    "    'E':['B'],\n",
    "    'F':['C'],\n",
    "    'G':['C','J'],\n",
    "    'H':['C'],\n",
    "    'I':['D'],\n",
    "    'J':['G']\n",
    "#    'G':'unknown now\n",
    "}"
   ]
  },
  {
   "cell_type": "code",
   "execution_count": 143,
   "metadata": {},
   "outputs": [
    {
     "name": "stdout",
     "output_type": "stream",
     "text": [
      "1: A\n",
      "2: B\n",
      "3: D\n",
      "4: I\n",
      "5: E\n",
      "6: C\n",
      "7: F\n",
      "8: G\n",
      "9: J\n",
      "10: H\n",
      "completed\n"
     ]
    }
   ],
   "source": [
    "OpenList=['A']\n",
    "ClosedList=[]\n",
    "k=1\n",
    "while OpenList:\n",
    "    state=OpenList[0]\n",
    "    del OpenList[0]\n",
    "    ClosedList.append(state)\n",
    "    print(str(k)+\": \"+state)\n",
    "    if state=='Goal':\n",
    "        break\n",
    " #   activeNodes=TargetGraph[state]\n",
    "    activeNodes=[item for item in TargetGraph[state] if item not in ClosedList]\n",
    "    OpenList.insert(0, activeNodes)\n",
    "#    OpenList=[item for i in OpenList for item in i]\n",
    "    OpenList=[item for i in OpenList for item in i if item not in ClosedList]\n",
    "    k=k+1\n",
    "print('completed') "
   ]
  },
  {
   "cell_type": "code",
   "execution_count": null,
   "metadata": {},
   "outputs": [],
   "source": []
  }
 ],
 "metadata": {
  "kernelspec": {
   "display_name": "Python 3",
   "language": "python",
   "name": "python3"
  },
  "language_info": {
   "codemirror_mode": {
    "name": "ipython",
    "version": 3
   },
   "file_extension": ".py",
   "mimetype": "text/x-python",
   "name": "python",
   "nbconvert_exporter": "python",
   "pygments_lexer": "ipython3",
   "version": "3.7.7"
  }
 },
 "nbformat": 4,
 "nbformat_minor": 2
}
