{
 "cells": [
  {
   "cell_type": "code",
   "execution_count": 132,
   "metadata": {},
   "outputs": [],
   "source": [
    "## Python basics for novice data scientists, supported by Wagatsuma Lab@Kyutech \n",
    "#\n",
    "# The MIT License (MIT): Copyright (c) 2020 Hiroaki Wagatsuma and Wagatsuma Lab@Kyutech\n",
    "# \n",
    "# Permission is hereby granted, free of charge, to any person obtaining a copy of this software and associated documentation files (the \"Software\"), to deal in the Software without restriction, including without limitation the rights to use, copy, modify, merge, publish, distribute, sublicense, and/or sell copies of the Software, and to permit persons to whom the Software is furnished to do so, subject to the following conditions:\n",
    "# The above copyright notice and this permission notice shall be included in all copies or substantial portions of the Software.\n",
    "# THE SOFTWARE IS PROVIDED \"AS IS\", WITHOUT WARRANTY OF ANY KIND, EXPRESS OR IMPLIED, INCLUDING BUT NOT LIMITED TO THE WARRANTIES OF MERCHANTABILITY, FITNESS FOR A PARTICULAR PURPOSE AND NONINFRINGEMENT. IN NO EVENT SHALL THE AUTHORS OR COPYRIGHT HOLDERS BE LIABLE FOR ANY CLAIM, DAMAGES OR OTHER LIABILITY, WHETHER IN AN ACTION OF CONTRACT, TORT OR OTHERWISE, ARISING FROM, OUT OF OR IN CONNECTION WITH THE SOFTWARE OR THE USE OR OTHER DEALINGS IN THE SOFTWARE. */\n",
    "#\n",
    "# # @Time    : 2022-10-6 \n",
    "# # @Author  : Hiroaki Wagatsuma\n",
    "# # @Site    : https://github.com/hirowgit/2A_python_basic_course\n",
    "# # @IDE     : Python 3.9\n",
    "# # @File    : lec1_step9.py "
   ]
  },
  {
   "cell_type": "code",
   "execution_count": 133,
   "metadata": {},
   "outputs": [],
   "source": [
    "# Practice 3-2 (page 11/29)\n",
    "# https://www.slideshare.net/tadahirotaniguchi0624/3-46861684"
   ]
  },
  {
   "cell_type": "code",
   "execution_count": 134,
   "metadata": {},
   "outputs": [],
   "source": [
    "TargetGraph={\n",
    "    'S':['A','B'],\n",
    "    'A':['S','B','C'],\n",
    "    'B':['S','A','E' ,'F'],\n",
    "    'C':['A','E','D'],\n",
    "    'D':['C','E' ,'G'],\n",
    "    'E':['B','C' ,'D' ,'G'],\n",
    "    'F':['B'],\n",
    "    'G':['D','E']\n",
    "}"
   ]
  },
  {
   "cell_type": "code",
   "execution_count": 135,
   "metadata": {},
   "outputs": [
    {
     "name": "stdout",
     "output_type": "stream",
     "text": [
      "['S', 'A', 'B', 'C', 'D', 'E', 'F', 'G']\n"
     ]
    }
   ],
   "source": [
    "N=7\n",
    "Node=[chr(i) for i in range(65,65+N)]\n",
    "Node=['S']+Node\n",
    "print(Node)"
   ]
  },
  {
   "cell_type": "code",
   "execution_count": 203,
   "metadata": {},
   "outputs": [],
   "source": [
    "# heuristic value\n",
    "H=[4,4,2,3,1,1,0,0]"
   ]
  },
  {
   "cell_type": "code",
   "execution_count": 136,
   "metadata": {},
   "outputs": [],
   "source": [
    "C=[[0, 2, 6, 0, 0, 0, 0, 0],\n",
    "      [2, 0, 2, 1, 0, 0, 0, 0] ,\n",
    "      [6, 2, 0, 0, 0, 5, 4, 0] ,\n",
    "      [0, 1, 0, 0, 5, 2, 0, 0] ,\n",
    "      [0, 0, 0, 5, 0, 1, 0, 1] ,\n",
    "      [0, 0, 5, 2, 1, 0, 0, 5] ,\n",
    "      [0, 0, 4, 0, 0, 0, 0, 0] ,\n",
    "      [0, 0, 0, 0, 1, 5, 0, 0]\n",
    "]"
   ]
  },
  {
   "cell_type": "code",
   "execution_count": 137,
   "metadata": {},
   "outputs": [
    {
     "name": "stdout",
     "output_type": "stream",
     "text": [
      "[0, 1, 5, 6]\n",
      "[6, 2, 5, 4]\n"
     ]
    }
   ],
   "source": [
    "OpenList=['S','A','E','F']\n",
    "state='B'\n",
    "key=Node.index(state)\n",
    "Cost=C[key]\n",
    "indexList=[Node.index(L)  for L in OpenList]\n",
    "CList=[C[Node.index(state)][i] for i in indexList]\n",
    "print(indexList)\n",
    "print(CList)"
   ]
  },
  {
   "cell_type": "code",
   "execution_count": 138,
   "metadata": {},
   "outputs": [
    {
     "name": "stdout",
     "output_type": "stream",
     "text": [
      "['S', 'A', 'E', 'F']\n",
      "[6, 2, 5, 4]\n",
      " \n",
      "[{'node': 'S', 'cost': 6}, {'node': 'A', 'cost': 2}, {'node': 'E', 'cost': 5}, {'node': 'F', 'cost': 4}]\n",
      "[{'node': 'A', 'cost': 2}, {'node': 'F', 'cost': 4}, {'node': 'E', 'cost': 5}, {'node': 'S', 'cost': 6}]\n",
      "['A', 'F', 'E', 'S']\n"
     ]
    }
   ],
   "source": [
    "print(OpenList)\n",
    "print(CList)\n",
    "print(' ')\n",
    "keys = ['node','cost']\n",
    "# keys2 = ['node','cost','h']\n",
    "d_all=[]\n",
    "for i in range(len(OpenList)):\n",
    "    values=[OpenList[i],CList[i]]\n",
    "    d = {k: v for k, v in zip(keys, values)}\n",
    "    d_all.append(d)\n",
    "print(d_all)\n",
    "d_all.sort(key=lambda x: x['cost'])\n",
    "print(d_all)\n",
    "print([d['node'] for d in d_all])"
   ]
  },
  {
   "cell_type": "code",
   "execution_count": 139,
   "metadata": {},
   "outputs": [
    {
     "name": "stdout",
     "output_type": "stream",
     "text": [
      "['state', 'S']\n",
      "['OpenList(1)', []]\n",
      "['ClosedList', ['S']]\n",
      "['OpenList(2)', ['A', 'B']]\n",
      "\n",
      "['state', 'A']\n",
      "['OpenList(1)', ['B']]\n",
      "['ClosedList', ['A', 'S']]\n",
      "['OpenList(2)', ['C', 'B']]\n",
      "\n",
      "['state', 'C']\n",
      "['OpenList(1)', ['B']]\n",
      "['ClosedList', ['A', 'S', 'C']]\n",
      "['OpenList(2)', ['B', 'E', 'D']]\n",
      "\n",
      "['state', 'B']\n",
      "['OpenList(1)', ['E', 'D']]\n",
      "['ClosedList', ['A', 'B', 'C', 'S']]\n",
      "['OpenList(2)', ['D', 'F', 'E']]\n",
      "\n",
      "['state', 'D']\n",
      "['OpenList(1)', ['F', 'E']]\n",
      "['ClosedList', ['S', 'C', 'A', 'B', 'D']]\n",
      "['OpenList(2)', ['F', 'E', 'G']]\n",
      "\n",
      "['state', 'F']\n",
      "['OpenList(1)', ['E', 'G']]\n",
      "['ClosedList', ['S', 'C', 'A', 'B', 'F', 'D']]\n",
      "['OpenList(2)', ['E', 'G']]\n",
      "\n",
      "['state', 'E']\n",
      "['OpenList(1)', ['G']]\n",
      "['ClosedList', ['S', 'C', 'A', 'E', 'B', 'F', 'D']]\n",
      "['OpenList(2)', ['G']]\n",
      "\n",
      "['state', 'G']\n",
      "['OpenList(1)', []]\n",
      "['ClosedList', ['S', 'C', 'G', 'A', 'E', 'B', 'F', 'D']]\n",
      "Completed\n"
     ]
    }
   ],
   "source": [
    "# incompleted version of cost-first search (not summation)\n",
    "\n",
    "OpenList=['S']\n",
    "ClosedList=[]\n",
    "while OpenList:\n",
    "    state=OpenList[0]\n",
    "    del OpenList[0]\n",
    "    ClosedList=[state]+ClosedList\n",
    "    ClosedList=list(set(ClosedList))\n",
    "    print(['state',state])\n",
    "    print(['OpenList(1)',OpenList])\n",
    "    print(['ClosedList',ClosedList])\n",
    "    if state=='G':\n",
    "        break\n",
    "    tmpSt=set(TargetGraph[state]) -set(ClosedList)\n",
    "    activeNodes=list(tmpSt -set(OpenList))    \n",
    "    OpenList.extend(activeNodes)\n",
    "    \n",
    "    # cost-first sorting \n",
    "    indexList=[Node.index(L)  for L in OpenList]\n",
    "    CList=[C[Node.index(state)][i] for i in indexList]\n",
    "    \n",
    "    keys = ['node','cost']\n",
    "    d_all=[]\n",
    "    for i in range(len(OpenList)):\n",
    "        values=[OpenList[i],CList[i]]\n",
    "        d = {k: v for k, v in zip(keys, values)}\n",
    "        d_all.append(d)\n",
    "    d_all.sort(key=lambda x: x['cost'])\n",
    "    OpenList=[d['node'] for d in d_all]\n",
    "    # ---\n",
    "    \n",
    "    print(['OpenList(2)',OpenList])\n",
    "    print('')\n",
    "print('Completed') "
   ]
  },
  {
   "cell_type": "code",
   "execution_count": 140,
   "metadata": {
    "scrolled": true
   },
   "outputs": [
    {
     "name": "stdout",
     "output_type": "stream",
     "text": [
      "['state', 'S']\n",
      "['OpenList(1)', []]\n",
      "['ClosedList', ['S']]\n",
      "pre ['A', 'B'] [2, 6] [2, 6]\n",
      "post ['A', 'B'] [2, 6] [2, 6] ['S', 'S']\n",
      "['OpenList(2)', ['A', 'B']]\n",
      "\n",
      "['state', 'A']\n",
      "['OpenList(1)', ['B']]\n",
      "['ClosedList', ['A', 'S']]\n",
      "pre ['B', 'B', 'C'] [2, 2, 1] [6, 4, 3]\n",
      "post ['C', 'B', 'B'] [2, 2, 1] [3, 4, 6] ['A', 'A', 'S']\n",
      "['OpenList(2)', ['C', 'B', 'B']]\n",
      "\n",
      "['state', 'C']\n",
      "['OpenList(1)', ['B', 'B']]\n",
      "['ClosedList', ['A', 'S', 'C']]\n",
      "pre ['B', 'B', 'E', 'D'] [0, 0, 2, 5] [4, 6, 5, 8]\n",
      "post ['B', 'E', 'B', 'D'] [0, 0, 2, 5] [4, 5, 6, 8] ['A', 'C', 'S', 'C']\n",
      "['OpenList(2)', ['B', 'E', 'B', 'D']]\n",
      "\n",
      "['state', 'B']\n",
      "['OpenList(1)', ['E', 'B', 'D']]\n",
      "['ClosedList', ['A', 'B', 'C', 'S']]\n",
      "pre ['E', 'B', 'D', 'E', 'F'] [5, 0, 0, 5, 4] [5, 6, 8, 9, 8]\n",
      "post ['E', 'B', 'D', 'F', 'E'] [5, 0, 0, 5, 4] [5, 6, 8, 8, 9] ['C', 'S', 'C', 'B', 'B']\n",
      "['OpenList(2)', ['E', 'B', 'D', 'F', 'E']]\n",
      "\n",
      "['state', 'E']\n",
      "['OpenList(1)', ['B', 'D', 'F', 'E']]\n",
      "['ClosedList', ['S', 'C', 'A', 'E', 'B']]\n",
      "pre ['B', 'D', 'F', 'E', 'G', 'D'] [5, 1, 0, 0, 5, 1] [6, 8, 8, 9, 10, 6]\n",
      "post ['B', 'D', 'D', 'F', 'E', 'G'] [5, 1, 0, 0, 5, 1] [6, 6, 8, 8, 9, 10] ['S', 'E', 'C', 'B', 'B', 'E']\n",
      "['OpenList(2)', ['B', 'D', 'D', 'F', 'E', 'G']]\n",
      "\n",
      "['state', 'B']\n",
      "['OpenList(1)', ['D', 'D', 'F', 'E', 'G']]\n",
      "['ClosedList', ['S', 'C', 'A', 'E', 'B']]\n",
      "pre ['D', 'D', 'F', 'E', 'G', 'F'] [0, 0, 4, 5, 0, 4] [6, 8, 12, 14, 10, 10]\n",
      "post ['D', 'D', 'G', 'F', 'F', 'E'] [0, 0, 4, 5, 0, 4] [6, 8, 10, 10, 12, 14] ['E', 'C', 'E', 'B', 'B', 'B']\n",
      "['OpenList(2)', ['D', 'D', 'G', 'F', 'F', 'E']]\n",
      "\n",
      "['state', 'D']\n",
      "['OpenList(1)', ['D', 'G', 'F', 'F', 'E']]\n",
      "['ClosedList', ['S', 'C', 'A', 'E', 'B', 'D']]\n",
      "pre ['D', 'G', 'F', 'F', 'E', 'G'] [0, 1, 0, 0, 1, 1] [8, 10, 10, 12, 14, 7]\n",
      "post ['G', 'D', 'G', 'F', 'F', 'E'] [0, 1, 0, 0, 1, 1] [7, 8, 10, 10, 12, 14] ['D', 'C', 'E', 'B', 'B', 'B']\n",
      "['OpenList(2)', ['G', 'D', 'G', 'F', 'F', 'E']]\n",
      "\n",
      "['state', 'G']\n",
      "['OpenList(1)', ['D', 'G', 'F', 'F', 'E']]\n",
      "['ClosedList', ['S', 'C', 'G', 'A', 'E', 'B', 'D']]\n",
      "Completed\n",
      "~~~\n",
      "Final path (from Goal, from Start, minimum (total) cost in the path):\n",
      "['G', 'D', 'E', 'C', 'A', 'S'] ['S', 'A', 'C', 'E', 'D', 'G'] 7\n"
     ]
    }
   ],
   "source": [
    "# 2nd_ completed version of cost-first search (summation)\n",
    "\n",
    "OpenList=['S']\n",
    "preList=['']\n",
    "ClosedList=[]\n",
    "pathL1=[]\n",
    "pathL2=[]\n",
    "OpenLcost=[0]\n",
    "kk=1\n",
    "while OpenList and kk<10:\n",
    "    kk=kk+1\n",
    "    state=OpenList.pop(0)\n",
    "    tempC= OpenLcost.pop(0)\n",
    "    pathL1.append(state)\n",
    "    pathL2.append(preList[0])\n",
    "    del preList[0]\n",
    "    ClosedList=[state]+ClosedList\n",
    "    ClosedList=list(set(ClosedList))\n",
    "    print(['state',state])\n",
    "    print(['OpenList(1)',OpenList])\n",
    "    print(['ClosedList',ClosedList])\n",
    "    if state=='G':\n",
    "        break\n",
    "    tmpSt=set(TargetGraph[state]) -set(ClosedList)\n",
    "#     activeNodes=list(tmpSt -set(OpenList))    \n",
    "    activeNodes=list(tmpSt)    \n",
    "    preList = preList+[state]*len(activeNodes)\n",
    "    OpenList = OpenList+activeNodes\n",
    "    \n",
    "    # cost-first sorting \n",
    "    indexList=[Node.index(L)  for L in OpenList]\n",
    "    CList=[C[Node.index(state)][i] for i in indexList]\n",
    "    if OpenLcost:\n",
    "        OpenLcost=OpenLcost+[tempC]*len(activeNodes)\n",
    "        OpenLcost=[x*int(z==state)+y for x,y,z in zip(CList,OpenLcost,preList) ]\n",
    "    else:\n",
    "        OpenLcost = CList\n",
    "        \n",
    "    print('pre',OpenList,CList,OpenLcost)\n",
    "    keys = ['node','cost','pre']\n",
    "    d_all=[dict(zip(keys, [n,c,p])) for n,c,p in zip(OpenList,OpenLcost,preList)]\n",
    "    d_all.sort(key=lambda x: x['cost'])\n",
    "    OpenList=[d['node'] for d in d_all]\n",
    "    OpenLcost=[d['cost'] for d in d_all]\n",
    "    preList=[d['pre'] for d in d_all]\n",
    "    print('post',OpenList,CList,OpenLcost,preList)\n",
    "    # ---\n",
    "    \n",
    "    print(['OpenList(2)',OpenList])\n",
    "    print('')\n",
    "print('Completed') \n",
    "\n",
    "# pathL1,pathL2\n",
    "\n",
    "tL1=pathL1.copy()\n",
    "tL2=pathL2[1:].copy()\n",
    "pathL=[tL1.pop()]\n",
    "while tL2:\n",
    "    preP=tL2.pop()\n",
    "    pathL.append(preP)\n",
    "    while tL1[-1]!=preP:\n",
    "        tL1.pop()\n",
    "        tL2.pop()\n",
    "    tL1.pop()\n",
    "\n",
    "pathLrev=pathL[::-1]\n",
    "\n",
    "print('~~~')\n",
    "print('Final path (from Goal, from Start, minimum (total) cost in the path):')\n",
    "print(pathL,pathLrev,tempC)"
   ]
  },
  {
   "cell_type": "code",
   "execution_count": 141,
   "metadata": {},
   "outputs": [
    {
     "name": "stdout",
     "output_type": "stream",
     "text": [
      "['S', 'A', 'C', 'B', 'E', 'B', 'D', 'G']\n",
      "['', 'S', 'A', 'A', 'C', 'S', 'E', 'D']\n",
      "===\n",
      "['S', 'A', 'C', 'B', 'E', 'B', 'D', 'G']\n",
      "['S', 'A', 'A', 'C', 'S', 'E', 'D']\n"
     ]
    }
   ],
   "source": [
    "tL1=pathL1.copy()\n",
    "tL2=pathL2[1:].copy()\n",
    "\n",
    "print(pathL1)\n",
    "print(pathL2)\n",
    "print('===')\n",
    "print(tL1)\n",
    "print(tL2)"
   ]
  },
  {
   "cell_type": "code",
   "execution_count": 142,
   "metadata": {},
   "outputs": [
    {
     "name": "stdout",
     "output_type": "stream",
     "text": [
      "['S', 'A', 'C', 'B', 'E', 'B', 'D', 'G']\n",
      "['S', 'A', 'C', 'B', 'E', 'B', 'D']\n"
     ]
    }
   ],
   "source": [
    "print(tL1)\n",
    "tL1.pop()\n",
    "print(tL1)"
   ]
  },
  {
   "cell_type": "code",
   "execution_count": 143,
   "metadata": {},
   "outputs": [],
   "source": [
    "h=[4,4,2,3,1,1,0,0]"
   ]
  },
  {
   "cell_type": "code",
   "execution_count": 144,
   "metadata": {},
   "outputs": [
    {
     "name": "stdout",
     "output_type": "stream",
     "text": [
      "['state', 'S']\n",
      "['OpenList(1)', []]\n",
      "['ClosedList', ['S']]\n",
      "['OpenList(2)', ['B', 'A']]\n",
      "\n",
      "['state', 'B']\n",
      "['OpenList(1)', ['A']]\n",
      "['ClosedList', ['B', 'S']]\n",
      "['OpenList(2)', ['F', 'E', 'A']]\n",
      "\n",
      "['state', 'F']\n",
      "['OpenList(1)', ['E', 'A']]\n",
      "['ClosedList', ['B', 'F', 'S']]\n",
      "['OpenList(2)', ['E', 'A']]\n",
      "\n",
      "['state', 'E']\n",
      "['OpenList(1)', ['A']]\n",
      "['ClosedList', ['E', 'B', 'F', 'S']]\n",
      "['OpenList(2)', ['G', 'D', 'C', 'A']]\n",
      "\n",
      "['state', 'G']\n",
      "['OpenList(1)', ['D', 'C', 'A']]\n",
      "['ClosedList', ['S', 'G', 'E', 'B', 'F']]\n",
      "Completed\n",
      "~~~\n",
      "Final path (from Goal, from Start, minimum (total) cost in the path):\n",
      "['G', 'E', 'B', 'S'] ['S', 'B', 'E', 'G'] 7\n"
     ]
    }
   ],
   "source": [
    "# completed version of estimated evaluation value(h^)-first search (not summation)\n",
    "\n",
    "OpenList=['S']\n",
    "preList=['']\n",
    "ClosedList=[]\n",
    "pathL1=[]\n",
    "pathL2=[]\n",
    "\n",
    "while OpenList:\n",
    "    state=OpenList.pop(0)\n",
    "    ClosedList.append(state)\n",
    "    ClosedList=list(set(ClosedList))\n",
    "    pathL1.append(state)\n",
    "    pathL2.append(preList[0])\n",
    "    del preList[0]\n",
    "    print(['state',state])\n",
    "    print(['OpenList(1)',OpenList])\n",
    "    print(['ClosedList',ClosedList])\n",
    "    if state=='G':\n",
    "        break\n",
    "    tmpSt=set(TargetGraph[state]) -set(ClosedList)\n",
    "    activeNodes=list(tmpSt -set(OpenList))   \n",
    "    preList = preList+[state]*len(activeNodes)\n",
    "    OpenList.extend(activeNodes)\n",
    "    \n",
    "    \n",
    "    # h-first sorting \n",
    "    hList=[h[Node.index(L)]  for L in OpenList]\n",
    "#     hList=[h[Node.index(state)][i] for i in indexList]\n",
    "    \n",
    "    keys = ['node','h','pre']\n",
    "    d_all=[dict(zip(keys, [n,h,p])) for n,h,p in zip(OpenList,hList,preList)]\n",
    "    d_all.sort(key=lambda x: x['h'])\n",
    "    OpenList=[d['node'] for d in d_all]\n",
    "    preList=[d['pre'] for d in d_all]\n",
    "#     OpenLcost=[d['h'] for d in d_all]\n",
    "    \n",
    "    # ---\n",
    "    \n",
    "    print(['OpenList(2)',OpenList])\n",
    "    print('')\n",
    "print('Completed') \n",
    "\n",
    "# pathL1,pathL2\n",
    "\n",
    "tL1=pathL1.copy()\n",
    "tL2=pathL2[1:].copy()\n",
    "pathL=[tL1.pop()]\n",
    "while tL2:\n",
    "    preP=tL2.pop()\n",
    "    pathL.append(preP)\n",
    "    while tL1[-1]!=preP:\n",
    "        tL1.pop()\n",
    "        tL2.pop()\n",
    "    tL1.pop()\n",
    "\n",
    "pathLrev=pathL[::-1]\n",
    "\n",
    "sumH=sum([h[Node.index(L)]  for L in pathL])\n",
    "\n",
    "print('~~~')\n",
    "print('Final path (from Goal, from Start, minimum (total) cost in the path):')\n",
    "print(pathL,pathLrev,sumH)"
   ]
  },
  {
   "cell_type": "code",
   "execution_count": 205,
   "metadata": {},
   "outputs": [
    {
     "name": "stdout",
     "output_type": "stream",
     "text": [
      "['state', 'S']\n",
      "['OpenList(1)', []]\n",
      "['ClosedList', ['S']]\n",
      "pre ['A', 'B'] [6, 8] [6, 8]\n",
      "post ['A', 'B'] [6, 8] [6, 8] [4, 2] ['S', 'S']\n",
      "['OpenList(2)', ['A', 'B']]\n",
      "\n",
      "['state', 'A']\n",
      "['OpenList(1)', ['B']]\n",
      "['ClosedList', ['A', 'S']]\n",
      "pre ['B', 'B', 'C'] [4, 4, 4] [8, 10, 10]\n",
      "post ['B', 'B', 'C'] [4, 4, 4] [8, 10, 10] [2, 2, 3] ['S', 'A', 'A']\n",
      "['OpenList(2)', ['B', 'B', 'C']]\n",
      "\n",
      "['state', 'B']\n",
      "['OpenList(1)', ['B', 'C']]\n",
      "['ClosedList', ['A', 'B', 'S']]\n",
      "pre ['B', 'C', 'E', 'F'] [2, 3, 6, 4] [10, 10, 14, 12]\n",
      "post ['B', 'C', 'F', 'E'] [2, 3, 6, 4] [10, 10, 12, 14] [2, 3, 0, 1] ['A', 'A', 'B', 'B']\n",
      "['OpenList(2)', ['B', 'C', 'F', 'E']]\n",
      "\n",
      "['state', 'B']\n",
      "['OpenList(1)', ['C', 'F', 'E']]\n",
      "['ClosedList', ['A', 'B', 'S']]\n",
      "pre ['C', 'F', 'E', 'E', 'F'] [3, 4, 6, 6, 4] [10, 16, 20, 16, 14]\n",
      "post ['C', 'F', 'F', 'E', 'E'] [3, 4, 6, 6, 4] [10, 14, 16, 16, 20] [3, 0, 0, 1, 1] ['A', 'B', 'B', 'B', 'B']\n",
      "['OpenList(2)', ['C', 'F', 'F', 'E', 'E']]\n",
      "\n",
      "['state', 'C']\n",
      "['OpenList(1)', ['F', 'F', 'E', 'E']]\n",
      "['ClosedList', ['A', 'B', 'C', 'S']]\n",
      "pre ['F', 'F', 'E', 'E', 'E', 'D'] [0, 0, 3, 3, 3, 6] [14, 16, 16, 20, 13, 16]\n",
      "post ['E', 'F', 'F', 'E', 'D', 'E'] [0, 0, 3, 3, 3, 6] [13, 14, 16, 16, 16, 20] [1, 0, 0, 1, 1, 1] ['C', 'B', 'B', 'B', 'C', 'B']\n",
      "['OpenList(2)', ['E', 'F', 'F', 'E', 'D', 'E']]\n",
      "\n",
      "['state', 'E']\n",
      "['OpenList(1)', ['F', 'F', 'E', 'D', 'E']]\n",
      "['ClosedList', ['S', 'C', 'A', 'E', 'B']]\n",
      "pre ['F', 'F', 'E', 'D', 'E', 'G', 'D'] [0, 0, 1, 2, 1, 5, 2] [14, 16, 16, 16, 20, 18, 15]\n",
      "post ['F', 'D', 'F', 'E', 'D', 'G', 'E'] [0, 0, 1, 2, 1, 5, 2] [14, 15, 16, 16, 16, 18, 20] [0, 1, 0, 1, 1, 0, 1] ['B', 'E', 'B', 'B', 'C', 'E', 'B']\n",
      "['OpenList(2)', ['F', 'D', 'F', 'E', 'D', 'G', 'E']]\n",
      "\n",
      "['state', 'F']\n",
      "['OpenList(1)', ['D', 'F', 'E', 'D', 'G', 'E']]\n",
      "['ClosedList', ['S', 'C', 'A', 'E', 'B', 'F']]\n",
      "pre ['D', 'F', 'E', 'D', 'G', 'E'] [1, 0, 1, 1, 0, 1] [15, 16, 16, 16, 18, 20]\n",
      "post ['D', 'F', 'E', 'D', 'G', 'E'] [1, 0, 1, 1, 0, 1] [15, 16, 16, 16, 18, 20] [1, 0, 1, 1, 0, 1] ['E', 'B', 'B', 'C', 'E', 'B']\n",
      "['OpenList(2)', ['D', 'F', 'E', 'D', 'G', 'E']]\n",
      "\n",
      "['state', 'D']\n",
      "['OpenList(1)', ['F', 'E', 'D', 'G', 'E']]\n",
      "['ClosedList', ['S', 'C', 'A', 'E', 'B', 'F', 'D']]\n",
      "pre ['F', 'E', 'D', 'G', 'E', 'G'] [0, 2, 1, 1, 2, 1] [16, 16, 16, 18, 20, 16]\n",
      "post ['F', 'E', 'D', 'G', 'G', 'E'] [0, 2, 1, 1, 2, 1] [16, 16, 16, 16, 18, 20] [0, 1, 1, 0, 0, 1] ['B', 'B', 'C', 'D', 'E', 'B']\n",
      "['OpenList(2)', ['F', 'E', 'D', 'G', 'G', 'E']]\n",
      "\n",
      "['state', 'F']\n",
      "['OpenList(1)', ['E', 'D', 'G', 'G', 'E']]\n",
      "['ClosedList', ['S', 'C', 'A', 'E', 'B', 'F', 'D']]\n",
      "pre ['E', 'D', 'G', 'G', 'E'] [1, 1, 0, 0, 1] [16, 16, 16, 18, 20]\n",
      "post ['E', 'D', 'G', 'G', 'E'] [1, 1, 0, 0, 1] [16, 16, 16, 18, 20] [1, 1, 0, 0, 1] ['B', 'C', 'D', 'E', 'B']\n",
      "['OpenList(2)', ['E', 'D', 'G', 'G', 'E']]\n",
      "\n",
      "Completed\n",
      "~~~\n",
      "Final path (from Goal, from Start, minimum (total) f in the path):\n",
      "['F', 'B', 'A', 'S'] ['S', 'A', 'B', 'F'] 16\n"
     ]
    }
   ],
   "source": [
    "# 3rd_ completed version of cost-first+estimated evaluation value(h^) =f  search (summation)\n",
    "\n",
    "OpenList=['S']\n",
    "preList=['']\n",
    "ClosedList=[]\n",
    "pathL1=[]\n",
    "pathL2=[]\n",
    "OpenLcost=[0]\n",
    "kk=1\n",
    "while OpenList and kk<10:\n",
    "    kk=kk+1\n",
    "    state=OpenList.pop(0)\n",
    "    tempC= OpenLcost.pop(0)\n",
    "    pathL1.append(state)\n",
    "    pathL2.append(preList[0])\n",
    "    del preList[0]\n",
    "    ClosedList=[state]+ClosedList\n",
    "    ClosedList=list(set(ClosedList))\n",
    "    print(['state',state])\n",
    "    print(['OpenList(1)',OpenList])\n",
    "    print(['ClosedList',ClosedList])\n",
    "    if state=='G':\n",
    "        break\n",
    "    tmpSt=set(TargetGraph[state]) -set(ClosedList)\n",
    "#     activeNodes=list(tmpSt -set(OpenList))    \n",
    "    activeNodes=list(tmpSt)    \n",
    "    preList = preList+[state]*len(activeNodes)\n",
    "    OpenList = OpenList+activeNodes\n",
    "    \n",
    "    # f-based sorting \n",
    "    hList=[h[Node.index(L)]  for L in OpenList]\n",
    "    indexList=[Node.index(L)  for L in OpenList]\n",
    "    CList=[C[Node.index(state)][i] for i in indexList]\n",
    "    \n",
    "    CList=list(map(lambda x,y: x+y,CList,hList))\n",
    "    if OpenLcost:\n",
    "        OpenLcost=OpenLcost+[tempC]*len(activeNodes)\n",
    "        OpenLcost=[x*int(z==state)+y for x,y,z in zip(CList,OpenLcost,preList) ]\n",
    "    else:\n",
    "        OpenLcost = CList\n",
    "        \n",
    "    print('pre',OpenList,CList,OpenLcost)\n",
    "    keys = ['node','cost','h','pre']\n",
    "    d_all=[dict(zip(keys, [n,c,h,p])) for n,c,h,p in zip(OpenList,OpenLcost,hList,preList)]\n",
    "    d_all.sort(key=lambda x: x['cost'])\n",
    "    OpenList=[d['node'] for d in d_all]\n",
    "    OpenLcost=[d['cost'] for d in d_all]\n",
    "    preList=[d['pre'] for d in d_all]\n",
    "    hList=[d['h'] for d in d_all]\n",
    "    print('post',OpenList,CList,OpenLcost,hList,preList)\n",
    "    # ---\n",
    "    \n",
    "    print(['OpenList(2)',OpenList])\n",
    "    print('')\n",
    "print('Completed') \n",
    "\n",
    "# pathL1,pathL2\n",
    "\n",
    "tL1=pathL1.copy()\n",
    "tL2=pathL2[1:].copy()\n",
    "pathL=[tL1.pop()]\n",
    "while tL2:\n",
    "    preP=tL2.pop()\n",
    "    pathL.append(preP)\n",
    "    while tL1[-1]!=preP:\n",
    "        tL1.pop()\n",
    "        tL2.pop()\n",
    "    tL1.pop()\n",
    "\n",
    "pathLrev=pathL[::-1]\n",
    "\n",
    "print('~~~')\n",
    "print('Final path (from Goal, from Start, minimum (total) f in the path):')\n",
    "print(pathL,pathLrev,tempC)"
   ]
  },
  {
   "cell_type": "code",
   "execution_count": 206,
   "metadata": {},
   "outputs": [
    {
     "data": {
      "text/plain": [
       "[4, 4, 2, 3, 1, 1, 0, 0]"
      ]
     },
     "execution_count": 206,
     "metadata": {},
     "output_type": "execute_result"
    }
   ],
   "source": [
    "h"
   ]
  },
  {
   "cell_type": "code",
   "execution_count": 146,
   "metadata": {},
   "outputs": [
    {
     "data": {
      "text/plain": [
       "([1, 1, 0, 0, 1], [1, 1, 0, 0, 1])"
      ]
     },
     "execution_count": 146,
     "metadata": {},
     "output_type": "execute_result"
    }
   ],
   "source": [
    "CList,hList"
   ]
  },
  {
   "cell_type": "code",
   "execution_count": 147,
   "metadata": {},
   "outputs": [
    {
     "data": {
      "text/plain": [
       "['F', 'B', 'A', 'S']"
      ]
     },
     "execution_count": 147,
     "metadata": {},
     "output_type": "execute_result"
    }
   ],
   "source": [
    "[h[Node.index(L)]  for L in pathL]\n",
    "pathL"
   ]
  },
  {
   "cell_type": "code",
   "execution_count": 148,
   "metadata": {},
   "outputs": [
    {
     "data": {
      "text/plain": [
       "[5, 4, 7, 7, 5]"
      ]
     },
     "execution_count": 148,
     "metadata": {},
     "output_type": "execute_result"
    }
   ],
   "source": [
    "indexList\n",
    "OpenList\n",
    "# h[Node.index(state)]\n",
    "# state\n",
    "# Node.index(state)\n",
    "# state\n",
    "indexList"
   ]
  },
  {
   "cell_type": "code",
   "execution_count": 149,
   "metadata": {},
   "outputs": [
    {
     "data": {
      "text/plain": [
       "16"
      ]
     },
     "execution_count": 149,
     "metadata": {},
     "output_type": "execute_result"
    }
   ],
   "source": [
    "tempC"
   ]
  },
  {
   "cell_type": "code",
   "execution_count": 150,
   "metadata": {},
   "outputs": [
    {
     "data": {
      "text/plain": [
       "[{'node': 'E', 'cost': 16, 'h': 1, 'pre': 'B'},\n",
       " {'node': 'D', 'cost': 16, 'h': 1, 'pre': 'C'},\n",
       " {'node': 'G', 'cost': 16, 'h': 0, 'pre': 'D'},\n",
       " {'node': 'G', 'cost': 18, 'h': 0, 'pre': 'E'},\n",
       " {'node': 'E', 'cost': 20, 'h': 1, 'pre': 'B'}]"
      ]
     },
     "execution_count": 150,
     "metadata": {},
     "output_type": "execute_result"
    }
   ],
   "source": [
    "list(filter(lambda k: k['node'], d_all)  )"
   ]
  },
  {
   "cell_type": "code",
   "execution_count": 151,
   "metadata": {},
   "outputs": [
    {
     "name": "stdout",
     "output_type": "stream",
     "text": [
      "['F', 'D', 'F', 'E', 'C', 'B', 'B', 'A', 'S']\n",
      "['B', 'E', 'B', 'C', 'A', 'A', 'S', 'S']\n",
      "['F', 'B'] B ['S', 'A', 'B', 'B', 'C', 'E', 'F', 'D']\n",
      "a ['S', 'A', 'B']\n",
      "b ['S', 'S', 'A']\n",
      "['F', 'B', 'A'] A ['S', 'A', 'B']\n",
      "a ['S']\n",
      "b ['S']\n",
      "['F', 'B', 'A', 'S'] S ['S']\n",
      "a []\n",
      "b []\n",
      "['F', 'B', 'A', 'S'] ['S', 'A', 'B', 'F']\n"
     ]
    }
   ],
   "source": [
    "print(pathL1[::-1])\n",
    "print(pathL2[:0:-1])\n",
    "\n",
    "tL1=pathL1.copy()\n",
    "tL2=pathL2[1:].copy()\n",
    "pathL=[tL1.pop()]\n",
    "while tL2:\n",
    "    preP=tL2.pop()\n",
    "    pathL.append(preP)\n",
    "    print(pathL,preP,tL1)\n",
    "    while tL1[-1]!=preP:\n",
    "        tL1.pop()\n",
    "        tL2.pop()\n",
    "    tL1.pop()\n",
    "    print('a',tL1)\n",
    "    print('b',tL2)    \n",
    "\n",
    "pathLrev=pathL[::-1]\n",
    "print(pathL,pathLrev)"
   ]
  },
  {
   "cell_type": "code",
   "execution_count": 152,
   "metadata": {},
   "outputs": [
    {
     "data": {
      "text/plain": [
       "['S', 'S', 'A', 'A', 'C', 'B', 'E', 'B']"
      ]
     },
     "execution_count": 152,
     "metadata": {},
     "output_type": "execute_result"
    }
   ],
   "source": [
    "pathL2[1:]"
   ]
  },
  {
   "cell_type": "code",
   "execution_count": 153,
   "metadata": {},
   "outputs": [
    {
     "name": "stdout",
     "output_type": "stream",
     "text": [
      "['F', 'D', 'F', 'E', 'C', 'B', 'B', 'A', 'S']\n",
      "['B', 'E', 'B', 'C', 'A', 'A', 'S', 'S']\n"
     ]
    }
   ],
   "source": [
    "print(pathL1[::-1])\n",
    "print(pathL2[:0:-1])"
   ]
  },
  {
   "cell_type": "code",
   "execution_count": 154,
   "metadata": {},
   "outputs": [
    {
     "name": "stdout",
     "output_type": "stream",
     "text": [
      "['F', 'D', 'F', 'E', 'C', 'B', 'B', 'A', 'S']\n",
      "['B', 'E', 'B', 'C', 'A', 'A', 'S', 'S']\n"
     ]
    }
   ],
   "source": [
    "print(pathL1[::-1])\n",
    "print(pathL2[:0:-1])\n",
    "tL1=pathL1[::-1]\n",
    "tL2=pathL2[:0:-1]\n",
    "\n",
    "\n",
    "# ['G', 'D', 'B', 'E', 'B', 'C', 'A', 'S']\n",
    "# ['D', 'E', 'S', 'C', 'A', 'A', 'S', '']"
   ]
  },
  {
   "cell_type": "code",
   "execution_count": 155,
   "metadata": {},
   "outputs": [
    {
     "name": "stdout",
     "output_type": "stream",
     "text": [
      "[]\n"
     ]
    },
    {
     "data": {
      "text/plain": [
       "['F']"
      ]
     },
     "execution_count": 155,
     "metadata": {},
     "output_type": "execute_result"
    }
   ],
   "source": [
    "pathL=[]\n",
    "# pathL=pathL.append(state)\n",
    "print(pathL)\n",
    "state\n",
    "pathL.append(state)\n",
    "pathL"
   ]
  },
  {
   "cell_type": "code",
   "execution_count": 156,
   "metadata": {},
   "outputs": [
    {
     "data": {
      "text/plain": [
       "'F'"
      ]
     },
     "execution_count": 156,
     "metadata": {},
     "output_type": "execute_result"
    }
   ],
   "source": [
    "state"
   ]
  },
  {
   "cell_type": "code",
   "execution_count": 157,
   "metadata": {},
   "outputs": [
    {
     "data": {
      "text/plain": [
       "([1, 1, 0, 0, 1], [16, 16, 16, 18, 20], ['B', 'C', 'D', 'E', 'B'])"
      ]
     },
     "execution_count": 157,
     "metadata": {},
     "output_type": "execute_result"
    }
   ],
   "source": [
    "CList,OpenLcost,preList"
   ]
  },
  {
   "cell_type": "code",
   "execution_count": 158,
   "metadata": {},
   "outputs": [
    {
     "data": {
      "text/plain": [
       "[16, 16, 16, 18, 20]"
      ]
     },
     "execution_count": 158,
     "metadata": {},
     "output_type": "execute_result"
    }
   ],
   "source": [
    "[x*int(z==state)+y for x,y,z in zip(CList,OpenLcost,preList) ]\n"
   ]
  },
  {
   "cell_type": "code",
   "execution_count": 159,
   "metadata": {},
   "outputs": [
    {
     "data": {
      "text/plain": [
       "'A'"
      ]
     },
     "execution_count": 159,
     "metadata": {},
     "output_type": "execute_result"
    }
   ],
   "source": [
    "state='A'\n",
    "state"
   ]
  },
  {
   "cell_type": "code",
   "execution_count": 160,
   "metadata": {},
   "outputs": [
    {
     "data": {
      "text/plain": [
       "([2, 2, 1], [8, 4, 3], ['S', 'A', 'A'])"
      ]
     },
     "execution_count": 160,
     "metadata": {},
     "output_type": "execute_result"
    }
   ],
   "source": [
    "CList,OpenLcost,preList=([2, 2, 1], [8, 4, 3], ['S', 'A', 'A'])\n",
    "CList,OpenLcost,preList"
   ]
  },
  {
   "cell_type": "code",
   "execution_count": 161,
   "metadata": {},
   "outputs": [
    {
     "data": {
      "text/plain": [
       "[8, 6, 4]"
      ]
     },
     "execution_count": 161,
     "metadata": {},
     "output_type": "execute_result"
    }
   ],
   "source": [
    "[x*int(z==state)+y for x,y,z in zip(CList,OpenLcost,preList) ]\n"
   ]
  },
  {
   "cell_type": "code",
   "execution_count": 162,
   "metadata": {},
   "outputs": [
    {
     "data": {
      "text/plain": [
       "['S', 'A', 'A']"
      ]
     },
     "execution_count": 162,
     "metadata": {},
     "output_type": "execute_result"
    }
   ],
   "source": [
    "['S', 'A', 'A']"
   ]
  },
  {
   "cell_type": "code",
   "execution_count": 163,
   "metadata": {},
   "outputs": [
    {
     "data": {
      "text/plain": [
       "[0, 1, 1]"
      ]
     },
     "execution_count": 163,
     "metadata": {},
     "output_type": "execute_result"
    }
   ],
   "source": [
    "[int(z==state) for z in preList ]"
   ]
  },
  {
   "cell_type": "code",
   "execution_count": 164,
   "metadata": {},
   "outputs": [
    {
     "data": {
      "text/plain": [
       "0"
      ]
     },
     "execution_count": 164,
     "metadata": {},
     "output_type": "execute_result"
    }
   ],
   "source": [
    "int(['S', 'A', 'A']==state)"
   ]
  },
  {
   "cell_type": "code",
   "execution_count": null,
   "metadata": {},
   "outputs": [],
   "source": []
  },
  {
   "cell_type": "code",
   "execution_count": 165,
   "metadata": {},
   "outputs": [
    {
     "data": {
      "text/plain": [
       "['A', 'A']"
      ]
     },
     "execution_count": 165,
     "metadata": {},
     "output_type": "execute_result"
    }
   ],
   "source": [
    "list(filter(lambda x: x == state, preList))"
   ]
  },
  {
   "cell_type": "code",
   "execution_count": 166,
   "metadata": {},
   "outputs": [
    {
     "data": {
      "text/plain": [
       "(['S', 'A', 'A'], [2, 2, 1])"
      ]
     },
     "execution_count": 166,
     "metadata": {},
     "output_type": "execute_result"
    }
   ],
   "source": [
    "a=[preList,CList]\n",
    "a[0] \n",
    "preList,CList"
   ]
  },
  {
   "cell_type": "code",
   "execution_count": 167,
   "metadata": {},
   "outputs": [
    {
     "data": {
      "text/plain": [
       "[{'node': 'E', 'cost': 8}, {'node': 'D', 'cost': 4}, {'node': 'G', 'cost': 3}]"
      ]
     },
     "execution_count": 167,
     "metadata": {},
     "output_type": "execute_result"
    }
   ],
   "source": [
    "keys = ['node','cost']\n",
    "d_all=[dict(zip(keys, [n,c])) for n,c in zip(OpenList,OpenLcost)]\n",
    "d_all"
   ]
  },
  {
   "cell_type": "code",
   "execution_count": 168,
   "metadata": {},
   "outputs": [
    {
     "data": {
      "text/plain": [
       "{1: 'a'}"
      ]
     },
     "execution_count": 168,
     "metadata": {},
     "output_type": "execute_result"
    }
   ],
   "source": [
    "d = {\"a\":1}\n",
    "{v:k for k,v in d.items()}"
   ]
  },
  {
   "cell_type": "code",
   "execution_count": 169,
   "metadata": {},
   "outputs": [
    {
     "data": {
      "text/plain": [
       "['node', 'cost']"
      ]
     },
     "execution_count": 169,
     "metadata": {},
     "output_type": "execute_result"
    }
   ],
   "source": [
    "keys"
   ]
  },
  {
   "cell_type": "code",
   "execution_count": 170,
   "metadata": {},
   "outputs": [
    {
     "data": {
      "text/plain": [
       "['G', 5]"
      ]
     },
     "execution_count": 170,
     "metadata": {},
     "output_type": "execute_result"
    }
   ],
   "source": [
    "values"
   ]
  },
  {
   "cell_type": "code",
   "execution_count": 171,
   "metadata": {},
   "outputs": [],
   "source": [
    "CList,OpenLcost,preList=([2, 2, 1], [8, 4, 3], ['S', 'A', 'A'])\n"
   ]
  },
  {
   "cell_type": "code",
   "execution_count": 172,
   "metadata": {},
   "outputs": [
    {
     "data": {
      "text/plain": [
       "['S', 'A', 'A']"
      ]
     },
     "execution_count": 172,
     "metadata": {},
     "output_type": "execute_result"
    }
   ],
   "source": [
    "OpenList=preList\n",
    "OpenList"
   ]
  },
  {
   "cell_type": "code",
   "execution_count": 173,
   "metadata": {},
   "outputs": [
    {
     "data": {
      "text/plain": [
       "[8, 4, 3]"
      ]
     },
     "execution_count": 173,
     "metadata": {},
     "output_type": "execute_result"
    }
   ],
   "source": [
    "OpenLcost"
   ]
  },
  {
   "cell_type": "code",
   "execution_count": 174,
   "metadata": {},
   "outputs": [
    {
     "data": {
      "text/plain": [
       "['A', 3]"
      ]
     },
     "execution_count": 174,
     "metadata": {},
     "output_type": "execute_result"
    }
   ],
   "source": [
    "i=2\n",
    "values=[OpenList[i],OpenLcost[i]]\n",
    "values"
   ]
  },
  {
   "cell_type": "code",
   "execution_count": 175,
   "metadata": {},
   "outputs": [
    {
     "data": {
      "text/plain": [
       "['node', 'cost']"
      ]
     },
     "execution_count": 175,
     "metadata": {},
     "output_type": "execute_result"
    }
   ],
   "source": [
    "keys"
   ]
  },
  {
   "cell_type": "code",
   "execution_count": 176,
   "metadata": {},
   "outputs": [],
   "source": [
    "d_all = dict(zip(keys, values))"
   ]
  },
  {
   "cell_type": "code",
   "execution_count": 177,
   "metadata": {},
   "outputs": [
    {
     "data": {
      "text/plain": [
       "[8, 4, 3]"
      ]
     },
     "execution_count": 177,
     "metadata": {},
     "output_type": "execute_result"
    }
   ],
   "source": [
    "OpenLcost"
   ]
  },
  {
   "cell_type": "code",
   "execution_count": 178,
   "metadata": {},
   "outputs": [
    {
     "data": {
      "text/plain": [
       "['S', 'A', 'A']"
      ]
     },
     "execution_count": 178,
     "metadata": {},
     "output_type": "execute_result"
    }
   ],
   "source": [
    "OpenList"
   ]
  },
  {
   "cell_type": "code",
   "execution_count": 179,
   "metadata": {},
   "outputs": [
    {
     "data": {
      "text/plain": [
       "[{'node': 'S', 'cost': 8}, {'node': 'A', 'cost': 4}, {'node': 'A', 'cost': 3}]"
      ]
     },
     "execution_count": 179,
     "metadata": {},
     "output_type": "execute_result"
    }
   ],
   "source": [
    "d_all=[]\n",
    "for i in range(len(OpenList)):\n",
    "#         values=[OpenList[i],CList[i]]\n",
    "    values=[OpenList[i],OpenLcost[i]]\n",
    "    d = {k: v for k, v in zip(keys, values)}\n",
    "    d_all.append(d)\n",
    "# d_all = [k: v]\n",
    "d_all"
   ]
  },
  {
   "cell_type": "code",
   "execution_count": 180,
   "metadata": {},
   "outputs": [
    {
     "data": {
      "text/plain": [
       "[{'node': 'S', 'cost': 8}, {'node': 'A', 'cost': 4}, {'node': 'A', 'cost': 3}]"
      ]
     },
     "execution_count": 180,
     "metadata": {},
     "output_type": "execute_result"
    }
   ],
   "source": [
    "d_all=[]\n",
    "for i in range(len(OpenList)):\n",
    "#         values=[OpenList[i],CList[i]]\n",
    "    values=[OpenList[i],OpenLcost[i]]\n",
    "    d = {k:v for k, v in zip(keys, values)}\n",
    "    d_all.append(d)\n",
    "d_all"
   ]
  },
  {
   "cell_type": "code",
   "execution_count": 181,
   "metadata": {},
   "outputs": [
    {
     "data": {
      "text/plain": [
       "['S', 'A', 'A']"
      ]
     },
     "execution_count": 181,
     "metadata": {},
     "output_type": "execute_result"
    }
   ],
   "source": [
    "OpenList"
   ]
  },
  {
   "cell_type": "code",
   "execution_count": 182,
   "metadata": {},
   "outputs": [
    {
     "data": {
      "text/plain": [
       "'A'"
      ]
     },
     "execution_count": 182,
     "metadata": {},
     "output_type": "execute_result"
    }
   ],
   "source": [
    "Node.index(state)\n",
    "state"
   ]
  },
  {
   "cell_type": "code",
   "execution_count": 183,
   "metadata": {},
   "outputs": [
    {
     "data": {
      "text/plain": [
       "[5, 4, 7, 7, 5]"
      ]
     },
     "execution_count": 183,
     "metadata": {},
     "output_type": "execute_result"
    }
   ],
   "source": [
    "CList\n",
    "indexList"
   ]
  },
  {
   "cell_type": "code",
   "execution_count": 184,
   "metadata": {},
   "outputs": [
    {
     "name": "stdout",
     "output_type": "stream",
     "text": [
      "[1, 2, 3] [4, 5]\n",
      "[1, 2, 3, 4, 5]\n"
     ]
    },
    {
     "data": {
      "text/plain": [
       "[2, 3, 4, 4, 5]"
      ]
     },
     "execution_count": 184,
     "metadata": {},
     "output_type": "execute_result"
    }
   ],
   "source": [
    "OpenLcost=[1,1,1]\n",
    "OpenList=[1,2,3]\n",
    "activeNodes=[4,5]\n",
    "print(OpenList, activeNodes)\n",
    "OpenList=OpenList+activeNodes\n",
    "OpenLcost=OpenLcost+[0]*len(activeNodes)\n",
    "print(OpenList)\n",
    "list(map(lambda x,y: x+y,OpenList,OpenLcost))"
   ]
  },
  {
   "cell_type": "code",
   "execution_count": 185,
   "metadata": {},
   "outputs": [
    {
     "data": {
      "text/plain": [
       "[2, 3, 4, 4, 5]"
      ]
     },
     "execution_count": 185,
     "metadata": {},
     "output_type": "execute_result"
    }
   ],
   "source": [
    "OpenList=list(map(lambda x,y: x+y,OpenList,OpenLcost))\n",
    "OpenList"
   ]
  },
  {
   "cell_type": "code",
   "execution_count": 186,
   "metadata": {},
   "outputs": [
    {
     "data": {
      "text/plain": [
       "[0, 0]"
      ]
     },
     "execution_count": 186,
     "metadata": {},
     "output_type": "execute_result"
    }
   ],
   "source": [
    "[0]*len(activeNodes)"
   ]
  },
  {
   "cell_type": "code",
   "execution_count": 187,
   "metadata": {},
   "outputs": [
    {
     "data": {
      "text/plain": [
       "[{'node': 'S', 'cost': 8}, {'node': 'A', 'cost': 4}, {'node': 'A', 'cost': 3}]"
      ]
     },
     "execution_count": 187,
     "metadata": {},
     "output_type": "execute_result"
    }
   ],
   "source": [
    "d_all"
   ]
  },
  {
   "cell_type": "code",
   "execution_count": 188,
   "metadata": {},
   "outputs": [
    {
     "name": "stdout",
     "output_type": "stream",
     "text": [
      "[1, 1, 1, 0, 0]\n"
     ]
    },
    {
     "data": {
      "text/plain": [
       "True"
      ]
     },
     "execution_count": 188,
     "metadata": {},
     "output_type": "execute_result"
    }
   ],
   "source": [
    "print(OpenLcost)\n",
    "if not OpenLcost: \n",
    "    OpenLcost=[1]\n",
    "bool(OpenLcost)"
   ]
  },
  {
   "cell_type": "code",
   "execution_count": 189,
   "metadata": {},
   "outputs": [
    {
     "data": {
      "text/plain": [
       "True"
      ]
     },
     "execution_count": 189,
     "metadata": {},
     "output_type": "execute_result"
    }
   ],
   "source": [
    "bool([1])"
   ]
  },
  {
   "cell_type": "code",
   "execution_count": 190,
   "metadata": {},
   "outputs": [
    {
     "name": "stdout",
     "output_type": "stream",
     "text": [
      "D\n",
      "['E', 'S', 'B', 'A', 'G', 'F', 'C']\n"
     ]
    }
   ],
   "source": [
    "OpenList=['E', 'S', 'B', 'A', 'G', 'F', 'C', 'D']\n",
    "print(OpenList.pop())\n",
    "print(OpenList)"
   ]
  },
  {
   "cell_type": "code",
   "execution_count": 191,
   "metadata": {},
   "outputs": [
    {
     "name": "stdout",
     "output_type": "stream",
     "text": [
      "E\n",
      "['S', 'B', 'A', 'G', 'F', 'C', 'D']\n"
     ]
    }
   ],
   "source": [
    "OpenList=['E', 'S', 'B', 'A', 'G', 'F', 'C', 'D']\n",
    "print(OpenList.pop(0))\n",
    "print(OpenList)"
   ]
  },
  {
   "cell_type": "code",
   "execution_count": 192,
   "metadata": {},
   "outputs": [
    {
     "data": {
      "text/plain": [
       "[2, 2, 1]"
      ]
     },
     "execution_count": 192,
     "metadata": {},
     "output_type": "execute_result"
    }
   ],
   "source": [
    "CList"
   ]
  },
  {
   "cell_type": "code",
   "execution_count": 193,
   "metadata": {},
   "outputs": [
    {
     "data": {
      "text/plain": [
       "0"
      ]
     },
     "execution_count": 193,
     "metadata": {},
     "output_type": "execute_result"
    }
   ],
   "source": [
    "CList=[]\n",
    "len(CList)"
   ]
  },
  {
   "cell_type": "code",
   "execution_count": 194,
   "metadata": {},
   "outputs": [
    {
     "name": "stdout",
     "output_type": "stream",
     "text": [
      "[0, 0, 0, 0, 0, 0, 0, 0]\n",
      "[0, 1, 0, 0, 0, 0, 0, 0]\n"
     ]
    }
   ],
   "source": [
    "CList=[]\n",
    "C2=[0]*len(C[0])\n",
    "print(C2)\n",
    "C2[1]=1\n",
    "print(C2)"
   ]
  },
  {
   "cell_type": "code",
   "execution_count": 195,
   "metadata": {},
   "outputs": [
    {
     "data": {
      "text/plain": [
       "4"
      ]
     },
     "execution_count": 195,
     "metadata": {},
     "output_type": "execute_result"
    }
   ],
   "source": [
    "C[Node.index(state)][i]+C[1][2]"
   ]
  },
  {
   "cell_type": "code",
   "execution_count": 196,
   "metadata": {},
   "outputs": [
    {
     "data": {
      "text/plain": [
       "[{'node': 'S', 'cost': 8}, {'node': 'A', 'cost': 4}, {'node': 'A', 'cost': 3}]"
      ]
     },
     "execution_count": 196,
     "metadata": {},
     "output_type": "execute_result"
    }
   ],
   "source": [
    "d_all"
   ]
  },
  {
   "cell_type": "code",
   "execution_count": 197,
   "metadata": {},
   "outputs": [
    {
     "data": {
      "text/plain": [
       "[0, 0, 0, 0, 0, 0, 0, 0]"
      ]
     },
     "execution_count": 197,
     "metadata": {},
     "output_type": "execute_result"
    }
   ],
   "source": [
    "CList=[0]*len(C[0])\n",
    "CList"
   ]
  },
  {
   "cell_type": "code",
   "execution_count": 198,
   "metadata": {},
   "outputs": [
    {
     "name": "stdout",
     "output_type": "stream",
     "text": [
      "[5, 4, 7, 7, 5]\n"
     ]
    },
    {
     "data": {
      "text/plain": [
       "1"
      ]
     },
     "execution_count": 198,
     "metadata": {},
     "output_type": "execute_result"
    }
   ],
   "source": [
    "print(indexList)\n",
    "# [CList[i]+C[Node.index(state)][i] for i in indexList]\n",
    "CList\n",
    "\n",
    "Node.index(state)"
   ]
  },
  {
   "cell_type": "code",
   "execution_count": null,
   "metadata": {},
   "outputs": [],
   "source": [
    "# C=[[-1, 2, 6, -1, -1, -1, -1, -1],\n",
    "#       [2, -1, 2, 1, -1, -1, -1, -1] ,\n",
    "#       [6, 2, -1, -1, -1, 5, 4, -1] ,\n",
    "#       [-1, 1, -1, -1, 5, 2, -1, -1] ,\n",
    "#       [-1, -1, -1, 5, -1, 1, -1, 1] ,\n",
    "#       [-1, -1, 5, 2, 1, -1, -1, 5] ,\n",
    "#       [-1, -1, 4, -1, -1, -1, -1, -1] ,\n",
    "#       [-1, -1, -1, -1, 1, 5, -1, -1]\n",
    "# ] # if nodes are not connected, -1 is given."
   ]
  },
  {
   "cell_type": "code",
   "execution_count": 225,
   "metadata": {},
   "outputs": [],
   "source": [
    "C=[[0, 2, 6, 0, 0, 0, 0, 0],\n",
    "      [2, 0, 2, 1, 0, 0, 0, 0] ,\n",
    "      [6, 2, 0, 0, 0, 5, 4, 0] ,\n",
    "      [0, 1, 0, 0, 5, 2, 0, 0] ,\n",
    "      [0, 0, 0, 5, 0, 1, 0, 1] ,\n",
    "      [0, 0, 5, 2, 1, 0, 0, 5] ,\n",
    "      [0, 0, 4, 0, 0, 0, 0, 0] ,\n",
    "      [0, 0, 0, 0, 1, 5, 0, 0]\n",
    "]"
   ]
  },
  {
   "cell_type": "code",
   "execution_count": null,
   "metadata": {},
   "outputs": [],
   "source": [
    "# completed version of cost-first search ( summation)\n",
    "\n",
    "OpenList=['S']\n",
    "ClosedList=[]\n",
    "CList=[]\n",
    "C2=[0]*len(C[0])\n",
    "connN=['']*len(C[0])\n",
    "Path=[]\n",
    "\n",
    "while OpenList:\n",
    "    state=OpenList[0]\n",
    "    del OpenList[0]\n",
    "    ClosedList=[state]+ClosedList\n",
    "    ClosedList=list(set(ClosedList))\n",
    "    print(['state',state])\n",
    "    print(['OpenList(1)',OpenList])\n",
    "    print(['ClosedList',ClosedList])\n",
    "    if state=='G':\n",
    "        Path.append(pre_state)\n",
    "        Path.append('G')\n",
    "        break\n",
    "    tmpSt=set(TargetGraph[state]) -set(ClosedList)\n",
    "    activeNodes=list(tmpSt -set(OpenList))    \n",
    "    OpenList.extend(activeNodes)\n",
    "    \n",
    "    # cost-first sorting \n",
    "    indexList=[Node.index(L)  for L in OpenList]\n",
    "    if len(CList)==0:\n",
    "        CList=[C[Node.index(state)][i] for i in indexList]\n",
    "    else:\n",
    "        print(indexList)\n",
    "        CList=[C2[Node.index(state)]+C[Node.index(state)][i] for i in indexList]\n",
    "        \n",
    "    keys = ['node','cost']\n",
    "    d_all=[]\n",
    "    flagU1=False\n",
    "    flagU2=True\n",
    "    for i in range(len(OpenList)):\n",
    "        values=[OpenList[i],CList[i]]\n",
    "        d = {k: v for k, v in zip(keys, values)}\n",
    "        if (C[Node.index(state)][Node.index(values[0])]>0) and ( C2[Node.index(values[0])]>values[1] or C2[Node.index(values[0])]==0):\n",
    "            # connected node                                                        and  (not larger than before                           or    blank )\n",
    "            C2[Node.index(values[0])]=values[1]\n",
    "            connN[Node.index(values[0])]=state\n",
    "            flagU1=True\n",
    "        if   C2[Node.index(values[0])]<values[1]:\n",
    "            flagU2=False\n",
    "        d_all.append(d)\n",
    "    if flagU1 and flagU2:\n",
    "        Path.append(state)\n",
    "    d_all.sort(key=lambda x: x['cost'])\n",
    "    OpenList=[d['node'] for d in d_all]\n",
    "    print(OpenList)\n",
    "    print(C2) \n",
    "    print(['Path',Path])\n",
    "    # ---\n",
    "    pre_state=state\n",
    "    print(['OpenList(2)',OpenList])\n",
    "    print('')\n",
    "\n",
    "connN2=[connN,Node]\n",
    "print('Completed') \n",
    "print(' ') \n",
    "print(C2) \n",
    "print(['Path',Path])\n",
    "connN2"
   ]
  },
  {
   "cell_type": "code",
   "execution_count": 209,
   "metadata": {},
   "outputs": [],
   "source": [
    "indexList=[Node.index(L)  for L in OpenList]"
   ]
  },
  {
   "cell_type": "code",
   "execution_count": 210,
   "metadata": {},
   "outputs": [
    {
     "data": {
      "text/plain": [
       "[4, 3, 1]"
      ]
     },
     "execution_count": 210,
     "metadata": {},
     "output_type": "execute_result"
    }
   ],
   "source": [
    "indexList"
   ]
  },
  {
   "cell_type": "code",
   "execution_count": 214,
   "metadata": {},
   "outputs": [
    {
     "data": {
      "text/plain": [
       "[1, 1, 0, 0, 1]"
      ]
     },
     "execution_count": 214,
     "metadata": {},
     "output_type": "execute_result"
    }
   ],
   "source": [
    "CList"
   ]
  },
  {
   "cell_type": "code",
   "execution_count": 213,
   "metadata": {},
   "outputs": [
    {
     "data": {
      "text/plain": [
       "[0, 0, 0, 0, 0, 0, 0, 0]"
      ]
     },
     "execution_count": 213,
     "metadata": {},
     "output_type": "execute_result"
    }
   ],
   "source": [
    "[0]*len(C[0])"
   ]
  },
  {
   "cell_type": "code",
   "execution_count": 307,
   "metadata": {},
   "outputs": [],
   "source": [
    "# completed version of cost-first search ( summation)\n",
    "\n",
    "OpenList=['S']\n",
    "ClosedList=[]\n",
    "CList=[]\n",
    "C2=[0]*len(C[0])\n",
    "Path=[]\n"
   ]
  },
  {
   "cell_type": "code",
   "execution_count": 317,
   "metadata": {},
   "outputs": [
    {
     "name": "stdout",
     "output_type": "stream",
     "text": [
      "['state', 'S']\n",
      "['OpenList(1)', []]\n",
      "['ClosedList', ['S']]\n",
      "[1, 2]\n",
      "['A', 'B']\n",
      "[{'node': 'A', 'cost': 2}, {'node': 'B', 'cost': 6}]\n",
      "[0, 2, 6, 0, 0, 0, 0, 0]\n",
      "['Path', ['S']]\n",
      "['OpenList(2)', ['A', 'B']]\n",
      "\n",
      "['state', 'A']\n",
      "['OpenList(1)', ['B']]\n",
      "['ClosedList', ['A', 'S']]\n",
      "[2, 3]\n",
      "['C', 'B']\n",
      "[{'node': 'C', 'cost': 3}, {'node': 'B', 'cost': 4}]\n",
      "[0, 2, 4, 3, 0, 0, 0, 0]\n",
      "['Path', ['S', 'A']]\n",
      "['OpenList(2)', ['C', 'B']]\n",
      "\n",
      "['state', 'C']\n",
      "['OpenList(1)', ['B']]\n",
      "['ClosedList', ['A', 'S', 'C']]\n",
      "[2, 5, 4]\n",
      "['E', 'D']\n",
      "[{'node': 'E', 'cost': 5}, {'node': 'D', 'cost': 8}]\n",
      "[0, 2, 3, 3, 8, 5, 0, 0]\n",
      "['Path', ['S', 'A', 'C']]\n",
      "['OpenList(2)', ['E', 'D']]\n",
      "\n",
      "['state', 'E']\n",
      "['OpenList(1)', ['D']]\n",
      "['ClosedList', ['A', 'E', 'S', 'C']]\n",
      "[4, 7, 2]\n",
      "['D', 'G', 'B']\n",
      "[{'node': 'D', 'cost': 6}, {'node': 'G', 'cost': 10}, {'node': 'B', 'cost': 10}]\n",
      "[0, 2, 10, 3, 6, 5, 0, 10]\n",
      "['Path', ['S', 'A', 'C', 'E']]\n",
      "['OpenList(2)', ['D', 'G', 'B']]\n",
      "\n",
      "['state', 'D']\n",
      "['OpenList(1)', ['G', 'B']]\n",
      "['ClosedList', ['S', 'C', 'A', 'E', 'D']]\n",
      "[7, 2]\n",
      "['G']\n",
      "[{'node': 'G', 'cost': 7}]\n",
      "[0, 2, 6, 3, 6, 5, 0, 7]\n",
      "['Path', ['S', 'A', 'C', 'E', 'D']]\n",
      "['OpenList(2)', ['G']]\n",
      "\n",
      "['state', 'G']\n",
      "['OpenList(1)', []]\n",
      "['ClosedList', ['S', 'C', 'G', 'A', 'E', 'D']]\n",
      "Completed\n",
      " \n",
      "[0, 2, 6, 3, 6, 5, 0, 7]\n",
      "['Path', ['S', 'A', 'C', 'E', 'D', 'G']]\n"
     ]
    }
   ],
   "source": [
    "# Algorithm 3.1: completed version of cost-first search (sorted by cost summations depending on pathways)\n",
    "\n",
    "OpenList=['S']\n",
    "ClosedList=[]\n",
    "CList=[]\n",
    "C2=[0]*len(C[0])\n",
    "Path=[]\n",
    "\n",
    "while OpenList:\n",
    "    state=OpenList[0]\n",
    "    Path.append(state)\n",
    "    del OpenList[0]\n",
    "    ClosedList=[state]+ClosedList\n",
    "    ClosedList=list(set(ClosedList))\n",
    "    print(['state',state])\n",
    "    print(['OpenList(1)',OpenList])\n",
    "    print(['ClosedList',ClosedList])\n",
    "    if state=='G':\n",
    "        break\n",
    "    tmpSt=set(TargetGraph[state]) -set(ClosedList)\n",
    "    activeNodes=list(tmpSt -set(OpenList))    \n",
    "    OpenList.extend(activeNodes)\n",
    "    \n",
    "    # cost accumulation (summation) \n",
    "    indexList=[Node.index(L)  for L in OpenList]\n",
    "    print(indexList)\n",
    "    CList=[C2[Node.index(state)]+C[Node.index(state)][i] for i in indexList]\n",
    "        \n",
    "    keys = ['node','cost']\n",
    "    d_all=[]\n",
    "    for i in range(len(OpenList)):\n",
    "        values=[OpenList[i],CList[i]]\n",
    "        if (OpenList[i] in Path):\n",
    "            C2[Node.index(OpenList[i])]=C2[Node.index(OpenList[i])]+CList[i] \n",
    "        else: \n",
    "            C2[Node.index(OpenList[i])]= CList[i]\n",
    "        if (OpenList[i] in TargetGraph[state]):\n",
    "            d = {k: v for k, v in zip(keys, values)}\n",
    "            d_all.append(d)\n",
    "    \n",
    "    # cost-first sorting\n",
    "    d_all.sort(key=lambda x: x['cost'])\n",
    "    OpenList=[d['node'] for d in d_all]\n",
    "    print(OpenList)\n",
    "    print(C2) \n",
    "    print(['Path',Path])\n",
    "    # ---\n",
    "    print(['OpenList(2)',OpenList])\n",
    "    print('')\n",
    "\n",
    "print('Completed') \n",
    "print(' ') \n",
    "print(C2) \n",
    "print(['Path',Path])"
   ]
  },
  {
   "cell_type": "code",
   "execution_count": 322,
   "metadata": {},
   "outputs": [
    {
     "data": {
      "text/plain": [
       "(['G', 'D', 'B'],\n",
       " [{'node': 'G', 'h': 0}, {'node': 'D', 'h': 1}, {'node': 'B', 'h': 2}])"
      ]
     },
     "execution_count": 322,
     "metadata": {},
     "output_type": "execute_result"
    }
   ],
   "source": [
    "# h-first sorting \n",
    "OpenList=['D', 'G', 'B']\n",
    "\n",
    "hList=[h[Node.index(L)] for L in OpenList]\n",
    "keys = ['node','h']\n",
    "d_all=[dict(zip(keys, [n,h])) for n,h in zip(OpenList,hList)]\n",
    "d_all.sort(key=lambda x: x['h'])\n",
    "OpenList=[d['node'] for d in d_all]\n",
    "OpenList,d_all"
   ]
  },
  {
   "cell_type": "code",
   "execution_count": 334,
   "metadata": {},
   "outputs": [
    {
     "data": {
      "text/plain": [
       "(['G', 'D', 'B'],\n",
       " [{'node': 'G', 'h': 0}, {'node': 'D', 'h': 1}, {'node': 'B', 'h': 2}])"
      ]
     },
     "execution_count": 334,
     "metadata": {},
     "output_type": "execute_result"
    }
   ],
   "source": [
    "# h-first sorting \n",
    "OpenList=['D', 'G', 'B']\n",
    "\n",
    "hList=[h[Node.index(L)] for L in OpenList]\n",
    "keys = ['node','h']\n",
    "d_all=[{k: v for k,v in zip(keys, [n,h])} for n,h in zip(OpenList,hList)]\n",
    "d_all.sort(key=lambda x: x['h'])\n",
    "OpenList=[d['node'] for d in d_all]\n",
    "OpenList,d_all"
   ]
  },
  {
   "cell_type": "code",
   "execution_count": 359,
   "metadata": {},
   "outputs": [],
   "source": [
    "OpenList=['S']\n",
    "ClosedList=[]\n",
    "# CList=[]\n",
    "# C2=[0]*len(C[0])\n",
    "Path=[]"
   ]
  },
  {
   "cell_type": "code",
   "execution_count": 517,
   "metadata": {},
   "outputs": [
    {
     "name": "stdout",
     "output_type": "stream",
     "text": [
      "['state', 'S']\n",
      "['OpenList(1)', []]\n",
      "['ClosedList', ['S']]\n",
      "['B', 'A']\n",
      "['Path', ['S']]\n",
      "['OpenList(2)', ['B', 'A']]\n",
      "\n",
      "['state', 'B']\n",
      "['OpenList(1)', ['A']]\n",
      "['ClosedList', ['B', 'S']]\n",
      "['F', 'E', 'A']\n",
      "['Path', ['S', 'B']]\n",
      "['OpenList(2)', ['F', 'E', 'A']]\n",
      "\n",
      "['state', 'F']\n",
      "['OpenList(1)', ['E', 'A']]\n",
      "['ClosedList', ['B', 'F', 'S']]\n",
      "['E', 'A']\n",
      "['Path', ['S', 'B', 'F']]\n",
      "['OpenList(2)', ['E', 'A']]\n",
      "\n",
      "['state', 'E']\n",
      "['OpenList(1)', ['A']]\n",
      "['ClosedList', ['E', 'B', 'F', 'S']]\n",
      "['G', 'D', 'C', 'A']\n",
      "['Path', ['S', 'B', 'F', 'E']]\n",
      "['OpenList(2)', ['G', 'D', 'C', 'A']]\n",
      "\n",
      "['state', 'G']\n",
      "['OpenList(1)', ['D', 'C', 'A']]\n",
      "['ClosedList', ['S', 'G', 'E', 'B', 'F']]\n",
      "['S', 'B', 'F', 'E', 'G']\n",
      "Completed\n",
      " \n",
      "['Path', ['S', 'B', 'E', 'G']]\n"
     ]
    }
   ],
   "source": [
    "# Algorithm 3.2: completed version of best-first search (sorted by heuristic values at nodes)\n",
    "\n",
    "OpenList=['S']\n",
    "ClosedList=[]\n",
    "# CList=[]\n",
    "# C2=[0]*len(C[0])\n",
    "Path=[]\n",
    "\n",
    "while OpenList:\n",
    "    state=OpenList[0]\n",
    "    Path.append(state)\n",
    "    del OpenList[0]\n",
    "    ClosedList=[state]+ClosedList\n",
    "    ClosedList=list(set(ClosedList))\n",
    "    print(['state',state])\n",
    "    print(['OpenList(1)',OpenList])\n",
    "    print(['ClosedList',ClosedList])\n",
    "    if state=='G':\n",
    "        break\n",
    "    tmpSt=set(TargetGraph[state]) -set(ClosedList)\n",
    "    activeNodes=list(tmpSt -set(OpenList))    \n",
    "    OpenList.extend(activeNodes)\n",
    "    \n",
    "    # # cost accumulation (summation) \n",
    "    # indexList=[Node.index(L)  for L in OpenList]\n",
    "    # print(indexList)\n",
    "    # CList=[C2[Node.index(state)]+C[Node.index(state)][i] for i in indexList]\n",
    "        \n",
    "    # keys = ['node','cost']\n",
    "    keys = ['node','h']\n",
    "    d_all=[]\n",
    "    for i in range(len(OpenList)):\n",
    "        # values=[OpenList[i],CList[i]]\n",
    "        values=[OpenList[i],h[Node.index(OpenList[i])]]\n",
    "        # if (OpenList[i] in Path):\n",
    "        #     C2[Node.index(OpenList[i])]=C2[Node.index(OpenList[i])]+CList[i] \n",
    "        # else: \n",
    "        #     C2[Node.index(OpenList[i])]= CList[i]\n",
    "        # if (OpenList[i] in TargetGraph[state]):\n",
    "        #     d = {k: v for k, v in zip(keys, values)}\n",
    "        #     d_all.append(d)\n",
    "        d = {k: v for k, v in zip(keys, values)}\n",
    "        d_all.append(d)\n",
    "    \n",
    "    # cost-first sorting\n",
    "    # d_all.sort(key=lambda x: x['cost'])\n",
    "    d_all.sort(key=lambda x: x['h'])\n",
    "    OpenList=[d['node'] for d in d_all]\n",
    "    print(OpenList)\n",
    "    # print(C2) \n",
    "    print(['Path',Path])\n",
    "    # ---\n",
    "    print(['OpenList(2)',OpenList])\n",
    "    print('')\n",
    "\n",
    "print(Path)\n",
    "k=len(Path)-1\n",
    "p=Path[k]\n",
    "while k>0:\n",
    "# if True:\n",
    "    flag=True\n",
    "    while p not in TargetGraph[Path[k-1]]:\n",
    "        Path.remove(Path[k-1])\n",
    "        k=Path.index(p)\n",
    "        p=Path[k]\n",
    "        flag=False\n",
    "        # print('in',k,p)\n",
    "    if flag:\n",
    "        k=Path.index(p)-1\n",
    "        p=Path[k]\n",
    "        # print('out',k,p)\n",
    "        \n",
    "print('Completed') \n",
    "print(' ') \n",
    "# print(C2) \n",
    "print(['Path',Path])"
   ]
  },
  {
   "cell_type": "code",
   "execution_count": 531,
   "metadata": {},
   "outputs": [
    {
     "name": "stdout",
     "output_type": "stream",
     "text": [
      "['state', 'S']\n",
      "['OpenList(1)', []]\n",
      "['ClosedList', ['S']]\n",
      "[1, 2]\n",
      "['A', 'B']\n",
      "[{'node': 'A', 'cost': 2, 'h': 4}, {'node': 'B', 'cost': 6, 'h': 2}]\n",
      "[6, 8]\n",
      "['Path', ['S']]\n",
      "['OpenList(2)', ['A', 'B']]\n",
      "\n",
      "['state', 'A']\n",
      "['OpenList(1)', ['B']]\n",
      "['ClosedList', ['A', 'S']]\n",
      "[2, 3]\n",
      "['B', 'C']\n",
      "[{'node': 'B', 'cost': 4, 'h': 2}, {'node': 'C', 'cost': 3, 'h': 3}]\n",
      "[6, 6]\n",
      "['Path', ['S', 'A']]\n",
      "['OpenList(2)', ['B', 'C']]\n",
      "\n",
      "['state', 'B']\n",
      "['OpenList(1)', ['C']]\n",
      "['ClosedList', ['A', 'B', 'S']]\n",
      "[3, 5, 6]\n",
      "['C', 'F', 'E']\n",
      "[{'node': 'C', 'cost': 4, 'h': 3}, {'node': 'F', 'cost': 8, 'h': 0}, {'node': 'E', 'cost': 9, 'h': 1}]\n",
      "[7, 8, 10]\n",
      "['Path', ['S', 'A', 'B']]\n",
      "['OpenList(2)', ['C', 'F', 'E']]\n",
      "\n",
      "['state', 'C']\n",
      "['OpenList(1)', ['F', 'E']]\n",
      "['ClosedList', ['A', 'B', 'C', 'S']]\n",
      "[6, 5, 4]\n",
      "['F', 'E', 'D']\n",
      "[{'node': 'F', 'cost': 4, 'h': 0}, {'node': 'E', 'cost': 6, 'h': 1}, {'node': 'D', 'cost': 9, 'h': 1}]\n",
      "[4, 7, 10]\n",
      "['Path', ['S', 'A', 'B', 'C']]\n",
      "['OpenList(2)', ['F', 'E', 'D']]\n",
      "\n",
      "['state', 'F']\n",
      "['OpenList(1)', ['E', 'D']]\n",
      "['ClosedList', ['S', 'C', 'A', 'B', 'F']]\n",
      "[5, 4]\n",
      "['E', 'D']\n",
      "[{'node': 'E', 'cost': 4, 'h': 1}, {'node': 'D', 'cost': 4, 'h': 1}]\n",
      "[5, 5]\n",
      "['Path', ['S', 'A', 'B', 'C', 'F']]\n",
      "['OpenList(2)', ['E', 'D']]\n",
      "\n",
      "['state', 'E']\n",
      "['OpenList(1)', ['D']]\n",
      "['ClosedList', ['S', 'C', 'A', 'E', 'B', 'F']]\n",
      "[4, 7]\n",
      "['D', 'G']\n",
      "[{'node': 'D', 'cost': 5, 'h': 1}, {'node': 'G', 'cost': 9, 'h': 0}]\n",
      "[6, 9]\n",
      "['Path', ['S', 'A', 'B', 'C', 'F', 'E']]\n",
      "['OpenList(2)', ['D', 'G']]\n",
      "\n",
      "['state', 'D']\n",
      "['OpenList(1)', ['G']]\n",
      "['ClosedList', ['S', 'C', 'A', 'E', 'B', 'F', 'D']]\n",
      "[7]\n",
      "['G']\n",
      "[{'node': 'G', 'cost': 6, 'h': 0}]\n",
      "[6]\n",
      "['Path', ['S', 'A', 'B', 'C', 'F', 'E', 'D']]\n",
      "['OpenList(2)', ['G']]\n",
      "\n",
      "['state', 'G']\n",
      "['OpenList(1)', []]\n",
      "['ClosedList', ['S', 'C', 'G', 'A', 'E', 'B', 'F', 'D']]\n",
      "['S', 'A', 'B', 'C', 'F', 'E', 'D', 'G']\n",
      "Completed\n",
      " \n",
      "['Path', ['S', 'A', 'C', 'E', 'D', 'G']]\n"
     ]
    }
   ],
   "source": [
    "# Algorithm 3.3: completed version of A* search (cost-first + best-first )\n",
    "\n",
    "OpenList=['S']\n",
    "ClosedList=[]\n",
    "CList=[]\n",
    "C2=[0]*len(C[0])\n",
    "Path=[]\n",
    "\n",
    "while OpenList:\n",
    "    state=OpenList[0]\n",
    "    Path.append(state)\n",
    "    del OpenList[0]\n",
    "    ClosedList=[state]+ClosedList\n",
    "    ClosedList=list(set(ClosedList))\n",
    "    print(['state',state])\n",
    "    print(['OpenList(1)',OpenList])\n",
    "    print(['ClosedList',ClosedList])\n",
    "    if state=='G':\n",
    "        break\n",
    "    tmpSt=set(TargetGraph[state]) -set(ClosedList)\n",
    "    activeNodes=list(tmpSt -set(OpenList))    \n",
    "    OpenList.extend(activeNodes)\n",
    "    \n",
    "    # cost accumulation (summation) \n",
    "    indexList=[Node.index(L)  for L in OpenList]\n",
    "    print(indexList)\n",
    "    CList=[C2[Node.index(state)]+C[Node.index(state)][i] for i in indexList]\n",
    "        \n",
    "    # keys = ['node','cost']\n",
    "    # keys = ['node','h']\n",
    "    keys = ['node','cost','h']\n",
    "    d_all=[]\n",
    "    for i in range(len(OpenList)):\n",
    "        # values=[OpenList[i],CList[i]]\n",
    "        # values=[OpenList[i],h[Node.index(OpenList[i])]]\n",
    "        values=[OpenList[i],CList[i],h[Node.index(OpenList[i])]]\n",
    "        if (OpenList[i] in Path):\n",
    "            C2[Node.index(OpenList[i])]=C2[Node.index(OpenList[i])]+CList[i] \n",
    "        else: \n",
    "            C2[Node.index(OpenList[i])]= CList[i]\n",
    "        # if (OpenList[i] in TargetGraph[state]):\n",
    "        #     d = {k: v for k, v in zip(keys, values)}\n",
    "        #     d_all.append(d)\n",
    "        d = {k: v for k, v in zip(keys, values)}\n",
    "        d_all.append(d)\n",
    "    \n",
    "    # cost-first sorting\n",
    "    # d_all.sort(key=lambda x: x['cost'])\n",
    "    d_all.sort(key=lambda x: (x['cost']+x['h']))\n",
    "    OpenList=[d['node'] for d in d_all]\n",
    "    score =[d['cost']+d['h'] for d in d_all]\n",
    "    print(OpenList)\n",
    "    print(d_all) \n",
    "    print(score) \n",
    "    print(['Path',Path])\n",
    "    # ---\n",
    "    print(['OpenList(2)',OpenList])\n",
    "    print('')\n",
    "\n",
    "print(Path)\n",
    "k=len(Path)-1\n",
    "p=Path[k]\n",
    "while k>0:\n",
    "# if True:\n",
    "    flag=True\n",
    "    while p not in TargetGraph[Path[k-1]]:\n",
    "        Path.remove(Path[k-1])\n",
    "        k=Path.index(p)\n",
    "        p=Path[k]\n",
    "        flag=False\n",
    "        # print('in',k,p)\n",
    "    if flag:\n",
    "        k=Path.index(p)-1\n",
    "        p=Path[k]\n",
    "        # print('out',k,p)\n",
    "        \n",
    "print('Completed') \n",
    "print(' ') \n",
    "# print(C2) \n",
    "print(['Path',Path])"
   ]
  },
  {
   "cell_type": "code",
   "execution_count": 522,
   "metadata": {},
   "outputs": [],
   "source": [
    "d_all=[{'node': 'G', 'cost': 25, 'h': 0}, {'node': 'G', 'cost': 25, 'h': 0}, {'node': 'E', 'cost': 20, 'h': 1}, {'node': 'D', 'cost': 21, 'h': 1}, {'node': 'D', 'cost': 21, 'h': 1}, {'node': 'B', 'cost': 25, 'h': 2}, {'node': 'B', 'cost': 25, 'h': 2}, {'node': 'B', 'cost': 25, 'h': 2}, {'node': 'B', 'cost': 25, 'h': 2}, {'node': 'B', 'cost': 25, 'h': 2}, {'node': 'B', 'cost': 25, 'h': 2}, {'node': 'B', 'cost': 25, 'h': 2}, {'node': 'B', 'cost': 25, 'h': 2}, {'node': 'C', 'cost': 22, 'h': 3}, {'node': 'C', 'cost': 22, 'h': 3}, {'node': 'A', 'cost': 20, 'h': 4}, {'node': 'A', 'cost': 20, 'h': 4}, {'node': 'A', 'cost': 20, 'h': 4}, {'node': 'A', 'cost': 20, 'h': 4}]\n"
   ]
  },
  {
   "cell_type": "code",
   "execution_count": 524,
   "metadata": {},
   "outputs": [
    {
     "data": {
      "text/plain": [
       "[{'node': 'E', 'cost': 20, 'h': 1},\n",
       " {'node': 'D', 'cost': 21, 'h': 1},\n",
       " {'node': 'D', 'cost': 21, 'h': 1},\n",
       " {'node': 'A', 'cost': 20, 'h': 4},\n",
       " {'node': 'A', 'cost': 20, 'h': 4},\n",
       " {'node': 'A', 'cost': 20, 'h': 4},\n",
       " {'node': 'A', 'cost': 20, 'h': 4},\n",
       " {'node': 'G', 'cost': 25, 'h': 0},\n",
       " {'node': 'G', 'cost': 25, 'h': 0},\n",
       " {'node': 'C', 'cost': 22, 'h': 3},\n",
       " {'node': 'C', 'cost': 22, 'h': 3},\n",
       " {'node': 'B', 'cost': 25, 'h': 2},\n",
       " {'node': 'B', 'cost': 25, 'h': 2},\n",
       " {'node': 'B', 'cost': 25, 'h': 2},\n",
       " {'node': 'B', 'cost': 25, 'h': 2},\n",
       " {'node': 'B', 'cost': 25, 'h': 2},\n",
       " {'node': 'B', 'cost': 25, 'h': 2},\n",
       " {'node': 'B', 'cost': 25, 'h': 2},\n",
       " {'node': 'B', 'cost': 25, 'h': 2}]"
      ]
     },
     "execution_count": 524,
     "metadata": {},
     "output_type": "execute_result"
    }
   ],
   "source": [
    "d_all.sort(key=lambda x: (x['cost']+x['h']))\n",
    "d_all"
   ]
  },
  {
   "cell_type": "code",
   "execution_count": null,
   "metadata": {},
   "outputs": [],
   "source": []
  },
  {
   "cell_type": "code",
   "execution_count": 451,
   "metadata": {},
   "outputs": [
    {
     "data": {
      "text/plain": [
       "(6, 'G')"
      ]
     },
     "execution_count": 451,
     "metadata": {},
     "output_type": "execute_result"
    }
   ],
   "source": [
    "Path=['S','B','F','S','A','E','G']\n",
    "k=len(Path)-1\n",
    "p=Path[k]\n",
    "k,p"
   ]
  },
  {
   "cell_type": "code",
   "execution_count": 511,
   "metadata": {},
   "outputs": [
    {
     "name": "stdout",
     "output_type": "stream",
     "text": [
      "out 4 E\n",
      "in 3 E\n",
      "in 2 E\n",
      "out 1 B\n",
      "out 0 S\n"
     ]
    },
    {
     "data": {
      "text/plain": [
       "['S', 'B', 'E', 'G']"
      ]
     },
     "execution_count": 511,
     "metadata": {},
     "output_type": "execute_result"
    }
   ],
   "source": [
    "Path=['S','B','F','A','E','G']\n",
    "k=len(Path)-1\n",
    "p=Path[k]\n",
    "while k>0:\n",
    "# if True:\n",
    "    flag=True\n",
    "    while p not in TargetGraph[Path[k-1]]:\n",
    "        Path.remove(Path[k-1])\n",
    "        k=Path.index(p)\n",
    "        p=Path[k]\n",
    "        flag=False\n",
    "        print('in',k,p)\n",
    "    if flag:\n",
    "        k=Path.index(p)-1\n",
    "        p=Path[k]\n",
    "        print('out',k,p)\n",
    "\n",
    "Path"
   ]
  },
  {
   "cell_type": "code",
   "execution_count": 504,
   "metadata": {},
   "outputs": [],
   "source": [
    "Path=['S','B','F','A','E','G']\n",
    "k=len(Path)-1\n",
    "p=Path[k]"
   ]
  },
  {
   "cell_type": "code",
   "execution_count": 493,
   "metadata": {},
   "outputs": [
    {
     "data": {
      "text/plain": [
       "(['S', 'B', 'F', 'A', 'E', 'G'], 5)"
      ]
     },
     "execution_count": 493,
     "metadata": {},
     "output_type": "execute_result"
    }
   ],
   "source": [
    "Path,k\n"
   ]
  },
  {
   "cell_type": "code",
   "execution_count": 507,
   "metadata": {},
   "outputs": [
    {
     "name": "stdout",
     "output_type": "stream",
     "text": [
      "in 3 E\n",
      "in 2 E\n"
     ]
    }
   ],
   "source": [
    "if True:\n",
    "    flag=True\n",
    "    while p not in TargetGraph[Path[k-1]]:\n",
    "        Path.remove(Path[k-1])\n",
    "        k=Path.index(p)\n",
    "        p=Path[k]\n",
    "        flag=False\n",
    "        print('in',k,p)\n"
   ]
  },
  {
   "cell_type": "code",
   "execution_count": 487,
   "metadata": {},
   "outputs": [
    {
     "data": {
      "text/plain": [
       "['B', 'C', 'D', 'G']"
      ]
     },
     "execution_count": 487,
     "metadata": {},
     "output_type": "execute_result"
    }
   ],
   "source": [
    "TargetGraph[Path[k-1]]"
   ]
  },
  {
   "cell_type": "code",
   "execution_count": 508,
   "metadata": {},
   "outputs": [
    {
     "data": {
      "text/plain": [
       "['S', 'B', 'E', 'G']"
      ]
     },
     "execution_count": 508,
     "metadata": {},
     "output_type": "execute_result"
    }
   ],
   "source": [
    "Path"
   ]
  },
  {
   "cell_type": "code",
   "execution_count": 496,
   "metadata": {},
   "outputs": [
    {
     "data": {
      "text/plain": [
       "True"
      ]
     },
     "execution_count": 496,
     "metadata": {},
     "output_type": "execute_result"
    }
   ],
   "source": [
    "p not in TargetGraph[Path[k-1]]"
   ]
  },
  {
   "cell_type": "code",
   "execution_count": 503,
   "metadata": {},
   "outputs": [
    {
     "data": {
      "text/plain": [
       "(3, 'E')"
      ]
     },
     "execution_count": 503,
     "metadata": {},
     "output_type": "execute_result"
    }
   ],
   "source": [
    "k=Path.index(p)\n",
    "k,p"
   ]
  },
  {
   "cell_type": "code",
   "execution_count": 505,
   "metadata": {},
   "outputs": [],
   "source": [
    "flag=True"
   ]
  },
  {
   "cell_type": "code",
   "execution_count": 501,
   "metadata": {},
   "outputs": [
    {
     "data": {
      "text/plain": [
       "['S', 'B', 'F', 'E', 'G']"
      ]
     },
     "execution_count": 501,
     "metadata": {},
     "output_type": "execute_result"
    }
   ],
   "source": [
    "Path"
   ]
  },
  {
   "cell_type": "code",
   "execution_count": 498,
   "metadata": {},
   "outputs": [],
   "source": [
    "Path.remove(Path[k-1])"
   ]
  },
  {
   "cell_type": "code",
   "execution_count": 506,
   "metadata": {},
   "outputs": [
    {
     "name": "stdout",
     "output_type": "stream",
     "text": [
      "out 4 E\n"
     ]
    }
   ],
   "source": [
    "    if flag:\n",
    "        k=Path.index(p)-1\n",
    "        p=Path[k]\n",
    "        print('out',k,p)"
   ]
  },
  {
   "cell_type": "code",
   "execution_count": 400,
   "metadata": {},
   "outputs": [
    {
     "data": {
      "text/plain": [
       "'A'"
      ]
     },
     "execution_count": 400,
     "metadata": {},
     "output_type": "execute_result"
    }
   ],
   "source": [
    "Path[k-1],p\n",
    "TargetGraph[Path[k-1]]\n",
    "Path[k-1]"
   ]
  },
  {
   "cell_type": "code",
   "execution_count": 401,
   "metadata": {},
   "outputs": [
    {
     "data": {
      "text/plain": [
       "['S', 'B', 'F', 'D', 'E', 'G']"
      ]
     },
     "execution_count": 401,
     "metadata": {},
     "output_type": "execute_result"
    }
   ],
   "source": [
    "Path.remove(Path[k-1])\n",
    "Path"
   ]
  },
  {
   "cell_type": "code",
   "execution_count": 407,
   "metadata": {},
   "outputs": [
    {
     "data": {
      "text/plain": [
       "(3, 'D', 'E')"
      ]
     },
     "execution_count": 407,
     "metadata": {},
     "output_type": "execute_result"
    }
   ],
   "source": [
    "k=Path.index(p)-1\n",
    "k,Path[k],p"
   ]
  },
  {
   "cell_type": "code",
   "execution_count": 418,
   "metadata": {},
   "outputs": [
    {
     "data": {
      "text/plain": [
       "('G', 6)"
      ]
     },
     "execution_count": 418,
     "metadata": {},
     "output_type": "execute_result"
    }
   ],
   "source": [
    "Path=['S','B','F','D','A','E','G']\n",
    "k=len(Path)-1\n",
    "p=Path[k]\n",
    "p,k"
   ]
  },
  {
   "cell_type": "code",
   "execution_count": 419,
   "metadata": {},
   "outputs": [],
   "source": [
    "    while p not in TargetGraph[Path[k-1]]:\n",
    "        Path.remove(Path[k-1])\n",
    "        k=Path.index(p)-1\n",
    "        p=Path[k]"
   ]
  },
  {
   "cell_type": "code",
   "execution_count": 425,
   "metadata": {},
   "outputs": [],
   "source": [
    "    if p not in TargetGraph[Path[k-1]]:\n",
    "        Path.remove(Path[k-1])\n",
    "        k=Path.index(p)-1\n",
    "        p=Path[k]\n"
   ]
  },
  {
   "cell_type": "code",
   "execution_count": 426,
   "metadata": {},
   "outputs": [
    {
     "data": {
      "text/plain": [
       "(['S', 'B', 'F', 'D', 'E', 'G'], 3, 'D')"
      ]
     },
     "execution_count": 426,
     "metadata": {},
     "output_type": "execute_result"
    }
   ],
   "source": [
    "Path,k,p"
   ]
  },
  {
   "cell_type": "code",
   "execution_count": 424,
   "metadata": {},
   "outputs": [
    {
     "data": {
      "text/plain": [
       "(5, 'E')"
      ]
     },
     "execution_count": 424,
     "metadata": {},
     "output_type": "execute_result"
    }
   ],
   "source": [
    "k=Path.index(p)-1\n",
    "p=Path[k]\n",
    "k,p"
   ]
  },
  {
   "cell_type": "code",
   "execution_count": 393,
   "metadata": {},
   "outputs": [
    {
     "data": {
      "text/plain": [
       "['S', 'B', 'F', 'D', 'G']"
      ]
     },
     "execution_count": 393,
     "metadata": {},
     "output_type": "execute_result"
    }
   ],
   "source": [
    "if True:\n",
    "    while p not in TargetGraph[Path[k-1]]:\n",
    "        Path.remove(Path[k-1])\n",
    "        # k=Path.index(p)-1\n",
    "        # p=Path[k]\n",
    "Path        "
   ]
  },
  {
   "cell_type": "code",
   "execution_count": 391,
   "metadata": {},
   "outputs": [
    {
     "data": {
      "text/plain": [
       "['S', 'B', 'D', 'E', 'G']"
      ]
     },
     "execution_count": 391,
     "metadata": {},
     "output_type": "execute_result"
    }
   ],
   "source": [
    "Path"
   ]
  },
  {
   "cell_type": "code",
   "execution_count": 387,
   "metadata": {},
   "outputs": [
    {
     "data": {
      "text/plain": [
       "['S', 'B', 'F', 'D', 'A', 'E', 'G']"
      ]
     },
     "execution_count": 387,
     "metadata": {},
     "output_type": "execute_result"
    }
   ],
   "source": [
    "if True:\n",
    "    while p not in TargetGraph[Path[k-1]]:\n",
    "        Path.remove(Path[k-1])\n",
    "        k=Path.index(p)-1\n",
    "        p=Path[k]\n",
    "\n",
    "Path"
   ]
  },
  {
   "cell_type": "code",
   "execution_count": 384,
   "metadata": {},
   "outputs": [
    {
     "data": {
      "text/plain": [
       "'A'"
      ]
     },
     "execution_count": 384,
     "metadata": {},
     "output_type": "execute_result"
    }
   ],
   "source": [
    "Path.index(p),p\n",
    "Path[k-1]"
   ]
  },
  {
   "cell_type": "code",
   "execution_count": 373,
   "metadata": {},
   "outputs": [
    {
     "ename": "ValueError",
     "evalue": "'E' is not in list",
     "output_type": "error",
     "traceback": [
      "\u001b[0;31m---------------------------------------------------------------------------\u001b[0m",
      "\u001b[0;31mValueError\u001b[0m                                Traceback (most recent call last)",
      "Cell \u001b[0;32mIn[373], line 4\u001b[0m\n\u001b[1;32m      2\u001b[0m \u001b[38;5;28;01mwhile\u001b[39;00m p \u001b[38;5;129;01mnot\u001b[39;00m \u001b[38;5;129;01min\u001b[39;00m TargetGraph[Path[k\u001b[38;5;241m-\u001b[39m\u001b[38;5;241m1\u001b[39m]]:\n\u001b[1;32m      3\u001b[0m     Path\u001b[38;5;241m.\u001b[39mremove(Path[k\u001b[38;5;241m-\u001b[39m\u001b[38;5;241m1\u001b[39m])\n\u001b[0;32m----> 4\u001b[0m k\u001b[38;5;241m=\u001b[39m\u001b[43mPath\u001b[49m\u001b[38;5;241;43m.\u001b[39;49m\u001b[43mindex\u001b[49m\u001b[43m(\u001b[49m\u001b[43mp\u001b[49m\u001b[43m)\u001b[49m\u001b[38;5;241m-\u001b[39m\u001b[38;5;241m1\u001b[39m\n\u001b[1;32m      5\u001b[0m p\u001b[38;5;241m=\u001b[39mPath[k]\n\u001b[1;32m      6\u001b[0m \u001b[38;5;28mprint\u001b[39m(k,p)\n",
      "\u001b[0;31mValueError\u001b[0m: 'E' is not in list"
     ]
    }
   ],
   "source": [
    "if True:\n",
    "    while p not in TargetGraph[Path[k-1]]:\n",
    "        Path.remove(Path[k-1])\n",
    "    k=Path.index(p)-1\n",
    "    p=Path[k]\n",
    "    print(k,p)"
   ]
  },
  {
   "cell_type": "code",
   "execution_count": 374,
   "metadata": {},
   "outputs": [
    {
     "data": {
      "text/plain": [
       "['S', 'B', 'F', 'D', 'G']"
      ]
     },
     "execution_count": 374,
     "metadata": {},
     "output_type": "execute_result"
    }
   ],
   "source": [
    "Path"
   ]
  },
  {
   "cell_type": "code",
   "execution_count": 368,
   "metadata": {},
   "outputs": [
    {
     "data": {
      "text/plain": [
       "(['B', 'C', 'D', 'G'], 'E')"
      ]
     },
     "execution_count": 368,
     "metadata": {},
     "output_type": "execute_result"
    }
   ],
   "source": [
    "TargetGraph[Path[k-1]],Path[k-1]"
   ]
  },
  {
   "cell_type": "code",
   "execution_count": 370,
   "metadata": {},
   "outputs": [
    {
     "data": {
      "text/plain": [
       "6"
      ]
     },
     "execution_count": 370,
     "metadata": {},
     "output_type": "execute_result"
    }
   ],
   "source": [
    "Path.index(p)"
   ]
  },
  {
   "cell_type": "code",
   "execution_count": 350,
   "metadata": {},
   "outputs": [
    {
     "name": "stdout",
     "output_type": "stream",
     "text": [
      "['state', 'S']\n",
      "['OpenList(1)', []]\n",
      "['ClosedList', ['S']]\n"
     ]
    }
   ],
   "source": [
    "# if True:\n",
    "state=OpenList[0]\n",
    "Path.append(state)\n",
    "del OpenList[0]\n",
    "ClosedList=[state]+ClosedList\n",
    "ClosedList=list(set(ClosedList))\n",
    "print(['state',state])\n",
    "print(['OpenList(1)',OpenList])\n",
    "print(['ClosedList',ClosedList])\n",
    "if state=='G':\n",
    "    # break\n",
    "    1\n",
    "tmpSt=set(TargetGraph[state]) -set(ClosedList)\n",
    "activeNodes=list(tmpSt -set(OpenList))    \n",
    "OpenList.extend(activeNodes)\n",
    "\n",
    "# # cost accumulation (summation) \n",
    "# indexList=[Node.index(L)  for L in OpenList]\n",
    "# print(indexList)\n",
    "# CList=[C2[Node.index(state)]+C[Node.index(state)][i] for i in indexList]\n",
    "    \n",
    "# keys = ['node','cost']\n",
    "keys = ['node','h']\n",
    "d_all=[]"
   ]
  },
  {
   "cell_type": "code",
   "execution_count": 351,
   "metadata": {},
   "outputs": [
    {
     "data": {
      "text/plain": [
       "['A', 'B']"
      ]
     },
     "execution_count": 351,
     "metadata": {},
     "output_type": "execute_result"
    }
   ],
   "source": [
    "OpenList"
   ]
  },
  {
   "cell_type": "code",
   "execution_count": 352,
   "metadata": {},
   "outputs": [
    {
     "data": {
      "text/plain": [
       "[4, 4, 2, 3, 1, 1, 0, 0]"
      ]
     },
     "execution_count": 352,
     "metadata": {},
     "output_type": "execute_result"
    }
   ],
   "source": [
    "h"
   ]
  },
  {
   "cell_type": "code",
   "execution_count": 328,
   "metadata": {},
   "outputs": [
    {
     "data": {
      "text/plain": [
       "[{'D': 1}, {'G': 0}, {'B': 2}]"
      ]
     },
     "execution_count": 328,
     "metadata": {},
     "output_type": "execute_result"
    }
   ],
   "source": [
    "d_all"
   ]
  },
  {
   "cell_type": "code",
   "execution_count": 314,
   "metadata": {},
   "outputs": [
    {
     "data": {
      "text/plain": [
       "[]"
      ]
     },
     "execution_count": 314,
     "metadata": {},
     "output_type": "execute_result"
    }
   ],
   "source": [
    "OpenList"
   ]
  },
  {
   "cell_type": "code",
   "execution_count": 302,
   "metadata": {},
   "outputs": [
    {
     "data": {
      "text/plain": [
       "['S', 'A', 'C', 'E', 'D', 'G', 'G']"
      ]
     },
     "execution_count": 302,
     "metadata": {},
     "output_type": "execute_result"
    }
   ],
   "source": [
    "Path"
   ]
  },
  {
   "cell_type": "code",
   "execution_count": 282,
   "metadata": {},
   "outputs": [
    {
     "data": {
      "text/plain": [
       "False"
      ]
     },
     "execution_count": 282,
     "metadata": {},
     "output_type": "execute_result"
    }
   ],
   "source": [
    "OpenList[0] in Path"
   ]
  },
  {
   "cell_type": "code",
   "execution_count": 286,
   "metadata": {},
   "outputs": [
    {
     "data": {
      "text/plain": [
       "['A', 'B']"
      ]
     },
     "execution_count": 286,
     "metadata": {},
     "output_type": "execute_result"
    }
   ],
   "source": [
    "TargetGraph[state]"
   ]
  },
  {
   "cell_type": "code",
   "execution_count": 284,
   "metadata": {},
   "outputs": [
    {
     "data": {
      "text/plain": [
       "'S'"
      ]
     },
     "execution_count": 284,
     "metadata": {},
     "output_type": "execute_result"
    }
   ],
   "source": [
    "Path[-1]"
   ]
  },
  {
   "cell_type": "code",
   "execution_count": 277,
   "metadata": {},
   "outputs": [
    {
     "data": {
      "text/plain": [
       "True"
      ]
     },
     "execution_count": 277,
     "metadata": {},
     "output_type": "execute_result"
    }
   ],
   "source": [
    "len(OpenList)==0"
   ]
  },
  {
   "cell_type": "code",
   "execution_count": 258,
   "metadata": {},
   "outputs": [
    {
     "data": {
      "text/plain": [
       "[{'node': 'B', 'cost': 3}, {'node': 'E', 'cost': 5}, {'node': 'D', 'cost': 8}]"
      ]
     },
     "execution_count": 258,
     "metadata": {},
     "output_type": "execute_result"
    }
   ],
   "source": [
    "d_all"
   ]
  },
  {
   "cell_type": "code",
   "execution_count": 257,
   "metadata": {},
   "outputs": [
    {
     "data": {
      "text/plain": [
       "['S', 'A', 'C']"
      ]
     },
     "execution_count": 257,
     "metadata": {},
     "output_type": "execute_result"
    }
   ],
   "source": [
    "Path"
   ]
  },
  {
   "cell_type": "code",
   "execution_count": 256,
   "metadata": {},
   "outputs": [
    {
     "data": {
      "text/plain": [
       "['B', 'E', 'D']"
      ]
     },
     "execution_count": 256,
     "metadata": {},
     "output_type": "execute_result"
    }
   ],
   "source": [
    "OpenList"
   ]
  },
  {
   "cell_type": "code",
   "execution_count": 231,
   "metadata": {},
   "outputs": [
    {
     "data": {
      "text/plain": [
       "['S', 'A']"
      ]
     },
     "execution_count": 231,
     "metadata": {},
     "output_type": "execute_result"
    }
   ],
   "source": [
    "Path"
   ]
  },
  {
   "cell_type": "code",
   "execution_count": 233,
   "metadata": {},
   "outputs": [
    {
     "data": {
      "text/plain": [
       "False"
      ]
     },
     "execution_count": 233,
     "metadata": {},
     "output_type": "execute_result"
    }
   ],
   "source": [
    "OpenList[i] in Path"
   ]
  },
  {
   "cell_type": "code",
   "execution_count": 335,
   "metadata": {},
   "outputs": [
    {
     "data": {
      "text/plain": [
       "'D'"
      ]
     },
     "execution_count": 335,
     "metadata": {},
     "output_type": "execute_result"
    }
   ],
   "source": [
    "OpenList[i] "
   ]
  },
  {
   "cell_type": "code",
   "execution_count": 336,
   "metadata": {},
   "outputs": [],
   "source": [
    "if OpenList[i] in Path:\n",
    "    C2[Node.index(OpenList[i])]=C2[Node.index(OpenList[i])]+CList[i] \n",
    "else: \n",
    "    C2[Node.index(OpenList[i])]= CList[i]\n"
   ]
  },
  {
   "cell_type": "code",
   "execution_count": 222,
   "metadata": {},
   "outputs": [
    {
     "data": {
      "text/plain": [
       "'A'"
      ]
     },
     "execution_count": 222,
     "metadata": {},
     "output_type": "execute_result"
    }
   ],
   "source": [
    "# C2[OpenList[i]]\n",
    "OpenList[i]"
   ]
  },
  {
   "cell_type": "code",
   "execution_count": 208,
   "metadata": {},
   "outputs": [
    {
     "name": "stdout",
     "output_type": "stream",
     "text": [
      "['state', 'S']\n",
      "['OpenList(1)', []]\n",
      "['ClosedList', ['S']]\n",
      "['OpenList(2)', ['B', 'A']]\n",
      "\n",
      "['state', 'B']\n",
      "['OpenList(1)', ['A']]\n",
      "['ClosedList', ['B', 'S']]\n",
      "['OpenList(2)', ['F', 'E', 'A']]\n",
      "\n",
      "['state', 'F']\n",
      "['OpenList(1)', ['E', 'A']]\n",
      "['ClosedList', ['B', 'F', 'S']]\n",
      "['OpenList(2)', ['E', 'A']]\n",
      "\n",
      "['state', 'E']\n",
      "['OpenList(1)', ['A']]\n",
      "['ClosedList', ['E', 'B', 'F', 'S']]\n",
      "['OpenList(2)', ['G', 'D', 'C', 'A']]\n",
      "\n",
      "['state', 'G']\n",
      "['OpenList(1)', ['D', 'C', 'A']]\n",
      "['ClosedList', ['S', 'G', 'E', 'B', 'F']]\n",
      "Completed\n",
      " \n",
      "['Path', ['S', 'B', 'E', 'G']]\n"
     ]
    }
   ],
   "source": [
    "# Yuma Kubota's version\n",
    "\n",
    "# completed version of best-first search\n",
    "\n",
    "OpenList=['S']\n",
    "ClosedList=[]\n",
    "Path=[]\n",
    "\n",
    "while OpenList:\n",
    "    state=OpenList[0]\n",
    "    \n",
    "    # stateがパス終端部ノードと接続可能か？\n",
    "    if len(Path) != 0:\n",
    "        for p in Path[::-1]:\n",
    "            if p not in TargetGraph[state]:\n",
    "                Path.remove(p)\n",
    "            else:\n",
    "                break    \n",
    "    \n",
    "    del OpenList[0]\n",
    "    ClosedList=[state]+ClosedList\n",
    "    ClosedList=list(set(ClosedList))\n",
    "    print(['state',state])\n",
    "    print(['OpenList(1)',OpenList])\n",
    "    print(['ClosedList',ClosedList])\n",
    "    if state=='G':\n",
    "        Path.append('G')\n",
    "        break\n",
    "    tmpSt=set(TargetGraph[state]) -set(ClosedList)\n",
    "    activeNodes=list(tmpSt -set(OpenList))    \n",
    "    OpenList.extend(activeNodes)\n",
    "    \n",
    "    # heuristic value sorting \n",
    "    indexList=[Node.index(L)  for L in OpenList]\n",
    "    HList=[h[i] for i in indexList]\n",
    "    \n",
    "    keys = ['node','h']\n",
    "    d_all=[]\n",
    "    for i in range(len(OpenList)):\n",
    "        values=[OpenList[i],HList[i]]\n",
    "        d = {k: v for k, v in zip(keys, values)}\n",
    "        d_all.append(d)\n",
    "    d_all.sort(key=lambda x: x['h'])\n",
    "    OpenList=[d['node'] for d in d_all]\n",
    "    Path.append(state)\n",
    "    # ---\n",
    "    \n",
    "    print(['OpenList(2)',OpenList])\n",
    "    print('')\n",
    "print('Completed') \n",
    "print(' ') \n",
    "print(['Path',Path])"
   ]
  },
  {
   "cell_type": "code",
   "execution_count": null,
   "metadata": {},
   "outputs": [],
   "source": [
    "HList"
   ]
  },
  {
   "cell_type": "code",
   "execution_count": null,
   "metadata": {},
   "outputs": [],
   "source": [
    "H =[4,4,2,3,1,1,0,0]"
   ]
  },
  {
   "cell_type": "code",
   "execution_count": 207,
   "metadata": {},
   "outputs": [
    {
     "name": "stdout",
     "output_type": "stream",
     "text": [
      "['state', 'S']\n",
      "['OpenList(1)', []]\n",
      "['ClosedList', ['S']]\n",
      "['OpenList(2)', ['B', 'A']]\n",
      "\n",
      "['state', 'B']\n",
      "['OpenList(1)', ['A']]\n",
      "['ClosedList', ['B', 'S']]\n",
      "['OpenList(2)', ['F', 'E', 'A']]\n",
      "\n",
      "['state', 'F']\n",
      "['OpenList(1)', ['E', 'A']]\n",
      "['ClosedList', ['B', 'F', 'S']]\n",
      "['OpenList(2)', ['E', 'A']]\n",
      "\n",
      "['state', 'E']\n",
      "['OpenList(1)', ['A']]\n",
      "['ClosedList', ['E', 'B', 'F', 'S']]\n",
      "['OpenList(2)', ['G', 'D', 'C', 'A']]\n",
      "\n",
      "['state', 'G']\n",
      "['OpenList(1)', ['D', 'C', 'A']]\n",
      "['ClosedList', ['S', 'G', 'E', 'B', 'F']]\n",
      "Completed\n",
      " \n",
      "['Path', ['S', 'B', 'F', 'E', 'G']]\n"
     ]
    }
   ],
   "source": [
    "# completed version of best-first search\n",
    "\n",
    "OpenList=['S']\n",
    "ClosedList=[]\n",
    "Path=[]\n",
    "\n",
    "while OpenList:\n",
    "    state=OpenList[0]\n",
    "    del OpenList[0]\n",
    "    ClosedList=[state]+ClosedList\n",
    "    ClosedList=list(set(ClosedList))\n",
    "    print(['state',state])\n",
    "    print(['OpenList(1)',OpenList])\n",
    "    print(['ClosedList',ClosedList])\n",
    "    if state=='G':\n",
    "        Path.append('G')\n",
    "        break\n",
    "    tmpSt=set(TargetGraph[state]) -set(ClosedList)\n",
    "    activeNodes=list(tmpSt -set(OpenList))    \n",
    "    OpenList.extend(activeNodes)\n",
    "    \n",
    "    # heuristic value sorting \n",
    "    indexList=[Node.index(L)  for L in OpenList]\n",
    "    HList=[h[i] for i in indexList]\n",
    "    \n",
    "    keys = ['node','h']\n",
    "    d_all=[]\n",
    "    for i in range(len(OpenList)):\n",
    "        values=[OpenList[i],HList[i]]\n",
    "        d = {k: v for k, v in zip(keys, values)}\n",
    "        d_all.append(d)\n",
    "    d_all.sort(key=lambda x: x['h'])\n",
    "    OpenList=[d['node'] for d in d_all]\n",
    "    Path.append(state)\n",
    "    # ---\n",
    "    \n",
    "    print(['OpenList(2)',OpenList])\n",
    "    print('')\n",
    "print('Completed') \n",
    "print(' ') \n",
    "print(['Path',Path])\n"
   ]
  },
  {
   "cell_type": "code",
   "execution_count": null,
   "metadata": {},
   "outputs": [],
   "source": [
    "# completed version of A* search \n",
    "\n",
    "OpenList=['S']\n",
    "ClosedList=[]\n",
    "CList=[]\n",
    "C2=[0]*len(C[0])\n",
    "connN=['']*len(C[0])\n",
    "Path=[]\n",
    "\n",
    "while OpenList:\n",
    "    state=OpenList[0]\n",
    "    del OpenList[0]\n",
    "    ClosedList=[state]+ClosedList\n",
    "    ClosedList=list(set(ClosedList))\n",
    "    print(['state',state])\n",
    "    print(['OpenList(1)',OpenList])\n",
    "    print(['ClosedList',ClosedList])\n",
    "    if state=='G':\n",
    "#         Path.append(pre_state)\n",
    "        Path.append('G')\n",
    "        break\n",
    "    tmpSt=set(TargetGraph[state]) -set(ClosedList)\n",
    "    activeNodes=list(tmpSt -set(OpenList))    \n",
    "    OpenList.extend(activeNodes)\n",
    "\n",
    "    # heuristic value sorting \n",
    "    indexList=[Node.index(L)  for L in OpenList]\n",
    "    HList=[H[i] for i in indexList]\n",
    "    \n",
    "    # cost-first sorting \n",
    "    if len(CList)==0:\n",
    "        CList=[C[Node.index(state)][i] for i in indexList]\n",
    "    else:\n",
    "        print(indexList)\n",
    "        CList=[C2[Node.index(state)]+C[Node.index(state)][i] for i in indexList]\n",
    "        \n",
    "    keys = ['node','cost','h','f']\n",
    "    d_all=[]\n",
    "    flagU1=False\n",
    "    flagU2=True\n",
    "    for i in range(len(OpenList)):\n",
    "        values=[OpenList[i],CList[i],HList[i],CList[i]+HList[i]]\n",
    "        d = {k: v for k, v in zip(keys, values)}\n",
    "        if (C[Node.index(state)][Node.index(values[0])]>0) and ( C2[Node.index(values[0])]>values[1] or C2[Node.index(values[0])]==0):\n",
    "            # connected node                                                        and  (not larger than before                           or    blank )\n",
    "            C2[Node.index(values[0])]=values[1]\n",
    "            connN[Node.index(values[0])]=state\n",
    "            flagU1=True\n",
    "        if   C2[Node.index(values[0])]<values[1]:\n",
    "            flagU2=False\n",
    "        d_all.append(d)\n",
    "    if flagU1 and flagU2:\n",
    "        Path.append(state)\n",
    "    d_all.sort(key=lambda x: x['f'])\n",
    "    OpenList=[d['node'] for d in d_all]\n",
    "    print(OpenList)\n",
    "    print(C2) \n",
    "    print(['Path',Path])\n",
    "    # ---\n",
    "    pre_state=state\n",
    "    print(['OpenList(2)',OpenList])\n",
    "    print('')\n",
    "\n",
    "connN2=[connN,Node]\n",
    "print('Completed') \n",
    "print(' ') \n",
    "print(C2) \n",
    "print(['Path',Path])\n",
    "connN2"
   ]
  }
 ],
 "metadata": {
  "kernelspec": {
   "display_name": "Python 3 (ipykernel)",
   "language": "python",
   "name": "python3"
  },
  "language_info": {
   "codemirror_mode": {
    "name": "ipython",
    "version": 3
   },
   "file_extension": ".py",
   "mimetype": "text/x-python",
   "name": "python",
   "nbconvert_exporter": "python",
   "pygments_lexer": "ipython3",
   "version": "3.10.11"
  }
 },
 "nbformat": 4,
 "nbformat_minor": 4
}
