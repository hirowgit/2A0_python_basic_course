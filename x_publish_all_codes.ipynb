{
 "cells": [
  {
   "cell_type": "code",
   "execution_count": 12,
   "metadata": {},
   "outputs": [],
   "source": [
    "## Python basics for novice data scientists, supported by Wagatsuma Lab@Kyutech \n",
    "#\n",
    "# The MIT License (MIT): Copyright (c) 2020 Hiroaki Wagatsuma and Wagatsuma Lab@Kyutech\n",
    "# \n",
    "# Permission is hereby granted, free of charge, to any person obtaining a copy of this software and associated documentation files (the \"Software\"), to deal in the Software without restriction, including without limitation the rights to use, copy, modify, merge, publish, distribute, sublicense, and/or sell copies of the Software, and to permit persons to whom the Software is furnished to do so, subject to the following conditions:\n",
    "# The above copyright notice and this permission notice shall be included in all copies or substantial portions of the Software.\n",
    "# THE SOFTWARE IS PROVIDED \"AS IS\", WITHOUT WARRANTY OF ANY KIND, EXPRESS OR IMPLIED, INCLUDING BUT NOT LIMITED TO THE WARRANTIES OF MERCHANTABILITY, FITNESS FOR A PARTICULAR PURPOSE AND NONINFRINGEMENT. IN NO EVENT SHALL THE AUTHORS OR COPYRIGHT HOLDERS BE LIABLE FOR ANY CLAIM, DAMAGES OR OTHER LIABILITY, WHETHER IN AN ACTION OF CONTRACT, TORT OR OTHERWISE, ARISING FROM, OUT OF OR IN CONNECTION WITH THE SOFTWARE OR THE USE OR OTHER DEALINGS IN THE SOFTWARE. */\n",
    "#\n",
    "# # @Time    : 2020-4-20 \n",
    "# # @Author  : Hiroaki Wagatsuma\n",
    "# # @Site    : https://github.com/hirowgit/2A_python_basic_course\n",
    "# # @IDE     : Python 3.7.7 (default, Mar 10 2020, 15:43:27) [Clang 10.0.0 (clang-1000.11.45.5)] on darwin\n",
    "# # @File    : x_publish_all_codes.py "
   ]
  },
  {
   "cell_type": "code",
   "execution_count": 13,
   "metadata": {},
   "outputs": [
    {
     "name": "stdout",
     "output_type": "stream",
     "text": [
      "['lec1_step1', 'lec1_step3', 'lec1_step4', 'lec1_step2']\n",
      "lec1_step1\n",
      "jupyter nbconvert --to asciidoc lec1_step1.ipynb\n",
      "jupyter nbconvert --to html lec1_step1.ipynb\n",
      "jupyter nbconvert --to latex lec1_step1.ipynb\n",
      "jupyter nbconvert --to markdown lec1_step1.ipynb\n",
      "jupyter nbconvert --to pdf lec1_step1.ipynb\n",
      "jupyter nbconvert --to python lec1_step1.ipynb\n",
      "jupyter nbconvert --to slides lec1_step1.ipynb\n",
      "There exists lec1_step1\n",
      "lec1_step1.asciidoc\n",
      "lec1_step1.html\n",
      "lec1_step1.tex\n",
      "lec1_step1.md\n",
      "lec1_step1.pdf\n",
      "lec1_step1.slides.html\n",
      "lec1_step1.asciidoc\n",
      "lec1_step1.html\n",
      "lec1_step1.tex\n",
      "lec1_step1.md\n",
      "lec1_step1.pdf\n",
      "lec1_step1.slides.html\n",
      "lec1_step3\n",
      "jupyter nbconvert --to asciidoc lec1_step3.ipynb\n",
      "jupyter nbconvert --to html lec1_step3.ipynb\n",
      "jupyter nbconvert --to latex lec1_step3.ipynb\n",
      "jupyter nbconvert --to markdown lec1_step3.ipynb\n",
      "jupyter nbconvert --to pdf lec1_step3.ipynb\n",
      "jupyter nbconvert --to python lec1_step3.ipynb\n",
      "jupyter nbconvert --to slides lec1_step3.ipynb\n",
      "There exists lec1_step3\n",
      "lec1_step3.asciidoc\n",
      "lec1_step3.html\n",
      "lec1_step3.tex\n",
      "lec1_step3.md\n",
      "lec1_step3.pdf\n",
      "lec1_step3.slides.html\n"
     ]
    },
    {
     "ename": "Error",
     "evalue": "Destination path 'lec1_step3/lec1_step3_files' already exists",
     "output_type": "error",
     "traceback": [
      "\u001b[0;31m---------------------------------------------------------------------------\u001b[0m",
      "\u001b[0;31mError\u001b[0m                                     Traceback (most recent call last)",
      "\u001b[0;32m<ipython-input-13-85796c8257da>\u001b[0m in \u001b[0;36m<module>\u001b[0;34m()\u001b[0m\n\u001b[1;32m     67\u001b[0m \u001b[0;34m\u001b[0m\u001b[0m\n\u001b[1;32m     68\u001b[0m \u001b[0;32mfor\u001b[0m \u001b[0mkey\u001b[0m \u001b[0;32min\u001b[0m \u001b[0mftaglist\u001b[0m\u001b[0;34m:\u001b[0m\u001b[0;34m\u001b[0m\u001b[0;34m\u001b[0m\u001b[0m\n\u001b[0;32m---> 69\u001b[0;31m     \u001b[0msubF\u001b[0m\u001b[0;34m(\u001b[0m\u001b[0;34m\".\"\u001b[0m\u001b[0;34m.\u001b[0m\u001b[0mjoin\u001b[0m\u001b[0;34m(\u001b[0m\u001b[0;34m[\u001b[0m\u001b[0mkey\u001b[0m\u001b[0;34m,\u001b[0m\u001b[0mptypes_ori\u001b[0m\u001b[0;34m[\u001b[0m\u001b[0;36m4\u001b[0m\u001b[0;34m]\u001b[0m\u001b[0;34m]\u001b[0m\u001b[0;34m)\u001b[0m\u001b[0;34m)\u001b[0m \u001b[0;31m# + 'ipynb'\u001b[0m\u001b[0;34m\u001b[0m\u001b[0;34m\u001b[0m\u001b[0m\n\u001b[0m\u001b[1;32m     70\u001b[0m \u001b[0;34m\u001b[0m\u001b[0m\n\u001b[1;32m     71\u001b[0m \u001b[0;31m# subF(originalF)\u001b[0m\u001b[0;34m\u001b[0m\u001b[0;34m\u001b[0m\u001b[0;34m\u001b[0m\u001b[0m\n",
      "\u001b[0;32m<ipython-input-13-85796c8257da>\u001b[0m in \u001b[0;36msubF\u001b[0;34m(originalF)\u001b[0m\n\u001b[1;32m     42\u001b[0m         \u001b[0mhtmlsF\u001b[0m\u001b[0;34m=\u001b[0m\u001b[0;34m'_'\u001b[0m\u001b[0;34m.\u001b[0m\u001b[0mjoin\u001b[0m\u001b[0;34m(\u001b[0m\u001b[0;34m[\u001b[0m\u001b[0mftag\u001b[0m\u001b[0;34m,\u001b[0m\u001b[0;34m'files'\u001b[0m\u001b[0;34m]\u001b[0m\u001b[0;34m)\u001b[0m\u001b[0;34m;\u001b[0m\u001b[0;34m\u001b[0m\u001b[0;34m\u001b[0m\u001b[0m\n\u001b[1;32m     43\u001b[0m         \u001b[0;32mif\u001b[0m \u001b[0mos\u001b[0m\u001b[0;34m.\u001b[0m\u001b[0mpath\u001b[0m\u001b[0;34m.\u001b[0m\u001b[0misdir\u001b[0m\u001b[0;34m(\u001b[0m\u001b[0mhtmlsF\u001b[0m\u001b[0;34m)\u001b[0m\u001b[0;34m:\u001b[0m\u001b[0;34m\u001b[0m\u001b[0;34m\u001b[0m\u001b[0m\n\u001b[0;32m---> 44\u001b[0;31m             \u001b[0mshutil\u001b[0m\u001b[0;34m.\u001b[0m\u001b[0mmove\u001b[0m\u001b[0;34m(\u001b[0m\u001b[0mhtmlsF\u001b[0m\u001b[0;34m,\u001b[0m\u001b[0mftag\u001b[0m\u001b[0;34m)\u001b[0m\u001b[0;34m\u001b[0m\u001b[0;34m\u001b[0m\u001b[0m\n\u001b[0m\u001b[1;32m     45\u001b[0m \u001b[0;34m\u001b[0m\u001b[0m\n\u001b[1;32m     46\u001b[0m         \u001b[0mtime\u001b[0m\u001b[0;34m.\u001b[0m\u001b[0msleep\u001b[0m\u001b[0;34m(\u001b[0m\u001b[0;36m10\u001b[0m\u001b[0;34m)\u001b[0m\u001b[0;34m;\u001b[0m\u001b[0;34m\u001b[0m\u001b[0;34m\u001b[0m\u001b[0m\n",
      "\u001b[0;32m/usr/local/Cellar/python/3.7.7/Frameworks/Python.framework/Versions/3.7/lib/python3.7/shutil.py\u001b[0m in \u001b[0;36mmove\u001b[0;34m(src, dst, copy_function)\u001b[0m\n\u001b[1;32m    562\u001b[0m         \u001b[0mreal_dst\u001b[0m \u001b[0;34m=\u001b[0m \u001b[0mos\u001b[0m\u001b[0;34m.\u001b[0m\u001b[0mpath\u001b[0m\u001b[0;34m.\u001b[0m\u001b[0mjoin\u001b[0m\u001b[0;34m(\u001b[0m\u001b[0mdst\u001b[0m\u001b[0;34m,\u001b[0m \u001b[0m_basename\u001b[0m\u001b[0;34m(\u001b[0m\u001b[0msrc\u001b[0m\u001b[0;34m)\u001b[0m\u001b[0;34m)\u001b[0m\u001b[0;34m\u001b[0m\u001b[0;34m\u001b[0m\u001b[0m\n\u001b[1;32m    563\u001b[0m         \u001b[0;32mif\u001b[0m \u001b[0mos\u001b[0m\u001b[0;34m.\u001b[0m\u001b[0mpath\u001b[0m\u001b[0;34m.\u001b[0m\u001b[0mexists\u001b[0m\u001b[0;34m(\u001b[0m\u001b[0mreal_dst\u001b[0m\u001b[0;34m)\u001b[0m\u001b[0;34m:\u001b[0m\u001b[0;34m\u001b[0m\u001b[0;34m\u001b[0m\u001b[0m\n\u001b[0;32m--> 564\u001b[0;31m             \u001b[0;32mraise\u001b[0m \u001b[0mError\u001b[0m\u001b[0;34m(\u001b[0m\u001b[0;34m\"Destination path '%s' already exists\"\u001b[0m \u001b[0;34m%\u001b[0m \u001b[0mreal_dst\u001b[0m\u001b[0;34m)\u001b[0m\u001b[0;34m\u001b[0m\u001b[0;34m\u001b[0m\u001b[0m\n\u001b[0m\u001b[1;32m    565\u001b[0m     \u001b[0;32mtry\u001b[0m\u001b[0;34m:\u001b[0m\u001b[0;34m\u001b[0m\u001b[0;34m\u001b[0m\u001b[0m\n\u001b[1;32m    566\u001b[0m         \u001b[0mos\u001b[0m\u001b[0;34m.\u001b[0m\u001b[0mrename\u001b[0m\u001b[0;34m(\u001b[0m\u001b[0msrc\u001b[0m\u001b[0;34m,\u001b[0m \u001b[0mreal_dst\u001b[0m\u001b[0;34m)\u001b[0m\u001b[0;34m\u001b[0m\u001b[0;34m\u001b[0m\u001b[0m\n",
      "\u001b[0;31mError\u001b[0m: Destination path 'lec1_step3/lec1_step3_files' already exists"
     ]
    }
   ],
   "source": [
    "import subprocess\n",
    "import shutil\n",
    "import os\n",
    "import time\n",
    "ftypes_ori=['asciidoc', 'html', 'latex', 'markdown', 'notebook', 'pdf', 'python','slides'];\n",
    "ptypes_ori=['asciidoc', 'html', 'tex', 'md', 'ipynb', 'pdf', 'py','slides.html']; \n",
    "\n",
    "originalF='lec1_step1.ipynb';\n",
    "# originalF='x_publish_all_codes_sub.ipynb';\n",
    "def subF(originalF):\n",
    "\n",
    "        #ftypes=['asciidoc', 'html', 'latex', 'markdown', 'notebook', 'pdf', 'python','slides'];\n",
    "        #ptypes=['asciidoc', 'html', 'tex', 'md', 'ipynb', 'pdf', 'py','slides.html'];\n",
    "        ftypes=['asciidoc', 'html', 'latex', 'markdown', 'pdf', 'python','slides'];\n",
    "        ptypes=['asciidoc', 'html', 'tex', 'md', 'pdf','slides.html'];\n",
    "\n",
    "        cmd0=['jupyter','nbconvert','--to'];\n",
    "        ftag=originalF.split('.')[0];\n",
    "\n",
    "        print(ftag)\n",
    "\n",
    "        for key in ftypes:\n",
    "          cmd=cmd0+[key]+[originalF];\n",
    "          Pcmd=' '.join(cmd)\n",
    "          print(Pcmd)\n",
    "          subprocess.Popen(cmd)\n",
    "\n",
    "        if  not os.path.isdir(ftag):\n",
    "            print(' '.join(['The target folder \\\"',ftag,'\\\" does not exist...']))\n",
    "            os.mkdir(ftag);\n",
    "        else:\n",
    "            print(' '.join(['There exists',ftag]));  \n",
    "            \n",
    "        time.sleep(10);\n",
    "        for key in ptypes:\n",
    "            target='.'.join([ftag,key]);\n",
    "            print(target);\n",
    "            if os.path.isfile(target):\n",
    "                shutil.move(target,os.path.join(ftag,target));\n",
    "                \n",
    "        # html sub folder remove if it already exists\n",
    "        htmlsF='_'.join([ftag,'files']);\n",
    "        subF2=os.path.join(ftag,htmlsF);\n",
    "        if os.path.isdir(subF2):\n",
    "                shutil.rmtree(subF2);\n",
    "\n",
    "        time.sleep(10);        \n",
    "        # html sub folder treatment\n",
    "        if os.path.isdir(htmlsF):\n",
    "            shutil.move(htmlsF,ftag)\n",
    "\n",
    "        time.sleep(10);\n",
    "        for key in ptypes:\n",
    "            target='.'.join([ftag,key]);\n",
    "            print(target);\n",
    "            if os.path.isfile(target):\n",
    "                os.remove(target);\n",
    "\n",
    "        # html sub folder treatment\n",
    "        if os.path.isdir(htmlsF):\n",
    "                shutil.rmtree(htmlsF);\n",
    "\n",
    "        target='.'.join([ftag,ptypes[0]]);\n",
    "        target2='.'.join([ftag,'txt']);\n",
    "        shutil.copy(os.path.join(ftag,target),os.path.join(ftag,target2));\n",
    "\n",
    "flist=os.listdir(path='.')\n",
    "flist1= [key for key in flist if '.py'  in key or '.ipy'  in key ]\n",
    "flist2= [key for key in flist1 if 'x_'  not in key and '.ipynb_'  not in key ]\n",
    "flist3= [key for key in flist2 if '.ipy'  in key ]\n",
    "ftaglist=[key.split('.')[0] for key in flist3]\n",
    "print(ftaglist)\n",
    "\n",
    "for key in ftaglist:\n",
    "    subF(\".\".join([key,ptypes_ori[4]])) # + 'ipynb'\n",
    "\n",
    "# subF(originalF)\n",
    "print(\"\\n All processes were completed!\")"
   ]
  },
  {
   "cell_type": "code",
   "execution_count": 9,
   "metadata": {},
   "outputs": [
    {
     "data": {
      "text/plain": [
       "['lec1_step1.ipynb', 'lec1_step3.ipynb', 'lec1_step2.ipynb']"
      ]
     },
     "execution_count": 9,
     "metadata": {},
     "output_type": "execute_result"
    }
   ],
   "source": [
    "flist3"
   ]
  },
  {
   "cell_type": "code",
   "execution_count": null,
   "metadata": {},
   "outputs": [],
   "source": []
  }
 ],
 "metadata": {
  "kernelspec": {
   "display_name": "Python 3",
   "language": "python",
   "name": "python3"
  },
  "language_info": {
   "codemirror_mode": {
    "name": "ipython",
    "version": 3
   },
   "file_extension": ".py",
   "mimetype": "text/x-python",
   "name": "python",
   "nbconvert_exporter": "python",
   "pygments_lexer": "ipython3",
   "version": "3.7.7"
  }
 },
 "nbformat": 4,
 "nbformat_minor": 2
}
