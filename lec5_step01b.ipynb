{
 "cells": [
  {
   "cell_type": "code",
   "execution_count": null,
   "id": "4182bbab-8447-47a7-a8e2-5a6035ed7c60",
   "metadata": {},
   "outputs": [],
   "source": [
    "## Python basics for novice data scientists, supported by Wagatsuma Lab@Kyutech \n",
    "#\n",
    "# The MIT License (MIT): Copyright (c) 2020 Hiroaki Wagatsuma and Wagatsuma Lab@Kyutech\n",
    "# \n",
    "# Permission is hereby granted, free of charge, to any person obtaining a copy of this software and associated documentation files (the \"Software\"), to deal in the Software without restriction, including without limitation the rights to use, copy, modify, merge, publish, distribute, sublicense, and/or sell copies of the Software, and to permit persons to whom the Software is furnished to do so, subject to the following conditions:\n",
    "# The above copyright notice and this permission notice shall be included in all copies or substantial portions of the Software.\n",
    "# THE SOFTWARE IS PROVIDED \"AS IS\", WITHOUT WARRANTY OF ANY KIND, EXPRESS OR IMPLIED, INCLUDING BUT NOT LIMITED TO THE WARRANTIES OF MERCHANTABILITY, FITNESS FOR A PARTICULAR PURPOSE AND NONINFRINGEMENT. IN NO EVENT SHALL THE AUTHORS OR COPYRIGHT HOLDERS BE LIABLE FOR ANY CLAIM, DAMAGES OR OTHER LIABILITY, WHETHER IN AN ACTION OF CONTRACT, TORT OR OTHERWISE, ARISING FROM, OUT OF OR IN CONNECTION WITH THE SOFTWARE OR THE USE OR OTHER DEALINGS IN THE SOFTWARE. */\n",
    "#\n",
    "# # @Time    : 2025-4-17 \n",
    "# # @Author  : Hiroaki Wagatsuma\n",
    "# # @Site    : https://github.com/hirowgit/2A_python_basic_course\n",
    "# # @IDE     : Python 3.9.16 (main, Dec  7 2022, 10:15:43) [Clang 14.0.0 (clang-1400.0.29.202)] on darwin\n",
    "# # @File    : lec5_step01.py "
   ]
  },
  {
   "cell_type": "code",
   "execution_count": 27,
   "id": "77600b49-b740-4349-8dcf-18c1034b3d35",
   "metadata": {},
   "outputs": [],
   "source": [
    "# module test: if you have an error when you run this code, \n",
    "# you need to check the installation status of those modules\n",
    "\n",
    "import math \n",
    "import sys \n",
    "import os\n",
    "import numpy as np\n",
    "import pandas as pd\n",
    "import matplotlib.pyplot as plt\n",
    "import matplotlib.patches as patch\n",
    "import matplotlib.cm as cm\n",
    "import matplotlib as mp\n",
    "import tkinter as tk\n",
    "\n",
    "from scipy import interpolate"
   ]
  },
  {
   "cell_type": "code",
   "execution_count": 7,
   "id": "2b58950f-47db-4f49-b905-192170a39a4f",
   "metadata": {
    "scrolled": true
   },
   "outputs": [
    {
     "data": {
      "image/png": "[encoded data removed]",
      "text/plain": [
       "<Figure size 640x480 with 1 Axes>"
      ]
     },
     "metadata": {},
     "output_type": "display_data"
    }
   ],
   "source": [
    "rotA=lambda th: np.array([[np.cos(th), -np.sin(th)],[np.sin(th), np.cos(th)]])\n",
    "\n",
    "# roadLen=10\n",
    "roadLen=5\n",
    "NofSeg=8\n",
    "NoofConn=4\n",
    "\n",
    "NofD=NofSeg*4+1\n",
    "datD=np.linspace(0, 2*np.pi, num=NofD)\n",
    "\n",
    "NofD=NofSeg*NoofConn+1\n",
    "\n",
    "C0=np.arange(1,32,8)-1\n",
    "Conn=np.flipud(np.vstack([C0+1,np.roll(C0+NofSeg-1,1)]))\n",
    "connRoad=np.arange(max(radD),roadLen,radDw)+radDw\n",
    "\n",
    "figNum=12\n",
    "fig = plt.figure(figNum)\n",
    "fig.clear()\n",
    "plt.cla()\n",
    "# maxR=[-100,100]\n",
    "radDinit=1\n",
    "radDw=0.1\n",
    "radD=np.linspace(radDinit,radDinit+radDw*(3-1),3)\n",
    "\n",
    "xD=np.tile(radD,[len(datD),1])*np.tile(np.cos(datD),[len(radD),1]).T\n",
    "yD=np.tile(radD,[len(datD),1])*np.tile(np.sin(datD),[len(radD),1]).T\n",
    "plt.plot(xD,yD,'k.',linewidth=2)\n",
    "\n",
    "ConnFlat=np.reshape(Conn[:],[1,8])[0]\n",
    "xD2=np.tile(radD,[len(datD[ConnFlat]),1])*np.tile(np.cos(datD[ConnFlat]),[len(radD),1]).T\n",
    "yD2=np.tile(radD,[len(datD[ConnFlat]),1])*np.tile(np.sin(datD[ConnFlat]),[len(radD),1]).T\n",
    "\n",
    "radD2=connRoad\n",
    "\n",
    "key=np.where(np.diff(datD[Conn[:]],axis=0)<0)[1]\n",
    "mAng=np.mean(datD[Conn[:]],axis=0)\n",
    "mAng[key]=mAng[key] % np.pi\n",
    "mAng2=np.tile(mAng,[1,2])\n",
    "\n",
    "xD2r=np.tile(radD2,[len(datD[ConnFlat]),1])*np.tile(np.cos(mAng2),[len(radD2),1]).T\n",
    "yD2r=np.tile(radD2,[len(datD[ConnFlat]),1])*np.tile(np.sin(mAng2),[len(radD2),1]).T\n",
    "\n",
    "unitVec=np.array([np.cos(mAng),np.sin(mAng)])\n",
    "# display(unitVec)\n",
    "\n",
    "paramW=radD[-1]*np.sin(datD[1])\n",
    "\n",
    "Lane1shift=np.dot(rotA(np.pi/2),paramW*unitVec)\n",
    "Lane2shift=np.dot(rotA(-np.pi/2),paramW*unitVec)\n",
    "\n",
    "xShift=np.hstack([Lane1shift[0],Lane2shift[0]])\n",
    "yShift=np.hstack([Lane1shift[1],Lane2shift[1]])\n",
    "\n",
    "xShiftFull=np.tile(xShift,[len(radD2),1])\n",
    "yShiftFull=np.tile(yShift,[len(radD2),1])\n",
    "\n",
    "xD2r2=xD2r+xShiftFull.T\n",
    "yD2r2=yD2r+yShiftFull.T\n",
    "\n",
    "plt.plot(xD2r2,yD2r2,'r.',linewidth=2)\n",
    "\n",
    "\n",
    "plt.grid()\n",
    "plt.axis('equal')\n",
    "plt.xlim(0,3)\n",
    "plt.ylim(-1,1)\n",
    "\n",
    "plt.show()"
   ]
  },
  {
   "cell_type": "code",
   "execution_count": 23,
   "id": "4d9a6275-fad1-41e7-8576-2b9c37f7c28c",
   "metadata": {},
   "outputs": [
    {
     "data": {
      "text/plain": [
       "array([[ 1.69      ,  1.92      ,  2.15      ,  2.38      ,  2.61      ,\n",
       "         2.84      ,  3.07      ,  3.3       ,  3.53      ,  3.76      ,\n",
       "         3.99      ,  4.22      ,  4.45      ,  4.68      ,  4.91      ,\n",
       "         5.14      ],\n",
       "       [-0.28483187, -0.28483187, -0.28483187, -0.28483187, -0.28483187,\n",
       "        -0.28483187, -0.28483187, -0.28483187, -0.28483187, -0.28483187,\n",
       "        -0.28483187, -0.28483187, -0.28483187, -0.28483187, -0.28483187,\n",
       "        -0.28483187],\n",
       "       [-1.69      , -1.92      , -2.15      , -2.38      , -2.61      ,\n",
       "        -2.84      , -3.07      , -3.3       , -3.53      , -3.76      ,\n",
       "        -3.99      , -4.22      , -4.45      , -4.68      , -4.91      ,\n",
       "        -5.14      ],\n",
       "       [ 0.28483187,  0.28483187,  0.28483187,  0.28483187,  0.28483187,\n",
       "         0.28483187,  0.28483187,  0.28483187,  0.28483187,  0.28483187,\n",
       "         0.28483187,  0.28483187,  0.28483187,  0.28483187,  0.28483187,\n",
       "         0.28483187],\n",
       "       [ 1.69      ,  1.92      ,  2.15      ,  2.38      ,  2.61      ,\n",
       "         2.84      ,  3.07      ,  3.3       ,  3.53      ,  3.76      ,\n",
       "         3.99      ,  4.22      ,  4.45      ,  4.68      ,  4.91      ,\n",
       "         5.14      ],\n",
       "       [ 0.28483187,  0.28483187,  0.28483187,  0.28483187,  0.28483187,\n",
       "         0.28483187,  0.28483187,  0.28483187,  0.28483187,  0.28483187,\n",
       "         0.28483187,  0.28483187,  0.28483187,  0.28483187,  0.28483187,\n",
       "         0.28483187],\n",
       "       [-1.69      , -1.92      , -2.15      , -2.38      , -2.61      ,\n",
       "        -2.84      , -3.07      , -3.3       , -3.53      , -3.76      ,\n",
       "        -3.99      , -4.22      , -4.45      , -4.68      , -4.91      ,\n",
       "        -5.14      ],\n",
       "       [-0.28483187, -0.28483187, -0.28483187, -0.28483187, -0.28483187,\n",
       "        -0.28483187, -0.28483187, -0.28483187, -0.28483187, -0.28483187,\n",
       "        -0.28483187, -0.28483187, -0.28483187, -0.28483187, -0.28483187,\n",
       "        -0.28483187]])"
      ]
     },
     "execution_count": 23,
     "metadata": {},
     "output_type": "execute_result"
    }
   ],
   "source": [
    "xD2rS=[]\n",
    "xD2r+xShiftFull.T"
   ]
  },
  {
   "cell_type": "code",
   "execution_count": 24,
   "id": "3f87f50b-b247-4598-a537-ded8d1d2a669",
   "metadata": {},
   "outputs": [
    {
     "data": {
      "text/plain": [
       "[array([[ 1.69      ,  1.92      ,  2.15      ,  2.38      ,  2.61      ,\n",
       "          2.84      ,  3.07      ,  3.3       ,  3.53      ,  3.76      ,\n",
       "          3.99      ,  4.22      ,  4.45      ,  4.68      ,  4.91      ,\n",
       "          5.14      ],\n",
       "        [-0.28483187, -0.28483187, -0.28483187, -0.28483187, -0.28483187,\n",
       "         -0.28483187, -0.28483187, -0.28483187, -0.28483187, -0.28483187,\n",
       "         -0.28483187, -0.28483187, -0.28483187, -0.28483187, -0.28483187,\n",
       "         -0.28483187],\n",
       "        [-1.69      , -1.92      , -2.15      , -2.38      , -2.61      ,\n",
       "         -2.84      , -3.07      , -3.3       , -3.53      , -3.76      ,\n",
       "         -3.99      , -4.22      , -4.45      , -4.68      , -4.91      ,\n",
       "         -5.14      ],\n",
       "        [ 0.28483187,  0.28483187,  0.28483187,  0.28483187,  0.28483187,\n",
       "          0.28483187,  0.28483187,  0.28483187,  0.28483187,  0.28483187,\n",
       "          0.28483187,  0.28483187,  0.28483187,  0.28483187,  0.28483187,\n",
       "          0.28483187],\n",
       "        [ 1.69      ,  1.92      ,  2.15      ,  2.38      ,  2.61      ,\n",
       "          2.84      ,  3.07      ,  3.3       ,  3.53      ,  3.76      ,\n",
       "          3.99      ,  4.22      ,  4.45      ,  4.68      ,  4.91      ,\n",
       "          5.14      ],\n",
       "        [ 0.28483187,  0.28483187,  0.28483187,  0.28483187,  0.28483187,\n",
       "          0.28483187,  0.28483187,  0.28483187,  0.28483187,  0.28483187,\n",
       "          0.28483187,  0.28483187,  0.28483187,  0.28483187,  0.28483187,\n",
       "          0.28483187],\n",
       "        [-1.69      , -1.92      , -2.15      , -2.38      , -2.61      ,\n",
       "         -2.84      , -3.07      , -3.3       , -3.53      , -3.76      ,\n",
       "         -3.99      , -4.22      , -4.45      , -4.68      , -4.91      ,\n",
       "         -5.14      ],\n",
       "        [-0.28483187, -0.28483187, -0.28483187, -0.28483187, -0.28483187,\n",
       "         -0.28483187, -0.28483187, -0.28483187, -0.28483187, -0.28483187,\n",
       "         -0.28483187, -0.28483187, -0.28483187, -0.28483187, -0.28483187,\n",
       "         -0.28483187]])]"
      ]
     },
     "execution_count": 24,
     "metadata": {},
     "output_type": "execute_result"
    }
   ],
   "source": [
    "xD2rS=xD2rS+[xD2r+xShiftFull.T]\n",
    "xD2rS"
   ]
  },
  {
   "cell_type": "code",
   "execution_count": 76,
   "id": "dd07d1a3-7c82-44bb-94d0-d0614ca50f7b",
   "metadata": {},
   "outputs": [
    {
     "data": {
      "image/png": "[encoded data removed]",
      "text/plain": [
       "<Figure size 640x480 with 1 Axes>"
      ]
     },
     "metadata": {},
     "output_type": "display_data"
    }
   ],
   "source": [
    "rotA=lambda th: np.array([[np.cos(th), -np.sin(th)],[np.sin(th), np.cos(th)]])\n",
    "\n",
    "# roadLen=10\n",
    "roadLen=5\n",
    "NofSeg=8\n",
    "NoofConn=4\n",
    "\n",
    "NofD=NofSeg*4+1\n",
    "datD=np.linspace(0, 2*np.pi, num=NofD)\n",
    "\n",
    "NofD=NofSeg*NoofConn+1\n",
    "\n",
    "figNum=13\n",
    "fig = plt.figure(figNum)\n",
    "fig.clear()\n",
    "plt.cla()\n",
    "# maxR=[-100,100]\n",
    "radDinit=1\n",
    "radDw=0.25\n",
    "radD=np.linspace(radDinit,radDinit+radDw*(3-1),3)\n",
    "\n",
    "C0=np.arange(1,32,8)-1\n",
    "Conn=np.flipud(np.vstack([C0+1,np.roll(C0+NofSeg-1,1)]))\n",
    "connRoad=np.arange(max(radD),roadLen,radDw)+radDw\n",
    "\n",
    "paramW=radD[-1]*np.sin(datD[1])\n",
    "\n",
    "xD=np.tile(radD,[len(datD),1])*np.tile(np.cos(datD),[len(radD),1]).T\n",
    "yD=np.tile(radD,[len(datD),1])*np.tile(np.sin(datD),[len(radD),1]).T\n",
    "plt.plot(xD,yD,'k.',linewidth=2)\n",
    "\n",
    "ConnFlat=np.reshape(Conn[:],[1,8])[0]\n",
    "xD2=np.tile(radD,[len(datD[ConnFlat]),1])*np.tile(np.cos(datD[ConnFlat]),[len(radD),1]).T\n",
    "yD2=np.tile(radD,[len(datD[ConnFlat]),1])*np.tile(np.sin(datD[ConnFlat]),[len(radD),1]).T\n",
    "\n",
    "radD2=connRoad\n",
    "\n",
    "key=np.where(np.diff(datD[Conn[:]],axis=0)<0)[1]\n",
    "mAng=np.mean(datD[Conn[:]],axis=0)\n",
    "mAng[key]=mAng[key] % np.pi\n",
    "mAng2=np.tile(mAng,[1,2])\n",
    "\n",
    "xD2r=np.tile(radD2,[len(datD[ConnFlat]),1])*np.tile(np.cos(mAng2),[len(radD2),1]).T\n",
    "yD2r=np.tile(radD2,[len(datD[ConnFlat]),1])*np.tile(np.sin(mAng2),[len(radD2),1]).T\n",
    "\n",
    "unitVec=np.array([np.cos(mAng),np.sin(mAng)])\n",
    "\n",
    "# plt.plot(xD2r,yD2r,'r.',linewidth=2)\n",
    "xD2rS=[]\n",
    "yD2rS=[]\n",
    "for kk in range(3):\n",
    "    Lane1shift=np.dot(rotA(np.pi/2),(kk*0.9+0.05)*paramW*unitVec)\n",
    "    Lane2shift=np.dot(rotA(-np.pi/2),(kk*0.9+0.05)*paramW*unitVec)\n",
    "    \n",
    "    xShift=np.hstack([Lane1shift[0],Lane2shift[0]])\n",
    "    yShift=np.hstack([Lane1shift[1],Lane2shift[1]])\n",
    "    \n",
    "    xShiftFull=np.tile(xShift,[len(radD2),1])\n",
    "    yShiftFull=np.tile(yShift,[len(radD2),1])\n",
    "    \n",
    "    xD2rS=xD2rS+[xD2r+xShiftFull.T]\n",
    "    yD2rS=yD2rS+[yD2r+yShiftFull.T]\n",
    "\n",
    "    plt.plot(xD2rS[kk],yD2rS[kk],'r.',linewidth=2)\n",
    "\n",
    "plt.grid()\n",
    "plt.axis('equal')\n",
    "plt.xlim(0,3)\n",
    "plt.ylim(-1.5,1.5)\n",
    "\n",
    "plt.show()"
   ]
  },
  {
   "cell_type": "code",
   "execution_count": 65,
   "id": "afeaed5d-4277-45dc-8faf-e73d25b1fbc0",
   "metadata": {},
   "outputs": [
    {
     "data": {
      "text/plain": [
       "array([[ 4,  3,  2],\n",
       "       [12, 11, 10],\n",
       "       [20, 19, 18],\n",
       "       [28, 27, 26]])"
      ]
     },
     "execution_count": 65,
     "metadata": {},
     "output_type": "execute_result"
    }
   ],
   "source": [
    "pBase=3\n",
    "arcKey=np.tile(C0+2,[pBase,1]).T+np.tile(range(pBase),[len(C0),1])\n",
    "arcKey2=np.fliplr(arcKey)\n",
    "arcKey2"
   ]
  },
  {
   "cell_type": "code",
   "execution_count": 64,
   "id": "514f6c5e-c50e-4857-8742-dcaf30b4ce93",
   "metadata": {},
   "outputs": [
    {
     "data": {
      "text/plain": [
       "array([[ 4,  3,  2],\n",
       "       [12, 11, 10],\n",
       "       [20, 19, 18],\n",
       "       [28, 27, 26]])"
      ]
     },
     "execution_count": 64,
     "metadata": {},
     "output_type": "execute_result"
    }
   ],
   "source": []
  },
  {
   "cell_type": "code",
   "execution_count": 51,
   "id": "462fadaf-0851-4eed-88a3-c62d9e4cb91b",
   "metadata": {},
   "outputs": [
    {
     "data": {
      "text/plain": [
       "array([0.01463177, 0.01463177, 0.01463177, 0.01463177, 0.01463177,\n",
       "       0.01463177, 0.01463177, 0.01463177, 0.01463177, 0.01463177,\n",
       "       0.01463177, 0.01463177, 0.01463177, 0.01463177])"
      ]
     },
     "execution_count": 51,
     "metadata": {},
     "output_type": "execute_result"
    }
   ],
   "source": [
    "yD2rS[0][0]"
   ]
  },
  {
   "cell_type": "code",
   "execution_count": 123,
   "id": "c2506d41-c984-4d93-a7cb-7ab01c95a525",
   "metadata": {},
   "outputs": [
    {
     "data": {
      "text/plain": [
       "(3, 8, 14)"
      ]
     },
     "execution_count": 123,
     "metadata": {},
     "output_type": "execute_result"
    }
   ],
   "source": [
    "np.shape(xD2rS)"
   ]
  },
  {
   "cell_type": "code",
   "execution_count": 77,
   "id": "8785c477-70fb-49e9-8bda-11aa3b43fefc",
   "metadata": {},
   "outputs": [
    {
     "data": {
      "text/plain": [
       "(8, 3)"
      ]
     },
     "execution_count": 77,
     "metadata": {},
     "output_type": "execute_result"
    }
   ],
   "source": [
    "np.shape(xD2)"
   ]
  },
  {
   "cell_type": "code",
   "execution_count": 90,
   "id": "f4f857cc-99d1-4189-9033-f93f4cc6adc3",
   "metadata": {},
   "outputs": [
    {
     "data": {
      "text/plain": [
       "array([[ 1.00000000e+00,  9.80785280e-01,  9.23879533e-01,\n",
       "         8.31469612e-01,  7.07106781e-01,  5.55570233e-01,\n",
       "         3.82683432e-01,  1.95090322e-01,  6.12323400e-17,\n",
       "        -1.95090322e-01, -3.82683432e-01, -5.55570233e-01,\n",
       "        -7.07106781e-01, -8.31469612e-01, -9.23879533e-01,\n",
       "        -9.80785280e-01, -1.00000000e+00, -9.80785280e-01,\n",
       "        -9.23879533e-01, -8.31469612e-01, -7.07106781e-01,\n",
       "        -5.55570233e-01, -3.82683432e-01, -1.95090322e-01,\n",
       "        -1.83697020e-16,  1.95090322e-01,  3.82683432e-01,\n",
       "         5.55570233e-01,  7.07106781e-01,  8.31469612e-01,\n",
       "         9.23879533e-01,  9.80785280e-01,  1.00000000e+00],\n",
       "       [ 1.25000000e+00,  1.22598160e+00,  1.15484942e+00,\n",
       "         1.03933702e+00,  8.83883476e-01,  6.94462791e-01,\n",
       "         4.78354290e-01,  2.43862903e-01,  7.65404249e-17,\n",
       "        -2.43862903e-01, -4.78354290e-01, -6.94462791e-01,\n",
       "        -8.83883476e-01, -1.03933702e+00, -1.15484942e+00,\n",
       "        -1.22598160e+00, -1.25000000e+00, -1.22598160e+00,\n",
       "        -1.15484942e+00, -1.03933702e+00, -8.83883476e-01,\n",
       "        -6.94462791e-01, -4.78354290e-01, -2.43862903e-01,\n",
       "        -2.29621275e-16,  2.43862903e-01,  4.78354290e-01,\n",
       "         6.94462791e-01,  8.83883476e-01,  1.03933702e+00,\n",
       "         1.15484942e+00,  1.22598160e+00,  1.25000000e+00],\n",
       "       [ 1.50000000e+00,  1.47117792e+00,  1.38581930e+00,\n",
       "         1.24720442e+00,  1.06066017e+00,  8.33355350e-01,\n",
       "         5.74025149e-01,  2.92635483e-01,  9.18485099e-17,\n",
       "        -2.92635483e-01, -5.74025149e-01, -8.33355350e-01,\n",
       "        -1.06066017e+00, -1.24720442e+00, -1.38581930e+00,\n",
       "        -1.47117792e+00, -1.50000000e+00, -1.47117792e+00,\n",
       "        -1.38581930e+00, -1.24720442e+00, -1.06066017e+00,\n",
       "        -8.33355350e-01, -5.74025149e-01, -2.92635483e-01,\n",
       "        -2.75545530e-16,  2.92635483e-01,  5.74025149e-01,\n",
       "         8.33355350e-01,  1.06066017e+00,  1.24720442e+00,\n",
       "         1.38581930e+00,  1.47117792e+00,  1.50000000e+00]])"
      ]
     },
     "execution_count": 90,
     "metadata": {},
     "output_type": "execute_result"
    }
   ],
   "source": [
    "xD.T"
   ]
  },
  {
   "cell_type": "code",
   "execution_count": 176,
   "id": "3834e236-5ce7-4df0-9cac-3b2a28130fa6",
   "metadata": {},
   "outputs": [
    {
     "data": {
      "text/plain": [
       "(array([0.70710678, 0.83146961, 0.92387953, 1.75      , 2.        ,\n",
       "        2.25      ]),\n",
       " array([0.70710678, 0.55557023, 0.38268343, 0.01463177, 0.01463177,\n",
       "        0.01463177]))"
      ]
     },
     "execution_count": 176,
     "metadata": {},
     "output_type": "execute_result"
    }
   ],
   "source": [
    "i=0 # \n",
    "j=0 #\n",
    "x=xD2r[j][arcKey2[i]]+xD2rS[0][j][:pBase]\n",
    "y=yD2r[j][arcKey2[i]]+yD2rS[0][j][:pBase]\n",
    "\n",
    "x=np.hstack([xD.T[j][arcKey2[i]],xD2rS[i][j][:pBase]])\n",
    "y=np.hstack([yD.T[j][arcKey2[i]],yD2rS[i][j][:pBase]])\n",
    "x,y"
   ]
  },
  {
   "cell_type": "code",
   "execution_count": 177,
   "id": "486b2cab-090d-4484-a0cb-14634944da2b",
   "metadata": {},
   "outputs": [],
   "source": [
    "xSet,ySet=[],[]\n",
    "\n",
    "x=np.hstack([xD.T[j][arcKey2[i]],xD2rS[i][j][:pBase]])\n",
    "y=np.hstack([yD.T[j][arcKey2[i]],yD2rS[i][j][:pBase]])\n",
    "x,y\n",
    "\n",
    "x=xD.T[i,arcKey2]\n",
    "y=yD.T[i,arcKey2]\n",
    "\n",
    "x2=xD2rS[i][:4,:pBase]"
   ]
  },
  {
   "cell_type": "code",
   "execution_count": 143,
   "id": "b66564b4-5413-410c-b61c-358aa56332fc",
   "metadata": {},
   "outputs": [
    {
     "data": {
      "text/plain": [
       "(3, 33)"
      ]
     },
     "execution_count": 143,
     "metadata": {},
     "output_type": "execute_result"
    }
   ],
   "source": [
    "np.shape(xD.T)"
   ]
  },
  {
   "cell_type": "code",
   "execution_count": 149,
   "id": "e5ebf053-842d-4918-98f6-06a927271202",
   "metadata": {},
   "outputs": [
    {
     "data": {
      "text/plain": [
       "array([[ 4,  3,  2],\n",
       "       [12, 11, 10],\n",
       "       [20, 19, 18],\n",
       "       [28, 27, 26]])"
      ]
     },
     "execution_count": 149,
     "metadata": {},
     "output_type": "execute_result"
    }
   ],
   "source": [
    "arcKey2"
   ]
  },
  {
   "cell_type": "code",
   "execution_count": 150,
   "id": "7e556851-4dbc-4bdf-b0eb-667fce22fda6",
   "metadata": {},
   "outputs": [
    {
     "data": {
      "text/plain": [
       "(3, 33)"
      ]
     },
     "execution_count": 150,
     "metadata": {},
     "output_type": "execute_result"
    }
   ],
   "source": [
    "np.shape(xD.T)"
   ]
  },
  {
   "cell_type": "code",
   "execution_count": 180,
   "id": "671a6efb-e0a0-484e-b426-1d35538ba5a7",
   "metadata": {},
   "outputs": [],
   "source": [
    "x1=xD.T[i,arcKey2]\n",
    "x2=xD2rS[i][:4,:pBase]\n",
    "x1,x2\n",
    "np.shape(x1),np.shape(x2)\n",
    "# y=np.hstack([yD.T[j][arcKey2[i]],yD2rS[i][j][:pBase]])\n",
    "\n",
    "i=0\n",
    "x=np.hstack([xD.T[i,arcKey2],xD2rS[i][:4,:pBase]])\n",
    "y=np.hstack([yD.T[i,arcKey2],yD2rS[i][:4,:pBase]])\n"
   ]
  },
  {
   "cell_type": "code",
   "execution_count": 184,
   "id": "7eebbfb8-5bff-4a6d-aa75-90da8dfe0dcc",
   "metadata": {},
   "outputs": [],
   "source": []
  },
  {
   "cell_type": "code",
   "execution_count": null,
   "id": "bea526d2-c492-40bc-86f7-c5aa7153b82d",
   "metadata": {},
   "outputs": [],
   "source": []
  },
  {
   "cell_type": "code",
   "execution_count": 118,
   "id": "5e74730f-0789-4433-8e40-bc93a97ea660",
   "metadata": {},
   "outputs": [
    {
     "data": {
      "text/plain": [
       "(3, 8, 14)"
      ]
     },
     "execution_count": 118,
     "metadata": {},
     "output_type": "execute_result"
    }
   ],
   "source": [
    "np.shape(xD2rS)"
   ]
  },
  {
   "cell_type": "code",
   "execution_count": 140,
   "id": "c75ac1d5-1015-48e9-8f22-bc70887148b6",
   "metadata": {},
   "outputs": [
    {
     "data": {
      "text/plain": [
       "(array([[ 1.75      ,  2.        ,  2.25      ],\n",
       "        [ 0.27800371,  0.27800371,  0.27800371],\n",
       "        [-1.75      , -2.        , -2.25      ],\n",
       "        [-0.27800371, -0.27800371, -0.27800371]]),\n",
       " array([[-0.27800371, -0.27800371, -0.27800371],\n",
       "        [ 1.75      ,  2.        ,  2.25      ],\n",
       "        [ 0.27800371,  0.27800371,  0.27800371],\n",
       "        [-1.75      , -2.        , -2.25      ]]))"
      ]
     },
     "execution_count": 140,
     "metadata": {},
     "output_type": "execute_result"
    }
   ],
   "source": [
    "i=1 # \n",
    "j=2 #\n",
    "\n",
    "x=xD2rS[i][:4,:pBase]\n",
    "y=yD2rS[i][:4,:pBase]\n",
    "x,y\n",
    "\n",
    "x2=xD2rS[i][4:,:pBase]\n",
    "y2=yD2rS[i][4:,:pBase]\n",
    "x2,y2"
   ]
  },
  {
   "cell_type": "code",
   "execution_count": 141,
   "id": "9dfb8bc3-04e2-4e00-bd69-77bf55836c76",
   "metadata": {},
   "outputs": [
    {
     "data": {
      "image/png": "[encoded data removed]",
      "text/plain": [
       "<Figure size 640x480 with 1 Axes>"
      ]
     },
     "metadata": {},
     "output_type": "display_data"
    }
   ],
   "source": [
    "figNum=14\n",
    "fig = plt.figure(figNum)\n",
    "fig.clear()\n",
    "plt.cla()\n",
    "\n",
    "plt.plot(x,y,'r.',linewidth=2)\n",
    "plt.plot(x2,y2,'b.',linewidth=2)\n",
    "\n",
    "plt.grid()\n",
    "plt.axis('equal')\n",
    "# plt.xlim(0,3)\n",
    "# plt.ylim(-1.5,1.5)\n",
    "\n",
    "plt.show()"
   ]
  },
  {
   "cell_type": "code",
   "execution_count": 172,
   "id": "ce74055e-4550-4d24-842e-0cdcf99e1ab7",
   "metadata": {},
   "outputs": [
    {
     "data": {
      "text/plain": [
       "(array([[ 1.75      ,  2.        ,  2.25      ],\n",
       "        [-0.27800371, -0.27800371, -0.27800371],\n",
       "        [-1.75      , -2.        , -2.25      ],\n",
       "        [ 0.27800371,  0.27800371,  0.27800371]]),\n",
       " array([[-0.27800371, -0.27800371, -0.27800371],\n",
       "        [ 1.75      ,  2.        ,  2.25      ],\n",
       "        [ 0.27800371,  0.27800371,  0.27800371],\n",
       "        [-1.75      , -2.        , -2.25      ]]))"
      ]
     },
     "execution_count": 172,
     "metadata": {},
     "output_type": "execute_result"
    }
   ],
   "source": [
    "i=1 # \n",
    "j=3 #\n",
    "\n",
    "x=xD.T[i,arcKey2]\n",
    "y=yD.T[i,arcKey2]\n",
    "x,y\n",
    "\n",
    "# x2=xD2rS[i][4:,:pBase]\n",
    "# y2=yD2rS[i][4:,:pBase]\n",
    "x2,y2"
   ]
  },
  {
   "cell_type": "code",
   "execution_count": 168,
   "id": "f3ade133-2eb0-4865-9d81-11a50a7559ad",
   "metadata": {},
   "outputs": [
    {
     "data": {
      "text/plain": [
       "array([12, 11, 10])"
      ]
     },
     "execution_count": 168,
     "metadata": {},
     "output_type": "execute_result"
    }
   ],
   "source": [
    "arcKey2[i]"
   ]
  },
  {
   "cell_type": "code",
   "execution_count": 165,
   "id": "4baf7af7-ccf4-48c2-b20a-05f34b060dbd",
   "metadata": {},
   "outputs": [
    {
     "data": {
      "text/plain": [
       "array([[ 1.00000000e+00,  9.80785280e-01,  9.23879533e-01,\n",
       "         8.31469612e-01,  7.07106781e-01,  5.55570233e-01,\n",
       "         3.82683432e-01,  1.95090322e-01,  6.12323400e-17,\n",
       "        -1.95090322e-01, -3.82683432e-01, -5.55570233e-01,\n",
       "        -7.07106781e-01, -8.31469612e-01, -9.23879533e-01,\n",
       "        -9.80785280e-01, -1.00000000e+00, -9.80785280e-01,\n",
       "        -9.23879533e-01, -8.31469612e-01, -7.07106781e-01,\n",
       "        -5.55570233e-01, -3.82683432e-01, -1.95090322e-01,\n",
       "        -1.83697020e-16,  1.95090322e-01,  3.82683432e-01,\n",
       "         5.55570233e-01,  7.07106781e-01,  8.31469612e-01,\n",
       "         9.23879533e-01,  9.80785280e-01,  1.00000000e+00],\n",
       "       [ 1.25000000e+00,  1.22598160e+00,  1.15484942e+00,\n",
       "         1.03933702e+00,  8.83883476e-01,  6.94462791e-01,\n",
       "         4.78354290e-01,  2.43862903e-01,  7.65404249e-17,\n",
       "        -2.43862903e-01, -4.78354290e-01, -6.94462791e-01,\n",
       "        -8.83883476e-01, -1.03933702e+00, -1.15484942e+00,\n",
       "        -1.22598160e+00, -1.25000000e+00, -1.22598160e+00,\n",
       "        -1.15484942e+00, -1.03933702e+00, -8.83883476e-01,\n",
       "        -6.94462791e-01, -4.78354290e-01, -2.43862903e-01,\n",
       "        -2.29621275e-16,  2.43862903e-01,  4.78354290e-01,\n",
       "         6.94462791e-01,  8.83883476e-01,  1.03933702e+00,\n",
       "         1.15484942e+00,  1.22598160e+00,  1.25000000e+00],\n",
       "       [ 1.50000000e+00,  1.47117792e+00,  1.38581930e+00,\n",
       "         1.24720442e+00,  1.06066017e+00,  8.33355350e-01,\n",
       "         5.74025149e-01,  2.92635483e-01,  9.18485099e-17,\n",
       "        -2.92635483e-01, -5.74025149e-01, -8.33355350e-01,\n",
       "        -1.06066017e+00, -1.24720442e+00, -1.38581930e+00,\n",
       "        -1.47117792e+00, -1.50000000e+00, -1.47117792e+00,\n",
       "        -1.38581930e+00, -1.24720442e+00, -1.06066017e+00,\n",
       "        -8.33355350e-01, -5.74025149e-01, -2.92635483e-01,\n",
       "        -2.75545530e-16,  2.92635483e-01,  5.74025149e-01,\n",
       "         8.33355350e-01,  1.06066017e+00,  1.24720442e+00,\n",
       "         1.38581930e+00,  1.47117792e+00,  1.50000000e+00]])"
      ]
     },
     "execution_count": 165,
     "metadata": {},
     "output_type": "execute_result"
    }
   ],
   "source": [
    "xD.T"
   ]
  },
  {
   "cell_type": "code",
   "execution_count": 162,
   "id": "308f5520-a6bb-484a-9211-eeb4fdfff03b",
   "metadata": {},
   "outputs": [
    {
     "data": {
      "text/plain": [
       "array([[ 4,  3,  2],\n",
       "       [12, 11, 10],\n",
       "       [20, 19, 18],\n",
       "       [28, 27, 26]])"
      ]
     },
     "execution_count": 162,
     "metadata": {},
     "output_type": "execute_result"
    }
   ],
   "source": [
    "arcKey2"
   ]
  },
  {
   "cell_type": "code",
   "execution_count": 166,
   "id": "25649898-2729-4ac5-a14e-3b894cb7bc22",
   "metadata": {},
   "outputs": [
    {
     "data": {
      "text/plain": [
       "(3, 33)"
      ]
     },
     "execution_count": 166,
     "metadata": {},
     "output_type": "execute_result"
    }
   ],
   "source": [
    "np.shape(xD.T)"
   ]
  },
  {
   "cell_type": "code",
   "execution_count": 173,
   "id": "b3897358-5cef-4b7f-9f51-b7ac292980c5",
   "metadata": {},
   "outputs": [
    {
     "data": {
      "image/png": "[encoded data removed]",
      "text/plain": [
       "<Figure size 640x480 with 1 Axes>"
      ]
     },
     "metadata": {},
     "output_type": "display_data"
    }
   ],
   "source": [
    "figNum=15\n",
    "fig = plt.figure(figNum)\n",
    "fig.clear()\n",
    "plt.cla()\n",
    "\n",
    "plt.plot(x,y,'r.',linewidth=2)\n",
    "# plt.plot(x2,y2,'b.',linewidth=2)\n",
    "\n",
    "plt.grid()\n",
    "plt.axis('equal')\n",
    "# plt.xlim(0,3)\n",
    "# plt.ylim(-1.5,1.5)\n",
    "\n",
    "plt.show()"
   ]
  },
  {
   "cell_type": "code",
   "execution_count": 186,
   "id": "86b0ddc0-ff04-4779-8f01-34ff34903c44",
   "metadata": {},
   "outputs": [
    {
     "data": {
      "image/png": "[encoded data removed]",
      "text/plain": [
       "<Figure size 640x480 with 1 Axes>"
      ]
     },
     "metadata": {},
     "output_type": "display_data"
    }
   ],
   "source": [
    "xFull=[np.hstack([xD.T[i,arcKey2],xD2rS[i][:4,:pBase]]) for i in range(3)]\n",
    "yFull=[np.hstack([yD.T[i,arcKey2],yD2rS[i][:4,:pBase]]) for i in range(3)]\n",
    "\n",
    "figNum=16\n",
    "fig = plt.figure(figNum)\n",
    "fig.clear()\n",
    "plt.cla()\n",
    "\n",
    "myCol=[[1,0,0],[0,1,0],[0,0,1]]\n",
    "\n",
    "for i in range(3):\n",
    "    plt.plot(xFull[i],yFull[i],'.',linewidth=2, color =myCol[i])\n",
    "\n",
    "plt.grid()\n",
    "plt.axis('equal')\n",
    "# plt.xlim(0,3)\n",
    "# plt.ylim(-1.5,1.5)\n",
    "\n",
    "plt.show()"
   ]
  },
  {
   "cell_type": "code",
   "execution_count": null,
   "id": "0e488082-f0bc-41e4-bcfc-e8700ceb037d",
   "metadata": {},
   "outputs": [],
   "source": []
  },
  {
   "cell_type": "code",
   "execution_count": null,
   "id": "319c889f-74ee-4bbd-be4e-c7e9f3d64994",
   "metadata": {},
   "outputs": [],
   "source": []
  },
  {
   "cell_type": "code",
   "execution_count": 189,
   "id": "cc9e3f45-ce49-4c88-8593-abdc8922b641",
   "metadata": {},
   "outputs": [
    {
     "data": {
      "text/plain": [
       "array([-2.25, -1.75, -1.25, -0.75, -0.25,  0.25,  0.75,  1.25,  1.75,\n",
       "        2.25])"
      ]
     },
     "execution_count": 189,
     "metadata": {},
     "output_type": "execute_result"
    }
   ],
   "source": [
    "xd=np.linspace(np.min(x),np.max(x),10)\n",
    "xd"
   ]
  },
  {
   "cell_type": "code",
   "execution_count": 192,
   "id": "8efdfd21-1a89-4880-8fa4-9b50522efaf7",
   "metadata": {},
   "outputs": [
    {
     "data": {
      "text/plain": [
       "array([0.70710678, 0.83146961, 0.92387953, 1.75      , 2.        ,\n",
       "       2.25      ])"
      ]
     },
     "execution_count": 192,
     "metadata": {},
     "output_type": "execute_result"
    }
   ],
   "source": [
    "x[0]"
   ]
  },
  {
   "cell_type": "code",
   "execution_count": 195,
   "id": "4f171591-5508-48b9-b3a5-06d628c0c909",
   "metadata": {},
   "outputs": [
    {
     "data": {
      "text/plain": [
       "[<matplotlib.lines.Line2D at 0x1665c2920>]"
      ]
     },
     "execution_count": 195,
     "metadata": {},
     "output_type": "execute_result"
    },
    {
     "data": {
      "image/png": "[encoded data removed]",
      "text/plain": [
       "<Figure size 640x480 with 1 Axes>"
      ]
     },
     "metadata": {},
     "output_type": "display_data"
    }
   ],
   "source": [
    "i=0\n",
    "j=0\n",
    "x=xFull[i][j]\n",
    "y=yFull[i][j]\n",
    "\n",
    "fc = interpolate.interp1d(x, y,kind='cubic')\n",
    "xd=np.linspace(np.min(x),np.max(x),20)\n",
    "\n",
    "figNum=17\n",
    "fig = plt.figure(figNum)\n",
    "fig.clear()\n",
    "plt.cla()\n",
    "\n",
    "plt.plot(x,y,'r.',linewidth=2)\n",
    "plt.plot(xd,fc(xd),'b-',linewidth=2)"
   ]
  },
  {
   "cell_type": "code",
   "execution_count": 197,
   "id": "6e555817-99ba-43b8-bd97-e069fb78f5b3",
   "metadata": {},
   "outputs": [
    {
     "data": {
      "text/plain": [
       "[<scipy.interpolate._interpolate.interp1d at 0x166b32250>,\n",
       " <scipy.interpolate._interpolate.interp1d at 0x166b6b4c0>,\n",
       " <scipy.interpolate._interpolate.interp1d at 0x166b6a020>,\n",
       " <scipy.interpolate._interpolate.interp1d at 0x166b6a840>]"
      ]
     },
     "execution_count": 197,
     "metadata": {},
     "output_type": "execute_result"
    }
   ],
   "source": [
    "fc"
   ]
  },
  {
   "cell_type": "code",
   "execution_count": 204,
   "id": "07391a15-866f-4e12-b02c-eec9b455605e",
   "metadata": {},
   "outputs": [
    {
     "data": {
      "text/plain": [
       "array([0.70710678, 0.55557023, 0.38268343, 0.01463177, 0.01463177,\n",
       "       0.01463177])"
      ]
     },
     "execution_count": 204,
     "metadata": {},
     "output_type": "execute_result"
    }
   ],
   "source": [
    "fcF(x,y)(x)"
   ]
  },
  {
   "cell_type": "code",
   "execution_count": 208,
   "id": "ca285d9b-54b0-4fd5-9da5-d3f05af83075",
   "metadata": {},
   "outputs": [
    {
     "data": {
      "text/plain": [
       "[array([0.70710678, 0.78831169, 0.86951659, 0.9507215 , 1.03192641,\n",
       "        1.11313131, 1.19433622, 1.27554112, 1.35674603, 1.43795094,\n",
       "        1.51915584, 1.60036075, 1.68156566, 1.76277056, 1.84397547,\n",
       "        1.92518037, 2.00638528, 2.08759019, 2.16879509, 2.25      ]),\n",
       " array([-0.70710678, -0.67066073, -0.63421468, -0.59776862, -0.56132257,\n",
       "        -0.52487652, -0.48843046, -0.45198441, -0.41553836, -0.3790923 ,\n",
       "        -0.34264625, -0.3062002 , -0.26975415, -0.23330809, -0.19686204,\n",
       "        -0.16041599, -0.12396993, -0.08752388, -0.05107783, -0.01463177]),\n",
       " array([-2.25      , -2.16879509, -2.08759019, -2.00638528, -1.92518037,\n",
       "        -1.84397547, -1.76277056, -1.68156566, -1.60036075, -1.51915584,\n",
       "        -1.43795094, -1.35674603, -1.27554112, -1.19433622, -1.11313131,\n",
       "        -1.03192641, -0.9507215 , -0.86951659, -0.78831169, -0.70710678]),\n",
       " array([0.01463177, 0.05107783, 0.08752388, 0.12396993, 0.16041599,\n",
       "        0.19686204, 0.23330809, 0.26975415, 0.3062002 , 0.34264625,\n",
       "        0.3790923 , 0.41553836, 0.45198441, 0.48843046, 0.52487652,\n",
       "        0.56132257, 0.59776862, 0.63421468, 0.67066073, 0.70710678])]"
      ]
     },
     "execution_count": 208,
     "metadata": {},
     "output_type": "execute_result"
    }
   ],
   "source": [
    "xd"
   ]
  },
  {
   "cell_type": "code",
   "execution_count": 210,
   "id": "c1f2110d-c176-4359-910d-576210a5bfdb",
   "metadata": {},
   "outputs": [
    {
     "data": {
      "text/plain": [
       "array([-1.46317742e-02, -1.16778943e-02, -1.21605810e-02, -1.44265513e-02,\n",
       "       -1.68225220e-02, -1.76952102e-02, -1.53913327e-02, -8.81167428e-03,\n",
       "       -4.33395181e-04,  5.84597094e-03,  6.12528992e-03, -3.49657242e-03,\n",
       "       -2.69207503e-02, -6.80483778e-02, -1.30780589e-01, -2.19018518e-01,\n",
       "       -3.36663300e-01, -4.84494049e-01, -6.27361070e-01, -7.07106781e-01])"
      ]
     },
     "execution_count": 210,
     "metadata": {},
     "output_type": "execute_result"
    }
   ],
   "source": [
    "fcF(xS[i],yS[i])(xd[i])"
   ]
  },
  {
   "cell_type": "code",
   "execution_count": 223,
   "id": "a69ae2b2-59c6-403e-be60-6d4f2e38b64c",
   "metadata": {},
   "outputs": [
    {
     "data": {
      "image/png": "[encoded data removed]",
      "text/plain": [
       "<Figure size 640x480 with 1 Axes>"
      ]
     },
     "metadata": {},
     "output_type": "display_data"
    }
   ],
   "source": [
    "i=0\n",
    "j=0\n",
    "xS=xFull[i]\n",
    "yS=yFull[i]\n",
    "\n",
    "fcF = lambda x,y: interpolate.interp1d(x, y,kind='cubic') \n",
    "xd= [np.linspace(np.min(x),np.max(x),20) for x,y in zip(xS,yS)]\n",
    "\n",
    "figNum=18\n",
    "fig = plt.figure(figNum)\n",
    "fig.clear()\n",
    "plt.cla()\n",
    "\n",
    "for i in range(1):\n",
    "    plt.plot(xS[i],yS[i],'r.',linewidth=2)\n",
    "    # fc=fcF(xS[i],yS[i])\n",
    "    plt.plot(xd[i],fcF(xS[i],yS[i])(xd[i]),'b-',linewidth=2)"
   ]
  },
  {
   "cell_type": "code",
   "execution_count": 224,
   "id": "7a6604f9-1d5a-413e-aaf1-f0a60ad749e1",
   "metadata": {},
   "outputs": [
    {
     "data": {
      "image/png": "[encoded data removed]",
      "text/plain": [
       "<Figure size 640x480 with 1 Axes>"
      ]
     },
     "metadata": {},
     "output_type": "display_data"
    }
   ],
   "source": [
    "i=0\n",
    "j=0\n",
    "xS=xFull[j]\n",
    "yS=yFull[j]\n",
    "\n",
    "fcF = lambda x,y: interpolate.interp1d(x, y,kind='cubic') \n",
    "xd= [np.linspace(np.min(x),np.max(x),20) for x,y in zip(xS,yS)]\n",
    "\n",
    "figNum=19\n",
    "fig = plt.figure(figNum)\n",
    "fig.clear()\n",
    "plt.cla()\n",
    "\n",
    "for i in range(1,2):\n",
    "    plt.plot(xS[i],yS[i],'r.',linewidth=2)\n",
    "    # fc=fcF(xS[i],yS[i])\n",
    "    plt.plot(xd[i],fcF(xS[i],yS[i])(xd[i]),'b-',linewidth=2)"
   ]
  },
  {
   "cell_type": "code",
   "execution_count": 217,
   "id": "d5b98e66-008f-438f-9c38-6701aef56f41",
   "metadata": {},
   "outputs": [
    {
     "data": {
      "text/plain": [
       "[array([0.70710678, 0.78831169, 0.86951659, 0.9507215 , 1.03192641,\n",
       "        1.11313131, 1.19433622, 1.27554112, 1.35674603, 1.43795094,\n",
       "        1.51915584, 1.60036075, 1.68156566, 1.76277056, 1.84397547,\n",
       "        1.92518037, 2.00638528, 2.08759019, 2.16879509, 2.25      ]),\n",
       " array([-0.70710678, -0.67066073, -0.63421468, -0.59776862, -0.56132257,\n",
       "        -0.52487652, -0.48843046, -0.45198441, -0.41553836, -0.3790923 ,\n",
       "        -0.34264625, -0.3062002 , -0.26975415, -0.23330809, -0.19686204,\n",
       "        -0.16041599, -0.12396993, -0.08752388, -0.05107783, -0.01463177]),\n",
       " array([-2.25      , -2.16879509, -2.08759019, -2.00638528, -1.92518037,\n",
       "        -1.84397547, -1.76277056, -1.68156566, -1.60036075, -1.51915584,\n",
       "        -1.43795094, -1.35674603, -1.27554112, -1.19433622, -1.11313131,\n",
       "        -1.03192641, -0.9507215 , -0.86951659, -0.78831169, -0.70710678]),\n",
       " array([0.01463177, 0.05107783, 0.08752388, 0.12396993, 0.16041599,\n",
       "        0.19686204, 0.23330809, 0.26975415, 0.3062002 , 0.34264625,\n",
       "        0.3790923 , 0.41553836, 0.45198441, 0.48843046, 0.52487652,\n",
       "        0.56132257, 0.59776862, 0.63421468, 0.67066073, 0.70710678])]"
      ]
     },
     "execution_count": 217,
     "metadata": {},
     "output_type": "execute_result"
    }
   ],
   "source": [
    "xd"
   ]
  },
  {
   "cell_type": "code",
   "execution_count": 221,
   "id": "b7637cd0-77b0-4396-93ac-c20aaa33828f",
   "metadata": {},
   "outputs": [
    {
     "data": {
      "text/plain": [
       "array([-0.70710678, -0.55557023, -0.38268343, -0.01463177, -0.01463177,\n",
       "       -0.01463177])"
      ]
     },
     "execution_count": 221,
     "metadata": {},
     "output_type": "execute_result"
    }
   ],
   "source": [
    "xS[1]"
   ]
  },
  {
   "cell_type": "code",
   "execution_count": 226,
   "id": "61916289-f11f-4c32-a6a0-9af8f51f09f1",
   "metadata": {},
   "outputs": [
    {
     "data": {
      "image/png": "[encoded data removed]",
      "text/plain": [
       "<Figure size 640x480 with 1 Axes>"
      ]
     },
     "metadata": {},
     "output_type": "display_data"
    }
   ],
   "source": [
    "i=0\n",
    "j=0\n",
    "xS=xFull[j]\n",
    "yS=yFull[j]\n",
    "\n",
    "fcF = lambda x,y: interpolate.interp1d(x, y,kind='cubic') \n",
    "xd = [np.linspace(np.min(x),np.max(x),20) for x,y in zip(xS,yS)]\n",
    "\n",
    "figNum=20\n",
    "fig = plt.figure(figNum)\n",
    "fig.clear()\n",
    "plt.cla()\n",
    "\n",
    "# for i in range(1,2):\n",
    "i=1\n",
    "plt.plot(xS[i],yS[i],'r.',linewidth=2)\n",
    "# fc=fcF(xS[i],yS[i])\n",
    "# plt.plot(xd[i],fcF(xS[i],yS[i])(xd[i]),'b-',linewidth=2)\n",
    "plt.grid()"
   ]
  },
  {
   "cell_type": "code",
   "execution_count": 231,
   "id": "b3236c8c-aa33-407a-8454-46a7526b8cd0",
   "metadata": {},
   "outputs": [
    {
     "data": {
      "image/png": "[encoded data removed]",
      "text/plain": [
       "<Figure size 640x480 with 1 Axes>"
      ]
     },
     "metadata": {},
     "output_type": "display_data"
    }
   ],
   "source": [
    "i=0\n",
    "j=0\n",
    "xS=xFull[j]\n",
    "yS=yFull[j]\n",
    "\n",
    "fcF = lambda x,y: interpolate.interp1d(x, y,kind='cubic') \n",
    "xd= [np.linspace(np.min(x),np.max(x),20) for x,y in zip(xS,yS)]\n",
    "yd= [np.linspace(np.min(y),np.max(y),20) for x,y in zip(xS,yS)]\n",
    "\n",
    "figNum=21\n",
    "fig = plt.figure(figNum)\n",
    "fig.clear()\n",
    "plt.cla()\n",
    "\n",
    "for i in range(4):\n",
    "    plt.plot(xS[i],yS[i],'r.',linewidth=2)\n",
    "    if i % 2 ==0:\n",
    "        plt.plot(xd[i],fcF(xS[i],yS[i])(xd[i]),'b-',linewidth=2)\n",
    "    else:\n",
    "        plt.plot(fcF(yS[i],xS[i])(yd[i]),yd[i],'b-',linewidth=2)"
   ]
  },
  {
   "cell_type": "code",
   "execution_count": 235,
   "id": "6a951d0d-cc8e-47ef-a597-b49985c825b1",
   "metadata": {},
   "outputs": [
    {
     "data": {
      "image/png": "[encoded data removed]",
      "text/plain": [
       "<Figure size 640x480 with 1 Axes>"
      ]
     },
     "metadata": {},
     "output_type": "display_data"
    }
   ],
   "source": [
    "figNum=22\n",
    "fig = plt.figure(figNum)\n",
    "fig.clear()\n",
    "plt.cla()\n",
    "\n",
    "for j in range(3):\n",
    "    xS=xFull[j]\n",
    "    yS=yFull[j]\n",
    "    \n",
    "    fcF = lambda x,y: interpolate.interp1d(x, y,kind='cubic') \n",
    "    xd= [np.linspace(np.min(x),np.max(x),20) for x,y in zip(xS,yS)]\n",
    "    yd= [np.linspace(np.min(y),np.max(y),20) for x,y in zip(xS,yS)]\n",
    "    \n",
    "\n",
    "    \n",
    "    for i in range(4):\n",
    "        plt.plot(xS[i],yS[i],'r.',linewidth=2)\n",
    "        if i % 2 ==0:\n",
    "            plt.plot(xd[i],fcF(xS[i],yS[i])(xd[i]),'b-',linewidth=2)\n",
    "        else:\n",
    "            plt.plot(fcF(yS[i],xS[i])(yd[i]),yd[i],'b-',linewidth=2)\n",
    "\n",
    "plt.grid()\n",
    "plt.axis('equal')\n",
    "# plt.xlim(0,3)\n",
    "# plt.ylim(-1.5,1.5)\n",
    "\n",
    "plt.show()"
   ]
  },
  {
   "cell_type": "code",
   "execution_count": 238,
   "id": "a0d1096f-61e8-44f6-9775-aa365aa34589",
   "metadata": {},
   "outputs": [
    {
     "data": {
      "text/plain": [
       "array([ 0,  8, 16, 24])"
      ]
     },
     "execution_count": 238,
     "metadata": {},
     "output_type": "execute_result"
    }
   ],
   "source": [
    "C0"
   ]
  },
  {
   "cell_type": "code",
   "execution_count": null,
   "id": "93c80314-0d80-4d43-8467-e2a3ab899afb",
   "metadata": {},
   "outputs": [],
   "source": [
    "pBase=3\n",
    "arcKey=np.tile(C0+2,[pBase,1]).T+np.tile(range(pBase),[len(C0),1])\n",
    "arcKey2=np.fliplr(arcKey)\n",
    "\n",
    "arcKey=np.tile(C0+2,[pBase,1]).T+np.tile(range(pBase),[len(C0),1])\n",
    "arcKey2=np.fliplr(arcKey)\n",
    "\n",
    "xFull=[np.hstack([xD.T[i,arcKey2],xD2rS[i][:4,:pBase]]) for i in range(3)]\n",
    "yFull=[np.hstack([yD.T[i,arcKey2],yD2rS[i][:4,:pBase]]) for i in range(3)]\n",
    "\n",
    "\n",
    "\n",
    "figNum=16\n",
    "fig = plt.figure(figNum)\n",
    "fig.clear()\n",
    "plt.cla()\n",
    "\n",
    "myCol=[[1,0,0],[0,1,0],[0,0,1]]\n",
    "\n",
    "for i in range(3):\n",
    "    plt.plot(xFull[i],yFull[i],'.',linewidth=2, color =myCol[i])\n",
    "\n",
    "plt.grid()\n",
    "plt.axis('equal')\n",
    "# plt.xlim(0,3)\n",
    "# plt.ylim(-1.5,1.5)\n",
    "\n",
    "plt.show()"
   ]
  },
  {
   "cell_type": "code",
   "execution_count": null,
   "id": "8f647f1e-d51d-4ace-bc46-a87131d952e1",
   "metadata": {},
   "outputs": [],
   "source": []
  }
 ],
 "metadata": {
  "kernelspec": {
   "display_name": "Python 3 (ipykernel)",
   "language": "python",
   "name": "python3"
  },
  "language_info": {
   "codemirror_mode": {
    "name": "ipython",
    "version": 3
   },
   "file_extension": ".py",
   "mimetype": "text/x-python",
   "name": "python",
   "nbconvert_exporter": "python",
   "pygments_lexer": "ipython3",
   "version": "3.10.11"
  }
 },
 "nbformat": 4,
 "nbformat_minor": 5
}
