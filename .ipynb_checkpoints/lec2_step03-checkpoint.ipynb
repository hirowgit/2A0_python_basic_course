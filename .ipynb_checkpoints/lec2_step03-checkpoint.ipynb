{
 "cells": [
  {
   "cell_type": "code",
   "execution_count": 1,
   "id": "73a97c6c",
   "metadata": {},
   "outputs": [],
   "source": [
    "## Python basics for novice data scientists, supported by Wagatsuma Lab@Kyutech \n",
    "#\n",
    "# The MIT License (MIT): Copyright (c) 2020 Hiroaki Wagatsuma and Wagatsuma Lab@Kyutech\n",
    "# \n",
    "# Permission is hereby granted, free of charge, to any person obtaining a copy of this software and associated documentation files (the \"Software\"), to deal in the Software without restriction, including without limitation the rights to use, copy, modify, merge, publish, distribute, sublicense, and/or sell copies of the Software, and to permit persons to whom the Software is furnished to do so, subject to the following conditions:\n",
    "# The above copyright notice and this permission notice shall be included in all copies or substantial portions of the Software.\n",
    "# THE SOFTWARE IS PROVIDED \"AS IS\", WITHOUT WARRANTY OF ANY KIND, EXPRESS OR IMPLIED, INCLUDING BUT NOT LIMITED TO THE WARRANTIES OF MERCHANTABILITY, FITNESS FOR A PARTICULAR PURPOSE AND NONINFRINGEMENT. IN NO EVENT SHALL THE AUTHORS OR COPYRIGHT HOLDERS BE LIABLE FOR ANY CLAIM, DAMAGES OR OTHER LIABILITY, WHETHER IN AN ACTION OF CONTRACT, TORT OR OTHERWISE, ARISING FROM, OUT OF OR IN CONNECTION WITH THE SOFTWARE OR THE USE OR OTHER DEALINGS IN THE SOFTWARE. */\n",
    "#\n",
    "# # @Time    : 2022-12-29 \n",
    "# # @Author  : Hiroaki Wagatsuma\n",
    "# # @Site    : https://github.com/hirowgit/2A_python_basic_course\n",
    "# # @IDE     : Python 3.9.16 (main, Dec  7 2022, 10:15:43) [Clang 14.0.0 (clang-1400.0.29.202)] on darwin\n",
    "# # @File    : lec2_step03.py "
   ]
  },
  {
   "cell_type": "code",
   "execution_count": 1,
   "id": "3628309b",
   "metadata": {},
   "outputs": [],
   "source": [
    "# module test: if you have an error when you run this code, \n",
    "# you need to check the installation status of those modules\n",
    "\n",
    "import math \n",
    "import sys \n",
    "import numpy as np\n",
    "import pandas as pd\n",
    "import matplotlib.pyplot as plt\n",
    "import matplotlib.animation as animation\n",
    "\n",
    "import tkinter as tk"
   ]
  },
  {
   "cell_type": "code",
   "execution_count": 2,
   "id": "67f3cd33",
   "metadata": {},
   "outputs": [],
   "source": [
    "import matplotlib.pyplot as plt\n",
    "%matplotlib tk"
   ]
  },
  {
   "cell_type": "code",
   "execution_count": 4,
   "id": "c170f483",
   "metadata": {},
   "outputs": [],
   "source": [
    "# References:\n",
    "# https://matplotlib.org/stable/gallery/animation/pause_resume.html\n",
    "# https://qiita.com/yubais/items/c95ba9ff1b23dd33fde2"
   ]
  },
  {
   "cell_type": "code",
   "execution_count": 5,
   "id": "d44a9b6b",
   "metadata": {},
   "outputs": [
    {
     "data": {
      "text/plain": [
       "array([[-0.66916458, -0.56739664, -0.38530255],\n",
       "       [ 1.56205372, -0.61012223,  2.58797566],\n",
       "       [ 0.12516336, -0.14482283, -0.56071745]])"
      ]
     },
     "execution_count": 5,
     "metadata": {},
     "output_type": "execute_result"
    }
   ],
   "source": [
    "np.random.randn(3,3)"
   ]
  },
  {
   "cell_type": "code",
   "execution_count": 6,
   "id": "f9301eed",
   "metadata": {},
   "outputs": [
    {
     "name": "stdout",
     "output_type": "stream",
     "text": [
      "[[0.03127564 0.90631963 0.78806701 0.8572176  0.36266855]\n",
      " [0.20469768 0.89760855 0.57393779 0.9614299  0.85331704]\n",
      " [0.60650955 0.70430263 0.15116719 0.65964691 0.04332869]\n",
      " [0.04280422 0.34592027 0.40926594 0.37899745 0.80084002]\n",
      " [0.47224776 0.81260612 0.67291742 0.7561735  0.74699996]]\n",
      "-\n",
      "0.8976085540649238\n"
     ]
    }
   ],
   "source": [
    "a=np.random.rand(5,5)\n",
    "print(a)\n",
    "print('-')\n",
    "print(a[1,1])"
   ]
  },
  {
   "cell_type": "code",
   "execution_count": 3,
   "id": "9578c6c3",
   "metadata": {},
   "outputs": [
    {
     "name": "stderr",
     "output_type": "stream",
     "text": [
      "2025-02-06 22:31:45.606 Python[10098:2435702] +[IMKClient subclass]: chose IMKClient_Modern\n",
      "2025-02-06 22:31:45.606 Python[10098:2435702] +[IMKInputSession subclass]: chose IMKInputSession_Modern\n"
     ]
    }
   ],
   "source": [
    "import numpy as np\n",
    "import matplotlib.pyplot as plt\n",
    "import matplotlib.animation as animation\n",
    "\n",
    "figNum=10\n",
    "NofD=20\n",
    "NofD=5\n",
    "maxR=np.array([0,1])\n",
    "\n",
    "fig = plt.figure(figNum)\n",
    "plot_frames = []\n",
    "\n",
    "plt.xticks(np.arange(maxR[0], maxR[1]+0.2, 0.2))\n",
    "plt.yticks(np.arange(maxR[0], maxR[1]+0.2, 0.2))\n",
    "plt.axis('equal')\n",
    "plt.xlim(maxR)   # range in x axis\n",
    "plt.ylim(maxR)     # range in x axis\n",
    "\n",
    "for i in range(NofD):\n",
    "        randPos = np.random.rand(NofD,NofD)     #  NofD x NofD points are generated randomly\n",
    "        each_plot = plt.plot(randPos[0],randPos[1],'.',markersize=14)  # save the plot into a frame\n",
    "        plot_frames.append(each_plot)                  # append the frame to array\n",
    "\n",
    "# showing N  frames of plot every 1000ms \n",
    "animatedP = animation.ArtistAnimation(fig, plot_frames, interval=1000)\n",
    "plt.show()\n"
   ]
  },
  {
   "cell_type": "code",
   "execution_count": null,
   "id": "f3684b68",
   "metadata": {},
   "outputs": [
    {
     "name": "stderr",
     "output_type": "stream",
     "text": [
      "/var/folders/mg/w5t8lkhc8xj79f001s7kzpfh0000gp/T/ipykernel_1039/2860197164.py:26: UserWarning: frames=None which we can infer the length of, did not pass an explicit *save_count* and passed cache_frame_data=True.  To avoid a possibly unbounded cache, frame data caching has been disabled. To suppress this warning either pass `cache_frame_data=False` or `save_count=MAX_FRAMES`.\n",
      "  animatedP = animation.FuncAnimation(fig, plotP, interval=100)\n",
      "/Library/Frameworks/Python.framework/Versions/3.10/lib/python3.10/site-packages/matplotlib/animation.py:872: UserWarning: Animation was deleted without rendering anything. This is most likely not intended. To prevent deletion, assign the Animation to a variable, e.g. `anim`, that exists until you output the Animation using `plt.show()` or `anim.save()`.\n",
      "  warnings.warn(\n",
      "MovieWriter imagemagick unavailable; using Pillow instead.\n"
     ]
    }
   ],
   "source": [
    "import numpy as np\n",
    "import matplotlib.pyplot as plt\n",
    "import matplotlib.animation as animation\n",
    "\n",
    "maxR=np.array([0,1])\n",
    "\n",
    "figNum=11\n",
    "fig = plt.figure(figNum,figsize = (5, 5))\n",
    "\n",
    "def plotP(frame_id):\n",
    "    plt.cla()                      #  clearn-up the current plot\n",
    "#     plt.axis('equal')    \n",
    "    plt.xticks(np.arange(maxR[0], maxR[1]+0.2, 0.2))\n",
    "    plt.yticks(np.arange(maxR[0], maxR[1]+0.2, 0.2))\n",
    "\n",
    "    plt.xlim(maxR)   # range in x axis\n",
    "    plt.ylim(maxR)     # range in x axis\n",
    "\n",
    "    \n",
    "    randPos = np.random.rand(NofD,NofD)     #  NofD x NofD points are generated randomly\n",
    "    each_plot = plt.plot(randPos[0],randPos[1],'.',markersize=14)                       # save the plot into a frame\n",
    "    plot_frames.append(each_plot)                  # append the frame to array\n",
    "    plt.title(frame_id)\n",
    "\n",
    "\n",
    "animatedP = animation.FuncAnimation(fig, plotP, interval=100)\n",
    "plt.show()\n",
    "\n",
    "animatedP.save('anime'+str(figNum)+'.gif', writer = 'imagemagick')"
   ]
  },
  {
   "cell_type": "code",
   "execution_count": 4,
   "id": "c57a2f95",
   "metadata": {},
   "outputs": [
    {
     "name": "stderr",
     "output_type": "stream",
     "text": [
      "MovieWriter imagemagick unavailable; using Pillow instead.\n"
     ]
    }
   ],
   "source": [
    "import numpy as np\n",
    "import matplotlib.pyplot as plt\n",
    "import matplotlib.animation as animation\n",
    "\n",
    "maxR=np.array([0,1])\n",
    "\n",
    "figNum=12\n",
    "fig = plt.figure(figNum,figsize = (5, 5))\n",
    "\n",
    "def plotP(frame_id):\n",
    "    plt.cla()                      #  clearn-up the current plot\n",
    "#     plt.axis('equal')    \n",
    "    plt.xticks(np.arange(maxR[0], maxR[1]+0.2, 0.2))\n",
    "    plt.yticks(np.arange(maxR[0], maxR[1]+0.2, 0.2))\n",
    "\n",
    "    plt.xlim(maxR)   # range in x axis\n",
    "    plt.ylim(maxR)     # range in x axis\n",
    "\n",
    "    \n",
    "    randPos = np.random.rand(NofD,NofD)     #  NofD x NofD points are generated randomly\n",
    "    each_plot = plt.plot(randPos[0],randPos[1],'.',markersize=14)                       # save the plot into a frame\n",
    "    plot_frames.append(each_plot)                  # append the frame to array\n",
    "    plt.title(frame_id)\n",
    "\n",
    "\n",
    "animatedP = animation.FuncAnimation(fig, plotP, interval=100,frames = 200)\n",
    "plt.show()\n",
    "\n",
    "animatedP.save('anime'+str(figNum)+'.gif', writer = 'imagemagick')"
   ]
  },
  {
   "cell_type": "code",
   "execution_count": null,
   "id": "973aa338",
   "metadata": {},
   "outputs": [],
   "source": [
    "import numpy as np\n",
    "import matplotlib.pyplot as plt\n",
    "import matplotlib.animation as animation\n",
    "\n",
    "maxR=np.array([0,1])\n",
    "\n",
    "figNum=13\n",
    "fig = plt.figure(figNum,figsize = (5, 5))\n",
    "\n",
    "def plotP(frame_id,pramA,pramB):\n",
    "    plt.cla()                      #  clearn-up the current plot\n",
    "#     plt.axis('equal')    \n",
    "    plt.xticks(np.arange(maxR[0], maxR[1]+0.2, 0.2))\n",
    "    plt.yticks(np.arange(maxR[0], maxR[1]+0.2, 0.2))\n",
    "\n",
    "    plt.xlim(maxR)   # range in x axis\n",
    "    plt.ylim(maxR)     # range in x axis\n",
    "\n",
    "    \n",
    "    randPos = np.random.rand(NofD,NofD)     #  NofD x NofD points are generated randomly\n",
    "    each_plot = plt.plot(pramA*randPos[0],pramA*randPos[1],'.',markersize=14)                       # save the plot into a frame\n",
    "    plot_frames.append(each_plot)                  # append the frame to array\n",
    "    plt.title(pramB+': '+str(frame_id))\n",
    "\n",
    "\n",
    "pramA=0.5\n",
    "pramB='Random Points'\n",
    "animatedP = animation.FuncAnimation(fig, plotP, fargs = (pramA, pramB), interval=100)\n",
    "plt.show()\n",
    "\n",
    "# animatedP.save('anime'+str(figNum)+'.gif', writer = 'imagemagick')"
   ]
  },
  {
   "cell_type": "code",
   "execution_count": null,
   "id": "932f1195",
   "metadata": {},
   "outputs": [],
   "source": [
    "import numpy as np\n",
    "import matplotlib.pyplot as plt\n",
    "import matplotlib.animation as animation\n",
    "\n",
    "NofD=4\n",
    "pStep=8\n",
    "maxR=np.array([-5,5])\n",
    "\n",
    "figNum=15\n",
    "fig = plt.figure(figNum,figsize = (5, 5))\n",
    "\n",
    "rotA=lambda th: [[np.cos(th), -np.sin(th)],[np.sin(th),np.cos(th)]]\n",
    "\n",
    "def plotP(frame_id,pramA,pramB):\n",
    "    plt.cla()                      #  clearn-up the current plot\n",
    "#     plt.axis('equal')    \n",
    "    plt.xticks(np.arange(maxR[0], maxR[1], 1))\n",
    "    plt.yticks(np.arange(maxR[0], maxR[1], 1))\n",
    "    plt.grid(color=[0.5,0.5,0.5], linestyle='-', linewidth=0.5)\n",
    "    plt.title(\"Points\")   # title of the plot\n",
    "    plt.xlabel(\"x\")      # label in x axis\n",
    "    plt.ylabel(\"y\")      # label in y axis\n",
    "\n",
    "    plt.xlim(maxR)   # range in x axis\n",
    "    plt.ylim(maxR)     # range in x axis\n",
    "\n",
    "    angD=frame_id/pStep*np.pi\n",
    "    dataD=pramA\n",
    "    dataD=np.dot(rotA(angD),dataD)\n",
    "    \n",
    "    randPos = np.random.rand(NofD,NofD)     #  NofD x NofD points are generated randomly\n",
    "    each_plot = plt.plot(dataD[0],dataD[1],'b.',markersize=14)                       # save the plot into a frame\n",
    "    node_plot = plt.plot(dataD[0][0],dataD[1][0],'r.',markersize=14)                       # save the plot into a frame\n",
    "    plot_frames.append(each_plot)                  # append the frame to array\n",
    "    \n",
    "    ang180=np.mod(angD/np.pi*180,360)\n",
    "    strD='{:02.1f}'.format(ang180)\n",
    "    plt.title(pramB+': '+strD)\n",
    "\n",
    "\n",
    "# dataD=np.array([[1, -1,-1,1],[1,1,-1,-1]])\n",
    "# dataD=np.dot(rotA(np.pi/4),dataD)\n",
    "\n",
    "pramA=np.array([[1, -1,-1,1],[1,1,-1,-1]])\n",
    "pramB='Angle'\n",
    "animatedP = animation.FuncAnimation(fig, plotP, fargs = (pramA, pramB), interval=1000,frames = 200)\n",
    "plt.show()\n",
    "\n",
    "animatedP.save('anime'+str(figNum)+'.gif', writer = 'imagemagick')"
   ]
  },
  {
   "cell_type": "code",
   "execution_count": null,
   "id": "7f13dcaa",
   "metadata": {},
   "outputs": [],
   "source": [
    "import numpy as np\n",
    "import matplotlib.pyplot as plt\n",
    "import matplotlib.animation as animation\n",
    "\n",
    "NofD=4\n",
    "pStep=8\n",
    "maxR=np.array([-5,5])\n",
    "\n",
    "figNum=15\n",
    "fig = plt.figure(figNum,figsize = (5, 5))\n",
    "\n",
    "rotA=lambda th: [[np.cos(th), -np.sin(th)],[np.sin(th),np.cos(th)]]\n",
    "\n",
    "def plotP(frame_id,pramA,pramB):\n",
    "    plt.cla()                      #  clearn-up the current plot\n",
    "#     plt.axis('equal')    \n",
    "    plt.xticks(np.arange(maxR[0], maxR[1], 1))\n",
    "    plt.yticks(np.arange(maxR[0], maxR[1], 1))\n",
    "    plt.grid(color=[0.5,0.5,0.5], linestyle='-', linewidth=0.5)\n",
    "    plt.title(\"Points\")   # title of the plot\n",
    "    plt.xlabel(\"x\")      # label in x axis\n",
    "    plt.ylabel(\"y\")      # label in y axis\n",
    "\n",
    "    plt.xlim(maxR)   # range in x axis\n",
    "    plt.ylim(maxR)     # range in x axis\n",
    "\n",
    "    angD=frame_id/pStep*np.pi\n",
    "    dataD=pramA\n",
    "    dataD=np.dot(rotA(angD),dataD)\n",
    "    \n",
    "    randPos = np.random.rand(NofD,NofD)     #  NofD x NofD points are generated randomly\n",
    "    each_plot = plt.plot(dataD[0],dataD[1],'b.',markersize=14)                       # save the plot into a frame\n",
    "    node_plot = plt.plot(dataD[0][0],dataD[1][0],'r.',markersize=14)                       # save the plot into a frame\n",
    "    plot_frames.append(each_plot)                  # append the frame to array\n",
    "    \n",
    "    ang180=np.mod(angD/np.pi*180,360)\n",
    "    strD='{:02.1f}'.format(ang180)\n",
    "    plt.title(pramB+': '+strD)\n",
    "\n",
    "\n",
    "# dataD=np.array([[1, -1,-1,1],[1,1,-1,-1]])\n",
    "# dataD=np.dot(rotA(np.pi/4),dataD)\n",
    "\n",
    "pramA=np.array([[1, -1,-1,1],[1,1,-1,-1]])\n",
    "pramB='Angle'\n",
    "animatedP = animation.FuncAnimation(fig, plotP, fargs = (pramA, pramB), interval=1000,frames = 200)\n",
    "plt.show()\n",
    "\n",
    "animatedP.save('anime'+str(figNum)+'.gif', writer = 'imagemagick')"
   ]
  },
  {
   "cell_type": "code",
   "execution_count": null,
   "id": "a7ca1095-9ba0-4be1-ae4b-fd70fc439416",
   "metadata": {},
   "outputs": [],
   "source": [
    "figure(1);\n",
    "clf;\n",
    "\n",
    "roadLabel={'road1','road2','road3'};\n",
    "\n",
    "mapDx=[-100,100; 0,0; 0,100 ];\n",
    "mapDy=[0,0;-100,100;80,80 ];\n",
    "\n",
    "plot(mapDx',mapDy','LineWidth',2);\n",
    "legend(roadLabel);\n",
    "grid on;\n",
    "axis equal;\n"
   ]
  },
  {
   "cell_type": "code",
   "execution_count": null,
   "id": "c642e50a-69ee-4661-930b-245f0b5c8be8",
   "metadata": {},
   "outputs": [],
   "source": [
    "mapDx"
   ]
  },
  {
   "cell_type": "code",
   "execution_count": null,
   "id": "62d46191-e056-4a3f-9b58-4ea95bd788cb",
   "metadata": {},
   "outputs": [],
   "source": []
  },
  {
   "cell_type": "code",
   "execution_count": null,
   "id": "3fb77994-1126-463e-849f-2aa5792bb0bd",
   "metadata": {},
   "outputs": [],
   "source": [
    "figNum=10\n",
    "maxR=[-100,100]\n",
    "fig = plt.figure(figNum)\n",
    "fig.clf()\n",
    "plot_frames = []\n",
    "\n",
    "roadLabel=['road1','road2','road3']\n",
    "mapDx=np.array([[-100,100],[0,0],[0,100]])\n",
    "mapDy=np.array([[0,0],[-100,100],[80,80]])\n",
    "\n",
    "plt.xticks(np.arange(maxR[0], maxR[1], 10))\n",
    "plt.yticks(np.arange(maxR[0], maxR[1], 10))\n",
    "plt.grid(color=[0.5,0.5,0.5], linestyle='-', linewidth=0.5)\n",
    "plt.title(\"Time\")   # title of the plot\n",
    "plt.xlabel(\"x\")      # label in x axis\n",
    "plt.ylabel(\"y\")      # label in y axis\n",
    "\n",
    "plt.xlim(maxR)   # range in x axis\n",
    "plt.ylim(maxR)     # range in x axis\n",
    "plt.axis('equal')\n",
    "\n",
    "NofT=1\n",
    "for i in range(NofT):\n",
    "        each_plot = plt.plot(mapDx.T,mapDy.T,'-',linewidth=2)  # save the plot into a frame\n",
    "        plot_frames.append(each_plot)                  # append the frame to array\n",
    "\n",
    "# animatedP = animation.ArtistAnimation(fig, plot_frames, interval=1)\n",
    "plt.show()\n"
   ]
  },
  {
   "cell_type": "code",
   "execution_count": null,
   "id": "8973efac-3ca3-4e31-8af9-17886a30d582",
   "metadata": {},
   "outputs": [],
   "source": [
    "figNum=11\n",
    "maxR=[-100,100]\n",
    "fig = plt.figure(figNum)\n",
    "fig.clf()\n",
    "plot_frames = []\n",
    "\n",
    "roadLabel=['road1','road2','road3']\n",
    "mapDx=np.array([[-100,100],[0,0],[0,100]])\n",
    "mapDy=np.array([[0,0],[-100,100],[80,80]])\n",
    "\n",
    "plt.xticks(np.arange(maxR[0], maxR[1], 10))\n",
    "plt.yticks(np.arange(maxR[0], maxR[1], 10))\n",
    "plt.grid(color=[0.5,0.5,0.5], linestyle='-', linewidth=0.5)\n",
    "plt.title(\"Time\")   # title of the plot\n",
    "plt.xlabel(\"x\")      # label in x axis\n",
    "plt.ylabel(\"y\")      # label in y axis\n",
    "\n",
    "plt.xlim(maxR)   # range in x axis\n",
    "plt.ylim(maxR)     # range in x axis\n",
    "plt.axis('equal')\n",
    "\n",
    "plt.plot(mapDx.T,mapDy.T,'-',linewidth=2) \n",
    "\n",
    "# NofT=1\n",
    "# for i in range(NofT):\n",
    "#         each_plot = plt.plot(mapDx.T,mapDy.T,'-',linewidth=2)  # save the plot into a frame\n",
    "#         plot_frames.append(each_plot)                  # append the frame to array\n",
    "\n",
    "# animatedP = animation.ArtistAnimation(fig, plot_frames, interval=1)\n",
    "plt.show()\n"
   ]
  },
  {
   "cell_type": "code",
   "execution_count": null,
   "id": "5ee2870f-e2fe-4e8e-9c5d-cdae5f433ff7",
   "metadata": {},
   "outputs": [],
   "source": [
    "v_planning_x=np.array([[-80,80],[ 0,0]])\n",
    "v_planning_y=np.array([[0,0],[-80,80]])\n",
    "tP=0\n",
    "\n",
    "cPx=v_planning_x[:,1]*tP+v_planning_x[:,0]*[1-tP]\n",
    "cPy=v_planning_y[:,1]*tP+v_planning_y[:,0]*[1-tP]\n",
    "display(cPx)\n",
    "\n",
    "roadLabel=['road1','road2','road3']\n",
    "vehi_Label=['vehicle1','vehicle2']\n",
    "all_Lable=roadLabel+vehi_Label\n",
    "display(all_Lable)\n"
   ]
  },
  {
   "cell_type": "code",
   "execution_count": null,
   "id": "3f086c6e-7e0d-4ef5-92af-99a6a88439fb",
   "metadata": {},
   "outputs": [],
   "source": [
    "all_Lable"
   ]
  },
  {
   "cell_type": "code",
   "execution_count": null,
   "id": "c8e65d98-6d05-4ff5-a15a-f97b68e00581",
   "metadata": {},
   "outputs": [],
   "source": [
    "figNum=12\n",
    "maxR=[-100,100]\n",
    "fig = plt.figure(figNum)\n",
    "fig.clf()\n",
    "plot_frames = []\n",
    "\n",
    "v_planning_x=np.array([[-80,80],[ 0,0]])\n",
    "v_planning_y=np.array([[0,0],[-80,80]])\n",
    "tP=0\n",
    "\n",
    "cPx=v_planning_x[:,1]*tP+v_planning_x[:,0]*[1-tP]\n",
    "cPy=v_planning_y[:,1]*tP+v_planning_y[:,0]*[1-tP]\n",
    "\n",
    "roadLabel=['road1','road2','road3'];\n",
    "vehi_Label=['vehicle1','vehicle2'];\n",
    "all_Lable=roadLabel+vehi_Label\n",
    "\n",
    "mapDx=np.array([[-100,100],[0,0],[0,100]])\n",
    "mapDy=np.array([[0,0],[-100,100],[80,80]])\n",
    "\n",
    "plt.plot(mapDx.T,mapDy.T,'-',linewidth=2)\n",
    "\n",
    "NofT=1\n",
    "each_plot=[]\n",
    "for i in range(len(cPx)):\n",
    "        each_plot.append(plt.plot(cPx[i],cPy[i],'.',markersize=20))  # save the plot into a frame\n",
    "        \n",
    "plot_frames.append(each_plot)                  # append the frame to array\n",
    "\n",
    "# animatedP = animation.ArtistAnimation(fig, plot_frames, interval=10)\n",
    "animatedP = animation.ArtistAnimation(fig, plot_frames, interval=1,repeat=False)\n",
    "plt.show()\n",
    "\n",
    "fig.legend(all_Lable)"
   ]
  },
  {
   "cell_type": "code",
   "execution_count": null,
   "id": "3da682fa-5548-42f8-9ac6-f53f91400aa5",
   "metadata": {},
   "outputs": [],
   "source": [
    "figNum=12\n",
    "maxR=[-100,100]\n",
    "fig = plt.figure(figNum)\n",
    "fig.clf()\n",
    "plot_frames = []\n",
    "\n",
    "v_planning_x=np.array([[-80,80],[ 0,0]])\n",
    "v_planning_y=np.array([[0,0],[-80,80]])\n",
    "tP=0\n",
    "\n",
    "cPx=v_planning_x[:,1]*tP+v_planning_x[:,0]*[1-tP]\n",
    "cPy=v_planning_y[:,1]*tP+v_planning_y[:,0]*[1-tP]\n",
    "\n",
    "roadLabel=['road1','road2','road3'];\n",
    "vehi_Label=['vehicle1','vehicle2'];\n",
    "all_Lable=roadLabel+vehi_Label\n",
    "\n",
    "mapDx=np.array([[-100,100],[0,0],[0,100]])\n",
    "mapDy=np.array([[0,0],[-100,100],[80,80]])\n",
    "\n",
    "plt.plot(mapDx.T,mapDy.T,'-',linewidth=2)\n",
    "\n",
    "NofT=1\n",
    "# each_plot=[]\n",
    "for i in range(len(cPx)):\n",
    "    if i==0:\n",
    "        each_plot=plt.plot(cPx[i],cPy[i],'.',markersize=20)  # save the plot into a frame\n",
    "    else:\n",
    "        each_plot.append(plt.plot(cPx[i],cPy[i],'.',markersize=20))  # save the plot into a frame\n",
    "        \n",
    "plot_frames.append(each_plot)                  # append the frame to array\n",
    "\n",
    "# animatedP = animation.ArtistAnimation(fig, plot_frames, interval=10)\n",
    "animatedP = animation.ArtistAnimation(fig, plot_frames, interval=1,repeat=False)\n",
    "plt.show()\n",
    "\n",
    "fig.legend(all_Lable)"
   ]
  },
  {
   "cell_type": "code",
   "execution_count": null,
   "id": "bc6bcea3-3f12-482b-8d41-99f7f742023f",
   "metadata": {},
   "outputs": [],
   "source": [
    "figNum=13\n",
    "maxR=[-100,100]\n",
    "fig = plt.figure(figNum)\n",
    "fig.clf()\n",
    "plot_frames = []\n",
    "\n",
    "v_planning_x=np.array([[-80,80],[ 0,0]])\n",
    "v_planning_y=np.array([[0,0],[-80,80]])\n",
    "tP=0\n",
    "\n",
    "cPx=v_planning_x[:,1]*tP+v_planning_x[:,0]*[1-tP]\n",
    "cPy=v_planning_y[:,1]*tP+v_planning_y[:,0]*[1-tP]\n",
    "\n",
    "roadLabel=['road1','road2','road3'];\n",
    "vehi_Label=['vehicle1','vehicle2'];\n",
    "all_Lable=roadLabel+vehi_Label\n",
    "\n",
    "mapDx=np.array([[-100,100],[0,0],[0,100]])\n",
    "mapDy=np.array([[0,0],[-100,100],[80,80]])\n",
    "\n",
    "plt.plot(mapDx.T,mapDy.T,'-',linewidth=2)\n",
    "\n",
    "# NofT=1\n",
    "# each_plot=[]\n",
    "# for i in range(len(cPx)):\n",
    "#         each_plot.append(plt.plot(cPx[i],cPy[i],'.',markersize=20))  # save the plot into a frame\n",
    "        \n",
    "# plot_frames.append(each_plot)                  # append the frame to array\n",
    "\n",
    "simT=100\n",
    "NofC=2\n",
    "\n",
    "for i2 in range(simT):\n",
    "    tP=i2/simT\n",
    "    tmpx=np.dot(v_planning_x,np.array([1-tP,tP]))\n",
    "    tmpy=np.dot(v_planning_y,np.array([1-tP,tP]))\n",
    "    each_plot=[]\n",
    "    for x,y in zip(tmpx,tmpy):\n",
    "        each_plot=plt.plot(x,y,'.',markersize=20)\n",
    "    # each_plot=[plt.plot(x,y,'.',markersize=20) for x,y in zip(tmpx,tmpy)]\n",
    "        plot_frames.append(each_plot)\n",
    "\n",
    "# animatedP = animation.ArtistAnimation(fig, plot_frames, interval=10)\n",
    "animatedP = animation.ArtistAnimation(fig, plot_frames, interval=10)\n",
    "plt.show()\n",
    "\n",
    "fig.legend(all_Lable)"
   ]
  },
  {
   "cell_type": "code",
   "execution_count": null,
   "id": "272fbc85-167e-4240-993a-d08e823981df",
   "metadata": {},
   "outputs": [],
   "source": [
    "figNum=16\n",
    "maxR=[-100,100]\n",
    "fig = plt.figure(figNum)\n",
    "\n",
    "fig.clear()\n",
    "plt.cla()\n",
    "plot_frames = []\n",
    "\n",
    "v_planning_x=np.array([[-80,80],[ 0,0]])\n",
    "v_planning_y=np.array([[0,0],[-80,80]])\n",
    "tP=0\n",
    "\n",
    "cPx=v_planning_x[:,1]*tP+v_planning_x[:,0]*[1-tP]\n",
    "cPy=v_planning_y[:,1]*tP+v_planning_y[:,0]*[1-tP]\n",
    "\n",
    "roadLabel=['road1','road2','road3'];\n",
    "vehi_Label=['vehicle1','vehicle2'];\n",
    "all_Lable=roadLabel+vehi_Label\n",
    "\n",
    "mapDx=np.array([[-100,100],[0,0],[0,100]])\n",
    "mapDy=np.array([[0,0],[-100,100],[80,80]])\n",
    "\n",
    "# plt.plot(mapDx.T,mapDy.T,'-',linewidth=2)\n",
    "\n",
    "simT=100\n",
    "NofC=2\n",
    "\n",
    "def plotP(i2):\n",
    "    plt.cla() \n",
    "    plt.plot(mapDx.T,mapDy.T,'-',linewidth=2)\n",
    "    tP=i2/simT\n",
    "    tmpx=np.dot(v_planning_x,np.array([1-tP,tP]))\n",
    "    tmpy=np.dot(v_planning_y,np.array([1-tP,tP]))\n",
    "\n",
    "    each_plot=[plt.plot(x,y,'.',markersize=20) for x,y in zip(tmpx,tmpy)]\n",
    "    plot_frames.append(each_plot)\n",
    "\n",
    "animatedP = animation.FuncAnimation(fig, plotP, interval=100,frames = 20, repeat=False)\n",
    "# animatedP = animation.FuncAnimation(fig, plotP, interval=100,frames = 20)\n",
    "\n",
    "plt.show()\n",
    "\n",
    "fig.legend(all_Lable)"
   ]
  },
  {
   "cell_type": "code",
   "execution_count": null,
   "id": "8cfc5424-b078-45c1-8699-afb7227cbccc",
   "metadata": {},
   "outputs": [],
   "source": [
    "Moby=np.array(3*[[-0.6, 0.6,   1,    1, 0.75,-0.75,   -1,  -1,-0.6,0.6],\n",
    "                 [1.75,1.75,0.75,-1.25,-1.55,-1.55,-1.25,0.75,1.75,1.75]])      \n",
    "Rot=lambda t: np.array([[np.cos(t),-np.sin(t)],[np.sin(t),np.cos(t)]])\n",
    "display(Rot(np.pi))\n",
    "cLen=np.abs(min(Moby[1,:])-max(Moby[1,:]))\n",
    "cLen"
   ]
  },
  {
   "cell_type": "code",
   "execution_count": null,
   "id": "8bc48ada-b588-4a5b-88f2-01c00e6b162a",
   "metadata": {},
   "outputs": [],
   "source": [
    "lane_x = mapDx.copy()\n",
    "lane_y = mapDy.copy()"
   ]
  },
  {
   "cell_type": "code",
   "execution_count": null,
   "id": "25e669c2-d420-4dfe-95ba-3c312703feb1",
   "metadata": {},
   "outputs": [],
   "source": [
    "lane_x,lane_y"
   ]
  },
  {
   "cell_type": "code",
   "execution_count": null,
   "id": "052a64bb-da79-4631-b64e-cd7c785ed42f",
   "metadata": {},
   "outputs": [],
   "source": [
    "-np.arctan2(np.diff(y),np.diff(x))"
   ]
  },
  {
   "cell_type": "code",
   "execution_count": null,
   "id": "48108f3c-58df-46cc-87df-c51eb8bcdcb9",
   "metadata": {},
   "outputs": [],
   "source": [
    "roadW=10\n",
    "x=lane_x[0]\n",
    "y=lane_y[0]\n",
    "-np.arctan2(np.diff(y),np.diff(x))\n",
    "np.cos(-np.arctan2(np.diff(y),np.diff(x)))\n",
    "Rot(-np.arctan2(np.diff(y),np.diff(x))).reshape(2,2)\n",
    "np.dot(Rot(-np.arctan2(np.diff(y),np.diff(x))).reshape(2,2),[np.diff(x),np.diff(y)])\n",
    "\n",
    "vecR=[np.sqrt(np.diff(x)**2+np.diff(y)**2).T for x,y in zip(lane_x,lane_y)]\n",
    "angL=[np.arctan2(np.diff(y),np.diff(x)) for x,y in zip(lane_x,lane_y)]\n",
    "Rvec=[np.dot(Rot(-th).reshape(2,2),[np.diff(x),np.diff(y)]).T for x,y,th in zip(lane_x,lane_y,angL)]\n",
    "# Rvec=[np.dot(Rot(-np.arctan2(np.diff(y),np.diff(x))).reshape(2,2),[np.diff(x),np.diff(y)]).T for x,y in zip(lane_x,lane_y)]\n",
    "np.dot(Rvec,[[1,1],[-10,10]])\n",
    "\n",
    "Rvec\n",
    "# np.tile(Rvec[0],[2,1])+[[0,]],roadW/2]"
   ]
  },
  {
   "cell_type": "code",
   "execution_count": null,
   "id": "6a84aeae-7ff7-42d1-bbd6-865886a258da",
   "metadata": {},
   "outputs": [],
   "source": [
    "vecR=[np.sqrt(np.diff(x)**2+np.diff(y)**2).T for x,y in zip(lane_x,lane_y)]\n",
    "vecR"
   ]
  },
  {
   "cell_type": "code",
   "execution_count": null,
   "id": "b3d5a7de-734b-4f81-8809-3a785f62b5ef",
   "metadata": {},
   "outputs": [],
   "source": [
    "x=lane_x[0]\n",
    "y=lane_y[0]\n",
    "rotXY3[3]+np.array([[x[0]]*2,[y[0]]*2]).T"
   ]
  },
  {
   "cell_type": "code",
   "execution_count": null,
   "id": "dc1069ce-a636-40fd-ad66-c564d24b9f76",
   "metadata": {},
   "outputs": [],
   "source": [
    "len(rotXY3)\n"
   ]
  },
  {
   "cell_type": "code",
   "execution_count": null,
   "id": "892e752f-7a41-4ef9-b4ce-31a9d64a8aa7",
   "metadata": {},
   "outputs": [],
   "source": [
    "# ([lane_x[:,0]]**2).tolist()\n",
    "(np.tile(lane_x[:,0],[1,2])[0]).tolist()"
   ]
  },
  {
   "cell_type": "code",
   "execution_count": null,
   "id": "8e6b8d63-b5ca-4040-b31d-3503db44a15f",
   "metadata": {},
   "outputs": [],
   "source": [
    "roadW=10\n",
    "rotXY=[np.tile(v,[2,1])+roadW/2*np.array([[0,0],[-1,1]]).T for v in Rvec]\n",
    "# display(rotXY)\n",
    "rotXY2=[v-r*np.array([[1,1],[0,0]]).T for v,r in zip(rotXY,vecR)]\n",
    "# display(rotXY2)\n",
    "rotXY3=[np.dot(Rot(th).reshape(2,2),v.T).T for v,th in zip(rotXY+rotXY2,np.array(angL*2))]\n",
    "display(rotXY3)\n",
    "rotXY4=[v+np.array([[x]*2,[y]*2]).T for v,x,y in zip(rotXY3,(np.tile(lane_x[:,0],[1,2])[0]).tolist(),(np.tile(lane_y[:,0],[1,2])[0]).tolist())]\n",
    "rotXY4"
   ]
  },
  {
   "cell_type": "code",
   "execution_count": null,
   "id": "02a9d248-018c-441c-bf67-604cd4838186",
   "metadata": {},
   "outputs": [],
   "source": [
    "rotXY3"
   ]
  },
  {
   "cell_type": "code",
   "execution_count": null,
   "id": "48eb9673-03aa-49e4-9cdc-90d92184c1b4",
   "metadata": {},
   "outputs": [],
   "source": [
    "\n",
    "figNum=18\n",
    "maxR=[-100,100]\n",
    "fig = plt.figure(figNum)\n",
    "\n",
    "fig.clear()\n",
    "plt.cla()\n",
    "for p2,p1 in zip(rotXY4[:len(rotXY)],rotXY4[len(rotXY):]):\n",
    "    plt.plot(np.vstack([p1[:,0],p2[:,0]]),np.vstack([p1[:,1],p2[:,1]]),'-',linewidth=2)\n"
   ]
  },
  {
   "cell_type": "code",
   "execution_count": null,
   "id": "726576c1-4f39-41cd-87c8-1122583861df",
   "metadata": {},
   "outputs": [],
   "source": [
    "Moby=np.array(3*[[-0.6, 0.6,   1,    1, 0.75,-0.75,   -1,  -1,-0.6,0.6],\n",
    "                 [1.75,1.75,0.75,-1.25,-1.55,-1.55,-1.25,0.75,1.75,1.75]])      \n",
    "Rot=lambda t: np.array([[np.cos(t),-np.sin(t)],[np.sin(t),np.cos(t)]])\n",
    "display(Rot(np.pi))\n",
    "cLen=np.abs(min(Moby[1,:])-max(Moby[1,:]))\n",
    "\n",
    "roadW=10\n",
    "\n",
    "lane_x = mapDx.copy()\n",
    "lane_y = mapDy.copy()\n",
    "\n",
    "vecR=[np.sqrt(np.diff(x)**2+np.diff(y)**2).T for x,y in zip(lane_x,lane_y)]\n",
    "angL=[np.arctan2(np.diff(y),np.diff(x)) for x,y in zip(lane_x,lane_y)]\n",
    "Rvec=[np.dot(Rot(-th).reshape(2,2),[np.diff(x),np.diff(y)]).T for x,y,th in zip(lane_x,lane_y,angL)]\n",
    "\n",
    "rotXY=[np.tile(v,[2,1])+roadW/2*np.array([[0,0],[-1,1]]).T for v in Rvec]\n",
    "rotXY2=[v-r*np.array([[1,1],[0,0]]).T for v,r in zip(rotXY,vecR)]\n",
    "rotXY3=[np.dot(Rot(th).reshape(2,2),v.T).T for v,th in zip(rotXY+rotXY2,np.array(angL*2))]\n",
    "rotXY4=[v+np.array([[x]*2,[y]*2]).T for v,x,y in zip(rotXY3,(np.tile(lane_x[:,0],[1,2])[0]).tolist(),(np.tile(lane_y[:,0],[1,2])[0]).tolist())]\n",
    "\n",
    "figNum=18\n",
    "maxR=[-100,100]\n",
    "fig = plt.figure(figNum)\n",
    "\n",
    "fig.clear()\n",
    "plt.cla()\n",
    "for p2,p1 in zip(rotXY4[:len(rotXY)],rotXY4[len(rotXY):]):\n",
    "    plt.plot(np.vstack([p1[:,0],p2[:,0]]),np.vstack([p1[:,1],p2[:,1]]),'-',linewidth=2)\n",
    "\n",
    "my_color1=np.array([122,122,122])\n",
    "# plt.plot(lane_x,lane_y,color=my_color1,lineWidth=3)\n",
    "plt.plot(lane_x.T,lane_y.T,'--',color=\"0.5\",linewidth=2)\n",
    "\n"
   ]
  },
  {
   "cell_type": "code",
   "execution_count": null,
   "id": "bc0508ac-9863-420d-807d-b74f0486895c",
   "metadata": {},
   "outputs": [],
   "source": [
    "Moby=np.array(3*[[-0.6, 0.6,   1,    1, 0.75,-0.75,   -1,  -1,-0.6,0.6],\n",
    "                 [1.75,1.75,0.75,-1.25,-1.55,-1.55,-1.25,0.75,1.75,1.75]])      \n",
    "Rot=lambda t: np.array([[np.cos(t),-np.sin(t)],[np.sin(t),np.cos(t)]])\n",
    "display(Rot(np.pi))\n",
    "cLen=np.abs(min(Moby[1,:])-max(Moby[1,:]))\n",
    "cLen"
   ]
  },
  {
   "cell_type": "code",
   "execution_count": null,
   "id": "6580972a-03c0-4bb8-a1fd-564374d152a0",
   "metadata": {},
   "outputs": [],
   "source": [
    "figNum=19\n",
    "maxR=[-100,100]\n",
    "fig = plt.figure(figNum)\n",
    "\n",
    "fig.clear()\n",
    "plt.cla()\n",
    "plt.plot(Moby[0],Moby[1],'-',linewidth=2)\n",
    "\n",
    "\n",
    "\n",
    "plt.xticks(np.arange(maxR[0], maxR[1], 10))\n",
    "plt.yticks(np.arange(maxR[0], maxR[1], 10))\n",
    "plt.grid(color=[0.5,0.5,0.5], linestyle='-', linewidth=0.5)\n",
    "plt.title(\"Time\")   # title of the plot\n",
    "plt.xlabel(\"x\")      # label in x axis\n",
    "plt.ylabel(\"y\")      # label in y axis\n",
    "\n",
    "plt.xlim(maxR)   # range in x axis\n",
    "plt.ylim(maxR)     # range in x axis\n",
    "plt.axis('equal')\n"
   ]
  },
  {
   "cell_type": "code",
   "execution_count": null,
   "id": "744b52dd-02bd-432e-b91d-78e3bfaad4af",
   "metadata": {},
   "outputs": [],
   "source": [
    "Moby[0]"
   ]
  },
  {
   "cell_type": "code",
   "execution_count": null,
   "id": "3bc53c1a-ab73-4eec-a7bd-771244eeb590",
   "metadata": {},
   "outputs": [],
   "source": [
    "angL2=angL[:-1]\n",
    "angL2"
   ]
  },
  {
   "cell_type": "code",
   "execution_count": null,
   "id": "3c0e111d-0ea9-45eb-8192-18b06ede9f92",
   "metadata": {},
   "outputs": [],
   "source": [
    "figNum=19\n",
    "maxR=[-100,100]\n",
    "fig = plt.figure(figNum)\n",
    "NofC=2\n",
    "\n",
    "v_planning_x=np.array([[-80,80],[ 0,0]])\n",
    "v_planning_y=np.array([[0,0],[-80,80]])\n",
    "tP=0\n",
    "initPx=v_planning_x[:,0]\n",
    "initPy=v_planning_y[:,0]\n",
    "\n",
    "display(initPx)\n",
    "\n",
    "sign2=lambda a,b: np.sign(((a>=0).astype(int)-0.5)*((b>=0).astype(int)-0.5))\n",
    "\n",
    "# for x,y in zip(initPx,initPy): \n",
    "# xu,xd,yu,yd=(initPx[0]-lane_x[:,0]),np.diff(lane_x).T[0],(initPy[0]-lane_y[:,0]),np.diff(lane_y).T[0]\n",
    "# np.where((sign2(xu,xd)>=0) & (xu<=xd) & (sign2(yu,yd)>=0) & (yu<=yd))[0]\n",
    "\n",
    "# xu,xd,yu,yd=(x-lane_x[:,0]),np.diff(lane_x).T[0],(y-lane_y[:,0]),np.diff(lane_y).T[0]\n",
    "cLaneID=[np.where((sign2((x-lane_x[:,0]),np.diff(lane_x).T[0])>=0) & ((x-lane_x[:,0])<=np.diff(lane_x).T[0]) & (sign2((y-lane_y[:,0]),np.diff(lane_y).T[0])>=0) & ((y-lane_y[:,0])<=np.diff(lane_y).T[0]))[0] \n",
    " for x,y in zip(initPx,initPy)]\n",
    "\n",
    "\n",
    "\n",
    "# for j in range(NofC):\n",
    "#     currPosMo=Rot(cPos(j,3)-pi/2)*Moby+repmat(cPos(j,1:2)',[1 size(Moby,2)]);\n",
    "#     pc{j,1}=plot(currPosMo(1,:),currPosMo(2,:),'-','LineWidth',3,'color',ccol(j,:)); \n",
    "#     pc{j,2}=plot(cPos(j,1),cPos(j,2),'.','MarkerSize',22); \n",
    "# end"
   ]
  },
  {
   "cell_type": "code",
   "execution_count": null,
   "id": "d8654644-a544-4cdc-bd01-61f8d7a8c86f",
   "metadata": {},
   "outputs": [],
   "source": [
    "np.empty([1,3])\n",
    "initPx=np.array([-80,   0.1])\n",
    "initPx"
   ]
  },
  {
   "cell_type": "code",
   "execution_count": null,
   "id": "d906f7c1-6931-4e8d-99fa-724175a035d9",
   "metadata": {},
   "outputs": [],
   "source": [
    "cPos=np.empty([NofC,3])\n",
    "display(cPos)\n",
    "np.vstack([initPx,initPy]).T"
   ]
  },
  {
   "cell_type": "code",
   "execution_count": null,
   "id": "501b2042-0844-4341-8394-10715a989492",
   "metadata": {},
   "outputs": [],
   "source": [
    "cPos[:,:2]\n",
    "cLaneID=[np.where((sign2((x-lane_x[:,0]),np.diff(lane_x).T[0])>=0) & ((x-lane_x[:,0])<=np.diff(lane_x).T[0]) & (sign2((y-lane_y[:,0]),np.diff(lane_y).T[0])>=0) & ((y-lane_y[:,0])<=np.diff(lane_y).T[0]))[0] \n",
    " for x,y in zip(initPx,initPy)]\n",
    "cLaneID2=np.array(cLaneID)\n",
    "np.array(angL)[cLaneID2]"
   ]
  },
  {
   "cell_type": "code",
   "execution_count": null,
   "id": "e199301e-597c-4ac6-8b7c-76a3e04597c1",
   "metadata": {},
   "outputs": [],
   "source": [
    "cPos=np.empty([NofC,3])\n",
    "cPos[:,:2]=np.vstack([initPx,initPy]).T\n",
    "# cPos[:,2]=np.array(angL)[cLaneID2]\n",
    "cPos[:,2]=np.array(angL)[cLaneID2].T\n",
    "cPos"
   ]
  },
  {
   "cell_type": "code",
   "execution_count": null,
   "id": "ca0ccdc3-aed0-4c01-b652-a434275f9e73",
   "metadata": {},
   "outputs": [],
   "source": [
    "Rot(cPos[j,2]-np.pi/2)"
   ]
  },
  {
   "cell_type": "code",
   "execution_count": null,
   "id": "2eb1254a-cf51-4aa9-814f-abfeae95912e",
   "metadata": {},
   "outputs": [],
   "source": [
    "Moby=3*np.array([[-0.6, 0.6,   1,    1, 0.75,-0.75,   -1,  -1,-0.6,0.6],\n",
    "                 [1.75,1.75,0.75,-1.25,-1.55,-1.55,-1.25,0.75,1.75,1.75]])  \n",
    "# Moby=[]\n",
    "Moby"
   ]
  },
  {
   "cell_type": "code",
   "execution_count": null,
   "id": "141d303f-8f7b-49f3-89f6-c7c20f954d09",
   "metadata": {},
   "outputs": [],
   "source": [
    "np.dot(Rot(cPos[j,2]-np.pi/2),Moby)"
   ]
  },
  {
   "cell_type": "code",
   "execution_count": null,
   "id": "647f597b-0160-486f-844f-c027eff788bc",
   "metadata": {},
   "outputs": [],
   "source": [
    "np.shape(Moby)[1]\n"
   ]
  },
  {
   "cell_type": "code",
   "execution_count": null,
   "id": "b8e7b797-74ad-4142-9dbf-4bc5a1574c3f",
   "metadata": {},
   "outputs": [],
   "source": [
    "[cPos[0,:2]]"
   ]
  },
  {
   "cell_type": "code",
   "execution_count": null,
   "id": "ae191fe8-e58d-4238-8890-181575b9ecd7",
   "metadata": {},
   "outputs": [],
   "source": [
    "np.tile(cPos[0,:2],[np.shape(Moby)[1],1]).T"
   ]
  },
  {
   "cell_type": "code",
   "execution_count": null,
   "id": "0010c159-a20a-471c-b219-e52f1469ed6a",
   "metadata": {},
   "outputs": [],
   "source": [
    "for j in range(NofC):\n",
    "    # currPosMo=np.dot(Rot(cPos[j,2]-np.pi/2),Moby)+repmat(cPos(j,1:2)',[1 size(Moby,2)]);\n",
    "    currPosMo=np.dot(Rot(cPos[j,2]-np.pi/2),Moby)+np.tile(cPos[0,:2],[np.shape(Moby)[1],1]).T\n",
    "currPosMo"
   ]
  },
  {
   "cell_type": "code",
   "execution_count": 8,
   "id": "e77720ff-7d97-4814-9061-c49ff622e0bc",
   "metadata": {},
   "outputs": [
    {
     "data": {
      "text/plain": [
       "(-110.0, 110.0, -110.0, 110.0)"
      ]
     },
     "execution_count": 8,
     "metadata": {},
     "output_type": "execute_result"
    }
   ],
   "source": [
    "figNum=20\n",
    "fig = plt.figure(figNum)\n",
    "fig.clear()\n",
    "plt.cla()\n",
    "maxR=[-100,100]\n",
    "NofC=2\n",
    "\n",
    "Moby=3*np.array([[-0.6, 0.6,   1,    1, 0.75,-0.75,   -1,  -1,-0.6,0.6],\n",
    "                 [1.75,1.75,0.75,-1.25,-1.55,-1.55,-1.25,0.75,1.75,1.75]])      \n",
    "Rot=lambda t: np.array([[np.cos(t),-np.sin(t)],[np.sin(t),np.cos(t)]])\n",
    "cLen=np.abs(min(Moby[1,:])-max(Moby[1,:]))\n",
    "\n",
    "\n",
    "cPos=np.empty([NofC,3])\n",
    "cPos[:,:2]=np.vstack([initPx,initPy]).T\n",
    "cPos[:,2]=np.array(angL)[cLaneID2].T\n",
    "\n",
    "for j in range(NofC):\n",
    "    # currPosMo=np.dot(Rot(cPos[j,2]-np.pi/2),Moby)+repmat(cPos(j,1:2)',[1 size(Moby,2)]);\n",
    "    currPosMo=np.dot(Rot(cPos[j,2]-np.pi/2),Moby)+np.tile(cPos[j,:2],[np.shape(Moby)[1],1]).T\n",
    "    plt.plot(currPosMo[0],currPosMo[1],'k-',linewidth=2)\n",
    "\n",
    "\n",
    "for p2,p1 in zip(rotXY4[:len(rotXY)],rotXY4[len(rotXY):]):\n",
    "    plt.plot(np.vstack([p1[:,0],p2[:,0]]),np.vstack([p1[:,1],p2[:,1]]),'-',linewidth=2)\n",
    "\n",
    "plot_frames = []\n",
    "my_color1=np.array([122,122,122])\n",
    "# plt.plot(lane_x,lane_y,color=my_color1,lineWidth=3)\n",
    "plt.plot(lane_x.T,lane_y.T,'--',color=\"0.5\",linewidth=2)\n",
    "\n",
    "\n",
    "# plt.xticks(np.arange(maxR[0], maxR[1], 10))\n",
    "# plt.yticks(np.arange(maxR[0], maxR[1], 10))\n",
    "plt.grid(color=[0.5,0.5,0.5], linestyle='-', linewidth=0.5)\n",
    "\n",
    "plt.title(\"Time\")   # title of the plot\n",
    "plt.xlabel(\"x\")      # label in x axis\n",
    "plt.ylabel(\"y\")      # label in y axis\n",
    "\n",
    "plt.xlim(maxR)   # range in x axis\n",
    "plt.ylim(maxR)     # range in x axis\n",
    "plt.axis('equal')\n",
    "\n",
    "# def plotP(i2):\n",
    "#     plt.cla() \n",
    "#     plt.plot(mapDx.T,mapDy.T,'-',linewidth=2)\n",
    "#     tP=i2/simT\n",
    "#     tmpx=np.dot(v_planning_x,np.array([1-tP,tP]))\n",
    "#     tmpy=np.dot(v_planning_y,np.array([1-tP,tP]))\n",
    "\n",
    "#     each_plot=[plt.plot(x,y,'.',markersize=20) for x,y in zip(tmpx,tmpy)]\n",
    "#     plot_frames.append(each_plot)\n",
    "\n",
    "# animatedP = animation.FuncAnimation(fig, plotP, interval=100,frames = 20, repeat=False)\n",
    "# # animatedP = animation.FuncAnimation(fig, plotP, interval=100,frames = 20)\n",
    "\n",
    "# plt.show()\n",
    "\n",
    "# fig.legend(all_Lable)"
   ]
  },
  {
   "cell_type": "code",
   "execution_count": 17,
   "id": "44c93688-19e6-46e3-8098-41ffa8daaff2",
   "metadata": {},
   "outputs": [
    {
     "data": {
      "text/plain": [
       "array([[-1.0000000e+00, -1.2246468e-16],\n",
       "       [ 1.2246468e-16, -1.0000000e+00]])"
      ]
     },
     "metadata": {},
     "output_type": "display_data"
    },
    {
     "data": {
      "text/plain": [
       "array([-80,   0])"
      ]
     },
     "metadata": {},
     "output_type": "display_data"
    },
    {
     "data": {
      "text/plain": [
       "<matplotlib.legend.Legend at 0x177ace9b0>"
      ]
     },
     "execution_count": 17,
     "metadata": {},
     "output_type": "execute_result"
    }
   ],
   "source": [
    "figNum=21\n",
    "fig = plt.figure(figNum)\n",
    "fig.clear()\n",
    "plt.cla()\n",
    "maxR=[-100,100]\n",
    "\n",
    "Moby=3*np.array([[-0.6, 0.6,   1,    1, 0.75,-0.75,   -1,  -1,-0.6,0.6],\n",
    "                 [1.75,1.75,0.75,-1.25,-1.55,-1.55,-1.25,0.75,1.75,1.75]])      \n",
    "Rot=lambda t: np.array([[np.cos(t),-np.sin(t)],[np.sin(t),np.cos(t)]])\n",
    "display(Rot(np.pi))\n",
    "\n",
    "cLen=np.abs(min(Moby[1,:])-max(Moby[1,:]))\n",
    "roadLabel=['road1','road2','road3'];\n",
    "vehi_Label=['vehicle1','vehicle2'];\n",
    "all_Lable=roadLabel+vehi_Label\n",
    "roadW=10\n",
    "simT=100\n",
    "NofC=2\n",
    "\n",
    "v_planning_x=np.array([[-80,80],[ 0,0]])\n",
    "v_planning_y=np.array([[0,0],[-80,80]])\n",
    "tP=0\n",
    "initPx=v_planning_x[:,0]\n",
    "initPy=v_planning_y[:,0]\n",
    "\n",
    "display(initPx)\n",
    "\n",
    "sign2=lambda a,b: np.sign(((a>=0).astype(int)-0.5)*((b>=0).astype(int)-0.5))\n",
    "\n",
    "cPx=v_planning_x[:,1]*tP+v_planning_x[:,0]*[1-tP]\n",
    "cPy=v_planning_y[:,1]*tP+v_planning_y[:,0]*[1-tP]\n",
    "\n",
    "mapDx=np.array([[-100,100],[0,0],[0,100]])\n",
    "mapDy=np.array([[0,0],[-100,100],[80,80]])\n",
    "\n",
    "lane_x = mapDx.copy()\n",
    "lane_y = mapDy.copy()\n",
    "\n",
    "cLaneID=[np.where((sign2((x-lane_x[:,0]),np.diff(lane_x).T[0])>=0) & ((x-lane_x[:,0])<=np.diff(lane_x).T[0]) & (sign2((y-lane_y[:,0]),np.diff(lane_y).T[0])>=0) & ((y-lane_y[:,0])<=np.diff(lane_y).T[0]))[0] \n",
    " for x,y in zip(initPx,initPy)]\n",
    "cLaneID2=np.array(cLaneID)\n",
    "\n",
    "vecR=[np.sqrt(np.diff(x)**2+np.diff(y)**2).T for x,y in zip(lane_x,lane_y)]\n",
    "angL=[np.arctan2(np.diff(y),np.diff(x)) for x,y in zip(lane_x,lane_y)]\n",
    "Rvec=[np.dot(Rot(-th).reshape(2,2),[np.diff(x),np.diff(y)]).T for x,y,th in zip(lane_x,lane_y,angL)]\n",
    "\n",
    "rotXY=[np.tile(v,[2,1])+roadW/2*np.array([[0,0],[-1,1]]).T for v in Rvec]\n",
    "rotXY2=[v-r*np.array([[1,1],[0,0]]).T for v,r in zip(rotXY,vecR)]\n",
    "rotXY3=[np.dot(Rot(th).reshape(2,2),v.T).T for v,th in zip(rotXY+rotXY2,np.array(angL*2))]\n",
    "rotXY4=[v+np.array([[x]*2,[y]*2]).T for v,x,y in zip(rotXY3,(np.tile(lane_x[:,0],[1,2])[0]).tolist(),(np.tile(lane_y[:,0],[1,2])[0]).tolist())]\n",
    "\n",
    "cPos=np.empty([NofC,3])\n",
    "cPos[:,:2]=np.vstack([initPx,initPy]).T\n",
    "cPos[:,2]=np.array(angL)[cLaneID2].T\n",
    "\n",
    "plot_frames = []\n",
    "my_color1=np.array([122,122,122])\n",
    "\n",
    "plt.title(\"Time\")   # title of the plot\n",
    "plt.xlabel(\"x\")      # label in x axis\n",
    "plt.ylabel(\"y\")      # label in y axis\n",
    "\n",
    "plt.xlim(maxR)   # range in x axis\n",
    "plt.ylim(maxR)     # range in x axis\n",
    "plt.axis('equal')\n",
    "\n",
    "def plotP(i2):\n",
    "    plt.cla() \n",
    "    plt.grid(color=[0.5,0.5,0.5], linestyle='-', linewidth=0.5)\n",
    "\n",
    "    for p2,p1 in zip(rotXY4[:len(rotXY)],rotXY4[len(rotXY):]):\n",
    "        plt.plot(np.vstack([p1[:,0],p2[:,0]]),np.vstack([p1[:,1],p2[:,1]]),'-',linewidth=2)\n",
    "\n",
    "    my_color1=np.array([122,122,122])\n",
    "    # plt.plot(lane_x,lane_y,color=my_color1,lineWidth=3)\n",
    "    plt.plot(lane_x.T,lane_y.T,'--',color=\"0.5\",linewidth=2)\n",
    "\n",
    "    # plt.title(\"Time\")   # title of the plot\n",
    "    plt.title(f'Time: {i2}')\n",
    "    plt.xlabel(\"x\")      # label in x axis\n",
    "    plt.ylabel(\"y\")      # label in y axis\n",
    "    \n",
    "    plt.xlim(maxR)   # range in x axis\n",
    "    plt.ylim(maxR)     # range in x axis\n",
    "    plt.axis('equal')\n",
    "\n",
    "    # plt.plot(mapDx.T,mapDy.T,'-',linewidth=2)\n",
    "    tP=i2/simT\n",
    "    tmpx=np.dot(v_planning_x,np.array([1-tP,tP]))\n",
    "    tmpy=np.dot(v_planning_y,np.array([1-tP,tP]))\n",
    "\n",
    "    cPos[:,:2]=np.vstack([tmpx,tmpy]).T\n",
    "    # cPos[:,2]=np.array(angL)[cLaneID2].T\n",
    "\n",
    "    each_plot=[]\n",
    "    for j in range(NofC):\n",
    "        # currPosMo=np.dot(Rot(cPos[j,2]-np.pi/2),Moby)+repmat(cPos(j,1:2)',[1 size(Moby,2)]);\n",
    "        currPosMo=np.dot(Rot(cPos[j,2]-np.pi/2),Moby)+np.tile(cPos[j,:2],[np.shape(Moby)[1],1]).T\n",
    "        each_plot.append(plt.plot(currPosMo[0],currPosMo[1],'k-',linewidth=2))\n",
    "\n",
    "\n",
    "    each_plot2=[plt.plot(x,y,'.',markersize=10) for x,y in zip(tmpx,tmpy)]\n",
    "    each_plot3=each_plot+each_plot2\n",
    "    \n",
    "    plot_frames.append(each_plot3)\n",
    "\n",
    "animatedP = animation.FuncAnimation(fig, plotP, interval=100,frames = 100, repeat=False)\n",
    "# # animatedP = animation.FuncAnimation(fig, plotP, interval=100,frames = 20)\n",
    "\n",
    "plt.show()\n",
    "\n",
    "fig.legend(all_Lable)"
   ]
  },
  {
   "cell_type": "code",
   "execution_count": 11,
   "id": "57e846b1-8e6b-4d65-acd7-8ff4ac7b30e4",
   "metadata": {},
   "outputs": [
    {
     "ename": "ValueError",
     "evalue": "shapes (2,2) and (6,10) not aligned: 2 (dim 1) != 6 (dim 0)",
     "output_type": "error",
     "traceback": [
      "\u001b[0;31m---------------------------------------------------------------------------\u001b[0m",
      "\u001b[0;31mValueError\u001b[0m                                Traceback (most recent call last)",
      "Cell \u001b[0;32mIn[11], line 1\u001b[0m\n\u001b[0;32m----> 1\u001b[0m \u001b[43mnp\u001b[49m\u001b[38;5;241;43m.\u001b[39;49m\u001b[43mdot\u001b[49m\u001b[43m(\u001b[49m\u001b[43mRot\u001b[49m\u001b[43m(\u001b[49m\u001b[43mcPos\u001b[49m\u001b[43m[\u001b[49m\u001b[43mj\u001b[49m\u001b[43m,\u001b[49m\u001b[38;5;241;43m2\u001b[39;49m\u001b[43m]\u001b[49m\u001b[38;5;241;43m-\u001b[39;49m\u001b[43mnp\u001b[49m\u001b[38;5;241;43m.\u001b[39;49m\u001b[43mpi\u001b[49m\u001b[38;5;241;43m/\u001b[39;49m\u001b[38;5;241;43m2\u001b[39;49m\u001b[43m)\u001b[49m\u001b[43m,\u001b[49m\u001b[43mMoby\u001b[49m\u001b[43m)\u001b[49m\u001b[38;5;241m+\u001b[39mnp\u001b[38;5;241m.\u001b[39mtile(cPos[j,:\u001b[38;5;241m2\u001b[39m],[np\u001b[38;5;241m.\u001b[39mshape(Moby)[\u001b[38;5;241m1\u001b[39m],\u001b[38;5;241m1\u001b[39m])\u001b[38;5;241m.\u001b[39mT\n",
      "\u001b[0;31mValueError\u001b[0m: shapes (2,2) and (6,10) not aligned: 2 (dim 1) != 6 (dim 0)"
     ]
    }
   ],
   "source": [
    "np.dot(Rot(cPos[j,2]-np.pi/2),Moby)+np.tile(cPos[j,:2],[np.shape(Moby)[1],1]).T"
   ]
  },
  {
   "cell_type": "code",
   "execution_count": 14,
   "id": "e57f5a85-d98f-427b-b8f0-6971ce87f751",
   "metadata": {},
   "outputs": [
    {
     "data": {
      "text/plain": [
       "array([[-0.6 ,  0.6 ,  1.  ,  1.  ,  0.75, -0.75, -1.  , -1.  , -0.6 ,\n",
       "         0.6 ],\n",
       "       [ 1.75,  1.75,  0.75, -1.25, -1.55, -1.55, -1.25,  0.75,  1.75,\n",
       "         1.75],\n",
       "       [-0.6 ,  0.6 ,  1.  ,  1.  ,  0.75, -0.75, -1.  , -1.  , -0.6 ,\n",
       "         0.6 ],\n",
       "       [ 1.75,  1.75,  0.75, -1.25, -1.55, -1.55, -1.25,  0.75,  1.75,\n",
       "         1.75],\n",
       "       [-0.6 ,  0.6 ,  1.  ,  1.  ,  0.75, -0.75, -1.  , -1.  , -0.6 ,\n",
       "         0.6 ],\n",
       "       [ 1.75,  1.75,  0.75, -1.25, -1.55, -1.55, -1.25,  0.75,  1.75,\n",
       "         1.75]])"
      ]
     },
     "execution_count": 14,
     "metadata": {},
     "output_type": "execute_result"
    }
   ],
   "source": [
    "Moby"
   ]
  },
  {
   "cell_type": "code",
   "execution_count": 5,
   "id": "600a843b-29a4-48fc-8680-a26f573110e7",
   "metadata": {},
   "outputs": [
    {
     "data": {
      "text/plain": [
       "array([0.        , 1.57079633])"
      ]
     },
     "execution_count": 5,
     "metadata": {},
     "output_type": "execute_result"
    }
   ],
   "source": [
    "cPos[:,2]"
   ]
  },
  {
   "cell_type": "code",
   "execution_count": null,
   "id": "71a2dffc-db3c-4965-be11-ac5b55c03e84",
   "metadata": {},
   "outputs": [],
   "source": [
    "currPosMo"
   ]
  },
  {
   "cell_type": "code",
   "execution_count": null,
   "id": "60730f50-12e1-4149-a29d-35591be91a77",
   "metadata": {},
   "outputs": [],
   "source": [
    "cLaneID=[np.where((sign2((x-lane_x[:,0]),np.diff(lane_x).T[0])>=0) & ((x-lane_x[:,0])<=np.diff(lane_x).T[0]) & (sign2((y-lane_y[:,0]),np.diff(lane_y).T[0])>=0) & ((y-lane_y[:,0])<=np.diff(lane_y).T[0]))[0] \n",
    " for x,y in zip(initPx,initPy)]\n",
    "cLaneID"
   ]
  },
  {
   "cell_type": "code",
   "execution_count": null,
   "id": "4e55528e-7acb-4693-b406-342f940acac5",
   "metadata": {},
   "outputs": [],
   "source": [
    "np.array(cLaneID)[0]"
   ]
  },
  {
   "cell_type": "code",
   "execution_count": null,
   "id": "05ee8478-6c87-46e1-b2a0-f8908e7431f3",
   "metadata": {},
   "outputs": [],
   "source": [
    "[np.where((sign2((x-lane_x[:,0]),np.diff(lane_x).T[0])>=0) & ((x-lane_x[:,0])<=np.diff(lane_x).T[0]) & (sign2((y-lane_y[:,0]),np.diff(lane_y).T[0])>=0) & ((y-lane_y[:,0])<=np.diff(lane_y).T[0]))[0] for x,y in zip(initPx,initPy)]\n"
   ]
  },
  {
   "cell_type": "code",
   "execution_count": null,
   "id": "b96049ea-03c0-49cf-b09e-f3c534848f7f",
   "metadata": {},
   "outputs": [],
   "source": [
    "np.sign(-1)>0"
   ]
  },
  {
   "cell_type": "code",
   "execution_count": null,
   "id": "782d904a-75dc-47ec-b514-2984eef819b7",
   "metadata": {},
   "outputs": [],
   "source": [
    "initPx[0],initPy[0]"
   ]
  },
  {
   "cell_type": "code",
   "execution_count": null,
   "id": "729ed177-325d-4bab-a06f-c6544c5b52a2",
   "metadata": {},
   "outputs": [],
   "source": [
    "xu,xd,yu,yd=(initPx[0]-lane_x[:,0]),np.diff(lane_x).T[0],(initPy[0]-lane_y[:,0]),np.diff(lane_y).T[0]"
   ]
  },
  {
   "cell_type": "code",
   "execution_count": null,
   "id": "1e48e2fd-c4f5-489d-9a52-9d76cd3bc07a",
   "metadata": {},
   "outputs": [],
   "source": [
    "np.where((np.sign(xu*xd)>=0) & (xu<=xd) & (np.sign(yu*yd)>=0) & (yu<=yd))"
   ]
  },
  {
   "cell_type": "code",
   "execution_count": null,
   "id": "2d766dc0-42fc-4fa0-82dc-11ccece9ac77",
   "metadata": {},
   "outputs": [],
   "source": [
    "lane_x,lane_y"
   ]
  },
  {
   "cell_type": "code",
   "execution_count": null,
   "id": "64e6337f-2946-4ccf-9bbd-ff1f37e6c3ba",
   "metadata": {},
   "outputs": [],
   "source": [
    "sign2=lambda x: np.sign(x) if len(np.where(xu==0)[0])==0 else 1\n",
    "sign2(0)"
   ]
  },
  {
   "cell_type": "code",
   "execution_count": null,
   "id": "f3762efe-ac38-4675-95a9-63327015be8c",
   "metadata": {},
   "outputs": [],
   "source": [
    "sign2=lambda a,b: np.sign(((a>=0).astype(int)-0.5)*((b>=0).astype(int)-0.5))"
   ]
  },
  {
   "cell_type": "code",
   "execution_count": null,
   "id": "33176d38-ddcb-44ec-ab27-11633b3cf104",
   "metadata": {},
   "outputs": [],
   "source": [
    "yu=np.array([  0, 0, -80])\n",
    "yu"
   ]
  },
  {
   "cell_type": "code",
   "execution_count": null,
   "id": "f7e3009d-ccc6-4b71-bc94-fe3138db55b1",
   "metadata": {},
   "outputs": [],
   "source": [
    "yu[np.where(yu==0)[0]]=np.tile(0.1,[1,2])\n",
    "yu[np.where(yu==0)[0]]\n",
    "\n",
    "yu[np.where(yu==0)[0]]\n",
    "# yu[np.where(yu==0)[0]]"
   ]
  },
  {
   "cell_type": "code",
   "execution_count": null,
   "id": "520ba5c0-effb-4c5f-a836-dbbd0e8f52dc",
   "metadata": {},
   "outputs": [],
   "source": [
    "yu[np.where(yu==0)[0]]"
   ]
  },
  {
   "cell_type": "code",
   "execution_count": null,
   "id": "c4e83849-ee1c-4f75-8399-fdd4cf8b0d9b",
   "metadata": {},
   "outputs": [],
   "source": [
    "yu[0]=yu[0]+0.1\n",
    "yu[0]"
   ]
  },
  {
   "cell_type": "code",
   "execution_count": null,
   "id": "c3e7daa8-0a06-44c1-993a-e00014e132b6",
   "metadata": {},
   "outputs": [],
   "source": [
    "yu[0]=yu[0]+0.1\n",
    "[ for k in np.where(yu==0)[0]]"
   ]
  },
  {
   "cell_type": "code",
   "execution_count": null,
   "id": "6c2d46bb-8e0e-46e4-bf1a-8367212fb3a0",
   "metadata": {},
   "outputs": [],
   "source": [
    "yu,yd"
   ]
  },
  {
   "cell_type": "code",
   "execution_count": null,
   "id": "5c5f6ca9-950e-4303-a79f-d5e93a8b5b0e",
   "metadata": {},
   "outputs": [],
   "source": [
    "np.sign(((yu>=0).astype(int)-0.5)*((yd>=0).astype(int)-0.5))\n"
   ]
  },
  {
   "cell_type": "code",
   "execution_count": null,
   "id": "39802063-5368-409c-bcee-b9a38c8e79a0",
   "metadata": {},
   "outputs": [],
   "source": [
    "((yu>=0).astype(int)-0.5)"
   ]
  },
  {
   "cell_type": "code",
   "execution_count": null,
   "id": "a0d37c80-f117-4184-ae8d-ba6ee2e4f666",
   "metadata": {},
   "outputs": [],
   "source": [
    "((yd>=0).astype(int)-0.5)"
   ]
  },
  {
   "cell_type": "code",
   "execution_count": null,
   "id": "5fdcbfa2-c40c-4644-b475-e3b3e1e1e564",
   "metadata": {},
   "outputs": [],
   "source": [
    "(yu>=0).astype(int)"
   ]
  },
  {
   "cell_type": "code",
   "execution_count": null,
   "id": "b2890410-6bf0-45b5-ae70-6a73f0e50228",
   "metadata": {},
   "outputs": [],
   "source": [
    "(yu>=0) & (yd>=0)"
   ]
  },
  {
   "cell_type": "code",
   "execution_count": null,
   "id": "0bc794cc-404f-487c-b230-65a4b45977b6",
   "metadata": {},
   "outputs": [],
   "source": [
    "yu[0]=0.1\n",
    "yd[2]=-10\n",
    "yd"
   ]
  },
  {
   "cell_type": "code",
   "execution_count": null,
   "id": "2881de0f-8b6c-4478-8b63-f95df57224d6",
   "metadata": {},
   "outputs": [],
   "source": [
    "sign2(xu)*sign2(xd)"
   ]
  },
  {
   "cell_type": "code",
   "execution_count": null,
   "id": "8103ecc7-155e-4cd2-bff6-f2c3fc7e4fd9",
   "metadata": {},
   "outputs": [],
   "source": [
    "sign2=lambda a,b: np.sign(((a>=0).astype(int)-0.5)*((b>=0).astype(int)-0.5))\n",
    "np.where((sign2(xu,xd)>=0) & (xu<=xd) & (sign2(xu,xd)>=0) & (yu<=yd))[0]"
   ]
  },
  {
   "cell_type": "code",
   "execution_count": null,
   "id": "71ed3a9f-a328-43c3-b76e-1fe7d98618cd",
   "metadata": {},
   "outputs": [],
   "source": []
  },
  {
   "cell_type": "code",
   "execution_count": null,
   "id": "a4c66320-a47c-4bd2-be17-b5062f9417a1",
   "metadata": {},
   "outputs": [],
   "source": []
  },
  {
   "cell_type": "code",
   "execution_count": null,
   "id": "a7ff8481-9393-4073-9c11-02ffbbe35eb1",
   "metadata": {},
   "outputs": [],
   "source": [
    "np.sign(xu*xd)>=0"
   ]
  },
  {
   "cell_type": "code",
   "execution_count": null,
   "id": "7b1bb8db-d2aa-4e75-b9be-a2aba6cb8487",
   "metadata": {},
   "outputs": [],
   "source": [
    "xu<=xd"
   ]
  },
  {
   "cell_type": "code",
   "execution_count": null,
   "id": "510c27a8-29de-4ae9-b208-49bffd71f441",
   "metadata": {},
   "outputs": [],
   "source": [
    "np.sign(yu*yd)>=0"
   ]
  },
  {
   "cell_type": "code",
   "execution_count": null,
   "id": "d4fe968e-4d7f-45ab-a402-1626c8873529",
   "metadata": {},
   "outputs": [],
   "source": [
    "yu<=yd"
   ]
  },
  {
   "cell_type": "code",
   "execution_count": null,
   "id": "fee57be2-bd40-4e09-9838-5ceb7bddf047",
   "metadata": {},
   "outputs": [],
   "source": [
    "(initPx[0]-lane_x[:,0])"
   ]
  },
  {
   "cell_type": "code",
   "execution_count": null,
   "id": "cc393426-8bbd-4f44-8215-0ac70c5770a0",
   "metadata": {},
   "outputs": [],
   "source": [
    "np.diff(lane_x).T[0]"
   ]
  },
  {
   "cell_type": "code",
   "execution_count": null,
   "id": "f6c197b3-e94c-4c28-ad64-a0658da76f1e",
   "metadata": {},
   "outputs": [],
   "source": [
    "(initPx[0]-lane_x[:,0])*np.diff(lane_x).T[0]>=0"
   ]
  },
  {
   "cell_type": "code",
   "execution_count": null,
   "id": "a78cd6a9-fe09-4a61-9c8b-2eeac6155ad5",
   "metadata": {},
   "outputs": [],
   "source": [
    "np.sign()"
   ]
  },
  {
   "cell_type": "code",
   "execution_count": null,
   "id": "db470fed-2159-4581-a13a-02a24eeed78c",
   "metadata": {},
   "outputs": [],
   "source": [
    "(initPx[0]-lane_x[:,0])<np.diff(lane_x).T[0]"
   ]
  },
  {
   "cell_type": "code",
   "execution_count": null,
   "id": "ec9bbb3d-a98b-4d04-8273-946447a72e0b",
   "metadata": {},
   "outputs": [],
   "source": [
    "lane_x-initPx[0]"
   ]
  },
  {
   "cell_type": "code",
   "execution_count": null,
   "id": "14d22477-2023-4f34-bed4-6e9e370bb450",
   "metadata": {},
   "outputs": [],
   "source": [
    "np.array(rotXY3).reshape(len(lane_x)*4,2).T"
   ]
  },
  {
   "cell_type": "code",
   "execution_count": null,
   "id": "73814c7f-6f5e-4b14-838f-301fc17ed5f3",
   "metadata": {},
   "outputs": [],
   "source": [
    "np.array(rotXY3)"
   ]
  },
  {
   "cell_type": "code",
   "execution_count": null,
   "id": "ed315693-bd36-49a0-bb6d-dfb810d65df2",
   "metadata": {},
   "outputs": [],
   "source": [
    "len(rotXY)"
   ]
  },
  {
   "cell_type": "code",
   "execution_count": null,
   "id": "266a6b6c-519c-4bc6-83e7-8a10e04eb4bc",
   "metadata": {},
   "outputs": [],
   "source": [
    "len(rotXY+rotXY2)"
   ]
  },
  {
   "cell_type": "code",
   "execution_count": null,
   "id": "b6593714-5c3c-4516-95eb-c71ba22e3f74",
   "metadata": {},
   "outputs": [],
   "source": [
    "len(lane_x)*4"
   ]
  },
  {
   "cell_type": "code",
   "execution_count": null,
   "id": "8eefb3f6-d77c-4a86-97bf-7789ad7d98af",
   "metadata": {},
   "outputs": [],
   "source": [
    "k=1\n",
    "v=rotXY[k]\n",
    "th=angL[k]\n",
    "np.dot(Rot(th).reshape(2,2),v.T)"
   ]
  },
  {
   "cell_type": "code",
   "execution_count": null,
   "id": "fdba6076-bf55-41c5-b847-85a1054be75b",
   "metadata": {},
   "outputs": [],
   "source": [
    "Rot(th).reshape(2,2)"
   ]
  },
  {
   "cell_type": "code",
   "execution_count": null,
   "id": "f019cb10-6bfa-4905-ac62-18a28ecf1480",
   "metadata": {},
   "outputs": [],
   "source": [
    "v.T"
   ]
  },
  {
   "cell_type": "code",
   "execution_count": null,
   "id": "44e000a0-00d5-4712-9c79-e02e95971dfb",
   "metadata": {},
   "outputs": [],
   "source": [
    "angL=[np.arctan2(np.diff(y),np.diff(x)) for x,y in zip(lane_x,lane_y)]\n",
    "angL=[np.dot(Rot(-np.arctan2(np.diff(y),np.diff(x))),[np.diff(y),np.diff(x)]) for x,y in zip(lane_x,lane_y)]\n",
    "# [Rot(-a) for a in angL]"
   ]
  },
  {
   "cell_type": "code",
   "execution_count": null,
   "id": "345fda80-2063-47e6-8238-7c43cc564f9d",
   "metadata": {},
   "outputs": [],
   "source": [
    "figNum=17\n",
    "maxR=[-100,100]\n",
    "fig = plt.figure(figNum)\n",
    "\n",
    "Moby=np.array(3*[-0.6, 0.6,   1,    1, 0.75,-0.75,   -1,  -1,-0.6,0.6;1.75,1.75,0.75,-1.25,-1.55,-1.55,-1.25,0.75,1.75,1.75];      \n",
    "Rot=@(t) [cos(t),-sin(t); sin(t),cos(t)];\n",
    "cLen=abs(min(Moby(2,:))-max(Moby(2,:)));\n",
    "\n",
    "fig.clear()\n",
    "plt.cla()\n",
    "plot_frames = []\n",
    "\n",
    "v_planning_x=np.array([[-80,80],[ 0,0]])\n",
    "v_planning_y=np.array([[0,0],[-80,80]])\n",
    "tP=0\n",
    "\n",
    "cPx=v_planning_x[:,1]*tP+v_planning_x[:,0]*[1-tP]\n",
    "cPy=v_planning_y[:,1]*tP+v_planning_y[:,0]*[1-tP]\n",
    "\n",
    "roadLabel=['road1','road2','road3'];\n",
    "vehi_Label=['vehicle1','vehicle2'];\n",
    "all_Lable=roadLabel+vehi_Label\n",
    "\n",
    "mapDx=np.array([[-100,100],[0,0],[0,100]])\n",
    "mapDy=np.array([[0,0],[-100,100],[80,80]])\n",
    "\n",
    "# plt.plot(mapDx.T,mapDy.T,'-',linewidth=2)\n",
    "\n",
    "simT=100\n",
    "NofC=2\n",
    "\n",
    "def plotP(i2):\n",
    "    plt.cla() \n",
    "    plt.plot(mapDx.T,mapDy.T,'-',linewidth=2)\n",
    "    tP=i2/simT\n",
    "    tmpx=np.dot(v_planning_x,np.array([1-tP,tP]))\n",
    "    tmpy=np.dot(v_planning_y,np.array([1-tP,tP]))\n",
    "\n",
    "    each_plot=[plt.plot(x,y,'.',markersize=20) for x,y in zip(tmpx,tmpy)]\n",
    "    plot_frames.append(each_plot)\n",
    "\n",
    "animatedP = animation.FuncAnimation(fig, plotP, interval=100,frames = 20, repeat=False)\n",
    "# animatedP = animation.FuncAnimation(fig, plotP, interval=100,frames = 20)\n",
    "\n",
    "plt.show()\n",
    "\n",
    "fig.legend(all_Lable)"
   ]
  },
  {
   "cell_type": "code",
   "execution_count": null,
   "id": "9b0a503f-d3ce-455e-8ae7-6bc32c87d429",
   "metadata": {},
   "outputs": [],
   "source": []
  },
  {
   "cell_type": "code",
   "execution_count": null,
   "id": "c046bb1d-f5c9-4347-949f-931c262f866e",
   "metadata": {},
   "outputs": [],
   "source": [
    "tmpx=np.dot(v_planning_x,np.array([1-tP,tP]))\n",
    "tmpy=np.dot(v_planning_y,np.array([1-tP,tP]))\n",
    "tmpx\n",
    "[plt.plot(x,y,'.',markersize=20) for x,y in zip(tmpx,tmpy)]"
   ]
  },
  {
   "cell_type": "code",
   "execution_count": null,
   "id": "a4bbc8e6-55cd-44ab-b4c3-ceba96c52315",
   "metadata": {},
   "outputs": [],
   "source": [
    "[v_planning_x].T"
   ]
  },
  {
   "cell_type": "code",
   "execution_count": null,
   "id": "698855cb-c172-4059-9daa-c5f5742b42e2",
   "metadata": {},
   "outputs": [],
   "source": []
  },
  {
   "cell_type": "code",
   "execution_count": null,
   "id": "07c4aa2e-c099-4971-84b7-7335f0a78675",
   "metadata": {},
   "outputs": [],
   "source": [
    "[[1-tP,tP]].T"
   ]
  },
  {
   "cell_type": "code",
   "execution_count": null,
   "id": "7adb26ed-9b50-4222-bf1f-0d1d63c1528b",
   "metadata": {},
   "outputs": [],
   "source": [
    "https://numpy.org/doc/2.1/reference/generated/numpy.dot.html\n",
    "https://numpy.org/doc/2.1/reference/generated/numpy.matmul.html#numpy.matmul"
   ]
  },
  {
   "cell_type": "code",
   "execution_count": null,
   "id": "511a2587-f0f5-4164-ae2a-8a881ac74846",
   "metadata": {},
   "outputs": [],
   "source": [
    "https://qiita.com/Yuu-Miino/items/ae7d9c78bc2dff6c9a51"
   ]
  },
  {
   "cell_type": "code",
   "execution_count": null,
   "id": "fdd05840-9a5e-4ff9-89c2-2330b69e381b",
   "metadata": {},
   "outputs": [],
   "source": [
    "np.dot(v_planning_x[1],np.array([1-tP,tP]))"
   ]
  },
  {
   "cell_type": "code",
   "execution_count": null,
   "id": "76a0ba83-6aac-4668-aac6-c6a1dcf814d9",
   "metadata": {},
   "outputs": [],
   "source": [
    "\n",
    "NofC=2;\n",
    "simT=100;\n",
    "vC=[50,40]; # %50km/h*1000(k)/3600(s)\n",
    "#% frate=0.1;\n",
    "frate=1\n",
    "\n",
    "v_planning_x=[-80,80; 0,0;];\n",
    "v_planning_y=[0,0;-80,80;];\n",
    "tP=0;\n",
    "\n",
    "cPx=v_planning_x(:,2).*tP+v_planning_x(:,1).*(1-tP);\n",
    "cPy=v_planning_y(:,2).*tP+v_planning_y(:,1).*(1-tP);\n",
    "\n",
    "roadLabel={'road1','road2','road3'};\n",
    "vehi_Label={'vehicle1','vehicle2'};\n",
    "all_Lable=roadLabel;\n",
    "all_Lable(end+1:end+length(vehi_Label))=vehi_Label;\n",
    "\n",
    "mapDx=np.array([[-100,100],[0,0],[0,100]])\n",
    "mapDy=np.array([[0,0],[-100,100],[80,80]])\n",
    "\n",
    "plot(mapDx',mapDy','LineWidth',2),hold on;\n",
    "\n",
    "vehiP={};\n",
    "for i=1:NofC\n",
    "    vehiP{i}=plot(cPx(i)',cPy(i)','.','Color',myCol(i,:),'MarkerSize',50);\n",
    "end\n",
    "\n",
    "legend(all_Lable);\n",
    "grid on;\n",
    "axis equal;\n",
    "tPv=repmat(tP,[1,2]);\n",
    "\n",
    "for i2=1:simT\n",
    "% %     tPv=tPv+(vC*1000/3600).*frate;\n",
    "    tP=i2/simT;\n",
    "    tPv=repmat(tP,[1,2]);\n",
    "    tmpx=diag(v_planning_x*[(1-tPv);tPv]);\n",
    "    tmpy=diag(v_planning_y*[(1-tPv);tPv]);\n",
    "    \n",
    "    for i=1:NofC\n",
    "        set(vehiP{i},'XData',tmpx(i),'YData',tmpy(i));\n",
    "    end\n",
    "%     pause(0.1);\n",
    "    drawnow;\n",
    "end\n"
   ]
  },
  {
   "cell_type": "code",
   "execution_count": null,
   "id": "a2bb4c05-9ccc-40d5-bf16-e7103ef0fbe3",
   "metadata": {},
   "outputs": [],
   "source": []
  },
  {
   "cell_type": "code",
   "execution_count": null,
   "id": "f7bd0274-5c36-41fb-b5db-bb54f3561925",
   "metadata": {},
   "outputs": [],
   "source": []
  },
  {
   "cell_type": "code",
   "execution_count": null,
   "id": "32cd5a00-2d00-4991-a501-1467f3c7f0ac",
   "metadata": {},
   "outputs": [],
   "source": []
  },
  {
   "cell_type": "code",
   "execution_count": null,
   "id": "781be1fc-dbb1-4382-be02-e88b2cb3031f",
   "metadata": {},
   "outputs": [],
   "source": []
  }
 ],
 "metadata": {
  "kernelspec": {
   "display_name": "Python 3 (ipykernel)",
   "language": "python",
   "name": "python3"
  },
  "language_info": {
   "codemirror_mode": {
    "name": "ipython",
    "version": 3
   },
   "file_extension": ".py",
   "mimetype": "text/x-python",
   "name": "python",
   "nbconvert_exporter": "python",
   "pygments_lexer": "ipython3",
   "version": "3.10.11"
  }
 },
 "nbformat": 4,
 "nbformat_minor": 5
}
