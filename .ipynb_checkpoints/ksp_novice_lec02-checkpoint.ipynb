{
 "cells": [
  {
   "cell_type": "code",
   "execution_count": null,
   "id": "9a959537",
   "metadata": {},
   "outputs": [],
   "source": [
    "## Python basics for novice data scientists, supported by Wagatsuma Lab@Kyutech \n",
    "#\n",
    "# The MIT License (MIT): Copyright (c) 2020 Hiroaki Wagatsuma and Wagatsuma Lab@Kyutech\n",
    "# \n",
    "# Permission is hereby granted, free of charge, to any person obtaining a copy of this software and associated documentation files (the \"Software\"), to deal in the Software without restriction, including without limitation the rights to use, copy, modify, merge, publish, distribute, sublicense, and/or sell copies of the Software, and to permit persons to whom the Software is furnished to do so, subject to the following conditions:\n",
    "# The above copyright notice and this permission notice shall be included in all copies or substantial portions of the Software.\n",
    "# THE SOFTWARE IS PROVIDED \"AS IS\", WITHOUT WARRANTY OF ANY KIND, EXPRESS OR IMPLIED, INCLUDING BUT NOT LIMITED TO THE WARRANTIES OF MERCHANTABILITY, FITNESS FOR A PARTICULAR PURPOSE AND NONINFRINGEMENT. IN NO EVENT SHALL THE AUTHORS OR COPYRIGHT HOLDERS BE LIABLE FOR ANY CLAIM, DAMAGES OR OTHER LIABILITY, WHETHER IN AN ACTION OF CONTRACT, TORT OR OTHERWISE, ARISING FROM, OUT OF OR IN CONNECTION WITH THE SOFTWARE OR THE USE OR OTHER DEALINGS IN THE SOFTWARE. */\n",
    "#\n",
    "# # @Time    : 2020-6-18 \n",
    "# # @Author  : Hiroaki Wagatsuma\n",
    "# # @Site    : https://github.com/hirowgit/2A_python_basic_course\n",
    "# # @IDE     : Python 3.10.9 (main, Dec 15 2022, 18:18:30) [Clang 14.0.0 (clang-1400.0.29.202)] on darwin\n",
    "# # @File    : ksp_novice_lec01.py "
   ]
  },
  {
   "cell_type": "code",
   "execution_count": 1,
   "id": "acfa494a",
   "metadata": {},
   "outputs": [],
   "source": [
    "import numpy as np\n",
    "import numpy.matlib\n",
    "import os\n",
    "import sys\n",
    "import codecs\n",
    "import matplotlib.pyplot as plt\n",
    "import pandas as pd\n",
    "from openpyxl import Workbook\n",
    "import pprint"
   ]
  },
  {
   "cell_type": "markdown",
   "id": "fc899347",
   "metadata": {},
   "source": [
    "## Example 1"
   ]
  },
  {
   "cell_type": "code",
   "execution_count": 6,
   "id": "6c354bdf",
   "metadata": {},
   "outputs": [
    {
     "data": {
      "text/plain": [
       "0    10\n",
       "1    20\n",
       "2    30\n",
       "3    40\n",
       "dtype: int64"
      ]
     },
     "metadata": {},
     "output_type": "display_data"
    }
   ],
   "source": [
    "sd1=pd.Series([10,20,30,40])\n",
    "display(sd1)"
   ]
  },
  {
   "cell_type": "code",
   "execution_count": 7,
   "id": "d976e539",
   "metadata": {},
   "outputs": [
    {
     "data": {
      "text/html": [
       "<div>\n",
       "<style scoped>\n",
       "    .dataframe tbody tr th:only-of-type {\n",
       "        vertical-align: middle;\n",
       "    }\n",
       "\n",
       "    .dataframe tbody tr th {\n",
       "        vertical-align: top;\n",
       "    }\n",
       "\n",
       "    .dataframe thead th {\n",
       "        text-align: right;\n",
       "    }\n",
       "</style>\n",
       "<table border=\"1\" class=\"dataframe\">\n",
       "  <thead>\n",
       "    <tr style=\"text-align: right;\">\n",
       "      <th></th>\n",
       "      <th>0</th>\n",
       "      <th>1</th>\n",
       "      <th>2</th>\n",
       "    </tr>\n",
       "  </thead>\n",
       "  <tbody>\n",
       "    <tr>\n",
       "      <th>0</th>\n",
       "      <td>10</td>\n",
       "      <td>a</td>\n",
       "      <td>True</td>\n",
       "    </tr>\n",
       "    <tr>\n",
       "      <th>1</th>\n",
       "      <td>20</td>\n",
       "      <td>b</td>\n",
       "      <td>False</td>\n",
       "    </tr>\n",
       "    <tr>\n",
       "      <th>2</th>\n",
       "      <td>30</td>\n",
       "      <td>c</td>\n",
       "      <td>False</td>\n",
       "    </tr>\n",
       "    <tr>\n",
       "      <th>3</th>\n",
       "      <td>40</td>\n",
       "      <td>d</td>\n",
       "      <td>True</td>\n",
       "    </tr>\n",
       "  </tbody>\n",
       "</table>\n",
       "</div>"
      ],
      "text/plain": [
       "    0  1      2\n",
       "0  10  a   True\n",
       "1  20  b  False\n",
       "2  30  c  False\n",
       "3  40  d   True"
      ]
     },
     "metadata": {},
     "output_type": "display_data"
    }
   ],
   "source": [
    "df1=pd.DataFrame([[10,\"a\",True],[20,\"b\",False,],[30,\"c\",False],[40,\"d\",True]])\n",
    "display(df1)"
   ]
  },
  {
   "cell_type": "code",
   "execution_count": 9,
   "id": "da73473d",
   "metadata": {},
   "outputs": [
    {
     "ename": "FileNotFoundError",
     "evalue": "[Errno 2] No such file or directory: 'data/201704health.csv'",
     "output_type": "error",
     "traceback": [
      "\u001b[0;31m---------------------------------------------------------------------------\u001b[0m",
      "\u001b[0;31mFileNotFoundError\u001b[0m                         Traceback (most recent call last)",
      "\u001b[0;32m/var/folders/mg/w5t8lkhc8xj79f001s7kzpfh0000gp/T/ipykernel_98031/2837260582.py\u001b[0m in \u001b[0;36m<module>\u001b[0;34m\u001b[0m\n\u001b[0;32m----> 1\u001b[0;31m \u001b[0mdf\u001b[0m\u001b[0;34m=\u001b[0m\u001b[0mpd\u001b[0m\u001b[0;34m.\u001b[0m\u001b[0mread_csv\u001b[0m\u001b[0;34m(\u001b[0m\u001b[0;34m\"data/201704health.csv\"\u001b[0m\u001b[0;34m,\u001b[0m\u001b[0mencoding\u001b[0m\u001b[0;34m=\u001b[0m\u001b[0;34m\"utf8\"\u001b[0m\u001b[0;34m)\u001b[0m\u001b[0;34m\u001b[0m\u001b[0;34m\u001b[0m\u001b[0m\n\u001b[0m",
      "\u001b[0;32m/usr/local/lib/python3.9/site-packages/pandas/util/_decorators.py\u001b[0m in \u001b[0;36mwrapper\u001b[0;34m(*args, **kwargs)\u001b[0m\n\u001b[1;32m    309\u001b[0m                     \u001b[0mstacklevel\u001b[0m\u001b[0;34m=\u001b[0m\u001b[0mstacklevel\u001b[0m\u001b[0;34m,\u001b[0m\u001b[0;34m\u001b[0m\u001b[0;34m\u001b[0m\u001b[0m\n\u001b[1;32m    310\u001b[0m                 )\n\u001b[0;32m--> 311\u001b[0;31m             \u001b[0;32mreturn\u001b[0m \u001b[0mfunc\u001b[0m\u001b[0;34m(\u001b[0m\u001b[0;34m*\u001b[0m\u001b[0margs\u001b[0m\u001b[0;34m,\u001b[0m \u001b[0;34m**\u001b[0m\u001b[0mkwargs\u001b[0m\u001b[0;34m)\u001b[0m\u001b[0;34m\u001b[0m\u001b[0;34m\u001b[0m\u001b[0m\n\u001b[0m\u001b[1;32m    312\u001b[0m \u001b[0;34m\u001b[0m\u001b[0m\n\u001b[1;32m    313\u001b[0m         \u001b[0;32mreturn\u001b[0m \u001b[0mwrapper\u001b[0m\u001b[0;34m\u001b[0m\u001b[0;34m\u001b[0m\u001b[0m\n",
      "\u001b[0;32m/usr/local/lib/python3.9/site-packages/pandas/io/parsers/readers.py\u001b[0m in \u001b[0;36mread_csv\u001b[0;34m(filepath_or_buffer, sep, delimiter, header, names, index_col, usecols, squeeze, prefix, mangle_dupe_cols, dtype, engine, converters, true_values, false_values, skipinitialspace, skiprows, skipfooter, nrows, na_values, keep_default_na, na_filter, verbose, skip_blank_lines, parse_dates, infer_datetime_format, keep_date_col, date_parser, dayfirst, cache_dates, iterator, chunksize, compression, thousands, decimal, lineterminator, quotechar, quoting, doublequote, escapechar, comment, encoding, encoding_errors, dialect, error_bad_lines, warn_bad_lines, on_bad_lines, delim_whitespace, low_memory, memory_map, float_precision, storage_options)\u001b[0m\n\u001b[1;32m    678\u001b[0m     \u001b[0mkwds\u001b[0m\u001b[0;34m.\u001b[0m\u001b[0mupdate\u001b[0m\u001b[0;34m(\u001b[0m\u001b[0mkwds_defaults\u001b[0m\u001b[0;34m)\u001b[0m\u001b[0;34m\u001b[0m\u001b[0;34m\u001b[0m\u001b[0m\n\u001b[1;32m    679\u001b[0m \u001b[0;34m\u001b[0m\u001b[0m\n\u001b[0;32m--> 680\u001b[0;31m     \u001b[0;32mreturn\u001b[0m \u001b[0m_read\u001b[0m\u001b[0;34m(\u001b[0m\u001b[0mfilepath_or_buffer\u001b[0m\u001b[0;34m,\u001b[0m \u001b[0mkwds\u001b[0m\u001b[0;34m)\u001b[0m\u001b[0;34m\u001b[0m\u001b[0;34m\u001b[0m\u001b[0m\n\u001b[0m\u001b[1;32m    681\u001b[0m \u001b[0;34m\u001b[0m\u001b[0m\n\u001b[1;32m    682\u001b[0m \u001b[0;34m\u001b[0m\u001b[0m\n",
      "\u001b[0;32m/usr/local/lib/python3.9/site-packages/pandas/io/parsers/readers.py\u001b[0m in \u001b[0;36m_read\u001b[0;34m(filepath_or_buffer, kwds)\u001b[0m\n\u001b[1;32m    573\u001b[0m \u001b[0;34m\u001b[0m\u001b[0m\n\u001b[1;32m    574\u001b[0m     \u001b[0;31m# Create the parser.\u001b[0m\u001b[0;34m\u001b[0m\u001b[0;34m\u001b[0m\u001b[0m\n\u001b[0;32m--> 575\u001b[0;31m     \u001b[0mparser\u001b[0m \u001b[0;34m=\u001b[0m \u001b[0mTextFileReader\u001b[0m\u001b[0;34m(\u001b[0m\u001b[0mfilepath_or_buffer\u001b[0m\u001b[0;34m,\u001b[0m \u001b[0;34m**\u001b[0m\u001b[0mkwds\u001b[0m\u001b[0;34m)\u001b[0m\u001b[0;34m\u001b[0m\u001b[0;34m\u001b[0m\u001b[0m\n\u001b[0m\u001b[1;32m    576\u001b[0m \u001b[0;34m\u001b[0m\u001b[0m\n\u001b[1;32m    577\u001b[0m     \u001b[0;32mif\u001b[0m \u001b[0mchunksize\u001b[0m \u001b[0;32mor\u001b[0m \u001b[0miterator\u001b[0m\u001b[0;34m:\u001b[0m\u001b[0;34m\u001b[0m\u001b[0;34m\u001b[0m\u001b[0m\n",
      "\u001b[0;32m/usr/local/lib/python3.9/site-packages/pandas/io/parsers/readers.py\u001b[0m in \u001b[0;36m__init__\u001b[0;34m(self, f, engine, **kwds)\u001b[0m\n\u001b[1;32m    931\u001b[0m \u001b[0;34m\u001b[0m\u001b[0m\n\u001b[1;32m    932\u001b[0m         \u001b[0mself\u001b[0m\u001b[0;34m.\u001b[0m\u001b[0mhandles\u001b[0m\u001b[0;34m:\u001b[0m \u001b[0mIOHandles\u001b[0m \u001b[0;34m|\u001b[0m \u001b[0;32mNone\u001b[0m \u001b[0;34m=\u001b[0m \u001b[0;32mNone\u001b[0m\u001b[0;34m\u001b[0m\u001b[0;34m\u001b[0m\u001b[0m\n\u001b[0;32m--> 933\u001b[0;31m         \u001b[0mself\u001b[0m\u001b[0;34m.\u001b[0m\u001b[0m_engine\u001b[0m \u001b[0;34m=\u001b[0m \u001b[0mself\u001b[0m\u001b[0;34m.\u001b[0m\u001b[0m_make_engine\u001b[0m\u001b[0;34m(\u001b[0m\u001b[0mf\u001b[0m\u001b[0;34m,\u001b[0m \u001b[0mself\u001b[0m\u001b[0;34m.\u001b[0m\u001b[0mengine\u001b[0m\u001b[0;34m)\u001b[0m\u001b[0;34m\u001b[0m\u001b[0;34m\u001b[0m\u001b[0m\n\u001b[0m\u001b[1;32m    934\u001b[0m \u001b[0;34m\u001b[0m\u001b[0m\n\u001b[1;32m    935\u001b[0m     \u001b[0;32mdef\u001b[0m \u001b[0mclose\u001b[0m\u001b[0;34m(\u001b[0m\u001b[0mself\u001b[0m\u001b[0;34m)\u001b[0m\u001b[0;34m:\u001b[0m\u001b[0;34m\u001b[0m\u001b[0;34m\u001b[0m\u001b[0m\n",
      "\u001b[0;32m/usr/local/lib/python3.9/site-packages/pandas/io/parsers/readers.py\u001b[0m in \u001b[0;36m_make_engine\u001b[0;34m(self, f, engine)\u001b[0m\n\u001b[1;32m   1215\u001b[0m             \u001b[0;31m# \"Union[str, PathLike[str], ReadCsvBuffer[bytes], ReadCsvBuffer[str]]\"\u001b[0m\u001b[0;34m\u001b[0m\u001b[0;34m\u001b[0m\u001b[0m\n\u001b[1;32m   1216\u001b[0m             \u001b[0;31m# , \"str\", \"bool\", \"Any\", \"Any\", \"Any\", \"Any\", \"Any\"\u001b[0m\u001b[0;34m\u001b[0m\u001b[0;34m\u001b[0m\u001b[0m\n\u001b[0;32m-> 1217\u001b[0;31m             self.handles = get_handle(  # type: ignore[call-overload]\n\u001b[0m\u001b[1;32m   1218\u001b[0m                 \u001b[0mf\u001b[0m\u001b[0;34m,\u001b[0m\u001b[0;34m\u001b[0m\u001b[0;34m\u001b[0m\u001b[0m\n\u001b[1;32m   1219\u001b[0m                 \u001b[0mmode\u001b[0m\u001b[0;34m,\u001b[0m\u001b[0;34m\u001b[0m\u001b[0;34m\u001b[0m\u001b[0m\n",
      "\u001b[0;32m/usr/local/lib/python3.9/site-packages/pandas/io/common.py\u001b[0m in \u001b[0;36mget_handle\u001b[0;34m(path_or_buf, mode, encoding, compression, memory_map, is_text, errors, storage_options)\u001b[0m\n\u001b[1;32m    787\u001b[0m         \u001b[0;32mif\u001b[0m \u001b[0mioargs\u001b[0m\u001b[0;34m.\u001b[0m\u001b[0mencoding\u001b[0m \u001b[0;32mand\u001b[0m \u001b[0;34m\"b\"\u001b[0m \u001b[0;32mnot\u001b[0m \u001b[0;32min\u001b[0m \u001b[0mioargs\u001b[0m\u001b[0;34m.\u001b[0m\u001b[0mmode\u001b[0m\u001b[0;34m:\u001b[0m\u001b[0;34m\u001b[0m\u001b[0;34m\u001b[0m\u001b[0m\n\u001b[1;32m    788\u001b[0m             \u001b[0;31m# Encoding\u001b[0m\u001b[0;34m\u001b[0m\u001b[0;34m\u001b[0m\u001b[0m\n\u001b[0;32m--> 789\u001b[0;31m             handle = open(\n\u001b[0m\u001b[1;32m    790\u001b[0m                 \u001b[0mhandle\u001b[0m\u001b[0;34m,\u001b[0m\u001b[0;34m\u001b[0m\u001b[0;34m\u001b[0m\u001b[0m\n\u001b[1;32m    791\u001b[0m                 \u001b[0mioargs\u001b[0m\u001b[0;34m.\u001b[0m\u001b[0mmode\u001b[0m\u001b[0;34m,\u001b[0m\u001b[0;34m\u001b[0m\u001b[0;34m\u001b[0m\u001b[0m\n",
      "\u001b[0;31mFileNotFoundError\u001b[0m: [Errno 2] No such file or directory: 'data/201704health.csv'"
     ]
    }
   ],
   "source": [
    "df=pd.read_csv(\"data/201704health.csv\",encoding=\"utf8\")\n"
   ]
  },
  {
   "cell_type": "code",
   "execution_count": null,
   "id": "25171b61",
   "metadata": {},
   "outputs": [],
   "source": [
    "## https://ja.wikipedia.org/wiki/トップレベルドメイン一覧"
   ]
  },
  {
   "cell_type": "code",
   "execution_count": 10,
   "id": "d85fc39c",
   "metadata": {},
   "outputs": [],
   "source": [
    "url=\"https://ja.wikipedia.org/wiki/%E3%83%88%E3%83%83%E3%83%97%E3%83%AC%E3%83%99%E3%83%AB%E3%83%89%E3%83%A1%E3%82%A4%E3%83%B3%E4%B8%80%E8%A6%A7\"\n",
    "tables=pd.read_html(url)\n"
   ]
  },
  {
   "cell_type": "code",
   "execution_count": 13,
   "id": "9f4767b4",
   "metadata": {},
   "outputs": [
    {
     "data": {
      "text/plain": [
       "40"
      ]
     },
     "execution_count": 13,
     "metadata": {},
     "output_type": "execute_result"
    }
   ],
   "source": [
    "len(tables)"
   ]
  },
  {
   "cell_type": "code",
   "execution_count": 15,
   "id": "6eedaece",
   "metadata": {},
   "outputs": [
    {
     "data": {
      "text/plain": [
       "[    0                                                  1\n",
       " 0 NaN  この記事の一部（New TLDs: https://newgtlds.icann.org/e...,\n",
       "    Name               Entity                     Administrator[6]  \\\n",
       " 0  .com       商用(commercial)                                ベリサイン   \n",
       " 1  .org     団体(organization)        Public Interest Registry（英語版）   \n",
       " 2  .net  ネットワークインフラ(network)                                ベリサイン   \n",
       " 3  .int                 国際機関  Internet Assigned Numbers Authority   \n",
       " 4  .edu      アメリカ合衆国内の高等教育機関              Educause（英語版）（ベリサインが代行)   \n",
       " 5  .gov          アメリカ合衆国連邦政府          アメリカ合衆国一般調達局（英語版）（ベリサインが代行)   \n",
       " 6  .mil         アメリカ合衆国の軍事機関                          アメリカ合衆国国防総省   \n",
       " \n",
       "                                                Notes  IDN DNSSEC  \n",
       " 0  一般に開かれたドメインである。どんな個人や団体でも登録することを許される。当初は営利目的の企...  Yes    Yes  \n",
       " 1  一般に開かれたドメインである。どんな個人や団体でも登録することを許される。当初は非営利団体に...  Yes    Yes  \n",
       " 2  一般に開かれたドメインである。どんな個人や団体でも登録することを許される。当初は、コンピュー...  Yes    Yes  \n",
       " 3  .int ドメインは、2つ以上の国の間の条約によって設立された組織・機関・運動のみに利用が厳...   No     No  \n",
       " 4  .edu ドメインは、小学校(primary school)、中学校(middle scho...   No    Yes  \n",
       " 5  .gov ドメインは、アメリカ合衆国の政府機関および州・郡・地方自治体機関に利用が限定されている。   No    Yes  \n",
       " 6                        .mil ドメインはアメリカ軍に利用が限定されている。   No    Yes  ,\n",
       "   Infrastructure                                Entity  \\\n",
       " 0          .arpa  \"Address and Routing Parameter Area\"   \n",
       " \n",
       "                                                Notes IDN DNSSEC  \n",
       " 0  初期のインターネットにおいて高等研究計画局(ARPA)に割り当てられていた。現在ではDNSの...  No    Yes  ,\n",
       "              0                                                  1\n",
       " 0           凡例                                                 凡例\n",
       " 1         Name  国別コードトップレベルドメイン。ISO 3166-1 alpha-2に基づいているが、いくつ...\n",
       " 2       Entity                                               国・地域\n",
       " 3  Explanation                                           国・地域の現地名\n",
       " 4        Notes                                                 説明\n",
       " 5          IDN                                    国際化ドメイン名(IDN)対応\n",
       " 6       DNSSEC                  DNS Security ExtensionsのDSレコードに存在\n",
       " 7          SLD                            セカンドレベルドメインの登録が許可されているか\n",
       " 8         IPv6                           レジストリがIPv6アクセスに完全対応しているか,\n",
       "     Name        Entity          Explanation  \\\n",
       " 0    .ac       アセンション島                  NaN   \n",
       " 1    .ad          アンドラ                  NaN   \n",
       " 2    .ae      アラブ首長国連邦                  NaN   \n",
       " 3    .af       アフガニスタン                  NaN   \n",
       " 4    .ag  アンティグア・バーブーダ                  NaN   \n",
       " ..   ...           ...                  ...   \n",
       " 248  .ye          イエメン                  NaN   \n",
       " 249  .yt         マヨット島                  NaN   \n",
       " 250  .za         南アフリカ  Zuid-Afrika (オランダ語)   \n",
       " 251  .zm          ザンビア                  NaN   \n",
       " 252  .zw         ジンバブエ                  NaN   \n",
       " \n",
       "                                                  Notes            IDN DNSSEC  \\\n",
       " 0    広く学術的なサイト（大学など）のために用いられる。アセンション島はイギリス領であるが、イギリ...            Yes    Yes   \n",
       " 1                        アンドラにおける商標または市民権が必要となる[7][8]。            NaN    Yes   \n",
       " 2                                                  NaN            NaN     No   \n",
       " 3                                                  NaN            NaN    Yes   \n",
       " 4    AGがドイツの株式会社(Aktiengesellschaft)の略称であることから、非公式に...            NaN    Yes   \n",
       " ..                                                 ...            ...    ...   \n",
       " 248                                                NaN            NaN     No   \n",
       " 249  欧州連合・スイス・ノルウェー・アイスランド・リヒテンシュタインの個人・企業に限る[cctld...  Yes[cctld 12]    Yes   \n",
       " 250                                                NaN            NaN     No   \n",
       " 251                                                NaN            NaN    Yes   \n",
       " 252                                                NaN            NaN     No   \n",
       " \n",
       "                SLD IPv6  \n",
       " 0              Yes  Yes  \n",
       " 1              Yes  NaN  \n",
       " 2              Yes  NaN  \n",
       " 3              Yes  NaN  \n",
       " 4              Yes  NaN  \n",
       " ..             ...  ...  \n",
       " 248             No  NaN  \n",
       " 249            Yes  NaN  \n",
       " 250             No  NaN  \n",
       " 251  Yes[cctld 28]  NaN  \n",
       " 252             No  NaN  \n",
       " \n",
       " [253 rows x 8 columns],\n",
       "                      ドメイン名     IDN ccTLD         国       言語              文字  \\\n",
       " 0          xn--lgbbat1ad8j      الجزائر.    アルジェリア    アラビア語          アラビア文字   \n",
       " 1               xn--y9a3aq          .հայ     アルメニア   アルメニア語         アルメニア文字   \n",
       " 2           xn--54b7fta0cc        .বাংলা   バングラデシュ    ベンガル語          ベンガル文字   \n",
       " 3                xn--90ais          .бел     ベラルーシ   ベラルーシ語           キリル文字   \n",
       " 4                 xn--90ae       .бг[37]     ブルガリア   ブルガリア語           キリル文字   \n",
       " 5               xn--fiqs8s           .中国        中国      中国語         漢字（簡体字）   \n",
       " 6               xn--fiqz9s           .中國        中国      中国語        漢字 （繁体字）   \n",
       " 7               xn--wgbh1c          مصر.      エジプト    アラビア語          アラビア文字   \n",
       " 8                xn--e1a4c           .ею      欧州連合   ブルガリア語           キリル文字   \n",
       " 9                 xn--node           .გე     ジョージア    グルジア語   グルジア文字（ムヘドルリ）   \n",
       " 10                xn--qxam       .ελ[37]      ギリシャ    ギリシア語          ギリシア文字   \n",
       " 11             xn--j6w193g           .香港        香港      中国語    漢字 （簡体字・繁体字）   \n",
       " 12             xn--h2brj9c         .भारत       インド   ヒンディー語       デーヴァナーガリー   \n",
       " 13          xn--mgbbh1a71e        بھارت.       インド   ウルドゥー語         ウルドゥー文字   \n",
       " 14           xn--fpcrj9c3d        .భారత్       インド     テルグ語           テルグ文字   \n",
       " 15             xn--gecrj9c         .ભારત       インド  グジャラート語      グジャラーティー文字   \n",
       " 16             xn--s9brj9c         .ਭਾਰਤ       インド  パンジャーブ語         グルムキー文字   \n",
       " 17       xn--xkc2dl3a5ee0h      .இந்தியா       インド     タミル語           タミル文字   \n",
       " 18             xn--45brj9c         .ভারত       インド    ベンガル語          ベンガル文字   \n",
       " 19         xn--mgba3a4f16a        ایران.       イラン    ペルシア語          ペルシア文字   \n",
       " 20             xn--mgbtx2b         عراق.       イラク    アラビア語          アラビア文字   \n",
       " 21          xn--mgbayh7gpa       الاردن.      ヨルダン    アラビア語          アラビア文字   \n",
       " 22             xn--80ao21a          .қаз    カザフスタン     カザフ語           キリル文字   \n",
       " 23             xn--mix082f           .澳门       マカオ      中国語         漢字（簡体字）   \n",
       " 24             xn--mix891f           .澳門       マカオ      中国語         漢字（繁体字）   \n",
       " 25               xn--d1alf          .мкд    北マケドニア   マケドニア語           キリル文字   \n",
       " 26          xn--mgbx4cd0ab       مليسيا.     マレーシア     マレー語  アラビア文字（ジャウィ文字）   \n",
       " 27               xn--l1acc          .мон      モンゴル    モンゴル語           キリル文字   \n",
       " 28         xn--mgbc0a9azcg       المغرب.      モロッコ    アラビア語          アラビア文字   \n",
       " 29            xn--mgb9awbf         عمان.      オマーン    アラビア語          アラビア文字   \n",
       " 30       xn--mgbai9azgqp6j      پاکستان.     パキスタン   ウルドゥー語         ウルドゥー文字   \n",
       " 31           xn--ygbi2ammx       فلسطين.     パレスチナ    アラビア語          アラビア文字   \n",
       " 32              xn--wgbl6a          قطر.      カタール    アラビア語          アラビア文字   \n",
       " 33                xn--p1ai           .рф       ロシア     ロシア語           キリル文字   \n",
       " 34       xn--mgberp4a5d4ar     السعودية.   サウジアラビア    アラビア語          アラビア文字   \n",
       " 35              xn--90a3ac          .срб      セルビア    セルビア語           キリル文字   \n",
       " 36           xn--yfro4i67o          .新加坡    シンガポール      中国語    漢字 （簡体字・繁体字）   \n",
       " 37  xn--clchc0ea0b2g2a9gcd  .சிங்கப்பூர்    シンガポール     タミル語           タミル文字   \n",
       " 38            xn--3e0b707e           .한국        韓国      韓国語            ハングル   \n",
       " 39           xn--fzc2c9e2c         .ලංකා     スリランカ    シンハラ語          シンハラ文字   \n",
       " 40        xn--xkc2al3hye2a       .இலங்கை     スリランカ     タミル語           タミル文字   \n",
       " 41            xn--mgbpl2fh        سودان.      スーダン    アラビア語          アラビア文字   \n",
       " 42            xn--ogbpf8fl        سورية.       シリア    アラビア語          アラビア文字   \n",
       " 43             xn--kprw13d           .台湾      中華民国      中国語         漢字（簡体字）   \n",
       " 44             xn--kpry57d           .台灣      中華民国      中国語         漢字（繁体字）   \n",
       " 45              xn--o3cw4h          .ไทย        タイ      タイ語            タイ文字   \n",
       " 46             xn--pgbs0dh         تونس.     チュニジア    アラビア語          アラビア文字   \n",
       " 47               xn--j1amh          .укр     ウクライナ   ウクライナ語           キリル文字   \n",
       " 48          xn--mgbaam7a8h       امارات.  アラブ首長国連邦    アラビア語          アラビア文字   \n",
       " 49            xn--mgb2ddes        اليمن.      イエメン    アラビア語          アラビア文字   \n",
       " \n",
       "                           転記                     備考 他のccTLD   DNSSEC  \n",
       " 0                 al Jaza'ir                    NaN     .dz       No  \n",
       " 1                        hay                    未使用     .am      Yes  \n",
       " 2                     Bangla                    未委任     .bd       No  \n",
       " 3                        bel                    NaN     .by       No  \n",
       " 4                         bg                    未委任     .bg       No  \n",
       " 5                   Zhōngguó                    NaN     .cn      Yes  \n",
       " 6                   Zhōngguó                    NaN     .cn      Yes  \n",
       " 7                  Masr [38]                    NaN     .eg      Yes  \n",
       " 8                        eyu                    未委任     .eu       No  \n",
       " 9                         GE                    未使用     .ge       No  \n",
       " 10                        el                    未使用     .gr       No  \n",
       " 11  Hoeng1 gong2 / Xiānggǎng                    NaN     .hk       No  \n",
       " 12                    Bhārat   2014年8月27日より利用可能[39]     .in      Yes  \n",
       " 13                    Bhārat                    未使用     .in      Yes  \n",
       " 14                   Bhārata                    未使用     .in      Yes  \n",
       " 15                    Bhārat                    未使用     .in      Yes  \n",
       " 16                    Bhārat                    未使用     .in      Yes  \n",
       " 17                    Intiyā  Became available 2015     .in      Yes  \n",
       " 18                    Bharôt                    未使用     .in      Yes  \n",
       " 19                      Īrān                    NaN     .ir       No  \n",
       " 20                      Iraq                    未使用     .iq       No  \n",
       " 21                 al 'Urdun                    NaN     .jo       No  \n",
       " 22                       qaz                    NaN     .kz       No  \n",
       " 23          Ou3 mun4 / Àomén                    未委任     .mo       No  \n",
       " 24          Ou3 mun4 / Àomén                    未委任     .mo       No  \n",
       " 25                       mkd                    NaN     .mk       No  \n",
       " 26                  Malaysia                    NaN     .my      Yes  \n",
       " 27                       mon                    NaN     .mn      Yes  \n",
       " 28                al Maghrib                    NaN     .ma       No  \n",
       " 29                      Oman                    NaN     .om       No  \n",
       " 30                  Pakistan                    未委任     .pk       No  \n",
       " 31                  Filastīn                    NaN     .ps       No  \n",
       " 32                     Qatar                    NaN     .qa       No  \n",
       " 33                        rf                    NaN     .ru      Yes  \n",
       " 34             as-Sa'ūdiyyah                    NaN     .sa       No  \n",
       " 35                       srb                    NaN     .rs       No  \n",
       " 36                  Xīnjiāpō                    NaN     .sg       No  \n",
       " 37                 Cinkappūr                    NaN     .sg       No  \n",
       " 38                   Han-guk                    NaN     .kr      Yes  \n",
       " 39                     Lanka                    NaN     .lk  部分的[22]  \n",
       " 40                   Ilangai                    NaN     .lk  部分的[22]  \n",
       " 41                     Sudan                    NaN     .sd       No  \n",
       " 42                     Sūryā                    NaN     .sy       No  \n",
       " 43                    Táiwān                    NaN     .tw      Yes  \n",
       " 44                    Táiwān                    NaN     .tw      Yes  \n",
       " 45                      Thai                    NaN     .th      Yes  \n",
       " 46                     Tūnis                    NaN     .tn      Yes  \n",
       " 47                       ukr                    NaN     .ua       No  \n",
       " 48                    Imārāt                    NaN     .ae       No  \n",
       " 49                  al Yemen                    未委任     .ye       No  ,\n",
       "              Name                      Target market  \\\n",
       " 0        .academy                academic institutes   \n",
       " 1     .accountant   accountants and accounting firms   \n",
       " 2    .accountants   accountants and accounting firms   \n",
       " 3         .active                            general   \n",
       " 4          .actor                             actors   \n",
       " ..            ...                                ...   \n",
       " 342          .wtf                            general   \n",
       " 343          .xxx  adult entertainment (pornography)   \n",
       " 344          .xyz                            general   \n",
       " 345         .yoga                                 ヨガ   \n",
       " 346         .zone                            general   \n",
       " \n",
       "                                           Restrictions      Operator/Registry  \\\n",
       " 0                                                    —         ドーナツ[donuts 1]   \n",
       " 1                                                    —      Famous Four Media   \n",
       " 2                                                    —         ドーナツ[donuts 2]   \n",
       " 3                                                    —     The Active Network   \n",
       " 4                                                    —   Rightside Group[n 1]   \n",
       " ..                                                 ...                    ...   \n",
       " 342                                                  —                   ドーナツ   \n",
       " 343  For sites providing sexually explicit content,...                    NaN   \n",
       " 344                                                  —                XYZ.com   \n",
       " 345                                                  —  Minds + Machines[n 3]   \n",
       " 346                                                  —                   ドーナツ   \n",
       " \n",
       "          IDN DNSSEC  \n",
       " 0        Yes    Yes  \n",
       " 1         不明    Yes  \n",
       " 2        Yes    Yes  \n",
       " 3         不明    Yes  \n",
       " 4        Yes    Yes  \n",
       " ..       ...    ...  \n",
       " 342      Yes    Yes  \n",
       " 343      Yes    Yes  \n",
       " 344  Yes[83]    Yes  \n",
       " 345      Yes    Yes  \n",
       " 346      Yes    Yes  \n",
       " \n",
       " [347 rows x 6 columns],\n",
       "       Name Translation Restrictions          Operator  \\\n",
       " 0  .maison     \"house\"            —  ドーナツ[donuts 122]   \n",
       " \n",
       "                                     IDN DNSSEC  \n",
       " 0  Chinese, French, German, Spanish[84]    Yes  ,\n",
       "        Name                                        Translation  \\\n",
       " 0  .abogado                                           \"lawyer\"   \n",
       " 1   .gratis                                             \"free\"   \n",
       " 2   .futbol                                               サッカー   \n",
       " 3   .juegos                                            \"games\"   \n",
       " 4      .soy  \"I am\"Also refers to the 大豆 and its food deriv...   \n",
       " 5   .tienda                                    \"shop\", \"store\"   \n",
       " 6      .uno     \"one\", for websites targeting Latino consumers   \n",
       " 7   .viajes                                           \"travel\"   \n",
       " \n",
       "                                         Restrictions               Operator  \\\n",
       " 0  To be restricted to licensed lawyers or law fi...  Minds + Machines[n 3]   \n",
       " 1                                                  —       ドーナツ[donuts 123]   \n",
       " 2                                                  —   Rightside Group[n 1]   \n",
       " 3                                                  —            Uniregistry   \n",
       " 4                                                  —            Google[n 2]   \n",
       " 5                                                  —                   ドーナツ   \n",
       " 6                                                  —                    NaN   \n",
       " 7                                                  —                   ドーナツ   \n",
       " \n",
       "               IDN DNSSEC  \n",
       " 0              不明    Yes  \n",
       " 1             Yes    Yes  \n",
       " 2             Yes    Yes  \n",
       " 3         Yes[43]    Yes  \n",
       " 4  ラテン文字, 日本語[86]    Yes  \n",
       " 5         Spanish    Yes  \n",
       " 6         Spanish    Yes  \n",
       " 7         Spanish    Yes  ,\n",
       "             Name    Translation  \\\n",
       " 0          .haus        \"house\"   \n",
       " 1    .immobilien  \"real estate\"   \n",
       " 2         .jetzt          \"now\"   \n",
       " 3        .kaufen          \"buy\"   \n",
       " 4         .reise       \"travel\"   \n",
       " 5        .reisen    \"traveling\"   \n",
       " 6        .schule       \"school\"   \n",
       " 7  .versicherung    \"insurance\"   \n",
       " \n",
       "                                         Restrictions              Operator  \\\n",
       " 0                                                  —  Rightside Group[n 1]   \n",
       " 1                                                  —  Rightside Group[n 1]   \n",
       " 2                                                  —       New TLD Company   \n",
       " 3                                                  —  Rightside Group[n 1]   \n",
       " 4  Must be an eligible member of the travel busin...              dotreise   \n",
       " 5                                                  —      ドーナツ[donuts 124]   \n",
       " 6                                                  —      ドーナツ[donuts 125]   \n",
       " 7                                                  —                   NaN   \n",
       " \n",
       "           IDN DNSSEC  \n",
       " 0         Yes    Yes  \n",
       " 1  German[10]    Yes  \n",
       " 2         Yes    Yes  \n",
       " 3  German[10]    Yes  \n",
       " 4   ラテン文字[10]    Yes  \n",
       " 5  German[10]    Yes  \n",
       " 6         Yes    Yes  \n",
       " 7   ラテン文字[10]    Yes  ,\n",
       "        Name                    Translation Restrictions       Operator IDN  \\\n",
       " 0     .desi  ヒンディー語で、南アジアの人々や文化を指す言葉デシを参照。            —  Desi Networks  不明   \n",
       " 1  .shiksha                    ヒンディー語で「教育」            —        Afilias  不明   \n",
       " \n",
       "   DNSSEC  \n",
       " 0    Yes  \n",
       " 1    Yes  ,\n",
       "     Name                                        翻訳  \\\n",
       " 0  .casa                                       \"家\"   \n",
       " 1  .cafe                         カフェ・コーヒーショップ・コーヒー   \n",
       " 2  .immo              フランス語・ドイツ語・オランダ語・イタリア語で「不動産」   \n",
       " 3  .moda                                  \"ファッション\"   \n",
       " 4  .voto  \"投票\", for election and campaign websites   \n",
       " \n",
       "                                         Restrictions               Operator  \\\n",
       " 0                                                  —  Minds + Machines[n 3]   \n",
       " 1                                                  —                   ドーナツ   \n",
       " 2                                                  —       ドーナツ[donuts 126]   \n",
       " 3                                                  —   Rightside Group[n 1]   \n",
       " 4  Must use the domain in connection with a \"clea...                Afilias   \n",
       " \n",
       "            IDN DNSSEC  \n",
       " 0          Yes    Yes  \n",
       " 1          Yes    Yes  \n",
       " 2          Yes    Yes  \n",
       " 3  Spanish[10]    Yes  \n",
       " 4           不明    Yes  ,\n",
       "             Name                        Entity Type  \\\n",
       " 0           .bar                              バーとパブ   \n",
       " 1          .bank                                 銀行   \n",
       " 2          .coop                               協同組合   \n",
       " 3   .enterprises              business associations   \n",
       " 4    .industries              industrial businesses   \n",
       " 5     .institute  Established business associations   \n",
       " 6          .ltda                           南アメリカの企業   \n",
       " 7           .pub                              バーとパブ   \n",
       " 8       .realtor                            不動産仲買業者   \n",
       " 9          .reit                      REIT（不動産投資信託）   \n",
       " 10         .rest                              レストラン   \n",
       " 11   .restaurant                              レストラン   \n",
       " 12         .sarl              有限会社, Francophone LLC   \n",
       " 13     .ventures              funding for start-ups   \n",
       " \n",
       "                                          Restrictions  \\\n",
       " 0                                                   —   \n",
       " 1        Restricted to banks and savings associations   \n",
       " 2                              ロッチデール原則で定義される協同組合に限定。   \n",
       " 3                                                   —   \n",
       " 4                                                   —   \n",
       " 5                                                   —   \n",
       " 6          ブラジル・コロンビア・チリ・エクアドルのLTDA（LLCのような物）に限定[90]。   \n",
       " 7                                                   —   \n",
       " 8   全米リアルター協会（英語版）とカナダ不動産協会（英語版）およびそれらに関連する団体の会員に限...   \n",
       " 9   Restricted to REITs, as determined by national...   \n",
       " 10                                                  —   \n",
       " 11                                                  —   \n",
       " 12                                                  —   \n",
       " 13                                                  —   \n",
       " \n",
       "                                              Operator      IDN DNSSEC  \n",
       " 0                                          Punto 2012      Yes    Yes  \n",
       " 1                                                 NaN       不明    Yes  \n",
       " 2                                      DotCooperation       No     No  \n",
       " 3                                    ドーナツ[donuts 127]      Yes    Yes  \n",
       " 4                                    ドーナツ[donuts 128]      Yes    Yes  \n",
       " 5                                    ドーナツ[donuts 129]      Yes    Yes  \n",
       " 6                                           InterNetX       不明    Yes  \n",
       " 7                                Rightside Group[n 1]      Yes    Yes  \n",
       " 8                                 Real Estate Domains       不明    Yes  \n",
       " 9   National Association of Real Estate Investment...       不明    Yes  \n",
       " 10                                         Punto 2012  Yes[93]    Yes  \n",
       " 11                                   ドーナツ[donuts 130]      Yes    Yes  \n",
       " 12                                   ドーナツ[donuts 131]      Yes    Yes  \n",
       " 13                                               ドーナツ      Yes    Yes  ,\n",
       "                   ドメイン名      IDN      言語            文字             転記  \\\n",
       " 0        xn--4gbrim[94]    موقع.   アラビア語        アラビア文字         mawqiʿ   \n",
       " 1      xn--ngbc5azd[94]    شبكة.   アラビア語        アラビア文字        shabaka   \n",
       " 2      xn--mgbab2bd[94]   بازار.   ペルシア語        アラビア文字          bâzâr   \n",
       " 3       xn--q9jyb4c[94]     .みんな     日本語           平仮名          minna   \n",
       " 4       xn--3ds443g[94]      .在线     中国語       漢字（簡体字）        zàixiàn   \n",
       " 5    xn--fiq228c5hs[94]     .中文网     中国語       漢字（簡体字）  Zhōngwén wǎng   \n",
       " 6       xn--6frz82g[94]      .移动     中国語       漢字（簡体字）         yídòng   \n",
       " 7       xn--ses554g[94]      .网址     中国語       漢字（簡体字）        wǎngzhǐ   \n",
       " 8        xn--io0a7i[94]      .网络     中国語       漢字（簡体字）        wǎngluò   \n",
       " 9        xn--55qx5d[94]      .公司     中国語   漢字（簡体字・繁体字）         gōngsī   \n",
       " 10       xn--czru2d[94]      .商城     中国語   漢字（簡体字・繁体字）     shāngchéng   \n",
       " 11        xn--nqv7f[94]      .机构     中国語       漢字（簡体字）          jīgòu   \n",
       " 12   xn--6qq986b3xl[94]     .我爱你     中国語       漢字（簡体字）       wǒ ài nǐ   \n",
       " 13      xn--czr694b[94]      .商标     中国語       漢字（簡体字）      shāngbiāo   \n",
       " 14      xn--rhqv96g[94]      .世界     中国語  漢字 （簡体字・繁体字）         shìjiè   \n",
       " 15      xn--3bst00m[94]      .集团     中国語       漢字（簡体字）         jítuán   \n",
       " 16      xn--d1acj3b[94]    .дети    ロシア語         キリル文字          dyeti   \n",
       " 17     xn--80asehdb[94]  .онлайн    ロシア語         キリル文字         onlain   \n",
       " 18        xn--c1avg[94]     .орг    ロシア語         キリル文字            org   \n",
       " 19       xn--80aswg[94]    .сайт    ロシア語         キリル文字           sait   \n",
       " 20  xn--i1b6b1a6a2e[94]   .संगठन  ヒンディー語     デーヴァナーガリー     saṅgaṭhana   \n",
       " \n",
       "                                         翻訳  \\\n",
       " 0                     \"site\" or \"location\"   \n",
       " 1                                \"network\"   \n",
       " 2                     \"market\" or \"bazaar\"   \n",
       " 3                               \"everyone\"   \n",
       " 4                                 \"online\"   \n",
       " 5   \"(written) Chinese (language) network\"   \n",
       " 6                   \"movement\" or \"mobile\"   \n",
       " 7           \"network address\" or \"website\"   \n",
       " 8                                \"network\"   \n",
       " 9     \"business organization\" or \"company\"   \n",
       " 10                                  \"mall\"   \n",
       " 11                                \"agency\"   \n",
       " 12                            \"I love you\"   \n",
       " 13                             \"trademark\"   \n",
       " 14                                 \"world\"   \n",
       " 15                          \"conglomerate\"   \n",
       " 16                    \"kids\" or \"children\"   \n",
       " 17                                \"online\"   \n",
       " 18                 \"org\" or \"organization\"   \n",
       " 19                                  \"site\"   \n",
       " 20                          \"organization\"   \n",
       " \n",
       "                                                 Notes DNSSEC  \n",
       " 0                                            Open TLD    Yes  \n",
       " 1                                            Open TLD    Yes  \n",
       " 2                                            Open TLD    Yes  \n",
       " 3                                       Open TLD [95]    Yes  \n",
       " 4   Open TLD.The Chinese Government quickly bought...    Yes  \n",
       " 5   Open TLD.The Chinese Government quickly bought...    Yes  \n",
       " 6                                            Open TLD    Yes  \n",
       " 7                                            Open TLD    Yes  \n",
       " 8                                            Open TLD    Yes  \n",
       " 9                                            Open TLD    Yes  \n",
       " 10                                           Open TLD    Yes  \n",
       " 11                                           Open TLD    Yes  \n",
       " 12                                           Open TLD    Yes  \n",
       " 13                                           Open TLD    Yes  \n",
       " 14                                           Open TLD    Yes  \n",
       " 15                                           Open TLD    Yes  \n",
       " 16                                           Open TLD    Yes  \n",
       " 17                                           Open TLD    Yes  \n",
       " 18                                           Open TLD    Yes  \n",
       " 19                                           Open TLD    Yes  \n",
       " 20                                           Open TLD    Yes  ,\n",
       "         Name   Entity Notes IDN DNSSEC\n",
       " 0  .capetown   ケープタウン  [97]  不明    Yes\n",
       " 1    .durban     ダーバン  [98]  不明    Yes\n",
       " 2    .joburg  ヨハネスブルグ  [99]  不明    Yes,\n",
       "          Name      Entity                                              Notes  \\\n",
       " 0       .asia    アジア太平洋地域                 アジア・オーストラリア・太平洋地域の企業・団体・個人のためのドメイン   \n",
       " 1        .krd   クルディスタン地域               クルディスタン地域の企業・団体・個人のためのドメイン[100][101]   \n",
       " 2      .kyoto      日本・京都府                                              [102]   \n",
       " 3     .nagoya     日本・名古屋市                                              [103]   \n",
       " 4    .okinawa      日本・沖縄県                                                NaN   \n",
       " 5     .ryukyu     日本・琉球諸島                                              [104]   \n",
       " 6     .taipei      台湾・台北市                                              [105]   \n",
       " 7      .tatar  タタール人および地域  タタールスタン共和国はロシア連邦の一部であるが、このドメイン名はより広い「タタール」全体のこ...   \n",
       " 8      .tokyo      日本・東京都                                              [107]   \n",
       " 9   .yokohama      日本・横浜市                                              [108]   \n",
       " 10     .osaka      日本・大阪府                                              [109]   \n",
       " \n",
       "                 IDN DNSSEC  \n",
       " 0   中国語・日本語・韓国語[10]    Yes  \n",
       " 1              クルド語    Yes  \n",
       " 2               NaN    NaN  \n",
       " 3           日本語[10]    Yes  \n",
       " 4               日本語    Yes  \n",
       " 5                不明    Yes  \n",
       " 6                不明    Yes  \n",
       " 7                不明    Yes  \n",
       " 8               Yes    Yes  \n",
       " 9          Japanese    Yes  \n",
       " 10               不明     不明  ,\n",
       "            Name                          Entity  \\\n",
       " 0       .alsace                    フランス・アルザス地域圏   \n",
       " 1    .amsterdam                    オランダ・アムステルダム   \n",
       " 2    .barcelona                      スペイン・バルセロナ   \n",
       " 3       .bayern                      ドイツ・バイエルン州   \n",
       " 4       .berlin                        ドイツ・ベルリン   \n",
       " 5     .brussels                     ベルギー・ブリュッセル   \n",
       " 6     .budapest                     ハンガリー・ブダペスト   \n",
       " 7          .bzh                  フランス・ブルターニュ地域圏   \n",
       " 8          .cat  カタルーニャ州; カタルーニャ語話者およびカタルーニャ文化圏   \n",
       " 9      .cologne                         ドイツ・ケルン   \n",
       " 10     .corsica                      フランス・コルシカ島   \n",
       " 11       .cymru                           ウェールズ   \n",
       " 12         .eus                           バスク地方   \n",
       " 13         .frl                        フリースラント州   \n",
       " 14         .gal                      スペイン・ガリシア州   \n",
       " 15        .gent                        ベルギー・ヘント   \n",
       " 16     .hamburg                       ドイツ・ハンブルク   \n",
       " 17       .irish              アイルランドおよびアイルランド文化圏   \n",
       " 18       .koeln                         ドイツ・ケルン   \n",
       " 19      .london                       イギリス・ロンドン   \n",
       " 20      .madrid                      スペイン・マドリード   \n",
       " 21      .moscow                        ロシア・モスクワ   \n",
       " 22         .nrw           ドイツ・ノルトライン＝ヴェストファーレン州   \n",
       " 23       .paris                         フランス・パリ   \n",
       " 24        .ruhr                       ドイツ・ルール地方   \n",
       " 25    .saarland                    ドイツ・ ザールラント州   \n",
       " 26        .scot                         スコットランド   \n",
       " 27       .tirol             チロル（オーストリアとイタリアに跨る）   \n",
       " 28  .vlaanderen                      ベルギー・フランドル   \n",
       " 29       .wales                           ウェールズ   \n",
       " 30        .wien                     オーストリア・ウィーン   \n",
       " 31     .zuerich                      スイス・チューリッヒ   \n",
       " \n",
       "                                                 Notes              IDN DNSSEC  \n",
       " 0                                               [110]               不明    Yes  \n",
       " 1                                               [111]               不明    Yes  \n",
       " 2                                                 NaN               不明    Yes  \n",
       " 3                                               [112]              Yes    Yes  \n",
       " 4                                               [113]  ラテン文字・キリル文字[10]    Yes  \n",
       " 5                                               [114]        ラテン文字[10]    Yes  \n",
       " 6                                               [115]               不明    Yes  \n",
       " 7                                   ブルトン語でBreizh[116]        フランス語[10]    Yes  \n",
       " 8          カタルーニャ語を使用しているか、カタルーニャ文化に関連するWebサイトのみ[117]      Catalan[10]    Yes  \n",
       " 9                                               [118]              Yes    Yes  \n",
       " 10                    TLD Related to Corsican Culture               不明    Yes  \n",
       " 11                                              [119]        Welsh[10]    Yes  \n",
       " 12  バスク語でEuskal Herria。バスク語を使用しているサイトに限られ、定期的にチェック...               不明    Yes  \n",
       " 13                              （西）フリジア語でFryslân[121]               不明    Yes  \n",
       " 14             ガリシア語を使用しているか、ガリシア文化に関連するWebサイトのみ[122]               不明    Yes  \n",
       " 15                                              [123]               不明    Yes  \n",
       " 16                                                NaN        ラテン文字[10]    Yes  \n",
       " 17                                                NaN               不明    Yes  \n",
       " 18                                              [124]              Yes    Yes  \n",
       " 19                                              [125]              Yes    Yes  \n",
       " 20                                              [126]               不明    Yes  \n",
       " 21                                              [127]              Yes    Yes  \n",
       " 22                                              [128]              Yes    Yes  \n",
       " 23                                              [129]       French[10]    Yes  \n",
       " 24                                              [130]       German[10]    Yes  \n",
       " 25                                              [131]               不明    Yes  \n",
       " 26                                              [132]               不明    Yes  \n",
       " 27                                              [133]          Yes[10]    Yes  \n",
       " 28                                              [134]        ラテン文字[10]    Yes  \n",
       " 29                                              [119]        Welsh[10]    Yes  \n",
       " 30                                              [135]        ラテン文字[10]    Yes  \n",
       " 31                                              [136]               不明    Yes  ,\n",
       "       Name          Entity  Notes          IDN DNSSEC\n",
       " 0   .miami       アメリカ・マイアミ  [137]           不明    Yes\n",
       " 1     .nyc    アメリカ・ニューヨーク市  [138]  Spanish[10]    Yes\n",
       " 2  .quebec       カナダ・ケベック州  [139]           不明    Yes\n",
       " 3   .vegas  アメリカ・ラスベガス・バレー  [140]          Yes    Yes,\n",
       "          Name              Entity  Notes        IDN DNSSEC\n",
       " 0       .kiwi  ニュージーランド人（別名 キーウィ）  [141]  ラテン文字[10]    Yes\n",
       " 1  .melbourne       オーストラリア・メルボルン  [142]         不明    Yes\n",
       " 2     .sydney        オーストラリア・シドニー  [143]         不明    Yes,\n",
       "    Name         Entity  Notes         IDN DNSSEC\n",
       " 0  .lat        ラテンアメリカ  [144]  スペイン語[145]    Yes\n",
       " 1  .rio  ブラジル・リオデジャネイロ  [146]          不明    Yes,\n",
       "        DNS name      IDN    Entity Language Script Transliteration  Notes  \\\n",
       " 0   xn--1qqw23a      .佛山    中国・仏山市      中国語     漢字          fóshān  [147]   \n",
       " 1  xn--80adxhks  .москва  ロシア・モスクワ     ロシア語  キリル文字          moskva  [148]   \n",
       " \n",
       "   Other TLD     IDN.1 DNSSEC  \n",
       " 0       NaN       Yes    Yes  \n",
       " 1   .moscow  ロシア語[10]    Yes  ,\n",
       "             Name                                             Entity  Notes  \\\n",
       " 0     .allfinanz  Allfinanz Deutsche Vermögensberatung Aktienges...  [149]   \n",
       " 1       .android                                   Google (Android)  [150]   \n",
       " 2         .apple                                              Apple  [151]   \n",
       " 3     .aquarelle                                      Aquarelle.com  [152]   \n",
       " 4           .axa                                                アクサ  [153]   \n",
       " ..           ...                                                ...    ...   \n",
       " 63  .williamhill                                            ウィリアムヒル  [212]   \n",
       " 64          .wme                         ウィリアム・モリス・エンデヴァー・エンターテイメント  [213]   \n",
       " 65          .wtc                                ワールドトレードセンター協会（英語版）  [214]   \n",
       " 66       .yandex                                             ヤンデックス  [215]   \n",
       " 67      .youtube                                   Google (YouTube)  [216]   \n",
       " \n",
       "         IDN DNSSEC  \n",
       " 0        不明    Yes  \n",
       " 1        不明    Yes  \n",
       " 2        不明    Yes  \n",
       " 3        不明    Yes  \n",
       " 4   Yes[10]    Yes  \n",
       " ..      ...    ...  \n",
       " 63       不明    Yes  \n",
       " 64       不明    Yes  \n",
       " 65       不明    Yes  \n",
       " 66       不明    Yes  \n",
       " 67       不明    Yes  \n",
       " \n",
       " [68 rows x 5 columns],\n",
       "                       ドメイン名             IDN TLD  \\\n",
       " 0                xn--fiq64b                 .中信   \n",
       " 1   xn--vermgensberater-ctb   .vermögensberater   \n",
       " 2  xn--vermgensberatung-pwb  .vermögensberatung   \n",
       " 3              xn--qcka1pmc               .グーグル   \n",
       " 4               xn--flw351e                 .谷歌   \n",
       " 5                xn--cg4bki                 .삼성   \n",
       " \n",
       "                                           Entity  Script Transliteration  \\\n",
       " 0                                      中国中信（英語版）      漢字        zhōngxìn   \n",
       " 1  Deutsche Vermögensberatung Aktiengesellschaft   Latin             NaN   \n",
       " 2  Deutsche Vermögensberatung Aktiengesellschaft   Latin             NaN   \n",
       " 3                                         Google     片仮名          gūguru   \n",
       " 4                                         Google  漢字（簡体）            gǔgē   \n",
       " 5                                           サムスン    ハングル        samseong   \n",
       " \n",
       "   Comments DNSSEC  \n",
       " 0    [217]    Yes  \n",
       " 1    [218]    Yes  \n",
       " 2    [219]    Yes  \n",
       " 3    [220]    Yes  \n",
       " 4    [221]    Yes  \n",
       " 5    [222]    Yes  ,\n",
       "               DNS Name         IDN          転記       言語         文字  \\\n",
       " 0         xn--kgbechtv     إختبار.   ik͡htibār    アラビア語     アラビア文字   \n",
       " 1   xn--hgbk6aj7f53bba    آزمایشی.   ậzmạy̰sẖy    ペルシア語     ペルシア文字   \n",
       " 2          xn--0zwm56d         .测试       cèshì      中国語        簡体字   \n",
       " 3          xn--g6w251d         .測試       cèshì      中国語        繁体字   \n",
       " 4     xn--80akhbyknj4f  .испытание  ispytánije     ロシア語      キリル文字   \n",
       " 5    xn--11b5bs3a9aj6g    .परीक्षा     parīkṣā   ヒンディー語  デーヴァナーガリー   \n",
       " 6         xn--jxalpdlp     .δοκιμή      dokimé    ギリシア語     ギリシア文字   \n",
       " 7       xn--9t4b11yi5a        .테스트    teseuteu      韓国語       ハングル   \n",
       " 8          xn--deba0ad       טעסט.        test  イディッシュ語     ヘブライ文字   \n",
       " 9           xn--zckzah        .テスト      tesuto      日本語   片仮名[226]   \n",
       " 10  xn--hlcj6aya9esc7a    .பரிட்சை    pariṭcai     タミル語      タミル文字   \n",
       " \n",
       "                  テスト用サイトのURL  \n",
       " 0         http://مثال.إختبار  \n",
       " 1        http://مثال.آزمایشی  \n",
       " 2               http://例子.测试  \n",
       " 3               http://例子.測試  \n",
       " 4    http://пример.испытание  \n",
       " 5      http://उदाहरण.परीक्षा  \n",
       " 6   http://παράδειγμα.δοκιμή  \n",
       " 7              http://실례.테스트  \n",
       " 8       http://בײַשפּיל.טעסט  \n",
       " 9              http://例え.テスト  \n",
       " 10    http://உதாரணம்.பரிட்சை  ,\n",
       "                                  表話編歴ジェネリックトップレベルドメイン  \\\n",
       " 0   現行 （この他にも1000以上のドメインが存在する。一部のみを掲載している。） 一般 .bi...   \n",
       " 1             現行 （この他にも1000以上のドメインが存在する。一部のみを掲載している。）   \n",
       " 2   一般 .biz .com .info .moe .name .net .org .pro ....   \n",
       " 3                                                  一般   \n",
       " 4                                             スポンサー付き   \n",
       " 5                                                 地理的   \n",
       " 6                                                インフラ   \n",
       " 7                                               削除・廃止   \n",
       " 8                                                特殊用途   \n",
       " 9   提案中 言語・国籍 .eng .sic 技術的 .geo .mail .web その他 .k...   \n",
       " 10                                                提案中   \n",
       " 11  言語・国籍 .eng .sic 技術的 .geo .mail .web その他 .kid ....   \n",
       " 12                                              言語・国籍   \n",
       " 13                                                技術的   \n",
       " 14                                                その他   \n",
       " 15                                    国別コードトップレベルドメイン   \n",
       " \n",
       "                                表話編歴ジェネリックトップレベルドメイン.1  \n",
       " 0                                                 NaN  \n",
       " 1             現行 （この他にも1000以上のドメインが存在する。一部のみを掲載している。）  \n",
       " 2   一般 .biz .com .info .moe .name .net .org .pro ....  \n",
       " 3   .biz .com .info .moe .name .net .org .pro .wik...  \n",
       " 4   .aero .app .asia .cat .coop .edu .gov .int .jo...  \n",
       " 5                                      .taipei .tokyo  \n",
       " 6                                               .arpa  \n",
       " 7                                               .nato  \n",
       " 8   .example .bitnet .invalid .local .localhost .o...  \n",
       " 9                                                 NaN  \n",
       " 10                                                提案中  \n",
       " 11  言語・国籍 .eng .sic 技術的 .geo .mail .web その他 .kid ....  \n",
       " 12                                          .eng .sic  \n",
       " 13                                    .geo .mail .web  \n",
       " 14                                  .kid .kids .music  \n",
       " 15                                    国別コードトップレベルドメイン  ,\n",
       "              現行 （この他にも1000以上のドメインが存在する。一部のみを掲載している。）  \\\n",
       " 0  一般 .biz .com .info .moe .name .net .org .pro ....   \n",
       " 1                                                 一般   \n",
       " 2                                            スポンサー付き   \n",
       " 3                                                地理的   \n",
       " 4                                               インフラ   \n",
       " 5                                              削除・廃止   \n",
       " 6                                               特殊用途   \n",
       " \n",
       "            現行 （この他にも1000以上のドメインが存在する。一部のみを掲載している。）.1  \n",
       " 0  一般 .biz .com .info .moe .name .net .org .pro ....  \n",
       " 1  .biz .com .info .moe .name .net .org .pro .wik...  \n",
       " 2  .aero .app .asia .cat .coop .edu .gov .int .jo...  \n",
       " 3                                     .taipei .tokyo  \n",
       " 4                                              .arpa  \n",
       " 5                                              .nato  \n",
       " 6  .example .bitnet .invalid .local .localhost .o...  ,\n",
       "          0                                                  1\n",
       " 0       一般  .biz .com .info .moe .name .net .org .pro .wik...\n",
       " 1  スポンサー付き  .aero .app .asia .cat .coop .edu .gov .int .jo...\n",
       " 2      地理的                                     .taipei .tokyo\n",
       " 3     インフラ                                              .arpa\n",
       " 4    削除・廃止                                              .nato\n",
       " 5     特殊用途  .example .bitnet .invalid .local .localhost .o...,\n",
       "                                                  提案中  \\\n",
       " 0  言語・国籍 .eng .sic 技術的 .geo .mail .web その他 .kid ....   \n",
       " 1                                              言語・国籍   \n",
       " 2                                                技術的   \n",
       " 3                                                その他   \n",
       " \n",
       "                                                提案中.1  \n",
       " 0  言語・国籍 .eng .sic 技術的 .geo .mail .web その他 .kid ....  \n",
       " 1                                          .eng .sic  \n",
       " 2                                    .geo .mail .web  \n",
       " 3                                  .kid .kids .music  ,\n",
       "        0                  1\n",
       " 0  言語・国籍          .eng .sic\n",
       " 1    技術的    .geo .mail .web\n",
       " 2    その他  .kid .kids .music,\n",
       "                           表話編歴国別コードトップレベルドメイン (ccTLD)  \\\n",
       " 0   ISO 3166-1 A .ac .ad .ae .af .ag .ai .al .am ....   \n",
       " 1                                          ISO 3166-1   \n",
       " 2   A .ac .ad .ae .af .ag .ai .al .am .ao .aq .ar ...   \n",
       " 3   国際化(IDN) ccTLD キリル文字アラビア文字ブラーフミー系文字漢字その他の文字 .б...   \n",
       " 4                                      国際化(IDN) ccTLD   \n",
       " 5   キリル文字アラビア文字ブラーフミー系文字漢字その他の文字 .бг (bg, ブルガリア) ....   \n",
       " 6   キリル文字アラビア文字ブラーフミー系文字漢字その他の文字 .бг (bg, ブルガリア) ....   \n",
       " 7                                               キリル文字   \n",
       " 8   .бг (bg, ブルガリア) .бел (bel, ベラルーシ) .қаз (qaz, カ...   \n",
       " 9                        提案中  .κπ (kp, キプロス) .日本 (日本)   \n",
       " 10                                                提案中   \n",
       " 11                            .κπ (kp, キプロス) .日本 (日本)   \n",
       " 12                            .κπ (kp, キプロス) .日本 (日本)   \n",
       " 13                                                NaN   \n",
       " 14  その他 予約済 / 未割当割当済 / 未使用段階的廃止 / ISO 3166-1から削除削除...   \n",
       " 15                                                その他   \n",
       " 16  予約済 / 未割当割当済 / 未使用段階的廃止 / ISO 3166-1から削除削除 / 撤...   \n",
       " 17  予約済 / 未割当割当済 / 未使用段階的廃止 / ISO 3166-1から削除削除 / 撤...   \n",
       " 18                                          予約済 / 未割当   \n",
       " 19                                .bl .bq .eh .mf .xk   \n",
       " 20                    関連項目 - ジェネリックトップレベルドメイン - 国名コード   \n",
       " \n",
       "                         表話編歴国別コードトップレベルドメイン (ccTLD).1  \\\n",
       " 0                                                 NaN   \n",
       " 1                                          ISO 3166-1   \n",
       " 2   A .ac .ad .ae .af .ag .ai .al .am .ao .aq .ar ...   \n",
       " 3                                                 NaN   \n",
       " 4                                      国際化(IDN) ccTLD   \n",
       " 5   キリル文字アラビア文字ブラーフミー系文字漢字その他の文字 .бг (bg, ブルガリア) ....   \n",
       " 6   キリル文字アラビア文字ブラーフミー系文字漢字その他の文字 .бг (bg, ブルガリア) ....   \n",
       " 7                                              アラビア文字   \n",
       " 8   الجزائر. (al-Jazā’ir, アルジェリア) مصر. (Masr, エジプト...   \n",
       " 9                                                 NaN   \n",
       " 10                                                提案中   \n",
       " 11                            .κπ (kp, キプロス) .日本 (日本)   \n",
       " 12                            .κπ (kp, キプロス) .日本 (日本)   \n",
       " 13                            .κπ (kp, キプロス) .日本 (日本)   \n",
       " 14                                                NaN   \n",
       " 15                                                その他   \n",
       " 16  予約済 / 未割当割当済 / 未使用段階的廃止 / ISO 3166-1から削除削除 / 撤...   \n",
       " 17  予約済 / 未割当割当済 / 未使用段階的廃止 / ISO 3166-1から削除削除 / 撤...   \n",
       " 18                                          割当済 / 未使用   \n",
       " 19                                        .bv .gb .sj   \n",
       " 20                    関連項目 - ジェネリックトップレベルドメイン - 国名コード   \n",
       " \n",
       "                                            Unnamed: 2  \\\n",
       " 0                                                 NaN   \n",
       " 1                                                 NaN   \n",
       " 2                                                 NaN   \n",
       " 3                                                 NaN   \n",
       " 4                                                 NaN   \n",
       " 5                                                 NaN   \n",
       " 6                                                 NaN   \n",
       " 7                                           ブラーフミー系文字   \n",
       " 8   .বাংলা (Bangla, バングラデシュ) .ভাৰত (Bharôt, インド) ....   \n",
       " 9                                                 NaN   \n",
       " 10                                                NaN   \n",
       " 11                                                NaN   \n",
       " 12                                                NaN   \n",
       " 13                                                NaN   \n",
       " 14                                                NaN   \n",
       " 15                                                NaN   \n",
       " 16                                                NaN   \n",
       " 17                                                NaN   \n",
       " 18                             段階的廃止 / ISO 3166-1から削除   \n",
       " 19                                                .su   \n",
       " 20                                                NaN   \n",
       " \n",
       "                                            Unnamed: 3  \\\n",
       " 0                                                 NaN   \n",
       " 1                                                 NaN   \n",
       " 2                                                 NaN   \n",
       " 3                                                 NaN   \n",
       " 4                                                 NaN   \n",
       " 5                                                 NaN   \n",
       " 6                                                 NaN   \n",
       " 7                                                  漢字   \n",
       " 8   .中国 (中国) .中國 (中国) .香港 (香港) .台灣 (台湾) .台湾 (台湾) ....   \n",
       " 9                                                 NaN   \n",
       " 10                                                NaN   \n",
       " 11                                                NaN   \n",
       " 12                                                NaN   \n",
       " 13                                                NaN   \n",
       " 14                                                NaN   \n",
       " 15                                                NaN   \n",
       " 16                                                NaN   \n",
       " 17                                                NaN   \n",
       " 18                                            削除 / 撤退   \n",
       " 19                    .an .bu .cs .dd .tp .um .yu .zr   \n",
       " 20                                                NaN   \n",
       " \n",
       "                                            Unnamed: 4  \n",
       " 0                                                 NaN  \n",
       " 1                                                 NaN  \n",
       " 2                                                 NaN  \n",
       " 3                                                 NaN  \n",
       " 4                                                 NaN  \n",
       " 5                                                 NaN  \n",
       " 6                                                 NaN  \n",
       " 7                                              その他の文字  \n",
       " 8   .გე (ge, ジョージア) .ελ (el, ギリシャ) .한국 (韓国) .հայ (...  \n",
       " 9                                                 NaN  \n",
       " 10                                                NaN  \n",
       " 11                                                NaN  \n",
       " 12                                                NaN  \n",
       " 13                                                NaN  \n",
       " 14                                                NaN  \n",
       " 15                                                NaN  \n",
       " 16                                                NaN  \n",
       " 17                                                NaN  \n",
       " 18                                                NaN  \n",
       " 19                                                NaN  \n",
       " 20                                                NaN  ,\n",
       "                                           ISO 3166-1  \\\n",
       " 0  A .ac .ad .ae .af .ag .ai .al .am .ao .aq .ar ...   \n",
       " \n",
       "                                         ISO 3166-1.1  \n",
       " 0  A .ac .ad .ae .af .ag .ai .al .am .ao .aq .ar ...  ,\n",
       "                                       国際化(IDN) ccTLD  \\\n",
       " 0  キリル文字アラビア文字ブラーフミー系文字漢字その他の文字 .бг (bg, ブルガリア) ....   \n",
       " 1  キリル文字アラビア文字ブラーフミー系文字漢字その他の文字 .бг (bg, ブルガリア) ....   \n",
       " 2                                              キリル文字   \n",
       " 3  .бг (bg, ブルガリア) .бел (bel, ベラルーシ) .қаз (qaz, カ...   \n",
       " \n",
       "                                     国際化(IDN) ccTLD.1  \\\n",
       " 0  キリル文字アラビア文字ブラーフミー系文字漢字その他の文字 .бг (bg, ブルガリア) ....   \n",
       " 1  キリル文字アラビア文字ブラーフミー系文字漢字その他の文字 .бг (bg, ブルガリア) ....   \n",
       " 2                                             アラビア文字   \n",
       " 3  الجزائر. (al-Jazā’ir, アルジェリア) مصر. (Masr, エジプト...   \n",
       " \n",
       "                                           Unnamed: 2  \\\n",
       " 0                                                NaN   \n",
       " 1                                                NaN   \n",
       " 2                                          ブラーフミー系文字   \n",
       " 3  .বাংলা (Bangla, バングラデシュ) .ভাৰত (Bharôt, インド) ....   \n",
       " \n",
       "                                           Unnamed: 3  \\\n",
       " 0                                                NaN   \n",
       " 1                                                NaN   \n",
       " 2                                                 漢字   \n",
       " 3  .中国 (中国) .中國 (中国) .香港 (香港) .台灣 (台湾) .台湾 (台湾) ....   \n",
       " \n",
       "                                           Unnamed: 4  \n",
       " 0                                                NaN  \n",
       " 1                                                NaN  \n",
       " 2                                             その他の文字  \n",
       " 3  .გე (ge, ジョージア) .ελ (el, ギリシャ) .한국 (韓国) .հայ (...  ,\n",
       "                                                    0  \\\n",
       " 0  キリル文字アラビア文字ブラーフミー系文字漢字その他の文字 .бг (bg, ブルガリア) ....   \n",
       " 1                                              キリル文字   \n",
       " 2  .бг (bg, ブルガリア) .бел (bel, ベラルーシ) .қаз (qaz, カ...   \n",
       " \n",
       "                                                    1  \\\n",
       " 0  キリル文字アラビア文字ブラーフミー系文字漢字その他の文字 .бг (bg, ブルガリア) ....   \n",
       " 1                                             アラビア文字   \n",
       " 2  الجزائر. (al-Jazā’ir, アルジェリア) مصر. (Masr, エジプト...   \n",
       " \n",
       "                                                    2  \\\n",
       " 0                                                NaN   \n",
       " 1                                          ブラーフミー系文字   \n",
       " 2  .বাংলা (Bangla, バングラデシュ) .ভাৰত (Bharôt, インド) ....   \n",
       " \n",
       "                                                    3  \\\n",
       " 0                                                NaN   \n",
       " 1                                                 漢字   \n",
       " 2  .中国 (中国) .中國 (中国) .香港 (香港) .台灣 (台湾) .台湾 (台湾) ....   \n",
       " \n",
       "                                                    4  \n",
       " 0                                                NaN  \n",
       " 1                                             その他の文字  \n",
       " 2  .გე (ge, ジョージア) .ελ (el, ギリシャ) .한국 (韓国) .հայ (...  ,\n",
       "                                                    0  \\\n",
       " 0                                              キリル文字   \n",
       " 1  .бг (bg, ブルガリア) .бел (bel, ベラルーシ) .қаз (qaz, カ...   \n",
       " \n",
       "                                                    1  \\\n",
       " 0                                             アラビア文字   \n",
       " 1  الجزائر. (al-Jazā’ir, アルジェリア) مصر. (Masr, エジプト...   \n",
       " \n",
       "                                                    2  \\\n",
       " 0                                          ブラーフミー系文字   \n",
       " 1  .বাংলা (Bangla, バングラデシュ) .ভাৰত (Bharôt, インド) ....   \n",
       " \n",
       "                                                    3  \\\n",
       " 0                                                 漢字   \n",
       " 1  .中国 (中国) .中國 (中国) .香港 (香港) .台灣 (台湾) .台湾 (台湾) ....   \n",
       " \n",
       "                                                    4  \n",
       " 0                                             その他の文字  \n",
       " 1  .გე (ge, ジョージア) .ελ (el, ギリシャ) .한국 (韓国) .հայ (...  ,\n",
       "                        提案中                    提案中.1\n",
       " 0  .κπ (kp, キプロス) .日本 (日本)  .κπ (kp, キプロス) .日本 (日本)\n",
       " 1  .κπ (kp, キプロス) .日本 (日本)  .κπ (kp, キプロス) .日本 (日本)\n",
       " 2                      NaN  .κπ (kp, キプロス) .日本 (日本),\n",
       "                          0                        1\n",
       " 0  .κπ (kp, キプロス) .日本 (日本)  .κπ (kp, キプロス) .日本 (日本)\n",
       " 1                      NaN  .κπ (kp, キプロス) .日本 (日本),\n",
       "     0                        1\n",
       " 0 NaN  .κπ (kp, キプロス) .日本 (日本),\n",
       "                                                  その他  \\\n",
       " 0  予約済 / 未割当割当済 / 未使用段階的廃止 / ISO 3166-1から削除削除 / 撤...   \n",
       " 1  予約済 / 未割当割当済 / 未使用段階的廃止 / ISO 3166-1から削除削除 / 撤...   \n",
       " 2                                          予約済 / 未割当   \n",
       " 3                                .bl .bq .eh .mf .xk   \n",
       " \n",
       "                                                その他.1              Unnamed: 2  \\\n",
       " 0  予約済 / 未割当割当済 / 未使用段階的廃止 / ISO 3166-1から削除削除 / 撤...                     NaN   \n",
       " 1  予約済 / 未割当割当済 / 未使用段階的廃止 / ISO 3166-1から削除削除 / 撤...                     NaN   \n",
       " 2                                          割当済 / 未使用  段階的廃止 / ISO 3166-1から削除   \n",
       " 3                                        .bv .gb .sj                     .su   \n",
       " \n",
       "                         Unnamed: 3  \n",
       " 0                              NaN  \n",
       " 1                              NaN  \n",
       " 2                          削除 / 撤退  \n",
       " 3  .an .bu .cs .dd .tp .um .yu .zr  ,\n",
       "                                                    0  \\\n",
       " 0  予約済 / 未割当割当済 / 未使用段階的廃止 / ISO 3166-1から削除削除 / 撤...   \n",
       " 1                                          予約済 / 未割当   \n",
       " 2                                .bl .bq .eh .mf .xk   \n",
       " \n",
       "                                                    1                       2  \\\n",
       " 0  予約済 / 未割当割当済 / 未使用段階的廃止 / ISO 3166-1から削除削除 / 撤...                     NaN   \n",
       " 1                                          割当済 / 未使用  段階的廃止 / ISO 3166-1から削除   \n",
       " 2                                        .bv .gb .sj                     .su   \n",
       " \n",
       "                                  3  \n",
       " 0                              NaN  \n",
       " 1                          削除 / 撤退  \n",
       " 2  .an .bu .cs .dd .tp .um .yu .zr  ,\n",
       "                      0            1                       2  \\\n",
       " 0            予約済 / 未割当    割当済 / 未使用  段階的廃止 / ISO 3166-1から削除   \n",
       " 1  .bl .bq .eh .mf .xk  .bv .gb .sj                     .su   \n",
       " \n",
       "                                  3  \n",
       " 0                          削除 / 撤退  \n",
       " 1  .an .bu .cs .dd .tp .um .yu .zr  ]"
      ]
     },
     "execution_count": 15,
     "metadata": {},
     "output_type": "execute_result"
    }
   ],
   "source": [
    "tables"
   ]
  },
  {
   "cell_type": "code",
   "execution_count": 12,
   "id": "3ba4cd36",
   "metadata": {},
   "outputs": [
    {
     "data": {
      "text/html": [
       "<div>\n",
       "<style scoped>\n",
       "    .dataframe tbody tr th:only-of-type {\n",
       "        vertical-align: middle;\n",
       "    }\n",
       "\n",
       "    .dataframe tbody tr th {\n",
       "        vertical-align: top;\n",
       "    }\n",
       "\n",
       "    .dataframe thead th {\n",
       "        text-align: right;\n",
       "    }\n",
       "</style>\n",
       "<table border=\"1\" class=\"dataframe\">\n",
       "  <thead>\n",
       "    <tr style=\"text-align: right;\">\n",
       "      <th></th>\n",
       "      <th>Name</th>\n",
       "      <th>Entity</th>\n",
       "      <th>Explanation</th>\n",
       "      <th>Notes</th>\n",
       "      <th>IDN</th>\n",
       "      <th>DNSSEC</th>\n",
       "      <th>SLD</th>\n",
       "      <th>IPv6</th>\n",
       "    </tr>\n",
       "  </thead>\n",
       "  <tbody>\n",
       "    <tr>\n",
       "      <th>0</th>\n",
       "      <td>.ac</td>\n",
       "      <td>アセンション島</td>\n",
       "      <td>NaN</td>\n",
       "      <td>広く学術的なサイト（大学など）のために用いられる。アセンション島はイギリス領であるが、イギリ...</td>\n",
       "      <td>Yes</td>\n",
       "      <td>Yes</td>\n",
       "      <td>Yes</td>\n",
       "      <td>Yes</td>\n",
       "    </tr>\n",
       "    <tr>\n",
       "      <th>1</th>\n",
       "      <td>.ad</td>\n",
       "      <td>アンドラ</td>\n",
       "      <td>NaN</td>\n",
       "      <td>アンドラにおける商標または市民権が必要となる[7][8]。</td>\n",
       "      <td>NaN</td>\n",
       "      <td>Yes</td>\n",
       "      <td>Yes</td>\n",
       "      <td>NaN</td>\n",
       "    </tr>\n",
       "    <tr>\n",
       "      <th>2</th>\n",
       "      <td>.ae</td>\n",
       "      <td>アラブ首長国連邦</td>\n",
       "      <td>NaN</td>\n",
       "      <td>NaN</td>\n",
       "      <td>NaN</td>\n",
       "      <td>No</td>\n",
       "      <td>Yes</td>\n",
       "      <td>NaN</td>\n",
       "    </tr>\n",
       "    <tr>\n",
       "      <th>3</th>\n",
       "      <td>.af</td>\n",
       "      <td>アフガニスタン</td>\n",
       "      <td>NaN</td>\n",
       "      <td>NaN</td>\n",
       "      <td>NaN</td>\n",
       "      <td>Yes</td>\n",
       "      <td>Yes</td>\n",
       "      <td>NaN</td>\n",
       "    </tr>\n",
       "    <tr>\n",
       "      <th>4</th>\n",
       "      <td>.ag</td>\n",
       "      <td>アンティグア・バーブーダ</td>\n",
       "      <td>NaN</td>\n",
       "      <td>AGがドイツの株式会社(Aktiengesellschaft)の略称であることから、非公式に...</td>\n",
       "      <td>NaN</td>\n",
       "      <td>Yes</td>\n",
       "      <td>Yes</td>\n",
       "      <td>NaN</td>\n",
       "    </tr>\n",
       "    <tr>\n",
       "      <th>...</th>\n",
       "      <td>...</td>\n",
       "      <td>...</td>\n",
       "      <td>...</td>\n",
       "      <td>...</td>\n",
       "      <td>...</td>\n",
       "      <td>...</td>\n",
       "      <td>...</td>\n",
       "      <td>...</td>\n",
       "    </tr>\n",
       "    <tr>\n",
       "      <th>248</th>\n",
       "      <td>.ye</td>\n",
       "      <td>イエメン</td>\n",
       "      <td>NaN</td>\n",
       "      <td>NaN</td>\n",
       "      <td>NaN</td>\n",
       "      <td>No</td>\n",
       "      <td>No</td>\n",
       "      <td>NaN</td>\n",
       "    </tr>\n",
       "    <tr>\n",
       "      <th>249</th>\n",
       "      <td>.yt</td>\n",
       "      <td>マヨット島</td>\n",
       "      <td>NaN</td>\n",
       "      <td>欧州連合・スイス・ノルウェー・アイスランド・リヒテンシュタインの個人・企業に限る[cctld...</td>\n",
       "      <td>Yes[cctld 12]</td>\n",
       "      <td>Yes</td>\n",
       "      <td>Yes</td>\n",
       "      <td>NaN</td>\n",
       "    </tr>\n",
       "    <tr>\n",
       "      <th>250</th>\n",
       "      <td>.za</td>\n",
       "      <td>南アフリカ</td>\n",
       "      <td>Zuid-Afrika (オランダ語)</td>\n",
       "      <td>NaN</td>\n",
       "      <td>NaN</td>\n",
       "      <td>No</td>\n",
       "      <td>No</td>\n",
       "      <td>NaN</td>\n",
       "    </tr>\n",
       "    <tr>\n",
       "      <th>251</th>\n",
       "      <td>.zm</td>\n",
       "      <td>ザンビア</td>\n",
       "      <td>NaN</td>\n",
       "      <td>NaN</td>\n",
       "      <td>NaN</td>\n",
       "      <td>Yes</td>\n",
       "      <td>Yes[cctld 28]</td>\n",
       "      <td>NaN</td>\n",
       "    </tr>\n",
       "    <tr>\n",
       "      <th>252</th>\n",
       "      <td>.zw</td>\n",
       "      <td>ジンバブエ</td>\n",
       "      <td>NaN</td>\n",
       "      <td>NaN</td>\n",
       "      <td>NaN</td>\n",
       "      <td>No</td>\n",
       "      <td>No</td>\n",
       "      <td>NaN</td>\n",
       "    </tr>\n",
       "  </tbody>\n",
       "</table>\n",
       "<p>253 rows × 8 columns</p>\n",
       "</div>"
      ],
      "text/plain": [
       "    Name        Entity          Explanation  \\\n",
       "0    .ac       アセンション島                  NaN   \n",
       "1    .ad          アンドラ                  NaN   \n",
       "2    .ae      アラブ首長国連邦                  NaN   \n",
       "3    .af       アフガニスタン                  NaN   \n",
       "4    .ag  アンティグア・バーブーダ                  NaN   \n",
       "..   ...           ...                  ...   \n",
       "248  .ye          イエメン                  NaN   \n",
       "249  .yt         マヨット島                  NaN   \n",
       "250  .za         南アフリカ  Zuid-Afrika (オランダ語)   \n",
       "251  .zm          ザンビア                  NaN   \n",
       "252  .zw         ジンバブエ                  NaN   \n",
       "\n",
       "                                                 Notes            IDN DNSSEC  \\\n",
       "0    広く学術的なサイト（大学など）のために用いられる。アセンション島はイギリス領であるが、イギリ...            Yes    Yes   \n",
       "1                        アンドラにおける商標または市民権が必要となる[7][8]。            NaN    Yes   \n",
       "2                                                  NaN            NaN     No   \n",
       "3                                                  NaN            NaN    Yes   \n",
       "4    AGがドイツの株式会社(Aktiengesellschaft)の略称であることから、非公式に...            NaN    Yes   \n",
       "..                                                 ...            ...    ...   \n",
       "248                                                NaN            NaN     No   \n",
       "249  欧州連合・スイス・ノルウェー・アイスランド・リヒテンシュタインの個人・企業に限る[cctld...  Yes[cctld 12]    Yes   \n",
       "250                                                NaN            NaN     No   \n",
       "251                                                NaN            NaN    Yes   \n",
       "252                                                NaN            NaN     No   \n",
       "\n",
       "               SLD IPv6  \n",
       "0              Yes  Yes  \n",
       "1              Yes  NaN  \n",
       "2              Yes  NaN  \n",
       "3              Yes  NaN  \n",
       "4              Yes  NaN  \n",
       "..             ...  ...  \n",
       "248             No  NaN  \n",
       "249            Yes  NaN  \n",
       "250             No  NaN  \n",
       "251  Yes[cctld 28]  NaN  \n",
       "252             No  NaN  \n",
       "\n",
       "[253 rows x 8 columns]"
      ]
     },
     "metadata": {},
     "output_type": "display_data"
    }
   ],
   "source": [
    "df=tables[4]\n",
    "display(df)"
   ]
  },
  {
   "cell_type": "code",
   "execution_count": 7,
   "id": "a6c15a67",
   "metadata": {},
   "outputs": [
    {
     "data": {
      "text/plain": [
       "array([0, 1, 2, 3, 4, 5, 6, 7, 8, 9])"
      ]
     },
     "metadata": {},
     "output_type": "display_data"
    }
   ],
   "source": [
    "display(a_np)"
   ]
  },
  {
   "cell_type": "code",
   "execution_count": 8,
   "id": "9a228044",
   "metadata": {},
   "outputs": [
    {
     "name": "stdout",
     "output_type": "stream",
     "text": [
      "[0 1 2 3 4 5 6 7 8 9]\n"
     ]
    }
   ],
   "source": [
    "print(a_np)"
   ]
  },
  {
   "cell_type": "code",
   "execution_count": 9,
   "id": "6e6ac3dd",
   "metadata": {},
   "outputs": [
    {
     "data": {
      "text/plain": [
       "45"
      ]
     },
     "execution_count": 9,
     "metadata": {},
     "output_type": "execute_result"
    }
   ],
   "source": [
    "sum(a_np)"
   ]
  },
  {
   "cell_type": "markdown",
   "id": "0a042bb0",
   "metadata": {},
   "source": [
    "## Example 2"
   ]
  },
  {
   "cell_type": "code",
   "execution_count": 11,
   "id": "80bb0963",
   "metadata": {},
   "outputs": [],
   "source": [
    "A=[[1,4,7],[2,5,8],[3,6,9]]"
   ]
  },
  {
   "cell_type": "code",
   "execution_count": 12,
   "id": "1b199f14",
   "metadata": {},
   "outputs": [
    {
     "data": {
      "text/plain": [
       "12"
      ]
     },
     "execution_count": 12,
     "metadata": {},
     "output_type": "execute_result"
    }
   ],
   "source": [
    "sum(A[0])"
   ]
  },
  {
   "cell_type": "code",
   "execution_count": 13,
   "id": "1c106acc",
   "metadata": {},
   "outputs": [],
   "source": [
    "A=np.array([[1,4,7],[2,5,8],[3,6,9]])"
   ]
  },
  {
   "cell_type": "code",
   "execution_count": 14,
   "id": "125b2e5b",
   "metadata": {},
   "outputs": [
    {
     "data": {
      "text/plain": [
       "12"
      ]
     },
     "execution_count": 14,
     "metadata": {},
     "output_type": "execute_result"
    }
   ],
   "source": [
    "np.sum(A[0,:])"
   ]
  },
  {
   "cell_type": "code",
   "execution_count": 15,
   "id": "a209c9b6",
   "metadata": {},
   "outputs": [
    {
     "data": {
      "text/plain": [
       "6"
      ]
     },
     "execution_count": 15,
     "metadata": {},
     "output_type": "execute_result"
    }
   ],
   "source": [
    "np.sum(A[:,0])"
   ]
  },
  {
   "cell_type": "code",
   "execution_count": 16,
   "id": "95278020",
   "metadata": {},
   "outputs": [
    {
     "data": {
      "text/plain": [
       "45"
      ]
     },
     "execution_count": 16,
     "metadata": {},
     "output_type": "execute_result"
    }
   ],
   "source": [
    "np.sum(A)"
   ]
  },
  {
   "cell_type": "markdown",
   "id": "3f741cdb",
   "metadata": {},
   "source": [
    "## Example 3"
   ]
  },
  {
   "cell_type": "code",
   "execution_count": 20,
   "id": "f9768fd0",
   "metadata": {},
   "outputs": [
    {
     "data": {
      "text/plain": [
       "array([[6],\n",
       "       [1],\n",
       "       [1],\n",
       "       [8],\n",
       "       [9],\n",
       "       [3],\n",
       "       [1],\n",
       "       [5],\n",
       "       [2],\n",
       "       [4],\n",
       "       [2],\n",
       "       [3],\n",
       "       [9],\n",
       "       [9],\n",
       "       [6],\n",
       "       [1],\n",
       "       [4],\n",
       "       [9]])"
      ]
     },
     "metadata": {},
     "output_type": "display_data"
    }
   ],
   "source": [
    "index=np.random.randint(1, 10, (18,1))\n",
    "display(index)"
   ]
  },
  {
   "cell_type": "code",
   "execution_count": 22,
   "id": "b6a86818",
   "metadata": {},
   "outputs": [
    {
     "data": {
      "text/plain": [
       "array([[51],\n",
       "       [46],\n",
       "       [63],\n",
       "       [ 2],\n",
       "       [ 9],\n",
       "       [39],\n",
       "       [77],\n",
       "       [80],\n",
       "       [43],\n",
       "       [44],\n",
       "       [60],\n",
       "       [43],\n",
       "       [93],\n",
       "       [16],\n",
       "       [79],\n",
       "       [73],\n",
       "       [49],\n",
       "       [90]])"
      ]
     },
     "metadata": {},
     "output_type": "display_data"
    }
   ],
   "source": [
    "score=np.random.randint(0, 100, (18,1))\n",
    "display(score)"
   ]
  },
  {
   "cell_type": "code",
   "execution_count": 28,
   "id": "f958e276",
   "metadata": {},
   "outputs": [
    {
     "data": {
      "text/plain": [
       "array([[ 6, 51],\n",
       "       [ 1, 46],\n",
       "       [ 1, 63],\n",
       "       [ 8,  2],\n",
       "       [ 9,  9],\n",
       "       [ 3, 39],\n",
       "       [ 1, 77],\n",
       "       [ 5, 80],\n",
       "       [ 2, 43],\n",
       "       [ 4, 44],\n",
       "       [ 2, 60],\n",
       "       [ 3, 43],\n",
       "       [ 9, 93],\n",
       "       [ 9, 16],\n",
       "       [ 6, 79],\n",
       "       [ 1, 73],\n",
       "       [ 4, 49],\n",
       "       [ 9, 90]])"
      ]
     },
     "metadata": {},
     "output_type": "display_data"
    }
   ],
   "source": [
    "B=np.hstack([index,score])\n",
    "display(B)"
   ]
  },
  {
   "cell_type": "code",
   "execution_count": 33,
   "id": "f567c749",
   "metadata": {},
   "outputs": [
    {
     "data": {
      "text/plain": [
       "83"
      ]
     },
     "metadata": {},
     "output_type": "display_data"
    },
    {
     "data": {
      "text/plain": [
       "957"
      ]
     },
     "metadata": {},
     "output_type": "display_data"
    }
   ],
   "source": [
    "index_sum=np.sum(B[:,0])\n",
    "score_sum=np.sum(B[:,1])\n",
    "display(index_sum)\n",
    "display(score_sum)"
   ]
  },
  {
   "cell_type": "code",
   "execution_count": 42,
   "id": "fb66bd30",
   "metadata": {},
   "outputs": [
    {
     "data": {
      "text/plain": [
       "array([ 1,  2,  5,  6,  8,  9, 10, 11, 15, 16])"
      ]
     },
     "metadata": {},
     "output_type": "display_data"
    },
    {
     "data": {
      "text/plain": [
       "array([[46],\n",
       "       [63],\n",
       "       [39],\n",
       "       [77],\n",
       "       [43],\n",
       "       [44],\n",
       "       [60],\n",
       "       [43],\n",
       "       [73],\n",
       "       [49]])"
      ]
     },
     "metadata": {},
     "output_type": "display_data"
    },
    {
     "data": {
      "text/plain": [
       "537"
      ]
     },
     "metadata": {},
     "output_type": "display_data"
    }
   ],
   "source": [
    "index1=np.where(index<5)[0]\n",
    "display(index1)\n",
    "value_less_than_five=score[index1]\n",
    "display(value_less_than_five)\n",
    "sum_value1=np.sum(value_less_than_five)\n",
    "display(sum_value1)\n"
   ]
  },
  {
   "cell_type": "code",
   "execution_count": 43,
   "id": "0c33f79d",
   "metadata": {},
   "outputs": [
    {
     "data": {
      "text/plain": [
       "array([ 0,  3,  4,  7, 12, 13, 14, 17])"
      ]
     },
     "metadata": {},
     "output_type": "display_data"
    },
    {
     "data": {
      "text/plain": [
       "array([[51],\n",
       "       [ 2],\n",
       "       [ 9],\n",
       "       [80],\n",
       "       [93],\n",
       "       [16],\n",
       "       [79],\n",
       "       [90]])"
      ]
     },
     "metadata": {},
     "output_type": "display_data"
    },
    {
     "data": {
      "text/plain": [
       "420"
      ]
     },
     "metadata": {},
     "output_type": "display_data"
    }
   ],
   "source": [
    "index2=np.where(index>=5)[0]\n",
    "display(index2)\n",
    "value_five_or_more=score[index2]\n",
    "display(value_five_or_more)\n",
    "sum_value2=np.sum(value_five_or_more)\n",
    "display(sum_value2)"
   ]
  },
  {
   "cell_type": "code",
   "execution_count": 44,
   "id": "4a7f1d78",
   "metadata": {},
   "outputs": [
    {
     "data": {
      "text/plain": [
       "957"
      ]
     },
     "metadata": {},
     "output_type": "display_data"
    }
   ],
   "source": [
    "sum_all=sum_value1+sum_value2\n",
    "display(sum_all)"
   ]
  },
  {
   "cell_type": "markdown",
   "id": "354d9e92",
   "metadata": {},
   "source": [
    "## ----------------- Summary-----------------"
   ]
  },
  {
   "cell_type": "code",
   "execution_count": 46,
   "id": "b3d6cb96",
   "metadata": {},
   "outputs": [
    {
     "data": {
      "text/plain": [
       "964"
      ]
     },
     "metadata": {},
     "output_type": "display_data"
    },
    {
     "data": {
      "text/plain": [
       "964"
      ]
     },
     "metadata": {},
     "output_type": "display_data"
    }
   ],
   "source": [
    "index=np.random.randint(1, 10, (18,1))\n",
    "score=np.random.randint(0, 100, (18,1))\n",
    "B=np.hstack([index,score])\n",
    "index_sum=np.sum(B[:,0])\n",
    "score_sum=np.sum(B[:,1])\n",
    "\n",
    "index1=np.where(index<5)[0]\n",
    "value_less_than_five=score[index1]\n",
    "sum_value1=np.sum(value_less_than_five)\n",
    "\n",
    "index2=np.where(index>=5)[0]\n",
    "value_five_or_more=score[index2]\n",
    "sum_value2=np.sum(value_five_or_more)\n",
    "\n",
    "sum_all=sum_value1+sum_value2\n",
    "\n",
    "display(score_sum)\n",
    "display(sum_all)"
   ]
  },
  {
   "cell_type": "markdown",
   "id": "9cd2edc6",
   "metadata": {},
   "source": [
    "## ----------------- Hints-----------------"
   ]
  },
  {
   "cell_type": "code",
   "execution_count": 53,
   "id": "93693be2",
   "metadata": {},
   "outputs": [],
   "source": [
    "A=[[1,4,7],[2,5,8],[3,6,9]]\n",
    "A_np=np.array(A)"
   ]
  },
  {
   "cell_type": "code",
   "execution_count": 52,
   "id": "4776ae76",
   "metadata": {},
   "outputs": [
    {
     "data": {
      "text/plain": [
       "15"
      ]
     },
     "execution_count": 52,
     "metadata": {},
     "output_type": "execute_result"
    }
   ],
   "source": [
    "A_np[0,0]+A_np[1,1]+A_np[2,2]"
   ]
  },
  {
   "cell_type": "code",
   "execution_count": 55,
   "id": "4dbccc21",
   "metadata": {},
   "outputs": [
    {
     "data": {
      "text/plain": [
       "array([ 6, 11])"
      ]
     },
     "metadata": {},
     "output_type": "display_data"
    }
   ],
   "source": [
    "index3=np.where(index==5)[0]\n",
    "display(index3)"
   ]
  },
  {
   "cell_type": "code",
   "execution_count": 58,
   "id": "c6fd286a",
   "metadata": {},
   "outputs": [
    {
     "data": {
      "text/plain": [
       "1"
      ]
     },
     "metadata": {},
     "output_type": "display_data"
    },
    {
     "data": {
      "text/plain": [
       "2"
      ]
     },
     "metadata": {},
     "output_type": "display_data"
    },
    {
     "data": {
      "text/plain": [
       "3"
      ]
     },
     "metadata": {},
     "output_type": "display_data"
    },
    {
     "data": {
      "text/plain": [
       "4"
      ]
     },
     "metadata": {},
     "output_type": "display_data"
    },
    {
     "data": {
      "text/plain": [
       "5"
      ]
     },
     "metadata": {},
     "output_type": "display_data"
    },
    {
     "data": {
      "text/plain": [
       "6"
      ]
     },
     "metadata": {},
     "output_type": "display_data"
    },
    {
     "data": {
      "text/plain": [
       "7"
      ]
     },
     "metadata": {},
     "output_type": "display_data"
    },
    {
     "data": {
      "text/plain": [
       "8"
      ]
     },
     "metadata": {},
     "output_type": "display_data"
    },
    {
     "data": {
      "text/plain": [
       "9"
      ]
     },
     "metadata": {},
     "output_type": "display_data"
    },
    {
     "data": {
      "text/plain": [
       "10"
      ]
     },
     "metadata": {},
     "output_type": "display_data"
    }
   ],
   "source": [
    "for i in range(10):\n",
    "    display(i+1)"
   ]
  },
  {
   "cell_type": "code",
   "execution_count": null,
   "id": "c12b954a",
   "metadata": {},
   "outputs": [],
   "source": []
  }
 ],
 "metadata": {
  "kernelspec": {
   "display_name": "Python 3 (ipykernel)",
   "language": "python",
   "name": "python3"
  },
  "language_info": {
   "codemirror_mode": {
    "name": "ipython",
    "version": 3
   },
   "file_extension": ".py",
   "mimetype": "text/x-python",
   "name": "python",
   "nbconvert_exporter": "python",
   "pygments_lexer": "ipython3",
   "version": "3.9.16"
  }
 },
 "nbformat": 4,
 "nbformat_minor": 5
}
