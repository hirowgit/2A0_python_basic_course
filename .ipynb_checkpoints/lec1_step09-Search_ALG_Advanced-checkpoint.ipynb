{
 "cells": [
  {
   "cell_type": "code",
   "execution_count": null,
   "metadata": {},
   "outputs": [],
   "source": [
    "## Python basics for novice data scientists, supported by Wagatsuma Lab@Kyutech \n",
    "#\n",
    "# The MIT License (MIT): Copyright (c) 2020 Hiroaki Wagatsuma and Wagatsuma Lab@Kyutech\n",
    "# \n",
    "# Permission is hereby granted, free of charge, to any person obtaining a copy of this software and associated documentation files (the \"Software\"), to deal in the Software without restriction, including without limitation the rights to use, copy, modify, merge, publish, distribute, sublicense, and/or sell copies of the Software, and to permit persons to whom the Software is furnished to do so, subject to the following conditions:\n",
    "# The above copyright notice and this permission notice shall be included in all copies or substantial portions of the Software.\n",
    "# THE SOFTWARE IS PROVIDED \"AS IS\", WITHOUT WARRANTY OF ANY KIND, EXPRESS OR IMPLIED, INCLUDING BUT NOT LIMITED TO THE WARRANTIES OF MERCHANTABILITY, FITNESS FOR A PARTICULAR PURPOSE AND NONINFRINGEMENT. IN NO EVENT SHALL THE AUTHORS OR COPYRIGHT HOLDERS BE LIABLE FOR ANY CLAIM, DAMAGES OR OTHER LIABILITY, WHETHER IN AN ACTION OF CONTRACT, TORT OR OTHERWISE, ARISING FROM, OUT OF OR IN CONNECTION WITH THE SOFTWARE OR THE USE OR OTHER DEALINGS IN THE SOFTWARE. */\n",
    "#\n",
    "# # @Time    : 2022-10-6 \n",
    "# # @Author  : Hiroaki Wagatsuma\n",
    "# # @Site    : https://github.com/hirowgit/2A_python_basic_course\n",
    "# # @IDE     : Python 3.9\n",
    "# # @File    : lec1_step9.py "
   ]
  },
  {
   "cell_type": "code",
   "execution_count": null,
   "metadata": {},
   "outputs": [],
   "source": [
    "# Practice 3-2 (page 11/29)\n",
    "# https://www.slideshare.net/tadahirotaniguchi0624/3-46861684"
   ]
  },
  {
   "cell_type": "code",
   "execution_count": 2,
   "metadata": {},
   "outputs": [],
   "source": [
    "TargetGraph={\n",
    "    'S':['A','B'],\n",
    "    'A':['S','B','C'],\n",
    "    'B':['S','A','E' ,'F'],\n",
    "    'C':['A','E','D'],\n",
    "    'D':['C','E' ,'G'],\n",
    "    'E':['B','C' ,'D' ,'G'],\n",
    "    'F':['B'],\n",
    "    'G':['D','E']\n",
    "}"
   ]
  },
  {
   "cell_type": "code",
   "execution_count": 3,
   "metadata": {},
   "outputs": [
    {
     "name": "stdout",
     "output_type": "stream",
     "text": [
      "['S', 'A', 'B', 'C', 'D', 'E', 'F', 'G']\n"
     ]
    }
   ],
   "source": [
    "N=7\n",
    "Node=[chr(i) for i in range(65,65+N)]\n",
    "Node=['S']+Node\n",
    "print(Node)"
   ]
  },
  {
   "cell_type": "code",
   "execution_count": 4,
   "metadata": {},
   "outputs": [],
   "source": [
    "C=[[0, 2, 6, 0, 0, 0, 0, 0],\n",
    "      [2, 0, 2, 1, 0, 0, 0, 0] ,\n",
    "      [6, 2, 0, 0, 0, 5, 4, 0] ,\n",
    "      [0, 1, 0, 0, 5, 2, 0, 0] ,\n",
    "      [0, 0, 0, 5, 0, 1, 0, 1] ,\n",
    "      [0, 0, 5, 2, 1, 0, 0, 5] ,\n",
    "      [0, 0, 4, 0, 0, 0, 0, 0] ,\n",
    "      [0, 0, 0, 0, 1, 5, 0, 0]\n",
    "]"
   ]
  },
  {
   "cell_type": "code",
   "execution_count": 5,
   "metadata": {},
   "outputs": [
    {
     "name": "stdout",
     "output_type": "stream",
     "text": [
      "[0, 1, 5, 6]\n",
      "[6, 2, 5, 4]\n"
     ]
    }
   ],
   "source": [
    "OpenList=['S','A','E','F']\n",
    "state='B'\n",
    "key=Node.index(state)\n",
    "Cost=C[key]\n",
    "indexList=[Node.index(L)  for L in OpenList]\n",
    "CList=[C[Node.index(state)][i] for i in indexList]\n",
    "print(indexList)\n",
    "print(CList)"
   ]
  },
  {
   "cell_type": "code",
   "execution_count": 11,
   "metadata": {},
   "outputs": [
    {
     "name": "stdout",
     "output_type": "stream",
     "text": [
      "['S', 'A', 'E', 'F']\n",
      "[6, 2, 5, 4]\n",
      " \n",
      "[{'node': 'S', 'cost': 6}, {'node': 'A', 'cost': 2}, {'node': 'E', 'cost': 5}, {'node': 'F', 'cost': 4}]\n",
      "[{'node': 'A', 'cost': 2}, {'node': 'F', 'cost': 4}, {'node': 'E', 'cost': 5}, {'node': 'S', 'cost': 6}]\n",
      "['A', 'F', 'E', 'S']\n"
     ]
    }
   ],
   "source": [
    "print(OpenList)\n",
    "print(CList)\n",
    "print(' ')\n",
    "keys = ['node','cost']\n",
    "# keys2 = ['node','cost','h']\n",
    "d_all=[]\n",
    "for i in range(len(OpenList)):\n",
    "    values=[OpenList[i],CList[i]]\n",
    "    d = {k: v for k, v in zip(keys, values)}\n",
    "    d_all.append(d)\n",
    "print(d_all)\n",
    "d_all.sort(key=lambda x: x['cost'])\n",
    "print(d_all)\n",
    "print([d['node'] for d in d_all])"
   ]
  },
  {
   "cell_type": "code",
   "execution_count": 16,
   "metadata": {},
   "outputs": [
    {
     "name": "stdout",
     "output_type": "stream",
     "text": [
      "['state', 'S']\n",
      "['OpenList(1)', []]\n",
      "['ClosedList', ['S']]\n",
      "['OpenList(2)', ['A', 'B']]\n",
      "\n",
      "['state', 'A']\n",
      "['OpenList(1)', ['B']]\n",
      "['ClosedList', ['S', 'A']]\n",
      "['OpenList(2)', ['C', 'B']]\n",
      "\n",
      "['state', 'C']\n",
      "['OpenList(1)', ['B']]\n",
      "['ClosedList', ['C', 'S', 'A']]\n",
      "['OpenList(2)', ['B', 'E', 'D']]\n",
      "\n",
      "['state', 'B']\n",
      "['OpenList(1)', ['E', 'D']]\n",
      "['ClosedList', ['C', 'B', 'S', 'A']]\n",
      "['OpenList(2)', ['D', 'F', 'E']]\n",
      "\n",
      "['state', 'D']\n",
      "['OpenList(1)', ['F', 'E']]\n",
      "['ClosedList', ['C', 'B', 'A', 'D', 'S']]\n",
      "['OpenList(2)', ['F', 'E', 'G']]\n",
      "\n",
      "['state', 'F']\n",
      "['OpenList(1)', ['E', 'G']]\n",
      "['ClosedList', ['C', 'F', 'B', 'A', 'D', 'S']]\n",
      "['OpenList(2)', ['E', 'G']]\n",
      "\n",
      "['state', 'E']\n",
      "['OpenList(1)', ['G']]\n",
      "['ClosedList', ['C', 'F', 'E', 'B', 'A', 'D', 'S']]\n",
      "['OpenList(2)', ['G']]\n",
      "\n",
      "['state', 'G']\n",
      "['OpenList(1)', []]\n",
      "['ClosedList', ['C', 'F', 'G', 'E', 'B', 'A', 'D', 'S']]\n",
      "Completed\n"
     ]
    }
   ],
   "source": [
    "# incompleted version of cost-first search (not summation)\n",
    "\n",
    "OpenList=['S']\n",
    "ClosedList=[]\n",
    "while OpenList:\n",
    "    state=OpenList[0]\n",
    "    del OpenList[0]\n",
    "    ClosedList=[state]+ClosedList\n",
    "    ClosedList=list(set(ClosedList))\n",
    "    print(['state',state])\n",
    "    print(['OpenList(1)',OpenList])\n",
    "    print(['ClosedList',ClosedList])\n",
    "    if state=='G':\n",
    "        break\n",
    "    tmpSt=set(TargetGraph[state]) -set(ClosedList)\n",
    "    activeNodes=list(tmpSt -set(OpenList))    \n",
    "    OpenList.extend(activeNodes)\n",
    "    \n",
    "    # cost-first sorting \n",
    "    indexList=[Node.index(L)  for L in OpenList]\n",
    "    CList=[C[Node.index(state)][i] for i in indexList]\n",
    "    \n",
    "    keys = ['node','cost']\n",
    "    d_all=[]\n",
    "    for i in range(len(OpenList)):\n",
    "        values=[OpenList[i],CList[i]]\n",
    "        d = {k: v for k, v in zip(keys, values)}\n",
    "        d_all.append(d)\n",
    "    d_all.sort(key=lambda x: x['cost'])\n",
    "    OpenList=[d['node'] for d in d_all]\n",
    "    # ---\n",
    "    \n",
    "    print(['OpenList(2)',OpenList])\n",
    "    print('')\n",
    "print('Completed') "
   ]
  },
  {
   "cell_type": "code",
   "execution_count": 178,
   "metadata": {},
   "outputs": [
    {
     "name": "stdout",
     "output_type": "stream",
     "text": [
      "['state', 'S']\n",
      "['OpenList(1)', []]\n",
      "['ClosedList', ['S']]\n",
      "pre ['A', 'B'] [2, 6] [2, 6]\n",
      "post ['A', 'B'] [2, 6] [2, 6] ['S', 'S']\n",
      "['OpenList(2)', ['A', 'B']]\n",
      "\n",
      "['state', 'A']\n",
      "['OpenList(1)', ['B']]\n",
      "['ClosedList', ['A', 'S']]\n",
      "pre ['B', 'B', 'C'] [2, 2, 1] [6, 4, 3]\n",
      "post ['C', 'B', 'B'] [2, 2, 1] [3, 4, 6] ['A', 'A', 'S']\n",
      "['OpenList(2)', ['C', 'B', 'B']]\n",
      "\n",
      "['state', 'C']\n",
      "['OpenList(1)', ['B', 'B']]\n",
      "['ClosedList', ['A', 'S', 'C']]\n",
      "pre ['B', 'B', 'E', 'D'] [0, 0, 2, 5] [4, 6, 5, 8]\n",
      "post ['B', 'E', 'B', 'D'] [0, 0, 2, 5] [4, 5, 6, 8] ['A', 'C', 'S', 'C']\n",
      "['OpenList(2)', ['B', 'E', 'B', 'D']]\n",
      "\n",
      "['state', 'B']\n",
      "['OpenList(1)', ['E', 'B', 'D']]\n",
      "['ClosedList', ['A', 'C', 'S', 'B']]\n",
      "pre ['E', 'B', 'D', 'E', 'F'] [5, 0, 0, 5, 4] [5, 6, 8, 9, 8]\n",
      "post ['E', 'B', 'D', 'F', 'E'] [5, 0, 0, 5, 4] [5, 6, 8, 8, 9] ['C', 'S', 'C', 'B', 'B']\n",
      "['OpenList(2)', ['E', 'B', 'D', 'F', 'E']]\n",
      "\n",
      "['state', 'E']\n",
      "['OpenList(1)', ['B', 'D', 'F', 'E']]\n",
      "['ClosedList', ['E', 'S', 'B', 'A', 'C']]\n",
      "pre ['B', 'D', 'F', 'E', 'D', 'G'] [5, 1, 0, 0, 1, 5] [6, 8, 8, 9, 6, 10]\n",
      "post ['B', 'D', 'D', 'F', 'E', 'G'] [5, 1, 0, 0, 1, 5] [6, 6, 8, 8, 9, 10] ['S', 'E', 'C', 'B', 'B', 'E']\n",
      "['OpenList(2)', ['B', 'D', 'D', 'F', 'E', 'G']]\n",
      "\n",
      "['state', 'B']\n",
      "['OpenList(1)', ['D', 'D', 'F', 'E', 'G']]\n",
      "['ClosedList', ['E', 'S', 'B', 'A', 'C']]\n",
      "pre ['D', 'D', 'F', 'E', 'G', 'F'] [0, 0, 4, 5, 0, 4] [6, 8, 12, 14, 10, 10]\n",
      "post ['D', 'D', 'G', 'F', 'F', 'E'] [0, 0, 4, 5, 0, 4] [6, 8, 10, 10, 12, 14] ['E', 'C', 'E', 'B', 'B', 'B']\n",
      "['OpenList(2)', ['D', 'D', 'G', 'F', 'F', 'E']]\n",
      "\n",
      "['state', 'D']\n",
      "['OpenList(1)', ['D', 'G', 'F', 'F', 'E']]\n",
      "['ClosedList', ['E', 'S', 'B', 'A', 'C', 'D']]\n",
      "pre ['D', 'G', 'F', 'F', 'E', 'G'] [0, 1, 0, 0, 1, 1] [8, 10, 10, 12, 14, 7]\n",
      "post ['G', 'D', 'G', 'F', 'F', 'E'] [0, 1, 0, 0, 1, 1] [7, 8, 10, 10, 12, 14] ['D', 'C', 'E', 'B', 'B', 'B']\n",
      "['OpenList(2)', ['G', 'D', 'G', 'F', 'F', 'E']]\n",
      "\n",
      "['state', 'G']\n",
      "['OpenList(1)', ['D', 'G', 'F', 'F', 'E']]\n",
      "['ClosedList', ['E', 'S', 'B', 'A', 'G', 'C', 'D']]\n",
      "Completed\n",
      "~~~\n",
      "Final path (from Goal, from Start, minimum (total) cost in the path):\n",
      "['G', 'D', 'E', 'C', 'A', 'S'] ['S', 'A', 'C', 'E', 'D', 'G'] 7\n"
     ]
    }
   ],
   "source": [
    "# 2nd_ incompleted version of cost-first search (not summation)\n",
    "\n",
    "OpenList=['S']\n",
    "preList=['']\n",
    "ClosedList=[]\n",
    "pathL1=[]\n",
    "pathL2=[]\n",
    "OpenLcost=[0]\n",
    "kk=1\n",
    "while OpenList and kk<10:\n",
    "    kk=kk+1\n",
    "    state=OpenList.pop(0)\n",
    "    tempC= OpenLcost.pop(0)\n",
    "    pathL1.append(state)\n",
    "    pathL2.append(preList[0])\n",
    "    del preList[0]\n",
    "    ClosedList=[state]+ClosedList\n",
    "    ClosedList=list(set(ClosedList))\n",
    "    print(['state',state])\n",
    "    print(['OpenList(1)',OpenList])\n",
    "    print(['ClosedList',ClosedList])\n",
    "    if state=='G':\n",
    "        break\n",
    "    tmpSt=set(TargetGraph[state]) -set(ClosedList)\n",
    "#     activeNodes=list(tmpSt -set(OpenList))    \n",
    "    activeNodes=list(tmpSt)    \n",
    "    preList = preList+[state]*len(activeNodes)\n",
    "    OpenList = OpenList+activeNodes\n",
    "    \n",
    "    # cost-first sorting \n",
    "    indexList=[Node.index(L)  for L in OpenList]\n",
    "    CList=[C[Node.index(state)][i] for i in indexList]\n",
    "    if OpenLcost:\n",
    "        OpenLcost=OpenLcost+[tempC]*len(activeNodes)\n",
    "        OpenLcost=[x*int(z==state)+y for x,y,z in zip(CList,OpenLcost,preList) ]\n",
    "    else:\n",
    "        OpenLcost = CList\n",
    "        \n",
    "    print('pre',OpenList,CList,OpenLcost)\n",
    "    keys = ['node','cost','pre']\n",
    "    d_all=[dict(zip(keys, [n,c,p])) for n,c,p in zip(OpenList,OpenLcost,preList)]\n",
    "    d_all.sort(key=lambda x: x['cost'])\n",
    "    OpenList=[d['node'] for d in d_all]\n",
    "    OpenLcost=[d['cost'] for d in d_all]\n",
    "    preList=[d['pre'] for d in d_all]\n",
    "    print('post',OpenList,CList,OpenLcost,preList)\n",
    "    # ---\n",
    "    \n",
    "    print(['OpenList(2)',OpenList])\n",
    "    print('')\n",
    "print('Completed') \n",
    "\n",
    "# pathL1,pathL2\n",
    "\n",
    "tL1=pathL1.copy()\n",
    "tL2=pathL2[1:].copy()\n",
    "pathL=[tL1.pop()]\n",
    "while tL2:\n",
    "    preP=tL2.pop()\n",
    "    pathL.append(preP)\n",
    "    while tL1[-1]!=preP:\n",
    "        tL1.pop()\n",
    "        tL2.pop()\n",
    "    tL1.pop()\n",
    "\n",
    "pathLrev=pathL[::-1]\n",
    "\n",
    "print('~~~')\n",
    "print('Final path (from Goal, from Start, minimum (total) cost in the path):')\n",
    "print(pathL,pathLrev,tempC)"
   ]
  },
  {
   "cell_type": "code",
   "execution_count": 175,
   "metadata": {},
   "outputs": [
    {
     "data": {
      "text/plain": [
       "7"
      ]
     },
     "execution_count": 175,
     "metadata": {},
     "output_type": "execute_result"
    }
   ],
   "source": [
    "tempC"
   ]
  },
  {
   "cell_type": "code",
   "execution_count": 181,
   "metadata": {},
   "outputs": [
    {
     "data": {
      "text/plain": [
       "[{'node': 'G', 'cost': 7, 'pre': 'D'},\n",
       " {'node': 'D', 'cost': 8, 'pre': 'C'},\n",
       " {'node': 'G', 'cost': 10, 'pre': 'E'},\n",
       " {'node': 'F', 'cost': 10, 'pre': 'B'},\n",
       " {'node': 'F', 'cost': 12, 'pre': 'B'},\n",
       " {'node': 'E', 'cost': 14, 'pre': 'B'}]"
      ]
     },
     "execution_count": 181,
     "metadata": {},
     "output_type": "execute_result"
    }
   ],
   "source": [
    "list(filter(lambda k: k['node'], d_all)  )"
   ]
  },
  {
   "cell_type": "code",
   "execution_count": 170,
   "metadata": {},
   "outputs": [
    {
     "name": "stdout",
     "output_type": "stream",
     "text": [
      "['G', 'D', 'B', 'E', 'B', 'C', 'A', 'S']\n",
      "['D', 'E', 'S', 'C', 'A', 'A', 'S']\n",
      "['G', 'D'] D ['S', 'A', 'C', 'B', 'E', 'B', 'D']\n",
      "a ['S', 'A', 'C', 'B', 'E', 'B']\n",
      "b ['S', 'A', 'A', 'C', 'S', 'E']\n",
      "['G', 'D', 'E'] E ['S', 'A', 'C', 'B', 'E', 'B']\n",
      "a ['S', 'A', 'C', 'B']\n",
      "b ['S', 'A', 'A', 'C']\n",
      "['G', 'D', 'E', 'C'] C ['S', 'A', 'C', 'B']\n",
      "a ['S', 'A']\n",
      "b ['S', 'A']\n",
      "['G', 'D', 'E', 'C', 'A'] A ['S', 'A']\n",
      "a ['S']\n",
      "b ['S']\n",
      "['G', 'D', 'E', 'C', 'A', 'S'] S ['S']\n",
      "a []\n",
      "b []\n",
      "['G', 'D', 'E', 'C', 'A', 'S'] ['S', 'A', 'C', 'E', 'D', 'G']\n"
     ]
    }
   ],
   "source": [
    "print(pathL1[::-1])\n",
    "print(pathL2[:0:-1])\n",
    "\n",
    "tL1=pathL1.copy()\n",
    "tL2=pathL2[1:].copy()\n",
    "pathL=[tL1.pop()]\n",
    "while tL2:\n",
    "    preP=tL2.pop()\n",
    "    pathL.append(preP)\n",
    "    print(pathL,preP,tL1)\n",
    "    while tL1[-1]!=preP:\n",
    "        tL1.pop()\n",
    "        tL2.pop()\n",
    "    tL1.pop()\n",
    "    print('a',tL1)\n",
    "    print('b',tL2)    \n",
    "\n",
    "pathLrev=pathL[::-1]\n",
    "print(pathL,pathLrev)"
   ]
  },
  {
   "cell_type": "code",
   "execution_count": 168,
   "metadata": {},
   "outputs": [
    {
     "data": {
      "text/plain": [
       "['S', 'A', 'A', 'C', 'S', 'E', 'D']"
      ]
     },
     "execution_count": 168,
     "metadata": {},
     "output_type": "execute_result"
    }
   ],
   "source": [
    "pathL2[1:]"
   ]
  },
  {
   "cell_type": "code",
   "execution_count": 155,
   "metadata": {},
   "outputs": [
    {
     "name": "stdout",
     "output_type": "stream",
     "text": [
      "['G', 'D', 'B', 'E', 'B', 'C', 'A', 'S']\n",
      "['D', 'E', 'S', 'C', 'A', 'A', 'S']\n"
     ]
    }
   ],
   "source": [
    "print(pathL1[::-1])\n",
    "print(pathL2[:0:-1])"
   ]
  },
  {
   "cell_type": "code",
   "execution_count": 142,
   "metadata": {},
   "outputs": [
    {
     "name": "stdout",
     "output_type": "stream",
     "text": [
      "['G', 'D', 'B', 'E', 'B', 'C', 'A', 'S']\n",
      "['D', 'E', 'S', 'C', 'A', 'A', 'S']\n"
     ]
    }
   ],
   "source": [
    "print(pathL1[::-1])\n",
    "print(pathL2[:0:-1])\n",
    "tL1=pathL1[::-1]\n",
    "tL2=pathL2[:0:-1]\n",
    "for L1 in pathL1[::-1]:\n",
    "    while \n",
    "        \n",
    "\n",
    "# ['G', 'D', 'B', 'E', 'B', 'C', 'A', 'S']\n",
    "# ['D', 'E', 'S', 'C', 'A', 'A', 'S', '']"
   ]
  },
  {
   "cell_type": "code",
   "execution_count": 122,
   "metadata": {},
   "outputs": [
    {
     "name": "stdout",
     "output_type": "stream",
     "text": [
      "[]\n"
     ]
    },
    {
     "data": {
      "text/plain": [
       "['G']"
      ]
     },
     "execution_count": 122,
     "metadata": {},
     "output_type": "execute_result"
    }
   ],
   "source": [
    "pathL=[]\n",
    "# pathL=pathL.append(state)\n",
    "print(pathL)\n",
    "state\n",
    "pathL.append(state)\n",
    "pathL"
   ]
  },
  {
   "cell_type": "code",
   "execution_count": 108,
   "metadata": {},
   "outputs": [
    {
     "data": {
      "text/plain": [
       "([2, 2, 1], [8, 4, 3], ['S', 'A', 'A'])"
      ]
     },
     "execution_count": 108,
     "metadata": {},
     "output_type": "execute_result"
    }
   ],
   "source": [
    "CList,OpenLcost,preList"
   ]
  },
  {
   "cell_type": "code",
   "execution_count": 109,
   "metadata": {},
   "outputs": [
    {
     "data": {
      "text/plain": [
       "[8, 6, 4]"
      ]
     },
     "execution_count": 109,
     "metadata": {},
     "output_type": "execute_result"
    }
   ],
   "source": [
    "[x*int(z==state)+y for x,y,z in zip(CList,OpenLcost,preList) ]\n"
   ]
  },
  {
   "cell_type": "code",
   "execution_count": 103,
   "metadata": {},
   "outputs": [
    {
     "ename": "TypeError",
     "evalue": "filter expected 2 arguments, got 3",
     "output_type": "error",
     "traceback": [
      "\u001b[0;31m---------------------------------------------------------------------------\u001b[0m",
      "\u001b[0;31mTypeError\u001b[0m                                 Traceback (most recent call last)",
      "\u001b[0;32m/var/folders/mg/w5t8lkhc8xj79f001s7kzpfh0000gp/T/ipykernel_98839/1409746243.py\u001b[0m in \u001b[0;36m<module>\u001b[0;34m\u001b[0m\n\u001b[0;32m----> 1\u001b[0;31m \u001b[0mlist\u001b[0m\u001b[0;34m(\u001b[0m\u001b[0mfilter\u001b[0m\u001b[0;34m(\u001b[0m\u001b[0;32mlambda\u001b[0m \u001b[0mx\u001b[0m\u001b[0;34m:\u001b[0m \u001b[0mx\u001b[0m \u001b[0;34m==\u001b[0m \u001b[0mstate\u001b[0m\u001b[0;34m,\u001b[0m \u001b[0mpreList\u001b[0m\u001b[0;34m,\u001b[0m\u001b[0mCList\u001b[0m\u001b[0;34m)\u001b[0m\u001b[0;34m)\u001b[0m\u001b[0;34m\u001b[0m\u001b[0;34m\u001b[0m\u001b[0m\n\u001b[0m",
      "\u001b[0;31mTypeError\u001b[0m: filter expected 2 arguments, got 3"
     ]
    }
   ],
   "source": [
    "list(filter(lambda x: x == state, preList,CList))"
   ]
  },
  {
   "cell_type": "code",
   "execution_count": 104,
   "metadata": {},
   "outputs": [
    {
     "data": {
      "text/plain": [
       "(['S', 'A', 'A'], [2, 2, 1])"
      ]
     },
     "execution_count": 104,
     "metadata": {},
     "output_type": "execute_result"
    }
   ],
   "source": [
    "a=[preList,CList]\n",
    "a[0] \n",
    "preList,CList"
   ]
  },
  {
   "cell_type": "code",
   "execution_count": 86,
   "metadata": {},
   "outputs": [
    {
     "data": {
      "text/plain": [
       "[{'node': 'B', 'cost': 8}, {'node': 'B', 'cost': 4}, {'node': 'C', 'cost': 3}]"
      ]
     },
     "execution_count": 86,
     "metadata": {},
     "output_type": "execute_result"
    }
   ],
   "source": [
    "keys = ['node','cost']\n",
    "d_all=[dict(zip(keys, [n,c])) for n,c in zip(OpenList,OpenLcost)]\n",
    "d_all"
   ]
  },
  {
   "cell_type": "code",
   "execution_count": null,
   "metadata": {},
   "outputs": [],
   "source": [
    "d_all=[]\n",
    "for i in range(len(OpenList)):\n",
    "#         values=[OpenList[i],CList[i]]\n",
    "    values=[OpenList[i],OpenLcost[i]]\n",
    "    d = {k: v for k, v in zip(keys, values)}\n",
    "    d_all.append(d)\n",
    "d_all = [k: v]"
   ]
  },
  {
   "cell_type": "code",
   "execution_count": 84,
   "metadata": {},
   "outputs": [
    {
     "data": {
      "text/plain": [
       "[{'node': 'B', 'cost': 8}, {'node': 'B', 'cost': 4}, {'node': 'C', 'cost': 3}]"
      ]
     },
     "execution_count": 84,
     "metadata": {},
     "output_type": "execute_result"
    }
   ],
   "source": [
    "d_all=[]\n",
    "for i in range(len(OpenList)):\n",
    "#         values=[OpenList[i],CList[i]]\n",
    "    values=[OpenList[i],OpenLcost[i]]\n",
    "    d = {k: v for k, v in zip(keys, values)}\n",
    "    d_all.append(d)\n",
    "d_all"
   ]
  },
  {
   "cell_type": "code",
   "execution_count": 77,
   "metadata": {},
   "outputs": [
    {
     "data": {
      "text/plain": [
       "['C', 'B', 'B']"
      ]
     },
     "execution_count": 77,
     "metadata": {},
     "output_type": "execute_result"
    }
   ],
   "source": [
    "OpenList"
   ]
  },
  {
   "cell_type": "code",
   "execution_count": 75,
   "metadata": {},
   "outputs": [
    {
     "data": {
      "text/plain": [
       "'A'"
      ]
     },
     "execution_count": 75,
     "metadata": {},
     "output_type": "execute_result"
    }
   ],
   "source": [
    "Node.index(state)\n",
    "state"
   ]
  },
  {
   "cell_type": "code",
   "execution_count": 70,
   "metadata": {},
   "outputs": [
    {
     "data": {
      "text/plain": [
       "[2, 2, 3]"
      ]
     },
     "execution_count": 70,
     "metadata": {},
     "output_type": "execute_result"
    }
   ],
   "source": [
    "CList\n",
    "indexList"
   ]
  },
  {
   "cell_type": "code",
   "execution_count": 55,
   "metadata": {},
   "outputs": [
    {
     "name": "stdout",
     "output_type": "stream",
     "text": [
      "[1, 2, 3] [4, 5]\n",
      "[1, 2, 3, 4, 5]\n"
     ]
    },
    {
     "data": {
      "text/plain": [
       "[2, 3, 4, 4, 5]"
      ]
     },
     "execution_count": 55,
     "metadata": {},
     "output_type": "execute_result"
    }
   ],
   "source": [
    "OpenLcost=[1,1,1]\n",
    "OpenList=[1,2,3]\n",
    "activeNodes=[4,5]\n",
    "print(OpenList, activeNodes)\n",
    "OpenList=OpenList+activeNodes\n",
    "OpenLcost=OpenLcost+[0]*len(activeNodes)\n",
    "print(OpenList)\n",
    "list(map(lambda x,y: x+y,OpenList,OpenLcost))"
   ]
  },
  {
   "cell_type": "code",
   "execution_count": 57,
   "metadata": {},
   "outputs": [
    {
     "data": {
      "text/plain": [
       "[3, 4, 5, 4, 5]"
      ]
     },
     "execution_count": 57,
     "metadata": {},
     "output_type": "execute_result"
    }
   ],
   "source": [
    "OpenList=list(map(lambda x,y: x+y,OpenList,OpenLcost))\n",
    "OpenList"
   ]
  },
  {
   "cell_type": "code",
   "execution_count": 54,
   "metadata": {},
   "outputs": [
    {
     "data": {
      "text/plain": [
       "[0, 0]"
      ]
     },
     "execution_count": 54,
     "metadata": {},
     "output_type": "execute_result"
    }
   ],
   "source": [
    "[0]*len(activeNodes)"
   ]
  },
  {
   "cell_type": "code",
   "execution_count": 41,
   "metadata": {},
   "outputs": [
    {
     "data": {
      "text/plain": [
       "[{'node': 'G', 'cost': 5}]"
      ]
     },
     "execution_count": 41,
     "metadata": {},
     "output_type": "execute_result"
    }
   ],
   "source": [
    "d_all"
   ]
  },
  {
   "cell_type": "code",
   "execution_count": 35,
   "metadata": {},
   "outputs": [
    {
     "name": "stdout",
     "output_type": "stream",
     "text": [
      "[]\n"
     ]
    },
    {
     "data": {
      "text/plain": [
       "True"
      ]
     },
     "execution_count": 35,
     "metadata": {},
     "output_type": "execute_result"
    }
   ],
   "source": [
    "print(OpenLcost)\n",
    "if not OpenLcost: \n",
    "    OpenLcost=[1]\n",
    "bool(OpenLcost)"
   ]
  },
  {
   "cell_type": "code",
   "execution_count": 33,
   "metadata": {},
   "outputs": [
    {
     "data": {
      "text/plain": [
       "True"
      ]
     },
     "execution_count": 33,
     "metadata": {},
     "output_type": "execute_result"
    }
   ],
   "source": [
    "bool([1])"
   ]
  },
  {
   "cell_type": "code",
   "execution_count": 20,
   "metadata": {},
   "outputs": [
    {
     "name": "stdout",
     "output_type": "stream",
     "text": [
      "D\n",
      "['E', 'S', 'B', 'A', 'G', 'F', 'C']\n"
     ]
    }
   ],
   "source": [
    "OpenList=['E', 'S', 'B', 'A', 'G', 'F', 'C', 'D']\n",
    "print(OpenList.pop())\n",
    "print(OpenList)"
   ]
  },
  {
   "cell_type": "code",
   "execution_count": 21,
   "metadata": {},
   "outputs": [
    {
     "name": "stdout",
     "output_type": "stream",
     "text": [
      "E\n",
      "['S', 'B', 'A', 'G', 'F', 'C', 'D']\n"
     ]
    }
   ],
   "source": [
    "OpenList=['E', 'S', 'B', 'A', 'G', 'F', 'C', 'D']\n",
    "print(OpenList.pop(0))\n",
    "print(OpenList)"
   ]
  },
  {
   "cell_type": "code",
   "execution_count": 13,
   "metadata": {},
   "outputs": [
    {
     "data": {
      "text/plain": [
       "[10]"
      ]
     },
     "execution_count": 13,
     "metadata": {},
     "output_type": "execute_result"
    }
   ],
   "source": [
    "CList"
   ]
  },
  {
   "cell_type": "code",
   "execution_count": 23,
   "metadata": {},
   "outputs": [
    {
     "data": {
      "text/plain": [
       "0"
      ]
     },
     "execution_count": 23,
     "metadata": {},
     "output_type": "execute_result"
    }
   ],
   "source": [
    "CList=[]\n",
    "len(CList)"
   ]
  },
  {
   "cell_type": "code",
   "execution_count": 25,
   "metadata": {},
   "outputs": [
    {
     "name": "stdout",
     "output_type": "stream",
     "text": [
      "[0, 0, 0, 0, 0, 0, 0, 0]\n",
      "[0, 1, 0, 0, 0, 0, 0, 0]\n"
     ]
    }
   ],
   "source": [
    "CList=[]\n",
    "C2=[0]*len(C[0])\n",
    "print(C2)\n",
    "C2[1]=1\n",
    "print(C2)"
   ]
  },
  {
   "cell_type": "code",
   "execution_count": 28,
   "metadata": {},
   "outputs": [
    {
     "data": {
      "text/plain": [
       "2"
      ]
     },
     "execution_count": 28,
     "metadata": {},
     "output_type": "execute_result"
    }
   ],
   "source": [
    "C[Node.index(state)][i]+C[1][2]"
   ]
  },
  {
   "cell_type": "code",
   "execution_count": 29,
   "metadata": {},
   "outputs": [
    {
     "data": {
      "text/plain": [
       "[{'node': 'G', 'cost': 5}]"
      ]
     },
     "execution_count": 29,
     "metadata": {},
     "output_type": "execute_result"
    }
   ],
   "source": [
    "d_all"
   ]
  },
  {
   "cell_type": "code",
   "execution_count": 33,
   "metadata": {},
   "outputs": [
    {
     "data": {
      "text/plain": [
       "[0, 0, 0, 0, 0, 0, 0, 0]"
      ]
     },
     "execution_count": 33,
     "metadata": {},
     "output_type": "execute_result"
    }
   ],
   "source": [
    "CList=[0]*len(C[0])\n",
    "CList"
   ]
  },
  {
   "cell_type": "code",
   "execution_count": 47,
   "metadata": {},
   "outputs": [
    {
     "name": "stdout",
     "output_type": "stream",
     "text": [
      "[7]\n"
     ]
    },
    {
     "data": {
      "text/plain": [
       "7"
      ]
     },
     "execution_count": 47,
     "metadata": {},
     "output_type": "execute_result"
    }
   ],
   "source": [
    "print(indexList)\n",
    "# [CList[i]+C[Node.index(state)][i] for i in indexList]\n",
    "CList\n",
    "\n",
    "Node.index(state)"
   ]
  },
  {
   "cell_type": "code",
   "execution_count": 92,
   "metadata": {},
   "outputs": [
    {
     "data": {
      "text/plain": [
       "['', '', '', '', '', '', '', '']"
      ]
     },
     "execution_count": 92,
     "metadata": {},
     "output_type": "execute_result"
    }
   ],
   "source": [
    "connN"
   ]
  },
  {
   "cell_type": "code",
   "execution_count": 6,
   "metadata": {},
   "outputs": [
    {
     "name": "stdout",
     "output_type": "stream",
     "text": [
      "['state', 'S']\n",
      "['OpenList(1)', []]\n",
      "['ClosedList', ['S']]\n",
      "['A', 'B']\n",
      "[0, 2, 6, 0, 0, 0, 0, 0]\n",
      "['Path', ['S']]\n",
      "['OpenList(2)', ['A', 'B']]\n",
      "\n",
      "['state', 'A']\n",
      "['OpenList(1)', ['B']]\n",
      "['ClosedList', ['A', 'S']]\n",
      "[2, 3]\n",
      "['C', 'B']\n",
      "[0, 2, 4, 3, 0, 0, 0, 0]\n",
      "['Path', ['S', 'A']]\n",
      "['OpenList(2)', ['C', 'B']]\n",
      "\n",
      "['state', 'C']\n",
      "['OpenList(1)', ['B']]\n",
      "['ClosedList', ['A', 'S', 'C']]\n",
      "[2, 5, 4]\n",
      "['B', 'E', 'D']\n",
      "[0, 2, 4, 3, 8, 5, 0, 0]\n",
      "['Path', ['S', 'A', 'C']]\n",
      "['OpenList(2)', ['B', 'E', 'D']]\n",
      "\n",
      "['state', 'B']\n",
      "['OpenList(1)', ['E', 'D']]\n",
      "['ClosedList', ['A', 'C', 'S', 'B']]\n",
      "[5, 4, 6]\n",
      "['D', 'F', 'E']\n",
      "[0, 2, 4, 3, 8, 5, 8, 0]\n",
      "['Path', ['S', 'A', 'C']]\n",
      "['OpenList(2)', ['D', 'F', 'E']]\n",
      "\n",
      "['state', 'D']\n",
      "['OpenList(1)', ['F', 'E']]\n",
      "['ClosedList', ['S', 'B', 'A', 'C', 'D']]\n",
      "[6, 5, 7]\n",
      "['F', 'E', 'G']\n",
      "[0, 2, 4, 3, 8, 5, 8, 9]\n",
      "['Path', ['S', 'A', 'C']]\n",
      "['OpenList(2)', ['F', 'E', 'G']]\n",
      "\n",
      "['state', 'F']\n",
      "['OpenList(1)', ['E', 'G']]\n",
      "['ClosedList', ['S', 'B', 'A', 'F', 'C', 'D']]\n",
      "[5, 7]\n",
      "['E', 'G']\n",
      "[0, 2, 4, 3, 8, 5, 8, 9]\n",
      "['Path', ['S', 'A', 'C']]\n",
      "['OpenList(2)', ['E', 'G']]\n",
      "\n",
      "['state', 'E']\n",
      "['OpenList(1)', ['G']]\n",
      "['ClosedList', ['E', 'S', 'B', 'A', 'F', 'C', 'D']]\n",
      "[7]\n",
      "['G']\n",
      "[0, 2, 4, 3, 8, 5, 8, 9]\n",
      "['Path', ['S', 'A', 'C']]\n",
      "['OpenList(2)', ['G']]\n",
      "\n",
      "['state', 'G']\n",
      "['OpenList(1)', []]\n",
      "['ClosedList', ['E', 'S', 'B', 'A', 'G', 'F', 'C', 'D']]\n",
      "Completed\n",
      " \n",
      "[0, 2, 4, 3, 8, 5, 8, 9]\n",
      "['Path', ['S', 'A', 'C', 'E', 'G']]\n"
     ]
    },
    {
     "data": {
      "text/plain": [
       "[['', 'S', 'A', 'A', 'C', 'C', 'B', 'D'],\n",
       " ['S', 'A', 'B', 'C', 'D', 'E', 'F', 'G']]"
      ]
     },
     "execution_count": 6,
     "metadata": {},
     "output_type": "execute_result"
    }
   ],
   "source": [
    "# completed version of cost-first search ( summation)\n",
    "\n",
    "OpenList=['S']\n",
    "ClosedList=[]\n",
    "CList=[]\n",
    "C2=[0]*len(C[0])\n",
    "connN=['']*len(C[0])\n",
    "Path=[]\n",
    "\n",
    "while OpenList:\n",
    "    state=OpenList[0]\n",
    "    del OpenList[0]\n",
    "    ClosedList=[state]+ClosedList\n",
    "    ClosedList=list(set(ClosedList))\n",
    "    print(['state',state])\n",
    "    print(['OpenList(1)',OpenList])\n",
    "    print(['ClosedList',ClosedList])\n",
    "    if state=='G':\n",
    "        Path.append(pre_state)\n",
    "        Path.append('G')\n",
    "        break\n",
    "    tmpSt=set(TargetGraph[state]) -set(ClosedList)\n",
    "    activeNodes=list(tmpSt -set(OpenList))    \n",
    "    OpenList.extend(activeNodes)\n",
    "    \n",
    "    # cost-first sorting \n",
    "    indexList=[Node.index(L)  for L in OpenList]\n",
    "    if len(CList)==0:\n",
    "        CList=[C[Node.index(state)][i] for i in indexList]\n",
    "    else:\n",
    "        print(indexList)\n",
    "        CList=[C2[Node.index(state)]+C[Node.index(state)][i] for i in indexList]\n",
    "        \n",
    "    keys = ['node','cost']\n",
    "    d_all=[]\n",
    "    flagU1=False\n",
    "    flagU2=True\n",
    "    for i in range(len(OpenList)):\n",
    "        values=[OpenList[i],CList[i]]\n",
    "        d = {k: v for k, v in zip(keys, values)}\n",
    "        if (C[Node.index(state)][Node.index(values[0])]>0) and ( C2[Node.index(values[0])]>values[1] or C2[Node.index(values[0])]==0):\n",
    "            # connected node                                                        and  (not larger than before                           or    blank )\n",
    "            C2[Node.index(values[0])]=values[1]\n",
    "            connN[Node.index(values[0])]=state\n",
    "            flagU1=True\n",
    "        if   C2[Node.index(values[0])]<values[1]:\n",
    "            flagU2=False\n",
    "        d_all.append(d)\n",
    "    if flagU1 and flagU2:\n",
    "        Path.append(state)\n",
    "    d_all.sort(key=lambda x: x['cost'])\n",
    "    OpenList=[d['node'] for d in d_all]\n",
    "    print(OpenList)\n",
    "    print(C2) \n",
    "    print(['Path',Path])\n",
    "    # ---\n",
    "    pre_state=state\n",
    "    print(['OpenList(2)',OpenList])\n",
    "    print('')\n",
    "\n",
    "connN2=[connN,Node]\n",
    "print('Completed') \n",
    "print(' ') \n",
    "print(C2) \n",
    "print(['Path',Path])\n",
    "connN2"
   ]
  },
  {
   "cell_type": "code",
   "execution_count": 7,
   "metadata": {},
   "outputs": [
    {
     "data": {
      "text/plain": [
       "[0, 2, 4, 3, 8, 5, 8, 9]"
      ]
     },
     "execution_count": 7,
     "metadata": {},
     "output_type": "execute_result"
    }
   ],
   "source": [
    "C2"
   ]
  },
  {
   "cell_type": "code",
   "execution_count": 11,
   "metadata": {},
   "outputs": [
    {
     "name": "stdout",
     "output_type": "stream",
     "text": [
      "['state', 'S']\n",
      "['OpenList(1)', []]\n",
      "['ClosedList', ['S']]\n",
      "['OpenList(2)', ['B', 'A']]\n",
      "\n",
      "['state', 'B']\n",
      "['OpenList(1)', ['A']]\n",
      "['ClosedList', ['S', 'B']]\n",
      "['OpenList(2)', ['F', 'E', 'A']]\n",
      "\n",
      "['state', 'F']\n",
      "['OpenList(1)', ['E', 'A']]\n",
      "['ClosedList', ['S', 'F', 'B']]\n",
      "['OpenList(2)', ['E', 'A']]\n",
      "\n",
      "['state', 'E']\n",
      "['OpenList(1)', ['A']]\n",
      "['ClosedList', ['E', 'F', 'S', 'B']]\n",
      "['OpenList(2)', ['G', 'D', 'C', 'A']]\n",
      "\n",
      "['state', 'G']\n",
      "['OpenList(1)', ['D', 'C', 'A']]\n",
      "['ClosedList', ['E', 'S', 'B', 'G', 'F']]\n",
      "Completed\n",
      " \n",
      "['Path', ['S', 'B', 'E', 'G']]\n"
     ]
    }
   ],
   "source": [
    "# Yuma Kubota's version\n",
    "\n",
    "# completed version of best-first search\n",
    "\n",
    "OpenList=['S']\n",
    "ClosedList=[]\n",
    "Path=[]\n",
    "\n",
    "while OpenList:\n",
    "    state=OpenList[0]\n",
    "    \n",
    "    # stateがパス終端部ノードと接続可能か？\n",
    "    if len(Path) != 0:\n",
    "        for p in Path[::-1]:\n",
    "            if p not in TargetGraph[state]:\n",
    "                Path.remove(p)\n",
    "            else:\n",
    "                break    \n",
    "    \n",
    "    del OpenList[0]\n",
    "    ClosedList=[state]+ClosedList\n",
    "    ClosedList=list(set(ClosedList))\n",
    "    print(['state',state])\n",
    "    print(['OpenList(1)',OpenList])\n",
    "    print(['ClosedList',ClosedList])\n",
    "    if state=='G':\n",
    "        Path.append('G')\n",
    "        break\n",
    "    tmpSt=set(TargetGraph[state]) -set(ClosedList)\n",
    "    activeNodes=list(tmpSt -set(OpenList))    \n",
    "    OpenList.extend(activeNodes)\n",
    "    \n",
    "    # heuristic value sorting \n",
    "    indexList=[Node.index(L)  for L in OpenList]\n",
    "    HList=[H[i] for i in indexList]\n",
    "    \n",
    "    keys = ['node','h']\n",
    "    d_all=[]\n",
    "    for i in range(len(OpenList)):\n",
    "        values=[OpenList[i],HList[i]]\n",
    "        d = {k: v for k, v in zip(keys, values)}\n",
    "        d_all.append(d)\n",
    "    d_all.sort(key=lambda x: x['h'])\n",
    "    OpenList=[d['node'] for d in d_all]\n",
    "    Path.append(state)\n",
    "    # ---\n",
    "    \n",
    "    print(['OpenList(2)',OpenList])\n",
    "    print('')\n",
    "print('Completed') \n",
    "print(' ') \n",
    "print(['Path',Path])"
   ]
  },
  {
   "cell_type": "code",
   "execution_count": 12,
   "metadata": {},
   "outputs": [
    {
     "data": {
      "text/plain": [
       "[4, 1, 0, 3]"
      ]
     },
     "execution_count": 12,
     "metadata": {},
     "output_type": "execute_result"
    }
   ],
   "source": [
    "HList"
   ]
  },
  {
   "cell_type": "code",
   "execution_count": 9,
   "metadata": {},
   "outputs": [],
   "source": [
    "H =[4,4,2,3,1,1,0,0]"
   ]
  },
  {
   "cell_type": "code",
   "execution_count": 10,
   "metadata": {},
   "outputs": [
    {
     "name": "stdout",
     "output_type": "stream",
     "text": [
      "['state', 'S']\n",
      "['OpenList(1)', []]\n",
      "['ClosedList', ['S']]\n",
      "['OpenList(2)', ['B', 'A']]\n",
      "\n",
      "['state', 'B']\n",
      "['OpenList(1)', ['A']]\n",
      "['ClosedList', ['S', 'B']]\n",
      "['OpenList(2)', ['F', 'E', 'A']]\n",
      "\n",
      "['state', 'F']\n",
      "['OpenList(1)', ['E', 'A']]\n",
      "['ClosedList', ['S', 'F', 'B']]\n",
      "['OpenList(2)', ['E', 'A']]\n",
      "\n",
      "['state', 'E']\n",
      "['OpenList(1)', ['A']]\n",
      "['ClosedList', ['E', 'F', 'S', 'B']]\n",
      "['OpenList(2)', ['G', 'D', 'C', 'A']]\n",
      "\n",
      "['state', 'G']\n",
      "['OpenList(1)', ['D', 'C', 'A']]\n",
      "['ClosedList', ['E', 'S', 'B', 'G', 'F']]\n",
      "Completed\n",
      " \n",
      "['Path', ['S', 'B', 'F', 'E', 'G']]\n"
     ]
    }
   ],
   "source": [
    "# completed version of best-first search\n",
    "\n",
    "OpenList=['S']\n",
    "ClosedList=[]\n",
    "Path=[]\n",
    "\n",
    "while OpenList:\n",
    "    state=OpenList[0]\n",
    "    del OpenList[0]\n",
    "    ClosedList=[state]+ClosedList\n",
    "    ClosedList=list(set(ClosedList))\n",
    "    print(['state',state])\n",
    "    print(['OpenList(1)',OpenList])\n",
    "    print(['ClosedList',ClosedList])\n",
    "    if state=='G':\n",
    "        Path.append('G')\n",
    "        break\n",
    "    tmpSt=set(TargetGraph[state]) -set(ClosedList)\n",
    "    activeNodes=list(tmpSt -set(OpenList))    \n",
    "    OpenList.extend(activeNodes)\n",
    "    \n",
    "    # heuristic value sorting \n",
    "    indexList=[Node.index(L)  for L in OpenList]\n",
    "    HList=[H[i] for i in indexList]\n",
    "    \n",
    "    keys = ['node','h']\n",
    "    d_all=[]\n",
    "    for i in range(len(OpenList)):\n",
    "        values=[OpenList[i],HList[i]]\n",
    "        d = {k: v for k, v in zip(keys, values)}\n",
    "        d_all.append(d)\n",
    "    d_all.sort(key=lambda x: x['h'])\n",
    "    OpenList=[d['node'] for d in d_all]\n",
    "    Path.append(state)\n",
    "    # ---\n",
    "    \n",
    "    print(['OpenList(2)',OpenList])\n",
    "    print('')\n",
    "print('Completed') \n",
    "print(' ') \n",
    "print(['Path',Path])\n"
   ]
  },
  {
   "cell_type": "code",
   "execution_count": 99,
   "metadata": {},
   "outputs": [
    {
     "name": "stdout",
     "output_type": "stream",
     "text": [
      "['state', 'S']\n",
      "['OpenList(1)', []]\n",
      "['ClosedList', ['S']]\n",
      "['A', 'B']\n",
      "[0, 2, 6, 0, 0, 0, 0, 0]\n",
      "['Path', ['S']]\n",
      "['OpenList(2)', ['A', 'B']]\n",
      "\n",
      "['state', 'A']\n",
      "['OpenList(1)', ['B']]\n",
      "['ClosedList', ['S', 'A']]\n",
      "[2, 3]\n",
      "['B', 'C']\n",
      "[0, 2, 4, 3, 0, 0, 0, 0]\n",
      "['Path', ['S', 'A']]\n",
      "['OpenList(2)', ['B', 'C']]\n",
      "\n",
      "['state', 'B']\n",
      "['OpenList(1)', ['C']]\n",
      "['ClosedList', ['B', 'S', 'A']]\n",
      "[3, 5, 6]\n",
      "['C', 'F', 'E']\n",
      "[0, 2, 4, 3, 0, 9, 8, 0]\n",
      "['Path', ['S', 'A']]\n",
      "['OpenList(2)', ['C', 'F', 'E']]\n",
      "\n",
      "['state', 'C']\n",
      "['OpenList(1)', ['F', 'E']]\n",
      "['ClosedList', ['B', 'C', 'S', 'A']]\n",
      "[6, 5, 4]\n",
      "['F', 'E', 'D']\n",
      "[0, 2, 4, 3, 8, 5, 8, 0]\n",
      "['Path', ['S', 'A', 'C']]\n",
      "['OpenList(2)', ['F', 'E', 'D']]\n",
      "\n",
      "['state', 'F']\n",
      "['OpenList(1)', ['E', 'D']]\n",
      "['ClosedList', ['C', 'F', 'B', 'A', 'S']]\n",
      "[5, 4]\n",
      "['E', 'D']\n",
      "[0, 2, 4, 3, 8, 5, 8, 0]\n",
      "['Path', ['S', 'A', 'C']]\n",
      "['OpenList(2)', ['E', 'D']]\n",
      "\n",
      "['state', 'E']\n",
      "['OpenList(1)', ['D']]\n",
      "['ClosedList', ['C', 'F', 'E', 'B', 'A', 'S']]\n",
      "[4, 7]\n",
      "['D', 'G']\n",
      "[0, 2, 4, 3, 6, 5, 8, 10]\n",
      "['Path', ['S', 'A', 'C', 'E']]\n",
      "['OpenList(2)', ['D', 'G']]\n",
      "\n",
      "['state', 'D']\n",
      "['OpenList(1)', ['G']]\n",
      "['ClosedList', ['C', 'F', 'E', 'B', 'A', 'D', 'S']]\n",
      "[7]\n",
      "['G']\n",
      "[0, 2, 4, 3, 6, 5, 8, 7]\n",
      "['Path', ['S', 'A', 'C', 'E', 'D']]\n",
      "['OpenList(2)', ['G']]\n",
      "\n",
      "['state', 'G']\n",
      "['OpenList(1)', []]\n",
      "['ClosedList', ['C', 'F', 'G', 'E', 'B', 'A', 'D', 'S']]\n",
      "Completed\n",
      " \n",
      "[0, 2, 4, 3, 6, 5, 8, 7]\n",
      "['Path', ['S', 'A', 'C', 'E', 'D', 'G']]\n"
     ]
    },
    {
     "data": {
      "text/plain": [
       "[['', 'S', 'A', 'A', 'E', 'C', 'B', 'D'],\n",
       " ['S', 'A', 'B', 'C', 'D', 'E', 'F', 'G']]"
      ]
     },
     "execution_count": 99,
     "metadata": {},
     "output_type": "execute_result"
    }
   ],
   "source": [
    "# completed version of A* search \n",
    "\n",
    "OpenList=['S']\n",
    "ClosedList=[]\n",
    "CList=[]\n",
    "C2=[0]*len(C[0])\n",
    "connN=['']*len(C[0])\n",
    "Path=[]\n",
    "\n",
    "while OpenList:\n",
    "    state=OpenList[0]\n",
    "    del OpenList[0]\n",
    "    ClosedList=[state]+ClosedList\n",
    "    ClosedList=list(set(ClosedList))\n",
    "    print(['state',state])\n",
    "    print(['OpenList(1)',OpenList])\n",
    "    print(['ClosedList',ClosedList])\n",
    "    if state=='G':\n",
    "#         Path.append(pre_state)\n",
    "        Path.append('G')\n",
    "        break\n",
    "    tmpSt=set(TargetGraph[state]) -set(ClosedList)\n",
    "    activeNodes=list(tmpSt -set(OpenList))    \n",
    "    OpenList.extend(activeNodes)\n",
    "\n",
    "    # heuristic value sorting \n",
    "    indexList=[Node.index(L)  for L in OpenList]\n",
    "    HList=[H[i] for i in indexList]\n",
    "    \n",
    "    # cost-first sorting \n",
    "    if len(CList)==0:\n",
    "        CList=[C[Node.index(state)][i] for i in indexList]\n",
    "    else:\n",
    "        print(indexList)\n",
    "        CList=[C2[Node.index(state)]+C[Node.index(state)][i] for i in indexList]\n",
    "        \n",
    "    keys = ['node','cost','h','f']\n",
    "    d_all=[]\n",
    "    flagU1=False\n",
    "    flagU2=True\n",
    "    for i in range(len(OpenList)):\n",
    "        values=[OpenList[i],CList[i],HList[i],CList[i]+HList[i]]\n",
    "        d = {k: v for k, v in zip(keys, values)}\n",
    "        if (C[Node.index(state)][Node.index(values[0])]>0) and ( C2[Node.index(values[0])]>values[1] or C2[Node.index(values[0])]==0):\n",
    "            # connected node                                                        and  (not larger than before                           or    blank )\n",
    "            C2[Node.index(values[0])]=values[1]\n",
    "            connN[Node.index(values[0])]=state\n",
    "            flagU1=True\n",
    "        if   C2[Node.index(values[0])]<values[1]:\n",
    "            flagU2=False\n",
    "        d_all.append(d)\n",
    "    if flagU1 and flagU2:\n",
    "        Path.append(state)\n",
    "    d_all.sort(key=lambda x: x['f'])\n",
    "    OpenList=[d['node'] for d in d_all]\n",
    "    print(OpenList)\n",
    "    print(C2) \n",
    "    print(['Path',Path])\n",
    "    # ---\n",
    "    pre_state=state\n",
    "    print(['OpenList(2)',OpenList])\n",
    "    print('')\n",
    "\n",
    "connN2=[connN,Node]\n",
    "print('Completed') \n",
    "print(' ') \n",
    "print(C2) \n",
    "print(['Path',Path])\n",
    "connN2"
   ]
  }
 ],
 "metadata": {
  "kernelspec": {
   "display_name": "Python 3 (ipykernel)",
   "language": "python",
   "name": "python3"
  },
  "language_info": {
   "codemirror_mode": {
    "name": "ipython",
    "version": 3
   },
   "file_extension": ".py",
   "mimetype": "text/x-python",
   "name": "python",
   "nbconvert_exporter": "python",
   "pygments_lexer": "ipython3",
   "version": "3.9.16"
  }
 },
 "nbformat": 4,
 "nbformat_minor": 2
}
