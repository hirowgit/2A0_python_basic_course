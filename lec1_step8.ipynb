{
 "cells": [
  {
   "cell_type": "code",
   "execution_count": null,
   "metadata": {},
   "outputs": [],
   "source": [
    "## Python basics for novice data scientists, supported by Wagatsuma Lab@Kyutech \n",
    "#\n",
    "# The MIT License (MIT): Copyright (c) 2020 Hiroaki Wagatsuma and Wagatsuma Lab@Kyutech\n",
    "# \n",
    "# Permission is hereby granted, free of charge, to any person obtaining a copy of this software and associated documentation files (the \"Software\"), to deal in the Software without restriction, including without limitation the rights to use, copy, modify, merge, publish, distribute, sublicense, and/or sell copies of the Software, and to permit persons to whom the Software is furnished to do so, subject to the following conditions:\n",
    "# The above copyright notice and this permission notice shall be included in all copies or substantial portions of the Software.\n",
    "# THE SOFTWARE IS PROVIDED \"AS IS\", WITHOUT WARRANTY OF ANY KIND, EXPRESS OR IMPLIED, INCLUDING BUT NOT LIMITED TO THE WARRANTIES OF MERCHANTABILITY, FITNESS FOR A PARTICULAR PURPOSE AND NONINFRINGEMENT. IN NO EVENT SHALL THE AUTHORS OR COPYRIGHT HOLDERS BE LIABLE FOR ANY CLAIM, DAMAGES OR OTHER LIABILITY, WHETHER IN AN ACTION OF CONTRACT, TORT OR OTHERWISE, ARISING FROM, OUT OF OR IN CONNECTION WITH THE SOFTWARE OR THE USE OR OTHER DEALINGS IN THE SOFTWARE. */\n",
    "#\n",
    "# # @Time    : 2020-10-14 \n",
    "# # @Author  : Hiroaki Wagatsuma\n",
    "# # @Site    : https://github.com/hirowgit/2A_python_basic_course\n",
    "# # @IDE     : Python 3.7.7 (default, Mar 10 2020, 15:43:27) [Clang 10.0.0 (clang-1000.11.45.5)] on darwin\n",
    "# # @File    : lec1_step8.py "
   ]
  },
  {
   "cell_type": "code",
   "execution_count": null,
   "metadata": {},
   "outputs": [],
   "source": [
    "# Practice 3-1 (page 13/29)\n",
    "# https://www.slideshare.net/tadahirotaniguchi0624/3-46861684"
   ]
  },
  {
   "cell_type": "code",
   "execution_count": 38,
   "metadata": {},
   "outputs": [],
   "source": [
    "TargetGraph={\n",
    "    'S':['A','B'],\n",
    "    'A':['S','B','C'],\n",
    "    'B':['S','A','E' ,'F'],\n",
    "    'C':['A','E','D'],\n",
    "    'D':['C','E' ,'G'],\n",
    "    'E':['B','C' ,'D' ,'G'],\n",
    "    'F':['B'],\n",
    "    'G':['D','E']\n",
    "}"
   ]
  },
  {
   "cell_type": "code",
   "execution_count": 39,
   "metadata": {},
   "outputs": [
    {
     "name": "stdout",
     "output_type": "stream",
     "text": [
      "[]\n",
      "OpenList(1):  [['A', 'B']]\n",
      "OpenList(2):  ['A', 'B']\n",
      "ClosedList:  ['S']\n",
      "S\n",
      "OpenList(1):  [['B', 'C'], 'B']\n",
      "OpenList(2):  ['B', 'C', 'B']\n",
      "ClosedList:  ['S', 'A']\n",
      "A\n",
      "OpenList(1):  [['E', 'F'], 'C', 'B']\n",
      "OpenList(2):  ['E', 'F', 'C']\n",
      "ClosedList:  ['S', 'A', 'B']\n",
      "B\n",
      "OpenList(1):  [['C', 'D', 'G'], 'F', 'C']\n",
      "OpenList(2):  ['C', 'D', 'G', 'F', 'C']\n",
      "ClosedList:  ['S', 'A', 'B', 'E']\n",
      "E\n",
      "OpenList(1):  [['D'], 'D', 'G', 'F', 'C']\n",
      "OpenList(2):  ['D', 'D', 'G', 'F']\n",
      "ClosedList:  ['S', 'A', 'B', 'E', 'C']\n",
      "C\n",
      "OpenList(1):  [['G'], 'D', 'G', 'F']\n",
      "OpenList(2):  ['G', 'G', 'F']\n",
      "ClosedList:  ['S', 'A', 'B', 'E', 'C', 'D']\n",
      "D\n",
      "completed\n"
     ]
    }
   ],
   "source": [
    "state=[]\n",
    "OpenList=['S']\n",
    "ClosedList=[]\n",
    "while OpenList:\n",
    "    print(state)\n",
    "    #print(OpenList)\n",
    "    state=OpenList[0]  \n",
    "    del OpenList[0]  \n",
    "    ClosedList.append(state)\n",
    "    if state=='G':\n",
    "        break\n",
    "    activeNodes=[item for item in TargetGraph[state] if item not in ClosedList]\n",
    "    OpenList.insert(0, activeNodes)  # the first item\n",
    "    #s1 = ','.join(OpenList); \n",
    "    print('OpenList(1): ',OpenList)\n",
    "    #pprint.pprint(OpenList)\n",
    "    OpenList=[item for i in OpenList for item in i if item not in ClosedList]\n",
    "    print('OpenList(2): ',OpenList)\n",
    "    print('ClosedList: ',ClosedList)    \n",
    "print('completed') "
   ]
  },
  {
   "cell_type": "code",
   "execution_count": 75,
   "metadata": {},
   "outputs": [
    {
     "data": {
      "text/plain": [
       "['A', 'B', 'C', 'D', 'E', 'S']"
      ]
     },
     "execution_count": 75,
     "metadata": {},
     "output_type": "execute_result"
    }
   ],
   "source": [
    "H = {'S': 0,'A': 5, 'B': 8, 'C': 1, 'D': 2, 'E': 6}\n",
    "sorted(H)"
   ]
  },
  {
   "cell_type": "code",
   "execution_count": 76,
   "metadata": {},
   "outputs": [
    {
     "data": {
      "text/plain": [
       "['A', 'B', 'C', 'D', 'E', 'S']"
      ]
     },
     "execution_count": 76,
     "metadata": {},
     "output_type": "execute_result"
    }
   ],
   "source": [
    "sorted(H.keys())"
   ]
  },
  {
   "cell_type": "code",
   "execution_count": 42,
   "metadata": {},
   "outputs": [
    {
     "data": {
      "text/plain": [
       "[0, 1, 2, 5, 6, 8]"
      ]
     },
     "execution_count": 42,
     "metadata": {},
     "output_type": "execute_result"
    }
   ],
   "source": [
    "sorted(H.values())"
   ]
  },
  {
   "cell_type": "code",
   "execution_count": 44,
   "metadata": {},
   "outputs": [
    {
     "data": {
      "text/plain": [
       "[('A', 5), ('B', 8), ('C', 1), ('D', 2), ('E', 6), ('S', 0)]"
      ]
     },
     "execution_count": 44,
     "metadata": {},
     "output_type": "execute_result"
    }
   ],
   "source": [
    "sorted(H.items(), key = lambda x:x[0])"
   ]
  },
  {
   "cell_type": "code",
   "execution_count": 74,
   "metadata": {},
   "outputs": [
    {
     "data": {
      "text/plain": [
       "[('S', 0), ('C', 1), ('D', 2), ('A', 5), ('E', 6), ('B', 8)]"
      ]
     },
     "execution_count": 74,
     "metadata": {},
     "output_type": "execute_result"
    }
   ],
   "source": [
    "sorted(H.items(), key = lambda x:x[1])"
   ]
  },
  {
   "cell_type": "code",
   "execution_count": 77,
   "metadata": {},
   "outputs": [
    {
     "name": "stdout",
     "output_type": "stream",
     "text": [
      "[('S', 0), ('C', 1), ('D', 2), ('A', 5), ('E', 6), ('B', 8)]\n"
     ]
    }
   ],
   "source": [
    "H2=sorted(H.items(), key = lambda x:x[1])\n",
    "print(H2)\n"
   ]
  },
  {
   "cell_type": "code",
   "execution_count": 78,
   "metadata": {},
   "outputs": [
    {
     "data": {
      "text/plain": [
       "[('S', 0), ('C', 1), ('D', 2), ('A', 5), ('E', 6), ('B', 8)]"
      ]
     },
     "execution_count": 78,
     "metadata": {},
     "output_type": "execute_result"
    }
   ],
   "source": [
    "sorted(H2, key = lambda x:x[1])"
   ]
  },
  {
   "cell_type": "code",
   "execution_count": 79,
   "metadata": {},
   "outputs": [
    {
     "data": {
      "text/plain": [
       "[('A', 5), ('B', 8), ('C', 1), ('D', 2), ('E', 6), ('S', 0)]"
      ]
     },
     "execution_count": 79,
     "metadata": {},
     "output_type": "execute_result"
    }
   ],
   "source": [
    "sorted(H2, key = lambda x:x[0])"
   ]
  },
  {
   "cell_type": "code",
   "execution_count": 80,
   "metadata": {},
   "outputs": [
    {
     "data": {
      "text/plain": [
       "['S', 'C', 'D', 'A', 'E', 'B']"
      ]
     },
     "execution_count": 80,
     "metadata": {},
     "output_type": "execute_result"
    }
   ],
   "source": [
    "[i[0] for i in H2 ]"
   ]
  },
  {
   "cell_type": "code",
   "execution_count": 69,
   "metadata": {},
   "outputs": [
    {
     "data": {
      "text/plain": [
       "[0, 1, 2, 5, 6, 8]"
      ]
     },
     "execution_count": 69,
     "metadata": {},
     "output_type": "execute_result"
    }
   ],
   "source": [
    "[i[1] for i in H2 ]"
   ]
  },
  {
   "cell_type": "code",
   "execution_count": 81,
   "metadata": {},
   "outputs": [],
   "source": [
    "hh1=[i[0] for i in H2 ]\n",
    "hh2=[i[1] for i in H2 ]"
   ]
  },
  {
   "cell_type": "code",
   "execution_count": 87,
   "metadata": {},
   "outputs": [
    {
     "data": {
      "text/plain": [
       "[('S', 0), ('C', 1), ('D', 2), ('A', 5), ('E', 6), ('B', 8)]"
      ]
     },
     "execution_count": 87,
     "metadata": {},
     "output_type": "execute_result"
    }
   ],
   "source": [
    "[(hh1[i],hh2[i]) for i in range(len(hh1)) ]"
   ]
  },
  {
   "cell_type": "code",
   "execution_count": 86,
   "metadata": {},
   "outputs": [
    {
     "data": {
      "text/plain": [
       "[('S', 0), ('C', 1), ('D', 2), ('A', 5), ('E', 6), ('B', 8)]"
      ]
     },
     "execution_count": 86,
     "metadata": {},
     "output_type": "execute_result"
    }
   ],
   "source": [
    "[(hh1[i],hh2[i]) for i in range(len(hh1)) ]"
   ]
  },
  {
   "cell_type": "code",
   "execution_count": 90,
   "metadata": {},
   "outputs": [],
   "source": [
    "C=[[0, 2, 6, 0, 0, 0, 0, 0],\n",
    "      [2, 0, 2, 1, 0, 0, 0, 0] ,\n",
    "      [6, 2, 0, 0, 0, 5, 4, 0] ,\n",
    "      [0, 1, 0, 0, 5, 2, 0, 0] ,\n",
    "      [0, 0, 0, 5, 0, 1, 0, 1] ,\n",
    "      [0, 0, 5, 2, 1, 0, 0, 5] ,\n",
    "      [0, 0, 4, 0, 0, 0, 0, 0] ,\n",
    "      [0, 0, 0, 0, 1, 5, 0, 0]\n",
    "]"
   ]
  },
  {
   "cell_type": "code",
   "execution_count": 91,
   "metadata": {},
   "outputs": [
    {
     "name": "stdout",
     "output_type": "stream",
     "text": [
      "[[0, 2, 6, 0, 0, 0, 0, 0], [2, 0, 2, 1, 0, 0, 0, 0], [6, 2, 0, 0, 0, 5, 4, 0], [0, 1, 0, 0, 5, 2, 0, 0], [0, 0, 0, 5, 0, 1, 0, 1], [0, 0, 5, 2, 1, 0, 0, 5], [0, 0, 4, 0, 0, 0, 0, 0], [0, 0, 0, 0, 1, 5, 0, 0]]\n"
     ]
    }
   ],
   "source": [
    "print(C)"
   ]
  },
  {
   "cell_type": "code",
   "execution_count": 92,
   "metadata": {},
   "outputs": [
    {
     "name": "stdout",
     "output_type": "stream",
     "text": [
      "[[0, 2, 6, 0, 0, 0, 0, 0],\n",
      " [2, 0, 2, 1, 0, 0, 0, 0],\n",
      " [6, 2, 0, 0, 0, 5, 4, 0],\n",
      " [0, 1, 0, 0, 5, 2, 0, 0],\n",
      " [0, 0, 0, 5, 0, 1, 0, 1],\n",
      " [0, 0, 5, 2, 1, 0, 0, 5],\n",
      " [0, 0, 4, 0, 0, 0, 0, 0],\n",
      " [0, 0, 0, 0, 1, 5, 0, 0]]\n"
     ]
    }
   ],
   "source": [
    "pprint.pprint(C)"
   ]
  },
  {
   "cell_type": "code",
   "execution_count": 99,
   "metadata": {},
   "outputs": [
    {
     "name": "stdout",
     "output_type": "stream",
     "text": [
      "['S', 'A', 'B', 'C', 'D', 'E', 'F', 'G']\n"
     ]
    }
   ],
   "source": [
    "N=7\n",
    "Node=[chr(i) for i in range(65,65+N)]\n",
    "Node=['S']+Node\n",
    "print(Node)"
   ]
  },
  {
   "cell_type": "code",
   "execution_count": 110,
   "metadata": {},
   "outputs": [
    {
     "data": {
      "text/plain": [
       "5"
      ]
     },
     "execution_count": 110,
     "metadata": {},
     "output_type": "execute_result"
    }
   ],
   "source": [
    "[s for s in range(len(Node)) if 'E' in Node[s]][0]"
   ]
  },
  {
   "cell_type": "code",
   "execution_count": 113,
   "metadata": {},
   "outputs": [
    {
     "data": {
      "text/plain": [
       "[('S', 'A')]"
      ]
     },
     "execution_count": 113,
     "metadata": {},
     "output_type": "execute_result"
    }
   ],
   "source": [
    "[('S','A')]"
   ]
  },
  {
   "cell_type": "code",
   "execution_count": 120,
   "metadata": {},
   "outputs": [
    {
     "name": "stdout",
     "output_type": "stream",
     "text": [
      "S\n",
      "A\n"
     ]
    }
   ],
   "source": [
    "g=('S', 'A')\n",
    "print(g[0])\n",
    "print(g[1])"
   ]
  },
  {
   "cell_type": "code",
   "execution_count": 118,
   "metadata": {},
   "outputs": [
    {
     "data": {
      "text/plain": [
       "2"
      ]
     },
     "execution_count": 118,
     "metadata": {},
     "output_type": "execute_result"
    }
   ],
   "source": [
    "C[1][2]"
   ]
  },
  {
   "cell_type": "code",
   "execution_count": 121,
   "metadata": {},
   "outputs": [
    {
     "data": {
      "text/plain": [
       "2"
      ]
     },
     "execution_count": 121,
     "metadata": {},
     "output_type": "execute_result"
    }
   ],
   "source": [
    "g=('S', 'A')\n",
    "i=[s for s in range(len(Node)) if g[0] in Node[s]][0]\n",
    "j=[s for s in range(len(Node)) if g[1] in Node[s]][0]\n",
    "C[i][j]"
   ]
  },
  {
   "cell_type": "code",
   "execution_count": 129,
   "metadata": {},
   "outputs": [
    {
     "name": "stdout",
     "output_type": "stream",
     "text": [
      "['S', 'A', 'B', 'C', 'D', 'E', 'F', 'G']\n"
     ]
    },
    {
     "data": {
      "text/plain": [
       "2"
      ]
     },
     "execution_count": 129,
     "metadata": {},
     "output_type": "execute_result"
    }
   ],
   "source": [
    "def eachCost(Pair,Node,C):\n",
    "    i=[s for s in range(len(Node)) if Pair[0] in Node[s]][0]\n",
    "    j=[s for s in range(len(Node)) if Pair[1] in Node[s]][0]\n",
    "    return C[i][j]\n",
    "\n",
    "C=[[0, 2, 6, 0, 0, 0, 0, 0],\n",
    "      [2, 0, 2, 1, 0, 0, 0, 0] ,\n",
    "      [6, 2, 0, 0, 0, 5, 4, 0] ,\n",
    "      [0, 1, 0, 0, 5, 2, 0, 0] ,\n",
    "      [0, 0, 0, 5, 0, 1, 0, 1] ,\n",
    "      [0, 0, 5, 2, 1, 0, 0, 5] ,\n",
    "      [0, 0, 4, 0, 0, 0, 0, 0] ,\n",
    "      [0, 0, 0, 0, 1, 5, 0, 0]\n",
    "]\n",
    "N=7\n",
    "Node=[chr(i) for i in range(65,65+N)]\n",
    "Node=['S']+Node\n",
    "print(Node)\n",
    "g=('S', 'A')\n",
    "eachCost(g,Node,C)\n",
    "\n"
   ]
  },
  {
   "cell_type": "code",
   "execution_count": 142,
   "metadata": {},
   "outputs": [
    {
     "name": "stdout",
     "output_type": "stream",
     "text": [
      "S\n",
      "[('A', 'S'), ('B', 'S')]\n",
      "('A', 'S')\n",
      "[2, 6]\n",
      "OpenList(1):  [['A', 'B']]\n",
      "key:  [0, 1]\n",
      "OpenList(2):  ['A', 'B']\n",
      "ClosedList:  ['S']\n",
      "A\n",
      "[('B', 'A'), ('C', 'A')]\n",
      "('B', 'A')\n",
      "[2, 1]\n",
      "OpenList(1):  [['B', 'C'], 'B']\n",
      "key:  [0, 1, 2]\n",
      "OpenList(2):  ['B', 'C', 'B']\n",
      "ClosedList:  ['S', 'A']\n",
      "B\n",
      "[('E', 'B'), ('F', 'B')]\n",
      "('E', 'B')\n",
      "[5, 4]\n",
      "OpenList(1):  [['E', 'F'], 'C', 'B']\n",
      "key:  [0, 1, 2]\n",
      "OpenList(2):  ['E', 'F', 'C', 'B']\n",
      "ClosedList:  ['S', 'A', 'B']\n",
      "E\n",
      "[('C', 'E'), ('D', 'E'), ('G', 'E')]\n",
      "('C', 'E')\n",
      "[2, 1, 5]\n",
      "OpenList(1):  [['C', 'D', 'G'], 'F', 'C', 'B']\n",
      "key:  [0, 1, 2, 3, 4]\n",
      "OpenList(2):  ['C', 'D', 'G', 'F', 'C', 'B']\n",
      "ClosedList:  ['S', 'A', 'B', 'E']\n",
      "C\n",
      "[('D', 'C')]\n",
      "('D', 'C')\n",
      "[5]\n",
      "OpenList(1):  [['D'], 'D', 'G', 'F', 'C', 'B']\n",
      "key:  [0, 1, 2, 3]\n",
      "OpenList(2):  ['D', 'D', 'G', 'F', 'C', 'B']\n",
      "ClosedList:  ['S', 'A', 'B', 'E', 'C']\n",
      "D\n",
      "[('G', 'D')]\n",
      "('G', 'D')\n",
      "[1]\n",
      "OpenList(1):  [['G'], 'D', 'G', 'F', 'C', 'B']\n",
      "key:  [0, 2, 3]\n",
      "OpenList(2):  ['G', 'D', 'G', 'F', 'C', 'B']\n",
      "ClosedList:  ['S', 'A', 'B', 'E', 'C', 'D']\n",
      "G\n",
      "completed\n"
     ]
    }
   ],
   "source": [
    "# New with the cost calculation\n",
    "CostList=[]\n",
    "state=[]\n",
    "OpenList=['S']\n",
    "ClosedList=[]\n",
    "while OpenList: \n",
    "    #print(OpenList)\n",
    "    state=OpenList[0]  \n",
    "    print(state)\n",
    "    del OpenList[0]  \n",
    "    ClosedList.append(state)\n",
    "    if state=='G':\n",
    "        break\n",
    "    activeNodes=[item for item in TargetGraph[state] if item not in ClosedList]\n",
    "    costM=[(s,state) for s in activeNodes]\n",
    "    print(costM)\n",
    "    print(costM[0])\n",
    "    costMat=[eachCost(costM[i],Node,C) for i in range(len(costM))]\n",
    "    print(costMat)\n",
    "    OpenList.insert(0, activeNodes)  # the first item\n",
    "    CostList.insert(0, costMat)  # the first item\n",
    "    print('OpenList(1): ',OpenList)\n",
    "    #OpenList=[item for i in OpenList for item in i if i not in ClosedList]\n",
    "    OpenList=[item for i in OpenList for item in i]\n",
    "    key=[k for k in range(len(OpenList)) if OpenList[k] not in ClosedList]\n",
    "    print('key: ',key)\n",
    "    print('OpenList(2): ',OpenList)\n",
    "    print('ClosedList: ',ClosedList)    \n",
    "print('completed') "
   ]
  },
  {
   "cell_type": "code",
   "execution_count": 208,
   "metadata": {},
   "outputs": [
    {
     "name": "stdout",
     "output_type": "stream",
     "text": [
      "S\n",
      "[('A', 'S'), ('B', 'S')]\n",
      "('A', 'S')\n",
      "[2, 6]\n",
      "OpenList(1):  [['A', 'B']]\n",
      "CostList(1):  [2, 6]\n",
      "key:  [0, 1]\n",
      "OpenList(2):  ['A', 'B']\n",
      "CostList(2):  [2, 6]\n",
      "ClosedList:  ['S']\n",
      "A\n",
      "[('B', 'A'), ('C', 'A')]\n",
      "('B', 'A')\n",
      "[2, 1]\n",
      "OpenList(1):  [['B', 'C'], 'B']\n",
      "CostList(1):  [2, 1, 2, 6]\n",
      "key:  [0, 1, 2]\n",
      "OpenList(2):  ['B', 'C', 'B']\n",
      "CostList(2):  [2, 1, 2, 6]\n",
      "ClosedList:  ['S', 'A']\n",
      "B\n",
      "[('E', 'B'), ('F', 'B')]\n",
      "('E', 'B')\n",
      "[5, 4]\n",
      "OpenList(1):  [['E', 'F'], 'C', 'B']\n",
      "CostList(1):  [5, 4, 2, 1, 2, 6]\n",
      "key:  [0, 1, 2]\n",
      "OpenList(2):  ['E', 'F', 'C']\n",
      "CostList(2):  [5, 4, 2, 1, 2, 6]\n",
      "ClosedList:  ['S', 'A', 'B']\n",
      "E\n",
      "[('C', 'E'), ('D', 'E'), ('G', 'E')]\n",
      "('C', 'E')\n",
      "[2, 1, 5]\n",
      "OpenList(1):  [['C', 'D', 'G'], 'F', 'C']\n",
      "CostList(1):  [2, 1, 5, 5, 4, 2, 1, 2, 6]\n",
      "key:  [0, 1, 2, 3, 4]\n",
      "OpenList(2):  ['C', 'D', 'G', 'F', 'C']\n",
      "CostList(2):  [2, 1, 5, 5, 4, 2, 1, 2, 6]\n",
      "ClosedList:  ['S', 'A', 'B', 'E']\n",
      "C\n",
      "[('D', 'C')]\n",
      "('D', 'C')\n",
      "[5]\n",
      "OpenList(1):  [['D'], 'D', 'G', 'F', 'C']\n",
      "CostList(1):  [5, 2, 1, 5, 5, 4, 2, 1, 2, 6]\n",
      "key:  [0, 1, 2, 3]\n",
      "OpenList(2):  ['D', 'D', 'G', 'F']\n",
      "CostList(2):  [5, 2, 1, 5, 5, 4, 2, 1, 2, 6]\n",
      "ClosedList:  ['S', 'A', 'B', 'E', 'C']\n",
      "D\n",
      "[('G', 'D')]\n",
      "('G', 'D')\n",
      "[1]\n",
      "OpenList(1):  [['G'], 'D', 'G', 'F']\n",
      "CostList(1):  [1, 5, 2, 1, 5, 5, 4, 2, 1, 2, 6]\n",
      "key:  [0, 2, 3]\n",
      "OpenList(2):  ['G', 'G', 'F']\n",
      "CostList(2):  [1, 5, 2, 1, 5, 5, 4, 2, 1, 2, 6]\n",
      "ClosedList:  ['S', 'A', 'B', 'E', 'C', 'D']\n",
      "G\n",
      "completed\n"
     ]
    }
   ],
   "source": [
    "# New with the cost calculation\n",
    "CostList=[]\n",
    "state=[]\n",
    "OpenList=['S']\n",
    "ClosedList=[]\n",
    "while OpenList: \n",
    "    #print(OpenList)\n",
    "    state=OpenList[0]  \n",
    "    print(state)\n",
    "    del OpenList[0]  \n",
    "    ClosedList.append(state)\n",
    "    if state=='G':\n",
    "        break\n",
    "    activeNodes=[item for item in TargetGraph[state] if item not in ClosedList]\n",
    "    costM=[(s,state) for s in activeNodes]\n",
    "    print(costM)\n",
    "    print(costM[0])\n",
    "    costMat=[eachCost(costM[i],Node,C) for i in range(len(costM))]\n",
    "    print(costMat)\n",
    "    OpenList.insert(0, activeNodes)  # the first item\n",
    "    CostList=costMat+CostList  # the first item\n",
    "    print('OpenList(1): ',OpenList)\n",
    "    print('CostList(1): ',CostList)\n",
    "    #OpenList=[item for i in OpenList for item in i if i not in ClosedList]\n",
    "    OpenList=[item for i in OpenList for item in i]\n",
    "    #CostList=[item for i in CostList for item in i]\n",
    "    key=[k for k in range(len(OpenList)) if OpenList[k] not in ClosedList]\n",
    "    OpenList=[OpenList[i] for i in key] \n",
    "    #CostList=[CostList[i] for i in key] \n",
    "    print('key: ',key)\n",
    "    print('OpenList(2): ',OpenList)\n",
    "    print('CostList(2): ',CostList)\n",
    "    print('ClosedList: ',ClosedList)    \n",
    "print('completed') "
   ]
  },
  {
   "cell_type": "code",
   "execution_count": 252,
   "metadata": {},
   "outputs": [
    {
     "name": "stdout",
     "output_type": "stream",
     "text": [
      "S\n",
      "OpenList(1):  ['A', 'B']\n",
      "CostList(1):  [2, 6]\n",
      "OpenList(2):  ['A', 'B']\n",
      "CostList(2):  [2, 6]\n",
      "OpenList(sorted):  ['A', 'B']\n",
      "CostList(sorted):  [2, 6]\n",
      "ClosedList:  ['S']\n",
      "A\n",
      "OpenList(1):  ['B', 'C', 'B']\n",
      "CostList(1):  [4, 3, 6]\n",
      "OpenList(2):  ['B', 'C', 'B']\n",
      "CostList(2):  [4, 3, 6]\n",
      "OpenList(sorted):  ['C', 'B', 'B']\n",
      "CostList(sorted):  [3, 4, 6]\n",
      "ClosedList:  ['S', 'A']\n",
      "C\n",
      "OpenList(1):  ['E', 'D', 'B', 'B']\n",
      "CostList(1):  [5, 8, 4, 6]\n",
      "OpenList(2):  ['E', 'D', 'B', 'B']\n",
      "CostList(2):  [5, 8, 4, 6]\n",
      "OpenList(sorted):  ['B', 'E', 'B', 'D']\n",
      "CostList(sorted):  [4, 5, 6, 8]\n",
      "ClosedList:  ['S', 'A', 'C']\n",
      "B\n",
      "OpenList(1):  ['E', 'F', 'E', 'B', 'D']\n",
      "CostList(1):  [9, 8, 5, 6, 8]\n",
      "OpenList(2):  ['E', 'F', 'E', 'D']\n",
      "CostList(2):  [9, 8, 5, 8]\n",
      "OpenList(sorted):  ['E', 'F', 'D', 'E']\n",
      "CostList(sorted):  [5, 8, 8, 9]\n",
      "ClosedList:  ['S', 'A', 'C', 'B']\n",
      "E\n",
      "OpenList(1):  ['D', 'G', 'F', 'D', 'E']\n",
      "CostList(1):  [6, 10, 8, 8, 9]\n",
      "OpenList(2):  ['D', 'G', 'F', 'D']\n",
      "CostList(2):  [6, 10, 8, 8]\n",
      "OpenList(sorted):  ['D', 'F', 'D', 'G']\n",
      "CostList(sorted):  [6, 8, 8, 10]\n",
      "ClosedList:  ['S', 'A', 'C', 'B', 'E']\n",
      "D\n",
      "OpenList(1):  ['G', 'F', 'D', 'G']\n",
      "CostList(1):  [7, 8, 8, 10]\n",
      "OpenList(2):  ['G', 'F', 'G']\n",
      "CostList(2):  [7, 8, 10]\n",
      "OpenList(sorted):  ['G', 'F', 'G']\n",
      "CostList(sorted):  [7, 8, 10]\n",
      "ClosedList:  ['S', 'A', 'C', 'B', 'E', 'D']\n",
      "G\n",
      "completed\n"
     ]
    }
   ],
   "source": [
    "# New version with sort\n",
    "CostList=[]\n",
    "state=[]\n",
    "stateC=[]\n",
    "OpenList=['S']\n",
    "CostList=[0]\n",
    "ClosedList=[]\n",
    "while OpenList: \n",
    "    #print(OpenList)\n",
    "    state=OpenList[0]  \n",
    "    stateC=CostList[0]\n",
    "    print(state)\n",
    "    del OpenList[0]  \n",
    "    del CostList[0]  \n",
    "    ClosedList.append(state)\n",
    "    if state=='G':\n",
    "        break\n",
    "    activeNodes=[item for item in TargetGraph[state] if item not in ClosedList]\n",
    "    costM=[(s,state) for s in activeNodes]\n",
    "    costMat=[eachCost(costM[i],Node,C) for i in range(len(costM))]\n",
    "    OpenList=activeNodes+OpenList  # the first item\n",
    "    CostList=list(map(lambda x: x + stateC, costMat))+CostList  # the first item\n",
    "    print('OpenList(1): ',OpenList)\n",
    "    print('CostList(1): ',CostList)\n",
    "    key=[k for k in range(len(OpenList)) if OpenList[k] not in ClosedList]\n",
    "    OpenList=[OpenList[i] for i in key] \n",
    "    CostList=[CostList[i] for i in key] \n",
    "    print('OpenList(2): ',OpenList)\n",
    "    print('CostList(2): ',CostList)\n",
    "    mergeM=[(OpenList[i],CostList[i]) for i in range(len(OpenList)) ]\n",
    "    mergeMs=sorted(mergeM, key = lambda x:x[1])\n",
    "    OpenList=[i[0] for i in mergeMs]\n",
    "    CostList=[i[1] for i in mergeMs]\n",
    "    print('OpenList(sorted): ',OpenList)\n",
    "    print('CostList(sorted): ',CostList)    \n",
    "    print('ClosedList: ',ClosedList)    \n",
    "print('completed') "
   ]
  },
  {
   "cell_type": "code",
   "execution_count": 214,
   "metadata": {},
   "outputs": [
    {
     "name": "stdout",
     "output_type": "stream",
     "text": [
      "S\n",
      "[2, 6]\n",
      "OpenList(1):  ['A', 'B']\n",
      "CostList(1):  [2, 6]\n",
      "OpenList(2):  ['A', 'B']\n",
      "CostList(2):  [2, 6]\n",
      "ClosedList:  ['S']\n",
      "A\n",
      "[2, 1]\n",
      "OpenList(1):  ['B', 'C', 'B']\n",
      "CostList(1):  [2, 1, 2, 6]\n",
      "OpenList(2):  ['B', 'C', 'B']\n",
      "CostList(2):  [2, 1, 2]\n",
      "ClosedList:  ['S', 'A']\n",
      "B\n",
      "[5, 4]\n",
      "OpenList(1):  ['E', 'F', 'C', 'B']\n",
      "CostList(1):  [5, 4, 2, 1, 2]\n",
      "OpenList(2):  ['E', 'F', 'C']\n",
      "CostList(2):  [5, 4, 2]\n",
      "ClosedList:  ['S', 'A', 'B']\n",
      "E\n",
      "[2, 1, 5]\n",
      "OpenList(1):  ['C', 'D', 'G', 'F', 'C']\n",
      "CostList(1):  [2, 1, 5, 5, 4, 2]\n",
      "OpenList(2):  ['C', 'D', 'G', 'F', 'C']\n",
      "CostList(2):  [2, 1, 5, 5, 4]\n",
      "ClosedList:  ['S', 'A', 'B', 'E']\n",
      "C\n",
      "[5]\n",
      "OpenList(1):  ['D', 'D', 'G', 'F', 'C']\n",
      "CostList(1):  [5, 2, 1, 5, 5, 4]\n",
      "OpenList(2):  ['D', 'D', 'G', 'F']\n",
      "CostList(2):  [5, 2, 1, 5]\n",
      "ClosedList:  ['S', 'A', 'B', 'E', 'C']\n",
      "D\n",
      "[1]\n",
      "OpenList(1):  ['G', 'D', 'G', 'F']\n",
      "CostList(1):  [1, 5, 2, 1, 5]\n",
      "OpenList(2):  ['G', 'G', 'F']\n",
      "CostList(2):  [1, 2, 1]\n",
      "ClosedList:  ['S', 'A', 'B', 'E', 'C', 'D']\n",
      "G\n",
      "completed\n"
     ]
    }
   ],
   "source": [
    "# New version \n",
    "CostList=[]\n",
    "state=[]\n",
    "OpenList=['S']\n",
    "ClosedList=[]\n",
    "while OpenList: \n",
    "    #print(OpenList)\n",
    "    state=OpenList[0]  \n",
    "    print(state)\n",
    "    del OpenList[0]  \n",
    "    ClosedList.append(state)\n",
    "    if state=='G':\n",
    "        break\n",
    "    activeNodes=[item for item in TargetGraph[state] if item not in ClosedList]\n",
    "    costM=[(s,state) for s in activeNodes]\n",
    "    #print(costM)\n",
    "    #print(costM[0])\n",
    "    costMat=[eachCost(costM[i],Node,C) for i in range(len(costM))]\n",
    "    print(costMat)\n",
    "    OpenList=activeNodes+OpenList  # the first item\n",
    "    CostList=costMat+CostList  # the first item\n",
    "    print('OpenList(1): ',OpenList)\n",
    "    print('CostList(1): ',CostList)\n",
    "    key=[k for k in range(len(OpenList)) if OpenList[k] not in ClosedList]\n",
    "    OpenList=[OpenList[i] for i in key] \n",
    "    CostList=[CostList[i] for i in key] \n",
    "    #print('key: ',key)\n",
    "    print('OpenList(2): ',OpenList)\n",
    "    print('CostList(2): ',CostList)\n",
    "    print('ClosedList: ',ClosedList)    \n",
    "print('completed') "
   ]
  },
  {
   "cell_type": "code",
   "execution_count": 243,
   "metadata": {
    "scrolled": false
   },
   "outputs": [
    {
     "name": "stdout",
     "output_type": "stream",
     "text": [
      "S\n",
      "[('A', 'S'), ('B', 'S')]\n",
      "[2, 6]\n",
      "OpenList(1):  ['A', 'B']\n",
      "CostList(1):  [2, 6]\n",
      "OpenList(2):  ['A', 'B']\n",
      "CostList(2):  [2, 6]\n",
      "ClosedList:  ['S']\n",
      "A\n",
      "[('B', 'A'), ('C', 'A')]\n",
      "[2, 1]\n",
      "OpenList(1):  ['B', 'C', 'B']\n",
      "CostList(1):  [4, 3, 6]\n",
      "OpenList(2):  ['B', 'C', 'B']\n",
      "CostList(2):  [4, 3, 6]\n",
      "ClosedList:  ['S', 'A']\n",
      "B\n",
      "[('E', 'B'), ('F', 'B')]\n",
      "[5, 4]\n",
      "OpenList(1):  ['E', 'F', 'C', 'B']\n",
      "CostList(1):  [9, 8, 3, 6]\n",
      "OpenList(2):  ['E', 'F', 'C']\n",
      "CostList(2):  [9, 8, 3]\n",
      "ClosedList:  ['S', 'A', 'B']\n",
      "E\n",
      "[('C', 'E'), ('D', 'E'), ('G', 'E')]\n",
      "[2, 1, 5]\n",
      "OpenList(1):  ['C', 'D', 'G', 'F', 'C']\n",
      "CostList(1):  [11, 10, 14, 8, 3]\n",
      "OpenList(2):  ['C', 'D', 'G', 'F', 'C']\n",
      "CostList(2):  [11, 10, 14, 8, 3]\n",
      "ClosedList:  ['S', 'A', 'B', 'E']\n",
      "C\n",
      "[('D', 'C')]\n",
      "[5]\n",
      "OpenList(1):  ['D', 'D', 'G', 'F', 'C']\n",
      "CostList(1):  [16, 10, 14, 8, 3]\n",
      "OpenList(2):  ['D', 'D', 'G', 'F']\n",
      "CostList(2):  [16, 10, 14, 8]\n",
      "ClosedList:  ['S', 'A', 'B', 'E', 'C']\n",
      "D\n",
      "[('G', 'D')]\n",
      "[1]\n",
      "OpenList(1):  ['G', 'D', 'G', 'F']\n",
      "CostList(1):  [17, 10, 14, 8]\n",
      "OpenList(2):  ['G', 'G', 'F']\n",
      "CostList(2):  [17, 14, 8]\n",
      "ClosedList:  ['S', 'A', 'B', 'E', 'C', 'D']\n",
      "G\n",
      "completed\n"
     ]
    }
   ],
   "source": [
    "# New version \n",
    "CostList=[]\n",
    "state=[]\n",
    "stateC=[]\n",
    "OpenList=['S']\n",
    "CostList=[0]\n",
    "ClosedList=[]\n",
    "while OpenList: \n",
    "    #print(OpenList)\n",
    "    state=OpenList[0]  \n",
    "    stateC=CostList[0]\n",
    "    print(state)\n",
    "    del OpenList[0]  \n",
    "    del CostList[0]  \n",
    "    ClosedList.append(state)\n",
    "    if state=='G':\n",
    "        break\n",
    "    activeNodes=[item for item in TargetGraph[state] if item not in ClosedList]\n",
    "    #activeNodes=[item for item in TargetGraph[state] ]\n",
    "    costM=[(s,state) for s in activeNodes]\n",
    "    print(costM)\n",
    "    #print(costM[0])\n",
    "    costMat=[eachCost(costM[i],Node,C) for i in range(len(costM))]\n",
    "    print(costMat)\n",
    "    OpenList=activeNodes+OpenList  # the first item\n",
    "    #print(stateC*costMat)\n",
    "    #CostList=stateC*costMat+CostList  # the first item\n",
    "    CostList=list(map(lambda x: x + stateC, costMat))+CostList  # the first item\n",
    "    print('OpenList(1): ',OpenList)\n",
    "    print('CostList(1): ',CostList)\n",
    "    key=[k for k in range(len(OpenList)) if OpenList[k] not in ClosedList]\n",
    "    OpenList=[OpenList[i] for i in key] \n",
    "    CostList=[CostList[i] for i in key] \n",
    "    #print('key: ',key)\n",
    "    print('OpenList(2): ',OpenList)\n",
    "    print('CostList(2): ',CostList)\n",
    "    print('ClosedList: ',ClosedList)    \n",
    "print('completed') "
   ]
  },
  {
   "cell_type": "code",
   "execution_count": 257,
   "metadata": {},
   "outputs": [
    {
     "name": "stdout",
     "output_type": "stream",
     "text": [
      "[2, 4, 2, 4]\n",
      "[2, 4, 2, 4, 1, 2, 3]\n"
     ]
    }
   ],
   "source": [
    "stateC=2\n",
    "costMat=[2,4]\n",
    "CostList=[1,2,3]\n",
    "CostList=stateC*costMat+CostList  # the first item\n",
    "print(stateC*costMat)\n",
    "print(CostList)"
   ]
  },
  {
   "cell_type": "code",
   "execution_count": 259,
   "metadata": {},
   "outputs": [
    {
     "name": "stdout",
     "output_type": "stream",
     "text": [
      "[4, 6]\n",
      "[4, 6, 1, 2, 3]\n"
     ]
    }
   ],
   "source": [
    "stateC=2\n",
    "costMat=[2,4]\n",
    "CostList=[1,2,3]\n",
    "CostList=list(map(lambda x: x + stateC, costMat))+CostList  # the first item\n",
    "print(list(map(lambda x: x + stateC, costMat)))\n",
    "print(CostList)"
   ]
  },
  {
   "cell_type": "code",
   "execution_count": 253,
   "metadata": {},
   "outputs": [
    {
     "name": "stdout",
     "output_type": "stream",
     "text": [
      "S\n",
      "OpenList(1):  ['A', 'B']\n",
      "CostList(1):  [2, 6]\n",
      "OpenList(sorted):  ['A', 'B']\n",
      "CostList(sorted):  [2, 6]\n",
      "ClosedList:  ['S']\n",
      "A\n",
      "OpenList(1):  ['B', 'C', 'B']\n",
      "CostList(1):  [4, 3, 6]\n",
      "OpenList(sorted):  ['C', 'B', 'B']\n",
      "CostList(sorted):  [3, 4, 6]\n",
      "ClosedList:  ['S', 'A']\n",
      "C\n",
      "OpenList(1):  ['E', 'D', 'B', 'B']\n",
      "CostList(1):  [5, 8, 4, 6]\n",
      "OpenList(sorted):  ['B', 'E', 'B', 'D']\n",
      "CostList(sorted):  [4, 5, 6, 8]\n",
      "ClosedList:  ['S', 'A', 'C']\n",
      "B\n",
      "OpenList(1):  ['E', 'F', 'E', 'B', 'D']\n",
      "CostList(1):  [9, 8, 5, 6, 8]\n",
      "OpenList(sorted):  ['E', 'F', 'D', 'E']\n",
      "CostList(sorted):  [5, 8, 8, 9]\n",
      "ClosedList:  ['S', 'A', 'C', 'B']\n",
      "E\n",
      "OpenList(1):  ['D', 'G', 'F', 'D', 'E']\n",
      "CostList(1):  [6, 10, 8, 8, 9]\n",
      "OpenList(sorted):  ['D', 'F', 'D', 'G']\n",
      "CostList(sorted):  [6, 8, 8, 10]\n",
      "ClosedList:  ['S', 'A', 'C', 'B', 'E']\n",
      "D\n",
      "OpenList(1):  ['G', 'F', 'D', 'G']\n",
      "CostList(1):  [7, 8, 8, 10]\n",
      "OpenList(sorted):  ['G', 'F', 'G']\n",
      "CostList(sorted):  [7, 8, 10]\n",
      "ClosedList:  ['S', 'A', 'C', 'B', 'E', 'D']\n",
      "G\n",
      "completed\n"
     ]
    }
   ],
   "source": [
    "# New version with sort\n",
    "CostList=[]\n",
    "state=[]\n",
    "stateC=[]\n",
    "OpenList=['S']\n",
    "CostList=[0]\n",
    "ClosedList=[]\n",
    "while OpenList: \n",
    "    #print(OpenList)\n",
    "    state=OpenList[0]  \n",
    "    stateC=CostList[0]\n",
    "    print(state)\n",
    "    del OpenList[0]  \n",
    "    del CostList[0]  \n",
    "    ClosedList.append(state)\n",
    "    if state=='G':\n",
    "        break\n",
    "    activeNodes=[item for item in TargetGraph[state] if item not in ClosedList]\n",
    "    costM=[(s,state) for s in activeNodes]\n",
    "    costMat=[eachCost(costM[i],Node,C) for i in range(len(costM))]\n",
    "    OpenList=activeNodes+OpenList  # the first item\n",
    "    CostList=list(map(lambda x: x + stateC, costMat))+CostList  # the first item\n",
    "    print('OpenList(1): ',OpenList)\n",
    "    print('CostList(1): ',CostList)\n",
    "    key=[k for k in range(len(OpenList)) if OpenList[k] not in ClosedList]\n",
    "    OpenList=[OpenList[i] for i in key] \n",
    "    CostList=[CostList[i] for i in key] \n",
    "    #print('OpenList(2): ',OpenList)\n",
    "    #print('CostList(2): ',CostList)\n",
    "    mergeM=[(OpenList[i],CostList[i]) for i in range(len(OpenList)) ]\n",
    "    mergeMs=sorted(mergeM, key = lambda x:x[1])\n",
    "    OpenList=[i[0] for i in mergeMs]\n",
    "    CostList=[i[1] for i in mergeMs]\n",
    "    print('OpenList(sorted): ',OpenList)\n",
    "    print('CostList(sorted): ',CostList)    \n",
    "    print('ClosedList: ',ClosedList)    \n",
    "print('completed') "
   ]
  },
  {
   "cell_type": "code",
   "execution_count": 246,
   "metadata": {
    "scrolled": false
   },
   "outputs": [
    {
     "name": "stdout",
     "output_type": "stream",
     "text": [
      "[[2, 1], [2, 6]]\n",
      "[[2, 1], [2, 6]]\n",
      "[2, 1, 2, 6]\n",
      "[]\n",
      "[[2, 1], [2, 6]]\n"
     ]
    }
   ],
   "source": [
    "import itertools\n",
    "\n",
    "CostList=[[2, 1], [2, 6]]\n",
    "print(CostList)\n",
    "print([item  for i in CostList for item in [i] ])\n",
    "print([item  for i in CostList for item in i if type(i)==list])\n",
    "print([item for i in CostList for item in [i] if type(i)!=list])\n",
    "\n",
    "\n",
    "#list(itertools.chain.from_iterable(CostList))\n",
    "print(CostList)\n"
   ]
  },
  {
   "cell_type": "code",
   "execution_count": 247,
   "metadata": {},
   "outputs": [
    {
     "ename": "TypeError",
     "evalue": "'int' object is not iterable",
     "output_type": "error",
     "traceback": [
      "\u001b[0;31m---------------------------------------------------------------------------\u001b[0m",
      "\u001b[0;31mTypeError\u001b[0m                                 Traceback (most recent call last)",
      "\u001b[0;32m<ipython-input-247-17c4a5d48cf1>\u001b[0m in \u001b[0;36m<module>\u001b[0;34m()\u001b[0m\n\u001b[1;32m      3\u001b[0m \u001b[0ml_2d\u001b[0m \u001b[0;34m=\u001b[0m \u001b[0;34m[\u001b[0m\u001b[0;34m[\u001b[0m\u001b[0;36m0\u001b[0m\u001b[0;34m,\u001b[0m \u001b[0;36m1\u001b[0m\u001b[0;34m]\u001b[0m\u001b[0;34m,\u001b[0m \u001b[0;36m2\u001b[0m\u001b[0;34m,\u001b[0m \u001b[0;36m3\u001b[0m\u001b[0;34m]\u001b[0m\u001b[0;34m\u001b[0m\u001b[0;34m\u001b[0m\u001b[0m\n\u001b[1;32m      4\u001b[0m \u001b[0;34m\u001b[0m\u001b[0m\n\u001b[0;32m----> 5\u001b[0;31m \u001b[0mprint\u001b[0m\u001b[0;34m(\u001b[0m\u001b[0mlist\u001b[0m\u001b[0;34m(\u001b[0m\u001b[0mitertools\u001b[0m\u001b[0;34m.\u001b[0m\u001b[0mchain\u001b[0m\u001b[0;34m.\u001b[0m\u001b[0mfrom_iterable\u001b[0m\u001b[0;34m(\u001b[0m\u001b[0ml_2d\u001b[0m\u001b[0;34m)\u001b[0m\u001b[0;34m)\u001b[0m\u001b[0;34m)\u001b[0m\u001b[0;34m\u001b[0m\u001b[0;34m\u001b[0m\u001b[0m\n\u001b[0m\u001b[1;32m      6\u001b[0m \u001b[0;31m# [0, 1, 2, 3]\u001b[0m\u001b[0;34m\u001b[0m\u001b[0;34m\u001b[0m\u001b[0;34m\u001b[0m\u001b[0m\n",
      "\u001b[0;31mTypeError\u001b[0m: 'int' object is not iterable"
     ]
    }
   ],
   "source": [
    "import itertools\n",
    "\n",
    "l_2d = [[0, 1], 2, 3]\n",
    "\n",
    "print(list(itertools.chain.from_iterable(l_2d)))\n",
    "# [0, 1, 2, 3]"
   ]
  },
  {
   "cell_type": "code",
   "execution_count": 151,
   "metadata": {},
   "outputs": [
    {
     "data": {
      "text/plain": [
       "['A', 'D', 'E']"
      ]
     },
     "execution_count": 151,
     "metadata": {},
     "output_type": "execute_result"
    }
   ],
   "source": [
    "keyT=[1,4,5]\n",
    "[Node[i] for i in keyT] "
   ]
  },
  {
   "cell_type": "code",
   "execution_count": 168,
   "metadata": {},
   "outputs": [
    {
     "data": {
      "text/plain": [
       "False"
      ]
     },
     "execution_count": 168,
     "metadata": {},
     "output_type": "execute_result"
    }
   ],
   "source": [
    "type(1)\n",
    "type([1])\n",
    "i=[1]\n",
    "type(i)==list\n",
    "type(i)!=list"
   ]
  },
  {
   "cell_type": "code",
   "execution_count": null,
   "metadata": {},
   "outputs": [],
   "source": []
  }
 ],
 "metadata": {
  "kernelspec": {
   "display_name": "Python 3",
   "language": "python",
   "name": "python3"
  },
  "language_info": {
   "codemirror_mode": {
    "name": "ipython",
    "version": 3
   },
   "file_extension": ".py",
   "mimetype": "text/x-python",
   "name": "python",
   "nbconvert_exporter": "python",
   "pygments_lexer": "ipython3",
   "version": "3.7.7"
  }
 },
 "nbformat": 4,
 "nbformat_minor": 2
}
